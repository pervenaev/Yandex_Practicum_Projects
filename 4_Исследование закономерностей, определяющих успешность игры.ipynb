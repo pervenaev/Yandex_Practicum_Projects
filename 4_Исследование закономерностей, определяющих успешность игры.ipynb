{
 "cells": [
  {
   "cell_type": "markdown",
   "metadata": {},
   "source": [
    "# Сборный проект. Исследование закономерностей, определяющих успешность игры."
   ]
  },
  {
   "cell_type": "markdown",
   "metadata": {},
   "source": [
    "Вы работаете в интернет-магазине «Стримчик», который продаёт по всему миру компьютерные игры. Из открытых источников доступны исторические данные о продажах игр, оценки пользователей и экспертов, жанры и платформы (например, Xbox или PlayStation). Вам нужно выявить определяющие успешность игры закономерности. Это позволит сделать ставку на потенциально популярный продукт и спланировать рекламные кампании. Перед вами данные до 2016 года. Представим, что сейчас декабрь 2016 г., и вы планируете кампанию на 2017-й. Нужно отработать принцип работы с данными. Неважно, прогнозируете ли вы продажи на 2017 год по данным 2016-го или же 2027-й — по данным 2026 года. В наборе данных попадается аббревиатура ESRB (Entertainment Software Rating Board) — это ассоциация, определяющая возрастной рейтинг компьютерных игр. ESRB оценивает игровой контент и присваивает ему подходящую возрастную категорию, например, «Для взрослых», «Для детей младшего возраста» или «Для подростков»."
   ]
  },
  {
   "cell_type": "markdown",
   "metadata": {},
   "source": [
    "## Изучение данных"
   ]
  },
  {
   "cell_type": "code",
   "execution_count": 1,
   "metadata": {},
   "outputs": [],
   "source": [
    "import pandas as pd # импортирую библиотеки, которые понадобятся для выполнения проекта\n",
    "import numpy as np\n",
    "import matplotlib.pyplot as plt\n",
    "from datetime import datetime\n",
    "from scipy import stats as st\n",
    "import seaborn as sns\n"
   ]
  },
  {
   "cell_type": "code",
   "execution_count": 2,
   "metadata": {},
   "outputs": [
    {
     "data": {
      "text/html": [
       "<div>\n",
       "<style scoped>\n",
       "    .dataframe tbody tr th:only-of-type {\n",
       "        vertical-align: middle;\n",
       "    }\n",
       "\n",
       "    .dataframe tbody tr th {\n",
       "        vertical-align: top;\n",
       "    }\n",
       "\n",
       "    .dataframe thead th {\n",
       "        text-align: right;\n",
       "    }\n",
       "</style>\n",
       "<table border=\"1\" class=\"dataframe\">\n",
       "  <thead>\n",
       "    <tr style=\"text-align: right;\">\n",
       "      <th></th>\n",
       "      <th>Name</th>\n",
       "      <th>Platform</th>\n",
       "      <th>Year_of_Release</th>\n",
       "      <th>Genre</th>\n",
       "      <th>NA_sales</th>\n",
       "      <th>EU_sales</th>\n",
       "      <th>JP_sales</th>\n",
       "      <th>Other_sales</th>\n",
       "      <th>Critic_Score</th>\n",
       "      <th>User_Score</th>\n",
       "      <th>Rating</th>\n",
       "    </tr>\n",
       "  </thead>\n",
       "  <tbody>\n",
       "    <tr>\n",
       "      <td>0</td>\n",
       "      <td>Wii Sports</td>\n",
       "      <td>Wii</td>\n",
       "      <td>2006.0</td>\n",
       "      <td>Sports</td>\n",
       "      <td>41.36</td>\n",
       "      <td>28.96</td>\n",
       "      <td>3.77</td>\n",
       "      <td>8.45</td>\n",
       "      <td>76.0</td>\n",
       "      <td>8</td>\n",
       "      <td>E</td>\n",
       "    </tr>\n",
       "    <tr>\n",
       "      <td>1</td>\n",
       "      <td>Super Mario Bros.</td>\n",
       "      <td>NES</td>\n",
       "      <td>1985.0</td>\n",
       "      <td>Platform</td>\n",
       "      <td>29.08</td>\n",
       "      <td>3.58</td>\n",
       "      <td>6.81</td>\n",
       "      <td>0.77</td>\n",
       "      <td>NaN</td>\n",
       "      <td>NaN</td>\n",
       "      <td>NaN</td>\n",
       "    </tr>\n",
       "    <tr>\n",
       "      <td>2</td>\n",
       "      <td>Mario Kart Wii</td>\n",
       "      <td>Wii</td>\n",
       "      <td>2008.0</td>\n",
       "      <td>Racing</td>\n",
       "      <td>15.68</td>\n",
       "      <td>12.76</td>\n",
       "      <td>3.79</td>\n",
       "      <td>3.29</td>\n",
       "      <td>82.0</td>\n",
       "      <td>8.3</td>\n",
       "      <td>E</td>\n",
       "    </tr>\n",
       "    <tr>\n",
       "      <td>3</td>\n",
       "      <td>Wii Sports Resort</td>\n",
       "      <td>Wii</td>\n",
       "      <td>2009.0</td>\n",
       "      <td>Sports</td>\n",
       "      <td>15.61</td>\n",
       "      <td>10.93</td>\n",
       "      <td>3.28</td>\n",
       "      <td>2.95</td>\n",
       "      <td>80.0</td>\n",
       "      <td>8</td>\n",
       "      <td>E</td>\n",
       "    </tr>\n",
       "    <tr>\n",
       "      <td>4</td>\n",
       "      <td>Pokemon Red/Pokemon Blue</td>\n",
       "      <td>GB</td>\n",
       "      <td>1996.0</td>\n",
       "      <td>Role-Playing</td>\n",
       "      <td>11.27</td>\n",
       "      <td>8.89</td>\n",
       "      <td>10.22</td>\n",
       "      <td>1.00</td>\n",
       "      <td>NaN</td>\n",
       "      <td>NaN</td>\n",
       "      <td>NaN</td>\n",
       "    </tr>\n",
       "    <tr>\n",
       "      <td>...</td>\n",
       "      <td>...</td>\n",
       "      <td>...</td>\n",
       "      <td>...</td>\n",
       "      <td>...</td>\n",
       "      <td>...</td>\n",
       "      <td>...</td>\n",
       "      <td>...</td>\n",
       "      <td>...</td>\n",
       "      <td>...</td>\n",
       "      <td>...</td>\n",
       "      <td>...</td>\n",
       "    </tr>\n",
       "    <tr>\n",
       "      <td>16710</td>\n",
       "      <td>Samurai Warriors: Sanada Maru</td>\n",
       "      <td>PS3</td>\n",
       "      <td>2016.0</td>\n",
       "      <td>Action</td>\n",
       "      <td>0.00</td>\n",
       "      <td>0.00</td>\n",
       "      <td>0.01</td>\n",
       "      <td>0.00</td>\n",
       "      <td>NaN</td>\n",
       "      <td>NaN</td>\n",
       "      <td>NaN</td>\n",
       "    </tr>\n",
       "    <tr>\n",
       "      <td>16711</td>\n",
       "      <td>LMA Manager 2007</td>\n",
       "      <td>X360</td>\n",
       "      <td>2006.0</td>\n",
       "      <td>Sports</td>\n",
       "      <td>0.00</td>\n",
       "      <td>0.01</td>\n",
       "      <td>0.00</td>\n",
       "      <td>0.00</td>\n",
       "      <td>NaN</td>\n",
       "      <td>NaN</td>\n",
       "      <td>NaN</td>\n",
       "    </tr>\n",
       "    <tr>\n",
       "      <td>16712</td>\n",
       "      <td>Haitaka no Psychedelica</td>\n",
       "      <td>PSV</td>\n",
       "      <td>2016.0</td>\n",
       "      <td>Adventure</td>\n",
       "      <td>0.00</td>\n",
       "      <td>0.00</td>\n",
       "      <td>0.01</td>\n",
       "      <td>0.00</td>\n",
       "      <td>NaN</td>\n",
       "      <td>NaN</td>\n",
       "      <td>NaN</td>\n",
       "    </tr>\n",
       "    <tr>\n",
       "      <td>16713</td>\n",
       "      <td>Spirits &amp; Spells</td>\n",
       "      <td>GBA</td>\n",
       "      <td>2003.0</td>\n",
       "      <td>Platform</td>\n",
       "      <td>0.01</td>\n",
       "      <td>0.00</td>\n",
       "      <td>0.00</td>\n",
       "      <td>0.00</td>\n",
       "      <td>NaN</td>\n",
       "      <td>NaN</td>\n",
       "      <td>NaN</td>\n",
       "    </tr>\n",
       "    <tr>\n",
       "      <td>16714</td>\n",
       "      <td>Winning Post 8 2016</td>\n",
       "      <td>PSV</td>\n",
       "      <td>2016.0</td>\n",
       "      <td>Simulation</td>\n",
       "      <td>0.00</td>\n",
       "      <td>0.00</td>\n",
       "      <td>0.01</td>\n",
       "      <td>0.00</td>\n",
       "      <td>NaN</td>\n",
       "      <td>NaN</td>\n",
       "      <td>NaN</td>\n",
       "    </tr>\n",
       "  </tbody>\n",
       "</table>\n",
       "<p>16715 rows × 11 columns</p>\n",
       "</div>"
      ],
      "text/plain": [
       "                                Name Platform  Year_of_Release         Genre  \\\n",
       "0                         Wii Sports      Wii           2006.0        Sports   \n",
       "1                  Super Mario Bros.      NES           1985.0      Platform   \n",
       "2                     Mario Kart Wii      Wii           2008.0        Racing   \n",
       "3                  Wii Sports Resort      Wii           2009.0        Sports   \n",
       "4           Pokemon Red/Pokemon Blue       GB           1996.0  Role-Playing   \n",
       "...                              ...      ...              ...           ...   \n",
       "16710  Samurai Warriors: Sanada Maru      PS3           2016.0        Action   \n",
       "16711               LMA Manager 2007     X360           2006.0        Sports   \n",
       "16712        Haitaka no Psychedelica      PSV           2016.0     Adventure   \n",
       "16713               Spirits & Spells      GBA           2003.0      Platform   \n",
       "16714            Winning Post 8 2016      PSV           2016.0    Simulation   \n",
       "\n",
       "       NA_sales  EU_sales  JP_sales  Other_sales  Critic_Score User_Score  \\\n",
       "0         41.36     28.96      3.77         8.45          76.0          8   \n",
       "1         29.08      3.58      6.81         0.77           NaN        NaN   \n",
       "2         15.68     12.76      3.79         3.29          82.0        8.3   \n",
       "3         15.61     10.93      3.28         2.95          80.0          8   \n",
       "4         11.27      8.89     10.22         1.00           NaN        NaN   \n",
       "...         ...       ...       ...          ...           ...        ...   \n",
       "16710      0.00      0.00      0.01         0.00           NaN        NaN   \n",
       "16711      0.00      0.01      0.00         0.00           NaN        NaN   \n",
       "16712      0.00      0.00      0.01         0.00           NaN        NaN   \n",
       "16713      0.01      0.00      0.00         0.00           NaN        NaN   \n",
       "16714      0.00      0.00      0.01         0.00           NaN        NaN   \n",
       "\n",
       "      Rating  \n",
       "0          E  \n",
       "1        NaN  \n",
       "2          E  \n",
       "3          E  \n",
       "4        NaN  \n",
       "...      ...  \n",
       "16710    NaN  \n",
       "16711    NaN  \n",
       "16712    NaN  \n",
       "16713    NaN  \n",
       "16714    NaN  \n",
       "\n",
       "[16715 rows x 11 columns]"
      ]
     },
     "metadata": {},
     "output_type": "display_data"
    },
    {
     "name": "stdout",
     "output_type": "stream",
     "text": [
      "<class 'pandas.core.frame.DataFrame'>\n",
      "RangeIndex: 16715 entries, 0 to 16714\n",
      "Data columns (total 11 columns):\n",
      "Name               16713 non-null object\n",
      "Platform           16715 non-null object\n",
      "Year_of_Release    16446 non-null float64\n",
      "Genre              16713 non-null object\n",
      "NA_sales           16715 non-null float64\n",
      "EU_sales           16715 non-null float64\n",
      "JP_sales           16715 non-null float64\n",
      "Other_sales        16715 non-null float64\n",
      "Critic_Score       8137 non-null float64\n",
      "User_Score         10014 non-null object\n",
      "Rating             9949 non-null object\n",
      "dtypes: float64(6), object(5)\n",
      "memory usage: 1.4+ MB\n"
     ]
    }
   ],
   "source": [
    "df=pd.read_csv('/datasets/games.csv')\n",
    "display(df) # .head() не использую, чтобы увидеть и последние строки датасета\n",
    "df.info()"
   ]
  },
  {
   "cell_type": "markdown",
   "metadata": {},
   "source": [
    "**Полученные данные требуют предобработки:**\n",
    "\n",
    "1. название столбцов необходимо привести к нижнему регистру;\n",
    "2. обработать пропущенные значения:\n",
    "- в столбце \"name\" всего 2 пропуска, можно попробовать вручную отыскать пропущенные названия по имеющимся данным (год выпуска, продажи, рейтинги)\n",
    "- в \"year_of_release\" 269 пропущенных значений, отыскивать их вручную слишком долго, качественно заменить их по другому мы не сможем (категориальная переменная), поэтому оставим этот столбец как есть, тем более количество пропусков относительно всего датасета незначительно.\n",
    "- а вот в столбцах \"сritic_score\", \"user_score\", \"rating\" очень много пропущенных значений, возможно это связано с тем, что раньше не собирались данные об оценках от игроков и критиков, рейтингах и т.д., поэтому таких данных в таблице нет, заменить их средним/медианным нельзя, поскольку это значительно исказит общую картину при анализе (очень много пропусков), поэтому в столбцах \"сritic_score\" и \"user_score\" следует заменить NaN-ы на невозможное для этих столбцов значение (999 например), таким образом при работе с данными можно будет отсортировать пропущенные значения, отделив их от реальных данных, а в столбце \"rating\" заменить пропуски значением \"unknown\";\n",
    "3. изменить типы данных следующих столбцов:\n",
    "- \"year_of_release\" - int64 (обозначение года не требует значков после запятой),\n",
    "- \"сritic_score\" - int64 (оценка критиков имеет целочисленное значение),\n",
    "- \"user_score\" - float64 (оценка пользователей не может иметь тип \"object\");\n",
    "4. в столбце \"rating\" имеется неявный дубликат: значение К-А - это устаревшее обозначение рейтинга Е, К-А необходимо заменить на Е\n",
    "5. проверить на наличие дубликатов и избавиться от них при наличии"
   ]
  },
  {
   "cell_type": "markdown",
   "metadata": {},
   "source": [
    "## Предобработка данных"
   ]
  },
  {
   "cell_type": "markdown",
   "metadata": {},
   "source": [
    " 1. Меняем названия столбцов, сменив регистр на нижний:"
   ]
  },
  {
   "cell_type": "code",
   "execution_count": 3,
   "metadata": {},
   "outputs": [],
   "source": [
    "df.columns = df.columns.str.lower()"
   ]
  },
  {
   "cell_type": "markdown",
   "metadata": {},
   "source": [
    "2. Обработаем пропуски в столбцах, отмеченных выше:\n",
    "- \"name\""
   ]
  },
  {
   "cell_type": "code",
   "execution_count": 4,
   "metadata": {},
   "outputs": [
    {
     "data": {
      "text/html": [
       "<div>\n",
       "<style scoped>\n",
       "    .dataframe tbody tr th:only-of-type {\n",
       "        vertical-align: middle;\n",
       "    }\n",
       "\n",
       "    .dataframe tbody tr th {\n",
       "        vertical-align: top;\n",
       "    }\n",
       "\n",
       "    .dataframe thead th {\n",
       "        text-align: right;\n",
       "    }\n",
       "</style>\n",
       "<table border=\"1\" class=\"dataframe\">\n",
       "  <thead>\n",
       "    <tr style=\"text-align: right;\">\n",
       "      <th></th>\n",
       "      <th>name</th>\n",
       "      <th>platform</th>\n",
       "      <th>year_of_release</th>\n",
       "      <th>genre</th>\n",
       "      <th>na_sales</th>\n",
       "      <th>eu_sales</th>\n",
       "      <th>jp_sales</th>\n",
       "      <th>other_sales</th>\n",
       "      <th>critic_score</th>\n",
       "      <th>user_score</th>\n",
       "      <th>rating</th>\n",
       "    </tr>\n",
       "  </thead>\n",
       "  <tbody>\n",
       "    <tr>\n",
       "      <td>659</td>\n",
       "      <td>NaN</td>\n",
       "      <td>GEN</td>\n",
       "      <td>1993.0</td>\n",
       "      <td>NaN</td>\n",
       "      <td>1.78</td>\n",
       "      <td>0.53</td>\n",
       "      <td>0.00</td>\n",
       "      <td>0.08</td>\n",
       "      <td>NaN</td>\n",
       "      <td>NaN</td>\n",
       "      <td>NaN</td>\n",
       "    </tr>\n",
       "    <tr>\n",
       "      <td>14244</td>\n",
       "      <td>NaN</td>\n",
       "      <td>GEN</td>\n",
       "      <td>1993.0</td>\n",
       "      <td>NaN</td>\n",
       "      <td>0.00</td>\n",
       "      <td>0.00</td>\n",
       "      <td>0.03</td>\n",
       "      <td>0.00</td>\n",
       "      <td>NaN</td>\n",
       "      <td>NaN</td>\n",
       "      <td>NaN</td>\n",
       "    </tr>\n",
       "  </tbody>\n",
       "</table>\n",
       "</div>"
      ],
      "text/plain": [
       "      name platform  year_of_release genre  na_sales  eu_sales  jp_sales  \\\n",
       "659    NaN      GEN           1993.0   NaN      1.78      0.53      0.00   \n",
       "14244  NaN      GEN           1993.0   NaN      0.00      0.00      0.03   \n",
       "\n",
       "       other_sales  critic_score user_score rating  \n",
       "659           0.08           NaN        NaN    NaN  \n",
       "14244         0.00           NaN        NaN    NaN  "
      ]
     },
     "execution_count": 4,
     "metadata": {},
     "output_type": "execute_result"
    }
   ],
   "source": [
    "df[df['name'].isnull()]"
   ]
  },
  {
   "cell_type": "markdown",
   "metadata": {},
   "source": [
    "В первом случае имеем в распоряжении данные о годе выпуска, платформе и о продажах, по ним определить название игры не получилось (либо я плохо умею гуглить), во втором случае данных еще меньше. Поскольку определить названия игр нет возможности и, судя по данным о продажах, это не самые популярные игры, можно удалить эти строки из датасета, влияния на общую картину анализа от удаления не будет. Строк, с пропущенным годом релиза, незначительное количество, их тоже можно удалить."
   ]
  },
  {
   "cell_type": "code",
   "execution_count": 1,
   "metadata": {},
   "outputs": [
    {
     "ename": "NameError",
     "evalue": "name 'df' is not defined",
     "output_type": "error",
     "traceback": [
      "\u001b[0;31m---------------------------------------------------------------------------\u001b[0m",
      "\u001b[0;31mNameError\u001b[0m                                 Traceback (most recent call last)",
      "\u001b[0;32m/tmp/ipykernel_101/3749153204.py\u001b[0m in \u001b[0;36m<module>\u001b[0;34m\u001b[0m\n\u001b[0;32m----> 1\u001b[0;31m \u001b[0mdf\u001b[0m \u001b[0;34m=\u001b[0m \u001b[0mdf\u001b[0m\u001b[0;34m.\u001b[0m\u001b[0mdropna\u001b[0m\u001b[0;34m(\u001b[0m\u001b[0msubset\u001b[0m\u001b[0;34m=\u001b[0m\u001b[0;34m[\u001b[0m\u001b[0;34m'name'\u001b[0m\u001b[0;34m]\u001b[0m\u001b[0;34m)\u001b[0m\u001b[0;34m.\u001b[0m\u001b[0mreset_index\u001b[0m\u001b[0;34m(\u001b[0m\u001b[0mdrop\u001b[0m\u001b[0;34m=\u001b[0m\u001b[0;32mTrue\u001b[0m\u001b[0;34m)\u001b[0m\u001b[0;34m\u001b[0m\u001b[0;34m\u001b[0m\u001b[0m\n\u001b[0m\u001b[1;32m      2\u001b[0m \u001b[0mdf\u001b[0m \u001b[0;34m=\u001b[0m \u001b[0mdf\u001b[0m\u001b[0;34m.\u001b[0m\u001b[0mdropna\u001b[0m\u001b[0;34m(\u001b[0m\u001b[0msubset\u001b[0m\u001b[0;34m=\u001b[0m\u001b[0;34m[\u001b[0m\u001b[0;34m'year_of_release'\u001b[0m\u001b[0;34m]\u001b[0m\u001b[0;34m)\u001b[0m\u001b[0;34m.\u001b[0m\u001b[0mreset_index\u001b[0m\u001b[0;34m(\u001b[0m\u001b[0mdrop\u001b[0m\u001b[0;34m=\u001b[0m\u001b[0;32mTrue\u001b[0m\u001b[0;34m)\u001b[0m\u001b[0;34m\u001b[0m\u001b[0;34m\u001b[0m\u001b[0m\n",
      "\u001b[0;31mNameError\u001b[0m: name 'df' is not defined"
     ]
    }
   ],
   "source": [
    "df = df.dropna(subset=['name']).reset_index(drop=True)\n",
    "df = df.dropna(subset=['year_of_release']).reset_index(drop=True)"
   ]
  },
  {
   "cell_type": "markdown",
   "metadata": {},
   "source": [
    "-  \"сritic_score\", \"user_score\" и \"rating\"\n",
    "\n",
    "Как отмечалось выше, поскольку в этих столбцах удалить или качественно заменить пропуски нельзя, для дальнейшей работы пропущенные значения следует заполнить нерациональными данными (999). Но прежде обратимся к столбцу \"user_score\", поскольку его тип данных \"object\", что странно для числовых данных:"
   ]
  },
  {
   "cell_type": "code",
   "execution_count": 7,
   "metadata": {},
   "outputs": [
    {
     "data": {
      "text/plain": [
       "array(['8', nan, '8.3', '8.5', '6.6', '8.4', '8.6', '7.7', '6.3', '7.4',\n",
       "       '8.2', '9', '7.9', '8.1', '8.7', '7.1', '3.4', '5.3', '4.8', '3.2',\n",
       "       '8.9', '6.4', '7.8', '7.5', '2.6', '7.2', '9.2', '7', '7.3', '4.3',\n",
       "       '7.6', '5.7', '5', '9.1', '6.5', 'tbd', '8.8', '6.9', '9.4', '6.8',\n",
       "       '6.1', '6.7', '5.4', '4', '4.9', '4.5', '9.3', '6.2', '4.2', '6',\n",
       "       '3.7', '4.1', '5.8', '5.6', '5.5', '4.4', '4.6', '5.9', '3.9',\n",
       "       '3.1', '2.9', '5.2', '3.3', '4.7', '5.1', '3.5', '2.5', '1.9', '3',\n",
       "       '2.7', '2.2', '2', '9.5', '2.1', '3.6', '2.8', '1.8', '3.8', '0',\n",
       "       '1.6', '9.6', '2.4', '1.7', '1.1', '0.3', '1.5', '0.7', '1.2',\n",
       "       '2.3', '0.5', '1.3', '0.2', '0.6', '1.4', '0.9', '1', '9.7'],\n",
       "      dtype=object)"
      ]
     },
     "execution_count": 7,
     "metadata": {},
     "output_type": "execute_result"
    }
   ],
   "source": [
    "df['user_score'].unique()"
   ]
  },
  {
   "cell_type": "markdown",
   "metadata": {},
   "source": [
    "Данный столбец имеет среди значений аббревиатуру 'tbd', что означает \"To Be Determined\" - в переводе \" Предстоит определить\", т.е. рейтинг не определен, возможно из-за малого количества либо вовсе отсутствия оценок от пользователей. Фактически 'tbd' является пропущенным значением в нашей таблице, т.е. NaN-ом, поэтому его также заменим на 999. "
   ]
  },
  {
   "cell_type": "code",
   "execution_count": 8,
   "metadata": {},
   "outputs": [],
   "source": [
    "df['user_score'] = df['user_score'].replace('tbd', np.NaN)\n",
    "for column in ['critic_score', 'user_score']:\n",
    "    df[column] = df[column].fillna(999)"
   ]
  },
  {
   "cell_type": "code",
   "execution_count": 9,
   "metadata": {},
   "outputs": [],
   "source": [
    "df['rating'] = df['rating'].fillna('unknown')"
   ]
  },
  {
   "cell_type": "markdown",
   "metadata": {},
   "source": [
    "3. Изменим типы данных в столбцах \"year_of_release\", \"сritic_score\" и  \"user_score\""
   ]
  },
  {
   "cell_type": "code",
   "execution_count": 10,
   "metadata": {
    "scrolled": true
   },
   "outputs": [
    {
     "name": "stdout",
     "output_type": "stream",
     "text": [
      "<class 'pandas.core.frame.DataFrame'>\n",
      "RangeIndex: 16444 entries, 0 to 16443\n",
      "Data columns (total 11 columns):\n",
      "name               16444 non-null object\n",
      "platform           16444 non-null object\n",
      "year_of_release    16444 non-null Int64\n",
      "genre              16444 non-null object\n",
      "na_sales           16444 non-null float64\n",
      "eu_sales           16444 non-null float64\n",
      "jp_sales           16444 non-null float64\n",
      "other_sales        16444 non-null float64\n",
      "critic_score       16444 non-null Int64\n",
      "user_score         16444 non-null float64\n",
      "rating             16444 non-null object\n",
      "dtypes: Int64(2), float64(5), object(4)\n",
      "memory usage: 1.4+ MB\n"
     ]
    }
   ],
   "source": [
    "df['year_of_release'] = df['year_of_release'].astype('Int64')\n",
    "df['critic_score'] = df['critic_score'].astype('Int64')\n",
    "df['user_score'] = df['user_score'].astype('float64')\n",
    "df.info()"
   ]
  },
  {
   "cell_type": "markdown",
   "metadata": {},
   "source": [
    "4. Заменим значения К-А на Е в столбце \"rating\""
   ]
  },
  {
   "cell_type": "code",
   "execution_count": 11,
   "metadata": {},
   "outputs": [
    {
     "data": {
      "text/plain": [
       "array(['E', 'unknown', 'M', 'T', 'E10+', 'AO', 'EC', 'RP'], dtype=object)"
      ]
     },
     "execution_count": 11,
     "metadata": {},
     "output_type": "execute_result"
    }
   ],
   "source": [
    "df['rating'] = df['rating'].replace('K-A', 'E')\n",
    "df['rating'].unique()"
   ]
  },
  {
   "cell_type": "markdown",
   "metadata": {},
   "source": [
    "5. Проверим на наличие дубликатов"
   ]
  },
  {
   "cell_type": "code",
   "execution_count": 12,
   "metadata": {},
   "outputs": [
    {
     "data": {
      "text/plain": [
       "('Количество дубликатов:', 0)"
      ]
     },
     "execution_count": 12,
     "metadata": {},
     "output_type": "execute_result"
    }
   ],
   "source": [
    "'Количество дубликатов:', df.duplicated().sum()"
   ]
  },
  {
   "cell_type": "markdown",
   "metadata": {},
   "source": [
    "6. Подсчитаем суммарные продажи и запишем результат в отдельный столбец \"total_sales\""
   ]
  },
  {
   "cell_type": "code",
   "execution_count": 13,
   "metadata": {},
   "outputs": [
    {
     "data": {
      "text/html": [
       "<div>\n",
       "<style scoped>\n",
       "    .dataframe tbody tr th:only-of-type {\n",
       "        vertical-align: middle;\n",
       "    }\n",
       "\n",
       "    .dataframe tbody tr th {\n",
       "        vertical-align: top;\n",
       "    }\n",
       "\n",
       "    .dataframe thead th {\n",
       "        text-align: right;\n",
       "    }\n",
       "</style>\n",
       "<table border=\"1\" class=\"dataframe\">\n",
       "  <thead>\n",
       "    <tr style=\"text-align: right;\">\n",
       "      <th></th>\n",
       "      <th>name</th>\n",
       "      <th>platform</th>\n",
       "      <th>year_of_release</th>\n",
       "      <th>genre</th>\n",
       "      <th>na_sales</th>\n",
       "      <th>eu_sales</th>\n",
       "      <th>jp_sales</th>\n",
       "      <th>other_sales</th>\n",
       "      <th>critic_score</th>\n",
       "      <th>user_score</th>\n",
       "      <th>rating</th>\n",
       "      <th>total_sales</th>\n",
       "    </tr>\n",
       "  </thead>\n",
       "  <tbody>\n",
       "    <tr>\n",
       "      <td>0</td>\n",
       "      <td>Wii Sports</td>\n",
       "      <td>Wii</td>\n",
       "      <td>2006</td>\n",
       "      <td>Sports</td>\n",
       "      <td>41.36</td>\n",
       "      <td>28.96</td>\n",
       "      <td>3.77</td>\n",
       "      <td>8.45</td>\n",
       "      <td>76</td>\n",
       "      <td>8.0</td>\n",
       "      <td>E</td>\n",
       "      <td>82.54</td>\n",
       "    </tr>\n",
       "    <tr>\n",
       "      <td>1</td>\n",
       "      <td>Super Mario Bros.</td>\n",
       "      <td>NES</td>\n",
       "      <td>1985</td>\n",
       "      <td>Platform</td>\n",
       "      <td>29.08</td>\n",
       "      <td>3.58</td>\n",
       "      <td>6.81</td>\n",
       "      <td>0.77</td>\n",
       "      <td>999</td>\n",
       "      <td>999.0</td>\n",
       "      <td>unknown</td>\n",
       "      <td>40.24</td>\n",
       "    </tr>\n",
       "    <tr>\n",
       "      <td>2</td>\n",
       "      <td>Mario Kart Wii</td>\n",
       "      <td>Wii</td>\n",
       "      <td>2008</td>\n",
       "      <td>Racing</td>\n",
       "      <td>15.68</td>\n",
       "      <td>12.76</td>\n",
       "      <td>3.79</td>\n",
       "      <td>3.29</td>\n",
       "      <td>82</td>\n",
       "      <td>8.3</td>\n",
       "      <td>E</td>\n",
       "      <td>35.52</td>\n",
       "    </tr>\n",
       "    <tr>\n",
       "      <td>3</td>\n",
       "      <td>Wii Sports Resort</td>\n",
       "      <td>Wii</td>\n",
       "      <td>2009</td>\n",
       "      <td>Sports</td>\n",
       "      <td>15.61</td>\n",
       "      <td>10.93</td>\n",
       "      <td>3.28</td>\n",
       "      <td>2.95</td>\n",
       "      <td>80</td>\n",
       "      <td>8.0</td>\n",
       "      <td>E</td>\n",
       "      <td>32.77</td>\n",
       "    </tr>\n",
       "    <tr>\n",
       "      <td>4</td>\n",
       "      <td>Pokemon Red/Pokemon Blue</td>\n",
       "      <td>GB</td>\n",
       "      <td>1996</td>\n",
       "      <td>Role-Playing</td>\n",
       "      <td>11.27</td>\n",
       "      <td>8.89</td>\n",
       "      <td>10.22</td>\n",
       "      <td>1.00</td>\n",
       "      <td>999</td>\n",
       "      <td>999.0</td>\n",
       "      <td>unknown</td>\n",
       "      <td>31.38</td>\n",
       "    </tr>\n",
       "  </tbody>\n",
       "</table>\n",
       "</div>"
      ],
      "text/plain": [
       "                       name platform  year_of_release         genre  na_sales  \\\n",
       "0                Wii Sports      Wii             2006        Sports     41.36   \n",
       "1         Super Mario Bros.      NES             1985      Platform     29.08   \n",
       "2            Mario Kart Wii      Wii             2008        Racing     15.68   \n",
       "3         Wii Sports Resort      Wii             2009        Sports     15.61   \n",
       "4  Pokemon Red/Pokemon Blue       GB             1996  Role-Playing     11.27   \n",
       "\n",
       "   eu_sales  jp_sales  other_sales  critic_score  user_score   rating  \\\n",
       "0     28.96      3.77         8.45            76         8.0        E   \n",
       "1      3.58      6.81         0.77           999       999.0  unknown   \n",
       "2     12.76      3.79         3.29            82         8.3        E   \n",
       "3     10.93      3.28         2.95            80         8.0        E   \n",
       "4      8.89     10.22         1.00           999       999.0  unknown   \n",
       "\n",
       "   total_sales  \n",
       "0        82.54  \n",
       "1        40.24  \n",
       "2        35.52  \n",
       "3        32.77  \n",
       "4        31.38  "
      ]
     },
     "execution_count": 13,
     "metadata": {},
     "output_type": "execute_result"
    }
   ],
   "source": [
    "df['total_sales'] = df['na_sales'] + df['eu_sales'] + df['jp_sales'] + df['other_sales']\n",
    "df.head()"
   ]
  },
  {
   "cell_type": "markdown",
   "metadata": {},
   "source": [
    "Выявленные недостатки в данных устранены, датасет готов для дальнейшего анализа."
   ]
  },
  {
   "cell_type": "markdown",
   "metadata": {},
   "source": [
    "## Исследовательский анализ данных"
   ]
  },
  {
   "cell_type": "markdown",
   "metadata": {},
   "source": [
    "1. •\tСколько игр выпускалось в разные годы? Важны ли данные за все периоды?\n",
    "\n",
    "Сгруппируем количество игр по году выпуска и построим гистограмму:"
   ]
  },
  {
   "cell_type": "code",
   "execution_count": 14,
   "metadata": {},
   "outputs": [
    {
     "data": {
      "text/plain": [
       "year_of_release\n",
       "1980       9\n",
       "1981      46\n",
       "1982      36\n",
       "1983      17\n",
       "1984      14\n",
       "1985      14\n",
       "1986      21\n",
       "1987      16\n",
       "1988      15\n",
       "1989      17\n",
       "1990      16\n",
       "1991      41\n",
       "1992      43\n",
       "1993      60\n",
       "1994     121\n",
       "1995     219\n",
       "1996     263\n",
       "1997     289\n",
       "1998     379\n",
       "1999     338\n",
       "2000     350\n",
       "2001     482\n",
       "2002     829\n",
       "2003     775\n",
       "2004     762\n",
       "2005     939\n",
       "2006    1006\n",
       "2007    1197\n",
       "2008    1427\n",
       "2009    1426\n",
       "2010    1255\n",
       "2011    1136\n",
       "2012     653\n",
       "2013     544\n",
       "2014     581\n",
       "2015     606\n",
       "2016     502\n",
       "Name: name, dtype: int64"
      ]
     },
     "metadata": {},
     "output_type": "display_data"
    },
    {
     "data": {
      "text/plain": [
       "Text(0, 0.5, 'Количество выпущенных игр')"
      ]
     },
     "execution_count": 14,
     "metadata": {},
     "output_type": "execute_result"
    },
    {
     "data": {
      "image/png": "[encoded data removed]",
      "text/plain": [
       "<Figure size 1080x360 with 1 Axes>"
      ]
     },
     "metadata": {
      "needs_background": "light"
     },
     "output_type": "display_data"
    }
   ],
   "source": [
    "games_by_years=df.groupby('year_of_release')['name'].count() #группирую данные по году выпуска\n",
    "display(games_by_years)\n",
    "games_by_years.plot(kind='bar', y='name', figsize=(15,5), ec='black') # строим диаграмму распределения игр по году выпуска\n",
    "plt.title('Распределение выпуска игр по дате')\n",
    "plt.xlabel('Год выпуска игры')\n",
    "plt.ylabel('Количество выпущенных игр')"
   ]
  },
  {
   "cell_type": "markdown",
   "metadata": {},
   "source": [
    "Судя по полученным данным и графику можно сказать, что в 80-е годы спрос на игры был незначительным. С начала 90-ых начался рост выпуска новых видеоигр, связано это скорее всего с их развитием (3D графика, новые жанры, новые возможности игры), а также доступностью для масс ПК и игровых консолей. С развитием видеоигр в 2000-ых наблюдается резкий рост, пик приходится на 2008-2009 годы. После чего популярность игр, а собственно и выпуск новых, начинает снижаться. Связано такое падение скорее всего с развитием мобильных устройств и игр на них. Начиная с 2012 года и до конца исследуемого периода выпуск новых видеоигр остается примерно на одном уровне, около 500 в год. Подводя итог можно ответить и на второй вопрос: \"Важны ли данные за все периоды?\". Ответ - да, важны."
   ]
  },
  {
   "cell_type": "markdown",
   "metadata": {},
   "source": [
    "2.  •\tКак менялись продажи по платформам? \n",
    "\n",
    "Здесь также сгруппируем данные и построим гистограмму:"
   ]
  },
  {
   "cell_type": "code",
   "execution_count": 15,
   "metadata": {},
   "outputs": [
    {
     "data": {
      "text/plain": [
       "platform\n",
       "PS2     1233.56\n",
       "X360     961.24\n",
       "PS3      931.34\n",
       "Wii      891.18\n",
       "DS       802.78\n",
       "PS       727.58\n",
       "PS4      314.14\n",
       "GBA      312.88\n",
       "PSP      289.53\n",
       "3DS      257.81\n",
       "PC       255.76\n",
       "GB       254.43\n",
       "XB       251.57\n",
       "NES      251.05\n",
       "N64      218.01\n",
       "SNES     200.04\n",
       "GC       196.73\n",
       "XOne     159.32\n",
       "2600      86.48\n",
       "WiiU      82.19\n",
       "PSV       53.81\n",
       "SAT       33.59\n",
       "GEN       28.35\n",
       "DC        15.95\n",
       "SCD        1.86\n",
       "NG         1.44\n",
       "WS         1.42\n",
       "TG16       0.16\n",
       "3DO        0.10\n",
       "GG         0.04\n",
       "PCFX       0.03\n",
       "Name: total_sales, dtype: float64"
      ]
     },
     "metadata": {},
     "output_type": "display_data"
    },
    {
     "data": {
      "text/plain": [
       "Text(0, 0.5, 'Количество проданных игр, млн.')"
      ]
     },
     "execution_count": 15,
     "metadata": {},
     "output_type": "execute_result"
    },
    {
     "data": {
      "image/png": "[encoded data removed]",
      "text/plain": [
       "<Figure size 1080x720 with 1 Axes>"
      ]
     },
     "metadata": {
      "needs_background": "light"
     },
     "output_type": "display_data"
    }
   ],
   "source": [
    "sales_by_platform=df.groupby('platform')['total_sales'].sum().sort_values(ascending=False) # группируем данные, отсортировав их по убыванию количества продаж\n",
    "display(sales_by_platform)\n",
    "sales_by_platform.plot(kind='bar', y='total_sales', figsize=(15,10), ec='black') # строим диаграмму \n",
    "plt.title('Распределение продаж по платформам')\n",
    "plt.xlabel('Игровые платформы')\n",
    "plt.ylabel('Количество проданных игр, млн.')"
   ]
  },
  {
   "cell_type": "markdown",
   "metadata": {},
   "source": [
    "Безоговорочным лидером по количеству проданных игр является PlayStation 2, можно сказать легендарная консоль) Среди успешных консолей еще стоит отметить Xbox360, PlayStation 3, Nintendo Wii и DS, а также первая PlayStation. Показатели продаж видеоигр для других приставок значительно ниже лидеров."
   ]
  },
  {
   "cell_type": "markdown",
   "metadata": {},
   "source": [
    "- Выберем платформы с наибольшими суммарными продажами (топ 6) и построим распределение по годам. За какой характерный срок появляются новые и исчезают старые платформы?"
   ]
  },
  {
   "cell_type": "code",
   "execution_count": 16,
   "metadata": {},
   "outputs": [
    {
     "data": {
      "text/plain": [
       "Text(0.5, 0, 'Год выпуска игры')"
      ]
     },
     "execution_count": 16,
     "metadata": {},
     "output_type": "execute_result"
    },
    {
     "data": {
      "image/png": "[encoded data removed]",
      "text/plain": [
       "<Figure size 1440x720 with 1 Axes>"
      ]
     },
     "metadata": {
      "needs_background": "light"
     },
     "output_type": "display_data"
    }
   ],
   "source": [
    "platform_top_6 = sales_by_platform.head(6).index.to_list()   # формируем список из топ 6 платформ \n",
    "# создаем сводную таблицу по срезу данных\n",
    "platform_top_6_pivot = df.query('platform == @platform_top_6').pivot_table(index='year_of_release', columns='platform', values='total_sales', aggfunc='sum')  \n",
    "platform_top_6_pivot.plot(grid=True, figsize=(20, 10), style ='o-') # строим графики\n",
    "plt.xlim(1990, 2016)\n",
    "plt.title('Распределение продаж игр для платформ по годам ')\n",
    "plt.ylabel('Количество проданных копий, млн')\n",
    "plt.xlabel('Год выпуска игры')                                               "
   ]
  },
  {
   "cell_type": "markdown",
   "metadata": {},
   "source": [
    "По полученному графику можно примерно определить срок использования консолей:\n",
    "- PS около 10 лет, 1994-2003 гг.\n",
    "- PS2 около 11 лет, 2000-2011 гг.\n",
    "- PS3 около 10 лет, 2006-2016 гг. (пока еще используется, но с выходом PS4 спрос резко снизился в 2013 году)\n",
    "- DS около 9 лет, 2004-2013 гг.\n",
    "- Wii около 10 лет, 2006-2016 гг. (пока еще используется, но пик популярности далеко позади)\n",
    "- X360 около 11 лет 2005-2016 гг. (тоже еще используется, но сравнительно мало)\n",
    "\n",
    "Таким образом можно отметить, что средний срок службы игровых консолей около 10 лет, потом к ним на смену приходят обновленные модели, что резко сокращает спрос на уже используемые.\n"
   ]
  },
  {
   "cell_type": "markdown",
   "metadata": {},
   "source": [
    "3. Определение актуального периода на 2017 год\n",
    "\n",
    "Поскольку данные за 2016 год неполные, за актуальный период на 2017 год примем 3 последних года с полным объемом данных, т.е. период с 2013 года включительно, тем более, что в этом же году состоялся выпуск новых версий популярных консолей"
   ]
  },
  {
   "cell_type": "code",
   "execution_count": 17,
   "metadata": {
    "scrolled": true
   },
   "outputs": [
    {
     "data": {
      "text/plain": [
       "Text(0.5, 0, 'Год выпуска игры')"
      ]
     },
     "execution_count": 17,
     "metadata": {},
     "output_type": "execute_result"
    },
    {
     "data": {
      "image/png": "[encoded data removed]",
      "text/plain": [
       "<Figure size 864x432 with 1 Axes>"
      ]
     },
     "metadata": {
      "needs_background": "light"
     },
     "output_type": "display_data"
    }
   ],
   "source": [
    "df_after_2013 = df[df['year_of_release']>=2013] # определяем актуальный период\n",
    "# создаем сводную таблицу за выбранный период \n",
    "df_after_2013_pivot = df_after_2013.pivot_table(index='year_of_release', columns='platform', values='total_sales', aggfunc='sum')\n",
    "df_after_2013_pivot.plot(grid=True, figsize=(12, 6), style ='o-') # строим графики\n",
    "plt.xlim(2013, 2016)\n",
    "plt.title('Распределение продаж игр для платформ с 2013 года ')\n",
    "plt.ylabel('Количество проданных копий, млн')\n",
    "plt.xlabel('Год выпуска игры')  "
   ]
  },
  {
   "cell_type": "markdown",
   "metadata": {},
   "source": [
    "Судя по данным за актуальный период явным лидером среди платформ можно назвать PlayStation 4, определенной популярностью пользуются также Xbox One и Nintendo 3DS. Поэтому для определения потенциально прибыльных платформ на 2017 год можно смело делать выбор в пользу этих трёх консолей."
   ]
  },
  {
   "cell_type": "markdown",
   "metadata": {},
   "source": [
    "4. •\tГрафик «ящик с усами» по глобальным продажам игр в разбивке по платформам"
   ]
  },
  {
   "cell_type": "code",
   "execution_count": 18,
   "metadata": {},
   "outputs": [
    {
     "name": "stderr",
     "output_type": "stream",
     "text": [
      "/opt/conda/lib/python3.7/site-packages/numpy/core/_asarray.py:83: VisibleDeprecationWarning: Creating an ndarray from ragged nested sequences (which is a list-or-tuple of lists-or-tuples-or ndarrays with different lengths or shapes) is deprecated. If you meant to do this, you must specify 'dtype=object' when creating the ndarray\n",
      "  return array(a, dtype, copy=False, order=order)\n"
     ]
    },
    {
     "data": {
      "image/png": "[encoded data removed]",
      "text/plain": [
       "<Figure size 1440x720 with 1 Axes>"
      ]
     },
     "metadata": {
      "needs_background": "light"
     },
     "output_type": "display_data"
    }
   ],
   "source": [
    "promising_platforms = ['PS4', 'XOne', '3DS']\n",
    "df_plot_global_platform = df_after_2013.query(\"platform in @promising_platforms\").boxplot(column='total_sales', \n",
    "                                                                                          by=\"platform in @promising_platforms\".split()[0], \n",
    "                                                                                          fontsize=20, figsize=(20,10)).semilogy()"
   ]
  },
  {
   "cell_type": "markdown",
   "metadata": {},
   "source": [
    "Показатели PS4 и XOne примерно схожи - среднее значение около 0,65-0,7 млн. копий, медианное - 0,2-0,3 млн., причем медиана не стремится к верхней границе нормального размаха. \n",
    "А что касается 3DS, то здесь положение еще хуже. Среднее значение - 0,4 млн, медианное - 0,15 млн., нормальный размах значительно меньше, чем у PS4 и XOne, при этом большое количество выбросов.\n",
    "\n"
   ]
  },
  {
   "cell_type": "markdown",
   "metadata": {},
   "source": [
    "5. Влияние отзывов пользователей и критиков на продажи\n",
    "\n",
    "Для анализа возьмем самую популярную по количеству продаж платформу - PlayStation 2. Посчитаем корреляцию между отзывами и продажами и построим диаграмму рассеяния."
   ]
  },
  {
   "cell_type": "code",
   "execution_count": 19,
   "metadata": {},
   "outputs": [
    {
     "data": {
      "text/html": [
       "<div>\n",
       "<style scoped>\n",
       "    .dataframe tbody tr th:only-of-type {\n",
       "        vertical-align: middle;\n",
       "    }\n",
       "\n",
       "    .dataframe tbody tr th {\n",
       "        vertical-align: top;\n",
       "    }\n",
       "\n",
       "    .dataframe thead th {\n",
       "        text-align: right;\n",
       "    }\n",
       "</style>\n",
       "<table border=\"1\" class=\"dataframe\">\n",
       "  <thead>\n",
       "    <tr style=\"text-align: right;\">\n",
       "      <th></th>\n",
       "      <th>total_sales</th>\n",
       "      <th>user_score</th>\n",
       "      <th>critic_score</th>\n",
       "    </tr>\n",
       "  </thead>\n",
       "  <tbody>\n",
       "    <tr>\n",
       "      <td>total_sales</td>\n",
       "      <td>1.000000</td>\n",
       "      <td>0.171690</td>\n",
       "      <td>0.386415</td>\n",
       "    </tr>\n",
       "    <tr>\n",
       "      <td>user_score</td>\n",
       "      <td>0.171690</td>\n",
       "      <td>1.000000</td>\n",
       "      <td>0.565841</td>\n",
       "    </tr>\n",
       "    <tr>\n",
       "      <td>critic_score</td>\n",
       "      <td>0.386415</td>\n",
       "      <td>0.565841</td>\n",
       "      <td>1.000000</td>\n",
       "    </tr>\n",
       "  </tbody>\n",
       "</table>\n",
       "</div>"
      ],
      "text/plain": [
       "              total_sales  user_score  critic_score\n",
       "total_sales      1.000000    0.171690      0.386415\n",
       "user_score       0.171690    1.000000      0.565841\n",
       "critic_score     0.386415    0.565841      1.000000"
      ]
     },
     "execution_count": 19,
     "metadata": {},
     "output_type": "execute_result"
    }
   ],
   "source": [
    "# отфильтруем данные, выбрав данные по PS2 и не включая пропуски, которые мы заполнили невозможными значениями\n",
    "platform_ps2 = df[(df['platform'] == 'PS2') & (df['user_score'] < 900) & (df['critic_score'] < 900)] \n",
    "platform_ps2_loc = platform_ps2.loc[:, ['total_sales', 'user_score', 'critic_score']]\n",
    "platform_ps2_loc.corr()"
   ]
  },
  {
   "cell_type": "code",
   "execution_count": 20,
   "metadata": {},
   "outputs": [
    {
     "data": {
      "text/plain": [
       "Text(0.5, 1, 'Влияние отзывов пользователей и критиков на продажy PS2')"
      ]
     },
     "execution_count": 20,
     "metadata": {},
     "output_type": "execute_result"
    },
    {
     "data": {
      "image/png": "[encoded data removed]",
      "text/plain": [
       "<Figure size 864x432 with 2 Axes>"
      ]
     },
     "metadata": {
      "needs_background": "light"
     },
     "output_type": "display_data"
    }
   ],
   "source": [
    "sns.pairplot(platform_ps2_loc, height=6, x_vars=['critic_score', 'user_score'], y_vars='total_sales') # строим матрицу корреляции\n",
    "plt.title('Влияние отзывов пользователей и критиков на продажy PS2')"
   ]
  },
  {
   "cell_type": "markdown",
   "metadata": {},
   "source": [
    "По полученным результатам можно сделать вывод: зависимость между отзывами от пользователей и критиков однозначно есть, причем прямо пропорциональная - с увеличиением оценок, растут и продажи. По значениям корреляции видно, что в большей степени продажи зависят от оценок критиков, в меньшей степени - от оценок пользователей. Полученные диаграммы наглядно подтверждают описанный выше вывод."
   ]
  },
  {
   "cell_type": "markdown",
   "metadata": {},
   "source": [
    "6. Соотношение результата с продажами игр для других платформ\n",
    "\n",
    "Для наглядности такого соотношения, используем тепловые карты, визуализируя результат корреляции для отобранных нами платформ (PS3, XOne, 3DS) и самой популярной платформы PS2."
   ]
  },
  {
   "cell_type": "code",
   "execution_count": 21,
   "metadata": {},
   "outputs": [
    {
     "data": {
      "image/png": "[encoded data removed]",
      "text/plain": [
       "<Figure size 72x216 with 2 Axes>"
      ]
     },
     "metadata": {
      "needs_background": "light"
     },
     "output_type": "display_data"
    },
    {
     "data": {
      "image/png": "[encoded data removed]",
      "text/plain": [
       "<Figure size 72x216 with 2 Axes>"
      ]
     },
     "metadata": {
      "needs_background": "light"
     },
     "output_type": "display_data"
    },
    {
     "data": {
      "image/png": "[encoded data removed]",
      "text/plain": [
       "<Figure size 72x216 with 2 Axes>"
      ]
     },
     "metadata": {
      "needs_background": "light"
     },
     "output_type": "display_data"
    },
    {
     "data": {
      "image/png": "[encoded data removed]",
      "text/plain": [
       "<Figure size 72x216 with 2 Axes>"
      ]
     },
     "metadata": {
      "needs_background": "light"
     },
     "output_type": "display_data"
    }
   ],
   "source": [
    "promising_platforms_and_ps2 = promising_platforms.append('PS2') # добавим к отобранным ранее платформам PS2\n",
    "for platform in promising_platforms:  # строим тепловую карту по каждой платформе\n",
    "  platform_curr = df[(df['platform'] == platform) & (df['user_score'] < 900) & (df['critic_score'] < 900)].loc[:, ['total_sales', 'user_score', 'critic_score']]\n",
    "  plt.figure(figsize=(1,3))\n",
    "  sns.heatmap(platform_curr.corr()[['total_sales']].sort_values(by='total_sales', ascending=False), annot=True).set_title(platform, fontsize=20)\n",
    "  plt.show()"
   ]
  },
  {
   "cell_type": "markdown",
   "metadata": {},
   "source": [
    "Судя по полученным результатам можно сказать, что зависимость продаж от оценок критиков находится примерно в одном диапазоне 0,34 - 0,41. Т.е. оценки критиков влияют на продажи игр для платформ, пользователи ориентируются на оценки критиков при покупке игр. А вот оценки пользователей на продажи игр влияют по разному, для PS2 и 3DS зависимость прямо пропорциональная, хоть и значительно ниже, чем от оценок критиков. А вот для консолей PS4 и XOne зависимость продаж от оценок пользователей обратная, скорее всего при покупке пользователи не принимают во внимание рейтинг игр среди пользователей, а совершают покупку ориентируясь на маркетинговые программы новых игр."
   ]
  },
  {
   "cell_type": "markdown",
   "metadata": {},
   "source": [
    "7. Распределение игр по жанрам. Какие жанры самые прибыльные? Выделяются ли жанры с высокими и низкими продажами?\n",
    "\n",
    "Для ответа на поставленные вопросы, сгруппируем данные по жанру, подсчитаем количество, общие суммы продаж и *медианные значения продаж* по жанрам игр, построим диаграмму для наглядности полученных результатов"
   ]
  },
  {
   "cell_type": "code",
   "execution_count": 22,
   "metadata": {},
   "outputs": [
    {
     "data": {
      "text/html": [
       "<div>\n",
       "<style scoped>\n",
       "    .dataframe tbody tr th:only-of-type {\n",
       "        vertical-align: middle;\n",
       "    }\n",
       "\n",
       "    .dataframe tbody tr th {\n",
       "        vertical-align: top;\n",
       "    }\n",
       "\n",
       "    .dataframe thead th {\n",
       "        text-align: right;\n",
       "    }\n",
       "</style>\n",
       "<table border=\"1\" class=\"dataframe\">\n",
       "  <thead>\n",
       "    <tr style=\"text-align: right;\">\n",
       "      <th></th>\n",
       "      <th>count</th>\n",
       "      <th>sum</th>\n",
       "      <th>median</th>\n",
       "    </tr>\n",
       "    <tr>\n",
       "      <th>genre</th>\n",
       "      <th></th>\n",
       "      <th></th>\n",
       "      <th></th>\n",
       "    </tr>\n",
       "  </thead>\n",
       "  <tbody>\n",
       "    <tr>\n",
       "      <td>Action</td>\n",
       "      <td>766</td>\n",
       "      <td>321.87</td>\n",
       "      <td>0.110</td>\n",
       "    </tr>\n",
       "    <tr>\n",
       "      <td>Role-Playing</td>\n",
       "      <td>292</td>\n",
       "      <td>145.89</td>\n",
       "      <td>0.125</td>\n",
       "    </tr>\n",
       "    <tr>\n",
       "      <td>Adventure</td>\n",
       "      <td>245</td>\n",
       "      <td>23.64</td>\n",
       "      <td>0.030</td>\n",
       "    </tr>\n",
       "    <tr>\n",
       "      <td>Sports</td>\n",
       "      <td>214</td>\n",
       "      <td>150.65</td>\n",
       "      <td>0.240</td>\n",
       "    </tr>\n",
       "    <tr>\n",
       "      <td>Shooter</td>\n",
       "      <td>187</td>\n",
       "      <td>232.98</td>\n",
       "      <td>0.450</td>\n",
       "    </tr>\n",
       "    <tr>\n",
       "      <td>Misc</td>\n",
       "      <td>155</td>\n",
       "      <td>62.82</td>\n",
       "      <td>0.100</td>\n",
       "    </tr>\n",
       "    <tr>\n",
       "      <td>Racing</td>\n",
       "      <td>85</td>\n",
       "      <td>39.89</td>\n",
       "      <td>0.120</td>\n",
       "    </tr>\n",
       "    <tr>\n",
       "      <td>Fighting</td>\n",
       "      <td>80</td>\n",
       "      <td>35.31</td>\n",
       "      <td>0.125</td>\n",
       "    </tr>\n",
       "    <tr>\n",
       "      <td>Platform</td>\n",
       "      <td>74</td>\n",
       "      <td>42.63</td>\n",
       "      <td>0.225</td>\n",
       "    </tr>\n",
       "    <tr>\n",
       "      <td>Simulation</td>\n",
       "      <td>62</td>\n",
       "      <td>21.76</td>\n",
       "      <td>0.100</td>\n",
       "    </tr>\n",
       "    <tr>\n",
       "      <td>Strategy</td>\n",
       "      <td>56</td>\n",
       "      <td>10.08</td>\n",
       "      <td>0.080</td>\n",
       "    </tr>\n",
       "    <tr>\n",
       "      <td>Puzzle</td>\n",
       "      <td>17</td>\n",
       "      <td>3.17</td>\n",
       "      <td>0.060</td>\n",
       "    </tr>\n",
       "  </tbody>\n",
       "</table>\n",
       "</div>"
      ],
      "text/plain": [
       "              count     sum  median\n",
       "genre                              \n",
       "Action          766  321.87   0.110\n",
       "Role-Playing    292  145.89   0.125\n",
       "Adventure       245   23.64   0.030\n",
       "Sports          214  150.65   0.240\n",
       "Shooter         187  232.98   0.450\n",
       "Misc            155   62.82   0.100\n",
       "Racing           85   39.89   0.120\n",
       "Fighting         80   35.31   0.125\n",
       "Platform         74   42.63   0.225\n",
       "Simulation       62   21.76   0.100\n",
       "Strategy         56   10.08   0.080\n",
       "Puzzle           17    3.17   0.060"
      ]
     },
     "execution_count": 22,
     "metadata": {},
     "output_type": "execute_result"
    }
   ],
   "source": [
    "genre_pivot = df_after_2013.groupby('genre').agg({'total_sales': ['count', 'sum', 'median']}) # группируем данные по жанру\n",
    "genre_pivot.columns = ['count', 'sum', 'median'] # переименуем столбцы для удобства\n",
    "genre_pivot.sort_values(by='count', ascending=False)"
   ]
  },
  {
   "cell_type": "code",
   "execution_count": 23,
   "metadata": {},
   "outputs": [
    {
     "data": {
      "text/plain": [
       "Text(0.5, 0, 'Жанры игр')"
      ]
     },
     "execution_count": 23,
     "metadata": {},
     "output_type": "execute_result"
    },
    {
     "data": {
      "image/png": "[encoded data removed]",
      "text/plain": [
       "<Figure size 576x288 with 1 Axes>"
      ]
     },
     "metadata": {
      "needs_background": "light"
     },
     "output_type": "display_data"
    }
   ],
   "source": [
    "genre_pivot.sort_values(by='count', ascending=False).plot(kind='bar', y='count', figsize=(8,4))   # строим диаграмму                   \n",
    "plt.title('Распределение продаж игр по жанрам')\n",
    "plt.ylabel('Количество проданных игр, млн. копий ')\n",
    "plt.xlabel('Жанры игр')\n"
   ]
  },
  {
   "cell_type": "code",
   "execution_count": 24,
   "metadata": {},
   "outputs": [
    {
     "data": {
      "text/plain": [
       "Text(0.5, 0, 'Жанры игр')"
      ]
     },
     "execution_count": 24,
     "metadata": {},
     "output_type": "execute_result"
    },
    {
     "data": {
      "image/png": "[encoded data removed]",
      "text/plain": [
       "<Figure size 576x288 with 1 Axes>"
      ]
     },
     "metadata": {
      "needs_background": "light"
     },
     "output_type": "display_data"
    }
   ],
   "source": [
    "genre_pivot.sort_values(by='sum', ascending=False).plot(kind='bar', y='sum', figsize=(8,4), color = 'red')   # строим диаграмму                   \n",
    "plt.title('Распределение продаж игр по жанрам')\n",
    "plt.ylabel('Суммарные продажи, млн. копий ')\n",
    "plt.xlabel('Жанры игр')\n"
   ]
  },
  {
   "cell_type": "code",
   "execution_count": 25,
   "metadata": {},
   "outputs": [
    {
     "data": {
      "text/plain": [
       "Text(0.5, 0, 'Жанры игр')"
      ]
     },
     "execution_count": 25,
     "metadata": {},
     "output_type": "execute_result"
    },
    {
     "data": {
      "image/png": "[encoded data removed]",
      "text/plain": [
       "<Figure size 576x288 with 1 Axes>"
      ]
     },
     "metadata": {
      "needs_background": "light"
     },
     "output_type": "display_data"
    }
   ],
   "source": [
    "genre_pivot.sort_values(by='median', ascending=False).plot(kind='bar', y='median', figsize=(8,4), color = 'black')   # строим диаграмму                   \n",
    "plt.title('Распределение продаж игр по жанрам')\n",
    "plt.ylabel('Медианные продажи, млн. копий ')\n",
    "plt.xlabel('Жанры игр')"
   ]
  },
  {
   "cell_type": "markdown",
   "metadata": {},
   "source": [
    "По полученным данным можно сделать следующий вывод:\n",
    "\n",
    "- самым популярным жанром игр по количеству продаж с отрывом является \"Экшн\", популярностью пользуются также игры жанров \"РПГ\", \"Приключения\", \"Спорт\", \"Шутер\", наименее популярными жанрами играм можно считать \"Симуляторы\", \"Стратегии\" и \"Головоломки\"\n",
    "- по суммарным продажам в лидерах также жанр \"Экшн\" ввиду большой популярности, среди лидеров стоит отметить жанры \"Шутер\", \"Спорт\" и \"РПГ\", в аутсайдерах все также \"Симуляторы\", \"Стратегии\" и \"Головоломки\"\n",
    "- но если обратиться к данным по медианным продажам, то здесь уже жанр \"Экшн\" далеко не самый прибыльный, лидером по показателю медианных продаж является жанр \"Шутер\", чуть менее - \"Спорт\" и \"Платформер\", а вот жанр \"Приключения\" по этому показателю оказался самым слабым\n",
    "\n",
    "Подводя итог, самыми прибыльными жанрами игр стоит считать \"Шутер\", \"Спорт\" и \"Экшн\" (из-за высокой популярности), наименее прибыльными - \"Стратегии\" и \"Головоломки\"."
   ]
  },
  {
   "cell_type": "markdown",
   "metadata": {},
   "source": [
    "## Портрет пользователя каждого региона"
   ]
  },
  {
   "cell_type": "markdown",
   "metadata": {},
   "source": [
    "1. Самые популярные платформы в каждом регионе (NA, EU, JP)"
   ]
  },
  {
   "cell_type": "code",
   "execution_count": 26,
   "metadata": {},
   "outputs": [
    {
     "data": {
      "image/png": "[encoded data removed]",
      "text/plain": [
       "<Figure size 432x288 with 1 Axes>"
      ]
     },
     "metadata": {
      "needs_background": "light"
     },
     "output_type": "display_data"
    },
    {
     "data": {
      "image/png": "[encoded data removed]",
      "text/plain": [
       "<Figure size 432x288 with 1 Axes>"
      ]
     },
     "metadata": {
      "needs_background": "light"
     },
     "output_type": "display_data"
    },
    {
     "data": {
      "image/png": "[encoded data removed]",
      "text/plain": [
       "<Figure size 432x288 with 1 Axes>"
      ]
     },
     "metadata": {
      "needs_background": "light"
     },
     "output_type": "display_data"
    }
   ],
   "source": [
    "region_sales = ['na_sales', 'eu_sales', 'jp_sales'] # список исследуемых регионов\n",
    "for region in region_sales:           # для каждого региона строим диаграмму самых популярных платформ\n",
    "    pivot_region =  df_after_2013.groupby('platform').agg({region: 'sum'}).sort_values(by=region, ascending=False)[:5]\n",
    "    color_dict = {'na_sales': 'black', 'eu_sales': 'blue', 'jp_sales': 'red'}\n",
    "    pivot_region.plot(kind='bar', ec='black', color=color_dict[region], title=region, fontsize=15, rot=20).title.set_size(20)"
   ]
  },
  {
   "cell_type": "markdown",
   "metadata": {},
   "source": [
    "Популярность платформ на рынках Северной Америки и Европы схожи, в Северной Америке популярность PS и Xboxe относительно равная, тогда как в Европе предпочтительнее консоли от Sony. В Японии же с огромным отрывом лидирует Nintendo 3DS, большой популярностью пользуются портативные консоли, а приставки от Xbox даже не входят в топ 5 по предпочтениям."
   ]
  },
  {
   "cell_type": "markdown",
   "metadata": {},
   "source": [
    "2. Самые популярные жанры в каждом регионе (NA, EU, JP)"
   ]
  },
  {
   "cell_type": "code",
   "execution_count": 27,
   "metadata": {},
   "outputs": [
    {
     "data": {
      "image/png": "[encoded data removed]",
      "text/plain": [
       "<Figure size 432x288 with 1 Axes>"
      ]
     },
     "metadata": {
      "needs_background": "light"
     },
     "output_type": "display_data"
    },
    {
     "data": {
      "image/png": "[encoded data removed]",
      "text/plain": [
       "<Figure size 432x288 with 1 Axes>"
      ]
     },
     "metadata": {
      "needs_background": "light"
     },
     "output_type": "display_data"
    },
    {
     "data": {
      "image/png": "[encoded data removed]",
      "text/plain": [
       "<Figure size 432x288 with 1 Axes>"
      ]
     },
     "metadata": {
      "needs_background": "light"
     },
     "output_type": "display_data"
    }
   ],
   "source": [
    "for region in region_sales: # строим диаграммы самых популярных жанров по регионам\n",
    "    pivot_region =  df_after_2013.groupby('genre').agg({region: 'sum'}).sort_values(by=region, ascending=False)[:5]\n",
    "    color_dict = {'na_sales': 'black', 'eu_sales': 'blue', 'jp_sales': 'red'}\n",
    "    pivot_region.plot(kind='bar', ec='black', color=color_dict[region], title=region, fontsize=15, rot=20).title.set_size(20)"
   ]
  },
  {
   "cell_type": "markdown",
   "metadata": {},
   "source": [
    "В Северной Америке и Европе предпочтения по жанрам примено схожи - \"Экшн\", \"Спорт\" и \"Шутер\" пользуются здесь наибольшей популярностью. \n",
    "\n",
    "А вот в Японии с большим отрывом лидируют жанры \"РПГ\" и \"Экшн\", другие жанры пользуются значительно меньшей популярностью. "
   ]
  },
  {
   "cell_type": "markdown",
   "metadata": {},
   "source": [
    "3. Влияние рейтинга ESRB на продажи в отдельном регионе."
   ]
  },
  {
   "cell_type": "code",
   "execution_count": 28,
   "metadata": {},
   "outputs": [
    {
     "data": {
      "text/plain": [
       "array(['E', 'unknown', 'M', 'T', 'E10+', 'AO', 'EC', 'RP'], dtype=object)"
      ]
     },
     "execution_count": 28,
     "metadata": {},
     "output_type": "execute_result"
    }
   ],
   "source": [
    "df['rating'].unique()"
   ]
  },
  {
   "cell_type": "markdown",
   "metadata": {},
   "source": [
    "Для наглядности и понимания создадим новый столбец в исходном датафрейме с расшифровкой указателя ESRB рейтинга по возрасту\n",
    "(расшифровка рейтинга ESRB из Википедии):\n"
   ]
  },
  {
   "cell_type": "code",
   "execution_count": 29,
   "metadata": {},
   "outputs": [
    {
     "data": {
      "text/html": [
       "<div>\n",
       "<style scoped>\n",
       "    .dataframe tbody tr th:only-of-type {\n",
       "        vertical-align: middle;\n",
       "    }\n",
       "\n",
       "    .dataframe tbody tr th {\n",
       "        vertical-align: top;\n",
       "    }\n",
       "\n",
       "    .dataframe thead th {\n",
       "        text-align: right;\n",
       "    }\n",
       "</style>\n",
       "<table border=\"1\" class=\"dataframe\">\n",
       "  <thead>\n",
       "    <tr style=\"text-align: right;\">\n",
       "      <th></th>\n",
       "      <th>name</th>\n",
       "      <th>platform</th>\n",
       "      <th>year_of_release</th>\n",
       "      <th>genre</th>\n",
       "      <th>na_sales</th>\n",
       "      <th>eu_sales</th>\n",
       "      <th>jp_sales</th>\n",
       "      <th>other_sales</th>\n",
       "      <th>critic_score</th>\n",
       "      <th>user_score</th>\n",
       "      <th>rating</th>\n",
       "      <th>total_sales</th>\n",
       "      <th>esrb</th>\n",
       "    </tr>\n",
       "  </thead>\n",
       "  <tbody>\n",
       "    <tr>\n",
       "      <td>0</td>\n",
       "      <td>Wii Sports</td>\n",
       "      <td>Wii</td>\n",
       "      <td>2006</td>\n",
       "      <td>Sports</td>\n",
       "      <td>41.36</td>\n",
       "      <td>28.96</td>\n",
       "      <td>3.77</td>\n",
       "      <td>8.45</td>\n",
       "      <td>76</td>\n",
       "      <td>8.0</td>\n",
       "      <td>E</td>\n",
       "      <td>82.54</td>\n",
       "      <td>6+</td>\n",
       "    </tr>\n",
       "    <tr>\n",
       "      <td>1</td>\n",
       "      <td>Super Mario Bros.</td>\n",
       "      <td>NES</td>\n",
       "      <td>1985</td>\n",
       "      <td>Platform</td>\n",
       "      <td>29.08</td>\n",
       "      <td>3.58</td>\n",
       "      <td>6.81</td>\n",
       "      <td>0.77</td>\n",
       "      <td>999</td>\n",
       "      <td>999.0</td>\n",
       "      <td>unknown</td>\n",
       "      <td>40.24</td>\n",
       "      <td>unknown</td>\n",
       "    </tr>\n",
       "    <tr>\n",
       "      <td>2</td>\n",
       "      <td>Mario Kart Wii</td>\n",
       "      <td>Wii</td>\n",
       "      <td>2008</td>\n",
       "      <td>Racing</td>\n",
       "      <td>15.68</td>\n",
       "      <td>12.76</td>\n",
       "      <td>3.79</td>\n",
       "      <td>3.29</td>\n",
       "      <td>82</td>\n",
       "      <td>8.3</td>\n",
       "      <td>E</td>\n",
       "      <td>35.52</td>\n",
       "      <td>6+</td>\n",
       "    </tr>\n",
       "    <tr>\n",
       "      <td>3</td>\n",
       "      <td>Wii Sports Resort</td>\n",
       "      <td>Wii</td>\n",
       "      <td>2009</td>\n",
       "      <td>Sports</td>\n",
       "      <td>15.61</td>\n",
       "      <td>10.93</td>\n",
       "      <td>3.28</td>\n",
       "      <td>2.95</td>\n",
       "      <td>80</td>\n",
       "      <td>8.0</td>\n",
       "      <td>E</td>\n",
       "      <td>32.77</td>\n",
       "      <td>6+</td>\n",
       "    </tr>\n",
       "    <tr>\n",
       "      <td>4</td>\n",
       "      <td>Pokemon Red/Pokemon Blue</td>\n",
       "      <td>GB</td>\n",
       "      <td>1996</td>\n",
       "      <td>Role-Playing</td>\n",
       "      <td>11.27</td>\n",
       "      <td>8.89</td>\n",
       "      <td>10.22</td>\n",
       "      <td>1.00</td>\n",
       "      <td>999</td>\n",
       "      <td>999.0</td>\n",
       "      <td>unknown</td>\n",
       "      <td>31.38</td>\n",
       "      <td>unknown</td>\n",
       "    </tr>\n",
       "  </tbody>\n",
       "</table>\n",
       "</div>"
      ],
      "text/plain": [
       "                       name platform  year_of_release         genre  na_sales  \\\n",
       "0                Wii Sports      Wii             2006        Sports     41.36   \n",
       "1         Super Mario Bros.      NES             1985      Platform     29.08   \n",
       "2            Mario Kart Wii      Wii             2008        Racing     15.68   \n",
       "3         Wii Sports Resort      Wii             2009        Sports     15.61   \n",
       "4  Pokemon Red/Pokemon Blue       GB             1996  Role-Playing     11.27   \n",
       "\n",
       "   eu_sales  jp_sales  other_sales  critic_score  user_score   rating  \\\n",
       "0     28.96      3.77         8.45            76         8.0        E   \n",
       "1      3.58      6.81         0.77           999       999.0  unknown   \n",
       "2     12.76      3.79         3.29            82         8.3        E   \n",
       "3     10.93      3.28         2.95            80         8.0        E   \n",
       "4      8.89     10.22         1.00           999       999.0  unknown   \n",
       "\n",
       "   total_sales     esrb  \n",
       "0        82.54       6+  \n",
       "1        40.24  unknown  \n",
       "2        35.52       6+  \n",
       "3        32.77       6+  \n",
       "4        31.38  unknown  "
      ]
     },
     "execution_count": 29,
     "metadata": {},
     "output_type": "execute_result"
    }
   ],
   "source": [
    "esrb = {'E': '6+', 'M': ' 17+', 'T': '13+', 'E10+': '10+', 'AO': '18+', 'EC': '3+', 'RP': 'рейтинг ожидается', 'unknown': 'unknown'}\n",
    "df['esrb'] = df['rating'].map(esrb)\n",
    "df.head()"
   ]
  },
  {
   "cell_type": "markdown",
   "metadata": {},
   "source": [
    "Теперь построим графики по каждому региону:"
   ]
  },
  {
   "cell_type": "code",
   "execution_count": 30,
   "metadata": {},
   "outputs": [
    {
     "data": {
      "image/png": "[encoded data removed]",
      "text/plain": [
       "<Figure size 432x288 with 1 Axes>"
      ]
     },
     "metadata": {
      "needs_background": "light"
     },
     "output_type": "display_data"
    },
    {
     "data": {
      "image/png": "[encoded data removed]",
      "text/plain": [
       "<Figure size 432x288 with 1 Axes>"
      ]
     },
     "metadata": {
      "needs_background": "light"
     },
     "output_type": "display_data"
    },
    {
     "data": {
      "image/png": "[encoded data removed]",
      "text/plain": [
       "<Figure size 432x288 with 1 Axes>"
      ]
     },
     "metadata": {
      "needs_background": "light"
     },
     "output_type": "display_data"
    }
   ],
   "source": [
    "df_after_2013 = df[df['year_of_release']>=2013]\n",
    "for region in region_sales:\n",
    "    pivot_region =  df_after_2013.groupby('esrb').agg({region: 'sum'}).sort_values(by=region, ascending=False)[:5]\n",
    "    color_dict = {'na_sales': 'black', 'eu_sales': 'blue', 'jp_sales': 'red'}\n",
    "    pivot_region.plot(kind='bar', ec='black', color=color_dict[region], title=region, fontsize=15, rot=20).title.set_size(20)"
   ]
  },
  {
   "cell_type": "markdown",
   "metadata": {},
   "source": [
    "По полученным данным делаем вывод:\n",
    "- огромное количество пропущенных значений мешает качественно проанализировать спрос на игры в исследуемых регионах (особенно в Японии)\n",
    "- в Северной Америке и Европе наибольшей популярностью пользуются игры с самым высоким возрастным ограничением 17+\n",
    "- тогда как в Японии преобладают продажи игр без рейтинга. А если вспомнить, что ESRB предназначен для рецензирования игр США и Канады, то это все объясняет: на территории Японии действует собственная система рейтинга, и ESRB не является обязательным"
   ]
  },
  {
   "cell_type": "markdown",
   "metadata": {},
   "source": [
    "## Проверка гипотез"
   ]
  },
  {
   "cell_type": "markdown",
   "metadata": {},
   "source": [
    "1. Средние пользовательские рейтинги платформ Xbox One и PC одинаковые\n",
    "\n",
    "Поскольку в нулевой гипотезе должно присутствовать равенство, формулируем их таким образом:\n",
    "\n",
    "- H0: \"Средние пользовательские рейтинги платформ Xbox One и PC одинаковые\"\n",
    "- Н1: \"Средние пользовательские рейтинги платформ Xbox One и PC отличаются\"\n",
    "\n",
    "Пороговое значение alpha примем равное 0,05, для нашей выборки такое значение будет достаточным для подтверждения или опровержения гипотез"
   ]
  },
  {
   "cell_type": "code",
   "execution_count": 31,
   "metadata": {},
   "outputs": [],
   "source": [
    "user_score_xone = df[(df['platform'] == 'XOne') & (df['user_score'] < 900)] # выбираем данные по XOne, не включая пропуски\n",
    "user_score_pc = df[(df['platform'] == 'PC') & (df['user_score'] < 900)] # выбираем данные по PC, не включая пропуски"
   ]
  },
  {
   "cell_type": "code",
   "execution_count": 32,
   "metadata": {},
   "outputs": [
    {
     "data": {
      "text/plain": [
       "'p-значение:'"
      ]
     },
     "metadata": {},
     "output_type": "display_data"
    },
    {
     "data": {
      "text/plain": [
       "1.3037979620149106e-05"
      ]
     },
     "metadata": {},
     "output_type": "display_data"
    },
    {
     "data": {
      "text/plain": [
       "'Отвергаем нулевую гипотезу, т.е. средние пользовательские рейтинги платформ Xbox One и PC различаются!'"
      ]
     },
     "metadata": {},
     "output_type": "display_data"
    }
   ],
   "source": [
    "alpha = .05 # критический уровень статистической значимости\n",
    "\n",
    "results = st.ttest_ind(user_score_xone['user_score'], user_score_pc['user_score'])\n",
    "\n",
    "display('p-значение:', results.pvalue)\n",
    "\n",
    "if (results.pvalue < alpha):\n",
    "    display(\"Отвергаем нулевую гипотезу, т.е. средние пользовательские рейтинги платформ Xbox One и PC различаются!\")\n",
    "else:\n",
    "    display(\"Не получилось отвергнуть нулевую гипотезу, средние пользовательские рейтинги платформ Xbox One и PC одинаковы!\")"
   ]
  },
  {
   "cell_type": "markdown",
   "metadata": {},
   "source": [
    "P-значение в нашем эксперименте значительно меньше alpha, даже если принять alpha равную 0,01, значит можно смело отвергнуть нулевую гипотезу. Средние пользовательские рейтинги платформ Xbox One и PC отличаются.\n",
    "\n",
    "Посмотрим насколько сильно различаются рейтинги:"
   ]
  },
  {
   "cell_type": "code",
   "execution_count": 33,
   "metadata": {},
   "outputs": [
    {
     "data": {
      "text/plain": [
       "'Средний пользовательский рейтинг платформ Xbox One:  6.52 '"
      ]
     },
     "metadata": {},
     "output_type": "display_data"
    },
    {
     "data": {
      "text/plain": [
       "'Средний пользовательский рейтинг платформ PC:        7.07 '"
      ]
     },
     "metadata": {},
     "output_type": "display_data"
    }
   ],
   "source": [
    "display('{:} {: >5.2f} '.format(\"Средний пользовательский рейтинг платформ Xbox One:\", user_score_xone['user_score'].mean() ))\n",
    "display('{:} {: >11.2f} '.format(\"Средний пользовательский рейтинг платформ PC:\", user_score_pc['user_score'].mean() ))"
   ]
  },
  {
   "cell_type": "markdown",
   "metadata": {},
   "source": [
    "Действительно, средние пользовательские рейтинги Xbox One и ПК отличаются, хоть и незначительно."
   ]
  },
  {
   "cell_type": "markdown",
   "metadata": {},
   "source": [
    "2. •\tСредние пользовательские рейтинги жанров Action (англ. «действие», экшен-игры) и Sports (англ. «спортивные соревнования») разные.\n",
    "\n",
    "Аналогично предыдущему пункту формулируем гипотезы:\n",
    "\n",
    "- H0: \"Средние пользовательские рейтинги жанров Action и Sports одинаковые\"\n",
    "- Н1: \"Средние пользовательские рейтинги жанров Action и Sports разные\"\n",
    "\n",
    "Пороговое значение alpha также примем равное 0,05"
   ]
  },
  {
   "cell_type": "code",
   "execution_count": 34,
   "metadata": {},
   "outputs": [],
   "source": [
    "user_score_action= df[(df['genre'] == 'Action') & (df['user_score'] < 900)] # выбираем данные по жанру \"Экшн\", не включая пропуски\n",
    "user_score_sports = df[(df['genre'] == 'Sports') & (df['user_score'] < 900)] # выбираем данные по жанру \"Спорт\", не включая пропуски"
   ]
  },
  {
   "cell_type": "code",
   "execution_count": 35,
   "metadata": {},
   "outputs": [
    {
     "data": {
      "text/plain": [
       "'p-значение:'"
      ]
     },
     "metadata": {},
     "output_type": "display_data"
    },
    {
     "data": {
      "text/plain": [
       "0.06480928064420527"
      ]
     },
     "metadata": {},
     "output_type": "display_data"
    },
    {
     "data": {
      "text/plain": [
       "'Не получилось отвергнуть нулевую гипотезу, т.е cредние пользовательские рейтинги жанров Action и Sports одинаковые!'"
      ]
     },
     "metadata": {},
     "output_type": "display_data"
    }
   ],
   "source": [
    "alpha = .05 # критический уровень статистической значимости\n",
    "\n",
    "results = st.ttest_ind(user_score_action['user_score'], user_score_sports['user_score'])\n",
    "\n",
    "display('p-значение:', results.pvalue)\n",
    "\n",
    "if (results.pvalue < alpha):\n",
    "    display(\"Отвергаем нулевую гипотезу, т.е. cредние пользовательские рейтинги жанров Action и Sport разные!\")\n",
    "else:\n",
    "    display(\"Не получилось отвергнуть нулевую гипотезу, т.е cредние пользовательские рейтинги жанров Action и Sports одинаковые!\")"
   ]
  },
  {
   "cell_type": "markdown",
   "metadata": {},
   "source": [
    "Нулевую гипотезу отвергнуть нельзя, посмотрим, действительно ли рейтинги равны:\n"
   ]
  },
  {
   "cell_type": "code",
   "execution_count": 36,
   "metadata": {},
   "outputs": [
    {
     "data": {
      "text/plain": [
       "'Средний пользовательский рейтинг жанра Экшн:  7.06 '"
      ]
     },
     "metadata": {},
     "output_type": "display_data"
    },
    {
     "data": {
      "text/plain": [
       "'Средний пользовательский рейтинг жанра Спорт:        6.95 '"
      ]
     },
     "metadata": {},
     "output_type": "display_data"
    }
   ],
   "source": [
    "display('{:} {: >5.2f} '.format(\"Средний пользовательский рейтинг жанра Экшн:\", user_score_action['user_score'].mean() ))\n",
    "display('{:} {: >11.2f} '.format(\"Средний пользовательский рейтинг жанра Спорт:\", user_score_sports['user_score'].mean() ))"
   ]
  },
  {
   "cell_type": "markdown",
   "metadata": {},
   "source": [
    "Средние пользовательские рейтинги двух жанров примерно равны 7, различие между ними незначительное."
   ]
  },
  {
   "cell_type": "markdown",
   "metadata": {},
   "source": [
    "# Общий вывод:"
   ]
  },
  {
   "cell_type": "markdown",
   "metadata": {},
   "source": [
    "**Полученные данные нуждались в предобработке, нами было проделано:**\n",
    "- привели названия столбцов к нижнему регистру;\n",
    "- обработали пропущенные значения где это было возможно и необходимо;\n",
    "- изменили типы данных столбцов, где это было необходимо;\n",
    "- подсчитали общее количество продаж и добавили результаты в новый столбец.\n",
    "\n",
    "**В результате анализа мы выяснили:**\n",
    "- популярность видеоигр пришлась на нулевые годы, пик популярности на 2008-2009 года, в настоящее время интерес к видеоигам сохраняется примерно на одном уровне уже несколько лет;\n",
    "- самая популярная платформа для игр - PlayStation 2, помимо нее успешными можно признать еще несколько платформ: Xbox360, PlayStation 3, Nintendo Wii и DS, а также первая PlayStation;\n",
    "- средняя \"продолжительность жизни\" игровой консоли - 10 лет;\n",
    "- на продажи игр в большей степени оказывают влияние оценки от критиков, нежели от пользователей;\n",
    "- на продажи игр практически не оказывают влияние оценки критиков и пользователей\n",
    "- самыми популярными жанрами игр можно назвать \"Экшн\",  \"Спорт\", \"Аркада\", \"РПГ\", \"Шутер\", \"Приключения\" и \"Гонки\", меньше всего популярностью пользуются игры-головоломки;\n",
    "- самыми прибыльными \"Шутер\", \"Спорт\" и \"Экшн\";\n",
    "- предпочтения пользователей по регионам тоже различаются, если в Северной Америке и Европе интересы пользователей схожи (в приоритете платформы PS и Xbox, жанры Экшн, Спорт и Шутер), то в Японии основной платформой можно назвать Нинтендо, а самым популярным жанром игр - РПГ;\n",
    "- рейтинг ESRB оказывает влияние на распределение игр, наиболее популярными являются общедоступные игры, с увеличеним возрастного порога уменьшаются популярность игр\n",
    "- рейтинг ESRB оказывает влияние на распределение игр, но при этом количество пропущенных значений в наших данных не позволяет нам сделать вывод за весь период исследования, за актуальный период можно сказать, что большей популярностью пользуются игры с высокими ограничениями по возрасту\n",
    "\n",
    "**Что касается выдвинутых гипотез:**\n",
    "- первая гипотеза не подтвердилась, средние пользовательские рейтинги платформ Xbox One и PC отличаются;\n",
    "- вторую гипотезу опровергнуть не удалось, средние пользовательские рейтинги жанров Action и Sports практически равны.\n",
    "\n"
   ]
  }
 ],
 "metadata": {
  "ExecuteTimeLog": [
   {
    "duration": 1528,
    "start_time": "2022-01-26T17:49:49.414Z"
   },
   {
    "duration": 3266,
    "start_time": "2022-01-26T17:50:31.549Z"
   },
   {
    "duration": 2472,
    "start_time": "2022-01-26T17:51:04.854Z"
   },
   {
    "duration": 4,
    "start_time": "2022-01-26T17:51:23.845Z"
   },
   {
    "duration": 89,
    "start_time": "2022-01-26T17:52:04.308Z"
   },
   {
    "duration": 5,
    "start_time": "2022-01-26T17:53:49.294Z"
   },
   {
    "duration": 21,
    "start_time": "2022-01-26T17:54:11.242Z"
   },
   {
    "duration": 14,
    "start_time": "2022-01-26T17:54:36.520Z"
   },
   {
    "duration": 7,
    "start_time": "2022-01-26T17:54:54.537Z"
   },
   {
    "duration": 10,
    "start_time": "2022-01-26T17:55:10.822Z"
   },
   {
    "duration": 9,
    "start_time": "2022-01-26T17:55:35.511Z"
   },
   {
    "duration": 21,
    "start_time": "2022-01-26T17:55:50.441Z"
   },
   {
    "duration": 11,
    "start_time": "2022-01-26T17:56:11.823Z"
   },
   {
    "duration": 27,
    "start_time": "2022-01-26T17:56:25.741Z"
   },
   {
    "duration": 301,
    "start_time": "2022-01-26T17:58:47.767Z"
   },
   {
    "duration": 30,
    "start_time": "2022-01-26T17:58:53.475Z"
   },
   {
    "duration": 669,
    "start_time": "2022-01-26T18:00:22.102Z"
   },
   {
    "duration": 869,
    "start_time": "2022-01-26T18:01:05.789Z"
   },
   {
    "duration": 942,
    "start_time": "2022-01-26T18:02:22.108Z"
   },
   {
    "duration": 1052,
    "start_time": "2022-01-26T18:03:20.117Z"
   },
   {
    "duration": 1096,
    "start_time": "2022-01-26T18:03:32.399Z"
   },
   {
    "duration": 805,
    "start_time": "2022-01-26T18:04:04.815Z"
   },
   {
    "duration": 713,
    "start_time": "2022-01-26T18:05:11.106Z"
   },
   {
    "duration": 936,
    "start_time": "2022-01-26T18:05:45.193Z"
   },
   {
    "duration": 884,
    "start_time": "2022-01-26T18:06:58.533Z"
   },
   {
    "duration": 868,
    "start_time": "2022-01-26T18:07:28.006Z"
   },
   {
    "duration": 20,
    "start_time": "2022-01-26T18:08:07.849Z"
   },
   {
    "duration": 1089,
    "start_time": "2022-01-26T18:11:11.282Z"
   },
   {
    "duration": 963,
    "start_time": "2022-01-26T18:11:26.710Z"
   },
   {
    "duration": 1348,
    "start_time": "2022-01-26T18:12:12.269Z"
   },
   {
    "duration": 1676,
    "start_time": "2022-01-26T18:13:26.966Z"
   },
   {
    "duration": 19,
    "start_time": "2022-01-26T18:17:20.281Z"
   },
   {
    "duration": 18,
    "start_time": "2022-01-26T18:18:03.475Z"
   },
   {
    "duration": 494,
    "start_time": "2022-01-26T18:18:25.280Z"
   },
   {
    "duration": 488,
    "start_time": "2022-01-26T18:20:12.495Z"
   },
   {
    "duration": 786,
    "start_time": "2022-01-26T18:20:51.085Z"
   },
   {
    "duration": 971,
    "start_time": "2022-01-26T18:21:43.779Z"
   },
   {
    "duration": 787,
    "start_time": "2022-01-26T18:22:23.784Z"
   },
   {
    "duration": 787,
    "start_time": "2022-01-26T18:22:47.257Z"
   },
   {
    "duration": 7,
    "start_time": "2022-01-26T18:23:14.758Z"
   },
   {
    "duration": 32,
    "start_time": "2022-01-26T18:23:43.516Z"
   },
   {
    "duration": 974,
    "start_time": "2022-01-26T18:25:00.984Z"
   },
   {
    "duration": 13,
    "start_time": "2022-01-26T18:26:12.624Z"
   },
   {
    "duration": 18,
    "start_time": "2022-01-26T18:26:24.890Z"
   },
   {
    "duration": 8,
    "start_time": "2022-01-26T18:26:40.601Z"
   },
   {
    "duration": 8,
    "start_time": "2022-01-26T18:27:48.218Z"
   },
   {
    "duration": 13,
    "start_time": "2022-01-26T18:29:41.172Z"
   },
   {
    "duration": 13,
    "start_time": "2022-01-26T18:29:51.706Z"
   },
   {
    "duration": 12,
    "start_time": "2022-01-26T18:31:15.268Z"
   },
   {
    "duration": 14,
    "start_time": "2022-01-26T18:33:34.345Z"
   },
   {
    "duration": 9,
    "start_time": "2022-01-26T18:37:47.032Z"
   },
   {
    "duration": 133,
    "start_time": "2022-01-26T18:41:03.776Z"
   },
   {
    "duration": 14,
    "start_time": "2022-01-26T18:42:10.999Z"
   },
   {
    "duration": 8,
    "start_time": "2022-01-26T18:42:25.263Z"
   },
   {
    "duration": 10,
    "start_time": "2022-01-26T18:43:05.317Z"
   },
   {
    "duration": 107,
    "start_time": "2022-01-26T18:48:01.997Z"
   },
   {
    "duration": 107,
    "start_time": "2022-01-26T18:52:14.096Z"
   },
   {
    "duration": 8,
    "start_time": "2022-01-26T18:52:47.142Z"
   },
   {
    "duration": 105,
    "start_time": "2022-01-26T18:53:41.629Z"
   },
   {
    "duration": 11,
    "start_time": "2022-01-26T18:54:00.945Z"
   },
   {
    "duration": 8,
    "start_time": "2022-01-26T18:54:17.902Z"
   },
   {
    "duration": 8,
    "start_time": "2022-01-26T18:54:22.606Z"
   },
   {
    "duration": 629,
    "start_time": "2022-01-26T19:29:10.319Z"
   },
   {
    "duration": 815,
    "start_time": "2022-01-26T19:30:00.963Z"
   },
   {
    "duration": 953,
    "start_time": "2022-01-26T19:30:14.082Z"
   },
   {
    "duration": 826,
    "start_time": "2022-01-26T19:30:35.224Z"
   },
   {
    "duration": 1265,
    "start_time": "2022-02-04T12:48:48.235Z"
   },
   {
    "duration": 69,
    "start_time": "2022-02-04T12:48:49.502Z"
   },
   {
    "duration": 3,
    "start_time": "2022-02-04T12:48:49.574Z"
   },
   {
    "duration": 17,
    "start_time": "2022-02-04T12:48:49.578Z"
   },
   {
    "duration": 13,
    "start_time": "2022-02-04T12:48:49.608Z"
   },
   {
    "duration": 7,
    "start_time": "2022-02-04T12:48:49.623Z"
   },
   {
    "duration": 10,
    "start_time": "2022-02-04T12:48:49.633Z"
   },
   {
    "duration": 18,
    "start_time": "2022-02-04T12:48:49.646Z"
   },
   {
    "duration": 50,
    "start_time": "2022-02-04T12:48:49.667Z"
   },
   {
    "duration": 19,
    "start_time": "2022-02-04T12:48:49.718Z"
   },
   {
    "duration": 450,
    "start_time": "2022-02-04T12:48:49.738Z"
   },
   {
    "duration": 476,
    "start_time": "2022-02-04T12:48:50.190Z"
   },
   {
    "duration": 527,
    "start_time": "2022-02-04T12:48:50.668Z"
   },
   {
    "duration": 593,
    "start_time": "2022-02-04T12:48:51.198Z"
   },
   {
    "duration": 421,
    "start_time": "2022-02-04T12:48:51.793Z"
   },
   {
    "duration": 16,
    "start_time": "2022-02-04T12:48:52.216Z"
   },
   {
    "duration": 679,
    "start_time": "2022-02-04T12:48:52.234Z"
   },
   {
    "duration": 1094,
    "start_time": "2022-02-04T12:48:52.914Z"
   },
   {
    "duration": 16,
    "start_time": "2022-02-04T12:48:54.010Z"
   },
   {
    "duration": 364,
    "start_time": "2022-02-04T12:48:54.029Z"
   },
   {
    "duration": 561,
    "start_time": "2022-02-04T12:48:54.395Z"
   },
   {
    "duration": 567,
    "start_time": "2022-02-04T12:48:54.958Z"
   },
   {
    "duration": 6,
    "start_time": "2022-02-04T12:48:55.529Z"
   },
   {
    "duration": 28,
    "start_time": "2022-02-04T12:48:55.537Z"
   },
   {
    "duration": 784,
    "start_time": "2022-02-04T12:48:55.568Z"
   },
   {
    "duration": 13,
    "start_time": "2022-02-04T12:48:56.354Z"
   },
   {
    "duration": 10,
    "start_time": "2022-02-04T12:48:56.369Z"
   },
   {
    "duration": 8,
    "start_time": "2022-02-04T12:48:56.408Z"
   },
   {
    "duration": 13,
    "start_time": "2022-02-04T12:48:56.418Z"
   },
   {
    "duration": 8,
    "start_time": "2022-02-04T12:48:56.433Z"
   },
   {
    "duration": 11,
    "start_time": "2022-02-04T12:48:56.442Z"
   },
   {
    "duration": 5,
    "start_time": "2022-02-12T22:38:42.597Z"
   },
   {
    "duration": 91,
    "start_time": "2022-02-12T22:38:42.605Z"
   },
   {
    "duration": 5,
    "start_time": "2022-02-12T22:38:42.700Z"
   },
   {
    "duration": 22,
    "start_time": "2022-02-12T22:38:42.709Z"
   },
   {
    "duration": 42,
    "start_time": "2022-02-12T22:38:42.740Z"
   },
   {
    "duration": 14,
    "start_time": "2022-02-12T22:38:42.784Z"
   },
   {
    "duration": 10,
    "start_time": "2022-02-12T22:38:42.800Z"
   },
   {
    "duration": 24,
    "start_time": "2022-02-12T22:38:42.812Z"
   },
   {
    "duration": 57,
    "start_time": "2022-02-12T22:38:42.840Z"
   },
   {
    "duration": 24,
    "start_time": "2022-02-12T22:38:42.901Z"
   },
   {
    "duration": 721,
    "start_time": "2022-02-12T22:38:42.929Z"
   },
   {
    "duration": 705,
    "start_time": "2022-02-12T22:38:43.653Z"
   },
   {
    "duration": 854,
    "start_time": "2022-02-12T22:38:44.360Z"
   },
   {
    "duration": 1286,
    "start_time": "2022-02-12T22:38:45.217Z"
   },
   {
    "duration": 666,
    "start_time": "2022-02-12T22:38:46.506Z"
   },
   {
    "duration": 21,
    "start_time": "2022-02-12T22:38:47.175Z"
   },
   {
    "duration": 1036,
    "start_time": "2022-02-12T22:38:47.199Z"
   },
   {
    "duration": 1240,
    "start_time": "2022-02-12T22:38:48.238Z"
   },
   {
    "duration": 20,
    "start_time": "2022-02-12T22:38:49.481Z"
   },
   {
    "duration": 532,
    "start_time": "2022-02-12T22:38:49.504Z"
   },
   {
    "duration": 825,
    "start_time": "2022-02-12T22:38:50.039Z"
   },
   {
    "duration": 817,
    "start_time": "2022-02-12T22:38:50.870Z"
   },
   {
    "duration": 6,
    "start_time": "2022-02-12T22:38:51.689Z"
   },
   {
    "duration": 31,
    "start_time": "2022-02-12T22:38:51.697Z"
   },
   {
    "duration": 878,
    "start_time": "2022-02-12T22:38:51.730Z"
   },
   {
    "duration": 13,
    "start_time": "2022-02-12T22:38:52.611Z"
   },
   {
    "duration": 41,
    "start_time": "2022-02-12T22:38:52.629Z"
   },
   {
    "duration": 9,
    "start_time": "2022-02-12T22:38:52.673Z"
   },
   {
    "duration": 16,
    "start_time": "2022-02-12T22:38:52.685Z"
   },
   {
    "duration": 12,
    "start_time": "2022-02-12T22:38:52.704Z"
   },
   {
    "duration": 55,
    "start_time": "2022-02-12T22:38:52.718Z"
   },
   {
    "duration": 16,
    "start_time": "2022-02-12T22:44:00.111Z"
   },
   {
    "duration": 7,
    "start_time": "2022-02-12T22:47:01.688Z"
   },
   {
    "duration": 6,
    "start_time": "2022-02-12T22:50:19.280Z"
   },
   {
    "duration": 31,
    "start_time": "2022-02-12T22:50:23.147Z"
   },
   {
    "duration": 25,
    "start_time": "2022-02-12T22:50:27.181Z"
   },
   {
    "duration": 4,
    "start_time": "2022-02-12T22:50:36.157Z"
   },
   {
    "duration": 104,
    "start_time": "2022-02-12T22:50:36.165Z"
   },
   {
    "duration": 4,
    "start_time": "2022-02-12T22:50:36.273Z"
   },
   {
    "duration": 25,
    "start_time": "2022-02-12T22:50:36.280Z"
   },
   {
    "duration": 15,
    "start_time": "2022-02-12T22:50:36.308Z"
   },
   {
    "duration": 47,
    "start_time": "2022-02-12T22:50:36.325Z"
   },
   {
    "duration": 10,
    "start_time": "2022-02-12T22:50:36.375Z"
   },
   {
    "duration": 13,
    "start_time": "2022-02-12T22:50:36.388Z"
   },
   {
    "duration": 8,
    "start_time": "2022-02-12T22:50:36.408Z"
   },
   {
    "duration": 70,
    "start_time": "2022-02-12T22:50:36.420Z"
   },
   {
    "duration": 8,
    "start_time": "2022-02-12T22:50:36.493Z"
   },
   {
    "duration": 42,
    "start_time": "2022-02-12T22:50:36.504Z"
   },
   {
    "duration": 35,
    "start_time": "2022-02-12T22:50:36.569Z"
   },
   {
    "duration": 1088,
    "start_time": "2022-02-12T22:50:36.608Z"
   },
   {
    "duration": 823,
    "start_time": "2022-02-12T22:50:37.699Z"
   },
   {
    "duration": 751,
    "start_time": "2022-02-12T22:50:38.525Z"
   },
   {
    "duration": 914,
    "start_time": "2022-02-12T22:50:39.279Z"
   },
   {
    "duration": 650,
    "start_time": "2022-02-12T22:50:40.196Z"
   },
   {
    "duration": 31,
    "start_time": "2022-02-12T22:50:40.848Z"
   },
   {
    "duration": 1063,
    "start_time": "2022-02-12T22:50:40.881Z"
   },
   {
    "duration": 1351,
    "start_time": "2022-02-12T22:50:41.946Z"
   },
   {
    "duration": 20,
    "start_time": "2022-02-12T22:50:43.299Z"
   },
   {
    "duration": 543,
    "start_time": "2022-02-12T22:50:43.321Z"
   },
   {
    "duration": 863,
    "start_time": "2022-02-12T22:50:43.870Z"
   },
   {
    "duration": 812,
    "start_time": "2022-02-12T22:50:44.735Z"
   },
   {
    "duration": 7,
    "start_time": "2022-02-12T22:50:45.550Z"
   },
   {
    "duration": 33,
    "start_time": "2022-02-12T22:50:45.572Z"
   },
   {
    "duration": 1084,
    "start_time": "2022-02-12T22:50:45.608Z"
   },
   {
    "duration": 14,
    "start_time": "2022-02-12T22:50:46.694Z"
   },
   {
    "duration": 12,
    "start_time": "2022-02-12T22:50:46.711Z"
   },
   {
    "duration": 46,
    "start_time": "2022-02-12T22:50:46.726Z"
   },
   {
    "duration": 21,
    "start_time": "2022-02-12T22:50:46.775Z"
   },
   {
    "duration": 13,
    "start_time": "2022-02-12T22:50:46.799Z"
   },
   {
    "duration": 12,
    "start_time": "2022-02-12T22:50:46.815Z"
   },
   {
    "duration": 9,
    "start_time": "2022-02-12T22:57:25.652Z"
   },
   {
    "duration": 5,
    "start_time": "2022-02-12T22:57:41.983Z"
   },
   {
    "duration": 94,
    "start_time": "2022-02-12T22:57:41.991Z"
   },
   {
    "duration": 4,
    "start_time": "2022-02-12T22:57:42.087Z"
   },
   {
    "duration": 22,
    "start_time": "2022-02-12T22:57:42.094Z"
   },
   {
    "duration": 14,
    "start_time": "2022-02-12T22:57:42.118Z"
   },
   {
    "duration": 12,
    "start_time": "2022-02-12T22:57:42.170Z"
   },
   {
    "duration": 8,
    "start_time": "2022-02-12T22:57:42.185Z"
   },
   {
    "duration": 9,
    "start_time": "2022-02-12T22:57:42.196Z"
   },
   {
    "duration": 6,
    "start_time": "2022-02-12T22:57:42.207Z"
   },
   {
    "duration": 66,
    "start_time": "2022-02-12T22:57:42.216Z"
   },
   {
    "duration": 11,
    "start_time": "2022-02-12T22:57:42.285Z"
   },
   {
    "duration": 28,
    "start_time": "2022-02-12T22:57:42.299Z"
   },
   {
    "duration": 58,
    "start_time": "2022-02-12T22:57:42.330Z"
   },
   {
    "duration": 658,
    "start_time": "2022-02-12T22:57:42.390Z"
   },
   {
    "duration": 709,
    "start_time": "2022-02-12T22:57:43.050Z"
   },
   {
    "duration": 752,
    "start_time": "2022-02-12T22:57:43.769Z"
   },
   {
    "duration": 854,
    "start_time": "2022-02-12T22:57:44.524Z"
   },
   {
    "duration": 629,
    "start_time": "2022-02-12T22:57:45.381Z"
   },
   {
    "duration": 22,
    "start_time": "2022-02-12T22:57:46.014Z"
   },
   {
    "duration": 1114,
    "start_time": "2022-02-12T22:57:46.039Z"
   },
   {
    "duration": 1337,
    "start_time": "2022-02-12T22:57:47.155Z"
   },
   {
    "duration": 19,
    "start_time": "2022-02-12T22:57:48.495Z"
   },
   {
    "duration": 516,
    "start_time": "2022-02-12T22:57:48.516Z"
   },
   {
    "duration": 784,
    "start_time": "2022-02-12T22:57:49.035Z"
   },
   {
    "duration": 806,
    "start_time": "2022-02-12T22:57:49.823Z"
   },
   {
    "duration": 9,
    "start_time": "2022-02-12T22:57:50.632Z"
   },
   {
    "duration": 56,
    "start_time": "2022-02-12T22:57:50.644Z"
   },
   {
    "duration": 1021,
    "start_time": "2022-02-12T22:57:50.703Z"
   },
   {
    "duration": 16,
    "start_time": "2022-02-12T22:57:51.727Z"
   },
   {
    "duration": 35,
    "start_time": "2022-02-12T22:57:51.745Z"
   },
   {
    "duration": 10,
    "start_time": "2022-02-12T22:57:51.783Z"
   },
   {
    "duration": 15,
    "start_time": "2022-02-12T22:57:51.796Z"
   },
   {
    "duration": 59,
    "start_time": "2022-02-12T22:57:51.813Z"
   },
   {
    "duration": 8,
    "start_time": "2022-02-12T22:57:51.874Z"
   },
   {
    "duration": 777,
    "start_time": "2022-02-12T23:02:32.622Z"
   },
   {
    "duration": 640,
    "start_time": "2022-02-12T23:02:46.162Z"
   },
   {
    "duration": 650,
    "start_time": "2022-02-12T23:03:20.093Z"
   },
   {
    "duration": 581,
    "start_time": "2022-02-12T23:03:28.351Z"
   },
   {
    "duration": 508,
    "start_time": "2022-02-12T23:03:50.017Z"
   },
   {
    "duration": 558,
    "start_time": "2022-02-12T23:04:05.055Z"
   },
   {
    "duration": 599,
    "start_time": "2022-02-12T23:10:43.958Z"
   },
   {
    "duration": 566,
    "start_time": "2022-02-12T23:12:46.018Z"
   },
   {
    "duration": 542,
    "start_time": "2022-02-12T23:13:39.994Z"
   },
   {
    "duration": 573,
    "start_time": "2022-02-12T23:14:02.681Z"
   },
   {
    "duration": 639,
    "start_time": "2022-02-12T23:24:03.085Z"
   },
   {
    "duration": 1063,
    "start_time": "2022-02-12T23:26:39.122Z"
   },
   {
    "duration": 917,
    "start_time": "2022-02-12T23:31:15.102Z"
   },
   {
    "duration": 1027,
    "start_time": "2022-02-12T23:31:31.527Z"
   },
   {
    "duration": 936,
    "start_time": "2022-02-12T23:32:00.255Z"
   },
   {
    "duration": 852,
    "start_time": "2022-02-12T23:32:11.872Z"
   },
   {
    "duration": 903,
    "start_time": "2022-02-12T23:33:03.842Z"
   },
   {
    "duration": 893,
    "start_time": "2022-02-12T23:33:48.212Z"
   },
   {
    "duration": 899,
    "start_time": "2022-02-12T23:33:54.821Z"
   },
   {
    "duration": 902,
    "start_time": "2022-02-12T23:34:08.996Z"
   },
   {
    "duration": 911,
    "start_time": "2022-02-12T23:36:14.574Z"
   },
   {
    "duration": 614,
    "start_time": "2022-02-12T23:38:05.204Z"
   },
   {
    "duration": 106,
    "start_time": "2022-02-12T23:40:38.151Z"
   },
   {
    "duration": 627,
    "start_time": "2022-02-12T23:40:56.160Z"
   },
   {
    "duration": 628,
    "start_time": "2022-02-12T23:41:15.064Z"
   },
   {
    "duration": 1490,
    "start_time": "2022-02-12T23:41:42.334Z"
   },
   {
    "duration": 1453,
    "start_time": "2022-02-12T23:42:18.382Z"
   },
   {
    "duration": 1517,
    "start_time": "2022-02-12T23:42:46.865Z"
   },
   {
    "duration": 916,
    "start_time": "2022-02-12T23:43:16.585Z"
   },
   {
    "duration": 1868,
    "start_time": "2022-02-12T23:44:08.256Z"
   },
   {
    "duration": 20,
    "start_time": "2022-02-12T23:53:00.337Z"
   },
   {
    "duration": 507,
    "start_time": "2022-02-12T23:53:16.345Z"
   },
   {
    "duration": 110,
    "start_time": "2022-02-12T23:54:53.064Z"
   },
   {
    "duration": 110,
    "start_time": "2022-02-12T23:55:05.560Z"
   },
   {
    "duration": 101,
    "start_time": "2022-02-12T23:56:13.090Z"
   },
   {
    "duration": 99,
    "start_time": "2022-02-12T23:56:41.220Z"
   },
   {
    "duration": 110,
    "start_time": "2022-02-12T23:56:48.675Z"
   },
   {
    "duration": 19,
    "start_time": "2022-02-12T23:56:56.400Z"
   },
   {
    "duration": 326,
    "start_time": "2022-02-12T23:57:20.734Z"
   },
   {
    "duration": 315,
    "start_time": "2022-02-12T23:57:51.299Z"
   },
   {
    "duration": 19,
    "start_time": "2022-02-12T23:58:04.878Z"
   },
   {
    "duration": 21,
    "start_time": "2022-02-12T23:58:47.881Z"
   },
   {
    "duration": 19,
    "start_time": "2022-02-12T23:59:25.465Z"
   },
   {
    "duration": 499,
    "start_time": "2022-02-12T23:59:28.010Z"
   },
   {
    "duration": 23,
    "start_time": "2022-02-12T23:59:54.705Z"
   },
   {
    "duration": 532,
    "start_time": "2022-02-12T23:59:57.593Z"
   },
   {
    "duration": 330,
    "start_time": "2022-02-13T00:02:24.764Z"
   },
   {
    "duration": 302,
    "start_time": "2022-02-13T00:03:53.936Z"
   },
   {
    "duration": 21,
    "start_time": "2022-02-13T00:05:30.854Z"
   },
   {
    "duration": 311,
    "start_time": "2022-02-13T00:06:42.367Z"
   },
   {
    "duration": 21,
    "start_time": "2022-02-13T00:06:57.563Z"
   },
   {
    "duration": 309,
    "start_time": "2022-02-13T00:07:22.952Z"
   },
   {
    "duration": 21,
    "start_time": "2022-02-13T00:07:56.808Z"
   },
   {
    "duration": 27,
    "start_time": "2022-02-13T00:08:28.380Z"
   },
   {
    "duration": 396,
    "start_time": "2022-02-13T00:10:08.928Z"
   },
   {
    "duration": 335,
    "start_time": "2022-02-13T00:10:22.695Z"
   },
   {
    "duration": 21,
    "start_time": "2022-02-13T00:11:49.988Z"
   },
   {
    "duration": 580,
    "start_time": "2022-02-13T00:12:01.648Z"
   },
   {
    "duration": 321,
    "start_time": "2022-02-13T00:13:06.479Z"
   },
   {
    "duration": 334,
    "start_time": "2022-02-13T00:13:51.850Z"
   },
   {
    "duration": 1389,
    "start_time": "2022-02-13T00:14:03.686Z"
   },
   {
    "duration": 315,
    "start_time": "2022-02-13T00:14:15.930Z"
   },
   {
    "duration": 311,
    "start_time": "2022-02-13T00:14:33.314Z"
   },
   {
    "duration": 10,
    "start_time": "2022-02-13T00:15:01.221Z"
   },
   {
    "duration": 316,
    "start_time": "2022-02-13T00:15:40.464Z"
   },
   {
    "duration": 342,
    "start_time": "2022-02-13T00:24:17.740Z"
   },
   {
    "duration": 347,
    "start_time": "2022-02-13T00:24:37.176Z"
   },
   {
    "duration": 13,
    "start_time": "2022-02-13T00:28:36.843Z"
   },
   {
    "duration": 14,
    "start_time": "2022-02-13T00:28:52.564Z"
   },
   {
    "duration": 17,
    "start_time": "2022-02-13T00:29:29.146Z"
   },
   {
    "duration": 20,
    "start_time": "2022-02-13T00:29:44.699Z"
   },
   {
    "duration": 22,
    "start_time": "2022-02-13T00:30:23.525Z"
   },
   {
    "duration": 346,
    "start_time": "2022-02-13T00:30:37.673Z"
   },
   {
    "duration": 27,
    "start_time": "2022-02-13T00:30:51.613Z"
   },
   {
    "duration": 27,
    "start_time": "2022-02-13T00:31:00.799Z"
   },
   {
    "duration": 28,
    "start_time": "2022-02-13T00:31:25.314Z"
   },
   {
    "duration": 27,
    "start_time": "2022-02-13T00:31:38.607Z"
   },
   {
    "duration": 22,
    "start_time": "2022-02-13T00:32:38.369Z"
   },
   {
    "duration": 690,
    "start_time": "2022-02-13T00:33:53.317Z"
   },
   {
    "duration": 326,
    "start_time": "2022-02-13T00:39:14.263Z"
   },
   {
    "duration": 21,
    "start_time": "2022-02-13T00:39:27.025Z"
   },
   {
    "duration": 129,
    "start_time": "2022-02-13T00:43:39.651Z"
   },
   {
    "duration": 112,
    "start_time": "2022-02-13T00:43:52.819Z"
   },
   {
    "duration": 112,
    "start_time": "2022-02-13T00:44:23.195Z"
   },
   {
    "duration": 323,
    "start_time": "2022-02-13T00:44:27.514Z"
   },
   {
    "duration": 625,
    "start_time": "2022-02-13T00:44:34.156Z"
   },
   {
    "duration": 559,
    "start_time": "2022-02-13T00:45:19.659Z"
   },
   {
    "duration": 550,
    "start_time": "2022-02-13T00:45:56.019Z"
   },
   {
    "duration": 22,
    "start_time": "2022-02-13T00:46:37.102Z"
   },
   {
    "duration": 481,
    "start_time": "2022-02-13T00:46:50.188Z"
   },
   {
    "duration": 622,
    "start_time": "2022-02-13T00:46:55.397Z"
   },
   {
    "duration": 470,
    "start_time": "2022-02-13T00:47:02.227Z"
   },
   {
    "duration": 462,
    "start_time": "2022-02-13T00:48:18.855Z"
   },
   {
    "duration": 552,
    "start_time": "2022-02-13T00:50:29.379Z"
   },
   {
    "duration": 484,
    "start_time": "2022-02-13T00:50:53.169Z"
   },
   {
    "duration": 470,
    "start_time": "2022-02-13T00:50:59.244Z"
   },
   {
    "duration": 425,
    "start_time": "2022-02-13T00:51:07.587Z"
   },
   {
    "duration": 435,
    "start_time": "2022-02-13T00:52:25.695Z"
   },
   {
    "duration": 429,
    "start_time": "2022-02-13T00:53:55.325Z"
   },
   {
    "duration": 713,
    "start_time": "2022-02-13T00:54:20.003Z"
   },
   {
    "duration": 455,
    "start_time": "2022-02-13T00:59:41.546Z"
   },
   {
    "duration": 419,
    "start_time": "2022-02-13T00:59:57.289Z"
   },
   {
    "duration": 418,
    "start_time": "2022-02-13T01:00:07.232Z"
   },
   {
    "duration": 402,
    "start_time": "2022-02-13T01:00:12.736Z"
   },
   {
    "duration": 355,
    "start_time": "2022-02-13T01:00:28.594Z"
   },
   {
    "duration": 387,
    "start_time": "2022-02-13T01:00:31.039Z"
   },
   {
    "duration": 22,
    "start_time": "2022-02-13T01:20:02.523Z"
   },
   {
    "duration": 812,
    "start_time": "2022-02-13T01:20:13.344Z"
   },
   {
    "duration": 770,
    "start_time": "2022-02-13T01:20:21.930Z"
   },
   {
    "duration": 788,
    "start_time": "2022-02-13T01:29:02.246Z"
   },
   {
    "duration": 34,
    "start_time": "2022-02-13T01:32:07.546Z"
   },
   {
    "duration": 32,
    "start_time": "2022-02-13T01:33:05.433Z"
   },
   {
    "duration": 28,
    "start_time": "2022-02-13T01:34:40.632Z"
   },
   {
    "duration": 794,
    "start_time": "2022-02-13T01:35:18.510Z"
   },
   {
    "duration": 773,
    "start_time": "2022-02-13T01:35:47.883Z"
   },
   {
    "duration": 924,
    "start_time": "2022-02-13T01:36:17.107Z"
   },
   {
    "duration": 812,
    "start_time": "2022-02-13T01:36:31.324Z"
   },
   {
    "duration": 907,
    "start_time": "2022-02-13T01:38:53.029Z"
   },
   {
    "duration": 915,
    "start_time": "2022-02-13T01:39:10.213Z"
   },
   {
    "duration": 1119,
    "start_time": "2022-02-13T01:50:11.321Z"
   },
   {
    "duration": 5,
    "start_time": "2022-02-13T02:02:30.629Z"
   },
   {
    "duration": 108,
    "start_time": "2022-02-13T02:02:30.636Z"
   },
   {
    "duration": 4,
    "start_time": "2022-02-13T02:02:30.747Z"
   },
   {
    "duration": 32,
    "start_time": "2022-02-13T02:02:30.771Z"
   },
   {
    "duration": 17,
    "start_time": "2022-02-13T02:02:30.806Z"
   },
   {
    "duration": 50,
    "start_time": "2022-02-13T02:02:30.826Z"
   },
   {
    "duration": 7,
    "start_time": "2022-02-13T02:02:30.879Z"
   },
   {
    "duration": 18,
    "start_time": "2022-02-13T02:02:30.889Z"
   },
   {
    "duration": 12,
    "start_time": "2022-02-13T02:02:30.912Z"
   },
   {
    "duration": 22,
    "start_time": "2022-02-13T02:02:30.927Z"
   },
   {
    "duration": 12,
    "start_time": "2022-02-13T02:02:30.970Z"
   },
   {
    "duration": 47,
    "start_time": "2022-02-13T02:02:30.985Z"
   },
   {
    "duration": 62,
    "start_time": "2022-02-13T02:02:31.035Z"
   },
   {
    "duration": 684,
    "start_time": "2022-02-13T02:02:31.099Z"
   },
   {
    "duration": 1038,
    "start_time": "2022-02-13T02:02:31.785Z"
   },
   {
    "duration": 768,
    "start_time": "2022-02-13T02:02:32.826Z"
   },
   {
    "duration": 737,
    "start_time": "2022-02-13T02:02:33.597Z"
   },
   {
    "duration": 988,
    "start_time": "2022-02-13T02:02:34.336Z"
   },
   {
    "duration": 42,
    "start_time": "2022-02-13T02:02:35.328Z"
   },
   {
    "duration": 1032,
    "start_time": "2022-02-13T02:02:35.373Z"
   },
   {
    "duration": 1327,
    "start_time": "2022-02-13T02:02:36.408Z"
   },
   {
    "duration": 34,
    "start_time": "2022-02-13T02:02:37.738Z"
   },
   {
    "duration": 396,
    "start_time": "2022-02-13T02:02:37.776Z"
   },
   {
    "duration": 398,
    "start_time": "2022-02-13T02:02:38.176Z"
   },
   {
    "duration": 376,
    "start_time": "2022-02-13T02:02:38.576Z"
   },
   {
    "duration": 802,
    "start_time": "2022-02-13T02:02:38.954Z"
   },
   {
    "duration": 871,
    "start_time": "2022-02-13T02:02:39.771Z"
   },
   {
    "duration": 25,
    "start_time": "2022-02-13T02:02:40.645Z"
   },
   {
    "duration": 31,
    "start_time": "2022-02-13T02:02:40.673Z"
   },
   {
    "duration": 940,
    "start_time": "2022-02-13T02:02:40.708Z"
   },
   {
    "duration": 370,
    "start_time": "2022-02-13T02:02:41.651Z"
   },
   {
    "duration": -572,
    "start_time": "2022-02-13T02:02:42.596Z"
   },
   {
    "duration": -574,
    "start_time": "2022-02-13T02:02:42.599Z"
   },
   {
    "duration": -575,
    "start_time": "2022-02-13T02:02:42.602Z"
   },
   {
    "duration": -577,
    "start_time": "2022-02-13T02:02:42.605Z"
   },
   {
    "duration": -577,
    "start_time": "2022-02-13T02:02:42.607Z"
   },
   {
    "duration": -579,
    "start_time": "2022-02-13T02:02:42.610Z"
   },
   {
    "duration": 299,
    "start_time": "2022-02-13T02:03:29.569Z"
   },
   {
    "duration": 813,
    "start_time": "2022-02-13T02:04:51.805Z"
   },
   {
    "duration": 5,
    "start_time": "2022-02-13T02:05:04.756Z"
   },
   {
    "duration": 110,
    "start_time": "2022-02-13T02:05:04.763Z"
   },
   {
    "duration": 4,
    "start_time": "2022-02-13T02:05:04.876Z"
   },
   {
    "duration": 21,
    "start_time": "2022-02-13T02:05:04.882Z"
   },
   {
    "duration": 12,
    "start_time": "2022-02-13T02:05:04.905Z"
   },
   {
    "duration": 13,
    "start_time": "2022-02-13T02:05:04.919Z"
   },
   {
    "duration": 37,
    "start_time": "2022-02-13T02:05:04.936Z"
   },
   {
    "duration": 9,
    "start_time": "2022-02-13T02:05:04.976Z"
   },
   {
    "duration": 7,
    "start_time": "2022-02-13T02:05:04.987Z"
   },
   {
    "duration": 21,
    "start_time": "2022-02-13T02:05:04.996Z"
   },
   {
    "duration": 50,
    "start_time": "2022-02-13T02:05:05.019Z"
   },
   {
    "duration": 28,
    "start_time": "2022-02-13T02:05:05.072Z"
   },
   {
    "duration": 24,
    "start_time": "2022-02-13T02:05:05.102Z"
   },
   {
    "duration": 1053,
    "start_time": "2022-02-13T02:05:05.129Z"
   },
   {
    "duration": 708,
    "start_time": "2022-02-13T02:05:06.184Z"
   },
   {
    "duration": 734,
    "start_time": "2022-02-13T02:05:06.894Z"
   },
   {
    "duration": 676,
    "start_time": "2022-02-13T02:05:07.630Z"
   },
   {
    "duration": 960,
    "start_time": "2022-02-13T02:05:08.309Z"
   },
   {
    "duration": 24,
    "start_time": "2022-02-13T02:05:09.275Z"
   },
   {
    "duration": 1142,
    "start_time": "2022-02-13T02:05:09.303Z"
   },
   {
    "duration": 1345,
    "start_time": "2022-02-13T02:05:10.448Z"
   },
   {
    "duration": 21,
    "start_time": "2022-02-13T02:05:11.796Z"
   },
   {
    "duration": 399,
    "start_time": "2022-02-13T02:05:11.819Z"
   },
   {
    "duration": 385,
    "start_time": "2022-02-13T02:05:12.221Z"
   },
   {
    "duration": 383,
    "start_time": "2022-02-13T02:05:12.608Z"
   },
   {
    "duration": 822,
    "start_time": "2022-02-13T02:05:12.995Z"
   },
   {
    "duration": 838,
    "start_time": "2022-02-13T02:05:13.821Z"
   },
   {
    "duration": 6,
    "start_time": "2022-02-13T02:05:14.670Z"
   },
   {
    "duration": 30,
    "start_time": "2022-02-13T02:05:14.679Z"
   },
   {
    "duration": 821,
    "start_time": "2022-02-13T02:05:14.712Z"
   },
   {
    "duration": 837,
    "start_time": "2022-02-13T02:05:15.536Z"
   },
   {
    "duration": 15,
    "start_time": "2022-02-13T02:05:16.375Z"
   },
   {
    "duration": 12,
    "start_time": "2022-02-13T02:05:16.392Z"
   },
   {
    "duration": 9,
    "start_time": "2022-02-13T02:05:16.406Z"
   },
   {
    "duration": 55,
    "start_time": "2022-02-13T02:05:16.417Z"
   },
   {
    "duration": 13,
    "start_time": "2022-02-13T02:05:16.475Z"
   },
   {
    "duration": 11,
    "start_time": "2022-02-13T02:05:16.491Z"
   },
   {
    "duration": 785,
    "start_time": "2022-02-13T02:06:13.423Z"
   },
   {
    "duration": 4,
    "start_time": "2022-02-13T02:06:16.103Z"
   },
   {
    "duration": 81,
    "start_time": "2022-02-13T02:06:16.110Z"
   },
   {
    "duration": 4,
    "start_time": "2022-02-13T02:06:16.194Z"
   },
   {
    "duration": 22,
    "start_time": "2022-02-13T02:06:16.201Z"
   },
   {
    "duration": 44,
    "start_time": "2022-02-13T02:06:16.225Z"
   },
   {
    "duration": 11,
    "start_time": "2022-02-13T02:06:16.272Z"
   },
   {
    "duration": 9,
    "start_time": "2022-02-13T02:06:16.286Z"
   },
   {
    "duration": 9,
    "start_time": "2022-02-13T02:06:16.297Z"
   },
   {
    "duration": 6,
    "start_time": "2022-02-13T02:06:16.310Z"
   },
   {
    "duration": 52,
    "start_time": "2022-02-13T02:06:16.319Z"
   },
   {
    "duration": 8,
    "start_time": "2022-02-13T02:06:16.373Z"
   },
   {
    "duration": 28,
    "start_time": "2022-02-13T02:06:16.384Z"
   },
   {
    "duration": 23,
    "start_time": "2022-02-13T02:06:16.415Z"
   },
   {
    "duration": 659,
    "start_time": "2022-02-13T02:06:16.469Z"
   },
   {
    "duration": 700,
    "start_time": "2022-02-13T02:06:17.130Z"
   },
   {
    "duration": 723,
    "start_time": "2022-02-13T02:06:17.833Z"
   },
   {
    "duration": 580,
    "start_time": "2022-02-13T02:06:18.559Z"
   },
   {
    "duration": 1314,
    "start_time": "2022-02-13T02:06:19.142Z"
   },
   {
    "duration": 21,
    "start_time": "2022-02-13T02:06:20.469Z"
   },
   {
    "duration": 1089,
    "start_time": "2022-02-13T02:06:20.492Z"
   },
   {
    "duration": 1288,
    "start_time": "2022-02-13T02:06:21.584Z"
   },
   {
    "duration": 20,
    "start_time": "2022-02-13T02:06:22.875Z"
   },
   {
    "duration": 397,
    "start_time": "2022-02-13T02:06:22.898Z"
   },
   {
    "duration": 390,
    "start_time": "2022-02-13T02:06:23.298Z"
   },
   {
    "duration": 374,
    "start_time": "2022-02-13T02:06:23.690Z"
   },
   {
    "duration": 805,
    "start_time": "2022-02-13T02:06:24.069Z"
   },
   {
    "duration": 796,
    "start_time": "2022-02-13T02:06:24.879Z"
   },
   {
    "duration": 6,
    "start_time": "2022-02-13T02:06:25.678Z"
   },
   {
    "duration": 39,
    "start_time": "2022-02-13T02:06:25.687Z"
   },
   {
    "duration": 815,
    "start_time": "2022-02-13T02:06:25.729Z"
   },
   {
    "duration": 25,
    "start_time": "2022-02-13T02:06:26.546Z"
   },
   {
    "duration": 11,
    "start_time": "2022-02-13T02:06:26.573Z"
   },
   {
    "duration": 9,
    "start_time": "2022-02-13T02:06:26.587Z"
   },
   {
    "duration": 14,
    "start_time": "2022-02-13T02:06:26.599Z"
   },
   {
    "duration": 58,
    "start_time": "2022-02-13T02:06:26.615Z"
   },
   {
    "duration": 7,
    "start_time": "2022-02-13T02:06:26.676Z"
   },
   {
    "duration": 1720,
    "start_time": "2022-02-13T08:20:18.937Z"
   },
   {
    "duration": 57,
    "start_time": "2022-02-13T08:20:20.659Z"
   },
   {
    "duration": 2,
    "start_time": "2022-02-13T08:20:20.718Z"
   },
   {
    "duration": 14,
    "start_time": "2022-02-13T08:20:20.722Z"
   },
   {
    "duration": 8,
    "start_time": "2022-02-13T08:20:20.737Z"
   },
   {
    "duration": 6,
    "start_time": "2022-02-13T08:20:20.747Z"
   },
   {
    "duration": 6,
    "start_time": "2022-02-13T08:20:20.754Z"
   },
   {
    "duration": 7,
    "start_time": "2022-02-13T08:20:20.762Z"
   },
   {
    "duration": 4,
    "start_time": "2022-02-13T08:20:20.771Z"
   },
   {
    "duration": 14,
    "start_time": "2022-02-13T08:20:20.776Z"
   },
   {
    "duration": 4,
    "start_time": "2022-02-13T08:20:20.792Z"
   },
   {
    "duration": 16,
    "start_time": "2022-02-13T08:20:20.827Z"
   },
   {
    "duration": 15,
    "start_time": "2022-02-13T08:20:20.845Z"
   },
   {
    "duration": 361,
    "start_time": "2022-02-13T08:20:20.862Z"
   },
   {
    "duration": 367,
    "start_time": "2022-02-13T08:20:21.224Z"
   },
   {
    "duration": 397,
    "start_time": "2022-02-13T08:20:21.593Z"
   },
   {
    "duration": 300,
    "start_time": "2022-02-13T08:20:21.992Z"
   },
   {
    "duration": 631,
    "start_time": "2022-02-13T08:20:22.294Z"
   },
   {
    "duration": 13,
    "start_time": "2022-02-13T08:20:22.927Z"
   },
   {
    "duration": 604,
    "start_time": "2022-02-13T08:20:22.941Z"
   },
   {
    "duration": 825,
    "start_time": "2022-02-13T08:20:23.547Z"
   },
   {
    "duration": 15,
    "start_time": "2022-02-13T08:20:24.374Z"
   },
   {
    "duration": 279,
    "start_time": "2022-02-13T08:20:24.392Z"
   },
   {
    "duration": 196,
    "start_time": "2022-02-13T08:20:24.673Z"
   },
   {
    "duration": 192,
    "start_time": "2022-02-13T08:20:24.870Z"
   },
   {
    "duration": 496,
    "start_time": "2022-02-13T08:20:25.064Z"
   },
   {
    "duration": 425,
    "start_time": "2022-02-13T08:20:25.561Z"
   },
   {
    "duration": 4,
    "start_time": "2022-02-13T08:20:25.988Z"
   },
   {
    "duration": 18,
    "start_time": "2022-02-13T08:20:25.993Z"
   },
   {
    "duration": 436,
    "start_time": "2022-02-13T08:20:26.012Z"
   },
   {
    "duration": 9,
    "start_time": "2022-02-13T08:20:26.449Z"
   },
   {
    "duration": 6,
    "start_time": "2022-02-13T08:20:26.459Z"
   },
   {
    "duration": 8,
    "start_time": "2022-02-13T08:20:26.467Z"
   },
   {
    "duration": 9,
    "start_time": "2022-02-13T08:20:26.476Z"
   },
   {
    "duration": 7,
    "start_time": "2022-02-13T08:20:26.486Z"
   },
   {
    "duration": 35,
    "start_time": "2022-02-13T08:20:26.494Z"
   },
   {
    "duration": 44,
    "start_time": "2022-10-25T18:53:32.896Z"
   }
  ],
  "kernelspec": {
   "display_name": "Python 3 (ipykernel)",
   "language": "python",
   "name": "python3"
  },
  "language_info": {
   "codemirror_mode": {
    "name": "ipython",
    "version": 3
   },
   "file_extension": ".py",
   "mimetype": "text/x-python",
   "name": "python",
   "nbconvert_exporter": "python",
   "pygments_lexer": "ipython3",
   "version": "3.9.5"
  },
  "toc": {
   "base_numbering": 1,
   "nav_menu": {},
   "number_sections": true,
   "sideBar": true,
   "skip_h1_title": true,
   "title_cell": "Table of Contents",
   "title_sidebar": "Contents",
   "toc_cell": false,
   "toc_position": {},
   "toc_section_display": true,
   "toc_window_display": true
  }
 },
 "nbformat": 4,
 "nbformat_minor": 2
}
