{
 "cells": [
  {
   "cell_type": "markdown",
   "metadata": {},
   "source": [
    "# Определение перспективного тарифа для телеком-компании"
   ]
  },
  {
   "cell_type": "markdown",
   "metadata": {},
   "source": [
    "Вы аналитик компании «Мегалайн» — федерального оператора сотовой связи. Клиентам предлагают два тарифных плана: «Смарт» и «Ультра». Чтобы скорректировать рекламный бюджет, коммерческий департамент хочет понять, какой тариф приносит больше денег.\n",
    "Вам предстоит сделать предварительный анализ тарифов на небольшой выборке клиентов. В вашем распоряжении данные 500 пользователей «Мегалайна»: кто они, откуда, каким тарифом пользуются, сколько звонков и сообщений каждый отправил за 2018 год. Нужно проанализировать поведение клиентов и сделать вывод — какой тариф лучше.\n",
    "\n",
    "**Описание тарифов**\n",
    "\n",
    "Тариф «Смарт»\n",
    "Ежемесячная плата: 550 рублей\n",
    "Включено 500 минут разговора, 50 сообщений и 15 Гб интернет-трафика\n",
    "Стоимость услуг сверх тарифного пакета: 1. минута разговора: 3 рубля («Мегалайн» всегда округляет вверх значения минут и мегабайтов. Если пользователь проговорил всего 1 секунду, в тарифе засчитывается целая минута); 2. сообщение: 3 рубля; 3. 1 Гб интернет-трафика: 200 рублей.\n",
    "Тариф «Ультра»\n",
    "Ежемесячная плата: 1950 рублей\n",
    "Включено 3000 минут разговора, 1000 сообщений и 30 Гб интернет-трафика\n",
    "Стоимость услуг сверх тарифного пакета: 1. минута разговора: 1 рубль; 2. сообщение: 1 рубль; 3. 1 Гб интернет-трафика: 150 рублей.\n",
    "\n",
    "**Примечание:**\n",
    "\n",
    "«Мегалайн» всегда округляет секунды до минут, а мегабайты — до гигабайт. Каждый звонок округляется отдельно: даже если он длился всего 1 секунду, будет засчитан как 1 минута.\n",
    "Для веб-трафика отдельные сессии не считаются. Вместо этого общая сумма за месяц округляется в бо́льшую сторону. Если абонент использует 1025 мегабайт в этом месяце, с него возьмут плату за 2 гигабайта."
   ]
  },
  {
   "cell_type": "markdown",
   "metadata": {},
   "source": [
    "## Изучение данных "
   ]
  },
  {
   "cell_type": "code",
   "execution_count": 1,
   "metadata": {},
   "outputs": [],
   "source": [
    "import pandas as pd # импортирую библиотеки, которые понадобятся для выполнения проекта\n",
    "import numpy as np\n",
    "from scipy import stats as st\n",
    "import matplotlib.pyplot as plt \n",
    "import seaborn as sns"
   ]
  },
  {
   "cell_type": "markdown",
   "metadata": {},
   "source": [
    "Загрузим поочередно предоставленные базы, изучим их и определим имеющиеся в них недостатки.\n",
    "\n",
    "Calls (информация о звонках)"
   ]
  },
  {
   "cell_type": "code",
   "execution_count": 2,
   "metadata": {},
   "outputs": [
    {
     "data": {
      "text/html": [
       "<div>\n",
       "<style scoped>\n",
       "    .dataframe tbody tr th:only-of-type {\n",
       "        vertical-align: middle;\n",
       "    }\n",
       "\n",
       "    .dataframe tbody tr th {\n",
       "        vertical-align: top;\n",
       "    }\n",
       "\n",
       "    .dataframe thead th {\n",
       "        text-align: right;\n",
       "    }\n",
       "</style>\n",
       "<table border=\"1\" class=\"dataframe\">\n",
       "  <thead>\n",
       "    <tr style=\"text-align: right;\">\n",
       "      <th></th>\n",
       "      <th>id</th>\n",
       "      <th>call_date</th>\n",
       "      <th>duration</th>\n",
       "      <th>user_id</th>\n",
       "    </tr>\n",
       "  </thead>\n",
       "  <tbody>\n",
       "    <tr>\n",
       "      <th>0</th>\n",
       "      <td>1000_0</td>\n",
       "      <td>2018-07-25</td>\n",
       "      <td>0.00</td>\n",
       "      <td>1000</td>\n",
       "    </tr>\n",
       "    <tr>\n",
       "      <th>1</th>\n",
       "      <td>1000_1</td>\n",
       "      <td>2018-08-17</td>\n",
       "      <td>0.00</td>\n",
       "      <td>1000</td>\n",
       "    </tr>\n",
       "    <tr>\n",
       "      <th>2</th>\n",
       "      <td>1000_2</td>\n",
       "      <td>2018-06-11</td>\n",
       "      <td>2.85</td>\n",
       "      <td>1000</td>\n",
       "    </tr>\n",
       "    <tr>\n",
       "      <th>3</th>\n",
       "      <td>1000_3</td>\n",
       "      <td>2018-09-21</td>\n",
       "      <td>13.80</td>\n",
       "      <td>1000</td>\n",
       "    </tr>\n",
       "    <tr>\n",
       "      <th>4</th>\n",
       "      <td>1000_4</td>\n",
       "      <td>2018-12-15</td>\n",
       "      <td>5.18</td>\n",
       "      <td>1000</td>\n",
       "    </tr>\n",
       "    <tr>\n",
       "      <th>...</th>\n",
       "      <td>...</td>\n",
       "      <td>...</td>\n",
       "      <td>...</td>\n",
       "      <td>...</td>\n",
       "    </tr>\n",
       "    <tr>\n",
       "      <th>202602</th>\n",
       "      <td>1499_215</td>\n",
       "      <td>2018-12-26</td>\n",
       "      <td>0.76</td>\n",
       "      <td>1499</td>\n",
       "    </tr>\n",
       "    <tr>\n",
       "      <th>202603</th>\n",
       "      <td>1499_216</td>\n",
       "      <td>2018-10-18</td>\n",
       "      <td>18.83</td>\n",
       "      <td>1499</td>\n",
       "    </tr>\n",
       "    <tr>\n",
       "      <th>202604</th>\n",
       "      <td>1499_217</td>\n",
       "      <td>2018-11-10</td>\n",
       "      <td>10.81</td>\n",
       "      <td>1499</td>\n",
       "    </tr>\n",
       "    <tr>\n",
       "      <th>202605</th>\n",
       "      <td>1499_218</td>\n",
       "      <td>2018-10-06</td>\n",
       "      <td>4.27</td>\n",
       "      <td>1499</td>\n",
       "    </tr>\n",
       "    <tr>\n",
       "      <th>202606</th>\n",
       "      <td>1499_219</td>\n",
       "      <td>2018-12-14</td>\n",
       "      <td>19.62</td>\n",
       "      <td>1499</td>\n",
       "    </tr>\n",
       "  </tbody>\n",
       "</table>\n",
       "<p>202607 rows × 4 columns</p>\n",
       "</div>"
      ],
      "text/plain": [
       "              id   call_date  duration  user_id\n",
       "0         1000_0  2018-07-25      0.00     1000\n",
       "1         1000_1  2018-08-17      0.00     1000\n",
       "2         1000_2  2018-06-11      2.85     1000\n",
       "3         1000_3  2018-09-21     13.80     1000\n",
       "4         1000_4  2018-12-15      5.18     1000\n",
       "...          ...         ...       ...      ...\n",
       "202602  1499_215  2018-12-26      0.76     1499\n",
       "202603  1499_216  2018-10-18     18.83     1499\n",
       "202604  1499_217  2018-11-10     10.81     1499\n",
       "202605  1499_218  2018-10-06      4.27     1499\n",
       "202606  1499_219  2018-12-14     19.62     1499\n",
       "\n",
       "[202607 rows x 4 columns]"
      ]
     },
     "metadata": {},
     "output_type": "display_data"
    },
    {
     "name": "stdout",
     "output_type": "stream",
     "text": [
      "<class 'pandas.core.frame.DataFrame'>\n",
      "RangeIndex: 202607 entries, 0 to 202606\n",
      "Data columns (total 4 columns):\n",
      " #   Column     Non-Null Count   Dtype  \n",
      "---  ------     --------------   -----  \n",
      " 0   id         202607 non-null  object \n",
      " 1   call_date  202607 non-null  object \n",
      " 2   duration   202607 non-null  float64\n",
      " 3   user_id    202607 non-null  int64  \n",
      "dtypes: float64(1), int64(1), object(2)\n",
      "memory usage: 6.2+ MB\n"
     ]
    }
   ],
   "source": [
    "ds_calls=pd.read_csv('/datasets/calls.csv')\n",
    "display(ds_calls) # .head() не использую, чтобы увидеть и последние строки датасета\n",
    "ds_calls.info()"
   ]
  },
  {
   "cell_type": "markdown",
   "metadata": {},
   "source": [
    "В столбце 'duration' имеются нулевые значения, определим их количество:"
   ]
  },
  {
   "cell_type": "code",
   "execution_count": 3,
   "metadata": {
    "scrolled": true
   },
   "outputs": [
    {
     "data": {
      "text/plain": [
       "39613"
      ]
     },
     "execution_count": 3,
     "metadata": {},
     "output_type": "execute_result"
    }
   ],
   "source": [
    "ds_calls['duration'][ds_calls['duration']==0].count()"
   ]
  },
  {
   "cell_type": "markdown",
   "metadata": {},
   "source": [
    "Проверим на наличие дубликатов:"
   ]
  },
  {
   "cell_type": "code",
   "execution_count": 4,
   "metadata": {},
   "outputs": [
    {
     "data": {
      "text/plain": [
       "0"
      ]
     },
     "execution_count": 4,
     "metadata": {},
     "output_type": "execute_result"
    }
   ],
   "source": [
    "ds_calls.duplicated().sum()"
   ]
  },
  {
   "cell_type": "markdown",
   "metadata": {},
   "source": [
    "Таблица calls (информация о звонках):\n",
    "- не имеет пропущенных значений\n",
    "- не имеет дубликатов\n",
    "- нулевые значения в столбце \"duration\" - это пропущенные звонки, их количество, относительно всего датасета, достаточно велико, оставим их без изменений\n",
    "- столбец \"call_date\" имеет тип object, необходимо привести его к типу datetime\n",
    "- из этого же столбца \"call_date\" извлечь значение месяцев в новый столбец \"month\" (потребуется для дальнейшего анализа и расчетов)\n",
    "- поскольку \"Мегалайн\" округляет время до минут, а в столбце \"duration\" время указано в минутах, необходимо округлить значения до целого в большую сторону и изменить тип данных на int\n",
    "- столбец \"id\" не несет необходимой информации, можно его удалить\n",
    "\n",
    "Internet (информация об интернет-сессиях)"
   ]
  },
  {
   "cell_type": "code",
   "execution_count": 5,
   "metadata": {
    "scrolled": true
   },
   "outputs": [
    {
     "data": {
      "text/html": [
       "<div>\n",
       "<style scoped>\n",
       "    .dataframe tbody tr th:only-of-type {\n",
       "        vertical-align: middle;\n",
       "    }\n",
       "\n",
       "    .dataframe tbody tr th {\n",
       "        vertical-align: top;\n",
       "    }\n",
       "\n",
       "    .dataframe thead th {\n",
       "        text-align: right;\n",
       "    }\n",
       "</style>\n",
       "<table border=\"1\" class=\"dataframe\">\n",
       "  <thead>\n",
       "    <tr style=\"text-align: right;\">\n",
       "      <th></th>\n",
       "      <th>Unnamed: 0</th>\n",
       "      <th>id</th>\n",
       "      <th>mb_used</th>\n",
       "      <th>session_date</th>\n",
       "      <th>user_id</th>\n",
       "    </tr>\n",
       "  </thead>\n",
       "  <tbody>\n",
       "    <tr>\n",
       "      <th>0</th>\n",
       "      <td>0</td>\n",
       "      <td>1000_0</td>\n",
       "      <td>112.95</td>\n",
       "      <td>2018-11-25</td>\n",
       "      <td>1000</td>\n",
       "    </tr>\n",
       "    <tr>\n",
       "      <th>1</th>\n",
       "      <td>1</td>\n",
       "      <td>1000_1</td>\n",
       "      <td>1052.81</td>\n",
       "      <td>2018-09-07</td>\n",
       "      <td>1000</td>\n",
       "    </tr>\n",
       "    <tr>\n",
       "      <th>2</th>\n",
       "      <td>2</td>\n",
       "      <td>1000_2</td>\n",
       "      <td>1197.26</td>\n",
       "      <td>2018-06-25</td>\n",
       "      <td>1000</td>\n",
       "    </tr>\n",
       "    <tr>\n",
       "      <th>3</th>\n",
       "      <td>3</td>\n",
       "      <td>1000_3</td>\n",
       "      <td>550.27</td>\n",
       "      <td>2018-08-22</td>\n",
       "      <td>1000</td>\n",
       "    </tr>\n",
       "    <tr>\n",
       "      <th>4</th>\n",
       "      <td>4</td>\n",
       "      <td>1000_4</td>\n",
       "      <td>302.56</td>\n",
       "      <td>2018-09-24</td>\n",
       "      <td>1000</td>\n",
       "    </tr>\n",
       "    <tr>\n",
       "      <th>...</th>\n",
       "      <td>...</td>\n",
       "      <td>...</td>\n",
       "      <td>...</td>\n",
       "      <td>...</td>\n",
       "      <td>...</td>\n",
       "    </tr>\n",
       "    <tr>\n",
       "      <th>149391</th>\n",
       "      <td>149391</td>\n",
       "      <td>1499_152</td>\n",
       "      <td>318.90</td>\n",
       "      <td>2018-10-03</td>\n",
       "      <td>1499</td>\n",
       "    </tr>\n",
       "    <tr>\n",
       "      <th>149392</th>\n",
       "      <td>149392</td>\n",
       "      <td>1499_153</td>\n",
       "      <td>490.13</td>\n",
       "      <td>2018-12-14</td>\n",
       "      <td>1499</td>\n",
       "    </tr>\n",
       "    <tr>\n",
       "      <th>149393</th>\n",
       "      <td>149393</td>\n",
       "      <td>1499_154</td>\n",
       "      <td>0.00</td>\n",
       "      <td>2018-10-27</td>\n",
       "      <td>1499</td>\n",
       "    </tr>\n",
       "    <tr>\n",
       "      <th>149394</th>\n",
       "      <td>149394</td>\n",
       "      <td>1499_155</td>\n",
       "      <td>1246.32</td>\n",
       "      <td>2018-11-26</td>\n",
       "      <td>1499</td>\n",
       "    </tr>\n",
       "    <tr>\n",
       "      <th>149395</th>\n",
       "      <td>149395</td>\n",
       "      <td>1499_156</td>\n",
       "      <td>544.37</td>\n",
       "      <td>2018-10-26</td>\n",
       "      <td>1499</td>\n",
       "    </tr>\n",
       "  </tbody>\n",
       "</table>\n",
       "<p>149396 rows × 5 columns</p>\n",
       "</div>"
      ],
      "text/plain": [
       "        Unnamed: 0        id  mb_used session_date  user_id\n",
       "0                0    1000_0   112.95   2018-11-25     1000\n",
       "1                1    1000_1  1052.81   2018-09-07     1000\n",
       "2                2    1000_2  1197.26   2018-06-25     1000\n",
       "3                3    1000_3   550.27   2018-08-22     1000\n",
       "4                4    1000_4   302.56   2018-09-24     1000\n",
       "...            ...       ...      ...          ...      ...\n",
       "149391      149391  1499_152   318.90   2018-10-03     1499\n",
       "149392      149392  1499_153   490.13   2018-12-14     1499\n",
       "149393      149393  1499_154     0.00   2018-10-27     1499\n",
       "149394      149394  1499_155  1246.32   2018-11-26     1499\n",
       "149395      149395  1499_156   544.37   2018-10-26     1499\n",
       "\n",
       "[149396 rows x 5 columns]"
      ]
     },
     "metadata": {},
     "output_type": "display_data"
    },
    {
     "name": "stdout",
     "output_type": "stream",
     "text": [
      "<class 'pandas.core.frame.DataFrame'>\n",
      "RangeIndex: 149396 entries, 0 to 149395\n",
      "Data columns (total 5 columns):\n",
      " #   Column        Non-Null Count   Dtype  \n",
      "---  ------        --------------   -----  \n",
      " 0   Unnamed: 0    149396 non-null  int64  \n",
      " 1   id            149396 non-null  object \n",
      " 2   mb_used       149396 non-null  float64\n",
      " 3   session_date  149396 non-null  object \n",
      " 4   user_id       149396 non-null  int64  \n",
      "dtypes: float64(1), int64(2), object(2)\n",
      "memory usage: 5.7+ MB\n"
     ]
    }
   ],
   "source": [
    "ds_internet = pd.read_csv('/datasets/internet.csv')\n",
    "display(ds_internet)\n",
    "ds_internet.info()"
   ]
  },
  {
   "cell_type": "markdown",
   "metadata": {},
   "source": [
    "В столбце 'mb_used' имеются нулевые значения, определим их количество:"
   ]
  },
  {
   "cell_type": "code",
   "execution_count": 6,
   "metadata": {
    "scrolled": false
   },
   "outputs": [
    {
     "data": {
      "text/plain": [
       "19598"
      ]
     },
     "execution_count": 6,
     "metadata": {},
     "output_type": "execute_result"
    }
   ],
   "source": [
    "ds_internet['mb_used'][ds_internet['mb_used']==0].count()"
   ]
  },
  {
   "cell_type": "markdown",
   "metadata": {},
   "source": [
    "Проверим на наличие дубликатов:"
   ]
  },
  {
   "cell_type": "code",
   "execution_count": 7,
   "metadata": {},
   "outputs": [
    {
     "data": {
      "text/plain": [
       "0"
      ]
     },
     "execution_count": 7,
     "metadata": {},
     "output_type": "execute_result"
    }
   ],
   "source": [
    "ds_internet.duplicated().sum()"
   ]
  },
  {
   "cell_type": "markdown",
   "metadata": {},
   "source": [
    "Таблица Internet (информация об интернет-сессиях):\n",
    "- не имеет пропущенных значений\n",
    "- не имеет дубликатов\n",
    "- нулевые значения в столбце \"mb_used\" - это несостоявшиеся сессии, их количество, относительно всего датасета, достаточно велико, оставим их без изменений\n",
    "- столбец \"session_date\" имеет тип object, необходимо привести его к типу datetime\n",
    "- из этого же столбца \"session_date\" извлечь значение месяцев в новый столбец \"month\" (потребуется для дальнейшего анализа и расчетов)\n",
    "- поскольку \"Мегалайн\" веб-трафик отдельными сессиями не считает, то пока переводить Мб в Гб не требуется, достаточно округлить значения до целого в большую сторону и изменить тип данных на int\n",
    "- столбцы \"id\" и \"Unnamed: 0\" не несут необходимой информации, можно их удалить\n",
    "\n",
    "Messages (информация о сообщениях)"
   ]
  },
  {
   "cell_type": "code",
   "execution_count": 8,
   "metadata": {},
   "outputs": [
    {
     "data": {
      "text/html": [
       "<div>\n",
       "<style scoped>\n",
       "    .dataframe tbody tr th:only-of-type {\n",
       "        vertical-align: middle;\n",
       "    }\n",
       "\n",
       "    .dataframe tbody tr th {\n",
       "        vertical-align: top;\n",
       "    }\n",
       "\n",
       "    .dataframe thead th {\n",
       "        text-align: right;\n",
       "    }\n",
       "</style>\n",
       "<table border=\"1\" class=\"dataframe\">\n",
       "  <thead>\n",
       "    <tr style=\"text-align: right;\">\n",
       "      <th></th>\n",
       "      <th>id</th>\n",
       "      <th>message_date</th>\n",
       "      <th>user_id</th>\n",
       "    </tr>\n",
       "  </thead>\n",
       "  <tbody>\n",
       "    <tr>\n",
       "      <th>0</th>\n",
       "      <td>1000_0</td>\n",
       "      <td>2018-06-27</td>\n",
       "      <td>1000</td>\n",
       "    </tr>\n",
       "    <tr>\n",
       "      <th>1</th>\n",
       "      <td>1000_1</td>\n",
       "      <td>2018-10-08</td>\n",
       "      <td>1000</td>\n",
       "    </tr>\n",
       "    <tr>\n",
       "      <th>2</th>\n",
       "      <td>1000_2</td>\n",
       "      <td>2018-08-04</td>\n",
       "      <td>1000</td>\n",
       "    </tr>\n",
       "    <tr>\n",
       "      <th>3</th>\n",
       "      <td>1000_3</td>\n",
       "      <td>2018-06-16</td>\n",
       "      <td>1000</td>\n",
       "    </tr>\n",
       "    <tr>\n",
       "      <th>4</th>\n",
       "      <td>1000_4</td>\n",
       "      <td>2018-12-05</td>\n",
       "      <td>1000</td>\n",
       "    </tr>\n",
       "    <tr>\n",
       "      <th>...</th>\n",
       "      <td>...</td>\n",
       "      <td>...</td>\n",
       "      <td>...</td>\n",
       "    </tr>\n",
       "    <tr>\n",
       "      <th>123031</th>\n",
       "      <td>1499_179</td>\n",
       "      <td>2018-12-12</td>\n",
       "      <td>1499</td>\n",
       "    </tr>\n",
       "    <tr>\n",
       "      <th>123032</th>\n",
       "      <td>1499_180</td>\n",
       "      <td>2018-09-28</td>\n",
       "      <td>1499</td>\n",
       "    </tr>\n",
       "    <tr>\n",
       "      <th>123033</th>\n",
       "      <td>1499_181</td>\n",
       "      <td>2018-09-27</td>\n",
       "      <td>1499</td>\n",
       "    </tr>\n",
       "    <tr>\n",
       "      <th>123034</th>\n",
       "      <td>1499_182</td>\n",
       "      <td>2018-11-15</td>\n",
       "      <td>1499</td>\n",
       "    </tr>\n",
       "    <tr>\n",
       "      <th>123035</th>\n",
       "      <td>1499_183</td>\n",
       "      <td>2018-11-16</td>\n",
       "      <td>1499</td>\n",
       "    </tr>\n",
       "  </tbody>\n",
       "</table>\n",
       "<p>123036 rows × 3 columns</p>\n",
       "</div>"
      ],
      "text/plain": [
       "              id message_date  user_id\n",
       "0         1000_0   2018-06-27     1000\n",
       "1         1000_1   2018-10-08     1000\n",
       "2         1000_2   2018-08-04     1000\n",
       "3         1000_3   2018-06-16     1000\n",
       "4         1000_4   2018-12-05     1000\n",
       "...          ...          ...      ...\n",
       "123031  1499_179   2018-12-12     1499\n",
       "123032  1499_180   2018-09-28     1499\n",
       "123033  1499_181   2018-09-27     1499\n",
       "123034  1499_182   2018-11-15     1499\n",
       "123035  1499_183   2018-11-16     1499\n",
       "\n",
       "[123036 rows x 3 columns]"
      ]
     },
     "metadata": {},
     "output_type": "display_data"
    },
    {
     "name": "stdout",
     "output_type": "stream",
     "text": [
      "<class 'pandas.core.frame.DataFrame'>\n",
      "RangeIndex: 123036 entries, 0 to 123035\n",
      "Data columns (total 3 columns):\n",
      " #   Column        Non-Null Count   Dtype \n",
      "---  ------        --------------   ----- \n",
      " 0   id            123036 non-null  object\n",
      " 1   message_date  123036 non-null  object\n",
      " 2   user_id       123036 non-null  int64 \n",
      "dtypes: int64(1), object(2)\n",
      "memory usage: 2.8+ MB\n"
     ]
    }
   ],
   "source": [
    "ds_messages = pd.read_csv('/datasets/messages.csv')\n",
    "display(ds_messages)\n",
    "ds_messages.info()"
   ]
  },
  {
   "cell_type": "markdown",
   "metadata": {},
   "source": [
    "Проверим на наличие дубликатов:"
   ]
  },
  {
   "cell_type": "code",
   "execution_count": 9,
   "metadata": {},
   "outputs": [
    {
     "data": {
      "text/plain": [
       "0"
      ]
     },
     "execution_count": 9,
     "metadata": {},
     "output_type": "execute_result"
    }
   ],
   "source": [
    "ds_messages.duplicated().sum()"
   ]
  },
  {
   "cell_type": "markdown",
   "metadata": {},
   "source": [
    "Таблица  Messages (информация о сообщениях):\n",
    "- не имеет пропущенных значений\n",
    "- не имеет дубликатов\n",
    "- столбец \"message_date\" имеет тип object, необходимо привести его к типу datetime\n",
    "- из этого же столбца \"message_date\" извлечь значение месяцев в новый столбец \"month\" (потребуется для дальнейшего анализа и расчетов)\n",
    "- столбец \"id\" не несет необходимой информации, можно его удалить\n",
    "\n",
    "Tariffs (информация о тарифах)"
   ]
  },
  {
   "cell_type": "code",
   "execution_count": 10,
   "metadata": {},
   "outputs": [
    {
     "data": {
      "text/html": [
       "<div>\n",
       "<style scoped>\n",
       "    .dataframe tbody tr th:only-of-type {\n",
       "        vertical-align: middle;\n",
       "    }\n",
       "\n",
       "    .dataframe tbody tr th {\n",
       "        vertical-align: top;\n",
       "    }\n",
       "\n",
       "    .dataframe thead th {\n",
       "        text-align: right;\n",
       "    }\n",
       "</style>\n",
       "<table border=\"1\" class=\"dataframe\">\n",
       "  <thead>\n",
       "    <tr style=\"text-align: right;\">\n",
       "      <th></th>\n",
       "      <th>messages_included</th>\n",
       "      <th>mb_per_month_included</th>\n",
       "      <th>minutes_included</th>\n",
       "      <th>rub_monthly_fee</th>\n",
       "      <th>rub_per_gb</th>\n",
       "      <th>rub_per_message</th>\n",
       "      <th>rub_per_minute</th>\n",
       "      <th>tariff_name</th>\n",
       "    </tr>\n",
       "  </thead>\n",
       "  <tbody>\n",
       "    <tr>\n",
       "      <th>0</th>\n",
       "      <td>50</td>\n",
       "      <td>15360</td>\n",
       "      <td>500</td>\n",
       "      <td>550</td>\n",
       "      <td>200</td>\n",
       "      <td>3</td>\n",
       "      <td>3</td>\n",
       "      <td>smart</td>\n",
       "    </tr>\n",
       "    <tr>\n",
       "      <th>1</th>\n",
       "      <td>1000</td>\n",
       "      <td>30720</td>\n",
       "      <td>3000</td>\n",
       "      <td>1950</td>\n",
       "      <td>150</td>\n",
       "      <td>1</td>\n",
       "      <td>1</td>\n",
       "      <td>ultra</td>\n",
       "    </tr>\n",
       "  </tbody>\n",
       "</table>\n",
       "</div>"
      ],
      "text/plain": [
       "   messages_included  mb_per_month_included  minutes_included  \\\n",
       "0                 50                  15360               500   \n",
       "1               1000                  30720              3000   \n",
       "\n",
       "   rub_monthly_fee  rub_per_gb  rub_per_message  rub_per_minute tariff_name  \n",
       "0              550         200                3               3       smart  \n",
       "1             1950         150                1               1       ultra  "
      ]
     },
     "metadata": {},
     "output_type": "display_data"
    },
    {
     "name": "stdout",
     "output_type": "stream",
     "text": [
      "<class 'pandas.core.frame.DataFrame'>\n",
      "RangeIndex: 2 entries, 0 to 1\n",
      "Data columns (total 8 columns):\n",
      " #   Column                 Non-Null Count  Dtype \n",
      "---  ------                 --------------  ----- \n",
      " 0   messages_included      2 non-null      int64 \n",
      " 1   mb_per_month_included  2 non-null      int64 \n",
      " 2   minutes_included       2 non-null      int64 \n",
      " 3   rub_monthly_fee        2 non-null      int64 \n",
      " 4   rub_per_gb             2 non-null      int64 \n",
      " 5   rub_per_message        2 non-null      int64 \n",
      " 6   rub_per_minute         2 non-null      int64 \n",
      " 7   tariff_name            2 non-null      object\n",
      "dtypes: int64(7), object(1)\n",
      "memory usage: 256.0+ bytes\n"
     ]
    }
   ],
   "source": [
    "ds_tariffs = pd.read_csv('/datasets/tariffs.csv')\n",
    "display(ds_tariffs)\n",
    "ds_tariffs.info()"
   ]
  },
  {
   "cell_type": "markdown",
   "metadata": {},
   "source": [
    "Таблица  Tariffs (информация о тарифах) предобработки данных не требует.\n",
    "\n",
    "Users (информация о пользователях)"
   ]
  },
  {
   "cell_type": "code",
   "execution_count": 11,
   "metadata": {},
   "outputs": [
    {
     "data": {
      "text/html": [
       "<div>\n",
       "<style scoped>\n",
       "    .dataframe tbody tr th:only-of-type {\n",
       "        vertical-align: middle;\n",
       "    }\n",
       "\n",
       "    .dataframe tbody tr th {\n",
       "        vertical-align: top;\n",
       "    }\n",
       "\n",
       "    .dataframe thead th {\n",
       "        text-align: right;\n",
       "    }\n",
       "</style>\n",
       "<table border=\"1\" class=\"dataframe\">\n",
       "  <thead>\n",
       "    <tr style=\"text-align: right;\">\n",
       "      <th></th>\n",
       "      <th>user_id</th>\n",
       "      <th>age</th>\n",
       "      <th>churn_date</th>\n",
       "      <th>city</th>\n",
       "      <th>first_name</th>\n",
       "      <th>last_name</th>\n",
       "      <th>reg_date</th>\n",
       "      <th>tariff</th>\n",
       "    </tr>\n",
       "  </thead>\n",
       "  <tbody>\n",
       "    <tr>\n",
       "      <th>0</th>\n",
       "      <td>1000</td>\n",
       "      <td>52</td>\n",
       "      <td>NaN</td>\n",
       "      <td>Краснодар</td>\n",
       "      <td>Рафаил</td>\n",
       "      <td>Верещагин</td>\n",
       "      <td>2018-05-25</td>\n",
       "      <td>ultra</td>\n",
       "    </tr>\n",
       "    <tr>\n",
       "      <th>1</th>\n",
       "      <td>1001</td>\n",
       "      <td>41</td>\n",
       "      <td>NaN</td>\n",
       "      <td>Москва</td>\n",
       "      <td>Иван</td>\n",
       "      <td>Ежов</td>\n",
       "      <td>2018-11-01</td>\n",
       "      <td>smart</td>\n",
       "    </tr>\n",
       "    <tr>\n",
       "      <th>2</th>\n",
       "      <td>1002</td>\n",
       "      <td>59</td>\n",
       "      <td>NaN</td>\n",
       "      <td>Стерлитамак</td>\n",
       "      <td>Евгений</td>\n",
       "      <td>Абрамович</td>\n",
       "      <td>2018-06-17</td>\n",
       "      <td>smart</td>\n",
       "    </tr>\n",
       "    <tr>\n",
       "      <th>3</th>\n",
       "      <td>1003</td>\n",
       "      <td>23</td>\n",
       "      <td>NaN</td>\n",
       "      <td>Москва</td>\n",
       "      <td>Белла</td>\n",
       "      <td>Белякова</td>\n",
       "      <td>2018-08-17</td>\n",
       "      <td>ultra</td>\n",
       "    </tr>\n",
       "    <tr>\n",
       "      <th>4</th>\n",
       "      <td>1004</td>\n",
       "      <td>68</td>\n",
       "      <td>NaN</td>\n",
       "      <td>Новокузнецк</td>\n",
       "      <td>Татьяна</td>\n",
       "      <td>Авдеенко</td>\n",
       "      <td>2018-05-14</td>\n",
       "      <td>ultra</td>\n",
       "    </tr>\n",
       "    <tr>\n",
       "      <th>...</th>\n",
       "      <td>...</td>\n",
       "      <td>...</td>\n",
       "      <td>...</td>\n",
       "      <td>...</td>\n",
       "      <td>...</td>\n",
       "      <td>...</td>\n",
       "      <td>...</td>\n",
       "      <td>...</td>\n",
       "    </tr>\n",
       "    <tr>\n",
       "      <th>495</th>\n",
       "      <td>1495</td>\n",
       "      <td>65</td>\n",
       "      <td>NaN</td>\n",
       "      <td>Иркутск</td>\n",
       "      <td>Авксентий</td>\n",
       "      <td>Фокин</td>\n",
       "      <td>2018-08-28</td>\n",
       "      <td>ultra</td>\n",
       "    </tr>\n",
       "    <tr>\n",
       "      <th>496</th>\n",
       "      <td>1496</td>\n",
       "      <td>36</td>\n",
       "      <td>NaN</td>\n",
       "      <td>Вологда</td>\n",
       "      <td>Трифон</td>\n",
       "      <td>Блохин</td>\n",
       "      <td>2018-01-27</td>\n",
       "      <td>smart</td>\n",
       "    </tr>\n",
       "    <tr>\n",
       "      <th>497</th>\n",
       "      <td>1497</td>\n",
       "      <td>32</td>\n",
       "      <td>NaN</td>\n",
       "      <td>Челябинск</td>\n",
       "      <td>Каролина</td>\n",
       "      <td>Агеева</td>\n",
       "      <td>2018-10-09</td>\n",
       "      <td>smart</td>\n",
       "    </tr>\n",
       "    <tr>\n",
       "      <th>498</th>\n",
       "      <td>1498</td>\n",
       "      <td>68</td>\n",
       "      <td>2018-10-25</td>\n",
       "      <td>Владикавказ</td>\n",
       "      <td>Всеволод</td>\n",
       "      <td>Акимчин</td>\n",
       "      <td>2018-07-19</td>\n",
       "      <td>smart</td>\n",
       "    </tr>\n",
       "    <tr>\n",
       "      <th>499</th>\n",
       "      <td>1499</td>\n",
       "      <td>35</td>\n",
       "      <td>NaN</td>\n",
       "      <td>Пермь</td>\n",
       "      <td>Гектор</td>\n",
       "      <td>Корнилов</td>\n",
       "      <td>2018-09-27</td>\n",
       "      <td>smart</td>\n",
       "    </tr>\n",
       "  </tbody>\n",
       "</table>\n",
       "<p>500 rows × 8 columns</p>\n",
       "</div>"
      ],
      "text/plain": [
       "     user_id  age  churn_date         city first_name  last_name    reg_date  \\\n",
       "0       1000   52         NaN    Краснодар     Рафаил  Верещагин  2018-05-25   \n",
       "1       1001   41         NaN       Москва       Иван       Ежов  2018-11-01   \n",
       "2       1002   59         NaN  Стерлитамак    Евгений  Абрамович  2018-06-17   \n",
       "3       1003   23         NaN       Москва      Белла   Белякова  2018-08-17   \n",
       "4       1004   68         NaN  Новокузнецк    Татьяна   Авдеенко  2018-05-14   \n",
       "..       ...  ...         ...          ...        ...        ...         ...   \n",
       "495     1495   65         NaN      Иркутск  Авксентий      Фокин  2018-08-28   \n",
       "496     1496   36         NaN      Вологда     Трифон     Блохин  2018-01-27   \n",
       "497     1497   32         NaN    Челябинск   Каролина     Агеева  2018-10-09   \n",
       "498     1498   68  2018-10-25  Владикавказ   Всеволод    Акимчин  2018-07-19   \n",
       "499     1499   35         NaN        Пермь     Гектор   Корнилов  2018-09-27   \n",
       "\n",
       "    tariff  \n",
       "0    ultra  \n",
       "1    smart  \n",
       "2    smart  \n",
       "3    ultra  \n",
       "4    ultra  \n",
       "..     ...  \n",
       "495  ultra  \n",
       "496  smart  \n",
       "497  smart  \n",
       "498  smart  \n",
       "499  smart  \n",
       "\n",
       "[500 rows x 8 columns]"
      ]
     },
     "metadata": {},
     "output_type": "display_data"
    },
    {
     "name": "stdout",
     "output_type": "stream",
     "text": [
      "<class 'pandas.core.frame.DataFrame'>\n",
      "RangeIndex: 500 entries, 0 to 499\n",
      "Data columns (total 8 columns):\n",
      " #   Column      Non-Null Count  Dtype \n",
      "---  ------      --------------  ----- \n",
      " 0   user_id     500 non-null    int64 \n",
      " 1   age         500 non-null    int64 \n",
      " 2   churn_date  38 non-null     object\n",
      " 3   city        500 non-null    object\n",
      " 4   first_name  500 non-null    object\n",
      " 5   last_name   500 non-null    object\n",
      " 6   reg_date    500 non-null    object\n",
      " 7   tariff      500 non-null    object\n",
      "dtypes: int64(2), object(6)\n",
      "memory usage: 31.4+ KB\n"
     ]
    }
   ],
   "source": [
    "ds_users = pd.read_csv('/datasets/users.csv')\n",
    "display(ds_users)\n",
    "ds_users.info()"
   ]
  },
  {
   "cell_type": "markdown",
   "metadata": {},
   "source": [
    "Проверим на наличие дубликатов:"
   ]
  },
  {
   "cell_type": "code",
   "execution_count": 12,
   "metadata": {},
   "outputs": [
    {
     "data": {
      "text/plain": [
       "0"
      ]
     },
     "execution_count": 12,
     "metadata": {},
     "output_type": "execute_result"
    }
   ],
   "source": [
    "ds_users.duplicated().sum()"
   ]
  },
  {
   "cell_type": "markdown",
   "metadata": {},
   "source": [
    "Таблица  Users (информация о пользователях):\n",
    "- пропущенные значения в столбце \"churn_date\" (462 значения) оставить без изменений, привести тип столбца к datetime\n",
    "- из этого же столбца \"churn_date\" извлечь значение месяцев (где возможно) в новый столбец \"сhurn_month\" (потребуется для дальнейшего анализа и расчетов), заменить пропущенные значения на 0 и привести к типу int\n",
    "- не имеет дубликатов\n",
    "- столбец \"reg_date\" имеет тип object, необходимо привести его к типу datetime\n",
    "- из этого же столбца \"reg_date\" извлечь значение месяцев в новый столбец \"reg_month\" (потребуется для дальнейшего анализа и расчетов)\n",
    "- можно привести значения столбцов \"city\", \"first_name\", \"last_name\" к нижнему регистру и еще раз проверить на наличие дубликатов"
   ]
  },
  {
   "cell_type": "markdown",
   "metadata": {},
   "source": [
    "## Предобработка данных"
   ]
  },
  {
   "cell_type": "markdown",
   "metadata": {},
   "source": [
    "Согласно описанным выше недочетам проведем предобработку данных каждой из таблиц поочередно.\n",
    "\n",
    "Calls (информация о звонках)"
   ]
  },
  {
   "cell_type": "code",
   "execution_count": 13,
   "metadata": {},
   "outputs": [
    {
     "data": {
      "text/html": [
       "<div>\n",
       "<style scoped>\n",
       "    .dataframe tbody tr th:only-of-type {\n",
       "        vertical-align: middle;\n",
       "    }\n",
       "\n",
       "    .dataframe tbody tr th {\n",
       "        vertical-align: top;\n",
       "    }\n",
       "\n",
       "    .dataframe thead th {\n",
       "        text-align: right;\n",
       "    }\n",
       "</style>\n",
       "<table border=\"1\" class=\"dataframe\">\n",
       "  <thead>\n",
       "    <tr style=\"text-align: right;\">\n",
       "      <th></th>\n",
       "      <th>call_date</th>\n",
       "      <th>duration</th>\n",
       "      <th>user_id</th>\n",
       "      <th>month</th>\n",
       "    </tr>\n",
       "  </thead>\n",
       "  <tbody>\n",
       "    <tr>\n",
       "      <th>0</th>\n",
       "      <td>2018-07-25</td>\n",
       "      <td>0</td>\n",
       "      <td>1000</td>\n",
       "      <td>7</td>\n",
       "    </tr>\n",
       "    <tr>\n",
       "      <th>1</th>\n",
       "      <td>2018-08-17</td>\n",
       "      <td>0</td>\n",
       "      <td>1000</td>\n",
       "      <td>8</td>\n",
       "    </tr>\n",
       "    <tr>\n",
       "      <th>2</th>\n",
       "      <td>2018-06-11</td>\n",
       "      <td>3</td>\n",
       "      <td>1000</td>\n",
       "      <td>6</td>\n",
       "    </tr>\n",
       "    <tr>\n",
       "      <th>3</th>\n",
       "      <td>2018-09-21</td>\n",
       "      <td>14</td>\n",
       "      <td>1000</td>\n",
       "      <td>9</td>\n",
       "    </tr>\n",
       "    <tr>\n",
       "      <th>4</th>\n",
       "      <td>2018-12-15</td>\n",
       "      <td>6</td>\n",
       "      <td>1000</td>\n",
       "      <td>12</td>\n",
       "    </tr>\n",
       "  </tbody>\n",
       "</table>\n",
       "</div>"
      ],
      "text/plain": [
       "   call_date  duration  user_id  month\n",
       "0 2018-07-25         0     1000      7\n",
       "1 2018-08-17         0     1000      8\n",
       "2 2018-06-11         3     1000      6\n",
       "3 2018-09-21        14     1000      9\n",
       "4 2018-12-15         6     1000     12"
      ]
     },
     "execution_count": 13,
     "metadata": {},
     "output_type": "execute_result"
    }
   ],
   "source": [
    "ds_calls['call_date'] = pd.to_datetime(ds_calls['call_date'], format='%Y-%m-%d') # приводим значения столбца к типу datetime\n",
    "ds_calls['month'] = ds_calls['call_date'].dt.month  # создаем столбец с указанием месяца звонка\n",
    "ds_calls['duration'] = np.ceil(ds_calls['duration']).astype('int') # приводим значения столбца к типу int, c округлением в большую сторону\n",
    "ds_calls = ds_calls.drop(['id'], axis=1) # удаляем ненужный столбец \"id\"\n",
    "ds_calls.head()"
   ]
  },
  {
   "cell_type": "markdown",
   "metadata": {},
   "source": [
    "Internet (информация об интернет-сессиях)"
   ]
  },
  {
   "cell_type": "code",
   "execution_count": 14,
   "metadata": {},
   "outputs": [
    {
     "data": {
      "text/html": [
       "<div>\n",
       "<style scoped>\n",
       "    .dataframe tbody tr th:only-of-type {\n",
       "        vertical-align: middle;\n",
       "    }\n",
       "\n",
       "    .dataframe tbody tr th {\n",
       "        vertical-align: top;\n",
       "    }\n",
       "\n",
       "    .dataframe thead th {\n",
       "        text-align: right;\n",
       "    }\n",
       "</style>\n",
       "<table border=\"1\" class=\"dataframe\">\n",
       "  <thead>\n",
       "    <tr style=\"text-align: right;\">\n",
       "      <th></th>\n",
       "      <th>mb_used</th>\n",
       "      <th>session_date</th>\n",
       "      <th>user_id</th>\n",
       "      <th>month</th>\n",
       "    </tr>\n",
       "  </thead>\n",
       "  <tbody>\n",
       "    <tr>\n",
       "      <th>0</th>\n",
       "      <td>113</td>\n",
       "      <td>2018-11-25</td>\n",
       "      <td>1000</td>\n",
       "      <td>11</td>\n",
       "    </tr>\n",
       "    <tr>\n",
       "      <th>1</th>\n",
       "      <td>1053</td>\n",
       "      <td>2018-09-07</td>\n",
       "      <td>1000</td>\n",
       "      <td>9</td>\n",
       "    </tr>\n",
       "    <tr>\n",
       "      <th>2</th>\n",
       "      <td>1198</td>\n",
       "      <td>2018-06-25</td>\n",
       "      <td>1000</td>\n",
       "      <td>6</td>\n",
       "    </tr>\n",
       "    <tr>\n",
       "      <th>3</th>\n",
       "      <td>551</td>\n",
       "      <td>2018-08-22</td>\n",
       "      <td>1000</td>\n",
       "      <td>8</td>\n",
       "    </tr>\n",
       "    <tr>\n",
       "      <th>4</th>\n",
       "      <td>303</td>\n",
       "      <td>2018-09-24</td>\n",
       "      <td>1000</td>\n",
       "      <td>9</td>\n",
       "    </tr>\n",
       "  </tbody>\n",
       "</table>\n",
       "</div>"
      ],
      "text/plain": [
       "   mb_used session_date  user_id  month\n",
       "0      113   2018-11-25     1000     11\n",
       "1     1053   2018-09-07     1000      9\n",
       "2     1198   2018-06-25     1000      6\n",
       "3      551   2018-08-22     1000      8\n",
       "4      303   2018-09-24     1000      9"
      ]
     },
     "execution_count": 14,
     "metadata": {},
     "output_type": "execute_result"
    }
   ],
   "source": [
    "ds_internet['session_date'] = pd.to_datetime(ds_internet['session_date'], format='%Y-%m-%d') # приводим значения столбца к типу datetime\n",
    "ds_internet['month'] = ds_internet['session_date'].dt.month  # создаем столбец с указанием месяца веб-сессии\n",
    "ds_internet['mb_used'] = np.ceil(ds_internet['mb_used']).astype('int') # приводим значения столбца к типу int, c округлением в большую сторону\n",
    "ds_internet = ds_internet.drop(['id', 'Unnamed: 0'], axis=1) # удаляем ненужные столбцы \"id\" и \"Unnamed: 0\"\n",
    "ds_internet.head()"
   ]
  },
  {
   "cell_type": "markdown",
   "metadata": {},
   "source": [
    "Messages (информация о сообщениях)"
   ]
  },
  {
   "cell_type": "code",
   "execution_count": 15,
   "metadata": {},
   "outputs": [
    {
     "data": {
      "text/html": [
       "<div>\n",
       "<style scoped>\n",
       "    .dataframe tbody tr th:only-of-type {\n",
       "        vertical-align: middle;\n",
       "    }\n",
       "\n",
       "    .dataframe tbody tr th {\n",
       "        vertical-align: top;\n",
       "    }\n",
       "\n",
       "    .dataframe thead th {\n",
       "        text-align: right;\n",
       "    }\n",
       "</style>\n",
       "<table border=\"1\" class=\"dataframe\">\n",
       "  <thead>\n",
       "    <tr style=\"text-align: right;\">\n",
       "      <th></th>\n",
       "      <th>message_date</th>\n",
       "      <th>user_id</th>\n",
       "      <th>month</th>\n",
       "    </tr>\n",
       "  </thead>\n",
       "  <tbody>\n",
       "    <tr>\n",
       "      <th>0</th>\n",
       "      <td>2018-06-27</td>\n",
       "      <td>1000</td>\n",
       "      <td>6</td>\n",
       "    </tr>\n",
       "    <tr>\n",
       "      <th>1</th>\n",
       "      <td>2018-10-08</td>\n",
       "      <td>1000</td>\n",
       "      <td>10</td>\n",
       "    </tr>\n",
       "    <tr>\n",
       "      <th>2</th>\n",
       "      <td>2018-08-04</td>\n",
       "      <td>1000</td>\n",
       "      <td>8</td>\n",
       "    </tr>\n",
       "    <tr>\n",
       "      <th>3</th>\n",
       "      <td>2018-06-16</td>\n",
       "      <td>1000</td>\n",
       "      <td>6</td>\n",
       "    </tr>\n",
       "    <tr>\n",
       "      <th>4</th>\n",
       "      <td>2018-12-05</td>\n",
       "      <td>1000</td>\n",
       "      <td>12</td>\n",
       "    </tr>\n",
       "  </tbody>\n",
       "</table>\n",
       "</div>"
      ],
      "text/plain": [
       "  message_date  user_id  month\n",
       "0   2018-06-27     1000      6\n",
       "1   2018-10-08     1000     10\n",
       "2   2018-08-04     1000      8\n",
       "3   2018-06-16     1000      6\n",
       "4   2018-12-05     1000     12"
      ]
     },
     "execution_count": 15,
     "metadata": {},
     "output_type": "execute_result"
    }
   ],
   "source": [
    "ds_messages['message_date'] = pd.to_datetime(ds_messages['message_date'], format='%Y-%m-%d') # приводим значения столбца к типу datetime\n",
    "ds_messages['month'] = ds_messages['message_date'].dt.month  # создаем столбец с указанием месяца веб-сессии\n",
    "ds_messages = ds_messages.drop(['id'], axis=1) # удаляем ненужный столбец \"id\"\n",
    "ds_messages.head()"
   ]
  },
  {
   "cell_type": "markdown",
   "metadata": {},
   "source": [
    "Users (информация о пользователях)"
   ]
  },
  {
   "cell_type": "code",
   "execution_count": 16,
   "metadata": {},
   "outputs": [
    {
     "data": {
      "text/plain": [
       "'Количество дубликатов:'"
      ]
     },
     "metadata": {},
     "output_type": "display_data"
    },
    {
     "data": {
      "text/plain": [
       "0"
      ]
     },
     "metadata": {},
     "output_type": "display_data"
    },
    {
     "data": {
      "text/html": [
       "<div>\n",
       "<style scoped>\n",
       "    .dataframe tbody tr th:only-of-type {\n",
       "        vertical-align: middle;\n",
       "    }\n",
       "\n",
       "    .dataframe tbody tr th {\n",
       "        vertical-align: top;\n",
       "    }\n",
       "\n",
       "    .dataframe thead th {\n",
       "        text-align: right;\n",
       "    }\n",
       "</style>\n",
       "<table border=\"1\" class=\"dataframe\">\n",
       "  <thead>\n",
       "    <tr style=\"text-align: right;\">\n",
       "      <th></th>\n",
       "      <th>user_id</th>\n",
       "      <th>age</th>\n",
       "      <th>churn_date</th>\n",
       "      <th>city</th>\n",
       "      <th>first_name</th>\n",
       "      <th>last_name</th>\n",
       "      <th>reg_date</th>\n",
       "      <th>tariff</th>\n",
       "      <th>churn_month</th>\n",
       "      <th>reg_month</th>\n",
       "    </tr>\n",
       "  </thead>\n",
       "  <tbody>\n",
       "    <tr>\n",
       "      <th>0</th>\n",
       "      <td>1000</td>\n",
       "      <td>52</td>\n",
       "      <td>NaT</td>\n",
       "      <td>Краснодар</td>\n",
       "      <td>Рафаил</td>\n",
       "      <td>Верещагин</td>\n",
       "      <td>2018-05-25</td>\n",
       "      <td>ultra</td>\n",
       "      <td>0</td>\n",
       "      <td>5</td>\n",
       "    </tr>\n",
       "    <tr>\n",
       "      <th>1</th>\n",
       "      <td>1001</td>\n",
       "      <td>41</td>\n",
       "      <td>NaT</td>\n",
       "      <td>Москва</td>\n",
       "      <td>Иван</td>\n",
       "      <td>Ежов</td>\n",
       "      <td>2018-11-01</td>\n",
       "      <td>smart</td>\n",
       "      <td>0</td>\n",
       "      <td>11</td>\n",
       "    </tr>\n",
       "    <tr>\n",
       "      <th>2</th>\n",
       "      <td>1002</td>\n",
       "      <td>59</td>\n",
       "      <td>NaT</td>\n",
       "      <td>Стерлитамак</td>\n",
       "      <td>Евгений</td>\n",
       "      <td>Абрамович</td>\n",
       "      <td>2018-06-17</td>\n",
       "      <td>smart</td>\n",
       "      <td>0</td>\n",
       "      <td>6</td>\n",
       "    </tr>\n",
       "    <tr>\n",
       "      <th>3</th>\n",
       "      <td>1003</td>\n",
       "      <td>23</td>\n",
       "      <td>NaT</td>\n",
       "      <td>Москва</td>\n",
       "      <td>Белла</td>\n",
       "      <td>Белякова</td>\n",
       "      <td>2018-08-17</td>\n",
       "      <td>ultra</td>\n",
       "      <td>0</td>\n",
       "      <td>8</td>\n",
       "    </tr>\n",
       "    <tr>\n",
       "      <th>4</th>\n",
       "      <td>1004</td>\n",
       "      <td>68</td>\n",
       "      <td>NaT</td>\n",
       "      <td>Новокузнецк</td>\n",
       "      <td>Татьяна</td>\n",
       "      <td>Авдеенко</td>\n",
       "      <td>2018-05-14</td>\n",
       "      <td>ultra</td>\n",
       "      <td>0</td>\n",
       "      <td>5</td>\n",
       "    </tr>\n",
       "    <tr>\n",
       "      <th>...</th>\n",
       "      <td>...</td>\n",
       "      <td>...</td>\n",
       "      <td>...</td>\n",
       "      <td>...</td>\n",
       "      <td>...</td>\n",
       "      <td>...</td>\n",
       "      <td>...</td>\n",
       "      <td>...</td>\n",
       "      <td>...</td>\n",
       "      <td>...</td>\n",
       "    </tr>\n",
       "    <tr>\n",
       "      <th>495</th>\n",
       "      <td>1495</td>\n",
       "      <td>65</td>\n",
       "      <td>NaT</td>\n",
       "      <td>Иркутск</td>\n",
       "      <td>Авксентий</td>\n",
       "      <td>Фокин</td>\n",
       "      <td>2018-08-28</td>\n",
       "      <td>ultra</td>\n",
       "      <td>0</td>\n",
       "      <td>8</td>\n",
       "    </tr>\n",
       "    <tr>\n",
       "      <th>496</th>\n",
       "      <td>1496</td>\n",
       "      <td>36</td>\n",
       "      <td>NaT</td>\n",
       "      <td>Вологда</td>\n",
       "      <td>Трифон</td>\n",
       "      <td>Блохин</td>\n",
       "      <td>2018-01-27</td>\n",
       "      <td>smart</td>\n",
       "      <td>0</td>\n",
       "      <td>1</td>\n",
       "    </tr>\n",
       "    <tr>\n",
       "      <th>497</th>\n",
       "      <td>1497</td>\n",
       "      <td>32</td>\n",
       "      <td>NaT</td>\n",
       "      <td>Челябинск</td>\n",
       "      <td>Каролина</td>\n",
       "      <td>Агеева</td>\n",
       "      <td>2018-10-09</td>\n",
       "      <td>smart</td>\n",
       "      <td>0</td>\n",
       "      <td>10</td>\n",
       "    </tr>\n",
       "    <tr>\n",
       "      <th>498</th>\n",
       "      <td>1498</td>\n",
       "      <td>68</td>\n",
       "      <td>2018-10-25</td>\n",
       "      <td>Владикавказ</td>\n",
       "      <td>Всеволод</td>\n",
       "      <td>Акимчин</td>\n",
       "      <td>2018-07-19</td>\n",
       "      <td>smart</td>\n",
       "      <td>10</td>\n",
       "      <td>7</td>\n",
       "    </tr>\n",
       "    <tr>\n",
       "      <th>499</th>\n",
       "      <td>1499</td>\n",
       "      <td>35</td>\n",
       "      <td>NaT</td>\n",
       "      <td>Пермь</td>\n",
       "      <td>Гектор</td>\n",
       "      <td>Корнилов</td>\n",
       "      <td>2018-09-27</td>\n",
       "      <td>smart</td>\n",
       "      <td>0</td>\n",
       "      <td>9</td>\n",
       "    </tr>\n",
       "  </tbody>\n",
       "</table>\n",
       "<p>500 rows × 10 columns</p>\n",
       "</div>"
      ],
      "text/plain": [
       "     user_id  age churn_date         city first_name  last_name   reg_date  \\\n",
       "0       1000   52        NaT    Краснодар     Рафаил  Верещагин 2018-05-25   \n",
       "1       1001   41        NaT       Москва       Иван       Ежов 2018-11-01   \n",
       "2       1002   59        NaT  Стерлитамак    Евгений  Абрамович 2018-06-17   \n",
       "3       1003   23        NaT       Москва      Белла   Белякова 2018-08-17   \n",
       "4       1004   68        NaT  Новокузнецк    Татьяна   Авдеенко 2018-05-14   \n",
       "..       ...  ...        ...          ...        ...        ...        ...   \n",
       "495     1495   65        NaT      Иркутск  Авксентий      Фокин 2018-08-28   \n",
       "496     1496   36        NaT      Вологда     Трифон     Блохин 2018-01-27   \n",
       "497     1497   32        NaT    Челябинск   Каролина     Агеева 2018-10-09   \n",
       "498     1498   68 2018-10-25  Владикавказ   Всеволод    Акимчин 2018-07-19   \n",
       "499     1499   35        NaT        Пермь     Гектор   Корнилов 2018-09-27   \n",
       "\n",
       "    tariff  churn_month  reg_month  \n",
       "0    ultra            0          5  \n",
       "1    smart            0         11  \n",
       "2    smart            0          6  \n",
       "3    ultra            0          8  \n",
       "4    ultra            0          5  \n",
       "..     ...          ...        ...  \n",
       "495  ultra            0          8  \n",
       "496  smart            0          1  \n",
       "497  smart            0         10  \n",
       "498  smart           10          7  \n",
       "499  smart            0          9  \n",
       "\n",
       "[500 rows x 10 columns]"
      ]
     },
     "execution_count": 16,
     "metadata": {},
     "output_type": "execute_result"
    }
   ],
   "source": [
    "ds_users['churn_date'] = pd.to_datetime(ds_users['churn_date'], format='%Y-%m-%d') # приводим значения столбца к типу datetime\n",
    "ds_users['churn_month'] = ds_users['churn_date'].dt.month  # создаем столбец с указанием месяца прекращения пользования тарифом\n",
    "ds_users['churn_month'] = ds_users['churn_month'].fillna(0).astype('int') # заменяем NaN на 0 и приводим значения к типу int\n",
    "\n",
    "ds_users['reg_date'] = pd.to_datetime(ds_users['reg_date'], format='%Y-%m-%d') # приводим значения столбца к типу datetime\n",
    "ds_users['reg_month'] = ds_users['reg_date'].dt.month  # создаем столбец с указанием месяца подключения тарифа\n",
    "\n",
    "for column in ['city', 'first_name', 'last_name']: # через цикл приводим значения указанных выше столбцов к нижнему регистру\n",
    "    ds_users[column] = ds_users[column].str.lower()\n",
    "display(\"Количество дубликатов:\", ds_users.duplicated().sum()) # проверяем на наличие дубликатов\n",
    "\n",
    "for column in ['city', 'first_name', 'last_name']: # дубликатов не нашлось, а названия городов, имена и фамилии правильнее указывать с заглавной буквы\n",
    "    ds_users[column] = ds_users[column].str.capitalize()\n",
    "\n",
    "ds_users"
   ]
  },
  {
   "cell_type": "markdown",
   "metadata": {},
   "source": [
    "**Расчеты для каждого пользователя**\n",
    "\n",
    "Для расчетов по каждому пользователю по месяцам создадим сводные таблицы\n",
    "1. Количество сделанных звонков и израсходованных минут разговора по месяцам"
   ]
  },
  {
   "cell_type": "code",
   "execution_count": 17,
   "metadata": {},
   "outputs": [
    {
     "data": {
      "text/html": [
       "<div>\n",
       "<style scoped>\n",
       "    .dataframe tbody tr th:only-of-type {\n",
       "        vertical-align: middle;\n",
       "    }\n",
       "\n",
       "    .dataframe tbody tr th {\n",
       "        vertical-align: top;\n",
       "    }\n",
       "\n",
       "    .dataframe thead th {\n",
       "        text-align: right;\n",
       "    }\n",
       "</style>\n",
       "<table border=\"1\" class=\"dataframe\">\n",
       "  <thead>\n",
       "    <tr style=\"text-align: right;\">\n",
       "      <th></th>\n",
       "      <th></th>\n",
       "      <th>calls_count</th>\n",
       "      <th>calls_duration</th>\n",
       "    </tr>\n",
       "    <tr>\n",
       "      <th>user_id</th>\n",
       "      <th>month</th>\n",
       "      <th></th>\n",
       "      <th></th>\n",
       "    </tr>\n",
       "  </thead>\n",
       "  <tbody>\n",
       "    <tr>\n",
       "      <th rowspan=\"5\" valign=\"top\">1000</th>\n",
       "      <th>5</th>\n",
       "      <td>22</td>\n",
       "      <td>159</td>\n",
       "    </tr>\n",
       "    <tr>\n",
       "      <th>6</th>\n",
       "      <td>43</td>\n",
       "      <td>172</td>\n",
       "    </tr>\n",
       "    <tr>\n",
       "      <th>7</th>\n",
       "      <td>47</td>\n",
       "      <td>340</td>\n",
       "    </tr>\n",
       "    <tr>\n",
       "      <th>8</th>\n",
       "      <td>52</td>\n",
       "      <td>408</td>\n",
       "    </tr>\n",
       "    <tr>\n",
       "      <th>9</th>\n",
       "      <td>58</td>\n",
       "      <td>466</td>\n",
       "    </tr>\n",
       "    <tr>\n",
       "      <th>...</th>\n",
       "      <th>...</th>\n",
       "      <td>...</td>\n",
       "      <td>...</td>\n",
       "    </tr>\n",
       "    <tr>\n",
       "      <th>1498</th>\n",
       "      <th>10</th>\n",
       "      <td>41</td>\n",
       "      <td>247</td>\n",
       "    </tr>\n",
       "    <tr>\n",
       "      <th rowspan=\"4\" valign=\"top\">1499</th>\n",
       "      <th>9</th>\n",
       "      <td>9</td>\n",
       "      <td>70</td>\n",
       "    </tr>\n",
       "    <tr>\n",
       "      <th>10</th>\n",
       "      <td>68</td>\n",
       "      <td>449</td>\n",
       "    </tr>\n",
       "    <tr>\n",
       "      <th>11</th>\n",
       "      <td>74</td>\n",
       "      <td>612</td>\n",
       "    </tr>\n",
       "    <tr>\n",
       "      <th>12</th>\n",
       "      <td>69</td>\n",
       "      <td>492</td>\n",
       "    </tr>\n",
       "  </tbody>\n",
       "</table>\n",
       "<p>3174 rows × 2 columns</p>\n",
       "</div>"
      ],
      "text/plain": [
       "               calls_count  calls_duration\n",
       "user_id month                             \n",
       "1000    5               22             159\n",
       "        6               43             172\n",
       "        7               47             340\n",
       "        8               52             408\n",
       "        9               58             466\n",
       "...                    ...             ...\n",
       "1498    10              41             247\n",
       "1499    9                9              70\n",
       "        10              68             449\n",
       "        11              74             612\n",
       "        12              69             492\n",
       "\n",
       "[3174 rows x 2 columns]"
      ]
     },
     "execution_count": 17,
     "metadata": {},
     "output_type": "execute_result"
    }
   ],
   "source": [
    "calls_in_month = ds_calls.pivot_table(     # создаем сводную таблилцу\n",
    "    index=['user_id', 'month'],\n",
    "    values='duration',\n",
    "    aggfunc=['count', 'sum']\n",
    ")\n",
    "calls_in_month.columns = ['calls_count', 'calls_duration'] # для удобства переименуем столбцы сводной таблицы\n",
    "calls_in_month"
   ]
  },
  {
   "cell_type": "markdown",
   "metadata": {},
   "source": [
    "2. Количество отправленных сообщений по месяцам"
   ]
  },
  {
   "cell_type": "code",
   "execution_count": 18,
   "metadata": {},
   "outputs": [
    {
     "data": {
      "text/html": [
       "<div>\n",
       "<style scoped>\n",
       "    .dataframe tbody tr th:only-of-type {\n",
       "        vertical-align: middle;\n",
       "    }\n",
       "\n",
       "    .dataframe tbody tr th {\n",
       "        vertical-align: top;\n",
       "    }\n",
       "\n",
       "    .dataframe thead th {\n",
       "        text-align: right;\n",
       "    }\n",
       "</style>\n",
       "<table border=\"1\" class=\"dataframe\">\n",
       "  <thead>\n",
       "    <tr style=\"text-align: right;\">\n",
       "      <th></th>\n",
       "      <th></th>\n",
       "      <th>messages_count</th>\n",
       "    </tr>\n",
       "    <tr>\n",
       "      <th>user_id</th>\n",
       "      <th>month</th>\n",
       "      <th></th>\n",
       "    </tr>\n",
       "  </thead>\n",
       "  <tbody>\n",
       "    <tr>\n",
       "      <th rowspan=\"5\" valign=\"top\">1000</th>\n",
       "      <th>5</th>\n",
       "      <td>22</td>\n",
       "    </tr>\n",
       "    <tr>\n",
       "      <th>6</th>\n",
       "      <td>60</td>\n",
       "    </tr>\n",
       "    <tr>\n",
       "      <th>7</th>\n",
       "      <td>75</td>\n",
       "    </tr>\n",
       "    <tr>\n",
       "      <th>8</th>\n",
       "      <td>81</td>\n",
       "    </tr>\n",
       "    <tr>\n",
       "      <th>9</th>\n",
       "      <td>57</td>\n",
       "    </tr>\n",
       "    <tr>\n",
       "      <th>...</th>\n",
       "      <th>...</th>\n",
       "      <td>...</td>\n",
       "    </tr>\n",
       "    <tr>\n",
       "      <th>1498</th>\n",
       "      <th>10</th>\n",
       "      <td>42</td>\n",
       "    </tr>\n",
       "    <tr>\n",
       "      <th rowspan=\"4\" valign=\"top\">1499</th>\n",
       "      <th>9</th>\n",
       "      <td>11</td>\n",
       "    </tr>\n",
       "    <tr>\n",
       "      <th>10</th>\n",
       "      <td>48</td>\n",
       "    </tr>\n",
       "    <tr>\n",
       "      <th>11</th>\n",
       "      <td>59</td>\n",
       "    </tr>\n",
       "    <tr>\n",
       "      <th>12</th>\n",
       "      <td>66</td>\n",
       "    </tr>\n",
       "  </tbody>\n",
       "</table>\n",
       "<p>2717 rows × 1 columns</p>\n",
       "</div>"
      ],
      "text/plain": [
       "               messages_count\n",
       "user_id month                \n",
       "1000    5                  22\n",
       "        6                  60\n",
       "        7                  75\n",
       "        8                  81\n",
       "        9                  57\n",
       "...                       ...\n",
       "1498    10                 42\n",
       "1499    9                  11\n",
       "        10                 48\n",
       "        11                 59\n",
       "        12                 66\n",
       "\n",
       "[2717 rows x 1 columns]"
      ]
     },
     "execution_count": 18,
     "metadata": {},
     "output_type": "execute_result"
    }
   ],
   "source": [
    "messages_in_month = ds_messages.pivot_table(\n",
    "    index=['user_id', 'month'],\n",
    "    values='user_id',\n",
    "    aggfunc='count'\n",
    ")\n",
    "messages_in_month.columns = ['messages_count']\n",
    "messages_in_month"
   ]
  },
  {
   "cell_type": "markdown",
   "metadata": {},
   "source": [
    "3. Объем израсходованного интернет-трафика по месяцам"
   ]
  },
  {
   "cell_type": "code",
   "execution_count": 19,
   "metadata": {},
   "outputs": [
    {
     "data": {
      "text/html": [
       "<div>\n",
       "<style scoped>\n",
       "    .dataframe tbody tr th:only-of-type {\n",
       "        vertical-align: middle;\n",
       "    }\n",
       "\n",
       "    .dataframe tbody tr th {\n",
       "        vertical-align: top;\n",
       "    }\n",
       "\n",
       "    .dataframe thead th {\n",
       "        text-align: right;\n",
       "    }\n",
       "</style>\n",
       "<table border=\"1\" class=\"dataframe\">\n",
       "  <thead>\n",
       "    <tr style=\"text-align: right;\">\n",
       "      <th></th>\n",
       "      <th></th>\n",
       "      <th>mb_used</th>\n",
       "    </tr>\n",
       "    <tr>\n",
       "      <th>user_id</th>\n",
       "      <th>month</th>\n",
       "      <th></th>\n",
       "    </tr>\n",
       "  </thead>\n",
       "  <tbody>\n",
       "    <tr>\n",
       "      <th rowspan=\"5\" valign=\"top\">1000</th>\n",
       "      <th>5</th>\n",
       "      <td>2256</td>\n",
       "    </tr>\n",
       "    <tr>\n",
       "      <th>6</th>\n",
       "      <td>23257</td>\n",
       "    </tr>\n",
       "    <tr>\n",
       "      <th>7</th>\n",
       "      <td>14016</td>\n",
       "    </tr>\n",
       "    <tr>\n",
       "      <th>8</th>\n",
       "      <td>14070</td>\n",
       "    </tr>\n",
       "    <tr>\n",
       "      <th>9</th>\n",
       "      <td>14581</td>\n",
       "    </tr>\n",
       "    <tr>\n",
       "      <th>...</th>\n",
       "      <th>...</th>\n",
       "      <td>...</td>\n",
       "    </tr>\n",
       "    <tr>\n",
       "      <th>1498</th>\n",
       "      <th>10</th>\n",
       "      <td>20604</td>\n",
       "    </tr>\n",
       "    <tr>\n",
       "      <th rowspan=\"4\" valign=\"top\">1499</th>\n",
       "      <th>9</th>\n",
       "      <td>1848</td>\n",
       "    </tr>\n",
       "    <tr>\n",
       "      <th>10</th>\n",
       "      <td>17809</td>\n",
       "    </tr>\n",
       "    <tr>\n",
       "      <th>11</th>\n",
       "      <td>17984</td>\n",
       "    </tr>\n",
       "    <tr>\n",
       "      <th>12</th>\n",
       "      <td>13077</td>\n",
       "    </tr>\n",
       "  </tbody>\n",
       "</table>\n",
       "<p>3203 rows × 1 columns</p>\n",
       "</div>"
      ],
      "text/plain": [
       "               mb_used\n",
       "user_id month         \n",
       "1000    5         2256\n",
       "        6        23257\n",
       "        7        14016\n",
       "        8        14070\n",
       "        9        14581\n",
       "...                ...\n",
       "1498    10       20604\n",
       "1499    9         1848\n",
       "        10       17809\n",
       "        11       17984\n",
       "        12       13077\n",
       "\n",
       "[3203 rows x 1 columns]"
      ]
     },
     "execution_count": 19,
     "metadata": {},
     "output_type": "execute_result"
    }
   ],
   "source": [
    "internet_in_month = ds_internet.pivot_table(\n",
    "    index=['user_id', 'month'],\n",
    "    values='mb_used',\n",
    "    aggfunc='sum'\n",
    ")\n",
    "internet_in_month"
   ]
  },
  {
   "cell_type": "markdown",
   "metadata": {},
   "source": [
    "4. Помесячная выручка с каждого пользователя\n",
    "\n",
    "Создадим новый датасет, поочередно объеденив полученные сводные таблицы плюс столбец с указанием тарифа из таблицы ds_users"
   ]
  },
  {
   "cell_type": "code",
   "execution_count": 20,
   "metadata": {},
   "outputs": [
    {
     "data": {
      "text/html": [
       "<div>\n",
       "<style scoped>\n",
       "    .dataframe tbody tr th:only-of-type {\n",
       "        vertical-align: middle;\n",
       "    }\n",
       "\n",
       "    .dataframe tbody tr th {\n",
       "        vertical-align: top;\n",
       "    }\n",
       "\n",
       "    .dataframe thead th {\n",
       "        text-align: right;\n",
       "    }\n",
       "</style>\n",
       "<table border=\"1\" class=\"dataframe\">\n",
       "  <thead>\n",
       "    <tr style=\"text-align: right;\">\n",
       "      <th></th>\n",
       "      <th>user_id</th>\n",
       "      <th>month</th>\n",
       "      <th>calls_count</th>\n",
       "      <th>calls_duration</th>\n",
       "      <th>messages_count</th>\n",
       "      <th>mb_used</th>\n",
       "      <th>tariff</th>\n",
       "    </tr>\n",
       "  </thead>\n",
       "  <tbody>\n",
       "    <tr>\n",
       "      <th>0</th>\n",
       "      <td>1000</td>\n",
       "      <td>5</td>\n",
       "      <td>22.0</td>\n",
       "      <td>159.0</td>\n",
       "      <td>22.0</td>\n",
       "      <td>2256.0</td>\n",
       "      <td>ultra</td>\n",
       "    </tr>\n",
       "    <tr>\n",
       "      <th>1</th>\n",
       "      <td>1000</td>\n",
       "      <td>6</td>\n",
       "      <td>43.0</td>\n",
       "      <td>172.0</td>\n",
       "      <td>60.0</td>\n",
       "      <td>23257.0</td>\n",
       "      <td>ultra</td>\n",
       "    </tr>\n",
       "    <tr>\n",
       "      <th>2</th>\n",
       "      <td>1000</td>\n",
       "      <td>7</td>\n",
       "      <td>47.0</td>\n",
       "      <td>340.0</td>\n",
       "      <td>75.0</td>\n",
       "      <td>14016.0</td>\n",
       "      <td>ultra</td>\n",
       "    </tr>\n",
       "    <tr>\n",
       "      <th>3</th>\n",
       "      <td>1000</td>\n",
       "      <td>8</td>\n",
       "      <td>52.0</td>\n",
       "      <td>408.0</td>\n",
       "      <td>81.0</td>\n",
       "      <td>14070.0</td>\n",
       "      <td>ultra</td>\n",
       "    </tr>\n",
       "    <tr>\n",
       "      <th>4</th>\n",
       "      <td>1000</td>\n",
       "      <td>9</td>\n",
       "      <td>58.0</td>\n",
       "      <td>466.0</td>\n",
       "      <td>57.0</td>\n",
       "      <td>14581.0</td>\n",
       "      <td>ultra</td>\n",
       "    </tr>\n",
       "    <tr>\n",
       "      <th>...</th>\n",
       "      <td>...</td>\n",
       "      <td>...</td>\n",
       "      <td>...</td>\n",
       "      <td>...</td>\n",
       "      <td>...</td>\n",
       "      <td>...</td>\n",
       "      <td>...</td>\n",
       "    </tr>\n",
       "    <tr>\n",
       "      <th>3209</th>\n",
       "      <td>1489</td>\n",
       "      <td>9</td>\n",
       "      <td>NaN</td>\n",
       "      <td>NaN</td>\n",
       "      <td>32.0</td>\n",
       "      <td>17232.0</td>\n",
       "      <td>smart</td>\n",
       "    </tr>\n",
       "    <tr>\n",
       "      <th>3210</th>\n",
       "      <td>1489</td>\n",
       "      <td>10</td>\n",
       "      <td>NaN</td>\n",
       "      <td>NaN</td>\n",
       "      <td>21.0</td>\n",
       "      <td>19588.0</td>\n",
       "      <td>smart</td>\n",
       "    </tr>\n",
       "    <tr>\n",
       "      <th>3211</th>\n",
       "      <td>1489</td>\n",
       "      <td>11</td>\n",
       "      <td>NaN</td>\n",
       "      <td>NaN</td>\n",
       "      <td>20.0</td>\n",
       "      <td>17516.0</td>\n",
       "      <td>smart</td>\n",
       "    </tr>\n",
       "    <tr>\n",
       "      <th>3212</th>\n",
       "      <td>1489</td>\n",
       "      <td>12</td>\n",
       "      <td>NaN</td>\n",
       "      <td>NaN</td>\n",
       "      <td>35.0</td>\n",
       "      <td>17341.0</td>\n",
       "      <td>smart</td>\n",
       "    </tr>\n",
       "    <tr>\n",
       "      <th>3213</th>\n",
       "      <td>1476</td>\n",
       "      <td>4</td>\n",
       "      <td>NaN</td>\n",
       "      <td>NaN</td>\n",
       "      <td>NaN</td>\n",
       "      <td>531.0</td>\n",
       "      <td>ultra</td>\n",
       "    </tr>\n",
       "  </tbody>\n",
       "</table>\n",
       "<p>3214 rows × 7 columns</p>\n",
       "</div>"
      ],
      "text/plain": [
       "      user_id  month  calls_count  calls_duration  messages_count  mb_used  \\\n",
       "0        1000      5         22.0           159.0            22.0   2256.0   \n",
       "1        1000      6         43.0           172.0            60.0  23257.0   \n",
       "2        1000      7         47.0           340.0            75.0  14016.0   \n",
       "3        1000      8         52.0           408.0            81.0  14070.0   \n",
       "4        1000      9         58.0           466.0            57.0  14581.0   \n",
       "...       ...    ...          ...             ...             ...      ...   \n",
       "3209     1489      9          NaN             NaN            32.0  17232.0   \n",
       "3210     1489     10          NaN             NaN            21.0  19588.0   \n",
       "3211     1489     11          NaN             NaN            20.0  17516.0   \n",
       "3212     1489     12          NaN             NaN            35.0  17341.0   \n",
       "3213     1476      4          NaN             NaN             NaN    531.0   \n",
       "\n",
       "     tariff  \n",
       "0     ultra  \n",
       "1     ultra  \n",
       "2     ultra  \n",
       "3     ultra  \n",
       "4     ultra  \n",
       "...     ...  \n",
       "3209  smart  \n",
       "3210  smart  \n",
       "3211  smart  \n",
       "3212  smart  \n",
       "3213  ultra  \n",
       "\n",
       "[3214 rows x 7 columns]"
      ]
     },
     "execution_count": 20,
     "metadata": {},
     "output_type": "execute_result"
    }
   ],
   "source": [
    "ds_joined = calls_in_month.merge(messages_in_month,  on=['user_id', 'month'], how='outer')\n",
    "ds_joined = ds_joined.merge(internet_in_month,  on=['user_id', 'month'], how='outer')\n",
    "ds_joined = ds_joined.reset_index(drop=False)\n",
    "ds_joined = ds_joined.merge(ds_users[['user_id', 'tariff']], on='user_id', how='left')\n",
    "ds_joined"
   ]
  },
  {
   "cell_type": "markdown",
   "metadata": {},
   "source": [
    "Отсутствующие значения заменим на 0"
   ]
  },
  {
   "cell_type": "code",
   "execution_count": 21,
   "metadata": {},
   "outputs": [
    {
     "name": "stdout",
     "output_type": "stream",
     "text": [
      "<class 'pandas.core.frame.DataFrame'>\n",
      "Int64Index: 3214 entries, 0 to 3213\n",
      "Data columns (total 7 columns):\n",
      " #   Column          Non-Null Count  Dtype  \n",
      "---  ------          --------------  -----  \n",
      " 0   user_id         3214 non-null   int64  \n",
      " 1   month           3214 non-null   int64  \n",
      " 2   calls_count     3214 non-null   float64\n",
      " 3   calls_duration  3214 non-null   float64\n",
      " 4   messages_count  3214 non-null   float64\n",
      " 5   mb_used         3214 non-null   float64\n",
      " 6   tariff          3214 non-null   object \n",
      "dtypes: float64(4), int64(2), object(1)\n",
      "memory usage: 200.9+ KB\n"
     ]
    },
    {
     "data": {
      "text/html": [
       "<div>\n",
       "<style scoped>\n",
       "    .dataframe tbody tr th:only-of-type {\n",
       "        vertical-align: middle;\n",
       "    }\n",
       "\n",
       "    .dataframe tbody tr th {\n",
       "        vertical-align: top;\n",
       "    }\n",
       "\n",
       "    .dataframe thead th {\n",
       "        text-align: right;\n",
       "    }\n",
       "</style>\n",
       "<table border=\"1\" class=\"dataframe\">\n",
       "  <thead>\n",
       "    <tr style=\"text-align: right;\">\n",
       "      <th></th>\n",
       "      <th>user_id</th>\n",
       "      <th>month</th>\n",
       "      <th>calls_count</th>\n",
       "      <th>calls_duration</th>\n",
       "      <th>messages_count</th>\n",
       "      <th>mb_used</th>\n",
       "      <th>tariff</th>\n",
       "    </tr>\n",
       "  </thead>\n",
       "  <tbody>\n",
       "    <tr>\n",
       "      <th>0</th>\n",
       "      <td>1000</td>\n",
       "      <td>5</td>\n",
       "      <td>22.0</td>\n",
       "      <td>159.0</td>\n",
       "      <td>22.0</td>\n",
       "      <td>2256.0</td>\n",
       "      <td>ultra</td>\n",
       "    </tr>\n",
       "    <tr>\n",
       "      <th>1</th>\n",
       "      <td>1000</td>\n",
       "      <td>6</td>\n",
       "      <td>43.0</td>\n",
       "      <td>172.0</td>\n",
       "      <td>60.0</td>\n",
       "      <td>23257.0</td>\n",
       "      <td>ultra</td>\n",
       "    </tr>\n",
       "    <tr>\n",
       "      <th>2</th>\n",
       "      <td>1000</td>\n",
       "      <td>7</td>\n",
       "      <td>47.0</td>\n",
       "      <td>340.0</td>\n",
       "      <td>75.0</td>\n",
       "      <td>14016.0</td>\n",
       "      <td>ultra</td>\n",
       "    </tr>\n",
       "    <tr>\n",
       "      <th>3</th>\n",
       "      <td>1000</td>\n",
       "      <td>8</td>\n",
       "      <td>52.0</td>\n",
       "      <td>408.0</td>\n",
       "      <td>81.0</td>\n",
       "      <td>14070.0</td>\n",
       "      <td>ultra</td>\n",
       "    </tr>\n",
       "    <tr>\n",
       "      <th>4</th>\n",
       "      <td>1000</td>\n",
       "      <td>9</td>\n",
       "      <td>58.0</td>\n",
       "      <td>466.0</td>\n",
       "      <td>57.0</td>\n",
       "      <td>14581.0</td>\n",
       "      <td>ultra</td>\n",
       "    </tr>\n",
       "    <tr>\n",
       "      <th>...</th>\n",
       "      <td>...</td>\n",
       "      <td>...</td>\n",
       "      <td>...</td>\n",
       "      <td>...</td>\n",
       "      <td>...</td>\n",
       "      <td>...</td>\n",
       "      <td>...</td>\n",
       "    </tr>\n",
       "    <tr>\n",
       "      <th>3209</th>\n",
       "      <td>1489</td>\n",
       "      <td>9</td>\n",
       "      <td>0.0</td>\n",
       "      <td>0.0</td>\n",
       "      <td>32.0</td>\n",
       "      <td>17232.0</td>\n",
       "      <td>smart</td>\n",
       "    </tr>\n",
       "    <tr>\n",
       "      <th>3210</th>\n",
       "      <td>1489</td>\n",
       "      <td>10</td>\n",
       "      <td>0.0</td>\n",
       "      <td>0.0</td>\n",
       "      <td>21.0</td>\n",
       "      <td>19588.0</td>\n",
       "      <td>smart</td>\n",
       "    </tr>\n",
       "    <tr>\n",
       "      <th>3211</th>\n",
       "      <td>1489</td>\n",
       "      <td>11</td>\n",
       "      <td>0.0</td>\n",
       "      <td>0.0</td>\n",
       "      <td>20.0</td>\n",
       "      <td>17516.0</td>\n",
       "      <td>smart</td>\n",
       "    </tr>\n",
       "    <tr>\n",
       "      <th>3212</th>\n",
       "      <td>1489</td>\n",
       "      <td>12</td>\n",
       "      <td>0.0</td>\n",
       "      <td>0.0</td>\n",
       "      <td>35.0</td>\n",
       "      <td>17341.0</td>\n",
       "      <td>smart</td>\n",
       "    </tr>\n",
       "    <tr>\n",
       "      <th>3213</th>\n",
       "      <td>1476</td>\n",
       "      <td>4</td>\n",
       "      <td>0.0</td>\n",
       "      <td>0.0</td>\n",
       "      <td>0.0</td>\n",
       "      <td>531.0</td>\n",
       "      <td>ultra</td>\n",
       "    </tr>\n",
       "  </tbody>\n",
       "</table>\n",
       "<p>3214 rows × 7 columns</p>\n",
       "</div>"
      ],
      "text/plain": [
       "      user_id  month  calls_count  calls_duration  messages_count  mb_used  \\\n",
       "0        1000      5         22.0           159.0            22.0   2256.0   \n",
       "1        1000      6         43.0           172.0            60.0  23257.0   \n",
       "2        1000      7         47.0           340.0            75.0  14016.0   \n",
       "3        1000      8         52.0           408.0            81.0  14070.0   \n",
       "4        1000      9         58.0           466.0            57.0  14581.0   \n",
       "...       ...    ...          ...             ...             ...      ...   \n",
       "3209     1489      9          0.0             0.0            32.0  17232.0   \n",
       "3210     1489     10          0.0             0.0            21.0  19588.0   \n",
       "3211     1489     11          0.0             0.0            20.0  17516.0   \n",
       "3212     1489     12          0.0             0.0            35.0  17341.0   \n",
       "3213     1476      4          0.0             0.0             0.0    531.0   \n",
       "\n",
       "     tariff  \n",
       "0     ultra  \n",
       "1     ultra  \n",
       "2     ultra  \n",
       "3     ultra  \n",
       "4     ultra  \n",
       "...     ...  \n",
       "3209  smart  \n",
       "3210  smart  \n",
       "3211  smart  \n",
       "3212  smart  \n",
       "3213  ultra  \n",
       "\n",
       "[3214 rows x 7 columns]"
      ]
     },
     "execution_count": 21,
     "metadata": {},
     "output_type": "execute_result"
    }
   ],
   "source": [
    "ds_joined = ds_joined.fillna(0)\n",
    "ds_joined.info()\n",
    "ds_joined"
   ]
  },
  {
   "cell_type": "markdown",
   "metadata": {},
   "source": [
    "Далее необходимо вычесть бесплатный лимит из суммарного количества звонков, сообщений и интернет-трафика; остаток умножить на значение из тарифного плана; прибавить абонентскую плату, соответствующую тарифному плану\n",
    "\n",
    "Создадим собственную функцию для подсчета указанных значений:"
   ]
  },
  {
   "cell_type": "code",
   "execution_count": 22,
   "metadata": {},
   "outputs": [],
   "source": [
    "def revenue_calc(row):\n",
    "    calls_duration = row['calls_duration']\n",
    "    messages_count = row['messages_count']\n",
    "    mb_used = row['mb_used']\n",
    "    tariff = row['tariff']\n",
    "    \n",
    "    if tariff == 'smart':\n",
    "        i=0\n",
    "    else:\n",
    "        i=1\n",
    "    \n",
    "    more_calls_duration = calls_duration - ds_tariffs.loc[i, 'minutes_included']\n",
    "    more_mb_used = mb_used - ds_tariffs.loc[i, 'mb_per_month_included']\n",
    "    more_messages_count = messages_count - ds_tariffs.loc[i, 'messages_included']\n",
    "        \n",
    "    if more_calls_duration < 0:\n",
    "        more_calls_duration = 0\n",
    "    if more_mb_used < 0:\n",
    "        more_mb_used = 0\n",
    "    if more_messages_count < 0:\n",
    "        more_messages_count = 0\n",
    "        \n",
    "    return (ds_tariffs.loc[i, 'rub_per_message'] * more_messages_count + \n",
    "                ds_tariffs.loc[i, 'rub_per_gb'] * ((more_mb_used - 1)//1024 + 1) + \n",
    "                ds_tariffs.loc[i, 'rub_per_minute'] * more_calls_duration + \n",
    "                ds_tariffs.loc[i, 'rub_monthly_fee']\n",
    "                ) "
   ]
  },
  {
   "cell_type": "markdown",
   "metadata": {},
   "source": [
    "Используя собственную функцию посчитаем помесячную выручку с каждого пользователя, полученные данные сохраним в новый столбец \"revenue\""
   ]
  },
  {
   "cell_type": "code",
   "execution_count": 23,
   "metadata": {},
   "outputs": [
    {
     "data": {
      "text/html": [
       "<div>\n",
       "<style scoped>\n",
       "    .dataframe tbody tr th:only-of-type {\n",
       "        vertical-align: middle;\n",
       "    }\n",
       "\n",
       "    .dataframe tbody tr th {\n",
       "        vertical-align: top;\n",
       "    }\n",
       "\n",
       "    .dataframe thead th {\n",
       "        text-align: right;\n",
       "    }\n",
       "</style>\n",
       "<table border=\"1\" class=\"dataframe\">\n",
       "  <thead>\n",
       "    <tr style=\"text-align: right;\">\n",
       "      <th></th>\n",
       "      <th>user_id</th>\n",
       "      <th>month</th>\n",
       "      <th>calls_count</th>\n",
       "      <th>calls_duration</th>\n",
       "      <th>messages_count</th>\n",
       "      <th>mb_used</th>\n",
       "      <th>tariff</th>\n",
       "      <th>revenue</th>\n",
       "    </tr>\n",
       "  </thead>\n",
       "  <tbody>\n",
       "    <tr>\n",
       "      <th>0</th>\n",
       "      <td>1000</td>\n",
       "      <td>5</td>\n",
       "      <td>22.0</td>\n",
       "      <td>159.0</td>\n",
       "      <td>22.0</td>\n",
       "      <td>2256.0</td>\n",
       "      <td>ultra</td>\n",
       "      <td>1950.0</td>\n",
       "    </tr>\n",
       "    <tr>\n",
       "      <th>1</th>\n",
       "      <td>1000</td>\n",
       "      <td>6</td>\n",
       "      <td>43.0</td>\n",
       "      <td>172.0</td>\n",
       "      <td>60.0</td>\n",
       "      <td>23257.0</td>\n",
       "      <td>ultra</td>\n",
       "      <td>1950.0</td>\n",
       "    </tr>\n",
       "    <tr>\n",
       "      <th>2</th>\n",
       "      <td>1000</td>\n",
       "      <td>7</td>\n",
       "      <td>47.0</td>\n",
       "      <td>340.0</td>\n",
       "      <td>75.0</td>\n",
       "      <td>14016.0</td>\n",
       "      <td>ultra</td>\n",
       "      <td>1950.0</td>\n",
       "    </tr>\n",
       "    <tr>\n",
       "      <th>3</th>\n",
       "      <td>1000</td>\n",
       "      <td>8</td>\n",
       "      <td>52.0</td>\n",
       "      <td>408.0</td>\n",
       "      <td>81.0</td>\n",
       "      <td>14070.0</td>\n",
       "      <td>ultra</td>\n",
       "      <td>1950.0</td>\n",
       "    </tr>\n",
       "    <tr>\n",
       "      <th>4</th>\n",
       "      <td>1000</td>\n",
       "      <td>9</td>\n",
       "      <td>58.0</td>\n",
       "      <td>466.0</td>\n",
       "      <td>57.0</td>\n",
       "      <td>14581.0</td>\n",
       "      <td>ultra</td>\n",
       "      <td>1950.0</td>\n",
       "    </tr>\n",
       "    <tr>\n",
       "      <th>...</th>\n",
       "      <td>...</td>\n",
       "      <td>...</td>\n",
       "      <td>...</td>\n",
       "      <td>...</td>\n",
       "      <td>...</td>\n",
       "      <td>...</td>\n",
       "      <td>...</td>\n",
       "      <td>...</td>\n",
       "    </tr>\n",
       "    <tr>\n",
       "      <th>3209</th>\n",
       "      <td>1489</td>\n",
       "      <td>9</td>\n",
       "      <td>0.0</td>\n",
       "      <td>0.0</td>\n",
       "      <td>32.0</td>\n",
       "      <td>17232.0</td>\n",
       "      <td>smart</td>\n",
       "      <td>950.0</td>\n",
       "    </tr>\n",
       "    <tr>\n",
       "      <th>3210</th>\n",
       "      <td>1489</td>\n",
       "      <td>10</td>\n",
       "      <td>0.0</td>\n",
       "      <td>0.0</td>\n",
       "      <td>21.0</td>\n",
       "      <td>19588.0</td>\n",
       "      <td>smart</td>\n",
       "      <td>1550.0</td>\n",
       "    </tr>\n",
       "    <tr>\n",
       "      <th>3211</th>\n",
       "      <td>1489</td>\n",
       "      <td>11</td>\n",
       "      <td>0.0</td>\n",
       "      <td>0.0</td>\n",
       "      <td>20.0</td>\n",
       "      <td>17516.0</td>\n",
       "      <td>smart</td>\n",
       "      <td>1150.0</td>\n",
       "    </tr>\n",
       "    <tr>\n",
       "      <th>3212</th>\n",
       "      <td>1489</td>\n",
       "      <td>12</td>\n",
       "      <td>0.0</td>\n",
       "      <td>0.0</td>\n",
       "      <td>35.0</td>\n",
       "      <td>17341.0</td>\n",
       "      <td>smart</td>\n",
       "      <td>950.0</td>\n",
       "    </tr>\n",
       "    <tr>\n",
       "      <th>3213</th>\n",
       "      <td>1476</td>\n",
       "      <td>4</td>\n",
       "      <td>0.0</td>\n",
       "      <td>0.0</td>\n",
       "      <td>0.0</td>\n",
       "      <td>531.0</td>\n",
       "      <td>ultra</td>\n",
       "      <td>1950.0</td>\n",
       "    </tr>\n",
       "  </tbody>\n",
       "</table>\n",
       "<p>3214 rows × 8 columns</p>\n",
       "</div>"
      ],
      "text/plain": [
       "      user_id  month  calls_count  calls_duration  messages_count  mb_used  \\\n",
       "0        1000      5         22.0           159.0            22.0   2256.0   \n",
       "1        1000      6         43.0           172.0            60.0  23257.0   \n",
       "2        1000      7         47.0           340.0            75.0  14016.0   \n",
       "3        1000      8         52.0           408.0            81.0  14070.0   \n",
       "4        1000      9         58.0           466.0            57.0  14581.0   \n",
       "...       ...    ...          ...             ...             ...      ...   \n",
       "3209     1489      9          0.0             0.0            32.0  17232.0   \n",
       "3210     1489     10          0.0             0.0            21.0  19588.0   \n",
       "3211     1489     11          0.0             0.0            20.0  17516.0   \n",
       "3212     1489     12          0.0             0.0            35.0  17341.0   \n",
       "3213     1476      4          0.0             0.0             0.0    531.0   \n",
       "\n",
       "     tariff  revenue  \n",
       "0     ultra   1950.0  \n",
       "1     ultra   1950.0  \n",
       "2     ultra   1950.0  \n",
       "3     ultra   1950.0  \n",
       "4     ultra   1950.0  \n",
       "...     ...      ...  \n",
       "3209  smart    950.0  \n",
       "3210  smart   1550.0  \n",
       "3211  smart   1150.0  \n",
       "3212  smart    950.0  \n",
       "3213  ultra   1950.0  \n",
       "\n",
       "[3214 rows x 8 columns]"
      ]
     },
     "execution_count": 23,
     "metadata": {},
     "output_type": "execute_result"
    }
   ],
   "source": [
    "ds_joined['revenue'] = ds_joined.apply(revenue_calc, axis=1)\n",
    "ds_joined"
   ]
  },
  {
   "cell_type": "markdown",
   "metadata": {},
   "source": [
    "Прежде чем перейти к анализу полученных данных, поскольку все значения в таблице целочисленные, для удобства работы приведем их к типу \"int\"."
   ]
  },
  {
   "cell_type": "code",
   "execution_count": 24,
   "metadata": {},
   "outputs": [
    {
     "data": {
      "text/html": [
       "<div>\n",
       "<style scoped>\n",
       "    .dataframe tbody tr th:only-of-type {\n",
       "        vertical-align: middle;\n",
       "    }\n",
       "\n",
       "    .dataframe tbody tr th {\n",
       "        vertical-align: top;\n",
       "    }\n",
       "\n",
       "    .dataframe thead th {\n",
       "        text-align: right;\n",
       "    }\n",
       "</style>\n",
       "<table border=\"1\" class=\"dataframe\">\n",
       "  <thead>\n",
       "    <tr style=\"text-align: right;\">\n",
       "      <th></th>\n",
       "      <th>user_id</th>\n",
       "      <th>month</th>\n",
       "      <th>calls_count</th>\n",
       "      <th>calls_duration</th>\n",
       "      <th>messages_count</th>\n",
       "      <th>mb_used</th>\n",
       "      <th>tariff</th>\n",
       "      <th>revenue</th>\n",
       "    </tr>\n",
       "  </thead>\n",
       "  <tbody>\n",
       "    <tr>\n",
       "      <th>0</th>\n",
       "      <td>1000</td>\n",
       "      <td>5</td>\n",
       "      <td>22</td>\n",
       "      <td>159</td>\n",
       "      <td>22</td>\n",
       "      <td>2256</td>\n",
       "      <td>ultra</td>\n",
       "      <td>1950</td>\n",
       "    </tr>\n",
       "    <tr>\n",
       "      <th>1</th>\n",
       "      <td>1000</td>\n",
       "      <td>6</td>\n",
       "      <td>43</td>\n",
       "      <td>172</td>\n",
       "      <td>60</td>\n",
       "      <td>23257</td>\n",
       "      <td>ultra</td>\n",
       "      <td>1950</td>\n",
       "    </tr>\n",
       "    <tr>\n",
       "      <th>2</th>\n",
       "      <td>1000</td>\n",
       "      <td>7</td>\n",
       "      <td>47</td>\n",
       "      <td>340</td>\n",
       "      <td>75</td>\n",
       "      <td>14016</td>\n",
       "      <td>ultra</td>\n",
       "      <td>1950</td>\n",
       "    </tr>\n",
       "    <tr>\n",
       "      <th>3</th>\n",
       "      <td>1000</td>\n",
       "      <td>8</td>\n",
       "      <td>52</td>\n",
       "      <td>408</td>\n",
       "      <td>81</td>\n",
       "      <td>14070</td>\n",
       "      <td>ultra</td>\n",
       "      <td>1950</td>\n",
       "    </tr>\n",
       "    <tr>\n",
       "      <th>4</th>\n",
       "      <td>1000</td>\n",
       "      <td>9</td>\n",
       "      <td>58</td>\n",
       "      <td>466</td>\n",
       "      <td>57</td>\n",
       "      <td>14581</td>\n",
       "      <td>ultra</td>\n",
       "      <td>1950</td>\n",
       "    </tr>\n",
       "  </tbody>\n",
       "</table>\n",
       "</div>"
      ],
      "text/plain": [
       "   user_id  month  calls_count  calls_duration  messages_count  mb_used  \\\n",
       "0     1000      5           22             159              22     2256   \n",
       "1     1000      6           43             172              60    23257   \n",
       "2     1000      7           47             340              75    14016   \n",
       "3     1000      8           52             408              81    14070   \n",
       "4     1000      9           58             466              57    14581   \n",
       "\n",
       "  tariff  revenue  \n",
       "0  ultra     1950  \n",
       "1  ultra     1950  \n",
       "2  ultra     1950  \n",
       "3  ultra     1950  \n",
       "4  ultra     1950  "
      ]
     },
     "execution_count": 24,
     "metadata": {},
     "output_type": "execute_result"
    }
   ],
   "source": [
    "ds_joined[['calls_count', 'calls_duration', 'messages_count', 'mb_used', 'revenue']] = ds_joined[['calls_count', 'calls_duration', 'messages_count', 'mb_used', 'revenue']].astype('int')\n",
    "ds_joined.head()"
   ]
  },
  {
   "cell_type": "markdown",
   "metadata": {},
   "source": [
    "## Анализ данных"
   ]
  },
  {
   "cell_type": "markdown",
   "metadata": {},
   "source": [
    "Для ответа на вопрос: \"Сколько минут разговора, сколько сообщений и какой объём интернет-трафика требуется пользователям каждого тарифа в месяц?\" создадим сводную таблицу по всей выборке:"
   ]
  },
  {
   "cell_type": "code",
   "execution_count": 25,
   "metadata": {},
   "outputs": [
    {
     "data": {
      "text/html": [
       "<div>\n",
       "<style scoped>\n",
       "    .dataframe tbody tr th:only-of-type {\n",
       "        vertical-align: middle;\n",
       "    }\n",
       "\n",
       "    .dataframe tbody tr th {\n",
       "        vertical-align: top;\n",
       "    }\n",
       "\n",
       "    .dataframe thead th {\n",
       "        text-align: right;\n",
       "    }\n",
       "</style>\n",
       "<table border=\"1\" class=\"dataframe\">\n",
       "  <thead>\n",
       "    <tr style=\"text-align: right;\">\n",
       "      <th></th>\n",
       "      <th></th>\n",
       "      <th>calls_duration</th>\n",
       "      <th>mb_used</th>\n",
       "      <th>messages_count</th>\n",
       "    </tr>\n",
       "    <tr>\n",
       "      <th>tariff</th>\n",
       "      <th>month</th>\n",
       "      <th></th>\n",
       "      <th></th>\n",
       "      <th></th>\n",
       "    </tr>\n",
       "  </thead>\n",
       "  <tbody>\n",
       "    <tr>\n",
       "      <th rowspan=\"12\" valign=\"top\">smart</th>\n",
       "      <th>1</th>\n",
       "      <td>162</td>\n",
       "      <td>7107</td>\n",
       "      <td>15</td>\n",
       "    </tr>\n",
       "    <tr>\n",
       "      <th>2</th>\n",
       "      <td>258</td>\n",
       "      <td>12572</td>\n",
       "      <td>20</td>\n",
       "    </tr>\n",
       "    <tr>\n",
       "      <th>3</th>\n",
       "      <td>409</td>\n",
       "      <td>15690</td>\n",
       "      <td>23</td>\n",
       "    </tr>\n",
       "    <tr>\n",
       "      <th>4</th>\n",
       "      <td>368</td>\n",
       "      <td>14104</td>\n",
       "      <td>28</td>\n",
       "    </tr>\n",
       "    <tr>\n",
       "      <th>5</th>\n",
       "      <td>433</td>\n",
       "      <td>16343</td>\n",
       "      <td>30</td>\n",
       "    </tr>\n",
       "    <tr>\n",
       "      <th>6</th>\n",
       "      <td>400</td>\n",
       "      <td>16095</td>\n",
       "      <td>28</td>\n",
       "    </tr>\n",
       "    <tr>\n",
       "      <th>7</th>\n",
       "      <td>414</td>\n",
       "      <td>15948</td>\n",
       "      <td>29</td>\n",
       "    </tr>\n",
       "    <tr>\n",
       "      <th>8</th>\n",
       "      <td>432</td>\n",
       "      <td>16855</td>\n",
       "      <td>27</td>\n",
       "    </tr>\n",
       "    <tr>\n",
       "      <th>9</th>\n",
       "      <td>435</td>\n",
       "      <td>16050</td>\n",
       "      <td>30</td>\n",
       "    </tr>\n",
       "    <tr>\n",
       "      <th>10</th>\n",
       "      <td>427</td>\n",
       "      <td>17248</td>\n",
       "      <td>30</td>\n",
       "    </tr>\n",
       "    <tr>\n",
       "      <th>11</th>\n",
       "      <td>428</td>\n",
       "      <td>17036</td>\n",
       "      <td>28</td>\n",
       "    </tr>\n",
       "    <tr>\n",
       "      <th>12</th>\n",
       "      <td>471</td>\n",
       "      <td>17741</td>\n",
       "      <td>29</td>\n",
       "    </tr>\n",
       "    <tr>\n",
       "      <th rowspan=\"12\" valign=\"top\">ultra</th>\n",
       "      <th>1</th>\n",
       "      <td>382</td>\n",
       "      <td>14808</td>\n",
       "      <td>32</td>\n",
       "    </tr>\n",
       "    <tr>\n",
       "      <th>2</th>\n",
       "      <td>168</td>\n",
       "      <td>7335</td>\n",
       "      <td>5</td>\n",
       "    </tr>\n",
       "    <tr>\n",
       "      <th>3</th>\n",
       "      <td>403</td>\n",
       "      <td>17513</td>\n",
       "      <td>20</td>\n",
       "    </tr>\n",
       "    <tr>\n",
       "      <th>4</th>\n",
       "      <td>453</td>\n",
       "      <td>16662</td>\n",
       "      <td>17</td>\n",
       "    </tr>\n",
       "    <tr>\n",
       "      <th>5</th>\n",
       "      <td>519</td>\n",
       "      <td>18717</td>\n",
       "      <td>25</td>\n",
       "    </tr>\n",
       "    <tr>\n",
       "      <th>6</th>\n",
       "      <td>479</td>\n",
       "      <td>19495</td>\n",
       "      <td>27</td>\n",
       "    </tr>\n",
       "    <tr>\n",
       "      <th>7</th>\n",
       "      <td>542</td>\n",
       "      <td>20034</td>\n",
       "      <td>38</td>\n",
       "    </tr>\n",
       "    <tr>\n",
       "      <th>8</th>\n",
       "      <td>500</td>\n",
       "      <td>18945</td>\n",
       "      <td>40</td>\n",
       "    </tr>\n",
       "    <tr>\n",
       "      <th>9</th>\n",
       "      <td>520</td>\n",
       "      <td>19675</td>\n",
       "      <td>43</td>\n",
       "    </tr>\n",
       "    <tr>\n",
       "      <th>10</th>\n",
       "      <td>533</td>\n",
       "      <td>20359</td>\n",
       "      <td>49</td>\n",
       "    </tr>\n",
       "    <tr>\n",
       "      <th>11</th>\n",
       "      <td>546</td>\n",
       "      <td>18398</td>\n",
       "      <td>43</td>\n",
       "    </tr>\n",
       "    <tr>\n",
       "      <th>12</th>\n",
       "      <td>584</td>\n",
       "      <td>21994</td>\n",
       "      <td>51</td>\n",
       "    </tr>\n",
       "  </tbody>\n",
       "</table>\n",
       "</div>"
      ],
      "text/plain": [
       "              calls_duration  mb_used  messages_count\n",
       "tariff month                                         \n",
       "smart  1                 162     7107              15\n",
       "       2                 258    12572              20\n",
       "       3                 409    15690              23\n",
       "       4                 368    14104              28\n",
       "       5                 433    16343              30\n",
       "       6                 400    16095              28\n",
       "       7                 414    15948              29\n",
       "       8                 432    16855              27\n",
       "       9                 435    16050              30\n",
       "       10                427    17248              30\n",
       "       11                428    17036              28\n",
       "       12                471    17741              29\n",
       "ultra  1                 382    14808              32\n",
       "       2                 168     7335               5\n",
       "       3                 403    17513              20\n",
       "       4                 453    16662              17\n",
       "       5                 519    18717              25\n",
       "       6                 479    19495              27\n",
       "       7                 542    20034              38\n",
       "       8                 500    18945              40\n",
       "       9                 520    19675              43\n",
       "       10                533    20359              49\n",
       "       11                546    18398              43\n",
       "       12                584    21994              51"
      ]
     },
     "execution_count": 25,
     "metadata": {},
     "output_type": "execute_result"
    }
   ],
   "source": [
    "average_per_month = ds_joined.pivot_table(\n",
    "    index=['tariff', 'month'],\n",
    "    values=['calls_duration', 'messages_count', 'mb_used'], \n",
    "    aggfunc='median'\n",
    ").astype('int')\n",
    "average_per_month"
   ]
  },
  {
   "cell_type": "code",
   "execution_count": 26,
   "metadata": {},
   "outputs": [
    {
     "data": {
      "text/plain": [
       "smart    351\n",
       "ultra    149\n",
       "Name: tariff, dtype: int64"
      ]
     },
     "execution_count": 26,
     "metadata": {},
     "output_type": "execute_result"
    }
   ],
   "source": [
    "ds_users['tariff'].value_counts() #посчитаем колличество пользователей каждого тарифа"
   ]
  },
  {
   "cell_type": "markdown",
   "metadata": {},
   "source": [
    "Среднее значение, дисперсию и стандартное отклонение можно также увидеть, построив сводную таблицу по тарифам:"
   ]
  },
  {
   "cell_type": "code",
   "execution_count": 27,
   "metadata": {},
   "outputs": [
    {
     "data": {
      "text/html": [
       "<div>\n",
       "<style scoped>\n",
       "    .dataframe tbody tr th:only-of-type {\n",
       "        vertical-align: middle;\n",
       "    }\n",
       "\n",
       "    .dataframe tbody tr th {\n",
       "        vertical-align: top;\n",
       "    }\n",
       "\n",
       "    .dataframe thead tr th {\n",
       "        text-align: left;\n",
       "    }\n",
       "\n",
       "    .dataframe thead tr:last-of-type th {\n",
       "        text-align: right;\n",
       "    }\n",
       "</style>\n",
       "<table border=\"1\" class=\"dataframe\">\n",
       "  <thead>\n",
       "    <tr>\n",
       "      <th></th>\n",
       "      <th colspan=\"3\" halign=\"left\">mean</th>\n",
       "      <th colspan=\"3\" halign=\"left\">var</th>\n",
       "      <th colspan=\"3\" halign=\"left\">std</th>\n",
       "    </tr>\n",
       "    <tr>\n",
       "      <th></th>\n",
       "      <th>calls_duration</th>\n",
       "      <th>mb_used</th>\n",
       "      <th>messages_count</th>\n",
       "      <th>calls_duration</th>\n",
       "      <th>mb_used</th>\n",
       "      <th>messages_count</th>\n",
       "      <th>calls_duration</th>\n",
       "      <th>mb_used</th>\n",
       "      <th>messages_count</th>\n",
       "    </tr>\n",
       "    <tr>\n",
       "      <th>tariff</th>\n",
       "      <th></th>\n",
       "      <th></th>\n",
       "      <th></th>\n",
       "      <th></th>\n",
       "      <th></th>\n",
       "      <th></th>\n",
       "      <th></th>\n",
       "      <th></th>\n",
       "      <th></th>\n",
       "    </tr>\n",
       "  </thead>\n",
       "  <tbody>\n",
       "    <tr>\n",
       "      <th>smart</th>\n",
       "      <td>417</td>\n",
       "      <td>16229</td>\n",
       "      <td>33</td>\n",
       "      <td>36219</td>\n",
       "      <td>34545911</td>\n",
       "      <td>796</td>\n",
       "      <td>190</td>\n",
       "      <td>5877</td>\n",
       "      <td>28</td>\n",
       "    </tr>\n",
       "    <tr>\n",
       "      <th>ultra</th>\n",
       "      <td>526</td>\n",
       "      <td>19486</td>\n",
       "      <td>49</td>\n",
       "      <td>100873</td>\n",
       "      <td>101935621</td>\n",
       "      <td>2285</td>\n",
       "      <td>317</td>\n",
       "      <td>10096</td>\n",
       "      <td>47</td>\n",
       "    </tr>\n",
       "  </tbody>\n",
       "</table>\n",
       "</div>"
      ],
      "text/plain": [
       "                 mean                                   var             \\\n",
       "       calls_duration mb_used messages_count calls_duration    mb_used   \n",
       "tariff                                                                   \n",
       "smart             417   16229             33          36219   34545911   \n",
       "ultra             526   19486             49         100873  101935621   \n",
       "\n",
       "                                 std                         \n",
       "       messages_count calls_duration mb_used messages_count  \n",
       "tariff                                                       \n",
       "smart             796            190    5877             28  \n",
       "ultra            2285            317   10096             47  "
      ]
     },
     "execution_count": 27,
     "metadata": {},
     "output_type": "execute_result"
    }
   ],
   "source": [
    "average_per_tariff = ds_joined.pivot_table(\n",
    "    index=['tariff'],\n",
    "    values=['calls_duration', 'messages_count', 'mb_used'], \n",
    "    aggfunc=[np.mean, np.var, np.std]\n",
    ").astype('int')\n",
    "average_per_tariff"
   ]
  },
  {
   "cell_type": "markdown",
   "metadata": {},
   "source": [
    "Для наглядности полученных результатов построим графики диаграммы размаха:"
   ]
  },
  {
   "cell_type": "code",
   "execution_count": 28,
   "metadata": {},
   "outputs": [
    {
     "data": {
      "image/png": "[encoded data removed]",
      "text/plain": [
       "<Figure size 360x360 with 1 Axes>"
      ]
     },
     "metadata": {
      "needs_background": "light"
     },
     "output_type": "display_data"
    },
    {
     "data": {
      "image/png": "[encoded data removed]",
      "text/plain": [
       "<Figure size 360x360 with 1 Axes>"
      ]
     },
     "metadata": {
      "needs_background": "light"
     },
     "output_type": "display_data"
    },
    {
     "data": {
      "image/png": "[encoded data removed]",
      "text/plain": [
       "<Figure size 360x360 with 1 Axes>"
      ]
     },
     "metadata": {
      "needs_background": "light"
     },
     "output_type": "display_data"
    }
   ],
   "source": [
    "for column in ['calls_duration', 'mb_used', 'messages_count']:    \n",
    "    sns.catplot(x='tariff', y=column, kind='box', data=ds_joined, orient='v')"
   ]
  },
  {
   "cell_type": "markdown",
   "metadata": {},
   "source": [
    "Очевидно, что для оператора тариф \"Ультра\" является более выгодным. Во всех трех случаях, дисперсия в тарифе \"Ультра\" выше, медианные значения смещены в большую сторону.\n",
    "\n",
    "Построим гистограммы по каждому из трех показателей (звонки, интернет и сообщения):"
   ]
  },
  {
   "cell_type": "code",
   "execution_count": 29,
   "metadata": {},
   "outputs": [
    {
     "name": "stderr",
     "output_type": "stream",
     "text": [
      "/opt/conda/lib/python3.9/site-packages/seaborn/distributions.py:2557: FutureWarning: `distplot` is a deprecated function and will be removed in a future version. Please adapt your code to use either `displot` (a figure-level function with similar flexibility) or `histplot` (an axes-level function for histograms).\n",
      "  warnings.warn(msg, FutureWarning)\n"
     ]
    },
    {
     "data": {
      "text/plain": [
       "Text(0.5, 1.0, 'Гистограмма звонков')"
      ]
     },
     "execution_count": 29,
     "metadata": {},
     "output_type": "execute_result"
    },
    {
     "data": {
      "image/png": "[encoded data removed]",
      "text/plain": [
       "<Figure size 432x288 with 1 Axes>"
      ]
     },
     "metadata": {
      "needs_background": "light"
     },
     "output_type": "display_data"
    }
   ],
   "source": [
    "smart = ds_joined.query(\"tariff == 'smart'\")\n",
    "ultra = ds_joined.query(\"tariff == 'ultra'\")\n",
    "sns.distplot(smart['calls_duration'], kde=False)\n",
    "sns.distplot(ultra['calls_duration'], kde=False)\n",
    "plt.legend(['smart', 'ultra'])\n",
    "plt.xlabel('Количество минут')\n",
    "plt.ylabel('Количество пользователей')\n",
    "plt.title('Гистограмма звонков')"
   ]
  },
  {
   "cell_type": "code",
   "execution_count": 30,
   "metadata": {},
   "outputs": [
    {
     "data": {
      "text/plain": [
       "Text(0.5, 1.0, 'Гистограмма веб-трафика')"
      ]
     },
     "execution_count": 30,
     "metadata": {},
     "output_type": "execute_result"
    },
    {
     "data": {
      "image/png": "[encoded data removed]",
      "text/plain": [
       "<Figure size 432x288 with 1 Axes>"
      ]
     },
     "metadata": {
      "needs_background": "light"
     },
     "output_type": "display_data"
    }
   ],
   "source": [
    "sns.distplot(smart['mb_used'], kde=False)\n",
    "sns.distplot(ultra['mb_used'], kde=False)\n",
    "plt.legend(['smart', 'ultra'])\n",
    "plt.xlabel('Количество мегабайт')\n",
    "plt.ylabel('Количество пользователей')\n",
    "plt.title('Гистограмма веб-трафика')"
   ]
  },
  {
   "cell_type": "code",
   "execution_count": 31,
   "metadata": {},
   "outputs": [
    {
     "data": {
      "text/plain": [
       "Text(0.5, 1.0, 'Гистограмма сообщений')"
      ]
     },
     "execution_count": 31,
     "metadata": {},
     "output_type": "execute_result"
    },
    {
     "data": {
      "image/png": "[encoded data removed]",
      "text/plain": [
       "<Figure size 432x288 with 1 Axes>"
      ]
     },
     "metadata": {
      "needs_background": "light"
     },
     "output_type": "display_data"
    }
   ],
   "source": [
    "sns.distplot(smart['messages_count'], kde=False)\n",
    "sns.distplot(ultra['messages_count'], kde=False)\n",
    "plt.legend(['smart', 'ultra'])\n",
    "plt.xlabel('Количество сообщений')\n",
    "plt.ylabel('Количество пользователей')\n",
    "plt.title('Гистограмма сообщений')"
   ]
  },
  {
   "cell_type": "markdown",
   "metadata": {},
   "source": [
    "**ВЫВОД:**\n",
    "Дисперсия тарифа \"Ультра\" выше, чем у тарифа \"Смарт\", распределение в тарифах \"Смарт\" сильнее скошено влево, чем в тарифах \"Ультра\". За пределы включенных в тариф минут, Мб и сообщений чаще всего выходят пользователи тарифа \"Смарт\". Для оператора однозначно выгоднее тариф \"Ультра\". "
   ]
  },
  {
   "cell_type": "markdown",
   "metadata": {},
   "source": [
    "## Проверка гипотез"
   ]
  },
  {
   "cell_type": "markdown",
   "metadata": {},
   "source": [
    "- Средняя выручка пользователей тарифов «Ультра» и «Смарт» различаются\n",
    "\n",
    "Формулируем нулевую и альтернативную гипотезы. Поскольку в нулевой гипотезе должен быть знак равенства, сформулируем их таким образом:\n",
    "\n",
    "Н0 - Средние выручки пользователей тарифов \"Ультра\" и \"Смарт\" равны\n",
    "\n",
    "Н1 - Средние выручки пользователей тарифов \"Ультра\" и \"Смарт\" различаются\n",
    "\n",
    "Пороговое значение alpha примем равное 0,05, для нашей выборки такое значение будет достаточным для подтверждения или опровержения гипотез"
   ]
  },
  {
   "cell_type": "code",
   "execution_count": 32,
   "metadata": {},
   "outputs": [
    {
     "name": "stdout",
     "output_type": "stream",
     "text": [
      "p-значение: 2.9776448000521676e-158\n",
      "Отвергаем нулевую гипотезу\n"
     ]
    }
   ],
   "source": [
    "alpha = 0.05 \n",
    "results = st.ttest_ind(\n",
    "    smart['revenue'], \n",
    "    ultra['revenue'])\n",
    "\n",
    "print('p-значение:', results.pvalue)\n",
    "\n",
    "if (results.pvalue < alpha):\n",
    "    print(\"Отвергаем нулевую гипотезу\")\n",
    "else:\n",
    "    print(\"Не получилось отвергнуть нулевую гипотезу\")"
   ]
  },
  {
   "cell_type": "markdown",
   "metadata": {},
   "source": [
    "P-значение в нашем эксперименте значительно меньше alpha, даже если принять alpha равную 0,01, значит можно смело отвергнуть нулевую гипотезу. Средние выручки пользователей тарифов \"Ультра\" и \"Смарт\" действительно различаются.\n",
    "\n",
    "- Средняя выручка пользователей из Москвы отличается от выручки пользователей из других регионов\n",
    "\n",
    "Формулируем нулевую и альтернативную гипотезы подобным образом:\n",
    "\n",
    "Н0 - Средняя выручка пользователей из Москвы и средняя выручка пользователей из других регионов равны\n",
    "\n",
    "Н1 - Средняя выручка пользователей из Москвы отличается от выручки пользователей из других регионов\n",
    "\n",
    "Пороговое значение alpha примем равное 0,05"
   ]
  },
  {
   "cell_type": "code",
   "execution_count": 33,
   "metadata": {},
   "outputs": [
    {
     "name": "stdout",
     "output_type": "stream",
     "text": [
      "p-значение: 0.531666503831252\n",
      "Не получилось отвергнуть нулевую гипотезу\n"
     ]
    }
   ],
   "source": [
    "ds_joined = ds_joined.merge(ds_users[['user_id', 'city',]], on='user_id', how='left') # добавим к нашей выборке данные о городах\n",
    "moscow = ds_joined.query('city == \"Москва\"')['revenue'] # выберем пользователей из Москвы \n",
    "regions = ds_joined.query('city != \"Москва\"')['revenue'] # и из регионов\n",
    "\n",
    "alpha = 0.05 \n",
    "results = st.ttest_ind(moscow, regions)\n",
    "\n",
    "print('p-значение:', results.pvalue)\n",
    "\n",
    "if (results.pvalue < alpha):\n",
    "    print(\"Отвергаем нулевую гипотезу\")\n",
    "else:\n",
    "    print(\"Не получилось отвергнуть нулевую гипотезу\")"
   ]
  },
  {
   "cell_type": "markdown",
   "metadata": {},
   "source": [
    "В данном случае, даже при критическом уровне статистической значимости в 5% отвергнуть нулевую гипотезу нельзя, слишком высока вероятность. Поэтому можно сделать вывод, что средняя выручка пользователей из Москвы не отличается от выручки пользователей из других регионов."
   ]
  },
  {
   "cell_type": "markdown",
   "metadata": {},
   "source": [
    "## Общий вывод"
   ]
  },
  {
   "cell_type": "markdown",
   "metadata": {},
   "source": [
    "Полученные для анализа данные нуждались в предобработке, нами было проделано:\n",
    "- изменили тип данных там, где это было возможно и необходимо для комфортной работы\n",
    "- из столбца с данными о дате определили и сохранили в новый столбец значения месяцев \n",
    "- избавились от ненужных столбцов\n",
    "- при помощи сводных таблиц подсчитали звонки, веб-трафик и сообщения, использованные пользователями по месяцам\n",
    "- объединили несколько таблиц в одну для дальнейшей работы \n",
    "- подсчитали выручку оператора по каждому пользователю каждого тарифа в месяц\n",
    "\n",
    "В результате проведенного анализа было определено:\n",
    "- пользователи тарифа \"Ультра\" чаще укладываются в предоставленные им смс, минуты и Мб по тарифу.\n",
    "- пользователей тарифа \"Смарт\" почти в 2 раза больше, чем тарифа \"Ультра\"\n",
    "- средние выручки по тарифам \"Смарт\" и \"Ультра\" различаются\n",
    "- средняя выручка пользователей из Москвы не отличается от выручки пользователей других регионов\n",
    "\n",
    "Исходя из вышеперечисленного можно сделать следующий вывод - для оператора однозначно выгоднее продвигать тариф \"Ультра\".\n"
   ]
  }
 ],
 "metadata": {
  "ExecuteTimeLog": [
   {
    "duration": 1070,
    "start_time": "2022-01-19T21:19:49.782Z"
   },
   {
    "duration": 152,
    "start_time": "2022-01-19T21:24:44.892Z"
   },
   {
    "duration": 160,
    "start_time": "2022-01-19T21:24:55.359Z"
   },
   {
    "duration": 169,
    "start_time": "2022-01-19T21:25:11.312Z"
   },
   {
    "duration": 328,
    "start_time": "2022-01-19T21:43:45.952Z"
   },
   {
    "duration": 6711,
    "start_time": "2022-01-19T21:43:54.106Z"
   },
   {
    "duration": 5664,
    "start_time": "2022-01-19T21:46:17.888Z"
   },
   {
    "duration": 6572,
    "start_time": "2022-01-19T21:46:36.000Z"
   },
   {
    "duration": 224,
    "start_time": "2022-01-19T21:46:49.561Z"
   },
   {
    "duration": 16,
    "start_time": "2022-01-19T21:47:21.500Z"
   },
   {
    "duration": 9,
    "start_time": "2022-01-19T21:49:25.354Z"
   },
   {
    "duration": 9,
    "start_time": "2022-01-19T21:49:40.600Z"
   },
   {
    "duration": 9,
    "start_time": "2022-01-19T21:49:46.424Z"
   },
   {
    "duration": 89,
    "start_time": "2022-01-19T22:01:07.579Z"
   },
   {
    "duration": 74,
    "start_time": "2022-01-19T22:01:22.699Z"
   },
   {
    "duration": 3,
    "start_time": "2022-01-19T22:12:16.748Z"
   },
   {
    "duration": 169,
    "start_time": "2022-01-19T22:12:16.753Z"
   },
   {
    "duration": 7,
    "start_time": "2022-01-19T22:12:16.924Z"
   },
   {
    "duration": 101,
    "start_time": "2022-01-19T22:12:16.933Z"
   },
   {
    "duration": 112,
    "start_time": "2022-01-19T22:14:29.292Z"
   },
   {
    "duration": 147,
    "start_time": "2022-01-19T22:14:58.247Z"
   },
   {
    "duration": 6,
    "start_time": "2022-01-19T22:18:50.555Z"
   },
   {
    "duration": 52,
    "start_time": "2022-01-19T22:19:43.063Z"
   },
   {
    "duration": 6,
    "start_time": "2022-01-19T22:20:33.049Z"
   },
   {
    "duration": 52,
    "start_time": "2022-01-19T22:20:48.642Z"
   },
   {
    "duration": 54,
    "start_time": "2022-01-19T22:21:09.229Z"
   },
   {
    "duration": 6,
    "start_time": "2022-01-19T22:22:26.290Z"
   },
   {
    "duration": 87,
    "start_time": "2022-01-19T22:23:42.525Z"
   },
   {
    "duration": 88,
    "start_time": "2022-01-19T22:23:53.414Z"
   },
   {
    "duration": 91,
    "start_time": "2022-01-19T22:33:20.813Z"
   },
   {
    "duration": 83,
    "start_time": "2022-01-19T22:34:35.636Z"
   },
   {
    "duration": 23,
    "start_time": "2022-01-19T22:38:05.414Z"
   },
   {
    "duration": 36,
    "start_time": "2022-01-19T22:48:04.276Z"
   },
   {
    "duration": 89,
    "start_time": "2022-01-19T22:57:08.222Z"
   },
   {
    "duration": 8,
    "start_time": "2022-01-19T22:58:51.597Z"
   },
   {
    "duration": 37,
    "start_time": "2022-01-19T22:59:07.901Z"
   },
   {
    "duration": 46,
    "start_time": "2022-01-19T22:59:15.207Z"
   },
   {
    "duration": 987,
    "start_time": "2022-01-19T23:16:07.256Z"
   },
   {
    "duration": 45,
    "start_time": "2022-01-19T23:16:21.366Z"
   },
   {
    "duration": 32,
    "start_time": "2022-01-19T23:16:35.907Z"
   },
   {
    "duration": 34,
    "start_time": "2022-01-19T23:18:38.733Z"
   },
   {
    "duration": 31,
    "start_time": "2022-01-19T23:18:51.489Z"
   },
   {
    "duration": 3,
    "start_time": "2022-01-19T23:19:00.563Z"
   },
   {
    "duration": 161,
    "start_time": "2022-01-19T23:19:00.567Z"
   },
   {
    "duration": 7,
    "start_time": "2022-01-19T23:19:00.730Z"
   },
   {
    "duration": 90,
    "start_time": "2022-01-19T23:19:00.739Z"
   },
   {
    "duration": 140,
    "start_time": "2022-01-19T23:19:00.831Z"
   },
   {
    "duration": 6,
    "start_time": "2022-01-19T23:19:00.972Z"
   },
   {
    "duration": 59,
    "start_time": "2022-01-19T23:19:00.979Z"
   },
   {
    "duration": 95,
    "start_time": "2022-01-19T23:19:01.040Z"
   },
   {
    "duration": 35,
    "start_time": "2022-01-19T23:19:01.137Z"
   },
   {
    "duration": 21,
    "start_time": "2022-01-19T23:19:01.174Z"
   },
   {
    "duration": 43,
    "start_time": "2022-01-19T23:19:01.196Z"
   },
   {
    "duration": 9,
    "start_time": "2022-01-19T23:19:01.240Z"
   },
   {
    "duration": 54,
    "start_time": "2022-01-19T23:19:01.251Z"
   },
   {
    "duration": 32,
    "start_time": "2022-01-19T23:19:34.194Z"
   },
   {
    "duration": 36,
    "start_time": "2022-01-19T23:22:28.302Z"
   },
   {
    "duration": 45,
    "start_time": "2022-01-19T23:24:26.255Z"
   },
   {
    "duration": 9,
    "start_time": "2022-01-19T23:26:33.804Z"
   },
   {
    "duration": 37,
    "start_time": "2022-01-19T23:27:20.976Z"
   },
   {
    "duration": 263,
    "start_time": "2022-01-19T23:33:26.288Z"
   },
   {
    "duration": 42,
    "start_time": "2022-01-19T23:33:34.741Z"
   },
   {
    "duration": 270,
    "start_time": "2022-01-19T23:34:52.185Z"
   },
   {
    "duration": 3,
    "start_time": "2022-01-19T23:35:17.676Z"
   },
   {
    "duration": 164,
    "start_time": "2022-01-19T23:35:17.680Z"
   },
   {
    "duration": 7,
    "start_time": "2022-01-19T23:35:17.846Z"
   },
   {
    "duration": 98,
    "start_time": "2022-01-19T23:35:17.855Z"
   },
   {
    "duration": 137,
    "start_time": "2022-01-19T23:35:17.954Z"
   },
   {
    "duration": 7,
    "start_time": "2022-01-19T23:35:18.093Z"
   },
   {
    "duration": 60,
    "start_time": "2022-01-19T23:35:18.101Z"
   },
   {
    "duration": 99,
    "start_time": "2022-01-19T23:35:18.163Z"
   },
   {
    "duration": 32,
    "start_time": "2022-01-19T23:35:18.264Z"
   },
   {
    "duration": 25,
    "start_time": "2022-01-19T23:35:18.298Z"
   },
   {
    "duration": 35,
    "start_time": "2022-01-19T23:35:18.325Z"
   },
   {
    "duration": 6,
    "start_time": "2022-01-19T23:35:18.361Z"
   },
   {
    "duration": 74,
    "start_time": "2022-01-19T23:35:18.369Z"
   },
   {
    "duration": 47,
    "start_time": "2022-01-19T23:35:18.444Z"
   },
   {
    "duration": 46,
    "start_time": "2022-01-19T23:35:18.493Z"
   },
   {
    "duration": 25,
    "start_time": "2022-01-19T23:35:42.523Z"
   },
   {
    "duration": 12,
    "start_time": "2022-01-19T23:38:20.964Z"
   },
   {
    "duration": 22,
    "start_time": "2022-01-19T23:42:41.585Z"
   },
   {
    "duration": 11,
    "start_time": "2022-01-19T23:42:52.894Z"
   },
   {
    "duration": 23,
    "start_time": "2022-01-19T23:43:12.180Z"
   },
   {
    "duration": 2254,
    "start_time": "2022-01-19T23:45:03.993Z"
   },
   {
    "duration": 3,
    "start_time": "2022-01-19T23:45:09.840Z"
   },
   {
    "duration": 167,
    "start_time": "2022-01-19T23:45:09.845Z"
   },
   {
    "duration": 8,
    "start_time": "2022-01-19T23:45:10.014Z"
   },
   {
    "duration": 89,
    "start_time": "2022-01-19T23:45:10.024Z"
   },
   {
    "duration": 139,
    "start_time": "2022-01-19T23:45:10.115Z"
   },
   {
    "duration": 6,
    "start_time": "2022-01-19T23:45:10.256Z"
   },
   {
    "duration": 59,
    "start_time": "2022-01-19T23:45:10.264Z"
   },
   {
    "duration": 95,
    "start_time": "2022-01-19T23:45:10.325Z"
   },
   {
    "duration": 35,
    "start_time": "2022-01-19T23:45:10.422Z"
   },
   {
    "duration": 23,
    "start_time": "2022-01-19T23:45:10.458Z"
   },
   {
    "duration": 42,
    "start_time": "2022-01-19T23:45:10.483Z"
   },
   {
    "duration": 7,
    "start_time": "2022-01-19T23:45:10.527Z"
   },
   {
    "duration": 78,
    "start_time": "2022-01-19T23:45:10.535Z"
   },
   {
    "duration": 49,
    "start_time": "2022-01-19T23:45:10.614Z"
   },
   {
    "duration": 55,
    "start_time": "2022-01-19T23:45:10.665Z"
   },
   {
    "duration": 13,
    "start_time": "2022-01-19T23:45:10.721Z"
   },
   {
    "duration": 26,
    "start_time": "2022-01-19T23:45:10.736Z"
   },
   {
    "duration": 26,
    "start_time": "2022-01-19T23:45:45.017Z"
   },
   {
    "duration": 3,
    "start_time": "2022-01-19T23:45:49.095Z"
   },
   {
    "duration": 158,
    "start_time": "2022-01-19T23:45:49.100Z"
   },
   {
    "duration": 6,
    "start_time": "2022-01-19T23:45:49.260Z"
   },
   {
    "duration": 100,
    "start_time": "2022-01-19T23:45:49.268Z"
   },
   {
    "duration": 130,
    "start_time": "2022-01-19T23:45:49.370Z"
   },
   {
    "duration": 11,
    "start_time": "2022-01-19T23:45:49.502Z"
   },
   {
    "duration": 58,
    "start_time": "2022-01-19T23:45:49.514Z"
   },
   {
    "duration": 97,
    "start_time": "2022-01-19T23:45:49.575Z"
   },
   {
    "duration": 45,
    "start_time": "2022-01-19T23:45:49.674Z"
   },
   {
    "duration": 21,
    "start_time": "2022-01-19T23:45:49.721Z"
   },
   {
    "duration": 33,
    "start_time": "2022-01-19T23:45:49.744Z"
   },
   {
    "duration": 7,
    "start_time": "2022-01-19T23:45:49.779Z"
   },
   {
    "duration": 68,
    "start_time": "2022-01-19T23:45:49.787Z"
   },
   {
    "duration": 45,
    "start_time": "2022-01-19T23:45:49.856Z"
   },
   {
    "duration": 37,
    "start_time": "2022-01-19T23:45:49.912Z"
   },
   {
    "duration": 11,
    "start_time": "2022-01-19T23:45:49.950Z"
   },
   {
    "duration": 261,
    "start_time": "2022-01-19T23:45:49.963Z"
   },
   {
    "duration": 2208,
    "start_time": "2022-01-19T23:46:15.020Z"
   },
   {
    "duration": 3,
    "start_time": "2022-01-19T23:46:19.592Z"
   },
   {
    "duration": 155,
    "start_time": "2022-01-19T23:46:19.638Z"
   },
   {
    "duration": 7,
    "start_time": "2022-01-19T23:46:19.794Z"
   },
   {
    "duration": 74,
    "start_time": "2022-01-19T23:46:19.811Z"
   },
   {
    "duration": 145,
    "start_time": "2022-01-19T23:46:19.887Z"
   },
   {
    "duration": 7,
    "start_time": "2022-01-19T23:46:20.034Z"
   },
   {
    "duration": 72,
    "start_time": "2022-01-19T23:46:20.043Z"
   },
   {
    "duration": 101,
    "start_time": "2022-01-19T23:46:20.117Z"
   },
   {
    "duration": 36,
    "start_time": "2022-01-19T23:46:20.220Z"
   },
   {
    "duration": 22,
    "start_time": "2022-01-19T23:46:20.258Z"
   },
   {
    "duration": 34,
    "start_time": "2022-01-19T23:46:20.282Z"
   },
   {
    "duration": 6,
    "start_time": "2022-01-19T23:46:20.318Z"
   },
   {
    "duration": 63,
    "start_time": "2022-01-19T23:46:20.325Z"
   },
   {
    "duration": 68,
    "start_time": "2022-01-19T23:46:20.389Z"
   },
   {
    "duration": 38,
    "start_time": "2022-01-19T23:46:20.458Z"
   },
   {
    "duration": 24,
    "start_time": "2022-01-19T23:46:20.497Z"
   },
   {
    "duration": 25,
    "start_time": "2022-01-19T23:46:20.522Z"
   },
   {
    "duration": 23,
    "start_time": "2022-01-19T23:46:42.501Z"
   },
   {
    "duration": 3,
    "start_time": "2022-01-19T23:46:46.885Z"
   },
   {
    "duration": 157,
    "start_time": "2022-01-19T23:46:46.890Z"
   },
   {
    "duration": 6,
    "start_time": "2022-01-19T23:46:47.049Z"
   },
   {
    "duration": 108,
    "start_time": "2022-01-19T23:46:47.058Z"
   },
   {
    "duration": 145,
    "start_time": "2022-01-19T23:46:47.168Z"
   },
   {
    "duration": 7,
    "start_time": "2022-01-19T23:46:47.315Z"
   },
   {
    "duration": 48,
    "start_time": "2022-01-19T23:46:47.324Z"
   },
   {
    "duration": 112,
    "start_time": "2022-01-19T23:46:47.374Z"
   },
   {
    "duration": 43,
    "start_time": "2022-01-19T23:46:47.489Z"
   },
   {
    "duration": 22,
    "start_time": "2022-01-19T23:46:47.534Z"
   },
   {
    "duration": 35,
    "start_time": "2022-01-19T23:46:47.558Z"
   },
   {
    "duration": 7,
    "start_time": "2022-01-19T23:46:47.595Z"
   },
   {
    "duration": 60,
    "start_time": "2022-01-19T23:46:47.612Z"
   },
   {
    "duration": 64,
    "start_time": "2022-01-19T23:46:47.674Z"
   },
   {
    "duration": 37,
    "start_time": "2022-01-19T23:46:47.740Z"
   },
   {
    "duration": 12,
    "start_time": "2022-01-19T23:46:47.778Z"
   },
   {
    "duration": 42,
    "start_time": "2022-01-19T23:46:47.791Z"
   },
   {
    "duration": 244,
    "start_time": "2022-01-20T00:17:15.380Z"
   },
   {
    "duration": 4,
    "start_time": "2022-01-20T00:17:18.088Z"
   },
   {
    "duration": 162,
    "start_time": "2022-01-20T00:17:18.094Z"
   },
   {
    "duration": 8,
    "start_time": "2022-01-20T00:17:18.259Z"
   },
   {
    "duration": 101,
    "start_time": "2022-01-20T00:17:18.269Z"
   },
   {
    "duration": 145,
    "start_time": "2022-01-20T00:17:18.372Z"
   },
   {
    "duration": 7,
    "start_time": "2022-01-20T00:17:18.519Z"
   },
   {
    "duration": 50,
    "start_time": "2022-01-20T00:17:18.528Z"
   },
   {
    "duration": 115,
    "start_time": "2022-01-20T00:17:18.581Z"
   },
   {
    "duration": 44,
    "start_time": "2022-01-20T00:17:18.699Z"
   },
   {
    "duration": 23,
    "start_time": "2022-01-20T00:17:18.745Z"
   },
   {
    "duration": 44,
    "start_time": "2022-01-20T00:17:18.770Z"
   },
   {
    "duration": 8,
    "start_time": "2022-01-20T00:17:18.816Z"
   },
   {
    "duration": 64,
    "start_time": "2022-01-20T00:17:18.826Z"
   },
   {
    "duration": 65,
    "start_time": "2022-01-20T00:17:18.892Z"
   },
   {
    "duration": 38,
    "start_time": "2022-01-20T00:17:18.959Z"
   },
   {
    "duration": 23,
    "start_time": "2022-01-20T00:17:18.999Z"
   },
   {
    "duration": 233,
    "start_time": "2022-01-20T00:17:19.024Z"
   },
   {
    "duration": 30,
    "start_time": "2022-01-20T00:17:47.643Z"
   },
   {
    "duration": 27,
    "start_time": "2022-01-20T00:19:24.393Z"
   },
   {
    "duration": 27,
    "start_time": "2022-01-20T00:19:34.739Z"
   },
   {
    "duration": 254,
    "start_time": "2022-01-20T00:25:50.264Z"
   },
   {
    "duration": 4,
    "start_time": "2022-01-20T00:26:22.750Z"
   },
   {
    "duration": 200,
    "start_time": "2022-01-20T00:26:22.757Z"
   },
   {
    "duration": 7,
    "start_time": "2022-01-20T00:26:22.959Z"
   },
   {
    "duration": 105,
    "start_time": "2022-01-20T00:26:22.968Z"
   },
   {
    "duration": 147,
    "start_time": "2022-01-20T00:26:23.075Z"
   },
   {
    "duration": 6,
    "start_time": "2022-01-20T00:26:23.223Z"
   },
   {
    "duration": 53,
    "start_time": "2022-01-20T00:26:23.230Z"
   },
   {
    "duration": 109,
    "start_time": "2022-01-20T00:26:23.285Z"
   },
   {
    "duration": 44,
    "start_time": "2022-01-20T00:26:23.396Z"
   },
   {
    "duration": 23,
    "start_time": "2022-01-20T00:26:23.443Z"
   },
   {
    "duration": 37,
    "start_time": "2022-01-20T00:26:23.468Z"
   },
   {
    "duration": 7,
    "start_time": "2022-01-20T00:26:23.511Z"
   },
   {
    "duration": 62,
    "start_time": "2022-01-20T00:26:23.520Z"
   },
   {
    "duration": 72,
    "start_time": "2022-01-20T00:26:23.583Z"
   },
   {
    "duration": 38,
    "start_time": "2022-01-20T00:26:23.657Z"
   },
   {
    "duration": 24,
    "start_time": "2022-01-20T00:26:23.697Z"
   },
   {
    "duration": 229,
    "start_time": "2022-01-20T00:26:23.723Z"
   },
   {
    "duration": 225,
    "start_time": "2022-01-20T00:27:45.746Z"
   },
   {
    "duration": 36,
    "start_time": "2022-01-20T00:29:15.022Z"
   },
   {
    "duration": 34,
    "start_time": "2022-01-20T00:30:07.663Z"
   },
   {
    "duration": 25,
    "start_time": "2022-01-20T00:33:11.059Z"
   },
   {
    "duration": 17,
    "start_time": "2022-01-20T00:37:27.362Z"
   },
   {
    "duration": 25,
    "start_time": "2022-01-20T00:38:33.796Z"
   },
   {
    "duration": 3,
    "start_time": "2022-01-20T00:38:39.054Z"
   },
   {
    "duration": 171,
    "start_time": "2022-01-20T00:38:39.059Z"
   },
   {
    "duration": 7,
    "start_time": "2022-01-20T00:38:39.232Z"
   },
   {
    "duration": 92,
    "start_time": "2022-01-20T00:38:39.241Z"
   },
   {
    "duration": 143,
    "start_time": "2022-01-20T00:38:39.335Z"
   },
   {
    "duration": 5,
    "start_time": "2022-01-20T00:38:39.480Z"
   },
   {
    "duration": 65,
    "start_time": "2022-01-20T00:38:39.487Z"
   },
   {
    "duration": 94,
    "start_time": "2022-01-20T00:38:39.554Z"
   },
   {
    "duration": 36,
    "start_time": "2022-01-20T00:38:39.650Z"
   },
   {
    "duration": 26,
    "start_time": "2022-01-20T00:38:39.687Z"
   },
   {
    "duration": 36,
    "start_time": "2022-01-20T00:38:39.714Z"
   },
   {
    "duration": 6,
    "start_time": "2022-01-20T00:38:39.751Z"
   },
   {
    "duration": 70,
    "start_time": "2022-01-20T00:38:39.759Z"
   },
   {
    "duration": 49,
    "start_time": "2022-01-20T00:38:39.830Z"
   },
   {
    "duration": 56,
    "start_time": "2022-01-20T00:38:39.880Z"
   },
   {
    "duration": 26,
    "start_time": "2022-01-20T00:38:39.937Z"
   },
   {
    "duration": 28,
    "start_time": "2022-01-20T00:43:24.622Z"
   },
   {
    "duration": 27,
    "start_time": "2022-01-20T00:44:23.737Z"
   },
   {
    "duration": 28,
    "start_time": "2022-01-20T00:46:38.589Z"
   },
   {
    "duration": 402,
    "start_time": "2022-01-20T00:49:24.202Z"
   },
   {
    "duration": 34,
    "start_time": "2022-01-20T00:49:38.491Z"
   },
   {
    "duration": 37,
    "start_time": "2022-01-20T00:49:46.361Z"
   },
   {
    "duration": 3,
    "start_time": "2022-01-20T00:50:59.108Z"
   },
   {
    "duration": 154,
    "start_time": "2022-01-20T00:50:59.113Z"
   },
   {
    "duration": 7,
    "start_time": "2022-01-20T00:50:59.269Z"
   },
   {
    "duration": 94,
    "start_time": "2022-01-20T00:50:59.278Z"
   },
   {
    "duration": 142,
    "start_time": "2022-01-20T00:50:59.374Z"
   },
   {
    "duration": 6,
    "start_time": "2022-01-20T00:50:59.518Z"
   },
   {
    "duration": 51,
    "start_time": "2022-01-20T00:50:59.525Z"
   },
   {
    "duration": 111,
    "start_time": "2022-01-20T00:50:59.577Z"
   },
   {
    "duration": 42,
    "start_time": "2022-01-20T00:50:59.691Z"
   },
   {
    "duration": 22,
    "start_time": "2022-01-20T00:50:59.735Z"
   },
   {
    "duration": 34,
    "start_time": "2022-01-20T00:50:59.759Z"
   },
   {
    "duration": 6,
    "start_time": "2022-01-20T00:50:59.795Z"
   },
   {
    "duration": 65,
    "start_time": "2022-01-20T00:50:59.802Z"
   },
   {
    "duration": 55,
    "start_time": "2022-01-20T00:50:59.869Z"
   },
   {
    "duration": 39,
    "start_time": "2022-01-20T00:50:59.925Z"
   },
   {
    "duration": 25,
    "start_time": "2022-01-20T00:50:59.966Z"
   },
   {
    "duration": 56,
    "start_time": "2022-01-20T00:51:00.012Z"
   },
   {
    "duration": 48,
    "start_time": "2022-01-20T00:53:47.206Z"
   },
   {
    "duration": 53,
    "start_time": "2022-01-20T00:53:53.371Z"
   },
   {
    "duration": 262,
    "start_time": "2022-01-20T00:57:51.104Z"
   },
   {
    "duration": 267,
    "start_time": "2022-01-20T00:59:06.547Z"
   },
   {
    "duration": 290,
    "start_time": "2022-01-20T01:02:29.343Z"
   },
   {
    "duration": 3,
    "start_time": "2022-01-20T01:02:31.990Z"
   },
   {
    "duration": 165,
    "start_time": "2022-01-20T01:02:31.995Z"
   },
   {
    "duration": 7,
    "start_time": "2022-01-20T01:02:32.162Z"
   },
   {
    "duration": 98,
    "start_time": "2022-01-20T01:02:32.171Z"
   },
   {
    "duration": 139,
    "start_time": "2022-01-20T01:02:32.271Z"
   },
   {
    "duration": 6,
    "start_time": "2022-01-20T01:02:32.412Z"
   },
   {
    "duration": 49,
    "start_time": "2022-01-20T01:02:32.420Z"
   },
   {
    "duration": 109,
    "start_time": "2022-01-20T01:02:32.471Z"
   },
   {
    "duration": 43,
    "start_time": "2022-01-20T01:02:32.582Z"
   },
   {
    "duration": 23,
    "start_time": "2022-01-20T01:02:32.626Z"
   },
   {
    "duration": 34,
    "start_time": "2022-01-20T01:02:32.651Z"
   },
   {
    "duration": 6,
    "start_time": "2022-01-20T01:02:32.687Z"
   },
   {
    "duration": 61,
    "start_time": "2022-01-20T01:02:32.694Z"
   },
   {
    "duration": 60,
    "start_time": "2022-01-20T01:02:32.756Z"
   },
   {
    "duration": 39,
    "start_time": "2022-01-20T01:02:32.818Z"
   },
   {
    "duration": 27,
    "start_time": "2022-01-20T01:02:32.858Z"
   },
   {
    "duration": 62,
    "start_time": "2022-01-20T01:02:32.887Z"
   },
   {
    "duration": 3,
    "start_time": "2022-01-20T01:04:18.789Z"
   },
   {
    "duration": 152,
    "start_time": "2022-01-20T01:04:18.794Z"
   },
   {
    "duration": 7,
    "start_time": "2022-01-20T01:04:18.949Z"
   },
   {
    "duration": 102,
    "start_time": "2022-01-20T01:04:18.958Z"
   },
   {
    "duration": 135,
    "start_time": "2022-01-20T01:04:19.062Z"
   },
   {
    "duration": 16,
    "start_time": "2022-01-20T01:04:19.199Z"
   },
   {
    "duration": 48,
    "start_time": "2022-01-20T01:04:19.217Z"
   },
   {
    "duration": 103,
    "start_time": "2022-01-20T01:04:19.267Z"
   },
   {
    "duration": 42,
    "start_time": "2022-01-20T01:04:19.372Z"
   },
   {
    "duration": 23,
    "start_time": "2022-01-20T01:04:19.416Z"
   },
   {
    "duration": 35,
    "start_time": "2022-01-20T01:04:19.441Z"
   },
   {
    "duration": 5,
    "start_time": "2022-01-20T01:04:19.478Z"
   },
   {
    "duration": 62,
    "start_time": "2022-01-20T01:04:19.485Z"
   },
   {
    "duration": 51,
    "start_time": "2022-01-20T01:04:19.549Z"
   },
   {
    "duration": 38,
    "start_time": "2022-01-20T01:04:19.612Z"
   },
   {
    "duration": 26,
    "start_time": "2022-01-20T01:04:19.651Z"
   },
   {
    "duration": 61,
    "start_time": "2022-01-20T01:04:19.678Z"
   },
   {
    "duration": 40,
    "start_time": "2022-01-20T01:05:06.906Z"
   },
   {
    "duration": 40,
    "start_time": "2022-01-20T01:12:35.281Z"
   },
   {
    "duration": 465,
    "start_time": "2022-01-20T01:13:43.598Z"
   },
   {
    "duration": 13,
    "start_time": "2022-01-20T01:14:22.968Z"
   },
   {
    "duration": 19,
    "start_time": "2022-01-20T01:14:32.240Z"
   },
   {
    "duration": 19,
    "start_time": "2022-01-20T01:14:44.111Z"
   },
   {
    "duration": 21,
    "start_time": "2022-01-20T01:15:13.084Z"
   },
   {
    "duration": 21,
    "start_time": "2022-01-20T01:15:17.758Z"
   },
   {
    "duration": 20,
    "start_time": "2022-01-20T01:16:53.622Z"
   },
   {
    "duration": 248,
    "start_time": "2022-01-20T01:17:01.594Z"
   },
   {
    "duration": 3,
    "start_time": "2022-01-20T01:17:04.745Z"
   },
   {
    "duration": 143,
    "start_time": "2022-01-20T01:17:04.750Z"
   },
   {
    "duration": 6,
    "start_time": "2022-01-20T01:17:04.895Z"
   },
   {
    "duration": 68,
    "start_time": "2022-01-20T01:17:04.912Z"
   },
   {
    "duration": 141,
    "start_time": "2022-01-20T01:17:04.981Z"
   },
   {
    "duration": 5,
    "start_time": "2022-01-20T01:17:05.124Z"
   },
   {
    "duration": 51,
    "start_time": "2022-01-20T01:17:05.131Z"
   },
   {
    "duration": 113,
    "start_time": "2022-01-20T01:17:05.184Z"
   },
   {
    "duration": 38,
    "start_time": "2022-01-20T01:17:05.300Z"
   },
   {
    "duration": 22,
    "start_time": "2022-01-20T01:17:05.340Z"
   },
   {
    "duration": 34,
    "start_time": "2022-01-20T01:17:05.364Z"
   },
   {
    "duration": 13,
    "start_time": "2022-01-20T01:17:05.400Z"
   },
   {
    "duration": 61,
    "start_time": "2022-01-20T01:17:05.414Z"
   },
   {
    "duration": 65,
    "start_time": "2022-01-20T01:17:05.477Z"
   },
   {
    "duration": 32,
    "start_time": "2022-01-20T01:17:05.544Z"
   },
   {
    "duration": 43,
    "start_time": "2022-01-20T01:17:05.578Z"
   },
   {
    "duration": 38,
    "start_time": "2022-01-20T01:17:05.623Z"
   },
   {
    "duration": 52,
    "start_time": "2022-01-20T01:17:05.663Z"
   },
   {
    "duration": 3,
    "start_time": "2022-01-20T01:17:17.582Z"
   },
   {
    "duration": 160,
    "start_time": "2022-01-20T01:17:17.587Z"
   },
   {
    "duration": 7,
    "start_time": "2022-01-20T01:17:17.749Z"
   },
   {
    "duration": 98,
    "start_time": "2022-01-20T01:17:17.758Z"
   },
   {
    "duration": 142,
    "start_time": "2022-01-20T01:17:17.858Z"
   },
   {
    "duration": 15,
    "start_time": "2022-01-20T01:17:18.003Z"
   },
   {
    "duration": 51,
    "start_time": "2022-01-20T01:17:18.020Z"
   },
   {
    "duration": 115,
    "start_time": "2022-01-20T01:17:18.075Z"
   },
   {
    "duration": 49,
    "start_time": "2022-01-20T01:17:18.192Z"
   },
   {
    "duration": 23,
    "start_time": "2022-01-20T01:17:18.243Z"
   },
   {
    "duration": 36,
    "start_time": "2022-01-20T01:17:18.268Z"
   },
   {
    "duration": 6,
    "start_time": "2022-01-20T01:17:18.306Z"
   },
   {
    "duration": 66,
    "start_time": "2022-01-20T01:17:18.314Z"
   },
   {
    "duration": 72,
    "start_time": "2022-01-20T01:17:18.382Z"
   },
   {
    "duration": 41,
    "start_time": "2022-01-20T01:17:18.457Z"
   },
   {
    "duration": 29,
    "start_time": "2022-01-20T01:17:18.513Z"
   },
   {
    "duration": 68,
    "start_time": "2022-01-20T01:17:18.544Z"
   },
   {
    "duration": 22,
    "start_time": "2022-01-20T01:17:18.614Z"
   },
   {
    "duration": 15,
    "start_time": "2022-01-20T01:18:16.187Z"
   },
   {
    "duration": 21,
    "start_time": "2022-01-20T01:18:21.518Z"
   },
   {
    "duration": 25,
    "start_time": "2022-01-20T01:18:31.937Z"
   },
   {
    "duration": 23,
    "start_time": "2022-01-20T01:18:42.195Z"
   },
   {
    "duration": 23,
    "start_time": "2022-01-20T01:18:47.616Z"
   },
   {
    "duration": 42,
    "start_time": "2022-01-20T01:19:18.731Z"
   },
   {
    "duration": 53,
    "start_time": "2022-01-20T01:20:39.012Z"
   },
   {
    "duration": 38,
    "start_time": "2022-01-20T01:20:47.537Z"
   },
   {
    "duration": 20,
    "start_time": "2022-01-20T01:21:07.381Z"
   },
   {
    "duration": 9,
    "start_time": "2022-01-20T01:23:07.556Z"
   },
   {
    "duration": 19,
    "start_time": "2022-01-20T01:23:12.342Z"
   },
   {
    "duration": 25,
    "start_time": "2022-01-20T01:23:37.358Z"
   },
   {
    "duration": 228,
    "start_time": "2022-01-20T01:25:01.659Z"
   },
   {
    "duration": 257,
    "start_time": "2022-01-20T01:25:14.717Z"
   },
   {
    "duration": 28,
    "start_time": "2022-01-20T01:25:29.601Z"
   },
   {
    "duration": 34,
    "start_time": "2022-01-20T01:26:07.663Z"
   },
   {
    "duration": 29,
    "start_time": "2022-01-20T01:26:16.460Z"
   },
   {
    "duration": 34,
    "start_time": "2022-01-20T01:26:48.549Z"
   },
   {
    "duration": 29,
    "start_time": "2022-01-20T01:27:27.933Z"
   },
   {
    "duration": 26,
    "start_time": "2022-01-20T01:27:45.218Z"
   },
   {
    "duration": 26,
    "start_time": "2022-01-20T01:27:58.509Z"
   },
   {
    "duration": 28,
    "start_time": "2022-01-20T01:28:17.620Z"
   },
   {
    "duration": 25,
    "start_time": "2022-01-20T01:28:36.058Z"
   },
   {
    "duration": 33,
    "start_time": "2022-01-20T01:28:40.283Z"
   },
   {
    "duration": 28,
    "start_time": "2022-01-20T01:28:45.404Z"
   },
   {
    "duration": 3,
    "start_time": "2022-01-20T01:28:48.299Z"
   },
   {
    "duration": 146,
    "start_time": "2022-01-20T01:28:48.303Z"
   },
   {
    "duration": 6,
    "start_time": "2022-01-20T01:28:48.451Z"
   },
   {
    "duration": 91,
    "start_time": "2022-01-20T01:28:48.459Z"
   },
   {
    "duration": 133,
    "start_time": "2022-01-20T01:28:48.552Z"
   },
   {
    "duration": 6,
    "start_time": "2022-01-20T01:28:48.686Z"
   },
   {
    "duration": 58,
    "start_time": "2022-01-20T01:28:48.694Z"
   },
   {
    "duration": 91,
    "start_time": "2022-01-20T01:28:48.754Z"
   },
   {
    "duration": 31,
    "start_time": "2022-01-20T01:28:48.847Z"
   },
   {
    "duration": 21,
    "start_time": "2022-01-20T01:28:48.880Z"
   },
   {
    "duration": 35,
    "start_time": "2022-01-20T01:28:48.902Z"
   },
   {
    "duration": 5,
    "start_time": "2022-01-20T01:28:48.938Z"
   },
   {
    "duration": 68,
    "start_time": "2022-01-20T01:28:48.944Z"
   },
   {
    "duration": 46,
    "start_time": "2022-01-20T01:28:49.013Z"
   },
   {
    "duration": 53,
    "start_time": "2022-01-20T01:28:49.061Z"
   },
   {
    "duration": 30,
    "start_time": "2022-01-20T01:28:49.116Z"
   },
   {
    "duration": 37,
    "start_time": "2022-01-20T01:28:49.148Z"
   },
   {
    "duration": 38,
    "start_time": "2022-01-20T01:28:49.186Z"
   },
   {
    "duration": 23,
    "start_time": "2022-01-20T01:28:49.226Z"
   },
   {
    "duration": 29,
    "start_time": "2022-01-20T01:28:49.251Z"
   },
   {
    "duration": 31,
    "start_time": "2022-01-20T01:28:55.767Z"
   },
   {
    "duration": 27,
    "start_time": "2022-01-20T01:30:39.407Z"
   },
   {
    "duration": 25,
    "start_time": "2022-01-20T01:33:14.284Z"
   },
   {
    "duration": 3,
    "start_time": "2022-01-20T01:33:17.096Z"
   },
   {
    "duration": 144,
    "start_time": "2022-01-20T01:33:17.101Z"
   },
   {
    "duration": 6,
    "start_time": "2022-01-20T01:33:17.247Z"
   },
   {
    "duration": 83,
    "start_time": "2022-01-20T01:33:17.255Z"
   },
   {
    "duration": 133,
    "start_time": "2022-01-20T01:33:17.339Z"
   },
   {
    "duration": 5,
    "start_time": "2022-01-20T01:33:17.473Z"
   },
   {
    "duration": 57,
    "start_time": "2022-01-20T01:33:17.480Z"
   },
   {
    "duration": 100,
    "start_time": "2022-01-20T01:33:17.539Z"
   },
   {
    "duration": 36,
    "start_time": "2022-01-20T01:33:17.640Z"
   },
   {
    "duration": 22,
    "start_time": "2022-01-20T01:33:17.677Z"
   },
   {
    "duration": 35,
    "start_time": "2022-01-20T01:33:17.701Z"
   },
   {
    "duration": 6,
    "start_time": "2022-01-20T01:33:17.737Z"
   },
   {
    "duration": 73,
    "start_time": "2022-01-20T01:33:17.745Z"
   },
   {
    "duration": 48,
    "start_time": "2022-01-20T01:33:17.820Z"
   },
   {
    "duration": 56,
    "start_time": "2022-01-20T01:33:17.869Z"
   },
   {
    "duration": 33,
    "start_time": "2022-01-20T01:33:17.926Z"
   },
   {
    "duration": 64,
    "start_time": "2022-01-20T01:33:17.960Z"
   },
   {
    "duration": 19,
    "start_time": "2022-01-20T01:33:18.025Z"
   },
   {
    "duration": 23,
    "start_time": "2022-01-20T01:33:18.047Z"
   },
   {
    "duration": 52,
    "start_time": "2022-01-20T01:33:18.071Z"
   },
   {
    "duration": 27,
    "start_time": "2022-01-20T01:35:04.694Z"
   },
   {
    "duration": 3,
    "start_time": "2022-01-20T01:35:23.045Z"
   },
   {
    "duration": 150,
    "start_time": "2022-01-20T01:35:23.050Z"
   },
   {
    "duration": 12,
    "start_time": "2022-01-20T01:35:23.201Z"
   },
   {
    "duration": 80,
    "start_time": "2022-01-20T01:35:23.214Z"
   },
   {
    "duration": 144,
    "start_time": "2022-01-20T01:35:23.296Z"
   },
   {
    "duration": 6,
    "start_time": "2022-01-20T01:35:23.441Z"
   },
   {
    "duration": 65,
    "start_time": "2022-01-20T01:35:23.448Z"
   },
   {
    "duration": 99,
    "start_time": "2022-01-20T01:35:23.515Z"
   },
   {
    "duration": 33,
    "start_time": "2022-01-20T01:35:23.616Z"
   },
   {
    "duration": 22,
    "start_time": "2022-01-20T01:35:23.650Z"
   },
   {
    "duration": 35,
    "start_time": "2022-01-20T01:35:23.673Z"
   },
   {
    "duration": 5,
    "start_time": "2022-01-20T01:35:23.711Z"
   },
   {
    "duration": 65,
    "start_time": "2022-01-20T01:35:23.718Z"
   },
   {
    "duration": 65,
    "start_time": "2022-01-20T01:35:23.784Z"
   },
   {
    "duration": 38,
    "start_time": "2022-01-20T01:35:23.851Z"
   },
   {
    "duration": 44,
    "start_time": "2022-01-20T01:35:23.891Z"
   },
   {
    "duration": 40,
    "start_time": "2022-01-20T01:35:23.937Z"
   },
   {
    "duration": 45,
    "start_time": "2022-01-20T01:35:23.979Z"
   },
   {
    "duration": 23,
    "start_time": "2022-01-20T01:35:24.025Z"
   },
   {
    "duration": 28,
    "start_time": "2022-01-20T01:35:24.050Z"
   },
   {
    "duration": 30,
    "start_time": "2022-01-20T01:35:35.086Z"
   },
   {
    "duration": 3,
    "start_time": "2022-01-20T01:35:39.127Z"
   },
   {
    "duration": 156,
    "start_time": "2022-01-20T01:35:39.132Z"
   },
   {
    "duration": 6,
    "start_time": "2022-01-20T01:35:39.290Z"
   },
   {
    "duration": 85,
    "start_time": "2022-01-20T01:35:39.298Z"
   },
   {
    "duration": 146,
    "start_time": "2022-01-20T01:35:39.385Z"
   },
   {
    "duration": 5,
    "start_time": "2022-01-20T01:35:39.533Z"
   },
   {
    "duration": 48,
    "start_time": "2022-01-20T01:35:39.540Z"
   },
   {
    "duration": 101,
    "start_time": "2022-01-20T01:35:39.589Z"
   },
   {
    "duration": 44,
    "start_time": "2022-01-20T01:35:39.692Z"
   },
   {
    "duration": 21,
    "start_time": "2022-01-20T01:35:39.738Z"
   },
   {
    "duration": 34,
    "start_time": "2022-01-20T01:35:39.761Z"
   },
   {
    "duration": 5,
    "start_time": "2022-01-20T01:35:39.797Z"
   },
   {
    "duration": 60,
    "start_time": "2022-01-20T01:35:39.804Z"
   },
   {
    "duration": 57,
    "start_time": "2022-01-20T01:35:39.865Z"
   },
   {
    "duration": 38,
    "start_time": "2022-01-20T01:35:39.924Z"
   },
   {
    "duration": 52,
    "start_time": "2022-01-20T01:35:39.964Z"
   },
   {
    "duration": 40,
    "start_time": "2022-01-20T01:35:40.018Z"
   },
   {
    "duration": 20,
    "start_time": "2022-01-20T01:35:40.059Z"
   },
   {
    "duration": 48,
    "start_time": "2022-01-20T01:35:40.081Z"
   },
   {
    "duration": 30,
    "start_time": "2022-01-20T01:35:40.130Z"
   },
   {
    "duration": 2,
    "start_time": "2022-01-20T01:37:53.191Z"
   },
   {
    "duration": 145,
    "start_time": "2022-01-20T01:37:53.195Z"
   },
   {
    "duration": 5,
    "start_time": "2022-01-20T01:37:53.342Z"
   },
   {
    "duration": 88,
    "start_time": "2022-01-20T01:37:53.349Z"
   },
   {
    "duration": 132,
    "start_time": "2022-01-20T01:37:53.439Z"
   },
   {
    "duration": 6,
    "start_time": "2022-01-20T01:37:53.572Z"
   },
   {
    "duration": 56,
    "start_time": "2022-01-20T01:37:53.579Z"
   },
   {
    "duration": 87,
    "start_time": "2022-01-20T01:37:53.638Z"
   },
   {
    "duration": 31,
    "start_time": "2022-01-20T01:37:53.727Z"
   },
   {
    "duration": 21,
    "start_time": "2022-01-20T01:37:53.760Z"
   },
   {
    "duration": 33,
    "start_time": "2022-01-20T01:37:53.782Z"
   },
   {
    "duration": 5,
    "start_time": "2022-01-20T01:37:53.816Z"
   },
   {
    "duration": 56,
    "start_time": "2022-01-20T01:37:53.822Z"
   },
   {
    "duration": 61,
    "start_time": "2022-01-20T01:37:53.880Z"
   },
   {
    "duration": 37,
    "start_time": "2022-01-20T01:37:53.942Z"
   },
   {
    "duration": 49,
    "start_time": "2022-01-20T01:37:53.980Z"
   },
   {
    "duration": 47,
    "start_time": "2022-01-20T01:37:54.030Z"
   },
   {
    "duration": 35,
    "start_time": "2022-01-20T01:37:54.078Z"
   },
   {
    "duration": 21,
    "start_time": "2022-01-20T01:37:54.114Z"
   },
   {
    "duration": 27,
    "start_time": "2022-01-20T01:37:54.136Z"
   },
   {
    "duration": 24,
    "start_time": "2022-01-20T01:39:49.538Z"
   },
   {
    "duration": 28,
    "start_time": "2022-01-20T01:40:00.151Z"
   },
   {
    "duration": 31,
    "start_time": "2022-01-20T01:40:27.178Z"
   },
   {
    "duration": 20,
    "start_time": "2022-01-20T01:41:02.125Z"
   },
   {
    "duration": 30,
    "start_time": "2022-01-20T01:41:09.527Z"
   },
   {
    "duration": 269,
    "start_time": "2022-01-20T01:41:21.974Z"
   },
   {
    "duration": 43,
    "start_time": "2022-01-20T01:41:33.957Z"
   },
   {
    "duration": 29,
    "start_time": "2022-01-20T01:42:00.986Z"
   },
   {
    "duration": 3,
    "start_time": "2022-01-20T01:42:06.107Z"
   },
   {
    "duration": 148,
    "start_time": "2022-01-20T01:42:06.112Z"
   },
   {
    "duration": 6,
    "start_time": "2022-01-20T01:42:06.262Z"
   },
   {
    "duration": 91,
    "start_time": "2022-01-20T01:42:06.271Z"
   },
   {
    "duration": 138,
    "start_time": "2022-01-20T01:42:06.365Z"
   },
   {
    "duration": 7,
    "start_time": "2022-01-20T01:42:06.512Z"
   },
   {
    "duration": 49,
    "start_time": "2022-01-20T01:42:06.521Z"
   },
   {
    "duration": 110,
    "start_time": "2022-01-20T01:42:06.572Z"
   },
   {
    "duration": 47,
    "start_time": "2022-01-20T01:42:06.685Z"
   },
   {
    "duration": 23,
    "start_time": "2022-01-20T01:42:06.735Z"
   },
   {
    "duration": 37,
    "start_time": "2022-01-20T01:42:06.760Z"
   },
   {
    "duration": 15,
    "start_time": "2022-01-20T01:42:06.799Z"
   },
   {
    "duration": 62,
    "start_time": "2022-01-20T01:42:06.816Z"
   },
   {
    "duration": 69,
    "start_time": "2022-01-20T01:42:06.880Z"
   },
   {
    "duration": 40,
    "start_time": "2022-01-20T01:42:06.951Z"
   },
   {
    "duration": 49,
    "start_time": "2022-01-20T01:42:06.993Z"
   },
   {
    "duration": 71,
    "start_time": "2022-01-20T01:42:07.043Z"
   },
   {
    "duration": 22,
    "start_time": "2022-01-20T01:42:07.116Z"
   },
   {
    "duration": 25,
    "start_time": "2022-01-20T01:42:07.139Z"
   },
   {
    "duration": 50,
    "start_time": "2022-01-20T01:42:07.165Z"
   },
   {
    "duration": 3,
    "start_time": "2022-01-20T01:42:21.894Z"
   },
   {
    "duration": 151,
    "start_time": "2022-01-20T01:42:21.899Z"
   },
   {
    "duration": 7,
    "start_time": "2022-01-20T01:42:22.052Z"
   },
   {
    "duration": 110,
    "start_time": "2022-01-20T01:42:22.061Z"
   },
   {
    "duration": 139,
    "start_time": "2022-01-20T01:42:22.173Z"
   },
   {
    "duration": 6,
    "start_time": "2022-01-20T01:42:22.313Z"
   },
   {
    "duration": 49,
    "start_time": "2022-01-20T01:42:22.321Z"
   },
   {
    "duration": 100,
    "start_time": "2022-01-20T01:42:22.372Z"
   },
   {
    "duration": 45,
    "start_time": "2022-01-20T01:42:22.473Z"
   },
   {
    "duration": 22,
    "start_time": "2022-01-20T01:42:22.520Z"
   },
   {
    "duration": 34,
    "start_time": "2022-01-20T01:42:22.544Z"
   },
   {
    "duration": 6,
    "start_time": "2022-01-20T01:42:22.579Z"
   },
   {
    "duration": 64,
    "start_time": "2022-01-20T01:42:22.586Z"
   },
   {
    "duration": 47,
    "start_time": "2022-01-20T01:42:22.651Z"
   },
   {
    "duration": 48,
    "start_time": "2022-01-20T01:42:22.699Z"
   },
   {
    "duration": 33,
    "start_time": "2022-01-20T01:42:22.748Z"
   },
   {
    "duration": 60,
    "start_time": "2022-01-20T01:42:22.782Z"
   },
   {
    "duration": 21,
    "start_time": "2022-01-20T01:42:22.843Z"
   },
   {
    "duration": 22,
    "start_time": "2022-01-20T01:42:22.865Z"
   },
   {
    "duration": 50,
    "start_time": "2022-01-20T01:42:22.889Z"
   },
   {
    "duration": 33,
    "start_time": "2022-01-20T01:42:34.418Z"
   },
   {
    "duration": 28,
    "start_time": "2022-01-20T01:43:02.066Z"
   },
   {
    "duration": 3,
    "start_time": "2022-01-20T01:43:05.146Z"
   },
   {
    "duration": 153,
    "start_time": "2022-01-20T01:43:05.151Z"
   },
   {
    "duration": 11,
    "start_time": "2022-01-20T01:43:05.306Z"
   },
   {
    "duration": 82,
    "start_time": "2022-01-20T01:43:05.319Z"
   },
   {
    "duration": 134,
    "start_time": "2022-01-20T01:43:05.413Z"
   },
   {
    "duration": 6,
    "start_time": "2022-01-20T01:43:05.549Z"
   },
   {
    "duration": 62,
    "start_time": "2022-01-20T01:43:05.556Z"
   },
   {
    "duration": 97,
    "start_time": "2022-01-20T01:43:05.619Z"
   },
   {
    "duration": 32,
    "start_time": "2022-01-20T01:43:05.719Z"
   },
   {
    "duration": 22,
    "start_time": "2022-01-20T01:43:05.753Z"
   },
   {
    "duration": 34,
    "start_time": "2022-01-20T01:43:05.777Z"
   },
   {
    "duration": 6,
    "start_time": "2022-01-20T01:43:05.812Z"
   },
   {
    "duration": 59,
    "start_time": "2022-01-20T01:43:05.820Z"
   },
   {
    "duration": 64,
    "start_time": "2022-01-20T01:43:05.881Z"
   },
   {
    "duration": 38,
    "start_time": "2022-01-20T01:43:05.946Z"
   },
   {
    "duration": 49,
    "start_time": "2022-01-20T01:43:05.985Z"
   },
   {
    "duration": 40,
    "start_time": "2022-01-20T01:43:06.035Z"
   },
   {
    "duration": 40,
    "start_time": "2022-01-20T01:43:06.076Z"
   },
   {
    "duration": 23,
    "start_time": "2022-01-20T01:43:06.117Z"
   },
   {
    "duration": 30,
    "start_time": "2022-01-20T01:43:06.141Z"
   },
   {
    "duration": 30,
    "start_time": "2022-01-20T01:43:17.313Z"
   },
   {
    "duration": 3,
    "start_time": "2022-01-20T01:43:20.226Z"
   },
   {
    "duration": 156,
    "start_time": "2022-01-20T01:43:20.231Z"
   },
   {
    "duration": 7,
    "start_time": "2022-01-20T01:43:20.389Z"
   },
   {
    "duration": 92,
    "start_time": "2022-01-20T01:43:20.398Z"
   },
   {
    "duration": 138,
    "start_time": "2022-01-20T01:43:20.491Z"
   },
   {
    "duration": 6,
    "start_time": "2022-01-20T01:43:20.631Z"
   },
   {
    "duration": 52,
    "start_time": "2022-01-20T01:43:20.638Z"
   },
   {
    "duration": 96,
    "start_time": "2022-01-20T01:43:20.714Z"
   },
   {
    "duration": 32,
    "start_time": "2022-01-20T01:43:20.812Z"
   },
   {
    "duration": 20,
    "start_time": "2022-01-20T01:43:20.846Z"
   },
   {
    "duration": 32,
    "start_time": "2022-01-20T01:43:20.868Z"
   },
   {
    "duration": 5,
    "start_time": "2022-01-20T01:43:20.902Z"
   },
   {
    "duration": 57,
    "start_time": "2022-01-20T01:43:20.909Z"
   },
   {
    "duration": 56,
    "start_time": "2022-01-20T01:43:20.968Z"
   },
   {
    "duration": 38,
    "start_time": "2022-01-20T01:43:21.025Z"
   },
   {
    "duration": 48,
    "start_time": "2022-01-20T01:43:21.065Z"
   },
   {
    "duration": 51,
    "start_time": "2022-01-20T01:43:21.114Z"
   },
   {
    "duration": 19,
    "start_time": "2022-01-20T01:43:21.166Z"
   },
   {
    "duration": 46,
    "start_time": "2022-01-20T01:43:21.186Z"
   },
   {
    "duration": 27,
    "start_time": "2022-01-20T01:43:21.233Z"
   },
   {
    "duration": 252,
    "start_time": "2022-01-20T01:47:44.795Z"
   },
   {
    "duration": 14,
    "start_time": "2022-01-20T01:48:05.299Z"
   },
   {
    "duration": 8,
    "start_time": "2022-01-20T01:48:11.952Z"
   },
   {
    "duration": 30,
    "start_time": "2022-01-20T01:49:27.920Z"
   },
   {
    "duration": 2,
    "start_time": "2022-01-20T01:49:31.929Z"
   },
   {
    "duration": 147,
    "start_time": "2022-01-20T01:49:31.933Z"
   },
   {
    "duration": 6,
    "start_time": "2022-01-20T01:49:32.082Z"
   },
   {
    "duration": 82,
    "start_time": "2022-01-20T01:49:32.089Z"
   },
   {
    "duration": 126,
    "start_time": "2022-01-20T01:49:32.173Z"
   },
   {
    "duration": 13,
    "start_time": "2022-01-20T01:49:32.300Z"
   },
   {
    "duration": 47,
    "start_time": "2022-01-20T01:49:32.315Z"
   },
   {
    "duration": 96,
    "start_time": "2022-01-20T01:49:32.363Z"
   },
   {
    "duration": 32,
    "start_time": "2022-01-20T01:49:32.462Z"
   },
   {
    "duration": 24,
    "start_time": "2022-01-20T01:49:32.496Z"
   },
   {
    "duration": 31,
    "start_time": "2022-01-20T01:49:32.522Z"
   },
   {
    "duration": 5,
    "start_time": "2022-01-20T01:49:32.555Z"
   },
   {
    "duration": 63,
    "start_time": "2022-01-20T01:49:32.561Z"
   },
   {
    "duration": 45,
    "start_time": "2022-01-20T01:49:32.625Z"
   },
   {
    "duration": 47,
    "start_time": "2022-01-20T01:49:32.671Z"
   },
   {
    "duration": 31,
    "start_time": "2022-01-20T01:49:32.719Z"
   },
   {
    "duration": 38,
    "start_time": "2022-01-20T01:49:32.751Z"
   },
   {
    "duration": 38,
    "start_time": "2022-01-20T01:49:32.790Z"
   },
   {
    "duration": 20,
    "start_time": "2022-01-20T01:49:32.830Z"
   },
   {
    "duration": 26,
    "start_time": "2022-01-20T01:49:32.851Z"
   },
   {
    "duration": 6,
    "start_time": "2022-01-20T01:49:32.879Z"
   },
   {
    "duration": 16,
    "start_time": "2022-01-20T01:49:51.862Z"
   },
   {
    "duration": 4,
    "start_time": "2022-01-20T02:12:22.468Z"
   },
   {
    "duration": 438,
    "start_time": "2022-01-20T02:13:27.201Z"
   },
   {
    "duration": 3,
    "start_time": "2022-01-20T02:13:37.970Z"
   },
   {
    "duration": 154,
    "start_time": "2022-01-20T02:13:37.974Z"
   },
   {
    "duration": 7,
    "start_time": "2022-01-20T02:13:38.130Z"
   },
   {
    "duration": 93,
    "start_time": "2022-01-20T02:13:38.139Z"
   },
   {
    "duration": 136,
    "start_time": "2022-01-20T02:13:38.233Z"
   },
   {
    "duration": 6,
    "start_time": "2022-01-20T02:13:38.370Z"
   },
   {
    "duration": 61,
    "start_time": "2022-01-20T02:13:38.377Z"
   },
   {
    "duration": 96,
    "start_time": "2022-01-20T02:13:38.440Z"
   },
   {
    "duration": 34,
    "start_time": "2022-01-20T02:13:38.537Z"
   },
   {
    "duration": 23,
    "start_time": "2022-01-20T02:13:38.572Z"
   },
   {
    "duration": 50,
    "start_time": "2022-01-20T02:13:38.596Z"
   },
   {
    "duration": 6,
    "start_time": "2022-01-20T02:13:38.647Z"
   },
   {
    "duration": 65,
    "start_time": "2022-01-20T02:13:38.654Z"
   },
   {
    "duration": 47,
    "start_time": "2022-01-20T02:13:38.721Z"
   },
   {
    "duration": 54,
    "start_time": "2022-01-20T02:13:38.770Z"
   },
   {
    "duration": 33,
    "start_time": "2022-01-20T02:13:38.826Z"
   },
   {
    "duration": 56,
    "start_time": "2022-01-20T02:13:38.860Z"
   },
   {
    "duration": 20,
    "start_time": "2022-01-20T02:13:38.917Z"
   },
   {
    "duration": 23,
    "start_time": "2022-01-20T02:13:38.938Z"
   },
   {
    "duration": 51,
    "start_time": "2022-01-20T02:13:38.962Z"
   },
   {
    "duration": 24,
    "start_time": "2022-01-20T02:13:39.015Z"
   },
   {
    "duration": 409,
    "start_time": "2022-01-20T02:13:39.041Z"
   },
   {
    "duration": 411,
    "start_time": "2022-01-20T02:18:47.334Z"
   },
   {
    "duration": 92,
    "start_time": "2022-01-20T02:19:27.744Z"
   },
   {
    "duration": 395,
    "start_time": "2022-01-20T02:19:37.524Z"
   },
   {
    "duration": 401,
    "start_time": "2022-01-20T02:21:38.540Z"
   },
   {
    "duration": 392,
    "start_time": "2022-01-20T02:23:32.961Z"
   },
   {
    "duration": 404,
    "start_time": "2022-01-20T02:23:52.505Z"
   },
   {
    "duration": 393,
    "start_time": "2022-01-20T02:25:21.543Z"
   },
   {
    "duration": 307,
    "start_time": "2022-01-20T02:28:52.193Z"
   },
   {
    "duration": 335,
    "start_time": "2022-01-20T02:30:36.355Z"
   },
   {
    "duration": 3,
    "start_time": "2022-01-20T02:30:39.496Z"
   },
   {
    "duration": 145,
    "start_time": "2022-01-20T02:30:39.501Z"
   },
   {
    "duration": 6,
    "start_time": "2022-01-20T02:30:39.648Z"
   },
   {
    "duration": 94,
    "start_time": "2022-01-20T02:30:39.655Z"
   },
   {
    "duration": 129,
    "start_time": "2022-01-20T02:30:39.751Z"
   },
   {
    "duration": 5,
    "start_time": "2022-01-20T02:30:39.882Z"
   },
   {
    "duration": 67,
    "start_time": "2022-01-20T02:30:39.888Z"
   },
   {
    "duration": 95,
    "start_time": "2022-01-20T02:30:39.957Z"
   },
   {
    "duration": 34,
    "start_time": "2022-01-20T02:30:40.054Z"
   },
   {
    "duration": 30,
    "start_time": "2022-01-20T02:30:40.089Z"
   },
   {
    "duration": 33,
    "start_time": "2022-01-20T02:30:40.121Z"
   },
   {
    "duration": 6,
    "start_time": "2022-01-20T02:30:40.156Z"
   },
   {
    "duration": 64,
    "start_time": "2022-01-20T02:30:40.163Z"
   },
   {
    "duration": 45,
    "start_time": "2022-01-20T02:30:40.229Z"
   },
   {
    "duration": 48,
    "start_time": "2022-01-20T02:30:40.276Z"
   },
   {
    "duration": 33,
    "start_time": "2022-01-20T02:30:40.325Z"
   },
   {
    "duration": 61,
    "start_time": "2022-01-20T02:30:40.359Z"
   },
   {
    "duration": 18,
    "start_time": "2022-01-20T02:30:40.421Z"
   },
   {
    "duration": 22,
    "start_time": "2022-01-20T02:30:40.441Z"
   },
   {
    "duration": 49,
    "start_time": "2022-01-20T02:30:40.464Z"
   },
   {
    "duration": 17,
    "start_time": "2022-01-20T02:30:40.514Z"
   },
   {
    "duration": 329,
    "start_time": "2022-01-20T02:30:40.532Z"
   },
   {
    "duration": 294,
    "start_time": "2022-01-20T02:33:59.915Z"
   },
   {
    "duration": 3,
    "start_time": "2022-01-20T02:34:26.655Z"
   },
   {
    "duration": 157,
    "start_time": "2022-01-20T02:34:26.660Z"
   },
   {
    "duration": 6,
    "start_time": "2022-01-20T02:34:26.819Z"
   },
   {
    "duration": 91,
    "start_time": "2022-01-20T02:34:26.827Z"
   },
   {
    "duration": 134,
    "start_time": "2022-01-20T02:34:26.920Z"
   },
   {
    "duration": 6,
    "start_time": "2022-01-20T02:34:27.055Z"
   },
   {
    "duration": 61,
    "start_time": "2022-01-20T02:34:27.062Z"
   },
   {
    "duration": 101,
    "start_time": "2022-01-20T02:34:27.125Z"
   },
   {
    "duration": 33,
    "start_time": "2022-01-20T02:34:27.228Z"
   },
   {
    "duration": 21,
    "start_time": "2022-01-20T02:34:27.263Z"
   },
   {
    "duration": 34,
    "start_time": "2022-01-20T02:34:27.286Z"
   },
   {
    "duration": 6,
    "start_time": "2022-01-20T02:34:27.321Z"
   },
   {
    "duration": 61,
    "start_time": "2022-01-20T02:34:27.329Z"
   },
   {
    "duration": 66,
    "start_time": "2022-01-20T02:34:27.393Z"
   },
   {
    "duration": 53,
    "start_time": "2022-01-20T02:34:27.461Z"
   },
   {
    "duration": 32,
    "start_time": "2022-01-20T02:34:27.516Z"
   },
   {
    "duration": 39,
    "start_time": "2022-01-20T02:34:27.550Z"
   },
   {
    "duration": 41,
    "start_time": "2022-01-20T02:34:27.590Z"
   },
   {
    "duration": 20,
    "start_time": "2022-01-20T02:34:27.633Z"
   },
   {
    "duration": 29,
    "start_time": "2022-01-20T02:34:27.655Z"
   },
   {
    "duration": 36,
    "start_time": "2022-01-20T02:34:27.685Z"
   },
   {
    "duration": 6,
    "start_time": "2022-01-20T02:34:27.722Z"
   },
   {
    "duration": 333,
    "start_time": "2022-01-20T02:34:27.730Z"
   },
   {
    "duration": 5,
    "start_time": "2022-01-20T02:35:10.490Z"
   },
   {
    "duration": 3,
    "start_time": "2022-01-20T02:35:13.342Z"
   },
   {
    "duration": 155,
    "start_time": "2022-01-20T02:35:13.347Z"
   },
   {
    "duration": 7,
    "start_time": "2022-01-20T02:35:13.512Z"
   },
   {
    "duration": 92,
    "start_time": "2022-01-20T02:35:13.521Z"
   },
   {
    "duration": 134,
    "start_time": "2022-01-20T02:35:13.615Z"
   },
   {
    "duration": 6,
    "start_time": "2022-01-20T02:35:13.750Z"
   },
   {
    "duration": 65,
    "start_time": "2022-01-20T02:35:13.758Z"
   },
   {
    "duration": 97,
    "start_time": "2022-01-20T02:35:13.826Z"
   },
   {
    "duration": 33,
    "start_time": "2022-01-20T02:35:13.925Z"
   },
   {
    "duration": 23,
    "start_time": "2022-01-20T02:35:13.959Z"
   },
   {
    "duration": 36,
    "start_time": "2022-01-20T02:35:13.983Z"
   },
   {
    "duration": 6,
    "start_time": "2022-01-20T02:35:14.020Z"
   },
   {
    "duration": 60,
    "start_time": "2022-01-20T02:35:14.027Z"
   },
   {
    "duration": 62,
    "start_time": "2022-01-20T02:35:14.089Z"
   },
   {
    "duration": 36,
    "start_time": "2022-01-20T02:35:14.152Z"
   },
   {
    "duration": 43,
    "start_time": "2022-01-20T02:35:14.190Z"
   },
   {
    "duration": 38,
    "start_time": "2022-01-20T02:35:14.234Z"
   },
   {
    "duration": 18,
    "start_time": "2022-01-20T02:35:14.273Z"
   },
   {
    "duration": 23,
    "start_time": "2022-01-20T02:35:14.312Z"
   },
   {
    "duration": 32,
    "start_time": "2022-01-20T02:35:14.336Z"
   },
   {
    "duration": 17,
    "start_time": "2022-01-20T02:35:14.369Z"
   },
   {
    "duration": 24,
    "start_time": "2022-01-20T02:35:14.388Z"
   },
   {
    "duration": 312,
    "start_time": "2022-01-20T02:35:14.415Z"
   },
   {
    "duration": 5,
    "start_time": "2022-01-20T02:38:48.427Z"
   },
   {
    "duration": 2,
    "start_time": "2022-01-20T02:38:51.544Z"
   },
   {
    "duration": 148,
    "start_time": "2022-01-20T02:38:51.548Z"
   },
   {
    "duration": 15,
    "start_time": "2022-01-20T02:38:51.698Z"
   },
   {
    "duration": 74,
    "start_time": "2022-01-20T02:38:51.714Z"
   },
   {
    "duration": 139,
    "start_time": "2022-01-20T02:38:51.790Z"
   },
   {
    "duration": 6,
    "start_time": "2022-01-20T02:38:51.930Z"
   },
   {
    "duration": 52,
    "start_time": "2022-01-20T02:38:51.937Z"
   },
   {
    "duration": 108,
    "start_time": "2022-01-20T02:38:51.991Z"
   },
   {
    "duration": 42,
    "start_time": "2022-01-20T02:38:52.101Z"
   },
   {
    "duration": 22,
    "start_time": "2022-01-20T02:38:52.145Z"
   },
   {
    "duration": 33,
    "start_time": "2022-01-20T02:38:52.169Z"
   },
   {
    "duration": 6,
    "start_time": "2022-01-20T02:38:52.203Z"
   },
   {
    "duration": 66,
    "start_time": "2022-01-20T02:38:52.210Z"
   },
   {
    "duration": 55,
    "start_time": "2022-01-20T02:38:52.278Z"
   },
   {
    "duration": 38,
    "start_time": "2022-01-20T02:38:52.334Z"
   },
   {
    "duration": 51,
    "start_time": "2022-01-20T02:38:52.374Z"
   },
   {
    "duration": 40,
    "start_time": "2022-01-20T02:38:52.426Z"
   },
   {
    "duration": 20,
    "start_time": "2022-01-20T02:38:52.467Z"
   },
   {
    "duration": 42,
    "start_time": "2022-01-20T02:38:52.489Z"
   },
   {
    "duration": 27,
    "start_time": "2022-01-20T02:38:52.533Z"
   },
   {
    "duration": 14,
    "start_time": "2022-01-20T02:38:52.562Z"
   },
   {
    "duration": 5,
    "start_time": "2022-01-20T02:38:52.577Z"
   },
   {
    "duration": 301,
    "start_time": "2022-01-20T02:38:52.583Z"
   },
   {
    "duration": 5,
    "start_time": "2022-01-20T02:39:52.497Z"
   },
   {
    "duration": 3,
    "start_time": "2022-01-20T02:39:55.501Z"
   },
   {
    "duration": 162,
    "start_time": "2022-01-20T02:39:55.506Z"
   },
   {
    "duration": 6,
    "start_time": "2022-01-20T02:39:55.670Z"
   },
   {
    "duration": 95,
    "start_time": "2022-01-20T02:39:55.678Z"
   },
   {
    "duration": 146,
    "start_time": "2022-01-20T02:39:55.775Z"
   },
   {
    "duration": 6,
    "start_time": "2022-01-20T02:39:55.923Z"
   },
   {
    "duration": 49,
    "start_time": "2022-01-20T02:39:55.931Z"
   },
   {
    "duration": 107,
    "start_time": "2022-01-20T02:39:55.982Z"
   },
   {
    "duration": 41,
    "start_time": "2022-01-20T02:39:56.092Z"
   },
   {
    "duration": 22,
    "start_time": "2022-01-20T02:39:56.135Z"
   },
   {
    "duration": 35,
    "start_time": "2022-01-20T02:39:56.159Z"
   },
   {
    "duration": 6,
    "start_time": "2022-01-20T02:39:56.195Z"
   },
   {
    "duration": 64,
    "start_time": "2022-01-20T02:39:56.202Z"
   },
   {
    "duration": 53,
    "start_time": "2022-01-20T02:39:56.268Z"
   },
   {
    "duration": 38,
    "start_time": "2022-01-20T02:39:56.323Z"
   },
   {
    "duration": 51,
    "start_time": "2022-01-20T02:39:56.363Z"
   },
   {
    "duration": 40,
    "start_time": "2022-01-20T02:39:56.416Z"
   },
   {
    "duration": 20,
    "start_time": "2022-01-20T02:39:56.457Z"
   },
   {
    "duration": 42,
    "start_time": "2022-01-20T02:39:56.478Z"
   },
   {
    "duration": 29,
    "start_time": "2022-01-20T02:39:56.522Z"
   },
   {
    "duration": 16,
    "start_time": "2022-01-20T02:39:56.552Z"
   },
   {
    "duration": 5,
    "start_time": "2022-01-20T02:39:56.569Z"
   },
   {
    "duration": 330,
    "start_time": "2022-01-20T02:39:56.575Z"
   },
   {
    "duration": 3,
    "start_time": "2022-01-20T02:44:39.571Z"
   },
   {
    "duration": 140,
    "start_time": "2022-01-20T02:44:39.576Z"
   },
   {
    "duration": 6,
    "start_time": "2022-01-20T02:44:39.717Z"
   },
   {
    "duration": 66,
    "start_time": "2022-01-20T02:44:39.725Z"
   },
   {
    "duration": 133,
    "start_time": "2022-01-20T02:44:39.793Z"
   },
   {
    "duration": 5,
    "start_time": "2022-01-20T02:44:39.928Z"
   },
   {
    "duration": 41,
    "start_time": "2022-01-20T02:44:39.934Z"
   },
   {
    "duration": 104,
    "start_time": "2022-01-20T02:44:39.978Z"
   },
   {
    "duration": 39,
    "start_time": "2022-01-20T02:44:40.084Z"
   },
   {
    "duration": 21,
    "start_time": "2022-01-20T02:44:40.125Z"
   },
   {
    "duration": 36,
    "start_time": "2022-01-20T02:44:40.147Z"
   },
   {
    "duration": 5,
    "start_time": "2022-01-20T02:44:40.184Z"
   },
   {
    "duration": 57,
    "start_time": "2022-01-20T02:44:40.191Z"
   },
   {
    "duration": 44,
    "start_time": "2022-01-20T02:44:40.249Z"
   },
   {
    "duration": 45,
    "start_time": "2022-01-20T02:44:40.294Z"
   },
   {
    "duration": 33,
    "start_time": "2022-01-20T02:44:40.340Z"
   },
   {
    "duration": 73,
    "start_time": "2022-01-20T02:44:40.375Z"
   },
   {
    "duration": 20,
    "start_time": "2022-01-20T02:44:40.450Z"
   },
   {
    "duration": 46,
    "start_time": "2022-01-20T02:44:40.472Z"
   },
   {
    "duration": 28,
    "start_time": "2022-01-20T02:44:40.520Z"
   },
   {
    "duration": 16,
    "start_time": "2022-01-20T02:44:40.550Z"
   },
   {
    "duration": 5,
    "start_time": "2022-01-20T02:44:40.568Z"
   },
   {
    "duration": 311,
    "start_time": "2022-01-20T02:44:40.576Z"
   },
   {
    "duration": 2,
    "start_time": "2022-01-20T02:45:22.807Z"
   },
   {
    "duration": 149,
    "start_time": "2022-01-20T02:45:22.811Z"
   },
   {
    "duration": 6,
    "start_time": "2022-01-20T02:45:22.962Z"
   },
   {
    "duration": 97,
    "start_time": "2022-01-20T02:45:22.969Z"
   },
   {
    "duration": 126,
    "start_time": "2022-01-20T02:45:23.067Z"
   },
   {
    "duration": 5,
    "start_time": "2022-01-20T02:45:23.195Z"
   },
   {
    "duration": 49,
    "start_time": "2022-01-20T02:45:23.212Z"
   },
   {
    "duration": 91,
    "start_time": "2022-01-20T02:45:23.263Z"
   },
   {
    "duration": 32,
    "start_time": "2022-01-20T02:45:23.356Z"
   },
   {
    "duration": 30,
    "start_time": "2022-01-20T02:45:23.390Z"
   },
   {
    "duration": 34,
    "start_time": "2022-01-20T02:45:23.421Z"
   },
   {
    "duration": 5,
    "start_time": "2022-01-20T02:45:23.457Z"
   },
   {
    "duration": 60,
    "start_time": "2022-01-20T02:45:23.464Z"
   },
   {
    "duration": 43,
    "start_time": "2022-01-20T02:45:23.526Z"
   },
   {
    "duration": 48,
    "start_time": "2022-01-20T02:45:23.570Z"
   },
   {
    "duration": 29,
    "start_time": "2022-01-20T02:45:23.619Z"
   },
   {
    "duration": 37,
    "start_time": "2022-01-20T02:45:23.650Z"
   },
   {
    "duration": 39,
    "start_time": "2022-01-20T02:45:23.688Z"
   },
   {
    "duration": 22,
    "start_time": "2022-01-20T02:45:23.729Z"
   },
   {
    "duration": 28,
    "start_time": "2022-01-20T02:45:23.752Z"
   },
   {
    "duration": 40,
    "start_time": "2022-01-20T02:45:23.781Z"
   },
   {
    "duration": 4,
    "start_time": "2022-01-20T02:45:23.823Z"
   },
   {
    "duration": 302,
    "start_time": "2022-01-20T02:45:23.829Z"
   },
   {
    "duration": 5,
    "start_time": "2022-01-20T02:45:45.945Z"
   },
   {
    "duration": 3,
    "start_time": "2022-01-20T02:45:49.822Z"
   },
   {
    "duration": 151,
    "start_time": "2022-01-20T02:45:49.827Z"
   },
   {
    "duration": 7,
    "start_time": "2022-01-20T02:45:49.980Z"
   },
   {
    "duration": 104,
    "start_time": "2022-01-20T02:45:49.989Z"
   },
   {
    "duration": 132,
    "start_time": "2022-01-20T02:45:50.094Z"
   },
   {
    "duration": 6,
    "start_time": "2022-01-20T02:45:50.228Z"
   },
   {
    "duration": 49,
    "start_time": "2022-01-20T02:45:50.237Z"
   },
   {
    "duration": 105,
    "start_time": "2022-01-20T02:45:50.288Z"
   },
   {
    "duration": 40,
    "start_time": "2022-01-20T02:45:50.395Z"
   },
   {
    "duration": 22,
    "start_time": "2022-01-20T02:45:50.437Z"
   },
   {
    "duration": 34,
    "start_time": "2022-01-20T02:45:50.461Z"
   },
   {
    "duration": 15,
    "start_time": "2022-01-20T02:45:50.497Z"
   },
   {
    "duration": 65,
    "start_time": "2022-01-20T02:45:50.514Z"
   },
   {
    "duration": 65,
    "start_time": "2022-01-20T02:45:50.581Z"
   },
   {
    "duration": 42,
    "start_time": "2022-01-20T02:45:50.648Z"
   },
   {
    "duration": 54,
    "start_time": "2022-01-20T02:45:50.692Z"
   },
   {
    "duration": 80,
    "start_time": "2022-01-20T02:45:50.748Z"
   },
   {
    "duration": 22,
    "start_time": "2022-01-20T02:45:50.830Z"
   },
   {
    "duration": 30,
    "start_time": "2022-01-20T02:45:50.856Z"
   },
   {
    "duration": 31,
    "start_time": "2022-01-20T02:45:50.912Z"
   },
   {
    "duration": 18,
    "start_time": "2022-01-20T02:45:50.945Z"
   },
   {
    "duration": 5,
    "start_time": "2022-01-20T02:45:50.965Z"
   },
   {
    "duration": 334,
    "start_time": "2022-01-20T02:45:50.971Z"
   },
   {
    "duration": 5,
    "start_time": "2022-01-20T02:51:21.951Z"
   },
   {
    "duration": 11,
    "start_time": "2022-01-20T02:51:29.008Z"
   },
   {
    "duration": 12,
    "start_time": "2022-01-20T02:51:40.507Z"
   },
   {
    "duration": 3,
    "start_time": "2022-01-20T02:51:44.236Z"
   },
   {
    "duration": 159,
    "start_time": "2022-01-20T02:51:44.241Z"
   },
   {
    "duration": 14,
    "start_time": "2022-01-20T02:51:44.402Z"
   },
   {
    "duration": 95,
    "start_time": "2022-01-20T02:51:44.418Z"
   },
   {
    "duration": 134,
    "start_time": "2022-01-20T02:51:44.514Z"
   },
   {
    "duration": 6,
    "start_time": "2022-01-20T02:51:44.650Z"
   },
   {
    "duration": 65,
    "start_time": "2022-01-20T02:51:44.658Z"
   },
   {
    "duration": 97,
    "start_time": "2022-01-20T02:51:44.725Z"
   },
   {
    "duration": 37,
    "start_time": "2022-01-20T02:51:44.824Z"
   },
   {
    "duration": 22,
    "start_time": "2022-01-20T02:51:44.862Z"
   },
   {
    "duration": 35,
    "start_time": "2022-01-20T02:51:44.886Z"
   },
   {
    "duration": 6,
    "start_time": "2022-01-20T02:51:44.922Z"
   },
   {
    "duration": 63,
    "start_time": "2022-01-20T02:51:44.930Z"
   },
   {
    "duration": 64,
    "start_time": "2022-01-20T02:51:44.994Z"
   },
   {
    "duration": 37,
    "start_time": "2022-01-20T02:51:45.060Z"
   },
   {
    "duration": 30,
    "start_time": "2022-01-20T02:51:45.112Z"
   },
   {
    "duration": 38,
    "start_time": "2022-01-20T02:51:45.143Z"
   },
   {
    "duration": 42,
    "start_time": "2022-01-20T02:51:45.182Z"
   },
   {
    "duration": 22,
    "start_time": "2022-01-20T02:51:45.226Z"
   },
   {
    "duration": 28,
    "start_time": "2022-01-20T02:51:45.250Z"
   },
   {
    "duration": 34,
    "start_time": "2022-01-20T02:51:45.279Z"
   },
   {
    "duration": 4,
    "start_time": "2022-01-20T02:51:45.315Z"
   },
   {
    "duration": 294,
    "start_time": "2022-01-20T02:51:45.320Z"
   },
   {
    "duration": 13,
    "start_time": "2022-01-20T02:51:45.616Z"
   },
   {
    "duration": 11,
    "start_time": "2022-01-20T02:52:05.505Z"
   },
   {
    "duration": 239,
    "start_time": "2022-01-20T03:06:04.612Z"
   },
   {
    "duration": 15,
    "start_time": "2022-01-20T03:06:53.993Z"
   },
   {
    "duration": 21,
    "start_time": "2022-01-20T03:06:58.982Z"
   },
   {
    "duration": 23,
    "start_time": "2022-01-20T03:07:38.740Z"
   },
   {
    "duration": 255,
    "start_time": "2022-01-20T03:07:59.562Z"
   },
   {
    "duration": 25,
    "start_time": "2022-01-20T03:08:10.744Z"
   },
   {
    "duration": 23,
    "start_time": "2022-01-20T03:08:30.520Z"
   },
   {
    "duration": 25,
    "start_time": "2022-01-20T03:09:36.870Z"
   },
   {
    "duration": 20,
    "start_time": "2022-01-20T03:09:43.901Z"
   },
   {
    "duration": 22,
    "start_time": "2022-01-20T03:10:05.357Z"
   },
   {
    "duration": 16,
    "start_time": "2022-01-20T03:12:13.433Z"
   },
   {
    "duration": 17,
    "start_time": "2022-01-20T03:12:30.222Z"
   },
   {
    "duration": 18,
    "start_time": "2022-01-20T03:12:36.372Z"
   },
   {
    "duration": 3,
    "start_time": "2022-01-20T03:12:41.600Z"
   },
   {
    "duration": 151,
    "start_time": "2022-01-20T03:12:41.606Z"
   },
   {
    "duration": 7,
    "start_time": "2022-01-20T03:12:41.759Z"
   },
   {
    "duration": 87,
    "start_time": "2022-01-20T03:12:41.767Z"
   },
   {
    "duration": 139,
    "start_time": "2022-01-20T03:12:41.856Z"
   },
   {
    "duration": 6,
    "start_time": "2022-01-20T03:12:41.996Z"
   },
   {
    "duration": 57,
    "start_time": "2022-01-20T03:12:42.003Z"
   },
   {
    "duration": 104,
    "start_time": "2022-01-20T03:12:42.061Z"
   },
   {
    "duration": 48,
    "start_time": "2022-01-20T03:12:42.168Z"
   },
   {
    "duration": 23,
    "start_time": "2022-01-20T03:12:42.217Z"
   },
   {
    "duration": 35,
    "start_time": "2022-01-20T03:12:42.242Z"
   },
   {
    "duration": 5,
    "start_time": "2022-01-20T03:12:42.279Z"
   },
   {
    "duration": 65,
    "start_time": "2022-01-20T03:12:42.286Z"
   },
   {
    "duration": 48,
    "start_time": "2022-01-20T03:12:42.353Z"
   },
   {
    "duration": 39,
    "start_time": "2022-01-20T03:12:42.412Z"
   },
   {
    "duration": 34,
    "start_time": "2022-01-20T03:12:42.452Z"
   },
   {
    "duration": 60,
    "start_time": "2022-01-20T03:12:42.488Z"
   },
   {
    "duration": 20,
    "start_time": "2022-01-20T03:12:42.550Z"
   },
   {
    "duration": 43,
    "start_time": "2022-01-20T03:12:42.572Z"
   },
   {
    "duration": 30,
    "start_time": "2022-01-20T03:12:42.617Z"
   },
   {
    "duration": 15,
    "start_time": "2022-01-20T03:12:42.649Z"
   },
   {
    "duration": 5,
    "start_time": "2022-01-20T03:12:42.665Z"
   },
   {
    "duration": 341,
    "start_time": "2022-01-20T03:12:42.672Z"
   },
   {
    "duration": 11,
    "start_time": "2022-01-20T03:12:43.016Z"
   },
   {
    "duration": 18,
    "start_time": "2022-01-20T03:12:43.029Z"
   },
   {
    "duration": 17,
    "start_time": "2022-01-20T03:13:00.961Z"
   },
   {
    "duration": 17,
    "start_time": "2022-01-20T03:13:15.850Z"
   },
   {
    "duration": 17,
    "start_time": "2022-01-20T03:13:32.948Z"
   },
   {
    "duration": 22,
    "start_time": "2022-01-20T03:13:42.611Z"
   },
   {
    "duration": 14,
    "start_time": "2022-01-20T03:14:36.456Z"
   },
   {
    "duration": 16,
    "start_time": "2022-01-20T03:15:08.507Z"
   },
   {
    "duration": 18,
    "start_time": "2022-01-20T03:16:16.649Z"
   },
   {
    "duration": 20,
    "start_time": "2022-01-20T03:16:34.118Z"
   },
   {
    "duration": 21,
    "start_time": "2022-01-20T03:17:04.047Z"
   },
   {
    "duration": 17,
    "start_time": "2022-01-20T03:18:45.734Z"
   },
   {
    "duration": 21,
    "start_time": "2022-01-20T03:19:20.546Z"
   },
   {
    "duration": 20,
    "start_time": "2022-01-20T03:19:27.947Z"
   },
   {
    "duration": 21,
    "start_time": "2022-01-20T03:20:07.476Z"
   },
   {
    "duration": 18,
    "start_time": "2022-01-20T03:20:32.352Z"
   },
   {
    "duration": 248,
    "start_time": "2022-01-20T03:26:06.325Z"
   },
   {
    "duration": 18,
    "start_time": "2022-01-20T03:26:09.968Z"
   },
   {
    "duration": 19,
    "start_time": "2022-01-20T03:26:23.960Z"
   },
   {
    "duration": 16,
    "start_time": "2022-01-20T03:26:31.710Z"
   },
   {
    "duration": 17,
    "start_time": "2022-01-20T03:26:48.136Z"
   },
   {
    "duration": 18,
    "start_time": "2022-01-20T03:26:53.064Z"
   },
   {
    "duration": 30,
    "start_time": "2022-01-20T03:28:44.917Z"
   },
   {
    "duration": 30,
    "start_time": "2022-01-20T03:28:56.651Z"
   },
   {
    "duration": 263,
    "start_time": "2022-01-20T03:31:41.186Z"
   },
   {
    "duration": 301,
    "start_time": "2022-01-20T03:32:29.180Z"
   },
   {
    "duration": 3,
    "start_time": "2022-01-20T03:32:49.663Z"
   },
   {
    "duration": 146,
    "start_time": "2022-01-20T03:32:49.668Z"
   },
   {
    "duration": 6,
    "start_time": "2022-01-20T03:32:49.816Z"
   },
   {
    "duration": 72,
    "start_time": "2022-01-20T03:32:49.823Z"
   },
   {
    "duration": 144,
    "start_time": "2022-01-20T03:32:49.896Z"
   },
   {
    "duration": 7,
    "start_time": "2022-01-20T03:32:50.042Z"
   },
   {
    "duration": 73,
    "start_time": "2022-01-20T03:32:50.052Z"
   },
   {
    "duration": 98,
    "start_time": "2022-01-20T03:32:50.127Z"
   },
   {
    "duration": 37,
    "start_time": "2022-01-20T03:32:50.227Z"
   },
   {
    "duration": 23,
    "start_time": "2022-01-20T03:32:50.265Z"
   },
   {
    "duration": 36,
    "start_time": "2022-01-20T03:32:50.289Z"
   },
   {
    "duration": 6,
    "start_time": "2022-01-20T03:32:50.327Z"
   },
   {
    "duration": 81,
    "start_time": "2022-01-20T03:32:50.334Z"
   },
   {
    "duration": 48,
    "start_time": "2022-01-20T03:32:50.416Z"
   },
   {
    "duration": 55,
    "start_time": "2022-01-20T03:32:50.465Z"
   },
   {
    "duration": 33,
    "start_time": "2022-01-20T03:32:50.522Z"
   },
   {
    "duration": 66,
    "start_time": "2022-01-20T03:32:50.557Z"
   },
   {
    "duration": 21,
    "start_time": "2022-01-20T03:32:50.624Z"
   },
   {
    "duration": 24,
    "start_time": "2022-01-20T03:32:50.647Z"
   },
   {
    "duration": 55,
    "start_time": "2022-01-20T03:32:50.673Z"
   },
   {
    "duration": 17,
    "start_time": "2022-01-20T03:32:50.730Z"
   },
   {
    "duration": 5,
    "start_time": "2022-01-20T03:32:50.748Z"
   },
   {
    "duration": 323,
    "start_time": "2022-01-20T03:32:50.754Z"
   },
   {
    "duration": 12,
    "start_time": "2022-01-20T03:32:51.078Z"
   },
   {
    "duration": 23,
    "start_time": "2022-01-20T03:32:51.091Z"
   },
   {
    "duration": 29,
    "start_time": "2022-01-20T03:32:51.115Z"
   },
   {
    "duration": 238,
    "start_time": "2022-01-20T03:32:51.145Z"
   },
   {
    "duration": 237,
    "start_time": "2022-01-20T03:33:27.353Z"
   },
   {
    "duration": 898,
    "start_time": "2022-01-20T03:34:07.392Z"
   },
   {
    "duration": 277,
    "start_time": "2022-01-20T03:48:03.218Z"
   },
   {
    "duration": 263,
    "start_time": "2022-01-20T03:49:48.217Z"
   },
   {
    "duration": 256,
    "start_time": "2022-01-20T03:50:47.732Z"
   },
   {
    "duration": 5,
    "start_time": "2022-01-20T04:13:38.398Z"
   },
   {
    "duration": 4,
    "start_time": "2022-01-20T04:15:59.679Z"
   },
   {
    "duration": 5,
    "start_time": "2022-01-20T04:16:14.235Z"
   },
   {
    "duration": 7,
    "start_time": "2022-01-20T04:21:02.485Z"
   },
   {
    "duration": 262,
    "start_time": "2022-01-20T04:24:38.380Z"
   },
   {
    "duration": 2,
    "start_time": "2022-01-20T04:25:34.892Z"
   },
   {
    "duration": 168,
    "start_time": "2022-01-20T04:25:34.896Z"
   },
   {
    "duration": 7,
    "start_time": "2022-01-20T04:25:35.066Z"
   },
   {
    "duration": 100,
    "start_time": "2022-01-20T04:25:35.075Z"
   },
   {
    "duration": 141,
    "start_time": "2022-01-20T04:25:35.176Z"
   },
   {
    "duration": 5,
    "start_time": "2022-01-20T04:25:35.319Z"
   },
   {
    "duration": 49,
    "start_time": "2022-01-20T04:25:35.327Z"
   },
   {
    "duration": 111,
    "start_time": "2022-01-20T04:25:35.378Z"
   },
   {
    "duration": 43,
    "start_time": "2022-01-20T04:25:35.490Z"
   },
   {
    "duration": 22,
    "start_time": "2022-01-20T04:25:35.534Z"
   },
   {
    "duration": 60,
    "start_time": "2022-01-20T04:25:35.558Z"
   },
   {
    "duration": 6,
    "start_time": "2022-01-20T04:25:35.619Z"
   },
   {
    "duration": 63,
    "start_time": "2022-01-20T04:25:35.626Z"
   },
   {
    "duration": 64,
    "start_time": "2022-01-20T04:25:35.691Z"
   },
   {
    "duration": 39,
    "start_time": "2022-01-20T04:25:35.756Z"
   },
   {
    "duration": 45,
    "start_time": "2022-01-20T04:25:35.796Z"
   },
   {
    "duration": 40,
    "start_time": "2022-01-20T04:25:35.842Z"
   },
   {
    "duration": 44,
    "start_time": "2022-01-20T04:25:35.884Z"
   },
   {
    "duration": 22,
    "start_time": "2022-01-20T04:25:35.931Z"
   },
   {
    "duration": 29,
    "start_time": "2022-01-20T04:25:35.955Z"
   },
   {
    "duration": 38,
    "start_time": "2022-01-20T04:25:35.985Z"
   },
   {
    "duration": 5,
    "start_time": "2022-01-20T04:25:36.024Z"
   },
   {
    "duration": 322,
    "start_time": "2022-01-20T04:25:36.031Z"
   },
   {
    "duration": 12,
    "start_time": "2022-01-20T04:25:36.355Z"
   },
   {
    "duration": 19,
    "start_time": "2022-01-20T04:25:36.368Z"
   },
   {
    "duration": 49,
    "start_time": "2022-01-20T04:25:36.389Z"
   },
   {
    "duration": 906,
    "start_time": "2022-01-20T04:25:36.439Z"
   },
   {
    "duration": 329,
    "start_time": "2022-01-20T04:25:37.347Z"
   },
   {
    "duration": 395,
    "start_time": "2022-01-20T04:25:37.677Z"
   },
   {
    "duration": 276,
    "start_time": "2022-01-20T04:25:38.074Z"
   },
   {
    "duration": 5,
    "start_time": "2022-01-20T04:25:38.351Z"
   },
   {
    "duration": 18,
    "start_time": "2022-01-20T04:25:38.358Z"
   },
   {
    "duration": 267,
    "start_time": "2022-01-20T04:26:10.813Z"
   },
   {
    "duration": 3,
    "start_time": "2022-01-20T04:26:17.598Z"
   },
   {
    "duration": 154,
    "start_time": "2022-01-20T04:26:17.603Z"
   },
   {
    "duration": 6,
    "start_time": "2022-01-20T04:26:17.759Z"
   },
   {
    "duration": 104,
    "start_time": "2022-01-20T04:26:17.767Z"
   },
   {
    "duration": 139,
    "start_time": "2022-01-20T04:26:17.873Z"
   },
   {
    "duration": 6,
    "start_time": "2022-01-20T04:26:18.014Z"
   },
   {
    "duration": 52,
    "start_time": "2022-01-20T04:26:18.022Z"
   },
   {
    "duration": 111,
    "start_time": "2022-01-20T04:26:18.076Z"
   },
   {
    "duration": 49,
    "start_time": "2022-01-20T04:26:18.189Z"
   },
   {
    "duration": 22,
    "start_time": "2022-01-20T04:26:18.240Z"
   },
   {
    "duration": 43,
    "start_time": "2022-01-20T04:26:18.264Z"
   },
   {
    "duration": 6,
    "start_time": "2022-01-20T04:26:18.308Z"
   },
   {
    "duration": 65,
    "start_time": "2022-01-20T04:26:18.315Z"
   },
   {
    "duration": 62,
    "start_time": "2022-01-20T04:26:18.381Z"
   },
   {
    "duration": 40,
    "start_time": "2022-01-20T04:26:18.445Z"
   },
   {
    "duration": 46,
    "start_time": "2022-01-20T04:26:18.486Z"
   },
   {
    "duration": 41,
    "start_time": "2022-01-20T04:26:18.534Z"
   },
   {
    "duration": 40,
    "start_time": "2022-01-20T04:26:18.576Z"
   },
   {
    "duration": 23,
    "start_time": "2022-01-20T04:26:18.617Z"
   },
   {
    "duration": 30,
    "start_time": "2022-01-20T04:26:18.641Z"
   },
   {
    "duration": 40,
    "start_time": "2022-01-20T04:26:18.673Z"
   },
   {
    "duration": 5,
    "start_time": "2022-01-20T04:26:18.715Z"
   },
   {
    "duration": 318,
    "start_time": "2022-01-20T04:26:18.722Z"
   },
   {
    "duration": 13,
    "start_time": "2022-01-20T04:26:19.042Z"
   },
   {
    "duration": 19,
    "start_time": "2022-01-20T04:26:19.057Z"
   },
   {
    "duration": 57,
    "start_time": "2022-01-20T04:26:19.077Z"
   },
   {
    "duration": 928,
    "start_time": "2022-01-20T04:26:19.137Z"
   },
   {
    "duration": 358,
    "start_time": "2022-01-20T04:26:20.067Z"
   },
   {
    "duration": 328,
    "start_time": "2022-01-20T04:26:20.426Z"
   },
   {
    "duration": 252,
    "start_time": "2022-01-20T04:26:20.756Z"
   },
   {
    "duration": 5,
    "start_time": "2022-01-20T04:26:21.009Z"
   },
   {
    "duration": 15,
    "start_time": "2022-01-20T04:26:21.015Z"
   },
   {
    "duration": 2,
    "start_time": "2022-01-20T04:31:47.507Z"
   },
   {
    "duration": 6,
    "start_time": "2022-01-20T04:42:33.740Z"
   },
   {
    "duration": 3,
    "start_time": "2022-01-20T04:46:35.736Z"
   },
   {
    "duration": 152,
    "start_time": "2022-01-20T04:46:35.741Z"
   },
   {
    "duration": 18,
    "start_time": "2022-01-20T04:46:35.896Z"
   },
   {
    "duration": 78,
    "start_time": "2022-01-20T04:46:35.916Z"
   },
   {
    "duration": 141,
    "start_time": "2022-01-20T04:46:35.996Z"
   },
   {
    "duration": 6,
    "start_time": "2022-01-20T04:46:36.139Z"
   },
   {
    "duration": 66,
    "start_time": "2022-01-20T04:46:36.147Z"
   },
   {
    "duration": 100,
    "start_time": "2022-01-20T04:46:36.215Z"
   },
   {
    "duration": 35,
    "start_time": "2022-01-20T04:46:36.317Z"
   },
   {
    "duration": 22,
    "start_time": "2022-01-20T04:46:36.354Z"
   },
   {
    "duration": 43,
    "start_time": "2022-01-20T04:46:36.377Z"
   },
   {
    "duration": 7,
    "start_time": "2022-01-20T04:46:36.421Z"
   },
   {
    "duration": 63,
    "start_time": "2022-01-20T04:46:36.429Z"
   },
   {
    "duration": 52,
    "start_time": "2022-01-20T04:46:36.511Z"
   },
   {
    "duration": 52,
    "start_time": "2022-01-20T04:46:36.564Z"
   },
   {
    "duration": 34,
    "start_time": "2022-01-20T04:46:36.618Z"
   },
   {
    "duration": 63,
    "start_time": "2022-01-20T04:46:36.653Z"
   },
   {
    "duration": 20,
    "start_time": "2022-01-20T04:46:36.718Z"
   },
   {
    "duration": 23,
    "start_time": "2022-01-20T04:46:36.741Z"
   },
   {
    "duration": 54,
    "start_time": "2022-01-20T04:46:36.766Z"
   },
   {
    "duration": 16,
    "start_time": "2022-01-20T04:46:36.822Z"
   },
   {
    "duration": 4,
    "start_time": "2022-01-20T04:46:36.840Z"
   },
   {
    "duration": 325,
    "start_time": "2022-01-20T04:46:36.846Z"
   },
   {
    "duration": 11,
    "start_time": "2022-01-20T04:46:37.172Z"
   },
   {
    "duration": 30,
    "start_time": "2022-01-20T04:46:37.184Z"
   },
   {
    "duration": 5,
    "start_time": "2022-01-20T04:46:37.216Z"
   },
   {
    "duration": 29,
    "start_time": "2022-01-20T04:46:37.222Z"
   },
   {
    "duration": 994,
    "start_time": "2022-01-20T04:46:37.252Z"
   },
   {
    "duration": 333,
    "start_time": "2022-01-20T04:46:38.247Z"
   },
   {
    "duration": 414,
    "start_time": "2022-01-20T04:46:38.581Z"
   },
   {
    "duration": 287,
    "start_time": "2022-01-20T04:46:38.997Z"
   },
   {
    "duration": 5,
    "start_time": "2022-01-20T04:46:39.285Z"
   },
   {
    "duration": 30,
    "start_time": "2022-01-20T04:46:39.292Z"
   },
   {
    "duration": 1240,
    "start_time": "2022-01-24T11:57:10.958Z"
   },
   {
    "duration": 183,
    "start_time": "2022-01-24T11:57:12.200Z"
   },
   {
    "duration": 16,
    "start_time": "2022-01-24T11:57:12.385Z"
   },
   {
    "duration": 73,
    "start_time": "2022-01-24T11:57:12.403Z"
   },
   {
    "duration": 163,
    "start_time": "2022-01-24T11:57:12.477Z"
   },
   {
    "duration": 6,
    "start_time": "2022-01-24T11:57:12.642Z"
   },
   {
    "duration": 86,
    "start_time": "2022-01-24T11:57:12.649Z"
   },
   {
    "duration": 109,
    "start_time": "2022-01-24T11:57:12.737Z"
   },
   {
    "duration": 34,
    "start_time": "2022-01-24T11:57:12.849Z"
   },
   {
    "duration": 27,
    "start_time": "2022-01-24T11:57:12.898Z"
   },
   {
    "duration": 51,
    "start_time": "2022-01-24T11:57:12.927Z"
   },
   {
    "duration": 6,
    "start_time": "2022-01-24T11:57:12.980Z"
   },
   {
    "duration": 74,
    "start_time": "2022-01-24T11:57:12.988Z"
   },
   {
    "duration": 59,
    "start_time": "2022-01-24T11:57:13.063Z"
   },
   {
    "duration": 39,
    "start_time": "2022-01-24T11:57:13.124Z"
   },
   {
    "duration": 52,
    "start_time": "2022-01-24T11:57:13.164Z"
   },
   {
    "duration": 55,
    "start_time": "2022-01-24T11:57:13.218Z"
   },
   {
    "duration": 49,
    "start_time": "2022-01-24T11:57:13.275Z"
   },
   {
    "duration": 28,
    "start_time": "2022-01-24T11:57:13.326Z"
   },
   {
    "duration": 59,
    "start_time": "2022-01-24T11:57:13.356Z"
   },
   {
    "duration": 23,
    "start_time": "2022-01-24T11:57:13.417Z"
   },
   {
    "duration": 6,
    "start_time": "2022-01-24T11:57:13.442Z"
   },
   {
    "duration": 322,
    "start_time": "2022-01-24T11:57:13.449Z"
   },
   {
    "duration": 11,
    "start_time": "2022-01-24T11:57:13.773Z"
   },
   {
    "duration": 21,
    "start_time": "2022-01-24T11:57:13.796Z"
   },
   {
    "duration": 5,
    "start_time": "2022-01-24T11:57:13.819Z"
   },
   {
    "duration": 33,
    "start_time": "2022-01-24T11:57:13.829Z"
   },
   {
    "duration": 987,
    "start_time": "2022-01-24T11:57:13.865Z"
   },
   {
    "duration": 353,
    "start_time": "2022-01-24T11:57:14.854Z"
   },
   {
    "duration": 348,
    "start_time": "2022-01-24T11:57:15.209Z"
   },
   {
    "duration": 379,
    "start_time": "2022-01-24T11:57:15.559Z"
   },
   {
    "duration": 5,
    "start_time": "2022-01-24T11:57:15.940Z"
   },
   {
    "duration": 22,
    "start_time": "2022-01-24T11:57:15.947Z"
   },
   {
    "duration": 1075,
    "start_time": "2022-08-14T10:59:43.195Z"
   },
   {
    "duration": 264,
    "start_time": "2022-08-14T10:59:44.271Z"
   },
   {
    "duration": 9,
    "start_time": "2022-08-14T10:59:44.536Z"
   },
   {
    "duration": 95,
    "start_time": "2022-08-14T10:59:44.547Z"
   },
   {
    "duration": 353,
    "start_time": "2022-08-14T10:59:44.643Z"
   },
   {
    "duration": 5,
    "start_time": "2022-08-14T10:59:44.997Z"
   },
   {
    "duration": 78,
    "start_time": "2022-08-14T10:59:45.004Z"
   },
   {
    "duration": 360,
    "start_time": "2022-08-14T10:59:45.084Z"
   },
   {
    "duration": 42,
    "start_time": "2022-08-14T10:59:45.446Z"
   },
   {
    "duration": 90,
    "start_time": "2022-08-14T10:59:45.491Z"
   },
   {
    "duration": 74,
    "start_time": "2022-08-14T10:59:45.582Z"
   },
   {
    "duration": 5,
    "start_time": "2022-08-14T10:59:45.658Z"
   },
   {
    "duration": 62,
    "start_time": "2022-08-14T10:59:45.664Z"
   },
   {
    "duration": 47,
    "start_time": "2022-08-14T10:59:45.727Z"
   },
   {
    "duration": 52,
    "start_time": "2022-08-14T10:59:45.775Z"
   },
   {
    "duration": 32,
    "start_time": "2022-08-14T10:59:45.829Z"
   },
   {
    "duration": 63,
    "start_time": "2022-08-14T10:59:45.862Z"
   },
   {
    "duration": 19,
    "start_time": "2022-08-14T10:59:45.926Z"
   },
   {
    "duration": 20,
    "start_time": "2022-08-14T10:59:45.947Z"
   },
   {
    "duration": 44,
    "start_time": "2022-08-14T10:59:45.968Z"
   },
   {
    "duration": 23,
    "start_time": "2022-08-14T10:59:46.013Z"
   },
   {
    "duration": 6,
    "start_time": "2022-08-14T10:59:46.038Z"
   },
   {
    "duration": 274,
    "start_time": "2022-08-14T10:59:46.045Z"
   },
   {
    "duration": 11,
    "start_time": "2022-08-14T10:59:46.320Z"
   },
   {
    "duration": 16,
    "start_time": "2022-08-14T10:59:46.333Z"
   },
   {
    "duration": 5,
    "start_time": "2022-08-14T10:59:46.350Z"
   },
   {
    "duration": 29,
    "start_time": "2022-08-14T10:59:46.357Z"
   },
   {
    "duration": 783,
    "start_time": "2022-08-14T10:59:46.418Z"
   },
   {
    "duration": 236,
    "start_time": "2022-08-14T10:59:47.211Z"
   },
   {
    "duration": 227,
    "start_time": "2022-08-14T10:59:47.449Z"
   },
   {
    "duration": 182,
    "start_time": "2022-08-14T10:59:47.678Z"
   },
   {
    "duration": 4,
    "start_time": "2022-08-14T10:59:47.862Z"
   },
   {
    "duration": 16,
    "start_time": "2022-08-14T10:59:47.868Z"
   },
   {
    "duration": 1212,
    "start_time": "2022-10-25T18:47:05.757Z"
   },
   {
    "duration": 255,
    "start_time": "2022-10-25T18:47:06.971Z"
   },
   {
    "duration": 8,
    "start_time": "2022-10-25T18:47:07.228Z"
   },
   {
    "duration": 113,
    "start_time": "2022-10-25T18:47:07.237Z"
   },
   {
    "duration": 326,
    "start_time": "2022-10-25T18:47:07.352Z"
   },
   {
    "duration": 6,
    "start_time": "2022-10-25T18:47:07.679Z"
   },
   {
    "duration": 62,
    "start_time": "2022-10-25T18:47:07.686Z"
   },
   {
    "duration": 658,
    "start_time": "2022-10-25T18:47:07.750Z"
   },
   {
    "duration": 40,
    "start_time": "2022-10-25T18:47:08.409Z"
   },
   {
    "duration": 79,
    "start_time": "2022-10-25T18:47:08.450Z"
   },
   {
    "duration": 67,
    "start_time": "2022-10-25T18:47:08.531Z"
   },
   {
    "duration": 6,
    "start_time": "2022-10-25T18:47:08.715Z"
   },
   {
    "duration": 63,
    "start_time": "2022-10-25T18:47:09.282Z"
   },
   {
    "duration": 52,
    "start_time": "2022-10-25T18:47:09.572Z"
   },
   {
    "duration": 39,
    "start_time": "2022-10-25T18:47:09.880Z"
   },
   {
    "duration": 33,
    "start_time": "2022-10-25T18:47:10.185Z"
   },
   {
    "duration": 39,
    "start_time": "2022-10-25T18:47:10.480Z"
   },
   {
    "duration": 20,
    "start_time": "2022-10-25T18:47:10.778Z"
   },
   {
    "duration": 25,
    "start_time": "2022-10-25T18:47:11.088Z"
   },
   {
    "duration": 29,
    "start_time": "2022-10-25T18:47:11.394Z"
   },
   {
    "duration": 24,
    "start_time": "2022-10-25T18:47:11.697Z"
   },
   {
    "duration": 7,
    "start_time": "2022-10-25T18:47:12.005Z"
   },
   {
    "duration": 239,
    "start_time": "2022-10-25T18:47:12.301Z"
   },
   {
    "duration": 11,
    "start_time": "2022-10-25T18:47:12.614Z"
   },
   {
    "duration": 22,
    "start_time": "2022-10-25T18:47:13.065Z"
   },
   {
    "duration": 6,
    "start_time": "2022-10-25T18:47:13.216Z"
   },
   {
    "duration": 35,
    "start_time": "2022-10-25T18:47:13.538Z"
   },
   {
    "duration": 867,
    "start_time": "2022-10-25T18:47:13.858Z"
   },
   {
    "duration": 256,
    "start_time": "2022-10-25T18:47:14.728Z"
   },
   {
    "duration": 245,
    "start_time": "2022-10-25T18:47:14.986Z"
   },
   {
    "duration": 192,
    "start_time": "2022-10-25T18:47:15.233Z"
   },
   {
    "duration": 6,
    "start_time": "2022-10-25T18:47:15.426Z"
   },
   {
    "duration": 16,
    "start_time": "2022-10-25T18:47:15.434Z"
   }
  ],
  "kernelspec": {
   "display_name": "Python 3 (ipykernel)",
   "language": "python",
   "name": "python3"
  },
  "language_info": {
   "codemirror_mode": {
    "name": "ipython",
    "version": 3
   },
   "file_extension": ".py",
   "mimetype": "text/x-python",
   "name": "python",
   "nbconvert_exporter": "python",
   "pygments_lexer": "ipython3",
   "version": "3.9.5"
  },
  "toc": {
   "base_numbering": 1,
   "nav_menu": {},
   "number_sections": true,
   "sideBar": true,
   "skip_h1_title": true,
   "title_cell": "Table of Contents",
   "title_sidebar": "Contents",
   "toc_cell": false,
   "toc_position": {},
   "toc_section_display": true,
   "toc_window_display": true
  }
 },
 "nbformat": 4,
 "nbformat_minor": 2
}
