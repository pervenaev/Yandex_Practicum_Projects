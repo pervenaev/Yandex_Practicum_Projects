{
 "cells": [
  {
   "cell_type": "markdown",
   "metadata": {
    "toc": true
   },
   "source": [
    "<h1>Содержание<span class=\"tocSkip\"></span></h1>\n",
    "<div class=\"toc\"><ul class=\"toc-item\"><li><span><a href=\"#Подготовка\" data-toc-modified-id=\"Подготовка-1\"><span class=\"toc-item-num\">1&nbsp;&nbsp;</span>Подготовка</a></span><ul class=\"toc-item\"><li><span><a href=\"#Импорт-библиотек-и-инструментов\" data-toc-modified-id=\"Импорт-библиотек-и-инструментов-1.1\"><span class=\"toc-item-num\">1.1&nbsp;&nbsp;</span>Импорт библиотек и инструментов</a></span></li><li><span><a href=\"#Изучение-исходных-данных\" data-toc-modified-id=\"Изучение-исходных-данных-1.2\"><span class=\"toc-item-num\">1.2&nbsp;&nbsp;</span>Изучение исходных данных</a></span></li><li><span><a href=\"#Сбалансированность-данных\" data-toc-modified-id=\"Сбалансированность-данных-1.3\"><span class=\"toc-item-num\">1.3&nbsp;&nbsp;</span>Сбалансированность данных</a></span></li><li><span><a href=\"#Предобработка-текста\" data-toc-modified-id=\"Предобработка-текста-1.4\"><span class=\"toc-item-num\">1.4&nbsp;&nbsp;</span>Предобработка текста</a></span></li><li><span><a href=\"#Подготовка-данных-к-обучению-моделей\" data-toc-modified-id=\"Подготовка-данных-к-обучению-моделей-1.5\"><span class=\"toc-item-num\">1.5&nbsp;&nbsp;</span>Подготовка данных к обучению моделей</a></span></li></ul></li><li><span><a href=\"#Обучение\" data-toc-modified-id=\"Обучение-2\"><span class=\"toc-item-num\">2&nbsp;&nbsp;</span>Обучение</a></span><ul class=\"toc-item\"><li><span><a href=\"#LogisticRegression\" data-toc-modified-id=\"LogisticRegression-2.1\"><span class=\"toc-item-num\">2.1&nbsp;&nbsp;</span>LogisticRegression</a></span></li><li><span><a href=\"#RandomForestClassifier\" data-toc-modified-id=\"RandomForestClassifier-2.2\"><span class=\"toc-item-num\">2.2&nbsp;&nbsp;</span>RandomForestClassifier</a></span></li><li><span><a href=\"#CatBoostClassifier\" data-toc-modified-id=\"CatBoostClassifier-2.3\"><span class=\"toc-item-num\">2.3&nbsp;&nbsp;</span>CatBoostClassifier</a></span></li><li><span><a href=\"#SGDClassifier\" data-toc-modified-id=\"SGDClassifier-2.4\"><span class=\"toc-item-num\">2.4&nbsp;&nbsp;</span>SGDClassifier</a></span></li></ul></li><li><span><a href=\"#Выводы\" data-toc-modified-id=\"Выводы-3\"><span class=\"toc-item-num\">3&nbsp;&nbsp;</span>Выводы</a></span></li></ul></div>"
   ]
  },
  {
   "cell_type": "markdown",
   "metadata": {},
   "source": [
    "# Проект для «Викишоп»"
   ]
  },
  {
   "cell_type": "markdown",
   "metadata": {},
   "source": [
    "Интернет-магазин «Викишоп» запускает новый сервис. Теперь пользователи могут редактировать и дополнять описания товаров, как в вики-сообществах. То есть клиенты предлагают свои правки и комментируют изменения других. Магазину нужен инструмент, который будет искать токсичные комментарии и отправлять их на модерацию. \n",
    "\n",
    "Обучите модель классифицировать комментарии на позитивные и негативные. В вашем распоряжении набор данных с разметкой о токсичности правок.\n",
    "\n",
    "Постройте модель со значением метрики качества *F1* не меньше 0.75. \n",
    "\n",
    "**Инструкция по выполнению проекта**\n",
    "\n",
    "1. Загрузите и подготовьте данные.\n",
    "2. Обучите разные модели. \n",
    "3. Сделайте выводы.\n",
    "\n",
    "Для выполнения проекта применять *BERT* необязательно, но вы можете попробовать.\n",
    "\n",
    "**Описание данных**\n",
    "\n",
    "Данные находятся в файле `toxic_comments.csv`. Столбец *text* в нём содержит текст комментария, а *toxic* — целевой признак."
   ]
  },
  {
   "cell_type": "markdown",
   "metadata": {},
   "source": [
    "## Подготовка"
   ]
  },
  {
   "cell_type": "markdown",
   "metadata": {},
   "source": [
    "### Импорт библиотек и инструментов"
   ]
  },
  {
   "cell_type": "code",
   "execution_count": 56,
   "metadata": {},
   "outputs": [],
   "source": [
    "# библиотеки\n",
    "import pandas as pd\n",
    "import matplotlib.pyplot as plt\n",
    "import numpy as np\n",
    "import seaborn as sns\n",
    "import lightgbm as lgb\n",
    "import time\n",
    "import re \n",
    "import nltk\n",
    "from tqdm import tqdm\n",
    "\n",
    "# инструменты\n",
    "from sklearn.utils import resample\n",
    "from sklearn.model_selection import train_test_split \n",
    "from sklearn.model_selection import GridSearchCV \n",
    "from sklearn.linear_model import LogisticRegression, SGDClassifier\n",
    "from sklearn.ensemble import RandomForestClassifier\n",
    "from catboost import CatBoostClassifier\n",
    "from sklearn.metrics import make_scorer\n",
    "from sklearn.model_selection import TimeSeriesSplit\n",
    "from sklearn.model_selection import RandomizedSearchCV\n",
    "from nltk.stem import WordNetLemmatizer \n",
    "from sklearn.feature_extraction.text import TfidfVectorizer\n",
    "from nltk.corpus import stopwords as nltk_stopwords\n",
    "from sklearn.metrics import f1_score\n",
    "from sklearn.pipeline import Pipeline\n",
    "from lightgbm import LGBMClassifier\n",
    "\n",
    "# блокиратор предупреждений\n",
    "import warnings\n",
    "warnings.filterwarnings(\"ignore\")"
   ]
  },
  {
   "cell_type": "markdown",
   "metadata": {},
   "source": [
    "### Изучение исходных данных"
   ]
  },
  {
   "cell_type": "code",
   "execution_count": 57,
   "metadata": {},
   "outputs": [
    {
     "name": "stdout",
     "output_type": "stream",
     "text": [
      "<class 'pandas.core.frame.DataFrame'>\n",
      "RangeIndex: 159571 entries, 0 to 159570\n",
      "Data columns (total 2 columns):\n",
      " #   Column  Non-Null Count   Dtype \n",
      "---  ------  --------------   ----- \n",
      " 0   text    159571 non-null  object\n",
      " 1   toxic   159571 non-null  int64 \n",
      "dtypes: int64(1), object(1)\n",
      "memory usage: 2.4+ MB\n"
     ]
    }
   ],
   "source": [
    "data = pd.read_csv('/datasets/toxic_comments.csv')\n",
    "data.info()"
   ]
  },
  {
   "cell_type": "code",
   "execution_count": 58,
   "metadata": {},
   "outputs": [
    {
     "data": {
      "text/html": [
       "<div>\n",
       "<style scoped>\n",
       "    .dataframe tbody tr th:only-of-type {\n",
       "        vertical-align: middle;\n",
       "    }\n",
       "\n",
       "    .dataframe tbody tr th {\n",
       "        vertical-align: top;\n",
       "    }\n",
       "\n",
       "    .dataframe thead th {\n",
       "        text-align: right;\n",
       "    }\n",
       "</style>\n",
       "<table border=\"1\" class=\"dataframe\">\n",
       "  <thead>\n",
       "    <tr style=\"text-align: right;\">\n",
       "      <th></th>\n",
       "      <th>text</th>\n",
       "      <th>toxic</th>\n",
       "    </tr>\n",
       "  </thead>\n",
       "  <tbody>\n",
       "    <tr>\n",
       "      <th>112393</th>\n",
       "      <td>\"\\n\\n Comment on Seregain \\n\\nActually, I was never almost blocked for my behavior. If you'll read the past AN/I incident, a user (Coldplay Expert) proposed a malformed \"\"topic ban\"\" after the issue had already been resolved (which Jclemens corrected him on). He apologized afterwards\\n\\nIn the past AFD, I addressed each of Seregain's allegations individually and proved that most of them were lies or misunderstandings, and also provided a series of links which show that he is a likely banned ...</td>\n",
       "      <td>0</td>\n",
       "    </tr>\n",
       "    <tr>\n",
       "      <th>129219</th>\n",
       "      <td>Hey you! \\n\\nI LOVE BLACK PEOPLE!!!</td>\n",
       "      <td>0</td>\n",
       "    </tr>\n",
       "    <tr>\n",
       "      <th>12619</th>\n",
       "      <td>Hey! \\n\\nHello. My name is anon. Don't fuck with 4chan. Because we will take you down. Consider yourself warned.</td>\n",
       "      <td>1</td>\n",
       "    </tr>\n",
       "    <tr>\n",
       "      <th>156011</th>\n",
       "      <td>\"\\n\\n Are you seriously fact-checking a comedy movie? Btw, the stats are correct. 24% is about the average overhead for private insurance companies, while Medicare has around a 3% overhead. For the private insurance companies, it's not just \"\"for services,\"\" but for things such as CEO pay and advertising.\"</td>\n",
       "      <td>0</td>\n",
       "    </tr>\n",
       "    <tr>\n",
       "      <th>137005</th>\n",
       "      <td>\"\\n  If I were trying to post under an IP and a user name as a sock puppet, why in God's name would I IMMEDIATELY post, after using the IP, \"\"Whoops - sorry, forgot to log in\"\" and identify myself?  Isn't that specifically the effort of someone trying NOT to be considered a sock puppet (which is why I did it)?  Based on the remarkable speed with which this block was begun and completed, I assert that jossi and shem got together and said, \"\"Let's work together and remove this person so that w...</td>\n",
       "      <td>0</td>\n",
       "    </tr>\n",
       "    <tr>\n",
       "      <th>85351</th>\n",
       "      <td>penish \\n\\nSNOOPING AS USUAL I SEEEEEEEEEEEEEEEEE</td>\n",
       "      <td>1</td>\n",
       "    </tr>\n",
       "    <tr>\n",
       "      <th>53305</th>\n",
       "      <td>Expansion \\n\\nI thought someone of Timman's stature deserved a more substantial article so I've used the Dutch version to expand it. Of course it needs references so any help here would be appreciated.</td>\n",
       "      <td>0</td>\n",
       "    </tr>\n",
       "    <tr>\n",
       "      <th>88667</th>\n",
       "      <td>Dear Liberal Kook aka Respected Wikipedian \\n\\n I thought you Dummkopfs...er...I mean...Solar System Exploration Physicists...would be encouraged to know how WELL my PHASE II- STOP THE FUNDING plan has worked in forcing Wikipedia to change. \\n\\nSee the link below:\\n\\nhttp://wikipediaclassaction.org/\\n\\nYours Truly,\\n\\nBig Daddy\\n\\nps I told you it wasn't nice to be mean to Big Daddy...</td>\n",
       "      <td>0</td>\n",
       "    </tr>\n",
       "    <tr>\n",
       "      <th>79405</th>\n",
       "      <td>\"== Sources ==\\n \\n \\n \"</td>\n",
       "      <td>0</td>\n",
       "    </tr>\n",
       "    <tr>\n",
       "      <th>16594</th>\n",
       "      <td>This but a flesh wound</td>\n",
       "      <td>0</td>\n",
       "    </tr>\n",
       "  </tbody>\n",
       "</table>\n",
       "</div>"
      ],
      "text/plain": [
       "                                                                                                                                                                                                                                                                                                                                                                                                                                                                                                                       text  \\\n",
       "112393  \"\\n\\n Comment on Seregain \\n\\nActually, I was never almost blocked for my behavior. If you'll read the past AN/I incident, a user (Coldplay Expert) proposed a malformed \"\"topic ban\"\" after the issue had already been resolved (which Jclemens corrected him on). He apologized afterwards\\n\\nIn the past AFD, I addressed each of Seregain's allegations individually and proved that most of them were lies or misunderstandings, and also provided a series of links which show that he is a likely banned ...   \n",
       "129219                                                                                                                                                                                                                                                                                                                                                                                                                                                                                  Hey you! \\n\\nI LOVE BLACK PEOPLE!!!   \n",
       "12619                                                                                                                                                                                                                                                                                                                                                                                                      Hey! \\n\\nHello. My name is anon. Don't fuck with 4chan. Because we will take you down. Consider yourself warned.   \n",
       "156011                                                                                                                                                                                                  \"\\n\\n Are you seriously fact-checking a comedy movie? Btw, the stats are correct. 24% is about the average overhead for private insurance companies, while Medicare has around a 3% overhead. For the private insurance companies, it's not just \"\"for services,\"\" but for things such as CEO pay and advertising.\"   \n",
       "137005  \"\\n  If I were trying to post under an IP and a user name as a sock puppet, why in God's name would I IMMEDIATELY post, after using the IP, \"\"Whoops - sorry, forgot to log in\"\" and identify myself?  Isn't that specifically the effort of someone trying NOT to be considered a sock puppet (which is why I did it)?  Based on the remarkable speed with which this block was begun and completed, I assert that jossi and shem got together and said, \"\"Let's work together and remove this person so that w...   \n",
       "85351                                                                                                                                                                                                                                                                                                                                                                                                                                                                     penish \\n\\nSNOOPING AS USUAL I SEEEEEEEEEEEEEEEEE   \n",
       "53305                                                                                                                                                                                                                                                                                                             Expansion \\n\\nI thought someone of Timman's stature deserved a more substantial article so I've used the Dutch version to expand it. Of course it needs references so any help here would be appreciated.   \n",
       "88667                                                                                                                  Dear Liberal Kook aka Respected Wikipedian \\n\\n I thought you Dummkopfs...er...I mean...Solar System Exploration Physicists...would be encouraged to know how WELL my PHASE II- STOP THE FUNDING plan has worked in forcing Wikipedia to change. \\n\\nSee the link below:\\n\\nhttp://wikipediaclassaction.org/\\n\\nYours Truly,\\n\\nBig Daddy\\n\\nps I told you it wasn't nice to be mean to Big Daddy...   \n",
       "79405                                                                                                                                                                                                                                                                                                                                                                                                                                                                                              \"== Sources ==\\n \\n \\n \"   \n",
       "16594                                                                                                                                                                                                                                                                                                                                                                                                                                                                                                This but a flesh wound   \n",
       "\n",
       "        toxic  \n",
       "112393      0  \n",
       "129219      0  \n",
       "12619       1  \n",
       "156011      0  \n",
       "137005      0  \n",
       "85351       1  \n",
       "53305       0  \n",
       "88667       0  \n",
       "79405       0  \n",
       "16594       0  "
      ]
     },
     "execution_count": 58,
     "metadata": {},
     "output_type": "execute_result"
    }
   ],
   "source": [
    "pd.options.display.max_colwidth = 500 # увеличим количество выводимых символов в ячейках\n",
    "data.sample(10)"
   ]
  },
  {
   "cell_type": "markdown",
   "metadata": {},
   "source": [
    "### Сбалансированность данных"
   ]
  },
  {
   "cell_type": "code",
   "execution_count": 59,
   "metadata": {},
   "outputs": [
    {
     "data": {
      "text/plain": [
       "<AxesSubplot:>"
      ]
     },
     "execution_count": 59,
     "metadata": {},
     "output_type": "execute_result"
    },
    {
     "data": {
      "image/png": "[encoded data removed]",
      "text/plain": [
       "<Figure size 432x288 with 1 Axes>"
      ]
     },
     "metadata": {
      "needs_background": "light"
     },
     "output_type": "display_data"
    }
   ],
   "source": [
    "data['toxic'].value_counts().plot(kind='bar')"
   ]
  },
  {
   "cell_type": "markdown",
   "metadata": {},
   "source": [
    "Наблюдается ярко выраженный дисбаланс классов, что следует учесть при обучении модели."
   ]
  },
  {
   "cell_type": "markdown",
   "metadata": {},
   "source": [
    "### Предобработка текста"
   ]
  },
  {
   "cell_type": "markdown",
   "metadata": {},
   "source": [
    "Приведем текст к нижнему регистру:"
   ]
  },
  {
   "cell_type": "code",
   "execution_count": 62,
   "metadata": {},
   "outputs": [],
   "source": [
    "data['text'] = data['text'].str.lower()"
   ]
  },
  {
   "cell_type": "markdown",
   "metadata": {},
   "source": [
    "Очистим текст от лишних символов:"
   ]
  },
  {
   "cell_type": "code",
   "execution_count": 63,
   "metadata": {
    "scrolled": true
   },
   "outputs": [],
   "source": [
    "def clear_text(text):\n",
    "    clear_list = re.sub(r'[^a-zA-Z ]', ' ', text)\n",
    "    clear_text = \" \".join(clear_list.split())\n",
    "    return clear_text\n",
    "\n",
    "data['text'] = data['text'].apply(clear_text)"
   ]
  },
  {
   "cell_type": "markdown",
   "metadata": {},
   "source": [
    "Лемматизируем текст с помощью библиотеки WordNet:"
   ]
  },
  {
   "cell_type": "code",
   "execution_count": 64,
   "metadata": {},
   "outputs": [],
   "source": [
    "m = WordNetLemmatizer()\n",
    "\n",
    "def lemmatize(text):\n",
    "    word_list = nltk.word_tokenize(text)\n",
    "    lemm_list = [m.lemmatize(w) for w in word_list]\n",
    "    lemm_text = \" \".join(lemm_list)\n",
    "    return lemm_text\n",
    "\n",
    "data['text'] = data['text'].apply(lemmatize)"
   ]
  },
  {
   "cell_type": "markdown",
   "metadata": {},
   "source": [
    "Проверим на явные дубликаты и избавимся от них при наличии:"
   ]
  },
  {
   "cell_type": "code",
   "execution_count": 65,
   "metadata": {},
   "outputs": [
    {
     "name": "stdout",
     "output_type": "stream",
     "text": [
      "Количество дубликатов до обработки: 1306\n",
      "Количество дубликатов после обработки: 0\n"
     ]
    }
   ],
   "source": [
    "print(\"Количество дубликатов до обработки:\", data.duplicated().sum())\n",
    "data.drop_duplicates(inplace=True)\n",
    "print(\"Количество дубликатов после обработки:\", data.duplicated().sum())"
   ]
  },
  {
   "cell_type": "markdown",
   "metadata": {},
   "source": [
    "Взглянем на результат предобработки текста:"
   ]
  },
  {
   "cell_type": "code",
   "execution_count": 66,
   "metadata": {},
   "outputs": [
    {
     "data": {
      "text/html": [
       "<div>\n",
       "<style scoped>\n",
       "    .dataframe tbody tr th:only-of-type {\n",
       "        vertical-align: middle;\n",
       "    }\n",
       "\n",
       "    .dataframe tbody tr th {\n",
       "        vertical-align: top;\n",
       "    }\n",
       "\n",
       "    .dataframe thead th {\n",
       "        text-align: right;\n",
       "    }\n",
       "</style>\n",
       "<table border=\"1\" class=\"dataframe\">\n",
       "  <thead>\n",
       "    <tr style=\"text-align: right;\">\n",
       "      <th></th>\n",
       "      <th>text</th>\n",
       "      <th>toxic</th>\n",
       "    </tr>\n",
       "  </thead>\n",
       "  <tbody>\n",
       "    <tr>\n",
       "      <th>56163</th>\n",
       "      <td>greer s own testimony in the warren report contradicts his action in the zapruder film in short he lied to cover up the fact that he along with kellerman saw that jfk wa mortally wounded and did not respond according to s policy the warren report the hsca report the zapruder film and abc news footage are sufficient source you are covering up the truth anon</td>\n",
       "      <td>0</td>\n",
       "    </tr>\n",
       "    <tr>\n",
       "      <th>81967</th>\n",
       "      <td>can you say what you really want and be finished</td>\n",
       "      <td>0</td>\n",
       "    </tr>\n",
       "    <tr>\n",
       "      <th>72396</th>\n",
       "      <td>but given the power of television these day the current dab solution is probably ok</td>\n",
       "      <td>0</td>\n",
       "    </tr>\n",
       "    <tr>\n",
       "      <th>105444</th>\n",
       "      <td>removal of inconvenient fact and fabrication of new fact wnri ha an effective radiated power of watt per day and watt at night wnri find this fact to be extremely inconvenient because advertiser know that an watt night signal won t get their message out a far a they d like wikipedia is not here to help wnri sell advertising furthermore saying that this station is in the providence market is a total fabrication driving around the providence city limit with a car radio wnri s signal is unrelia...</td>\n",
       "      <td>0</td>\n",
       "    </tr>\n",
       "    <tr>\n",
       "      <th>151552</th>\n",
       "      <td>im cool with it i don t really agree a far a what really constitutes immunity like it say about thing like reverting vandalism and restoring removal of sourced material also i only wet so far pretty much because i only just learned how to report that stuff just now however you probably have more experience with that and i done really see any reason to request it removal of my block if you wanted to i would be cool with it however it fine i got what i needed which wa someone to help to curtai...</td>\n",
       "      <td>0</td>\n",
       "    </tr>\n",
       "  </tbody>\n",
       "</table>\n",
       "</div>"
      ],
      "text/plain": [
       "                                                                                                                                                                                                                                                                                                                                                                                                                                                                                                                       text  \\\n",
       "56163                                                                                                                                                greer s own testimony in the warren report contradicts his action in the zapruder film in short he lied to cover up the fact that he along with kellerman saw that jfk wa mortally wounded and did not respond according to s policy the warren report the hsca report the zapruder film and abc news footage are sufficient source you are covering up the truth anon   \n",
       "81967                                                                                                                                                                                                                                                                                                                                                                                                                                                                      can you say what you really want and be finished   \n",
       "72396                                                                                                                                                                                                                                                                                                                                                                                                                                   but given the power of television these day the current dab solution is probably ok   \n",
       "105444  removal of inconvenient fact and fabrication of new fact wnri ha an effective radiated power of watt per day and watt at night wnri find this fact to be extremely inconvenient because advertiser know that an watt night signal won t get their message out a far a they d like wikipedia is not here to help wnri sell advertising furthermore saying that this station is in the providence market is a total fabrication driving around the providence city limit with a car radio wnri s signal is unrelia...   \n",
       "151552  im cool with it i don t really agree a far a what really constitutes immunity like it say about thing like reverting vandalism and restoring removal of sourced material also i only wet so far pretty much because i only just learned how to report that stuff just now however you probably have more experience with that and i done really see any reason to request it removal of my block if you wanted to i would be cool with it however it fine i got what i needed which wa someone to help to curtai...   \n",
       "\n",
       "        toxic  \n",
       "56163       0  \n",
       "81967       0  \n",
       "72396       0  \n",
       "105444      0  \n",
       "151552      0  "
      ]
     },
     "execution_count": 66,
     "metadata": {},
     "output_type": "execute_result"
    }
   ],
   "source": [
    "data.sample(5)"
   ]
  },
  {
   "cell_type": "markdown",
   "metadata": {},
   "source": [
    "### Подготовка данных к обучению моделей"
   ]
  },
  {
   "cell_type": "markdown",
   "metadata": {},
   "source": [
    "Разделим данные на обучающую и тестовую выборки в соотношении 1/9:"
   ]
  },
  {
   "cell_type": "code",
   "execution_count": 68,
   "metadata": {},
   "outputs": [
    {
     "name": "stdout",
     "output_type": "stream",
     "text": [
      "(126612, 2) (31653, 2)\n"
     ]
    }
   ],
   "source": [
    "train, test = train_test_split(data, test_size=0.2, random_state=12345)\n",
    "print(train.shape, test.shape)"
   ]
  },
  {
   "cell_type": "markdown",
   "metadata": {},
   "source": [
    "Проверим соотношение классов в образованных выборках:"
   ]
  },
  {
   "cell_type": "code",
   "execution_count": 69,
   "metadata": {},
   "outputs": [
    {
     "name": "stdout",
     "output_type": "stream",
     "text": [
      "Соотношение классов в обучающей выборке:\n",
      "0    113694\n",
      "1     12918\n",
      "Name: toxic, dtype: int64\n",
      "\n",
      "Соотношение классов в тестовой выборке:\n",
      "0    28471\n",
      "1     3182\n",
      "Name: toxic, dtype: int64\n"
     ]
    }
   ],
   "source": [
    "print(\"Соотношение классов в обучающей выборке:\")\n",
    "print(train['toxic'].value_counts())\n",
    "print()\n",
    "print(\"Соотношение классов в тестовой выборке:\")\n",
    "print(test['toxic'].value_counts())"
   ]
  },
  {
   "cell_type": "markdown",
   "metadata": {},
   "source": [
    "Создадим корпус текстов и целевой признак для каждой выборки (train и test):"
   ]
  },
  {
   "cell_type": "code",
   "execution_count": 71,
   "metadata": {},
   "outputs": [
    {
     "name": "stdout",
     "output_type": "stream",
     "text": [
      "(126612,) (31653,)\n",
      "(126612,) (31653,)\n"
     ]
    }
   ],
   "source": [
    "corpus_train = train['text'].values\n",
    "corpus_test = test['text'].values\n",
    "\n",
    "target_train = train['toxic']\n",
    "target_test = test['toxic']\n",
    "\n",
    "print(corpus_train.shape, corpus_test.shape)\n",
    "print(target_train.shape, target_test.shape)"
   ]
  },
  {
   "cell_type": "markdown",
   "metadata": {},
   "source": [
    "Вычислим TF-IDF для корпуса текстов, указав стоп-слова:"
   ]
  },
  {
   "cell_type": "code",
   "execution_count": 72,
   "metadata": {
    "scrolled": true
   },
   "outputs": [
    {
     "name": "stderr",
     "output_type": "stream",
     "text": [
      "[nltk_data] Downloading package stopwords to /home/jovyan/nltk_data...\n",
      "[nltk_data]   Package stopwords is already up-to-date!\n"
     ]
    },
    {
     "name": "stdout",
     "output_type": "stream",
     "text": [
      "Размер матрицы: (126612, 56675)\n",
      "Размер матрицы: (31653, 56675)\n"
     ]
    }
   ],
   "source": [
    "nltk.download('stopwords')\n",
    "stopwords = set(nltk_stopwords.words('english'))\n",
    "\n",
    "count_tf_idf = TfidfVectorizer(min_df=2, stop_words=stopwords) \n",
    "tf_idf_train = count_tf_idf.fit_transform(corpus_train) \n",
    "tf_idf_test = count_tf_idf.transform(corpus_test) \n",
    "\n",
    "print(\"Размер матрицы:\", tf_idf_train.shape)\n",
    "print(\"Размер матрицы:\", tf_idf_test.shape)"
   ]
  },
  {
   "cell_type": "markdown",
   "metadata": {},
   "source": [
    "Данные подготовлены, можно приступить к обучению моделей. "
   ]
  },
  {
   "cell_type": "markdown",
   "metadata": {},
   "source": [
    "## Обучение\n",
    "\n",
    "Для обучения выберем следующие модели:\n",
    "- LogisticRegression\n",
    "- RandomForestClassifier\n",
    "- CatBoostClassifier\n",
    "- SGDClassifier \n",
    "\n",
    "За метрику качества работы моделей примем показатель F1, для подбора оптимальных гиперпараметров применим кросс-валидацию на обучающей выборке, используем методы RandomizedSearchCV."
   ]
  },
  {
   "cell_type": "code",
   "execution_count": 1,
   "metadata": {},
   "outputs": [],
   "source": [
    "results = {} # создадим словарь для сохранения результатов обучения и тестирования"
   ]
  },
  {
   "cell_type": "markdown",
   "metadata": {},
   "source": [
    "### LogisticRegression"
   ]
  },
  {
   "cell_type": "markdown",
   "metadata": {},
   "source": [
    "Обучим модель на данных, полученных после вычисления TF-IDF для корпуса текстов:"
   ]
  },
  {
   "cell_type": "code",
   "execution_count": 74,
   "metadata": {
    "scrolled": false
   },
   "outputs": [
    {
     "name": "stdout",
     "output_type": "stream",
     "text": [
      "Fitting 5 folds for each of 8 candidates, totalling 40 fits\n",
      "[CV 1/5] END lrc__C=1, lrc__solver=newton-cg, tfidf__min_df=1; total time=  19.5s\n",
      "[CV 2/5] END lrc__C=1, lrc__solver=newton-cg, tfidf__min_df=1; total time=  19.6s\n",
      "[CV 3/5] END lrc__C=1, lrc__solver=newton-cg, tfidf__min_df=1; total time=  20.8s\n",
      "[CV 4/5] END lrc__C=1, lrc__solver=newton-cg, tfidf__min_df=1; total time=  20.0s\n",
      "[CV 5/5] END lrc__C=1, lrc__solver=newton-cg, tfidf__min_df=1; total time=  21.4s\n",
      "[CV 1/5] END lrc__C=1, lrc__solver=newton-cg, tfidf__min_df=2; total time=  15.8s\n",
      "[CV 2/5] END lrc__C=1, lrc__solver=newton-cg, tfidf__min_df=2; total time=  16.5s\n",
      "[CV 3/5] END lrc__C=1, lrc__solver=newton-cg, tfidf__min_df=2; total time=  18.8s\n",
      "[CV 4/5] END lrc__C=1, lrc__solver=newton-cg, tfidf__min_df=2; total time=  17.9s\n",
      "[CV 5/5] END lrc__C=1, lrc__solver=newton-cg, tfidf__min_df=2; total time=  18.8s\n",
      "[CV 1/5] END lrc__C=1, lrc__solver=liblinear, tfidf__min_df=1; total time=  12.2s\n",
      "[CV 2/5] END lrc__C=1, lrc__solver=liblinear, tfidf__min_df=1; total time=  12.9s\n",
      "[CV 3/5] END lrc__C=1, lrc__solver=liblinear, tfidf__min_df=1; total time=  11.9s\n",
      "[CV 4/5] END lrc__C=1, lrc__solver=liblinear, tfidf__min_df=1; total time=  11.8s\n",
      "[CV 5/5] END lrc__C=1, lrc__solver=liblinear, tfidf__min_df=1; total time=  12.1s\n",
      "[CV 1/5] END lrc__C=1, lrc__solver=liblinear, tfidf__min_df=2; total time=  10.0s\n",
      "[CV 2/5] END lrc__C=1, lrc__solver=liblinear, tfidf__min_df=2; total time=  11.5s\n",
      "[CV 3/5] END lrc__C=1, lrc__solver=liblinear, tfidf__min_df=2; total time=  11.2s\n",
      "[CV 4/5] END lrc__C=1, lrc__solver=liblinear, tfidf__min_df=2; total time=  10.0s\n",
      "[CV 5/5] END lrc__C=1, lrc__solver=liblinear, tfidf__min_df=2; total time=   9.8s\n",
      "[CV 1/5] END lrc__C=10, lrc__solver=newton-cg, tfidf__min_df=1; total time=  28.3s\n",
      "[CV 2/5] END lrc__C=10, lrc__solver=newton-cg, tfidf__min_df=1; total time=  27.7s\n",
      "[CV 3/5] END lrc__C=10, lrc__solver=newton-cg, tfidf__min_df=1; total time=  28.5s\n",
      "[CV 4/5] END lrc__C=10, lrc__solver=newton-cg, tfidf__min_df=1; total time=  29.3s\n",
      "[CV 5/5] END lrc__C=10, lrc__solver=newton-cg, tfidf__min_df=1; total time=  30.9s\n",
      "[CV 1/5] END lrc__C=10, lrc__solver=newton-cg, tfidf__min_df=2; total time=  24.0s\n",
      "[CV 2/5] END lrc__C=10, lrc__solver=newton-cg, tfidf__min_df=2; total time=  23.6s\n",
      "[CV 3/5] END lrc__C=10, lrc__solver=newton-cg, tfidf__min_df=2; total time=  26.2s\n",
      "[CV 4/5] END lrc__C=10, lrc__solver=newton-cg, tfidf__min_df=2; total time=  23.5s\n",
      "[CV 5/5] END lrc__C=10, lrc__solver=newton-cg, tfidf__min_df=2; total time=  24.3s\n",
      "[CV 1/5] END lrc__C=10, lrc__solver=liblinear, tfidf__min_df=1; total time=  18.5s\n",
      "[CV 2/5] END lrc__C=10, lrc__solver=liblinear, tfidf__min_df=1; total time=  18.9s\n",
      "[CV 3/5] END lrc__C=10, lrc__solver=liblinear, tfidf__min_df=1; total time=  18.4s\n",
      "[CV 4/5] END lrc__C=10, lrc__solver=liblinear, tfidf__min_df=1; total time=  18.9s\n",
      "[CV 5/5] END lrc__C=10, lrc__solver=liblinear, tfidf__min_df=1; total time=  19.5s\n",
      "[CV 1/5] END lrc__C=10, lrc__solver=liblinear, tfidf__min_df=2; total time=  14.4s\n",
      "[CV 2/5] END lrc__C=10, lrc__solver=liblinear, tfidf__min_df=2; total time=  15.3s\n",
      "[CV 3/5] END lrc__C=10, lrc__solver=liblinear, tfidf__min_df=2; total time=  14.5s\n",
      "[CV 4/5] END lrc__C=10, lrc__solver=liblinear, tfidf__min_df=2; total time=  14.8s\n",
      "[CV 5/5] END lrc__C=10, lrc__solver=liblinear, tfidf__min_df=2; total time=  14.2s\n",
      "\n",
      "Значение F1 модели на трейне: 0.769\n",
      "Оптимальные гиперпараметры для модели: {'tfidf__min_df': 2, 'lrc__solver': 'newton-cg', 'lrc__C': 10}\n",
      "\n",
      "CPU times: user 6min 33s, sys: 6min 8s, total: 12min 42s\n",
      "Wall time: 12min 44s\n"
     ]
    }
   ],
   "source": [
    "%%time\n",
    "\n",
    "pipe = Pipeline([('tfidf', TfidfVectorizer(stop_words=stopwords)), ('lrc', LogisticRegression())])\n",
    "parameters = {\n",
    "    'tfidf__min_df': range(1, 3, 1),\n",
    "    'lrc__C': [1, 10],\n",
    "    'lrc__solver': ['newton-cg', 'liblinear']\n",
    "}\n",
    "\n",
    "grid = RandomizedSearchCV(pipe, param_distributions=parameters, verbose=5, scoring='f1') \n",
    "grid.fit(corpus_train, target_train) \n",
    "\n",
    "f1_train = round(abs(grid.best_score_), 3)\n",
    "print()\n",
    "print(f\"Значение F1 модели на трейне: {f1_train}\")\n",
    "print(f\"Оптимальные гиперпараметры для модели: {grid.best_params_}\")\n",
    "print()"
   ]
  },
  {
   "cell_type": "code",
   "execution_count": 75,
   "metadata": {},
   "outputs": [
    {
     "data": {
      "text/plain": [
       "dict_keys(['memory', 'steps', 'verbose', 'tfidf', 'lrc', 'tfidf__analyzer', 'tfidf__binary', 'tfidf__decode_error', 'tfidf__dtype', 'tfidf__encoding', 'tfidf__input', 'tfidf__lowercase', 'tfidf__max_df', 'tfidf__max_features', 'tfidf__min_df', 'tfidf__ngram_range', 'tfidf__norm', 'tfidf__preprocessor', 'tfidf__smooth_idf', 'tfidf__stop_words', 'tfidf__strip_accents', 'tfidf__sublinear_tf', 'tfidf__token_pattern', 'tfidf__tokenizer', 'tfidf__use_idf', 'tfidf__vocabulary', 'lrc__C', 'lrc__class_weight', 'lrc__dual', 'lrc__fit_intercept', 'lrc__intercept_scaling', 'lrc__l1_ratio', 'lrc__max_iter', 'lrc__multi_class', 'lrc__n_jobs', 'lrc__penalty', 'lrc__random_state', 'lrc__solver', 'lrc__tol', 'lrc__verbose', 'lrc__warm_start'])"
      ]
     },
     "execution_count": 75,
     "metadata": {},
     "output_type": "execute_result"
    }
   ],
   "source": [
    "pipe.get_params().keys()"
   ]
  },
  {
   "cell_type": "markdown",
   "metadata": {},
   "source": [
    "Проведем тестирование качества модели на тестовой выборке, указав подобранные гиперпараметры модели:"
   ]
  },
  {
   "cell_type": "code",
   "execution_count": 76,
   "metadata": {
    "scrolled": true
   },
   "outputs": [
    {
     "name": "stdout",
     "output_type": "stream",
     "text": [
      "F1 модели на тесте: 0.776\n",
      "\n",
      "CPU times: user 14.3 s, sys: 14.3 s, total: 28.6 s\n",
      "Wall time: 28.6 s\n"
     ]
    }
   ],
   "source": [
    "%%time\n",
    "\n",
    "pipe = Pipeline([('tfidf', TfidfVectorizer(stop_words=stopwords)), ('lrc', LogisticRegression())])\n",
    "pipe.set_params(**grid.best_params_)\n",
    "pipe.fit(corpus_train, target_train)\n",
    "\n",
    "target_predict = pipe.predict(corpus_test)\n",
    "f1_test = round(f1_score(target_test, target_predict), 3)\n",
    "print(f\"F1 модели на тесте: {f1_test}\")\n",
    "print()"
   ]
  },
  {
   "cell_type": "markdown",
   "metadata": {},
   "source": [
    "Сохраним полученные результаты:"
   ]
  },
  {
   "cell_type": "code",
   "execution_count": 77,
   "metadata": {},
   "outputs": [],
   "source": [
    "results['LogisticRegression'] = [f1_train, f1_test]"
   ]
  },
  {
   "cell_type": "markdown",
   "metadata": {},
   "source": [
    "### RandomForestClassifier"
   ]
  },
  {
   "cell_type": "markdown",
   "metadata": {},
   "source": [
    "Обучим модель на данных, полученных после вычисления TF-IDF для корпуса текстов:"
   ]
  },
  {
   "cell_type": "code",
   "execution_count": 78,
   "metadata": {
    "scrolled": true
   },
   "outputs": [
    {
     "name": "stdout",
     "output_type": "stream",
     "text": [
      "Fitting 5 folds for each of 4 candidates, totalling 20 fits\n",
      "[CV 1/5] END ..........rfc__n_estimators=90, tfidf__min_df=1; total time= 4.7min\n",
      "[CV 2/5] END ..........rfc__n_estimators=90, tfidf__min_df=1; total time= 4.8min\n",
      "[CV 3/5] END ..........rfc__n_estimators=90, tfidf__min_df=1; total time= 4.8min\n",
      "[CV 4/5] END ..........rfc__n_estimators=90, tfidf__min_df=1; total time= 4.7min\n",
      "[CV 5/5] END ..........rfc__n_estimators=90, tfidf__min_df=1; total time= 4.6min\n",
      "[CV 1/5] END ..........rfc__n_estimators=90, tfidf__min_df=2; total time= 3.1min\n",
      "[CV 2/5] END ..........rfc__n_estimators=90, tfidf__min_df=2; total time= 3.3min\n",
      "[CV 3/5] END ..........rfc__n_estimators=90, tfidf__min_df=2; total time= 3.2min\n",
      "[CV 4/5] END ..........rfc__n_estimators=90, tfidf__min_df=2; total time= 3.1min\n",
      "[CV 5/5] END ..........rfc__n_estimators=90, tfidf__min_df=2; total time= 3.1min\n",
      "[CV 1/5] END .........rfc__n_estimators=150, tfidf__min_df=1; total time= 7.9min\n",
      "[CV 2/5] END .........rfc__n_estimators=150, tfidf__min_df=1; total time= 8.1min\n",
      "[CV 3/5] END .........rfc__n_estimators=150, tfidf__min_df=1; total time= 7.7min\n",
      "[CV 4/5] END .........rfc__n_estimators=150, tfidf__min_df=1; total time= 7.8min\n",
      "[CV 5/5] END .........rfc__n_estimators=150, tfidf__min_df=1; total time= 7.5min\n",
      "[CV 1/5] END .........rfc__n_estimators=150, tfidf__min_df=2; total time= 5.0min\n",
      "[CV 2/5] END .........rfc__n_estimators=150, tfidf__min_df=2; total time= 5.1min\n",
      "[CV 3/5] END .........rfc__n_estimators=150, tfidf__min_df=2; total time= 5.0min\n",
      "[CV 4/5] END .........rfc__n_estimators=150, tfidf__min_df=2; total time= 5.3min\n",
      "[CV 5/5] END .........rfc__n_estimators=150, tfidf__min_df=2; total time= 5.0min\n",
      "\n",
      "Значение F1 модели на трейне: 0.722\n",
      "Оптимальные гиперпараметры для модели: {'tfidf__min_df': 2, 'rfc__n_estimators': 150}\n",
      "\n",
      "CPU times: user 1h 51min 7s, sys: 12.5 s, total: 1h 51min 20s\n",
      "Wall time: 1h 51min 26s\n"
     ]
    }
   ],
   "source": [
    "%%time\n",
    "\n",
    "pipe = Pipeline([('tfidf', TfidfVectorizer(stop_words=stopwords)), ('rfc', RandomForestClassifier(random_state=12345))])\n",
    "parameters = {\n",
    "    'rfc__n_estimators': [90, 150],\n",
    "    'tfidf__min_df': range(1, 3, 1)\n",
    "}\n",
    "\n",
    "grid = RandomizedSearchCV(pipe, param_distributions=parameters, scoring='f1', verbose=5, n_jobs=-1) \n",
    "grid.fit(corpus_train, target_train) \n",
    "\n",
    "f1_train = round(abs(grid.best_score_), 3)\n",
    "rf_best_params = grid.best_params_\n",
    "print()\n",
    "print(f\"Значение F1 модели на трейне: {f1_train}\")\n",
    "print(f\"Оптимальные гиперпараметры для модели: {grid.best_params_}\")\n",
    "print()"
   ]
  },
  {
   "cell_type": "markdown",
   "metadata": {},
   "source": [
    "Проведем тестирование качества модели на тестовой выборке, указав подобранные гиперпараметры модели:"
   ]
  },
  {
   "cell_type": "code",
   "execution_count": 79,
   "metadata": {
    "scrolled": true
   },
   "outputs": [
    {
     "name": "stdout",
     "output_type": "stream",
     "text": [
      "F1 модели на тесте: 0.734\n",
      "\n",
      "CPU times: user 7min 25s, sys: 652 ms, total: 7min 26s\n",
      "Wall time: 7min 26s\n"
     ]
    }
   ],
   "source": [
    "%%time\n",
    "\n",
    "pipe = Pipeline([('tfidf', TfidfVectorizer(stop_words=stopwords)), ('rfc', RandomForestClassifier(random_state=12345))])\n",
    "pipe.set_params(**grid.best_params_)\n",
    "pipe.fit(corpus_train, target_train)\n",
    "\n",
    "target_predict = pipe.predict(corpus_test)\n",
    "f1_test = round(f1_score(target_test, target_predict), 3)\n",
    "print(f\"F1 модели на тесте: {f1_test}\")\n",
    "print()"
   ]
  },
  {
   "cell_type": "markdown",
   "metadata": {},
   "source": [
    "Сохраним полученные результаты:"
   ]
  },
  {
   "cell_type": "code",
   "execution_count": 80,
   "metadata": {},
   "outputs": [],
   "source": [
    "results['RandomForestClassifier'] = [f1_train, f1_test]"
   ]
  },
  {
   "cell_type": "markdown",
   "metadata": {},
   "source": [
    "### CatBoostClassifier"
   ]
  },
  {
   "cell_type": "markdown",
   "metadata": {},
   "source": [
    "Обучим модель на данных, полученных после вычисления TF-IDF для корпуса текстов:"
   ]
  },
  {
   "cell_type": "code",
   "execution_count": 81,
   "metadata": {
    "scrolled": true
   },
   "outputs": [
    {
     "name": "stdout",
     "output_type": "stream",
     "text": [
      "Fitting 5 folds for each of 4 candidates, totalling 20 fits\n",
      "[CV 1/5] END ...........cbc__iterations=100, tfidf__min_df=1; total time= 3.3min\n",
      "[CV 2/5] END ...........cbc__iterations=100, tfidf__min_df=1; total time= 3.4min\n",
      "[CV 3/5] END ...........cbc__iterations=100, tfidf__min_df=1; total time= 3.3min\n",
      "[CV 4/5] END ...........cbc__iterations=100, tfidf__min_df=1; total time= 3.3min\n",
      "[CV 5/5] END ...........cbc__iterations=100, tfidf__min_df=1; total time= 3.5min\n",
      "[CV 1/5] END ...........cbc__iterations=100, tfidf__min_df=2; total time= 2.8min\n",
      "[CV 2/5] END ...........cbc__iterations=100, tfidf__min_df=2; total time= 2.8min\n",
      "[CV 3/5] END ...........cbc__iterations=100, tfidf__min_df=2; total time= 3.0min\n",
      "[CV 4/5] END ...........cbc__iterations=100, tfidf__min_df=2; total time= 3.2min\n",
      "[CV 5/5] END ...........cbc__iterations=100, tfidf__min_df=2; total time= 3.5min\n",
      "[CV 1/5] END ...........cbc__iterations=500, tfidf__min_df=1; total time=18.7min\n",
      "[CV 2/5] END ...........cbc__iterations=500, tfidf__min_df=1; total time=18.7min\n",
      "[CV 3/5] END ...........cbc__iterations=500, tfidf__min_df=1; total time=18.7min\n",
      "[CV 4/5] END ...........cbc__iterations=500, tfidf__min_df=1; total time=19.3min\n",
      "[CV 5/5] END ...........cbc__iterations=500, tfidf__min_df=1; total time=19.5min\n",
      "[CV 1/5] END ...........cbc__iterations=500, tfidf__min_df=2; total time=16.2min\n",
      "[CV 2/5] END ...........cbc__iterations=500, tfidf__min_df=2; total time=16.6min\n",
      "[CV 3/5] END ...........cbc__iterations=500, tfidf__min_df=2; total time=16.4min\n",
      "[CV 4/5] END ...........cbc__iterations=500, tfidf__min_df=2; total time=17.5min\n",
      "[CV 5/5] END ...........cbc__iterations=500, tfidf__min_df=2; total time=18.1min\n",
      "\n",
      "Значение F1 модели на трейне: 0.743\n",
      "Оптимальные гиперпараметры для модели: {'tfidf__min_df': 1, 'cbc__iterations': 500}\n",
      "\n",
      "CPU times: user 3h 53min 16s, sys: 1min 34s, total: 3h 54min 50s\n",
      "Wall time: 3h 55min 20s\n"
     ]
    }
   ],
   "source": [
    "%%time\n",
    "\n",
    "pipe = Pipeline([('tfidf', TfidfVectorizer(stop_words=stopwords)),\n",
    "                 ('cbc', CatBoostClassifier(random_state=12345, verbose=False))])\n",
    "parameters = {\n",
    "    'cbc__iterations': [100, 500],\n",
    "    'tfidf__min_df': range(1, 3, 1),\n",
    "}\n",
    "\n",
    "grid = RandomizedSearchCV(pipe, param_distributions=parameters, scoring='f1', verbose=5, n_jobs=-1) \n",
    "grid.fit(corpus_train, target_train) \n",
    "\n",
    "f1_train = round(abs(grid.best_score_), 3)\n",
    "rf_best_params = grid.best_params_\n",
    "\n",
    "print()\n",
    "print(f\"Значение F1 модели на трейне: {f1_train}\")\n",
    "print(f\"Оптимальные гиперпараметры для модели: {grid.best_params_}\")\n",
    "print()"
   ]
  },
  {
   "cell_type": "markdown",
   "metadata": {},
   "source": [
    "Проведем тестирование качества модели на тестовой выборке, указав подобранные гиперпараметры модели:"
   ]
  },
  {
   "cell_type": "code",
   "execution_count": 82,
   "metadata": {},
   "outputs": [
    {
     "name": "stdout",
     "output_type": "stream",
     "text": [
      "F1 модели на тесте: 0.762\n",
      "\n",
      "CPU times: user 23min 16s, sys: 9.65 s, total: 23min 26s\n",
      "Wall time: 23min 36s\n"
     ]
    }
   ],
   "source": [
    "%%time\n",
    "\n",
    "pipe = Pipeline([('tfidf', TfidfVectorizer(stop_words=stopwords)),\n",
    "                 ('cbc', CatBoostClassifier(random_state=12345, verbose=False))])\n",
    "pipe.set_params(**grid.best_params_)\n",
    "pipe.fit(corpus_train, target_train)\n",
    "\n",
    "target_predict = pipe.predict(corpus_test)\n",
    "f1_test = round(f1_score(target_test, target_predict), 3)\n",
    "print(f\"F1 модели на тесте: {f1_test}\")\n",
    "print()"
   ]
  },
  {
   "cell_type": "markdown",
   "metadata": {},
   "source": [
    "Сохраним полученные результаты:"
   ]
  },
  {
   "cell_type": "code",
   "execution_count": 83,
   "metadata": {},
   "outputs": [],
   "source": [
    "results['CatBoostClassifier'] = [f1_train, f1_test]"
   ]
  },
  {
   "cell_type": "markdown",
   "metadata": {},
   "source": [
    "### SGDClassifier"
   ]
  },
  {
   "cell_type": "markdown",
   "metadata": {},
   "source": [
    "Обучим модель на данных, полученных после вычисления TF-IDF для корпуса текстов:"
   ]
  },
  {
   "cell_type": "code",
   "execution_count": 84,
   "metadata": {
    "scrolled": true
   },
   "outputs": [
    {
     "name": "stdout",
     "output_type": "stream",
     "text": [
      "Fitting 5 folds for each of 4 candidates, totalling 20 fits\n",
      "[CV 1/5] END ................sgdc__eta0=0.1, tfidf__min_df=1; total time=   7.3s\n",
      "[CV 2/5] END ................sgdc__eta0=0.1, tfidf__min_df=1; total time=   7.5s\n",
      "[CV 3/5] END ................sgdc__eta0=0.1, tfidf__min_df=1; total time=   7.7s\n",
      "[CV 4/5] END ................sgdc__eta0=0.1, tfidf__min_df=1; total time=   7.6s\n",
      "[CV 5/5] END ................sgdc__eta0=0.1, tfidf__min_df=1; total time=   7.3s\n",
      "[CV 1/5] END ................sgdc__eta0=0.1, tfidf__min_df=2; total time=   7.3s\n",
      "[CV 2/5] END ................sgdc__eta0=0.1, tfidf__min_df=2; total time=   7.3s\n",
      "[CV 3/5] END ................sgdc__eta0=0.1, tfidf__min_df=2; total time=   7.5s\n",
      "[CV 4/5] END ................sgdc__eta0=0.1, tfidf__min_df=2; total time=   7.2s\n",
      "[CV 5/5] END ................sgdc__eta0=0.1, tfidf__min_df=2; total time=   7.3s\n",
      "[CV 1/5] END ................sgdc__eta0=0.2, tfidf__min_df=1; total time=   7.6s\n",
      "[CV 2/5] END ................sgdc__eta0=0.2, tfidf__min_df=1; total time=   7.8s\n",
      "[CV 3/5] END ................sgdc__eta0=0.2, tfidf__min_df=1; total time=   7.5s\n",
      "[CV 4/5] END ................sgdc__eta0=0.2, tfidf__min_df=1; total time=   7.5s\n",
      "[CV 5/5] END ................sgdc__eta0=0.2, tfidf__min_df=1; total time=   7.6s\n",
      "[CV 1/5] END ................sgdc__eta0=0.2, tfidf__min_df=2; total time=   7.5s\n",
      "[CV 2/5] END ................sgdc__eta0=0.2, tfidf__min_df=2; total time=   7.2s\n",
      "[CV 3/5] END ................sgdc__eta0=0.2, tfidf__min_df=2; total time=   7.2s\n",
      "[CV 4/5] END ................sgdc__eta0=0.2, tfidf__min_df=2; total time=   7.4s\n",
      "[CV 5/5] END ................sgdc__eta0=0.2, tfidf__min_df=2; total time=   7.4s\n"
     ]
    },
    {
     "ename": "KeyboardInterrupt",
     "evalue": "",
     "output_type": "error",
     "traceback": [
      "\u001b[0;31m---------------------------------------------------------------------------\u001b[0m",
      "\u001b[0;31mKeyboardInterrupt\u001b[0m                         Traceback (most recent call last)",
      "\u001b[0;32m/tmp/ipykernel_31/1144903435.py\u001b[0m in \u001b[0;36m<module>\u001b[0;34m\u001b[0m\n\u001b[1;32m      7\u001b[0m \u001b[0;34m\u001b[0m\u001b[0m\n\u001b[1;32m      8\u001b[0m \u001b[0mgrid\u001b[0m \u001b[0;34m=\u001b[0m \u001b[0mRandomizedSearchCV\u001b[0m\u001b[0;34m(\u001b[0m\u001b[0mpipe\u001b[0m\u001b[0;34m,\u001b[0m \u001b[0mparam_distributions\u001b[0m\u001b[0;34m=\u001b[0m\u001b[0mparameters\u001b[0m\u001b[0;34m,\u001b[0m \u001b[0mscoring\u001b[0m\u001b[0;34m=\u001b[0m\u001b[0;34m'f1'\u001b[0m\u001b[0;34m,\u001b[0m \u001b[0mverbose\u001b[0m\u001b[0;34m=\u001b[0m\u001b[0;36m5\u001b[0m\u001b[0;34m,\u001b[0m \u001b[0mn_jobs\u001b[0m\u001b[0;34m=\u001b[0m\u001b[0;34m-\u001b[0m\u001b[0;36m1\u001b[0m\u001b[0;34m)\u001b[0m\u001b[0;34m\u001b[0m\u001b[0;34m\u001b[0m\u001b[0m\n\u001b[0;32m----> 9\u001b[0;31m \u001b[0mgrid\u001b[0m\u001b[0;34m.\u001b[0m\u001b[0mfit\u001b[0m\u001b[0;34m(\u001b[0m\u001b[0mcorpus_train\u001b[0m\u001b[0;34m,\u001b[0m \u001b[0mtarget_train\u001b[0m\u001b[0;34m)\u001b[0m\u001b[0;34m\u001b[0m\u001b[0;34m\u001b[0m\u001b[0m\n\u001b[0m\u001b[1;32m     10\u001b[0m \u001b[0;34m\u001b[0m\u001b[0m\n\u001b[1;32m     11\u001b[0m \u001b[0mf1_train\u001b[0m \u001b[0;34m=\u001b[0m \u001b[0mround\u001b[0m\u001b[0;34m(\u001b[0m\u001b[0mabs\u001b[0m\u001b[0;34m(\u001b[0m\u001b[0mgrid\u001b[0m\u001b[0;34m.\u001b[0m\u001b[0mbest_score_\u001b[0m\u001b[0;34m)\u001b[0m\u001b[0;34m,\u001b[0m \u001b[0;36m3\u001b[0m\u001b[0;34m)\u001b[0m\u001b[0;34m\u001b[0m\u001b[0;34m\u001b[0m\u001b[0m\n",
      "\u001b[0;32m/opt/conda/lib/python3.9/site-packages/sklearn/utils/validation.py\u001b[0m in \u001b[0;36minner_f\u001b[0;34m(*args, **kwargs)\u001b[0m\n\u001b[1;32m     61\u001b[0m             \u001b[0mextra_args\u001b[0m \u001b[0;34m=\u001b[0m \u001b[0mlen\u001b[0m\u001b[0;34m(\u001b[0m\u001b[0margs\u001b[0m\u001b[0;34m)\u001b[0m \u001b[0;34m-\u001b[0m \u001b[0mlen\u001b[0m\u001b[0;34m(\u001b[0m\u001b[0mall_args\u001b[0m\u001b[0;34m)\u001b[0m\u001b[0;34m\u001b[0m\u001b[0;34m\u001b[0m\u001b[0m\n\u001b[1;32m     62\u001b[0m             \u001b[0;32mif\u001b[0m \u001b[0mextra_args\u001b[0m \u001b[0;34m<=\u001b[0m \u001b[0;36m0\u001b[0m\u001b[0;34m:\u001b[0m\u001b[0;34m\u001b[0m\u001b[0;34m\u001b[0m\u001b[0m\n\u001b[0;32m---> 63\u001b[0;31m                 \u001b[0;32mreturn\u001b[0m \u001b[0mf\u001b[0m\u001b[0;34m(\u001b[0m\u001b[0;34m*\u001b[0m\u001b[0margs\u001b[0m\u001b[0;34m,\u001b[0m \u001b[0;34m**\u001b[0m\u001b[0mkwargs\u001b[0m\u001b[0;34m)\u001b[0m\u001b[0;34m\u001b[0m\u001b[0;34m\u001b[0m\u001b[0m\n\u001b[0m\u001b[1;32m     64\u001b[0m \u001b[0;34m\u001b[0m\u001b[0m\n\u001b[1;32m     65\u001b[0m             \u001b[0;31m# extra_args > 0\u001b[0m\u001b[0;34m\u001b[0m\u001b[0;34m\u001b[0m\u001b[0;34m\u001b[0m\u001b[0m\n",
      "\u001b[0;32m/opt/conda/lib/python3.9/site-packages/sklearn/model_selection/_search.py\u001b[0m in \u001b[0;36mfit\u001b[0;34m(self, X, y, groups, **fit_params)\u001b[0m\n\u001b[1;32m    878\u001b[0m             \u001b[0mrefit_start_time\u001b[0m \u001b[0;34m=\u001b[0m \u001b[0mtime\u001b[0m\u001b[0;34m.\u001b[0m\u001b[0mtime\u001b[0m\u001b[0;34m(\u001b[0m\u001b[0;34m)\u001b[0m\u001b[0;34m\u001b[0m\u001b[0;34m\u001b[0m\u001b[0m\n\u001b[1;32m    879\u001b[0m             \u001b[0;32mif\u001b[0m \u001b[0my\u001b[0m \u001b[0;32mis\u001b[0m \u001b[0;32mnot\u001b[0m \u001b[0;32mNone\u001b[0m\u001b[0;34m:\u001b[0m\u001b[0;34m\u001b[0m\u001b[0;34m\u001b[0m\u001b[0m\n\u001b[0;32m--> 880\u001b[0;31m                 \u001b[0mself\u001b[0m\u001b[0;34m.\u001b[0m\u001b[0mbest_estimator_\u001b[0m\u001b[0;34m.\u001b[0m\u001b[0mfit\u001b[0m\u001b[0;34m(\u001b[0m\u001b[0mX\u001b[0m\u001b[0;34m,\u001b[0m \u001b[0my\u001b[0m\u001b[0;34m,\u001b[0m \u001b[0;34m**\u001b[0m\u001b[0mfit_params\u001b[0m\u001b[0;34m)\u001b[0m\u001b[0;34m\u001b[0m\u001b[0;34m\u001b[0m\u001b[0m\n\u001b[0m\u001b[1;32m    881\u001b[0m             \u001b[0;32melse\u001b[0m\u001b[0;34m:\u001b[0m\u001b[0;34m\u001b[0m\u001b[0;34m\u001b[0m\u001b[0m\n\u001b[1;32m    882\u001b[0m                 \u001b[0mself\u001b[0m\u001b[0;34m.\u001b[0m\u001b[0mbest_estimator_\u001b[0m\u001b[0;34m.\u001b[0m\u001b[0mfit\u001b[0m\u001b[0;34m(\u001b[0m\u001b[0mX\u001b[0m\u001b[0;34m,\u001b[0m \u001b[0;34m**\u001b[0m\u001b[0mfit_params\u001b[0m\u001b[0;34m)\u001b[0m\u001b[0;34m\u001b[0m\u001b[0;34m\u001b[0m\u001b[0m\n",
      "\u001b[0;32m/opt/conda/lib/python3.9/site-packages/sklearn/pipeline.py\u001b[0m in \u001b[0;36mfit\u001b[0;34m(self, X, y, **fit_params)\u001b[0m\n\u001b[1;32m    339\u001b[0m         \"\"\"\n\u001b[1;32m    340\u001b[0m         \u001b[0mfit_params_steps\u001b[0m \u001b[0;34m=\u001b[0m \u001b[0mself\u001b[0m\u001b[0;34m.\u001b[0m\u001b[0m_check_fit_params\u001b[0m\u001b[0;34m(\u001b[0m\u001b[0;34m**\u001b[0m\u001b[0mfit_params\u001b[0m\u001b[0;34m)\u001b[0m\u001b[0;34m\u001b[0m\u001b[0;34m\u001b[0m\u001b[0m\n\u001b[0;32m--> 341\u001b[0;31m         \u001b[0mXt\u001b[0m \u001b[0;34m=\u001b[0m \u001b[0mself\u001b[0m\u001b[0;34m.\u001b[0m\u001b[0m_fit\u001b[0m\u001b[0;34m(\u001b[0m\u001b[0mX\u001b[0m\u001b[0;34m,\u001b[0m \u001b[0my\u001b[0m\u001b[0;34m,\u001b[0m \u001b[0;34m**\u001b[0m\u001b[0mfit_params_steps\u001b[0m\u001b[0;34m)\u001b[0m\u001b[0;34m\u001b[0m\u001b[0;34m\u001b[0m\u001b[0m\n\u001b[0m\u001b[1;32m    342\u001b[0m         with _print_elapsed_time('Pipeline',\n\u001b[1;32m    343\u001b[0m                                  self._log_message(len(self.steps) - 1)):\n",
      "\u001b[0;32m/opt/conda/lib/python3.9/site-packages/sklearn/pipeline.py\u001b[0m in \u001b[0;36m_fit\u001b[0;34m(self, X, y, **fit_params_steps)\u001b[0m\n\u001b[1;32m    301\u001b[0m                 \u001b[0mcloned_transformer\u001b[0m \u001b[0;34m=\u001b[0m \u001b[0mclone\u001b[0m\u001b[0;34m(\u001b[0m\u001b[0mtransformer\u001b[0m\u001b[0;34m)\u001b[0m\u001b[0;34m\u001b[0m\u001b[0;34m\u001b[0m\u001b[0m\n\u001b[1;32m    302\u001b[0m             \u001b[0;31m# Fit or load from cache the current transformer\u001b[0m\u001b[0;34m\u001b[0m\u001b[0;34m\u001b[0m\u001b[0;34m\u001b[0m\u001b[0m\n\u001b[0;32m--> 303\u001b[0;31m             X, fitted_transformer = fit_transform_one_cached(\n\u001b[0m\u001b[1;32m    304\u001b[0m                 \u001b[0mcloned_transformer\u001b[0m\u001b[0;34m,\u001b[0m \u001b[0mX\u001b[0m\u001b[0;34m,\u001b[0m \u001b[0my\u001b[0m\u001b[0;34m,\u001b[0m \u001b[0;32mNone\u001b[0m\u001b[0;34m,\u001b[0m\u001b[0;34m\u001b[0m\u001b[0;34m\u001b[0m\u001b[0m\n\u001b[1;32m    305\u001b[0m                 \u001b[0mmessage_clsname\u001b[0m\u001b[0;34m=\u001b[0m\u001b[0;34m'Pipeline'\u001b[0m\u001b[0;34m,\u001b[0m\u001b[0;34m\u001b[0m\u001b[0;34m\u001b[0m\u001b[0m\n",
      "\u001b[0;32m/opt/conda/lib/python3.9/site-packages/joblib/memory.py\u001b[0m in \u001b[0;36m__call__\u001b[0;34m(self, *args, **kwargs)\u001b[0m\n\u001b[1;32m    347\u001b[0m \u001b[0;34m\u001b[0m\u001b[0m\n\u001b[1;32m    348\u001b[0m     \u001b[0;32mdef\u001b[0m \u001b[0m__call__\u001b[0m\u001b[0;34m(\u001b[0m\u001b[0mself\u001b[0m\u001b[0;34m,\u001b[0m \u001b[0;34m*\u001b[0m\u001b[0margs\u001b[0m\u001b[0;34m,\u001b[0m \u001b[0;34m**\u001b[0m\u001b[0mkwargs\u001b[0m\u001b[0;34m)\u001b[0m\u001b[0;34m:\u001b[0m\u001b[0;34m\u001b[0m\u001b[0;34m\u001b[0m\u001b[0m\n\u001b[0;32m--> 349\u001b[0;31m         \u001b[0;32mreturn\u001b[0m \u001b[0mself\u001b[0m\u001b[0;34m.\u001b[0m\u001b[0mfunc\u001b[0m\u001b[0;34m(\u001b[0m\u001b[0;34m*\u001b[0m\u001b[0margs\u001b[0m\u001b[0;34m,\u001b[0m \u001b[0;34m**\u001b[0m\u001b[0mkwargs\u001b[0m\u001b[0;34m)\u001b[0m\u001b[0;34m\u001b[0m\u001b[0;34m\u001b[0m\u001b[0m\n\u001b[0m\u001b[1;32m    350\u001b[0m \u001b[0;34m\u001b[0m\u001b[0m\n\u001b[1;32m    351\u001b[0m     \u001b[0;32mdef\u001b[0m \u001b[0mcall_and_shelve\u001b[0m\u001b[0;34m(\u001b[0m\u001b[0mself\u001b[0m\u001b[0;34m,\u001b[0m \u001b[0;34m*\u001b[0m\u001b[0margs\u001b[0m\u001b[0;34m,\u001b[0m \u001b[0;34m**\u001b[0m\u001b[0mkwargs\u001b[0m\u001b[0;34m)\u001b[0m\u001b[0;34m:\u001b[0m\u001b[0;34m\u001b[0m\u001b[0;34m\u001b[0m\u001b[0m\n",
      "\u001b[0;32m/opt/conda/lib/python3.9/site-packages/sklearn/pipeline.py\u001b[0m in \u001b[0;36m_fit_transform_one\u001b[0;34m(transformer, X, y, weight, message_clsname, message, **fit_params)\u001b[0m\n\u001b[1;32m    752\u001b[0m     \u001b[0;32mwith\u001b[0m \u001b[0m_print_elapsed_time\u001b[0m\u001b[0;34m(\u001b[0m\u001b[0mmessage_clsname\u001b[0m\u001b[0;34m,\u001b[0m \u001b[0mmessage\u001b[0m\u001b[0;34m)\u001b[0m\u001b[0;34m:\u001b[0m\u001b[0;34m\u001b[0m\u001b[0;34m\u001b[0m\u001b[0m\n\u001b[1;32m    753\u001b[0m         \u001b[0;32mif\u001b[0m \u001b[0mhasattr\u001b[0m\u001b[0;34m(\u001b[0m\u001b[0mtransformer\u001b[0m\u001b[0;34m,\u001b[0m \u001b[0;34m'fit_transform'\u001b[0m\u001b[0;34m)\u001b[0m\u001b[0;34m:\u001b[0m\u001b[0;34m\u001b[0m\u001b[0;34m\u001b[0m\u001b[0m\n\u001b[0;32m--> 754\u001b[0;31m             \u001b[0mres\u001b[0m \u001b[0;34m=\u001b[0m \u001b[0mtransformer\u001b[0m\u001b[0;34m.\u001b[0m\u001b[0mfit_transform\u001b[0m\u001b[0;34m(\u001b[0m\u001b[0mX\u001b[0m\u001b[0;34m,\u001b[0m \u001b[0my\u001b[0m\u001b[0;34m,\u001b[0m \u001b[0;34m**\u001b[0m\u001b[0mfit_params\u001b[0m\u001b[0;34m)\u001b[0m\u001b[0;34m\u001b[0m\u001b[0;34m\u001b[0m\u001b[0m\n\u001b[0m\u001b[1;32m    755\u001b[0m         \u001b[0;32melse\u001b[0m\u001b[0;34m:\u001b[0m\u001b[0;34m\u001b[0m\u001b[0;34m\u001b[0m\u001b[0m\n\u001b[1;32m    756\u001b[0m             \u001b[0mres\u001b[0m \u001b[0;34m=\u001b[0m \u001b[0mtransformer\u001b[0m\u001b[0;34m.\u001b[0m\u001b[0mfit\u001b[0m\u001b[0;34m(\u001b[0m\u001b[0mX\u001b[0m\u001b[0;34m,\u001b[0m \u001b[0my\u001b[0m\u001b[0;34m,\u001b[0m \u001b[0;34m**\u001b[0m\u001b[0mfit_params\u001b[0m\u001b[0;34m)\u001b[0m\u001b[0;34m.\u001b[0m\u001b[0mtransform\u001b[0m\u001b[0;34m(\u001b[0m\u001b[0mX\u001b[0m\u001b[0;34m)\u001b[0m\u001b[0;34m\u001b[0m\u001b[0;34m\u001b[0m\u001b[0m\n",
      "\u001b[0;32m/opt/conda/lib/python3.9/site-packages/sklearn/feature_extraction/text.py\u001b[0m in \u001b[0;36mfit_transform\u001b[0;34m(self, raw_documents, y)\u001b[0m\n\u001b[1;32m   1848\u001b[0m         \"\"\"\n\u001b[1;32m   1849\u001b[0m         \u001b[0mself\u001b[0m\u001b[0;34m.\u001b[0m\u001b[0m_check_params\u001b[0m\u001b[0;34m(\u001b[0m\u001b[0;34m)\u001b[0m\u001b[0;34m\u001b[0m\u001b[0;34m\u001b[0m\u001b[0m\n\u001b[0;32m-> 1850\u001b[0;31m         \u001b[0mX\u001b[0m \u001b[0;34m=\u001b[0m \u001b[0msuper\u001b[0m\u001b[0;34m(\u001b[0m\u001b[0;34m)\u001b[0m\u001b[0;34m.\u001b[0m\u001b[0mfit_transform\u001b[0m\u001b[0;34m(\u001b[0m\u001b[0mraw_documents\u001b[0m\u001b[0;34m)\u001b[0m\u001b[0;34m\u001b[0m\u001b[0;34m\u001b[0m\u001b[0m\n\u001b[0m\u001b[1;32m   1851\u001b[0m         \u001b[0mself\u001b[0m\u001b[0;34m.\u001b[0m\u001b[0m_tfidf\u001b[0m\u001b[0;34m.\u001b[0m\u001b[0mfit\u001b[0m\u001b[0;34m(\u001b[0m\u001b[0mX\u001b[0m\u001b[0;34m)\u001b[0m\u001b[0;34m\u001b[0m\u001b[0;34m\u001b[0m\u001b[0m\n\u001b[1;32m   1852\u001b[0m         \u001b[0;31m# X is already a transformed view of raw_documents so\u001b[0m\u001b[0;34m\u001b[0m\u001b[0;34m\u001b[0m\u001b[0;34m\u001b[0m\u001b[0m\n",
      "\u001b[0;32m/opt/conda/lib/python3.9/site-packages/sklearn/feature_extraction/text.py\u001b[0m in \u001b[0;36mfit_transform\u001b[0;34m(self, raw_documents, y)\u001b[0m\n\u001b[1;32m   1201\u001b[0m         \u001b[0mmax_features\u001b[0m \u001b[0;34m=\u001b[0m \u001b[0mself\u001b[0m\u001b[0;34m.\u001b[0m\u001b[0mmax_features\u001b[0m\u001b[0;34m\u001b[0m\u001b[0;34m\u001b[0m\u001b[0m\n\u001b[1;32m   1202\u001b[0m \u001b[0;34m\u001b[0m\u001b[0m\n\u001b[0;32m-> 1203\u001b[0;31m         vocabulary, X = self._count_vocab(raw_documents,\n\u001b[0m\u001b[1;32m   1204\u001b[0m                                           self.fixed_vocabulary_)\n\u001b[1;32m   1205\u001b[0m \u001b[0;34m\u001b[0m\u001b[0m\n",
      "\u001b[0;32m/opt/conda/lib/python3.9/site-packages/sklearn/feature_extraction/text.py\u001b[0m in \u001b[0;36m_count_vocab\u001b[0;34m(self, raw_documents, fixed_vocab)\u001b[0m\n\u001b[1;32m   1113\u001b[0m         \u001b[0;32mfor\u001b[0m \u001b[0mdoc\u001b[0m \u001b[0;32min\u001b[0m \u001b[0mraw_documents\u001b[0m\u001b[0;34m:\u001b[0m\u001b[0;34m\u001b[0m\u001b[0;34m\u001b[0m\u001b[0m\n\u001b[1;32m   1114\u001b[0m             \u001b[0mfeature_counter\u001b[0m \u001b[0;34m=\u001b[0m \u001b[0;34m{\u001b[0m\u001b[0;34m}\u001b[0m\u001b[0;34m\u001b[0m\u001b[0;34m\u001b[0m\u001b[0m\n\u001b[0;32m-> 1115\u001b[0;31m             \u001b[0;32mfor\u001b[0m \u001b[0mfeature\u001b[0m \u001b[0;32min\u001b[0m \u001b[0manalyze\u001b[0m\u001b[0;34m(\u001b[0m\u001b[0mdoc\u001b[0m\u001b[0;34m)\u001b[0m\u001b[0;34m:\u001b[0m\u001b[0;34m\u001b[0m\u001b[0;34m\u001b[0m\u001b[0m\n\u001b[0m\u001b[1;32m   1116\u001b[0m                 \u001b[0;32mtry\u001b[0m\u001b[0;34m:\u001b[0m\u001b[0;34m\u001b[0m\u001b[0;34m\u001b[0m\u001b[0m\n\u001b[1;32m   1117\u001b[0m                     \u001b[0mfeature_idx\u001b[0m \u001b[0;34m=\u001b[0m \u001b[0mvocabulary\u001b[0m\u001b[0;34m[\u001b[0m\u001b[0mfeature\u001b[0m\u001b[0;34m]\u001b[0m\u001b[0;34m\u001b[0m\u001b[0;34m\u001b[0m\u001b[0m\n",
      "\u001b[0;32m/opt/conda/lib/python3.9/site-packages/sklearn/feature_extraction/text.py\u001b[0m in \u001b[0;36m_analyze\u001b[0;34m(doc, analyzer, tokenizer, ngrams, preprocessor, decoder, stop_words)\u001b[0m\n\u001b[1;32m    107\u001b[0m         \u001b[0;32mif\u001b[0m \u001b[0mngrams\u001b[0m \u001b[0;32mis\u001b[0m \u001b[0;32mnot\u001b[0m \u001b[0;32mNone\u001b[0m\u001b[0;34m:\u001b[0m\u001b[0;34m\u001b[0m\u001b[0;34m\u001b[0m\u001b[0m\n\u001b[1;32m    108\u001b[0m             \u001b[0;32mif\u001b[0m \u001b[0mstop_words\u001b[0m \u001b[0;32mis\u001b[0m \u001b[0;32mnot\u001b[0m \u001b[0;32mNone\u001b[0m\u001b[0;34m:\u001b[0m\u001b[0;34m\u001b[0m\u001b[0;34m\u001b[0m\u001b[0m\n\u001b[0;32m--> 109\u001b[0;31m                 \u001b[0mdoc\u001b[0m \u001b[0;34m=\u001b[0m \u001b[0mngrams\u001b[0m\u001b[0;34m(\u001b[0m\u001b[0mdoc\u001b[0m\u001b[0;34m,\u001b[0m \u001b[0mstop_words\u001b[0m\u001b[0;34m)\u001b[0m\u001b[0;34m\u001b[0m\u001b[0;34m\u001b[0m\u001b[0m\n\u001b[0m\u001b[1;32m    110\u001b[0m             \u001b[0;32melse\u001b[0m\u001b[0;34m:\u001b[0m\u001b[0;34m\u001b[0m\u001b[0;34m\u001b[0m\u001b[0m\n\u001b[1;32m    111\u001b[0m                 \u001b[0mdoc\u001b[0m \u001b[0;34m=\u001b[0m \u001b[0mngrams\u001b[0m\u001b[0;34m(\u001b[0m\u001b[0mdoc\u001b[0m\u001b[0;34m)\u001b[0m\u001b[0;34m\u001b[0m\u001b[0;34m\u001b[0m\u001b[0m\n",
      "\u001b[0;32m/opt/conda/lib/python3.9/site-packages/sklearn/feature_extraction/text.py\u001b[0m in \u001b[0;36m_word_ngrams\u001b[0;34m(self, tokens, stop_words)\u001b[0m\n\u001b[1;32m    224\u001b[0m         \u001b[0;31m# handle stop words\u001b[0m\u001b[0;34m\u001b[0m\u001b[0;34m\u001b[0m\u001b[0;34m\u001b[0m\u001b[0m\n\u001b[1;32m    225\u001b[0m         \u001b[0;32mif\u001b[0m \u001b[0mstop_words\u001b[0m \u001b[0;32mis\u001b[0m \u001b[0;32mnot\u001b[0m \u001b[0;32mNone\u001b[0m\u001b[0;34m:\u001b[0m\u001b[0;34m\u001b[0m\u001b[0;34m\u001b[0m\u001b[0m\n\u001b[0;32m--> 226\u001b[0;31m             \u001b[0mtokens\u001b[0m \u001b[0;34m=\u001b[0m \u001b[0;34m[\u001b[0m\u001b[0mw\u001b[0m \u001b[0;32mfor\u001b[0m \u001b[0mw\u001b[0m \u001b[0;32min\u001b[0m \u001b[0mtokens\u001b[0m \u001b[0;32mif\u001b[0m \u001b[0mw\u001b[0m \u001b[0;32mnot\u001b[0m \u001b[0;32min\u001b[0m \u001b[0mstop_words\u001b[0m\u001b[0;34m]\u001b[0m\u001b[0;34m\u001b[0m\u001b[0;34m\u001b[0m\u001b[0m\n\u001b[0m\u001b[1;32m    227\u001b[0m \u001b[0;34m\u001b[0m\u001b[0m\n\u001b[1;32m    228\u001b[0m         \u001b[0;31m# handle token n-grams\u001b[0m\u001b[0;34m\u001b[0m\u001b[0;34m\u001b[0m\u001b[0;34m\u001b[0m\u001b[0m\n",
      "\u001b[0;32m/opt/conda/lib/python3.9/site-packages/sklearn/feature_extraction/text.py\u001b[0m in \u001b[0;36m<listcomp>\u001b[0;34m(.0)\u001b[0m\n\u001b[1;32m    224\u001b[0m         \u001b[0;31m# handle stop words\u001b[0m\u001b[0;34m\u001b[0m\u001b[0;34m\u001b[0m\u001b[0;34m\u001b[0m\u001b[0m\n\u001b[1;32m    225\u001b[0m         \u001b[0;32mif\u001b[0m \u001b[0mstop_words\u001b[0m \u001b[0;32mis\u001b[0m \u001b[0;32mnot\u001b[0m \u001b[0;32mNone\u001b[0m\u001b[0;34m:\u001b[0m\u001b[0;34m\u001b[0m\u001b[0;34m\u001b[0m\u001b[0m\n\u001b[0;32m--> 226\u001b[0;31m             \u001b[0mtokens\u001b[0m \u001b[0;34m=\u001b[0m \u001b[0;34m[\u001b[0m\u001b[0mw\u001b[0m \u001b[0;32mfor\u001b[0m \u001b[0mw\u001b[0m \u001b[0;32min\u001b[0m \u001b[0mtokens\u001b[0m \u001b[0;32mif\u001b[0m \u001b[0mw\u001b[0m \u001b[0;32mnot\u001b[0m \u001b[0;32min\u001b[0m \u001b[0mstop_words\u001b[0m\u001b[0;34m]\u001b[0m\u001b[0;34m\u001b[0m\u001b[0;34m\u001b[0m\u001b[0m\n\u001b[0m\u001b[1;32m    227\u001b[0m \u001b[0;34m\u001b[0m\u001b[0m\n\u001b[1;32m    228\u001b[0m         \u001b[0;31m# handle token n-grams\u001b[0m\u001b[0;34m\u001b[0m\u001b[0;34m\u001b[0m\u001b[0;34m\u001b[0m\u001b[0m\n",
      "\u001b[0;31mKeyboardInterrupt\u001b[0m: "
     ]
    }
   ],
   "source": [
    "pipe = Pipeline([('tfidf', TfidfVectorizer(stop_words=stopwords)),\n",
    "                 ('sgdc', SGDClassifier(verbose=False))])\n",
    "parameters = {\n",
    "    'sgdc__eta0': [0.1, 0.2],\n",
    "    'tfidf__min_df': range(1, 3, 1),\n",
    "}\n",
    "\n",
    "grid = RandomizedSearchCV(pipe, param_distributions=parameters, scoring='f1', verbose=5, n_jobs=-1) \n",
    "grid.fit(corpus_train, target_train) \n",
    "\n",
    "f1_train = round(abs(grid.best_score_), 3)\n",
    "rf_best_params = grid.best_params_\n",
    "\n",
    "print()\n",
    "print(f\"Значение F1 модели на трейне: {f1_train}\")\n",
    "print(f\"Оптимальные гиперпараметры для модели: {grid.best_params_}\")\n",
    "print()"
   ]
  },
  {
   "cell_type": "markdown",
   "metadata": {},
   "source": [
    "Проведем тестирование качества модели на тестовой выборке, указав подобранные гиперпараметры модели:"
   ]
  },
  {
   "cell_type": "code",
   "execution_count": null,
   "metadata": {},
   "outputs": [],
   "source": [
    "%%time\n",
    "\n",
    "pipe = Pipeline([('tfidf', TfidfVectorizer(stop_words=stopwords)), ('sgdc', SGDClassifier(verbose=False))])\n",
    "pipe.set_params(**grid.best_params_)\n",
    "pipe.fit(corpus_train, target_train)\n",
    "\n",
    "target_predict = pipe.predict(corpus_test)\n",
    "f1_test = round(f1_score(target_test, target_predict), 3)\n",
    "print(f\"F1 модели на тесте: {f1_test}\")\n",
    "print()"
   ]
  },
  {
   "cell_type": "markdown",
   "metadata": {},
   "source": [
    "Сохраним полученные результаты:"
   ]
  },
  {
   "cell_type": "code",
   "execution_count": null,
   "metadata": {},
   "outputs": [],
   "source": [
    "results['SGDClassifier'] = [f1_train, f1_test]"
   ]
  },
  {
   "cell_type": "markdown",
   "metadata": {},
   "source": [
    "## Выводы"
   ]
  },
  {
   "cell_type": "code",
   "execution_count": null,
   "metadata": {
    "scrolled": true
   },
   "outputs": [],
   "source": [
    "results = pd.DataFrame.from_dict(data=results, columns=['F1_train', 'F1_test'], orient='index')\n",
    "display(results)"
   ]
  },
  {
   "cell_type": "markdown",
   "metadata": {},
   "source": [
    "Вывод:    \n",
    "- Изменением баланса классов не удалось качественно обучить ни одну из моделей классического ML\n",
    "- Предположу, что при значительном дисбалансе классов даунсемплинг лишь вредит обучению моделе\n",
    "- В нашем случае, приемлимых показателей качества модели по метрике f1( > 0.75 ) удалось достичь на LogisticRegression c векторизацией обучающей выборки при использовании Pipeline и подбором гиперпараметров на кросс-валидации\n",
    "- Остальные модели не показали на тестовой выборке приемлимого результата качества, при этом затратив на обучение значительно больше времени\n",
    "    \n",
    "Окончательный вывод - достаточно простая модель LogisticRegression оказалась наиболее приемлимой для решения данной задачи классификации\n"
   ]
  }
 ],
 "metadata": {
  "ExecuteTimeLog": [
   {
    "duration": 1839,
    "start_time": "2022-06-22T12:32:25.140Z"
   },
   {
    "duration": 4,
    "start_time": "2022-06-22T12:33:13.325Z"
   },
   {
    "duration": 179,
    "start_time": "2022-06-22T12:34:05.900Z"
   },
   {
    "duration": 80,
    "start_time": "2022-06-22T12:34:44.689Z"
   },
   {
    "duration": 2909,
    "start_time": "2022-06-22T12:34:54.254Z"
   },
   {
    "duration": 739,
    "start_time": "2022-06-22T12:36:10.924Z"
   },
   {
    "duration": 14,
    "start_time": "2022-06-22T12:36:24.267Z"
   },
   {
    "duration": 6,
    "start_time": "2022-06-22T12:37:49.073Z"
   },
   {
    "duration": 11,
    "start_time": "2022-06-22T12:43:36.247Z"
   },
   {
    "duration": 10,
    "start_time": "2022-06-22T12:43:49.563Z"
   },
   {
    "duration": 13,
    "start_time": "2022-06-22T12:43:53.622Z"
   },
   {
    "duration": 13,
    "start_time": "2022-06-22T12:44:40.858Z"
   },
   {
    "duration": 245,
    "start_time": "2022-06-22T12:47:53.628Z"
   },
   {
    "duration": 85,
    "start_time": "2022-06-22T13:03:30.697Z"
   },
   {
    "duration": 43,
    "start_time": "2022-06-22T13:03:35.982Z"
   },
   {
    "duration": 5,
    "start_time": "2022-06-22T13:03:56.616Z"
   },
   {
    "duration": 44,
    "start_time": "2022-06-22T13:04:00.484Z"
   },
   {
    "duration": 4,
    "start_time": "2022-06-22T13:05:35.452Z"
   },
   {
    "duration": 19,
    "start_time": "2022-06-22T13:06:39.394Z"
   },
   {
    "duration": 79,
    "start_time": "2022-06-22T13:06:54.505Z"
   },
   {
    "duration": 19,
    "start_time": "2022-06-22T13:06:57.942Z"
   },
   {
    "duration": 350,
    "start_time": "2022-06-22T13:07:24.975Z"
   },
   {
    "duration": 7,
    "start_time": "2022-06-22T13:07:49.035Z"
   },
   {
    "duration": 0,
    "start_time": "2022-06-22T13:09:31.806Z"
   },
   {
    "duration": 26,
    "start_time": "2022-06-22T13:09:39.842Z"
   },
   {
    "duration": 16,
    "start_time": "2022-06-22T13:10:17.154Z"
   },
   {
    "duration": 2070,
    "start_time": "2022-06-22T13:10:51.054Z"
   },
   {
    "duration": 492087,
    "start_time": "2022-06-22T13:11:54.332Z"
   },
   {
    "duration": 0,
    "start_time": "2022-06-22T13:20:06.422Z"
   },
   {
    "duration": 174,
    "start_time": "2022-06-22T13:20:15.106Z"
   },
   {
    "duration": 460,
    "start_time": "2022-06-22T13:20:29.786Z"
   },
   {
    "duration": 8,
    "start_time": "2022-06-22T13:20:48.520Z"
   },
   {
    "duration": 2833,
    "start_time": "2022-06-22T13:20:52.953Z"
   },
   {
    "duration": 199,
    "start_time": "2022-06-22T13:22:38.909Z"
   },
   {
    "duration": 197,
    "start_time": "2022-06-22T13:23:13.261Z"
   },
   {
    "duration": 555,
    "start_time": "2022-06-22T13:24:28.318Z"
   },
   {
    "duration": 576,
    "start_time": "2022-06-22T13:25:13.627Z"
   },
   {
    "duration": 11,
    "start_time": "2022-06-22T13:25:56.570Z"
   },
   {
    "duration": 14,
    "start_time": "2022-06-22T13:33:12.321Z"
   },
   {
    "duration": 35,
    "start_time": "2022-06-22T13:33:28.836Z"
   },
   {
    "duration": 32445,
    "start_time": "2022-06-22T13:33:31.908Z"
   },
   {
    "duration": 107,
    "start_time": "2022-06-22T13:36:47.394Z"
   },
   {
    "duration": 23586,
    "start_time": "2022-06-22T13:37:17.971Z"
   },
   {
    "duration": 9,
    "start_time": "2022-06-22T13:37:52.193Z"
   },
   {
    "duration": 749,
    "start_time": "2022-06-22T13:37:52.204Z"
   },
   {
    "duration": 11,
    "start_time": "2022-06-22T13:37:52.954Z"
   },
   {
    "duration": 285,
    "start_time": "2022-06-22T13:37:52.967Z"
   },
   {
    "duration": 2049,
    "start_time": "2022-06-22T13:37:53.254Z"
   },
   {
    "duration": 4,
    "start_time": "2022-06-22T13:37:55.304Z"
   },
   {
    "duration": 0,
    "start_time": "2022-06-22T13:37:55.309Z"
   },
   {
    "duration": 0,
    "start_time": "2022-06-22T13:37:55.310Z"
   },
   {
    "duration": 0,
    "start_time": "2022-06-22T13:37:55.312Z"
   },
   {
    "duration": 79442,
    "start_time": "2022-06-22T13:38:21.113Z"
   },
   {
    "duration": 499,
    "start_time": "2022-06-22T13:42:08.684Z"
   },
   {
    "duration": 11,
    "start_time": "2022-06-22T13:42:10.352Z"
   },
   {
    "duration": 382080,
    "start_time": "2022-06-22T13:42:31.876Z"
   },
   {
    "duration": 11,
    "start_time": "2022-06-22T13:48:53.958Z"
   },
   {
    "duration": 23,
    "start_time": "2022-06-22T13:51:29.500Z"
   },
   {
    "duration": 27,
    "start_time": "2022-06-22T13:51:46.844Z"
   },
   {
    "duration": 5,
    "start_time": "2022-06-22T13:52:01.557Z"
   },
   {
    "duration": 757,
    "start_time": "2022-06-22T13:52:02.395Z"
   },
   {
    "duration": 11,
    "start_time": "2022-06-22T13:52:03.154Z"
   },
   {
    "duration": 276,
    "start_time": "2022-06-22T13:52:04.886Z"
   },
   {
    "duration": 2045,
    "start_time": "2022-06-22T13:52:06.093Z"
   },
   {
    "duration": 44,
    "start_time": "2022-06-22T13:52:08.140Z"
   },
   {
    "duration": 8,
    "start_time": "2022-06-22T13:52:24.989Z"
   },
   {
    "duration": 4574,
    "start_time": "2022-06-22T13:52:27.807Z"
   },
   {
    "duration": 221,
    "start_time": "2022-06-22T13:52:34.499Z"
   },
   {
    "duration": 8,
    "start_time": "2022-06-22T13:52:37.827Z"
   },
   {
    "duration": 7,
    "start_time": "2022-06-22T13:54:36.195Z"
   },
   {
    "duration": 139,
    "start_time": "2022-06-22T13:55:22.714Z"
   },
   {
    "duration": 6,
    "start_time": "2022-06-22T14:05:57.591Z"
   },
   {
    "duration": 42,
    "start_time": "2022-06-22T14:08:15.814Z"
   },
   {
    "duration": 17,
    "start_time": "2022-06-22T14:08:32.582Z"
   },
   {
    "duration": 24,
    "start_time": "2022-06-22T14:09:47.390Z"
   },
   {
    "duration": 19,
    "start_time": "2022-06-22T14:10:11.993Z"
   },
   {
    "duration": 20,
    "start_time": "2022-06-22T14:10:34.681Z"
   },
   {
    "duration": 5,
    "start_time": "2022-06-22T14:10:59.056Z"
   },
   {
    "duration": 1349,
    "start_time": "2022-06-22T14:11:14.351Z"
   },
   {
    "duration": 118,
    "start_time": "2022-06-22T14:11:36.709Z"
   },
   {
    "duration": 1481,
    "start_time": "2022-06-22T14:12:32.329Z"
   },
   {
    "duration": 5,
    "start_time": "2022-06-22T14:12:40.944Z"
   },
   {
    "duration": 753,
    "start_time": "2022-06-22T14:12:40.951Z"
   },
   {
    "duration": 11,
    "start_time": "2022-06-22T14:12:41.706Z"
   },
   {
    "duration": 1438,
    "start_time": "2022-06-22T14:12:41.719Z"
   },
   {
    "duration": 0,
    "start_time": "2022-06-22T14:12:43.159Z"
   },
   {
    "duration": 0,
    "start_time": "2022-06-22T14:12:43.160Z"
   },
   {
    "duration": 0,
    "start_time": "2022-06-22T14:12:43.162Z"
   },
   {
    "duration": 0,
    "start_time": "2022-06-22T14:12:43.163Z"
   },
   {
    "duration": 0,
    "start_time": "2022-06-22T14:12:43.164Z"
   },
   {
    "duration": 0,
    "start_time": "2022-06-22T14:12:43.165Z"
   },
   {
    "duration": 0,
    "start_time": "2022-06-22T14:12:43.166Z"
   },
   {
    "duration": 0,
    "start_time": "2022-06-22T14:12:43.167Z"
   },
   {
    "duration": 47,
    "start_time": "2022-06-22T14:13:07.374Z"
   },
   {
    "duration": 125,
    "start_time": "2022-06-22T14:14:01.633Z"
   },
   {
    "duration": 6,
    "start_time": "2022-06-22T14:16:11.038Z"
   },
   {
    "duration": 760,
    "start_time": "2022-06-22T14:16:11.047Z"
   },
   {
    "duration": 11,
    "start_time": "2022-06-22T14:16:11.809Z"
   },
   {
    "duration": 130,
    "start_time": "2022-06-22T14:16:11.822Z"
   },
   {
    "duration": 60,
    "start_time": "2022-06-22T14:16:11.954Z"
   },
   {
    "duration": 62,
    "start_time": "2022-06-22T14:16:12.015Z"
   },
   {
    "duration": 401,
    "start_time": "2022-06-22T14:16:12.079Z"
   },
   {
    "duration": 4,
    "start_time": "2022-06-22T14:16:12.482Z"
   },
   {
    "duration": 16035,
    "start_time": "2022-06-22T14:16:12.494Z"
   },
   {
    "duration": 163,
    "start_time": "2022-06-22T14:16:28.532Z"
   },
   {
    "duration": 9,
    "start_time": "2022-06-22T14:16:28.697Z"
   },
   {
    "duration": 27,
    "start_time": "2022-06-22T14:17:38.192Z"
   },
   {
    "duration": 5,
    "start_time": "2022-06-22T14:17:41.278Z"
   },
   {
    "duration": 743,
    "start_time": "2022-06-22T14:17:41.286Z"
   },
   {
    "duration": 12,
    "start_time": "2022-06-22T14:17:42.031Z"
   },
   {
    "duration": 129,
    "start_time": "2022-06-22T14:17:42.045Z"
   },
   {
    "duration": 54,
    "start_time": "2022-06-22T14:17:42.176Z"
   },
   {
    "duration": 73,
    "start_time": "2022-06-22T14:17:42.231Z"
   },
   {
    "duration": 405,
    "start_time": "2022-06-22T14:17:42.306Z"
   },
   {
    "duration": 15939,
    "start_time": "2022-06-22T14:17:42.714Z"
   },
   {
    "duration": 164,
    "start_time": "2022-06-22T14:17:58.654Z"
   },
   {
    "duration": 8,
    "start_time": "2022-06-22T14:17:58.820Z"
   },
   {
    "duration": 8,
    "start_time": "2022-06-22T14:18:08.417Z"
   },
   {
    "duration": 9,
    "start_time": "2022-06-22T14:18:10.826Z"
   },
   {
    "duration": 8,
    "start_time": "2022-06-22T14:18:12.283Z"
   },
   {
    "duration": 7,
    "start_time": "2022-06-22T14:18:13.911Z"
   },
   {
    "duration": 8,
    "start_time": "2022-06-22T14:18:15.501Z"
   },
   {
    "duration": 8,
    "start_time": "2022-06-22T14:18:17.278Z"
   },
   {
    "duration": 8,
    "start_time": "2022-06-22T14:18:19.606Z"
   },
   {
    "duration": 94,
    "start_time": "2022-06-22T14:34:56.688Z"
   },
   {
    "duration": 399,
    "start_time": "2022-06-22T14:35:56.764Z"
   },
   {
    "duration": 765,
    "start_time": "2022-06-22T14:38:08.140Z"
   },
   {
    "duration": 865,
    "start_time": "2022-06-22T14:38:40.464Z"
   },
   {
    "duration": 3,
    "start_time": "2022-06-22T14:38:46.198Z"
   },
   {
    "duration": 10,
    "start_time": "2022-06-22T14:38:54.807Z"
   },
   {
    "duration": 3,
    "start_time": "2022-06-22T14:39:02.868Z"
   },
   {
    "duration": 833,
    "start_time": "2022-06-22T14:39:59.321Z"
   },
   {
    "duration": 828,
    "start_time": "2022-06-22T14:40:08.453Z"
   },
   {
    "duration": 817,
    "start_time": "2022-06-22T14:40:24.071Z"
   },
   {
    "duration": 820,
    "start_time": "2022-06-22T14:41:46.668Z"
   },
   {
    "duration": 816,
    "start_time": "2022-06-22T14:41:55.327Z"
   },
   {
    "duration": 840,
    "start_time": "2022-06-22T14:42:46.433Z"
   },
   {
    "duration": 833,
    "start_time": "2022-06-22T14:43:13.347Z"
   },
   {
    "duration": 844,
    "start_time": "2022-06-22T14:44:56.671Z"
   },
   {
    "duration": 105,
    "start_time": "2022-06-22T14:51:44.277Z"
   },
   {
    "duration": 5,
    "start_time": "2022-06-22T14:52:09.168Z"
   },
   {
    "duration": 3,
    "start_time": "2022-06-22T14:52:48.683Z"
   },
   {
    "duration": 1887,
    "start_time": "2022-06-22T15:02:39.224Z"
   },
   {
    "duration": 1900,
    "start_time": "2022-06-22T15:02:56.726Z"
   },
   {
    "duration": 1895,
    "start_time": "2022-06-22T15:03:14.670Z"
   },
   {
    "duration": 6,
    "start_time": "2022-06-22T15:04:05.069Z"
   },
   {
    "duration": 2073,
    "start_time": "2022-06-22T15:04:47.386Z"
   },
   {
    "duration": 1801,
    "start_time": "2022-06-22T15:05:49.245Z"
   },
   {
    "duration": 87,
    "start_time": "2022-06-22T15:24:01.011Z"
   },
   {
    "duration": 92,
    "start_time": "2022-06-22T15:24:15.785Z"
   },
   {
    "duration": 6,
    "start_time": "2022-06-22T15:24:37.485Z"
   },
   {
    "duration": 158191,
    "start_time": "2022-06-22T15:24:40.927Z"
   },
   {
    "duration": 88508,
    "start_time": "2022-06-22T15:27:33.387Z"
   },
   {
    "duration": 2,
    "start_time": "2022-06-22T15:58:54.810Z"
   },
   {
    "duration": 111090,
    "start_time": "2022-06-22T16:01:15.905Z"
   },
   {
    "duration": 57,
    "start_time": "2022-06-22T16:09:11.889Z"
   },
   {
    "duration": 53,
    "start_time": "2022-06-22T16:09:16.848Z"
   },
   {
    "duration": 111435,
    "start_time": "2022-06-22T16:10:08.468Z"
   },
   {
    "duration": 104183,
    "start_time": "2022-06-22T16:18:47.618Z"
   },
   {
    "duration": 133,
    "start_time": "2022-06-22T16:20:31.803Z"
   },
   {
    "duration": 5964,
    "start_time": "2022-06-22T16:21:42.678Z"
   },
   {
    "duration": 6,
    "start_time": "2022-06-22T16:22:32.810Z"
   },
   {
    "duration": 6165,
    "start_time": "2022-06-22T16:22:37.532Z"
   },
   {
    "duration": 10,
    "start_time": "2022-06-22T16:24:26.484Z"
   },
   {
    "duration": 12,
    "start_time": "2022-06-22T16:24:37.568Z"
   },
   {
    "duration": 4,
    "start_time": "2022-06-22T16:24:42.138Z"
   },
   {
    "duration": 3,
    "start_time": "2022-06-22T16:24:46.274Z"
   },
   {
    "duration": 6,
    "start_time": "2022-06-22T16:26:53.393Z"
   },
   {
    "duration": 43,
    "start_time": "2022-06-22T16:37:56.861Z"
   },
   {
    "duration": 104,
    "start_time": "2022-06-22T16:38:26.345Z"
   },
   {
    "duration": 60468,
    "start_time": "2022-06-22T16:39:16.565Z"
   },
   {
    "duration": 1104963,
    "start_time": "2022-06-22T16:40:33.246Z"
   },
   {
    "duration": 5,
    "start_time": "2022-06-22T16:58:58.211Z"
   },
   {
    "duration": 226435,
    "start_time": "2022-06-22T16:59:32.426Z"
   },
   {
    "duration": 3,
    "start_time": "2022-06-22T17:03:33.869Z"
   },
   {
    "duration": 1913951,
    "start_time": "2022-06-22T17:03:39.883Z"
   },
   {
    "duration": 261868,
    "start_time": "2022-06-22T17:35:33.836Z"
   },
   {
    "duration": 2,
    "start_time": "2022-06-22T17:39:55.706Z"
   },
   {
    "duration": 14,
    "start_time": "2022-06-22T17:39:55.710Z"
   },
   {
    "duration": 2043,
    "start_time": "2022-06-24T05:53:07.452Z"
   },
   {
    "duration": 5,
    "start_time": "2022-06-24T06:03:36.642Z"
   },
   {
    "duration": 3162,
    "start_time": "2022-06-24T06:03:38.400Z"
   },
   {
    "duration": 15,
    "start_time": "2022-06-24T06:03:41.564Z"
   },
   {
    "duration": 128,
    "start_time": "2022-06-24T06:03:45.164Z"
   },
   {
    "duration": 5,
    "start_time": "2022-06-24T06:04:18.502Z"
   },
   {
    "duration": 6,
    "start_time": "2022-06-24T06:04:31.301Z"
   },
   {
    "duration": 296,
    "start_time": "2022-06-24T06:07:34.339Z"
   },
   {
    "duration": 2124,
    "start_time": "2022-06-24T06:07:35.549Z"
   },
   {
    "duration": 85552,
    "start_time": "2022-06-24T06:07:43.158Z"
   },
   {
    "duration": 610,
    "start_time": "2022-06-24T06:09:08.713Z"
   },
   {
    "duration": 19,
    "start_time": "2022-06-24T06:09:09.324Z"
   },
   {
    "duration": 24,
    "start_time": "2022-06-24T06:17:55.328Z"
   },
   {
    "duration": 5,
    "start_time": "2022-06-24T06:18:33.117Z"
   },
   {
    "duration": 137,
    "start_time": "2022-06-24T06:19:10.728Z"
   },
   {
    "duration": 7119,
    "start_time": "2022-06-24T06:19:15.695Z"
   },
   {
    "duration": 5,
    "start_time": "2022-06-24T06:19:22.816Z"
   },
   {
    "duration": 14,
    "start_time": "2022-06-24T06:20:33.167Z"
   },
   {
    "duration": 4,
    "start_time": "2022-06-24T06:23:15.727Z"
   },
   {
    "duration": 13,
    "start_time": "2022-06-24T06:23:20.329Z"
   },
   {
    "duration": 57,
    "start_time": "2022-06-24T06:25:34.357Z"
   },
   {
    "duration": 38,
    "start_time": "2022-06-24T06:26:18.807Z"
   },
   {
    "duration": 25,
    "start_time": "2022-06-24T06:26:59.174Z"
   },
   {
    "duration": 5,
    "start_time": "2022-06-24T06:27:48.565Z"
   },
   {
    "duration": 798,
    "start_time": "2022-06-24T06:27:49.274Z"
   },
   {
    "duration": 15,
    "start_time": "2022-06-24T06:27:50.074Z"
   },
   {
    "duration": 134,
    "start_time": "2022-06-24T06:27:50.091Z"
   },
   {
    "duration": 4,
    "start_time": "2022-06-24T06:27:50.227Z"
   },
   {
    "duration": 6,
    "start_time": "2022-06-24T06:27:50.607Z"
   },
   {
    "duration": 280,
    "start_time": "2022-06-24T06:27:53.002Z"
   },
   {
    "duration": 2081,
    "start_time": "2022-06-24T06:27:54.127Z"
   },
   {
    "duration": 81949,
    "start_time": "2022-06-24T06:27:56.210Z"
   },
   {
    "duration": 601,
    "start_time": "2022-06-24T06:29:18.162Z"
   },
   {
    "duration": 12,
    "start_time": "2022-06-24T06:29:18.765Z"
   },
   {
    "duration": 48,
    "start_time": "2022-06-24T06:29:18.818Z"
   },
   {
    "duration": 7,
    "start_time": "2022-06-24T06:29:34.783Z"
   },
   {
    "duration": 13,
    "start_time": "2022-06-24T06:29:40.112Z"
   },
   {
    "duration": 6,
    "start_time": "2022-06-24T06:29:47.270Z"
   },
   {
    "duration": 28,
    "start_time": "2022-06-24T06:29:57.523Z"
   },
   {
    "duration": 27,
    "start_time": "2022-06-24T06:30:23.419Z"
   },
   {
    "duration": 8,
    "start_time": "2022-06-24T06:30:25.272Z"
   },
   {
    "duration": 31,
    "start_time": "2022-06-24T06:30:26.094Z"
   },
   {
    "duration": 32,
    "start_time": "2022-06-24T06:30:33.467Z"
   },
   {
    "duration": 8,
    "start_time": "2022-06-24T06:30:34.684Z"
   },
   {
    "duration": 35,
    "start_time": "2022-06-24T06:30:35.493Z"
   },
   {
    "duration": 28,
    "start_time": "2022-06-24T06:30:41.693Z"
   },
   {
    "duration": 8,
    "start_time": "2022-06-24T06:30:42.452Z"
   },
   {
    "duration": 33,
    "start_time": "2022-06-24T06:30:42.872Z"
   },
   {
    "duration": 8,
    "start_time": "2022-06-24T06:34:49.877Z"
   },
   {
    "duration": 7,
    "start_time": "2022-06-24T06:34:54.856Z"
   },
   {
    "duration": 218,
    "start_time": "2022-06-24T06:35:05.667Z"
   },
   {
    "duration": 501,
    "start_time": "2022-06-24T06:35:09.071Z"
   },
   {
    "duration": 7,
    "start_time": "2022-06-24T06:35:20.251Z"
   },
   {
    "duration": 131,
    "start_time": "2022-06-24T06:36:01.532Z"
   },
   {
    "duration": 127,
    "start_time": "2022-06-24T06:36:21.694Z"
   },
   {
    "duration": 8,
    "start_time": "2022-06-24T06:39:53.878Z"
   },
   {
    "duration": 6,
    "start_time": "2022-06-24T06:42:04.166Z"
   },
   {
    "duration": 826,
    "start_time": "2022-06-24T06:42:06.041Z"
   },
   {
    "duration": 12,
    "start_time": "2022-06-24T06:42:10.438Z"
   },
   {
    "duration": 115,
    "start_time": "2022-06-24T06:42:13.175Z"
   },
   {
    "duration": 4,
    "start_time": "2022-06-24T06:42:15.114Z"
   },
   {
    "duration": 7,
    "start_time": "2022-06-24T06:42:17.134Z"
   },
   {
    "duration": 277,
    "start_time": "2022-06-24T06:42:17.838Z"
   },
   {
    "duration": 2167,
    "start_time": "2022-06-24T06:42:18.638Z"
   },
   {
    "duration": 83006,
    "start_time": "2022-06-24T06:42:20.808Z"
   },
   {
    "duration": 610,
    "start_time": "2022-06-24T06:43:43.817Z"
   },
   {
    "duration": 16,
    "start_time": "2022-06-24T06:43:44.430Z"
   },
   {
    "duration": 5,
    "start_time": "2022-06-24T06:43:44.448Z"
   },
   {
    "duration": 28,
    "start_time": "2022-06-24T06:43:44.455Z"
   },
   {
    "duration": 8,
    "start_time": "2022-06-24T06:43:44.485Z"
   },
   {
    "duration": 68,
    "start_time": "2022-06-24T06:43:44.495Z"
   },
   {
    "duration": 6,
    "start_time": "2022-06-24T06:49:44.271Z"
   },
   {
    "duration": 5,
    "start_time": "2022-06-24T06:50:25.407Z"
   },
   {
    "duration": 1858,
    "start_time": "2022-06-24T06:50:27.722Z"
   },
   {
    "duration": 3,
    "start_time": "2022-06-24T06:59:21.192Z"
   },
   {
    "duration": 284116,
    "start_time": "2022-06-24T07:00:20.230Z"
   },
   {
    "duration": 135,
    "start_time": "2022-06-24T07:05:04.349Z"
   },
   {
    "duration": 7481,
    "start_time": "2022-06-24T07:10:21.173Z"
   },
   {
    "duration": 3,
    "start_time": "2022-06-24T07:10:28.657Z"
   },
   {
    "duration": 120,
    "start_time": "2022-06-24T07:11:09.006Z"
   },
   {
    "duration": 114,
    "start_time": "2022-06-24T07:11:33.360Z"
   },
   {
    "duration": 1715301,
    "start_time": "2022-06-24T07:11:46.682Z"
   },
   {
    "duration": 177562,
    "start_time": "2022-06-24T07:40:21.985Z"
   },
   {
    "duration": 3,
    "start_time": "2022-06-24T07:43:19.550Z"
   },
   {
    "duration": 95,
    "start_time": "2022-06-24T07:43:19.555Z"
   },
   {
    "duration": 953,
    "start_time": "2022-06-24T07:43:19.652Z"
   },
   {
    "duration": 4,
    "start_time": "2022-06-24T07:43:20.606Z"
   },
   {
    "duration": 17,
    "start_time": "2022-06-24T07:43:20.612Z"
   },
   {
    "duration": 130,
    "start_time": "2022-06-24T07:49:02.296Z"
   },
   {
    "duration": 1355455,
    "start_time": "2022-06-24T07:49:08.550Z"
   },
   {
    "duration": 246244,
    "start_time": "2022-06-24T08:12:26.619Z"
   },
   {
    "duration": 17,
    "start_time": "2022-06-24T08:16:32.866Z"
   },
   {
    "duration": 15,
    "start_time": "2022-06-24T08:16:38.144Z"
   },
   {
    "duration": 13,
    "start_time": "2022-06-24T08:17:02.249Z"
   },
   {
    "duration": 14,
    "start_time": "2022-06-24T08:17:08.221Z"
   },
   {
    "duration": 5651,
    "start_time": "2022-06-24T08:19:07.518Z"
   },
   {
    "duration": 6881,
    "start_time": "2022-06-24T08:19:30.175Z"
   },
   {
    "duration": 54225,
    "start_time": "2022-06-24T08:19:48.417Z"
   },
   {
    "duration": 7,
    "start_time": "2022-06-24T08:21:25.377Z"
   },
   {
    "duration": 55,
    "start_time": "2022-06-24T08:37:42.673Z"
   },
   {
    "duration": 173,
    "start_time": "2022-06-24T08:38:03.513Z"
   },
   {
    "duration": 173,
    "start_time": "2022-06-24T08:38:38.979Z"
   },
   {
    "duration": 90,
    "start_time": "2022-06-24T08:40:34.083Z"
   },
   {
    "duration": 3,
    "start_time": "2022-06-24T08:44:53.302Z"
   },
   {
    "duration": 4,
    "start_time": "2022-06-24T08:48:42.409Z"
   },
   {
    "duration": 139,
    "start_time": "2022-06-24T08:49:38.077Z"
   },
   {
    "duration": 4,
    "start_time": "2022-06-24T08:49:50.912Z"
   },
   {
    "duration": 134,
    "start_time": "2022-06-24T08:49:58.670Z"
   },
   {
    "duration": 2202,
    "start_time": "2022-06-24T08:50:18.175Z"
   },
   {
    "duration": 134,
    "start_time": "2022-06-24T08:50:24.128Z"
   },
   {
    "duration": 144,
    "start_time": "2022-06-24T08:50:56.589Z"
   },
   {
    "duration": 21,
    "start_time": "2022-06-24T08:51:04.828Z"
   },
   {
    "duration": 7,
    "start_time": "2022-06-24T08:51:42.866Z"
   },
   {
    "duration": 808,
    "start_time": "2022-06-24T08:51:43.201Z"
   },
   {
    "duration": 15,
    "start_time": "2022-06-24T08:51:44.011Z"
   },
   {
    "duration": 150,
    "start_time": "2022-06-24T08:51:44.028Z"
   },
   {
    "duration": 4,
    "start_time": "2022-06-24T08:51:44.181Z"
   },
   {
    "duration": 6,
    "start_time": "2022-06-24T08:51:44.625Z"
   },
   {
    "duration": 316,
    "start_time": "2022-06-24T08:51:46.074Z"
   },
   {
    "duration": 2268,
    "start_time": "2022-06-24T08:51:47.020Z"
   },
   {
    "duration": 82239,
    "start_time": "2022-06-24T08:51:49.292Z"
   },
   {
    "duration": 643,
    "start_time": "2022-06-24T08:53:11.534Z"
   },
   {
    "duration": 12,
    "start_time": "2022-06-24T08:53:12.179Z"
   },
   {
    "duration": 7,
    "start_time": "2022-06-24T08:53:12.193Z"
   },
   {
    "duration": 44,
    "start_time": "2022-06-24T08:53:12.202Z"
   },
   {
    "duration": 8,
    "start_time": "2022-06-24T08:53:12.248Z"
   },
   {
    "duration": 43,
    "start_time": "2022-06-24T08:53:12.258Z"
   },
   {
    "duration": 14,
    "start_time": "2022-06-24T08:53:12.303Z"
   },
   {
    "duration": 1909,
    "start_time": "2022-06-24T08:53:12.319Z"
   },
   {
    "duration": 3,
    "start_time": "2022-06-24T08:53:14.230Z"
   },
   {
    "duration": 22,
    "start_time": "2022-06-24T08:53:29.124Z"
   },
   {
    "duration": 21,
    "start_time": "2022-06-24T08:53:44.572Z"
   },
   {
    "duration": 24,
    "start_time": "2022-06-24T08:53:50.083Z"
   },
   {
    "duration": 23,
    "start_time": "2022-06-24T08:54:49.916Z"
   },
   {
    "duration": 6,
    "start_time": "2022-06-24T08:58:08.718Z"
   },
   {
    "duration": 2,
    "start_time": "2022-06-24T08:58:43.657Z"
   },
   {
    "duration": 4,
    "start_time": "2022-06-24T08:58:46.915Z"
   },
   {
    "duration": 9,
    "start_time": "2022-06-24T08:58:48.176Z"
   },
   {
    "duration": 3,
    "start_time": "2022-06-24T08:59:00.184Z"
   },
   {
    "duration": 3,
    "start_time": "2022-06-24T08:59:04.878Z"
   },
   {
    "duration": 3,
    "start_time": "2022-06-24T08:59:07.994Z"
   },
   {
    "duration": 4,
    "start_time": "2022-06-24T08:59:11.654Z"
   },
   {
    "duration": 9,
    "start_time": "2022-06-24T08:59:14.173Z"
   },
   {
    "duration": 55,
    "start_time": "2022-06-24T09:02:39.072Z"
   },
   {
    "duration": 58,
    "start_time": "2022-06-24T09:03:00.350Z"
   },
   {
    "duration": 43,
    "start_time": "2022-06-24T09:04:01.988Z"
   },
   {
    "duration": 66,
    "start_time": "2022-06-24T09:04:33.829Z"
   },
   {
    "duration": 43,
    "start_time": "2022-06-24T09:06:01.726Z"
   },
   {
    "duration": 178,
    "start_time": "2022-06-24T09:09:11.081Z"
   },
   {
    "duration": 180,
    "start_time": "2022-06-24T09:09:20.681Z"
   },
   {
    "duration": 4400,
    "start_time": "2022-06-24T09:12:00.151Z"
   },
   {
    "duration": 5493,
    "start_time": "2022-06-24T09:12:37.262Z"
   },
   {
    "duration": 35,
    "start_time": "2022-06-24T09:13:00.389Z"
   },
   {
    "duration": 5575,
    "start_time": "2022-06-24T09:13:15.076Z"
   },
   {
    "duration": 5825,
    "start_time": "2022-06-24T09:13:45.935Z"
   },
   {
    "duration": 5622,
    "start_time": "2022-06-24T09:14:06.924Z"
   },
   {
    "duration": 5152,
    "start_time": "2022-06-24T09:14:24.103Z"
   },
   {
    "duration": 13,
    "start_time": "2022-06-24T09:15:03.213Z"
   },
   {
    "duration": 16,
    "start_time": "2022-06-24T09:15:26.785Z"
   },
   {
    "duration": 5621,
    "start_time": "2022-06-24T09:15:39.028Z"
   },
   {
    "duration": 231,
    "start_time": "2022-06-24T09:16:28.023Z"
   },
   {
    "duration": 110,
    "start_time": "2022-06-24T09:17:24.936Z"
   },
   {
    "duration": 106,
    "start_time": "2022-06-24T09:17:39.199Z"
   },
   {
    "duration": 5461,
    "start_time": "2022-06-24T09:17:53.185Z"
   },
   {
    "duration": 167,
    "start_time": "2022-06-24T09:18:02.091Z"
   },
   {
    "duration": 5601,
    "start_time": "2022-06-24T09:18:19.753Z"
   },
   {
    "duration": 224,
    "start_time": "2022-06-24T09:18:30.224Z"
   },
   {
    "duration": 5952,
    "start_time": "2022-06-24T09:18:39.101Z"
   },
   {
    "duration": 202,
    "start_time": "2022-06-24T09:18:47.075Z"
   },
   {
    "duration": 6184,
    "start_time": "2022-06-24T09:19:07.775Z"
   },
   {
    "duration": 162,
    "start_time": "2022-06-24T09:19:15.404Z"
   },
   {
    "duration": 6132,
    "start_time": "2022-06-24T09:19:25.189Z"
   },
   {
    "duration": 204,
    "start_time": "2022-06-24T09:19:32.499Z"
   },
   {
    "duration": 6762,
    "start_time": "2022-06-24T09:19:47.296Z"
   },
   {
    "duration": 270,
    "start_time": "2022-06-24T09:20:14.285Z"
   },
   {
    "duration": 6,
    "start_time": "2022-06-24T09:22:25.578Z"
   },
   {
    "duration": 803,
    "start_time": "2022-06-24T09:22:25.587Z"
   },
   {
    "duration": 12,
    "start_time": "2022-06-24T09:22:26.392Z"
   },
   {
    "duration": 137,
    "start_time": "2022-06-24T09:22:26.406Z"
   },
   {
    "duration": 4,
    "start_time": "2022-06-24T09:22:26.547Z"
   },
   {
    "duration": 10,
    "start_time": "2022-06-24T09:22:26.552Z"
   },
   {
    "duration": 355,
    "start_time": "2022-06-24T09:22:26.564Z"
   },
   {
    "duration": 2175,
    "start_time": "2022-06-24T09:22:26.922Z"
   },
   {
    "duration": 83166,
    "start_time": "2022-06-24T09:22:29.099Z"
   },
   {
    "duration": 611,
    "start_time": "2022-06-24T09:23:52.267Z"
   },
   {
    "duration": 11,
    "start_time": "2022-06-24T09:23:52.880Z"
   },
   {
    "duration": 14,
    "start_time": "2022-06-24T09:23:52.893Z"
   },
   {
    "duration": 36,
    "start_time": "2022-06-24T09:23:52.910Z"
   },
   {
    "duration": 8,
    "start_time": "2022-06-24T09:23:52.949Z"
   },
   {
    "duration": 37,
    "start_time": "2022-06-24T09:23:52.958Z"
   },
   {
    "duration": 6,
    "start_time": "2022-06-24T09:23:52.997Z"
   },
   {
    "duration": 1909,
    "start_time": "2022-06-24T09:23:53.005Z"
   },
   {
    "duration": 3,
    "start_time": "2022-06-24T09:23:54.916Z"
   },
   {
    "duration": 304130,
    "start_time": "2022-06-24T09:23:54.921Z"
   },
   {
    "duration": 3393,
    "start_time": "2022-06-24T09:28:59.053Z"
   },
   {
    "duration": 3,
    "start_time": "2022-06-24T09:29:02.448Z"
   },
   {
    "duration": 801867,
    "start_time": "2022-06-24T09:29:02.542Z"
   },
   {
    "duration": 44455,
    "start_time": "2022-06-24T09:42:24.411Z"
   },
   {
    "duration": 3,
    "start_time": "2022-06-24T09:43:08.868Z"
   },
   {
    "duration": 165783,
    "start_time": "2022-06-24T09:43:08.873Z"
   },
   {
    "duration": 62104,
    "start_time": "2022-06-24T09:45:54.659Z"
   },
   {
    "duration": 3,
    "start_time": "2022-06-24T09:46:56.766Z"
   },
   {
    "duration": 26,
    "start_time": "2022-06-24T09:46:56.771Z"
   },
   {
    "duration": 21,
    "start_time": "2022-06-24T09:47:19.453Z"
   },
   {
    "duration": 13,
    "start_time": "2022-06-24T09:47:47.800Z"
   },
   {
    "duration": 3,
    "start_time": "2022-06-24T09:50:15.185Z"
   },
   {
    "duration": 23,
    "start_time": "2022-06-24T09:53:35.829Z"
   },
   {
    "duration": 3,
    "start_time": "2022-06-24T09:53:46.516Z"
   },
   {
    "duration": 14866,
    "start_time": "2022-06-24T09:54:19.381Z"
   },
   {
    "duration": 17528,
    "start_time": "2022-06-24T09:55:59.018Z"
   },
   {
    "duration": 17460,
    "start_time": "2022-06-24T09:56:33.683Z"
   },
   {
    "duration": 14620,
    "start_time": "2022-06-24T09:58:10.626Z"
   },
   {
    "duration": 47,
    "start_time": "2022-06-24T09:59:55.854Z"
   },
   {
    "duration": 4,
    "start_time": "2022-06-24T10:03:18.181Z"
   },
   {
    "duration": 6,
    "start_time": "2022-06-24T10:03:35.779Z"
   },
   {
    "duration": 4,
    "start_time": "2022-06-24T10:07:19.154Z"
   },
   {
    "duration": 572049,
    "start_time": "2022-06-24T10:09:17.824Z"
   },
   {
    "duration": 14,
    "start_time": "2022-06-24T10:21:45.420Z"
   },
   {
    "duration": 13,
    "start_time": "2022-06-24T10:22:16.979Z"
   },
   {
    "duration": 11,
    "start_time": "2022-06-24T10:22:36.203Z"
   },
   {
    "duration": 5,
    "start_time": "2022-06-24T10:22:39.121Z"
   },
   {
    "duration": 9,
    "start_time": "2022-06-24T10:22:54.845Z"
   },
   {
    "duration": 116,
    "start_time": "2022-06-24T10:24:41.910Z"
   },
   {
    "duration": 13031,
    "start_time": "2022-06-24T10:25:43.286Z"
   },
   {
    "duration": 28,
    "start_time": "2022-06-24T10:26:35.861Z"
   },
   {
    "duration": 9,
    "start_time": "2022-06-24T10:26:37.010Z"
   },
   {
    "duration": 42,
    "start_time": "2022-06-24T10:26:38.065Z"
   },
   {
    "duration": 5,
    "start_time": "2022-06-24T10:26:39.275Z"
   },
   {
    "duration": 2021,
    "start_time": "2022-06-24T10:26:40.741Z"
   },
   {
    "duration": 2071,
    "start_time": "2022-06-24T10:26:48.496Z"
   },
   {
    "duration": 4,
    "start_time": "2022-06-24T10:26:50.569Z"
   },
   {
    "duration": 10,
    "start_time": "2022-06-24T10:26:53.771Z"
   },
   {
    "duration": 4,
    "start_time": "2022-06-24T10:26:58.573Z"
   },
   {
    "duration": 224237,
    "start_time": "2022-06-24T10:27:11.020Z"
   },
   {
    "duration": 4,
    "start_time": "2022-06-24T10:31:13.938Z"
   },
   {
    "duration": 4,
    "start_time": "2022-06-24T10:31:14.621Z"
   },
   {
    "duration": 14067,
    "start_time": "2022-06-24T10:31:16.782Z"
   },
   {
    "duration": 29,
    "start_time": "2022-06-24T10:31:57.140Z"
   },
   {
    "duration": 8,
    "start_time": "2022-06-24T10:31:58.352Z"
   },
   {
    "duration": 39,
    "start_time": "2022-06-24T10:31:58.809Z"
   },
   {
    "duration": 7,
    "start_time": "2022-06-24T10:31:59.145Z"
   },
   {
    "duration": 1975,
    "start_time": "2022-06-24T10:31:59.882Z"
   },
   {
    "duration": 5,
    "start_time": "2022-06-24T10:32:34.851Z"
   },
   {
    "duration": 27,
    "start_time": "2022-06-24T10:32:41.421Z"
   },
   {
    "duration": 10,
    "start_time": "2022-06-24T10:32:41.967Z"
   },
   {
    "duration": 40,
    "start_time": "2022-06-24T10:32:42.308Z"
   },
   {
    "duration": 7,
    "start_time": "2022-06-24T10:32:42.616Z"
   },
   {
    "duration": 1952,
    "start_time": "2022-06-24T10:32:42.877Z"
   },
   {
    "duration": 3,
    "start_time": "2022-06-24T10:33:01.902Z"
   },
   {
    "duration": 4,
    "start_time": "2022-06-24T10:33:09.518Z"
   },
   {
    "duration": 4,
    "start_time": "2022-06-24T10:33:13.133Z"
   },
   {
    "duration": 5,
    "start_time": "2022-06-24T10:33:13.549Z"
   },
   {
    "duration": 67469,
    "start_time": "2022-06-24T10:38:30.185Z"
   },
   {
    "duration": 14370,
    "start_time": "2022-06-24T10:39:44.550Z"
   },
   {
    "duration": 3,
    "start_time": "2022-06-24T10:39:58.923Z"
   },
   {
    "duration": 184,
    "start_time": "2022-06-24T10:41:46.785Z"
   },
   {
    "duration": 89,
    "start_time": "2022-06-24T10:41:51.753Z"
   },
   {
    "duration": 101,
    "start_time": "2022-06-24T10:42:21.419Z"
   },
   {
    "duration": 98,
    "start_time": "2022-06-24T10:43:12.398Z"
   },
   {
    "duration": 13263,
    "start_time": "2022-06-24T10:43:53.199Z"
   },
   {
    "duration": 15913,
    "start_time": "2022-06-24T10:44:44.771Z"
   },
   {
    "duration": 3,
    "start_time": "2022-06-24T10:45:04.370Z"
   },
   {
    "duration": 73492,
    "start_time": "2022-06-24T10:48:55.683Z"
   },
   {
    "duration": 17,
    "start_time": "2022-06-24T10:51:24.720Z"
   },
   {
    "duration": 24,
    "start_time": "2022-06-24T10:52:27.942Z"
   },
   {
    "duration": 1500,
    "start_time": "2022-06-24T10:52:42.924Z"
   },
   {
    "duration": 22103,
    "start_time": "2022-06-24T10:53:30.058Z"
   },
   {
    "duration": 3163,
    "start_time": "2022-06-24T10:54:52.599Z"
   },
   {
    "duration": 5,
    "start_time": "2022-06-24T10:54:59.055Z"
   },
   {
    "duration": 4,
    "start_time": "2022-06-24T10:55:24.656Z"
   },
   {
    "duration": 8,
    "start_time": "2022-06-24T10:59:43.180Z"
   },
   {
    "duration": 12,
    "start_time": "2022-06-24T10:59:53.786Z"
   },
   {
    "duration": 16,
    "start_time": "2022-06-24T10:59:57.318Z"
   },
   {
    "duration": 6,
    "start_time": "2022-06-24T11:01:02.291Z"
   },
   {
    "duration": 8085,
    "start_time": "2022-06-24T11:02:08.083Z"
   },
   {
    "duration": 8106,
    "start_time": "2022-06-24T11:02:33.991Z"
   },
   {
    "duration": 8057,
    "start_time": "2022-06-24T11:02:56.585Z"
   },
   {
    "duration": 12069,
    "start_time": "2022-06-24T11:03:11.638Z"
   },
   {
    "duration": 3366,
    "start_time": "2022-06-24T11:03:26.491Z"
   },
   {
    "duration": 2,
    "start_time": "2022-06-24T11:03:32.701Z"
   },
   {
    "duration": 74644,
    "start_time": "2022-06-24T11:08:39.290Z"
   },
   {
    "duration": 6,
    "start_time": "2022-06-24T11:10:25.800Z"
   },
   {
    "duration": 108,
    "start_time": "2022-06-24T11:11:23.754Z"
   },
   {
    "duration": 59816,
    "start_time": "2022-06-24T11:11:29.687Z"
   },
   {
    "duration": 12010,
    "start_time": "2022-06-24T11:13:02.259Z"
   },
   {
    "duration": 853493,
    "start_time": "2022-06-24T11:13:21.792Z"
   },
   {
    "duration": 39250,
    "start_time": "2022-06-24T11:29:51.299Z"
   },
   {
    "duration": 63,
    "start_time": "2022-06-24T11:33:56.049Z"
   },
   {
    "duration": 13,
    "start_time": "2022-06-24T11:34:29.868Z"
   },
   {
    "duration": 5,
    "start_time": "2022-06-24T11:35:03.044Z"
   },
   {
    "duration": 38,
    "start_time": "2022-06-24T11:35:36.633Z"
   },
   {
    "duration": 49359,
    "start_time": "2022-06-24T11:35:42.151Z"
   },
   {
    "duration": 107,
    "start_time": "2022-06-24T11:36:51.698Z"
   },
   {
    "duration": 129,
    "start_time": "2022-06-24T11:37:25.335Z"
   },
   {
    "duration": 12,
    "start_time": "2022-06-24T11:38:02.780Z"
   },
   {
    "duration": 80289,
    "start_time": "2022-06-24T11:39:03.097Z"
   },
   {
    "duration": 272,
    "start_time": "2022-06-24T11:40:23.389Z"
   },
   {
    "duration": 2409,
    "start_time": "2022-06-24T11:40:59.794Z"
   },
   {
    "duration": 26775,
    "start_time": "2022-06-24T11:42:13.852Z"
   },
   {
    "duration": 2342,
    "start_time": "2022-06-24T11:42:44.094Z"
   },
   {
    "duration": 3,
    "start_time": "2022-06-24T11:42:48.651Z"
   },
   {
    "duration": 909883,
    "start_time": "2022-06-24T11:43:07.974Z"
   },
   {
    "duration": 65868,
    "start_time": "2022-06-24T11:58:56.300Z"
   },
   {
    "duration": 7,
    "start_time": "2022-06-24T12:00:20.345Z"
   },
   {
    "duration": 801,
    "start_time": "2022-06-24T12:00:20.355Z"
   },
   {
    "duration": 13,
    "start_time": "2022-06-24T12:00:21.158Z"
   },
   {
    "duration": 134,
    "start_time": "2022-06-24T12:00:21.172Z"
   },
   {
    "duration": 3,
    "start_time": "2022-06-24T12:00:21.308Z"
   },
   {
    "duration": 12,
    "start_time": "2022-06-24T12:00:21.313Z"
   },
   {
    "duration": 308,
    "start_time": "2022-06-24T12:00:21.327Z"
   },
   {
    "duration": 2174,
    "start_time": "2022-06-24T12:00:21.641Z"
   },
   {
    "duration": 82043,
    "start_time": "2022-06-24T12:00:23.818Z"
   },
   {
    "duration": 630,
    "start_time": "2022-06-24T12:01:45.865Z"
   },
   {
    "duration": 11,
    "start_time": "2022-06-24T12:01:46.498Z"
   },
   {
    "duration": 14,
    "start_time": "2022-06-24T12:01:46.511Z"
   },
   {
    "duration": 38,
    "start_time": "2022-06-24T12:01:46.526Z"
   },
   {
    "duration": 7,
    "start_time": "2022-06-24T12:01:46.568Z"
   },
   {
    "duration": 39,
    "start_time": "2022-06-24T12:01:46.577Z"
   },
   {
    "duration": 32,
    "start_time": "2022-06-24T12:01:46.618Z"
   },
   {
    "duration": 2214,
    "start_time": "2022-06-24T12:01:46.652Z"
   },
   {
    "duration": 3,
    "start_time": "2022-06-24T12:01:48.868Z"
   },
   {
    "duration": 171873,
    "start_time": "2022-06-24T12:01:48.872Z"
   },
   {
    "duration": 7290,
    "start_time": "2022-06-24T12:04:40.747Z"
   },
   {
    "duration": 3,
    "start_time": "2022-06-24T12:04:48.039Z"
   },
   {
    "duration": 53,
    "start_time": "2022-06-24T12:04:48.045Z"
   },
   {
    "duration": 0,
    "start_time": "2022-06-24T12:04:48.100Z"
   },
   {
    "duration": 0,
    "start_time": "2022-06-24T12:04:48.103Z"
   },
   {
    "duration": 0,
    "start_time": "2022-06-24T12:04:48.104Z"
   },
   {
    "duration": 0,
    "start_time": "2022-06-24T12:04:48.106Z"
   },
   {
    "duration": 0,
    "start_time": "2022-06-24T12:04:48.107Z"
   },
   {
    "duration": 0,
    "start_time": "2022-06-24T12:04:48.109Z"
   },
   {
    "duration": 0,
    "start_time": "2022-06-24T12:04:48.111Z"
   },
   {
    "duration": 0,
    "start_time": "2022-06-24T12:04:48.112Z"
   },
   {
    "duration": 0,
    "start_time": "2022-06-24T12:04:48.113Z"
   },
   {
    "duration": 85535,
    "start_time": "2022-06-24T12:05:55.709Z"
   },
   {
    "duration": 2704,
    "start_time": "2022-06-24T12:07:21.247Z"
   },
   {
    "duration": 3,
    "start_time": "2022-06-24T12:07:23.953Z"
   },
   {
    "duration": 5683613,
    "start_time": "2022-06-24T12:07:23.958Z"
   },
   {
    "duration": 318682,
    "start_time": "2022-06-24T13:42:07.573Z"
   },
   {
    "duration": 3,
    "start_time": "2022-06-24T13:47:26.257Z"
   },
   {
    "duration": 84071,
    "start_time": "2022-06-24T13:47:26.261Z"
   },
   {
    "duration": 2486,
    "start_time": "2022-06-24T13:48:50.335Z"
   },
   {
    "duration": 3,
    "start_time": "2022-06-24T13:48:52.823Z"
   },
   {
    "duration": 27,
    "start_time": "2022-06-24T13:48:52.829Z"
   },
   {
    "duration": 11,
    "start_time": "2022-06-24T13:48:52.859Z"
   },
   {
    "duration": 50879,
    "start_time": "2022-06-24T17:48:52.462Z"
   },
   {
    "duration": 0,
    "start_time": "2022-06-24T17:49:43.343Z"
   },
   {
    "duration": 0,
    "start_time": "2022-06-24T17:49:43.344Z"
   },
   {
    "duration": 61570,
    "start_time": "2022-06-24T17:50:23.488Z"
   },
   {
    "duration": 120963,
    "start_time": "2022-06-24T17:51:45.704Z"
   },
   {
    "duration": 21446,
    "start_time": "2022-06-24T17:54:06.520Z"
   },
   {
    "duration": 238561,
    "start_time": "2022-06-24T17:54:42.000Z"
   },
   {
    "duration": 24211,
    "start_time": "2022-06-24T17:58:46.341Z"
   },
   {
    "duration": 16,
    "start_time": "2022-06-24T17:59:14.127Z"
   },
   {
    "duration": 6120,
    "start_time": "2022-06-24T18:00:04.413Z"
   },
   {
    "duration": 1675,
    "start_time": "2022-06-25T10:54:01.593Z"
   },
   {
    "duration": 3560,
    "start_time": "2022-06-25T10:54:03.270Z"
   },
   {
    "duration": 12,
    "start_time": "2022-06-25T10:54:06.831Z"
   },
   {
    "duration": 140,
    "start_time": "2022-06-25T10:54:06.845Z"
   },
   {
    "duration": 4,
    "start_time": "2022-06-25T10:54:06.987Z"
   },
   {
    "duration": 5,
    "start_time": "2022-06-25T10:54:11.336Z"
   },
   {
    "duration": 242,
    "start_time": "2022-06-25T10:54:12.995Z"
   },
   {
    "duration": 1941,
    "start_time": "2022-06-25T10:54:14.547Z"
   },
   {
    "duration": 78187,
    "start_time": "2022-06-25T10:54:16.490Z"
   },
   {
    "duration": 522,
    "start_time": "2022-06-25T10:55:34.680Z"
   },
   {
    "duration": 9,
    "start_time": "2022-06-25T10:55:35.204Z"
   },
   {
    "duration": 5,
    "start_time": "2022-06-25T10:55:35.215Z"
   },
   {
    "duration": 49,
    "start_time": "2022-06-25T10:55:35.222Z"
   },
   {
    "duration": 12,
    "start_time": "2022-06-25T10:55:35.274Z"
   },
   {
    "duration": 34,
    "start_time": "2022-06-25T10:55:35.288Z"
   },
   {
    "duration": 4,
    "start_time": "2022-06-25T10:55:35.323Z"
   },
   {
    "duration": 1802,
    "start_time": "2022-06-25T10:55:35.328Z"
   },
   {
    "duration": 5,
    "start_time": "2022-06-25T10:56:30.802Z"
   },
   {
    "duration": 696,
    "start_time": "2022-06-25T10:56:31.712Z"
   },
   {
    "duration": 10,
    "start_time": "2022-06-25T10:56:32.410Z"
   },
   {
    "duration": 97,
    "start_time": "2022-06-25T10:56:33.743Z"
   },
   {
    "duration": 3,
    "start_time": "2022-06-25T10:56:35.645Z"
   },
   {
    "duration": 5,
    "start_time": "2022-06-25T10:56:38.490Z"
   },
   {
    "duration": 269,
    "start_time": "2022-06-25T10:56:41.523Z"
   },
   {
    "duration": 1959,
    "start_time": "2022-06-25T10:56:42.307Z"
   },
   {
    "duration": 76354,
    "start_time": "2022-06-25T10:56:44.270Z"
   },
   {
    "duration": 557,
    "start_time": "2022-06-25T10:58:00.626Z"
   },
   {
    "duration": 9,
    "start_time": "2022-06-25T10:58:01.185Z"
   },
   {
    "duration": 8,
    "start_time": "2022-06-25T10:58:01.195Z"
   },
   {
    "duration": 32,
    "start_time": "2022-06-25T10:58:01.228Z"
   },
   {
    "duration": 30,
    "start_time": "2022-06-25T11:00:47.462Z"
   },
   {
    "duration": 7,
    "start_time": "2022-06-25T11:00:48.592Z"
   },
   {
    "duration": 5,
    "start_time": "2022-06-25T11:01:23.263Z"
   },
   {
    "duration": 7,
    "start_time": "2022-06-25T11:02:30.019Z"
   },
   {
    "duration": 4,
    "start_time": "2022-06-25T11:02:49.918Z"
   },
   {
    "duration": 6250,
    "start_time": "2022-06-25T11:02:51.446Z"
   },
   {
    "duration": 259,
    "start_time": "2022-06-25T11:05:24.428Z"
   },
   {
    "duration": 96,
    "start_time": "2022-06-25T11:05:45.499Z"
   },
   {
    "duration": 495947,
    "start_time": "2022-06-25T11:06:01.939Z"
   },
   {
    "duration": 31811,
    "start_time": "2022-06-25T11:14:17.888Z"
   },
   {
    "duration": 12,
    "start_time": "2022-06-25T11:16:48.666Z"
   },
   {
    "duration": 4,
    "start_time": "2022-06-25T11:16:59.637Z"
   },
   {
    "duration": 627621,
    "start_time": "2022-06-25T11:18:31.499Z"
   },
   {
    "duration": 43980,
    "start_time": "2022-06-25T11:29:17.981Z"
   },
   {
    "duration": 38800,
    "start_time": "2022-06-25T11:30:15.573Z"
   },
   {
    "duration": 35390,
    "start_time": "2022-06-25T11:31:20.627Z"
   },
   {
    "duration": 294075,
    "start_time": "2022-06-25T11:32:07.420Z"
   },
   {
    "duration": 28122,
    "start_time": "2022-06-25T11:37:01.497Z"
   },
   {
    "duration": 20,
    "start_time": "2022-06-25T11:37:29.621Z"
   },
   {
    "duration": 2,
    "start_time": "2022-06-25T11:37:44.275Z"
   },
   {
    "duration": 3,
    "start_time": "2022-06-25T11:37:48.435Z"
   },
   {
    "duration": 1551081,
    "start_time": "2022-06-25T11:37:52.114Z"
   },
   {
    "duration": 74,
    "start_time": "2022-06-25T12:03:43.197Z"
   },
   {
    "duration": 2,
    "start_time": "2022-06-25T12:03:43.273Z"
   },
   {
    "duration": 5,
    "start_time": "2022-06-25T12:03:46.533Z"
   },
   {
    "duration": 675,
    "start_time": "2022-06-25T12:03:46.541Z"
   },
   {
    "duration": 10,
    "start_time": "2022-06-25T12:03:47.218Z"
   },
   {
    "duration": 104,
    "start_time": "2022-06-25T12:03:47.229Z"
   },
   {
    "duration": 4,
    "start_time": "2022-06-25T12:03:47.335Z"
   },
   {
    "duration": 15,
    "start_time": "2022-06-25T12:03:47.340Z"
   },
   {
    "duration": 287,
    "start_time": "2022-06-25T12:03:47.360Z"
   },
   {
    "duration": 1739,
    "start_time": "2022-06-25T12:03:47.650Z"
   },
   {
    "duration": 66743,
    "start_time": "2022-06-25T12:03:49.390Z"
   },
   {
    "duration": 481,
    "start_time": "2022-06-25T12:04:56.134Z"
   },
   {
    "duration": 9,
    "start_time": "2022-06-25T12:04:56.618Z"
   },
   {
    "duration": 6,
    "start_time": "2022-06-25T12:04:56.628Z"
   },
   {
    "duration": 35,
    "start_time": "2022-06-25T12:04:56.635Z"
   },
   {
    "duration": 6,
    "start_time": "2022-06-25T12:04:56.671Z"
   },
   {
    "duration": 4,
    "start_time": "2022-06-25T12:04:56.678Z"
   },
   {
    "duration": 10,
    "start_time": "2022-06-25T12:04:56.684Z"
   },
   {
    "duration": 5776,
    "start_time": "2022-06-25T12:04:56.695Z"
   },
   {
    "duration": 2,
    "start_time": "2022-06-25T12:05:02.472Z"
   },
   {
    "duration": 764876,
    "start_time": "2022-06-25T12:05:02.476Z"
   },
   {
    "duration": 5,
    "start_time": "2022-06-25T12:17:47.353Z"
   },
   {
    "duration": 28642,
    "start_time": "2022-06-25T12:17:47.359Z"
   },
   {
    "duration": 3,
    "start_time": "2022-06-25T12:18:16.003Z"
   },
   {
    "duration": 6686125,
    "start_time": "2022-06-25T12:18:16.007Z"
   },
   {
    "duration": 446516,
    "start_time": "2022-06-25T14:09:42.133Z"
   },
   {
    "duration": 3,
    "start_time": "2022-06-25T14:17:08.651Z"
   },
   {
    "duration": 14120447,
    "start_time": "2022-06-25T14:17:08.656Z"
   },
   {
    "duration": 1416914,
    "start_time": "2022-06-25T18:12:29.105Z"
   },
   {
    "duration": 5,
    "start_time": "2022-06-25T18:36:06.022Z"
   },
   {
    "duration": 153461,
    "start_time": "2022-06-25T18:36:06.031Z"
   },
   {
    "duration": 0,
    "start_time": "2022-06-25T18:38:39.495Z"
   },
   {
    "duration": 0,
    "start_time": "2022-06-25T18:38:39.496Z"
   },
   {
    "duration": 0,
    "start_time": "2022-06-25T18:38:39.498Z"
   },
   {
    "duration": 7,
    "start_time": "2022-10-25T20:17:37.798Z"
   }
  ],
  "kernelspec": {
   "display_name": "Python 3 (ipykernel)",
   "language": "python",
   "name": "python3"
  },
  "language_info": {
   "codemirror_mode": {
    "name": "ipython",
    "version": 3
   },
   "file_extension": ".py",
   "mimetype": "text/x-python",
   "name": "python",
   "nbconvert_exporter": "python",
   "pygments_lexer": "ipython3",
   "version": "3.9.5"
  },
  "toc": {
   "base_numbering": 1,
   "nav_menu": {},
   "number_sections": true,
   "sideBar": true,
   "skip_h1_title": true,
   "title_cell": "Содержание",
   "title_sidebar": "Contents",
   "toc_cell": true,
   "toc_position": {
    "height": "calc(100% - 180px)",
    "left": "10px",
    "top": "150px",
    "width": "173.142px"
   },
   "toc_section_display": true,
   "toc_window_display": true
  }
 },
 "nbformat": 4,
 "nbformat_minor": 2
}
