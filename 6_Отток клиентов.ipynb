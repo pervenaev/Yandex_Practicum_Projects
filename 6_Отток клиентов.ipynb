{
 "cells": [
  {
   "cell_type": "markdown",
   "metadata": {},
   "source": [
    "# Отток клиентов"
   ]
  },
  {
   "cell_type": "markdown",
   "metadata": {},
   "source": [
    "Из «Бета-Банка» стали уходить клиенты. Каждый месяц. Немного, но заметно. Банковские маркетологи посчитали: сохранять текущих клиентов дешевле, чем привлекать новых.\n",
    "\n",
    "Нужно спрогнозировать, уйдёт клиент из банка в ближайшее время или нет. Вам предоставлены исторические данные о поведении клиентов и расторжении договоров с банком. \n",
    "\n",
    "Постройте модель с предельно большим значением *F1*-меры. Чтобы сдать проект успешно, нужно довести метрику до 0.59. Проверьте *F1*-меру на тестовой выборке самостоятельно.\n",
    "\n",
    "Дополнительно измеряйте *AUC-ROC*, сравнивайте её значение с *F1*-мерой.\n",
    "\n",
    "Источник данных: [https://www.kaggle.com/barelydedicated/bank-customer-churn-modeling](https://www.kaggle.com/barelydedicated/bank-customer-churn-modeling)"
   ]
  },
  {
   "cell_type": "markdown",
   "metadata": {},
   "source": [
    "## Подготовка данных"
   ]
  },
  {
   "cell_type": "markdown",
   "metadata": {},
   "source": [
    "Импортируем необходимые для работы библиотеки и инструменты:"
   ]
  },
  {
   "cell_type": "code",
   "execution_count": 1,
   "metadata": {},
   "outputs": [],
   "source": [
    "import pandas as pd\n",
    "import numpy as np\n",
    "import matplotlib.pyplot as plt\n",
    "from sklearn.tree import DecisionTreeClassifier\n",
    "from sklearn.ensemble import RandomForestClassifier\n",
    "from sklearn.linear_model import LogisticRegression\n",
    "from sklearn.model_selection import train_test_split\n",
    "from sklearn.preprocessing import StandardScaler\n",
    "from sklearn.utils import shuffle\n",
    "from sklearn.metrics import accuracy_score, precision_score, recall_score, roc_auc_score, roc_curve, f1_score\n",
    "import warnings\n",
    "warnings.filterwarnings('ignore') # команда-блокиратор предупреждений"
   ]
  },
  {
   "cell_type": "markdown",
   "metadata": {},
   "source": [
    "Загрузим данные и ознакомимся с ними:"
   ]
  },
  {
   "cell_type": "code",
   "execution_count": 2,
   "metadata": {},
   "outputs": [
    {
     "data": {
      "text/html": [
       "<div>\n",
       "<style scoped>\n",
       "    .dataframe tbody tr th:only-of-type {\n",
       "        vertical-align: middle;\n",
       "    }\n",
       "\n",
       "    .dataframe tbody tr th {\n",
       "        vertical-align: top;\n",
       "    }\n",
       "\n",
       "    .dataframe thead th {\n",
       "        text-align: right;\n",
       "    }\n",
       "</style>\n",
       "<table border=\"1\" class=\"dataframe\">\n",
       "  <thead>\n",
       "    <tr style=\"text-align: right;\">\n",
       "      <th></th>\n",
       "      <th>RowNumber</th>\n",
       "      <th>CustomerId</th>\n",
       "      <th>Surname</th>\n",
       "      <th>CreditScore</th>\n",
       "      <th>Geography</th>\n",
       "      <th>Gender</th>\n",
       "      <th>Age</th>\n",
       "      <th>Tenure</th>\n",
       "      <th>Balance</th>\n",
       "      <th>NumOfProducts</th>\n",
       "      <th>HasCrCard</th>\n",
       "      <th>IsActiveMember</th>\n",
       "      <th>EstimatedSalary</th>\n",
       "      <th>Exited</th>\n",
       "    </tr>\n",
       "  </thead>\n",
       "  <tbody>\n",
       "    <tr>\n",
       "      <th>2947</th>\n",
       "      <td>2948</td>\n",
       "      <td>15793813</td>\n",
       "      <td>Onochie</td>\n",
       "      <td>774</td>\n",
       "      <td>France</td>\n",
       "      <td>Male</td>\n",
       "      <td>36</td>\n",
       "      <td>7.0</td>\n",
       "      <td>103688.19</td>\n",
       "      <td>1</td>\n",
       "      <td>0</td>\n",
       "      <td>1</td>\n",
       "      <td>118971.74</td>\n",
       "      <td>0</td>\n",
       "    </tr>\n",
       "    <tr>\n",
       "      <th>8722</th>\n",
       "      <td>8723</td>\n",
       "      <td>15718667</td>\n",
       "      <td>T'ien</td>\n",
       "      <td>621</td>\n",
       "      <td>France</td>\n",
       "      <td>Male</td>\n",
       "      <td>35</td>\n",
       "      <td>7.0</td>\n",
       "      <td>87619.29</td>\n",
       "      <td>1</td>\n",
       "      <td>1</td>\n",
       "      <td>0</td>\n",
       "      <td>143.34</td>\n",
       "      <td>0</td>\n",
       "    </tr>\n",
       "    <tr>\n",
       "      <th>5692</th>\n",
       "      <td>5693</td>\n",
       "      <td>15662662</td>\n",
       "      <td>Duigan</td>\n",
       "      <td>573</td>\n",
       "      <td>France</td>\n",
       "      <td>Female</td>\n",
       "      <td>30</td>\n",
       "      <td>6.0</td>\n",
       "      <td>0.00</td>\n",
       "      <td>2</td>\n",
       "      <td>1</td>\n",
       "      <td>0</td>\n",
       "      <td>66190.21</td>\n",
       "      <td>0</td>\n",
       "    </tr>\n",
       "    <tr>\n",
       "      <th>7119</th>\n",
       "      <td>7120</td>\n",
       "      <td>15636478</td>\n",
       "      <td>Williams</td>\n",
       "      <td>621</td>\n",
       "      <td>France</td>\n",
       "      <td>Male</td>\n",
       "      <td>31</td>\n",
       "      <td>7.0</td>\n",
       "      <td>136658.61</td>\n",
       "      <td>1</td>\n",
       "      <td>1</td>\n",
       "      <td>1</td>\n",
       "      <td>148689.13</td>\n",
       "      <td>0</td>\n",
       "    </tr>\n",
       "    <tr>\n",
       "      <th>1843</th>\n",
       "      <td>1844</td>\n",
       "      <td>15769346</td>\n",
       "      <td>Baird</td>\n",
       "      <td>587</td>\n",
       "      <td>France</td>\n",
       "      <td>Female</td>\n",
       "      <td>36</td>\n",
       "      <td>1.0</td>\n",
       "      <td>134997.49</td>\n",
       "      <td>2</td>\n",
       "      <td>1</td>\n",
       "      <td>0</td>\n",
       "      <td>44688.08</td>\n",
       "      <td>0</td>\n",
       "    </tr>\n",
       "  </tbody>\n",
       "</table>\n",
       "</div>"
      ],
      "text/plain": [
       "      RowNumber  CustomerId   Surname  CreditScore Geography  Gender  Age  \\\n",
       "2947       2948    15793813   Onochie          774    France    Male   36   \n",
       "8722       8723    15718667     T'ien          621    France    Male   35   \n",
       "5692       5693    15662662    Duigan          573    France  Female   30   \n",
       "7119       7120    15636478  Williams          621    France    Male   31   \n",
       "1843       1844    15769346     Baird          587    France  Female   36   \n",
       "\n",
       "      Tenure    Balance  NumOfProducts  HasCrCard  IsActiveMember  \\\n",
       "2947     7.0  103688.19              1          0               1   \n",
       "8722     7.0   87619.29              1          1               0   \n",
       "5692     6.0       0.00              2          1               0   \n",
       "7119     7.0  136658.61              1          1               1   \n",
       "1843     1.0  134997.49              2          1               0   \n",
       "\n",
       "      EstimatedSalary  Exited  \n",
       "2947        118971.74       0  \n",
       "8722           143.34       0  \n",
       "5692         66190.21       0  \n",
       "7119        148689.13       0  \n",
       "1843         44688.08       0  "
      ]
     },
     "metadata": {},
     "output_type": "display_data"
    },
    {
     "name": "stdout",
     "output_type": "stream",
     "text": [
      "<class 'pandas.core.frame.DataFrame'>\n",
      "RangeIndex: 10000 entries, 0 to 9999\n",
      "Data columns (total 14 columns):\n",
      " #   Column           Non-Null Count  Dtype  \n",
      "---  ------           --------------  -----  \n",
      " 0   RowNumber        10000 non-null  int64  \n",
      " 1   CustomerId       10000 non-null  int64  \n",
      " 2   Surname          10000 non-null  object \n",
      " 3   CreditScore      10000 non-null  int64  \n",
      " 4   Geography        10000 non-null  object \n",
      " 5   Gender           10000 non-null  object \n",
      " 6   Age              10000 non-null  int64  \n",
      " 7   Tenure           9091 non-null   float64\n",
      " 8   Balance          10000 non-null  float64\n",
      " 9   NumOfProducts    10000 non-null  int64  \n",
      " 10  HasCrCard        10000 non-null  int64  \n",
      " 11  IsActiveMember   10000 non-null  int64  \n",
      " 12  EstimatedSalary  10000 non-null  float64\n",
      " 13  Exited           10000 non-null  int64  \n",
      "dtypes: float64(3), int64(8), object(3)\n",
      "memory usage: 1.1+ MB\n"
     ]
    }
   ],
   "source": [
    "data = pd.read_csv('/datasets/Churn.csv')\n",
    "display(data.sample(5))\n",
    "data.info()"
   ]
  },
  {
   "cell_type": "markdown",
   "metadata": {},
   "source": [
    "Определим объем работы по подготовке полученных данных:\n",
    "- данные столбцов RowNumber, CustomerId, Surname не несут полезной информации, можем их удалить;\n",
    "- пропущенных значений в столбце Tenure (сколько лет человек является клиентом банка) немного, чуть менее 10%, можем их заменить на 0;\n",
    "- категориальные значения столбцов Geography, Gender преобразуем в количественные методом OHE;\n",
    "- разобьем данные на 3 выборки: тренировочную, валидационную и тестовую в соотношении 3:1:1;\n",
    "- проведем масштабирование признаков всех 3-ех выборок"
   ]
  },
  {
   "cell_type": "code",
   "execution_count": 3,
   "metadata": {},
   "outputs": [],
   "source": [
    "# удаляем ненужные столбцы\n",
    "data.drop(['RowNumber', 'CustomerId', 'Surname'], axis='columns', inplace=True)\n",
    "\n",
    "# заменяем пропуски на 0\n",
    "data['Tenure'] = data['Tenure'].fillna(0).astype('int64')\n",
    "\n",
    "# преобразуем категориальные признаки в количественные \n",
    "data_ohe = pd.get_dummies(data, drop_first=True)"
   ]
  },
  {
   "cell_type": "markdown",
   "metadata": {},
   "source": [
    "Целевой признак в задаче - Exited, в соответствии с этим создадим переменные target и features и разобьем данные на 3 выборки: "
   ]
  },
  {
   "cell_type": "code",
   "execution_count": 4,
   "metadata": {},
   "outputs": [],
   "source": [
    "target = data_ohe['Exited']\n",
    "features = data_ohe.drop('Exited', axis=1)\n",
    "\n",
    "features_train, features_rest, target_train, target_rest = train_test_split(features, target, test_size=0.4, random_state=12345)\n",
    "features_valid, features_test, target_valid, target_test = train_test_split(features_rest, target_rest, test_size=0.5, random_state=12345)"
   ]
  },
  {
   "cell_type": "markdown",
   "metadata": {},
   "source": [
    "Проверим соотношение получившихся выборок:"
   ]
  },
  {
   "cell_type": "code",
   "execution_count": 5,
   "metadata": {},
   "outputs": [
    {
     "name": "stdout",
     "output_type": "stream",
     "text": [
      "Обучающая часть: (6000, 11)\n",
      "Валидационная часть: (2000, 11)\n",
      "Тестовая часть: (2000, 11)\n"
     ]
    }
   ],
   "source": [
    "print(\"Обучающая часть:\", features_train.shape)\n",
    "print(\"Валидационная часть:\", features_valid.shape)\n",
    "print(\"Тестовая часть:\", features_test.shape)"
   ]
  },
  {
   "cell_type": "markdown",
   "metadata": {},
   "source": [
    "Масштабируем признаки методом стандартизации:"
   ]
  },
  {
   "cell_type": "code",
   "execution_count": 6,
   "metadata": {},
   "outputs": [],
   "source": [
    "numeric = ['CreditScore', 'Age', 'Tenure', 'Balance', 'NumOfProducts', 'EstimatedSalary']\n",
    "\n",
    "scaler = StandardScaler()\n",
    "scaler.fit(features_train[numeric])\n",
    "features_train[numeric] = scaler.transform(features_train[numeric])\n",
    "features_valid[numeric] = scaler.transform(features_valid[numeric])\n",
    "features_test[numeric] = scaler.transform(features_test[numeric])"
   ]
  },
  {
   "cell_type": "markdown",
   "metadata": {},
   "source": [
    "Этап подготовки завершен, данные готовы для дальнейшего использования."
   ]
  },
  {
   "cell_type": "markdown",
   "metadata": {},
   "source": [
    "## Исследование задачи"
   ]
  },
  {
   "cell_type": "markdown",
   "metadata": {},
   "source": [
    "Проведем обучение моделей, поочередно задействуя модели \"Дерево решений\", \"Случайный лес\" и \"Логистическая регрессия\": \n",
    "\n",
    "### \"Дерево решений\"\n",
    "\n",
    "Для проверки этой модели реализуем через цикл перебор значений max_depth от 1 до 30 и отберем лучшее значение по параметру F1:"
   ]
  },
  {
   "cell_type": "code",
   "execution_count": 7,
   "metadata": {},
   "outputs": [
    {
     "name": "stdout",
     "output_type": "stream",
     "text": [
      "F1 наилучшей модели на валидационной выборке: ~ 0.57865\n",
      "Оптимальная глубина дерева: 9\n"
     ]
    }
   ],
   "source": [
    "f1_best = 0\n",
    "depth_best = 0\n",
    "for depth in range(1, 30):\n",
    "    model = DecisionTreeClassifier(random_state=12345, max_depth=depth)\n",
    "    model.fit(features_train, target_train)\n",
    "    prediction = model.predict(features_valid)\n",
    "    f1 = f1_score(target_valid, prediction)\n",
    "    if f1 > f1_best:\n",
    "            f1_best = f1\n",
    "            depth_best = depth\n",
    "print(f\"F1 наилучшей модели на валидационной выборке: ~ {f1_best:.5f}\")\n",
    "print(\"Оптимальная глубина дерева:\", depth_best) "
   ]
  },
  {
   "cell_type": "markdown",
   "metadata": {},
   "source": [
    "Подсчитаем значения accuracy, precision, recall и AUC_ROC по полученным гиперпараметрам:"
   ]
  },
  {
   "cell_type": "code",
   "execution_count": 8,
   "metadata": {
    "scrolled": true
   },
   "outputs": [
    {
     "name": "stdout",
     "output_type": "stream",
     "text": [
      "Accuracy ~ 0.85000\n",
      "Precision ~ 0.70068\n",
      "Recall ~ 0.49282\n",
      "AUC-ROC ~ 0.78997\n"
     ]
    }
   ],
   "source": [
    "model = DecisionTreeClassifier(random_state=12345, max_depth=depth_best)\n",
    "model.fit(features_train, target_train)\n",
    "prediction = model.predict(features_valid)\n",
    "print(f\"Accuracy ~ {accuracy_score(target_valid, prediction):.5f}\")\n",
    "print(f\"Precision ~ {precision_score(target_valid, prediction):.5f}\")\n",
    "print(f\"Recall ~ {recall_score(target_valid, prediction):.5f}\")\n",
    "print(f\"AUC-ROC ~ {roc_auc_score(target_valid, model.predict_proba(features_valid)[:, 1]):.5f}\")"
   ]
  },
  {
   "cell_type": "markdown",
   "metadata": {},
   "source": [
    "### \"Случайный лес\"\n",
    "\n",
    "Для проверки этой модели реализуем через цикл перебор значений n_estimators от 1 до 100 и max_depth от 1 до 30, отберем лучшее значение по параметру F1:\n",
    "\n",
    "*P.S. В конечном коде сократил длину циклов для уменьшения времени работы ядра*"
   ]
  },
  {
   "cell_type": "code",
   "execution_count": 9,
   "metadata": {},
   "outputs": [
    {
     "name": "stdout",
     "output_type": "stream",
     "text": [
      "F1 наилучшей модели на валидационной выборке: ~ 0.59760\n",
      "Оптимальное количество деревьев: 43\n",
      "Оптимальная глубина дерева: 12\n"
     ]
    }
   ],
   "source": [
    "f1_best = 0\n",
    "est_best = 0\n",
    "depth_best = 0\n",
    "for est in range (43, 44):\n",
    "    for depth in range(12, 13):\n",
    "        model = RandomForestClassifier(n_estimators=est, max_depth=depth, random_state=12345)\n",
    "        model.fit(features_train, target_train)\n",
    "        prediction = model.predict(features_valid)\n",
    "        f1 = f1_score(target_valid, prediction)\n",
    "        if f1 > f1_best:\n",
    "            f1_best = f1\n",
    "            est_best = est\n",
    "            depth_best = depth\n",
    "             \n",
    "print(f\"F1 наилучшей модели на валидационной выборке: ~ {f1_best:.5f}\")\n",
    "print(\"Оптимальное количество деревьев:\", est_best)         \n",
    "print(\"Оптимальная глубина дерева:\", depth_best)   "
   ]
  },
  {
   "cell_type": "markdown",
   "metadata": {},
   "source": [
    "Подсчитаем значения accuracy, precision, recall и AUC_ROC по полученным гиперпараметрам:"
   ]
  },
  {
   "cell_type": "code",
   "execution_count": 10,
   "metadata": {},
   "outputs": [
    {
     "name": "stdout",
     "output_type": "stream",
     "text": [
      "Accuracy ~ 0.86600\n",
      "Precision ~ 0.80242\n",
      "Recall ~ 0.47608\n",
      "AUC-ROC ~ 0.84210\n"
     ]
    }
   ],
   "source": [
    "model = RandomForestClassifier(n_estimators=est_best, max_depth=depth_best, random_state=12345)\n",
    "model.fit(features_train, target_train)\n",
    "prediction = model.predict(features_valid)\n",
    "print(f\"Accuracy ~ {accuracy_score(target_valid, prediction):.5f}\")\n",
    "print(f\"Precision ~ {precision_score(target_valid, prediction):.5f}\")\n",
    "print(f\"Recall ~ {recall_score(target_valid, prediction):.5f}\")\n",
    "print(f\"AUC-ROC ~ {roc_auc_score(target_valid, model.predict_proba(features_valid)[:, 1]):.5f}\")"
   ]
  },
  {
   "cell_type": "markdown",
   "metadata": {},
   "source": [
    "### \"Логистическая регрессия\"\n",
    "\n",
    "Гиперпараметры этой модели настраивать не нужно, инициализируем модель, обучим её и подсчитаем значения F1, accuracy, precision, recall и AUC_ROC:"
   ]
  },
  {
   "cell_type": "code",
   "execution_count": 11,
   "metadata": {
    "scrolled": true
   },
   "outputs": [
    {
     "name": "stdout",
     "output_type": "stream",
     "text": [
      "F1 ~ 0.33390\n",
      "Accuracy ~ 0.80250\n",
      "Precision ~ 0.56571\n",
      "Recall ~ 0.23684\n",
      "AUC-ROC ~ 0.75863\n"
     ]
    }
   ],
   "source": [
    "model = LogisticRegression(random_state=12345, solver='liblinear')\n",
    "model.fit(features_train, target_train)\n",
    "prediction = model.predict(features_valid)\n",
    "print(f\"F1 ~ {f1_score(target_valid, prediction):.5f}\")\n",
    "print(f\"Accuracy ~ {accuracy_score(target_valid, prediction):.5f}\")\n",
    "print(f\"Precision ~ {precision_score(target_valid, prediction):.5f}\")\n",
    "print(f\"Recall ~ {recall_score(target_valid, prediction):.5f}\")\n",
    "print(f\"AUC-ROC ~ {roc_auc_score(target_valid, model.predict_proba(features_valid)[:, 1]):.5f}\")"
   ]
  },
  {
   "cell_type": "markdown",
   "metadata": {},
   "source": [
    "**ВЫВОД:**\n",
    "- Наиболее удачным показала себя модель \"Случайного леса\" с гиперпараметрами n_estimators=43, max_depth=12, показатель F1 оказался чуть выше заданных 0,59\n",
    "- Показатель recall у всех моделей оказался значительно ниже precision, что влияет на значение F1\n",
    "- Такое расхождение указывает на несбалансированность данных, следует это выяснить и максимально возможно уравновесить значения, вероятно в результате удастся достичь более высоких показателей F1"
   ]
  },
  {
   "cell_type": "markdown",
   "metadata": {},
   "source": [
    "## Борьба с дисбалансом"
   ]
  },
  {
   "cell_type": "markdown",
   "metadata": {},
   "source": [
    "Исследуем целевой признак на баланс данных:"
   ]
  },
  {
   "cell_type": "code",
   "execution_count": 12,
   "metadata": {},
   "outputs": [
    {
     "data": {
      "text/plain": [
       "0    7963\n",
       "1    2037\n",
       "Name: Exited, dtype: int64"
      ]
     },
     "execution_count": 12,
     "metadata": {},
     "output_type": "execute_result"
    },
    {
     "data": {
      "image/png": "[encoded data removed]",
      "text/plain": [
       "<Figure size 720x216 with 1 Axes>"
      ]
     },
     "metadata": {
      "needs_background": "light"
     },
     "output_type": "display_data"
    }
   ],
   "source": [
    "data_ohe['Exited'].value_counts().plot(kind='bar', grid=True, figsize=(10, 3),title='Соотношение оставшихся и ушедших клиентов')\n",
    "data_ohe['Exited'].value_counts()"
   ]
  },
  {
   "cell_type": "markdown",
   "metadata": {},
   "source": [
    "В данных наблюдается очевидный дисбаланс, соотношение 4:1. Попробуем поэксперементировать с балансом данных при помощи различных инструментов (class_weight='balanced', Upsampling, Downsampling) с целью повысить значение показателя F1:\n",
    "\n",
    "### Параметр автоматической регулировки весов (class_weight)\n",
    "\n",
    "#### \"Дерево решений\""
   ]
  },
  {
   "cell_type": "code",
   "execution_count": 13,
   "metadata": {},
   "outputs": [
    {
     "name": "stdout",
     "output_type": "stream",
     "text": [
      "F1 наилучшей модели на валидационной выборке: ~ 0.59638\n",
      "Оптимальная глубина дерева: 5\n"
     ]
    }
   ],
   "source": [
    "f1_best = 0\n",
    "depth_best = 0\n",
    "for depth in range(1, 30):\n",
    "    model = DecisionTreeClassifier(random_state=12345, max_depth=depth, class_weight='balanced')\n",
    "    model.fit(features_train, target_train)\n",
    "    prediction = model.predict(features_valid)\n",
    "    f1 = f1_score(target_valid, prediction)\n",
    "    if f1 > f1_best:\n",
    "            f1_best = f1\n",
    "            depth_best = depth\n",
    "print(f\"F1 наилучшей модели на валидационной выборке: ~ {f1_best:.5f}\")\n",
    "print(\"Оптимальная глубина дерева:\", depth_best) "
   ]
  },
  {
   "cell_type": "markdown",
   "metadata": {},
   "source": [
    "#### \"Случайный лес\""
   ]
  },
  {
   "cell_type": "code",
   "execution_count": 14,
   "metadata": {},
   "outputs": [
    {
     "name": "stdout",
     "output_type": "stream",
     "text": [
      "F1 наилучшей модели на валидационной выборке: ~ 0.62227\n",
      "Оптимальное количество деревьев: 79\n",
      "Оптимальная глубина дерева: 8\n"
     ]
    }
   ],
   "source": [
    "f1_best = 0\n",
    "est_best = 0\n",
    "depth_best = 0\n",
    "for est in range (79, 80):\n",
    "    for depth in range(8, 9):\n",
    "        model = RandomForestClassifier(n_estimators=est, max_depth=depth, random_state=12345, class_weight='balanced')\n",
    "        model.fit(features_train, target_train)\n",
    "        prediction = model.predict(features_valid)\n",
    "        f1 = f1_score(target_valid, prediction)\n",
    "        if f1 > f1_best:\n",
    "            f1_best = f1\n",
    "            est_best = est\n",
    "            depth_best = depth\n",
    "             \n",
    "print(f\"F1 наилучшей модели на валидационной выборке: ~ {f1_best:.5f}\")\n",
    "print(\"Оптимальное количество деревьев:\", est_best)         \n",
    "print(\"Оптимальная глубина дерева:\", depth_best)   "
   ]
  },
  {
   "cell_type": "markdown",
   "metadata": {},
   "source": [
    "#### \"Логистическая регрессия\""
   ]
  },
  {
   "cell_type": "code",
   "execution_count": 15,
   "metadata": {},
   "outputs": [
    {
     "name": "stdout",
     "output_type": "stream",
     "text": [
      "F1 ~ 0.48889\n"
     ]
    }
   ],
   "source": [
    "model = LogisticRegression(random_state=12345, solver='liblinear', class_weight='balanced')\n",
    "model.fit(features_train, target_train)\n",
    "prediction = model.predict(features_valid)\n",
    "print(f\"F1 ~ {f1_score(target_valid, prediction):.5f}\")"
   ]
  },
  {
   "cell_type": "markdown",
   "metadata": {},
   "source": [
    "**ВЫВОД:**\n",
    "\n",
    "Использование параметра автоматической регулировки весов позволил увеличить показатель F1 у всех моделей, однако лучше всего, как и в предыдущем пункте, себя показала модель \"Случайный лес\", удалось повысить **F1** до **~ 0.63676**"
   ]
  },
  {
   "cell_type": "markdown",
   "metadata": {},
   "source": [
    "### Метод Upsampling (увеличение выборки)\n",
    "\n",
    "Напишем собственную функцию для увеличение выборки:"
   ]
  },
  {
   "cell_type": "code",
   "execution_count": 16,
   "metadata": {},
   "outputs": [],
   "source": [
    "def upsample(features, target, repeat):\n",
    "    # Разделяем выборку по значениям целевой функции\n",
    "    features_zeros = features[target == 0]\n",
    "    features_ones = features[target == 1]\n",
    "    target_zeros = target[target == 0]\n",
    "    target_ones = target[target == 1]\n",
    "    \n",
    "    # Увеличиваем и соединяем обратно\n",
    "    features_upsampled = pd.concat([features_zeros] + [features_ones] * repeat)\n",
    "    target_upsampled = pd.concat([target_zeros] + [target_ones] * repeat)\n",
    "    \n",
    "    # Перемешиваем\n",
    "    features_upsampled, target_upsampled = shuffle(\n",
    "        features_upsampled, target_upsampled, random_state=12345)\n",
    "    \n",
    "    return features_upsampled, target_upsampled"
   ]
  },
  {
   "cell_type": "markdown",
   "metadata": {},
   "source": [
    "Используем функцию для увеличения выборки в 4 раза и проверим их соотношение:"
   ]
  },
  {
   "cell_type": "code",
   "execution_count": 17,
   "metadata": {},
   "outputs": [
    {
     "name": "stdout",
     "output_type": "stream",
     "text": [
      "9588\n",
      "9588\n"
     ]
    }
   ],
   "source": [
    "features_upsampled, target_upsampled = upsample(features_train, target_train, 4)\n",
    "print(features_upsampled.shape[0])\n",
    "print(target_upsampled.shape[0])"
   ]
  },
  {
   "cell_type": "markdown",
   "metadata": {},
   "source": [
    "Теперь воспользуемся полученными выборками и проведем обучение моделей:\n",
    "\n",
    "#### \"Дерево решений\""
   ]
  },
  {
   "cell_type": "code",
   "execution_count": 18,
   "metadata": {},
   "outputs": [
    {
     "name": "stdout",
     "output_type": "stream",
     "text": [
      "F1 наилучшей модели на валидационной выборке: ~ 0.59638\n",
      "Оптимальная глубина дерева: 5\n"
     ]
    }
   ],
   "source": [
    "f1_best = 0\n",
    "depth_best = 0\n",
    "for depth in range(1, 30):\n",
    "    model = DecisionTreeClassifier(random_state=12345, max_depth=depth)\n",
    "    model.fit(features_upsampled, target_upsampled)\n",
    "    prediction = model.predict(features_valid)\n",
    "    f1 = f1_score(target_valid, prediction)\n",
    "    if f1 > f1_best:\n",
    "            f1_best = f1\n",
    "            depth_best = depth\n",
    "print(f\"F1 наилучшей модели на валидационной выборке: ~ {f1_best:.5f}\")\n",
    "print(\"Оптимальная глубина дерева:\", depth_best) "
   ]
  },
  {
   "cell_type": "markdown",
   "metadata": {},
   "source": [
    "#### \"Случайный лес\""
   ]
  },
  {
   "cell_type": "code",
   "execution_count": 19,
   "metadata": {},
   "outputs": [
    {
     "name": "stdout",
     "output_type": "stream",
     "text": [
      "F1 наилучшей модели на валидационной выборке: ~ 0.63260\n",
      "Оптимальное количество деревьев: 57\n",
      "Оптимальная глубина дерева: 13\n"
     ]
    }
   ],
   "source": [
    "f1_best = 0\n",
    "est_best = 0\n",
    "depth_best = 0\n",
    "for est in range (57, 58):\n",
    "    for depth in range(13, 14):\n",
    "        model = RandomForestClassifier(n_estimators=est, max_depth=depth, random_state=12345)\n",
    "        model.fit(features_upsampled, target_upsampled)\n",
    "        prediction = model.predict(features_valid)\n",
    "        f1 = f1_score(target_valid, prediction)\n",
    "        if f1 > f1_best:\n",
    "            f1_best = f1\n",
    "            est_best = est\n",
    "            depth_best = depth\n",
    "             \n",
    "print(f\"F1 наилучшей модели на валидационной выборке: ~ {f1_best:.5f}\")\n",
    "print(\"Оптимальное количество деревьев:\", est_best)         \n",
    "print(\"Оптимальная глубина дерева:\", depth_best)   "
   ]
  },
  {
   "cell_type": "markdown",
   "metadata": {},
   "source": [
    "#### \"Логистическая регрессия\""
   ]
  },
  {
   "cell_type": "code",
   "execution_count": 20,
   "metadata": {},
   "outputs": [
    {
     "name": "stdout",
     "output_type": "stream",
     "text": [
      "F1 ~ 0.48889\n"
     ]
    }
   ],
   "source": [
    "model = LogisticRegression(random_state=12345, solver='liblinear')\n",
    "model.fit(features_upsampled, target_upsampled)\n",
    "prediction = model.predict(features_valid)\n",
    "print(f\"F1 ~ {f1_score(target_valid, prediction):.5f}\")"
   ]
  },
  {
   "cell_type": "markdown",
   "metadata": {},
   "source": [
    "**ВЫВОД:**\n",
    "\n",
    "Метод Upsampling позволил увеличить показатели значений F1 разных моделей, но превзойти результат параметра class_weight не удалось.\n",
    "\n",
    "### Метод Downsampling (уменьшение выборки)\n",
    "\n",
    "Напишем собственную функцию для уменьшения выборки:"
   ]
  },
  {
   "cell_type": "code",
   "execution_count": 21,
   "metadata": {},
   "outputs": [],
   "source": [
    "def downsample(features, target, fraction):\n",
    "    # Разделяем выборку по значениям целевой функции\n",
    "    features_zeros = features[target == 0]\n",
    "    features_ones = features[target == 1]\n",
    "    target_zeros = target[target == 0]\n",
    "    target_ones = target[target == 1]\n",
    "    \n",
    "    # Случайным образом убираем часть из отрицательных объектов\n",
    "    features_downsampled = pd.concat(\n",
    "        [features_zeros.sample(frac=fraction, random_state=12345)] + [features_ones])\n",
    "    target_downsampled = pd.concat(\n",
    "        [target_zeros.sample(frac=fraction, random_state=12345)] + [target_ones])\n",
    "    \n",
    "    # Перемешиваем\n",
    "    features_downsampled, target_downsampled = shuffle(\n",
    "        features_downsampled, target_downsampled, random_state=12345)\n",
    "    \n",
    "    return features_downsampled, target_downsampled"
   ]
  },
  {
   "cell_type": "markdown",
   "metadata": {},
   "source": [
    "Используем функцию для уменьшения выборки, проверим соотношение:"
   ]
  },
  {
   "cell_type": "code",
   "execution_count": 22,
   "metadata": {},
   "outputs": [
    {
     "name": "stdout",
     "output_type": "stream",
     "text": [
      "2397\n",
      "2397\n"
     ]
    }
   ],
   "source": [
    "features_downsampled, target_downsampled = downsample(features_train, target_train, 0.25)\n",
    "print(features_downsampled.shape[0])\n",
    "print(target_downsampled.shape[0])"
   ]
  },
  {
   "cell_type": "markdown",
   "metadata": {},
   "source": [
    "Теперь воспользуемся полученными выборками и проведем обучение моделей:\n",
    "\n",
    "#### \"Дерево решений\""
   ]
  },
  {
   "cell_type": "code",
   "execution_count": 23,
   "metadata": {},
   "outputs": [
    {
     "name": "stdout",
     "output_type": "stream",
     "text": [
      "F1 наилучшей модели на валидационной выборке: ~ 0.59312\n",
      "Оптимальная глубина дерева: 5\n"
     ]
    }
   ],
   "source": [
    "f1_best = 0\n",
    "depth_best = 0\n",
    "for depth in range(1, 30):\n",
    "    model = DecisionTreeClassifier(random_state=12345, max_depth=depth)\n",
    "    model.fit(features_downsampled, target_downsampled)\n",
    "    prediction = model.predict(features_valid)\n",
    "    f1 = f1_score(target_valid, prediction)\n",
    "    if f1 > f1_best:\n",
    "            f1_best = f1\n",
    "            depth_best = depth\n",
    "print(f\"F1 наилучшей модели на валидационной выборке: ~ {f1_best:.5f}\")\n",
    "print(\"Оптимальная глубина дерева:\", depth_best) "
   ]
  },
  {
   "cell_type": "markdown",
   "metadata": {},
   "source": [
    "#### \"Случайный лес\""
   ]
  },
  {
   "cell_type": "code",
   "execution_count": 24,
   "metadata": {},
   "outputs": [
    {
     "name": "stdout",
     "output_type": "stream",
     "text": [
      "F1 наилучшей модели на валидационной выборке: ~ 0.60133\n",
      "Оптимальное количество деревьев: 24\n",
      "Оптимальная глубина дерева: 7\n"
     ]
    }
   ],
   "source": [
    "f1_best = 0\n",
    "est_best = 0\n",
    "depth_best = 0\n",
    "for est in range (24, 25):\n",
    "    for depth in range(7, 8):\n",
    "        model = RandomForestClassifier(n_estimators=est, max_depth=depth, random_state=12345)\n",
    "        model.fit(features_downsampled, target_downsampled)\n",
    "        prediction = model.predict(features_valid)\n",
    "        f1 = f1_score(target_valid, prediction)\n",
    "        if f1 > f1_best:\n",
    "            f1_best = f1\n",
    "            est_best = est\n",
    "            depth_best = depth\n",
    "             \n",
    "print(f\"F1 наилучшей модели на валидационной выборке: ~ {f1_best:.5f}\")\n",
    "print(\"Оптимальное количество деревьев:\", est_best)         \n",
    "print(\"Оптимальная глубина дерева:\", depth_best)   "
   ]
  },
  {
   "cell_type": "markdown",
   "metadata": {},
   "source": [
    "#### \"Логистическая регрессия\""
   ]
  },
  {
   "cell_type": "code",
   "execution_count": 25,
   "metadata": {},
   "outputs": [
    {
     "name": "stdout",
     "output_type": "stream",
     "text": [
      "F1 ~ 0.48927\n"
     ]
    }
   ],
   "source": [
    "model = LogisticRegression(random_state=12345, solver='liblinear')\n",
    "model.fit(features_downsampled, target_downsampled)\n",
    "prediction = model.predict(features_valid)\n",
    "print(f\"F1 ~ {f1_score(target_valid, prediction):.5f}\")"
   ]
  },
  {
   "cell_type": "markdown",
   "metadata": {},
   "source": [
    "**ВЫВОД:**\n",
    "\n",
    "Метод Downsampling, как и Upsampling, позволил увеличить первоначальные показатели F1, но превзойти результат параметра class_weight не удалось.\n",
    "\n",
    "В конечном результате выберем модель **\"Случайный лес\"** с параметром автоматической регулировки весов (class_weight) и гиперпараметрами n_estimators=79 и max_depth=8, благодаря которой удалось достичь наибольшего результата **F1 ~ 0.63676**."
   ]
  },
  {
   "cell_type": "markdown",
   "metadata": {},
   "source": [
    "## Тестирование модели"
   ]
  },
  {
   "cell_type": "markdown",
   "metadata": {},
   "source": [
    "Для проведения финального обучения можно объединить выборки target_train и target_valid, features_train и features_valid, дабы модель получила больше данных и смогла достичь лучшего качества:"
   ]
  },
  {
   "cell_type": "code",
   "execution_count": 26,
   "metadata": {},
   "outputs": [],
   "source": [
    "target_united = pd.concat([target_train, target_valid], axis=0)\n",
    "features_united = pd.concat([features_train, features_valid], axis=0)"
   ]
  },
  {
   "cell_type": "markdown",
   "metadata": {},
   "source": [
    "Обучим финальную модель и проверим ее на тестовой выборке:"
   ]
  },
  {
   "cell_type": "code",
   "execution_count": 27,
   "metadata": {},
   "outputs": [
    {
     "name": "stdout",
     "output_type": "stream",
     "text": [
      "F1 на тестовой выборке ~ 0.61951\n",
      "Необходимое значение F1-меры достигнуто!\n"
     ]
    }
   ],
   "source": [
    "model = RandomForestClassifier(n_estimators=79, max_depth = 8, random_state=12345, class_weight='balanced')\n",
    "model.fit(features_united, target_united)\n",
    "prediction = model.predict(features_test)\n",
    "print(f\"F1 на тестовой выборке ~ {f1_score(target_test, prediction):.5f}\")\n",
    "if f1_score(target_test, prediction) > 0.59:\n",
    "    print('Необходимое значение F1-меры достигнуто!')"
   ]
  },
  {
   "cell_type": "markdown",
   "metadata": {},
   "source": [
    "**Исследуем метрику AUC-ROC и построим ROC-кривую для финальной модели:**"
   ]
  },
  {
   "cell_type": "code",
   "execution_count": 28,
   "metadata": {},
   "outputs": [
    {
     "name": "stdout",
     "output_type": "stream",
     "text": [
      "AUC-ROC ~ 0.91808\n"
     ]
    }
   ],
   "source": [
    "print(f\"AUC-ROC ~ {roc_auc_score(target_united, model.predict_proba(features_united)[:, 1]):.5f}\")"
   ]
  },
  {
   "cell_type": "code",
   "execution_count": 29,
   "metadata": {},
   "outputs": [
    {
     "data": {
      "text/plain": [
       "<matplotlib.legend.Legend at 0x7fba14bad280>"
      ]
     },
     "execution_count": 29,
     "metadata": {},
     "output_type": "execute_result"
    },
    {
     "data": {
      "text/plain": [
       "<Figure size 432x288 with 0 Axes>"
      ]
     },
     "metadata": {},
     "output_type": "display_data"
    },
    {
     "data": {
      "image/png": "[encoded data removed]",
      "text/plain": [
       "<Figure size 576x576 with 1 Axes>"
      ]
     },
     "metadata": {
      "needs_background": "light"
     },
     "output_type": "display_data"
    }
   ],
   "source": [
    "fpr, tpr, thresholds = roc_curve(target_united, model.predict_proba(features_united)[:, 1])\n",
    "\n",
    "plt.figure()\n",
    "\n",
    "plt.figure(figsize=(8, 8))\n",
    "plt.plot([0, 1], [0, 1], linestyle='--')\n",
    "plt.xlim([0.0, 1.0])\n",
    "plt.ylim([0.0, 1.0])\n",
    "plt.plot(fpr,tpr)\n",
    "\n",
    "plt.xlabel('False Positive Rate')\n",
    "plt.ylabel('True Positive Rate')\n",
    "plt.title('ROC-кривая')\n",
    "plt.legend(('Случайная модель','Случайный лес'), loc= 'upper left') "
   ]
  },
  {
   "cell_type": "markdown",
   "metadata": {},
   "source": [
    "**ВЫВОД:**\n",
    "\n",
    "1. Модель \"Случайный лес\" с подобранными гиперпараметрами и параметром \"class_weight\" позволила достичь значения F1-меры выше запрошенной, ~ 0.63676 на тестовой выборке;\n",
    "2. Значение AUC-ROC  ~ 0.91763, близко к 1;\n",
    "3. По графику ROC-кривой можно сказать, что качество полученной модели достаточно высокое;\n",
    "\n",
    "ИТОГ - выбранная нами модель соответствует для решения поставленной задачи!"
   ]
  }
 ],
 "metadata": {
  "ExecuteTimeLog": [
   {
    "duration": 2049,
    "start_time": "2022-03-15T15:32:23.612Z"
   },
   {
    "duration": 65,
    "start_time": "2022-03-15T15:34:46.712Z"
   },
   {
    "duration": 52,
    "start_time": "2022-03-15T16:53:49.602Z"
   },
   {
    "duration": 6,
    "start_time": "2022-03-15T16:56:05.710Z"
   },
   {
    "duration": 426,
    "start_time": "2022-03-15T16:58:38.721Z"
   },
   {
    "duration": 7,
    "start_time": "2022-03-15T16:59:01.541Z"
   },
   {
    "duration": 68,
    "start_time": "2022-03-15T16:59:01.550Z"
   },
   {
    "duration": 7,
    "start_time": "2022-03-15T16:59:01.621Z"
   },
   {
    "duration": 223,
    "start_time": "2022-03-15T16:59:24.292Z"
   },
   {
    "duration": 7,
    "start_time": "2022-03-15T16:59:29.393Z"
   },
   {
    "duration": 85,
    "start_time": "2022-03-15T16:59:29.404Z"
   },
   {
    "duration": 10,
    "start_time": "2022-03-15T16:59:29.493Z"
   },
   {
    "duration": 6,
    "start_time": "2022-03-15T17:02:28.394Z"
   },
   {
    "duration": 60,
    "start_time": "2022-03-15T17:02:28.403Z"
   },
   {
    "duration": 10,
    "start_time": "2022-03-15T17:02:28.466Z"
   },
   {
    "duration": 4182,
    "start_time": "2022-03-15T17:12:51.210Z"
   },
   {
    "duration": -647,
    "start_time": "2022-03-15T17:13:32.142Z"
   },
   {
    "duration": 297,
    "start_time": "2022-03-15T17:16:06.289Z"
   },
   {
    "duration": 5,
    "start_time": "2022-03-15T17:16:21.198Z"
   },
   {
    "duration": 65,
    "start_time": "2022-03-15T17:16:21.206Z"
   },
   {
    "duration": 10,
    "start_time": "2022-03-15T17:16:21.275Z"
   },
   {
    "duration": 4629,
    "start_time": "2022-03-15T17:16:21.287Z"
   },
   {
    "duration": -655,
    "start_time": "2022-03-15T17:16:26.574Z"
   },
   {
    "duration": 8,
    "start_time": "2022-03-15T17:17:19.130Z"
   },
   {
    "duration": 60,
    "start_time": "2022-03-15T17:17:19.141Z"
   },
   {
    "duration": 10,
    "start_time": "2022-03-15T17:17:19.204Z"
   },
   {
    "duration": 4148,
    "start_time": "2022-03-15T17:17:19.217Z"
   },
   {
    "duration": -646,
    "start_time": "2022-03-15T17:17:24.013Z"
   },
   {
    "duration": 3839,
    "start_time": "2022-03-15T17:19:54.293Z"
   },
   {
    "duration": 217,
    "start_time": "2022-03-15T17:20:16.351Z"
   },
   {
    "duration": 5,
    "start_time": "2022-03-15T17:20:29.117Z"
   },
   {
    "duration": 69,
    "start_time": "2022-03-15T17:20:29.124Z"
   },
   {
    "duration": 19,
    "start_time": "2022-03-15T17:20:29.197Z"
   },
   {
    "duration": 4330,
    "start_time": "2022-03-15T17:20:29.218Z"
   },
   {
    "duration": -685,
    "start_time": "2022-03-15T17:20:34.235Z"
   },
   {
    "duration": 241,
    "start_time": "2022-03-15T17:22:02.656Z"
   },
   {
    "duration": 6,
    "start_time": "2022-03-15T17:22:06.114Z"
   },
   {
    "duration": 66,
    "start_time": "2022-03-15T17:22:06.123Z"
   },
   {
    "duration": 21,
    "start_time": "2022-03-15T17:22:06.192Z"
   },
   {
    "duration": 4498,
    "start_time": "2022-03-15T17:22:06.215Z"
   },
   {
    "duration": -655,
    "start_time": "2022-03-15T17:22:11.370Z"
   },
   {
    "duration": 7,
    "start_time": "2022-03-15T17:22:23.275Z"
   },
   {
    "duration": 61,
    "start_time": "2022-03-15T17:22:23.286Z"
   },
   {
    "duration": 31,
    "start_time": "2022-03-15T17:22:23.351Z"
   },
   {
    "duration": 4158,
    "start_time": "2022-03-15T17:22:23.385Z"
   },
   {
    "duration": -656,
    "start_time": "2022-03-15T17:22:28.202Z"
   },
   {
    "duration": 5,
    "start_time": "2022-03-15T17:23:40.718Z"
   },
   {
    "duration": 77,
    "start_time": "2022-03-15T17:23:40.726Z"
   },
   {
    "duration": 216,
    "start_time": "2022-03-15T17:23:40.806Z"
   },
   {
    "duration": -666,
    "start_time": "2022-03-15T17:23:41.690Z"
   },
   {
    "duration": -665,
    "start_time": "2022-03-15T17:23:41.691Z"
   },
   {
    "duration": 271,
    "start_time": "2022-03-15T17:24:12.231Z"
   },
   {
    "duration": 5,
    "start_time": "2022-03-15T17:24:21.559Z"
   },
   {
    "duration": 59,
    "start_time": "2022-03-15T17:24:21.567Z"
   },
   {
    "duration": 235,
    "start_time": "2022-03-15T17:24:21.630Z"
   },
   {
    "duration": -654,
    "start_time": "2022-03-15T17:24:22.522Z"
   },
   {
    "duration": -656,
    "start_time": "2022-03-15T17:24:22.525Z"
   },
   {
    "duration": 204,
    "start_time": "2022-03-15T17:24:28.004Z"
   },
   {
    "duration": 6,
    "start_time": "2022-03-15T17:24:44.768Z"
   },
   {
    "duration": 61,
    "start_time": "2022-03-15T17:24:44.778Z"
   },
   {
    "duration": 32,
    "start_time": "2022-03-15T17:24:44.843Z"
   },
   {
    "duration": 3827,
    "start_time": "2022-03-15T17:24:44.879Z"
   },
   {
    "duration": -663,
    "start_time": "2022-03-15T17:24:49.372Z"
   },
   {
    "duration": 305,
    "start_time": "2022-03-15T17:25:06.561Z"
   },
   {
    "duration": 5,
    "start_time": "2022-03-15T17:25:22.232Z"
   },
   {
    "duration": 55,
    "start_time": "2022-03-15T17:25:22.240Z"
   },
   {
    "duration": 21,
    "start_time": "2022-03-15T17:25:22.299Z"
   },
   {
    "duration": 4121,
    "start_time": "2022-03-15T17:25:22.322Z"
   },
   {
    "duration": -649,
    "start_time": "2022-03-15T17:25:27.095Z"
   },
   {
    "duration": 6,
    "start_time": "2022-03-15T17:26:10.579Z"
   },
   {
    "duration": 55,
    "start_time": "2022-03-15T17:26:10.587Z"
   },
   {
    "duration": 51,
    "start_time": "2022-03-15T17:26:10.644Z"
   },
   {
    "duration": 15,
    "start_time": "2022-03-15T17:26:10.697Z"
   },
   {
    "duration": 5,
    "start_time": "2022-03-15T17:26:10.715Z"
   },
   {
    "duration": 7,
    "start_time": "2022-03-15T17:26:31.662Z"
   },
   {
    "duration": 64,
    "start_time": "2022-03-15T17:26:31.672Z"
   },
   {
    "duration": 24,
    "start_time": "2022-03-15T17:26:31.739Z"
   },
   {
    "duration": 15,
    "start_time": "2022-03-15T17:26:31.765Z"
   },
   {
    "duration": 10,
    "start_time": "2022-03-15T17:26:31.783Z"
   },
   {
    "duration": 7,
    "start_time": "2022-03-15T17:27:48.494Z"
   },
   {
    "duration": 14,
    "start_time": "2022-03-15T17:28:06.353Z"
   },
   {
    "duration": 5,
    "start_time": "2022-03-15T17:28:21.807Z"
   },
   {
    "duration": 49,
    "start_time": "2022-03-15T17:28:34.777Z"
   },
   {
    "duration": 60,
    "start_time": "2022-03-15T17:28:41.899Z"
   },
   {
    "duration": 38,
    "start_time": "2022-03-15T17:31:38.884Z"
   },
   {
    "duration": 54,
    "start_time": "2022-03-15T17:32:17.191Z"
   },
   {
    "duration": 46,
    "start_time": "2022-03-15T17:33:10.002Z"
   },
   {
    "duration": 49,
    "start_time": "2022-03-15T17:33:16.595Z"
   },
   {
    "duration": 34,
    "start_time": "2022-03-15T17:33:21.273Z"
   },
   {
    "duration": 215,
    "start_time": "2022-03-15T17:51:37.689Z"
   },
   {
    "duration": 212,
    "start_time": "2022-03-15T17:51:53.534Z"
   },
   {
    "duration": 204,
    "start_time": "2022-03-15T17:52:25.783Z"
   },
   {
    "duration": 1002,
    "start_time": "2022-03-15T18:02:30.473Z"
   },
   {
    "duration": 1011,
    "start_time": "2022-03-15T18:04:01.462Z"
   },
   {
    "duration": 964,
    "start_time": "2022-03-15T18:04:11.800Z"
   },
   {
    "duration": 70,
    "start_time": "2022-03-15T18:12:34.367Z"
   },
   {
    "duration": 234,
    "start_time": "2022-03-15T18:14:16.781Z"
   },
   {
    "duration": 47,
    "start_time": "2022-03-15T18:14:35.097Z"
   },
   {
    "duration": -714,
    "start_time": "2022-03-15T18:23:16.004Z"
   },
   {
    "duration": -719,
    "start_time": "2022-03-15T18:23:16.010Z"
   },
   {
    "duration": -721,
    "start_time": "2022-03-15T18:23:16.013Z"
   },
   {
    "duration": -723,
    "start_time": "2022-03-15T18:23:16.017Z"
   },
   {
    "duration": -725,
    "start_time": "2022-03-15T18:23:16.020Z"
   },
   {
    "duration": -730,
    "start_time": "2022-03-15T18:23:16.026Z"
   },
   {
    "duration": -730,
    "start_time": "2022-03-15T18:23:16.028Z"
   },
   {
    "duration": -731,
    "start_time": "2022-03-15T18:23:16.030Z"
   },
   {
    "duration": -732,
    "start_time": "2022-03-15T18:23:16.032Z"
   },
   {
    "duration": 6,
    "start_time": "2022-03-15T18:23:18.768Z"
   },
   {
    "duration": 57,
    "start_time": "2022-03-15T18:23:18.777Z"
   },
   {
    "duration": 37,
    "start_time": "2022-03-15T18:23:18.837Z"
   },
   {
    "duration": 15,
    "start_time": "2022-03-15T18:23:18.877Z"
   },
   {
    "duration": 7,
    "start_time": "2022-03-15T18:23:18.894Z"
   },
   {
    "duration": 77,
    "start_time": "2022-03-15T18:23:18.903Z"
   },
   {
    "duration": 1291,
    "start_time": "2022-03-15T18:23:18.983Z"
   },
   {
    "duration": 47,
    "start_time": "2022-03-15T18:23:20.277Z"
   },
   {
    "duration": 108506,
    "start_time": "2022-03-15T18:23:20.328Z"
   },
   {
    "duration": 13016,
    "start_time": "2022-03-15T18:26:28.115Z"
   },
   {
    "duration": 12953,
    "start_time": "2022-03-15T18:27:57.068Z"
   },
   {
    "duration": 26084,
    "start_time": "2022-03-15T18:29:09.089Z"
   },
   {
    "duration": 251285,
    "start_time": "2022-03-15T18:32:30.537Z"
   },
   {
    "duration": 26917,
    "start_time": "2022-03-15T18:36:57.382Z"
   },
   {
    "duration": 18208,
    "start_time": "2022-03-15T18:41:17.067Z"
   },
   {
    "duration": 32374,
    "start_time": "2022-03-15T18:42:04.053Z"
   },
   {
    "duration": 46712,
    "start_time": "2022-03-15T18:46:17.142Z"
   },
   {
    "duration": 22220,
    "start_time": "2022-03-15T18:48:07.556Z"
   },
   {
    "duration": 415,
    "start_time": "2022-03-15T18:51:27.821Z"
   },
   {
    "duration": 1042,
    "start_time": "2022-03-15T20:03:34.096Z"
   },
   {
    "duration": 422,
    "start_time": "2022-03-15T20:05:43.944Z"
   },
   {
    "duration": 433,
    "start_time": "2022-03-15T20:09:56.269Z"
   },
   {
    "duration": 1100,
    "start_time": "2022-03-15T20:11:14.131Z"
   },
   {
    "duration": 56,
    "start_time": "2022-03-15T20:16:10.811Z"
   },
   {
    "duration": 1564,
    "start_time": "2022-03-15T20:16:50.286Z"
   },
   {
    "duration": 1149,
    "start_time": "2022-03-15T20:17:16.531Z"
   },
   {
    "duration": 1153,
    "start_time": "2022-03-15T20:17:44.532Z"
   },
   {
    "duration": 1148,
    "start_time": "2022-03-15T20:19:46.816Z"
   },
   {
    "duration": 5,
    "start_time": "2022-03-15T20:20:13.016Z"
   },
   {
    "duration": 1163,
    "start_time": "2022-03-15T20:20:13.024Z"
   },
   {
    "duration": 708,
    "start_time": "2022-03-15T20:20:14.191Z"
   },
   {
    "duration": 1297,
    "start_time": "2022-03-15T20:20:14.903Z"
   },
   {
    "duration": 867,
    "start_time": "2022-03-15T20:20:16.202Z"
   },
   {
    "duration": 224,
    "start_time": "2022-03-15T20:20:17.071Z"
   },
   {
    "duration": 1066,
    "start_time": "2022-03-15T20:20:17.298Z"
   },
   {
    "duration": 49,
    "start_time": "2022-03-15T20:20:18.366Z"
   },
   {
    "duration": 1588,
    "start_time": "2022-03-15T20:20:18.419Z"
   },
   {
    "duration": 1144,
    "start_time": "2022-03-15T20:51:48.814Z"
   },
   {
    "duration": 1081,
    "start_time": "2022-03-15T20:52:17.504Z"
   },
   {
    "duration": 6,
    "start_time": "2022-03-15T20:52:23.123Z"
   },
   {
    "duration": 481,
    "start_time": "2022-03-15T20:52:23.132Z"
   },
   {
    "duration": 261,
    "start_time": "2022-03-15T20:52:23.617Z"
   },
   {
    "duration": 328,
    "start_time": "2022-03-15T20:52:23.881Z"
   },
   {
    "duration": 290,
    "start_time": "2022-03-15T20:52:24.212Z"
   },
   {
    "duration": 362,
    "start_time": "2022-03-15T20:52:24.505Z"
   },
   {
    "duration": 1337,
    "start_time": "2022-03-15T20:52:24.872Z"
   },
   {
    "duration": 47,
    "start_time": "2022-03-15T20:52:26.212Z"
   },
   {
    "duration": 1840,
    "start_time": "2022-03-15T20:52:26.261Z"
   },
   {
    "duration": 489,
    "start_time": "2022-03-15T20:53:05.384Z"
   },
   {
    "duration": 256,
    "start_time": "2022-03-15T20:55:08.897Z"
   },
   {
    "duration": 47,
    "start_time": "2022-03-15T20:55:23.088Z"
   },
   {
    "duration": 991,
    "start_time": "2022-03-15T20:55:26.733Z"
   },
   {
    "duration": 50,
    "start_time": "2022-03-15T20:55:29.964Z"
   },
   {
    "duration": 417,
    "start_time": "2022-03-15T20:58:12.844Z"
   },
   {
    "duration": 98,
    "start_time": "2022-03-15T21:00:38.609Z"
   },
   {
    "duration": 437,
    "start_time": "2022-03-15T21:01:28.629Z"
   },
   {
    "duration": 426,
    "start_time": "2022-03-15T21:02:36.837Z"
   },
   {
    "duration": 5,
    "start_time": "2022-03-15T21:03:17.173Z"
   },
   {
    "duration": 1282,
    "start_time": "2022-03-15T21:03:17.180Z"
   },
   {
    "duration": 1012,
    "start_time": "2022-03-15T21:03:18.465Z"
   },
   {
    "duration": 1800,
    "start_time": "2022-03-15T21:03:19.480Z"
   },
   {
    "duration": 1118,
    "start_time": "2022-03-15T21:03:21.283Z"
   },
   {
    "duration": 940,
    "start_time": "2022-03-15T21:03:22.403Z"
   },
   {
    "duration": 1717,
    "start_time": "2022-03-15T21:03:23.345Z"
   },
   {
    "duration": 50,
    "start_time": "2022-03-15T21:03:25.066Z"
   },
   {
    "duration": 895,
    "start_time": "2022-03-15T21:03:25.119Z"
   },
   {
    "duration": 493,
    "start_time": "2022-03-15T21:03:26.017Z"
   },
   {
    "duration": 598,
    "start_time": "2022-03-15T21:03:26.512Z"
   },
   {
    "duration": 635,
    "start_time": "2022-03-15T21:03:27.113Z"
   },
   {
    "duration": 48998,
    "start_time": "2022-03-15T21:03:45.386Z"
   },
   {
    "duration": 7,
    "start_time": "2022-03-15T21:07:48.757Z"
   },
   {
    "duration": 2191,
    "start_time": "2022-03-15T21:07:48.767Z"
   },
   {
    "duration": 1398,
    "start_time": "2022-03-15T21:07:50.963Z"
   },
   {
    "duration": 1538,
    "start_time": "2022-03-15T21:07:52.364Z"
   },
   {
    "duration": 1074,
    "start_time": "2022-03-15T21:07:53.904Z"
   },
   {
    "duration": 1610,
    "start_time": "2022-03-15T21:07:54.980Z"
   },
   {
    "duration": 2095,
    "start_time": "2022-03-15T21:07:56.593Z"
   },
   {
    "duration": 320,
    "start_time": "2022-03-15T21:07:58.691Z"
   },
   {
    "duration": 52658,
    "start_time": "2022-03-15T21:07:59.015Z"
   },
   {
    "duration": 583,
    "start_time": "2022-03-15T21:08:51.676Z"
   },
   {
    "duration": 462,
    "start_time": "2022-03-15T21:08:52.261Z"
   },
   {
    "duration": 1031,
    "start_time": "2022-03-15T21:09:07.543Z"
   },
   {
    "duration": 31,
    "start_time": "2022-03-15T21:12:38.402Z"
   },
   {
    "duration": 228,
    "start_time": "2022-03-15T21:13:55.347Z"
   },
   {
    "duration": 6,
    "start_time": "2022-03-15T21:14:52.617Z"
   },
   {
    "duration": 1055,
    "start_time": "2022-03-15T21:14:52.625Z"
   },
   {
    "duration": 680,
    "start_time": "2022-03-15T21:14:53.683Z"
   },
   {
    "duration": 831,
    "start_time": "2022-03-15T21:14:54.365Z"
   },
   {
    "duration": 954,
    "start_time": "2022-03-15T21:14:55.199Z"
   },
   {
    "duration": 797,
    "start_time": "2022-03-15T21:14:56.155Z"
   },
   {
    "duration": 1473,
    "start_time": "2022-03-15T21:14:56.954Z"
   },
   {
    "duration": 56,
    "start_time": "2022-03-15T21:14:58.431Z"
   },
   {
    "duration": 1367,
    "start_time": "2022-03-15T21:14:58.490Z"
   },
   {
    "duration": 585,
    "start_time": "2022-03-15T21:14:59.859Z"
   },
   {
    "duration": 228,
    "start_time": "2022-03-15T21:15:00.447Z"
   },
   {
    "duration": 1066,
    "start_time": "2022-03-15T21:15:35.507Z"
   },
   {
    "duration": 238,
    "start_time": "2022-03-15T21:27:33.352Z"
   },
   {
    "duration": 1039,
    "start_time": "2022-03-15T21:42:01.134Z"
   },
   {
    "duration": 1068,
    "start_time": "2022-03-15T21:42:19.614Z"
   },
   {
    "duration": 4599,
    "start_time": "2022-03-15T21:43:23.407Z"
   },
   {
    "duration": 4349,
    "start_time": "2022-03-15T21:44:45.333Z"
   },
   {
    "duration": 414,
    "start_time": "2022-03-15T21:45:44.007Z"
   },
   {
    "duration": 443,
    "start_time": "2022-03-15T21:46:26.789Z"
   },
   {
    "duration": 980,
    "start_time": "2022-03-15T21:50:12.239Z"
   },
   {
    "duration": 49419,
    "start_time": "2022-03-15T21:51:52.741Z"
   },
   {
    "duration": 710,
    "start_time": "2022-03-15T21:52:58.872Z"
   },
   {
    "duration": 407,
    "start_time": "2022-03-15T21:53:27.207Z"
   },
   {
    "duration": 849,
    "start_time": "2022-03-15T21:53:37.493Z"
   },
   {
    "duration": 684,
    "start_time": "2022-03-15T21:53:44.353Z"
   },
   {
    "duration": 1372,
    "start_time": "2022-03-15T21:53:50.279Z"
   },
   {
    "duration": 2140,
    "start_time": "2022-03-15T21:53:56.410Z"
   },
   {
    "duration": 3832,
    "start_time": "2022-03-15T21:54:05.156Z"
   },
   {
    "duration": 5809,
    "start_time": "2022-03-15T21:54:30.916Z"
   },
   {
    "duration": 4130,
    "start_time": "2022-03-15T21:54:45.833Z"
   },
   {
    "duration": 3012,
    "start_time": "2022-03-15T21:54:56.776Z"
   },
   {
    "duration": 6213,
    "start_time": "2022-03-15T21:55:06.963Z"
   },
   {
    "duration": 9059,
    "start_time": "2022-03-15T21:55:21.472Z"
   },
   {
    "duration": 12074,
    "start_time": "2022-03-15T21:55:38.227Z"
   },
   {
    "duration": 18817,
    "start_time": "2022-03-15T21:55:58.425Z"
   },
   {
    "duration": 6355,
    "start_time": "2022-03-15T21:56:28.628Z"
   },
   {
    "duration": 110871,
    "start_time": "2022-03-15T21:56:41.529Z"
   },
   {
    "duration": 606,
    "start_time": "2022-03-15T21:58:46.319Z"
   },
   {
    "duration": 40,
    "start_time": "2022-03-15T21:59:42.650Z"
   },
   {
    "duration": 6,
    "start_time": "2022-03-15T22:11:36.090Z"
   },
   {
    "duration": 17,
    "start_time": "2022-03-15T22:12:43.176Z"
   },
   {
    "duration": 38,
    "start_time": "2022-03-15T22:13:16.039Z"
   },
   {
    "duration": 233,
    "start_time": "2022-03-15T22:13:26.239Z"
   },
   {
    "duration": 18,
    "start_time": "2022-03-15T22:14:21.053Z"
   },
   {
    "duration": 17,
    "start_time": "2022-03-15T22:16:18.811Z"
   },
   {
    "duration": 18,
    "start_time": "2022-03-15T22:16:30.150Z"
   },
   {
    "duration": 1402,
    "start_time": "2022-03-15T22:20:33.725Z"
   },
   {
    "duration": 1286,
    "start_time": "2022-03-15T22:21:12.939Z"
   },
   {
    "duration": 5,
    "start_time": "2022-03-15T22:21:21.219Z"
   },
   {
    "duration": 653,
    "start_time": "2022-03-15T22:21:21.227Z"
   },
   {
    "duration": 206,
    "start_time": "2022-03-15T22:21:21.883Z"
   },
   {
    "duration": 343,
    "start_time": "2022-03-15T22:21:22.092Z"
   },
   {
    "duration": 261,
    "start_time": "2022-03-15T22:21:22.438Z"
   },
   {
    "duration": 288,
    "start_time": "2022-03-15T22:21:22.701Z"
   },
   {
    "duration": 1153,
    "start_time": "2022-03-15T22:21:22.992Z"
   },
   {
    "duration": 64,
    "start_time": "2022-03-15T22:21:24.149Z"
   },
   {
    "duration": 678,
    "start_time": "2022-03-15T22:21:24.215Z"
   },
   {
    "duration": 460,
    "start_time": "2022-03-15T22:21:24.895Z"
   },
   {
    "duration": 121,
    "start_time": "2022-03-15T22:21:25.358Z"
   },
   {
    "duration": 631,
    "start_time": "2022-03-15T22:21:25.483Z"
   },
   {
    "duration": 1019,
    "start_time": "2022-03-15T22:21:26.116Z"
   },
   {
    "duration": 611,
    "start_time": "2022-03-15T22:21:27.138Z"
   },
   {
    "duration": 412,
    "start_time": "2022-03-15T22:21:27.751Z"
   },
   {
    "duration": 1104,
    "start_time": "2022-03-15T22:21:28.175Z"
   },
   {
    "duration": 357,
    "start_time": "2022-03-15T22:21:29.281Z"
   },
   {
    "duration": 1725,
    "start_time": "2022-03-15T22:21:29.641Z"
   },
   {
    "duration": 871,
    "start_time": "2022-03-15T22:23:03.672Z"
   },
   {
    "duration": 4936,
    "start_time": "2022-03-15T22:23:14.819Z"
   },
   {
    "duration": 11601,
    "start_time": "2022-03-15T22:23:27.102Z"
   },
   {
    "duration": 3241,
    "start_time": "2022-03-15T22:23:54.135Z"
   },
   {
    "duration": 27084,
    "start_time": "2022-03-15T22:24:16.937Z"
   },
   {
    "duration": 5883,
    "start_time": "2022-03-15T22:24:58.769Z"
   },
   {
    "duration": 2652,
    "start_time": "2022-03-15T22:25:15.180Z"
   },
   {
    "duration": 789,
    "start_time": "2022-03-15T22:25:37.423Z"
   },
   {
    "duration": 51,
    "start_time": "2022-03-15T22:27:01.463Z"
   },
   {
    "duration": 840,
    "start_time": "2022-03-15T22:27:34.999Z"
   },
   {
    "duration": 797,
    "start_time": "2022-03-15T22:27:49.369Z"
   },
   {
    "duration": 5,
    "start_time": "2022-03-15T22:27:58.842Z"
   },
   {
    "duration": 417,
    "start_time": "2022-03-15T22:27:58.850Z"
   },
   {
    "duration": 232,
    "start_time": "2022-03-15T22:27:59.270Z"
   },
   {
    "duration": 284,
    "start_time": "2022-03-15T22:27:59.505Z"
   },
   {
    "duration": 309,
    "start_time": "2022-03-15T22:27:59.791Z"
   },
   {
    "duration": 524,
    "start_time": "2022-03-15T22:28:00.103Z"
   },
   {
    "duration": 1347,
    "start_time": "2022-03-15T22:28:00.629Z"
   },
   {
    "duration": 47,
    "start_time": "2022-03-15T22:28:01.978Z"
   },
   {
    "duration": 644,
    "start_time": "2022-03-15T22:28:02.029Z"
   },
   {
    "duration": 451,
    "start_time": "2022-03-15T22:28:02.676Z"
   },
   {
    "duration": 148,
    "start_time": "2022-03-15T22:28:03.129Z"
   },
   {
    "duration": 431,
    "start_time": "2022-03-15T22:28:03.280Z"
   },
   {
    "duration": 1052,
    "start_time": "2022-03-15T22:28:03.714Z"
   },
   {
    "duration": 619,
    "start_time": "2022-03-15T22:28:04.772Z"
   },
   {
    "duration": 80,
    "start_time": "2022-03-15T22:28:05.393Z"
   },
   {
    "duration": 214,
    "start_time": "2022-03-15T22:28:05.476Z"
   },
   {
    "duration": 317,
    "start_time": "2022-03-15T22:28:05.692Z"
   },
   {
    "duration": 1601,
    "start_time": "2022-03-15T22:28:06.012Z"
   },
   {
    "duration": 803,
    "start_time": "2022-03-15T22:28:07.616Z"
   },
   {
    "duration": 61,
    "start_time": "2022-03-15T22:28:08.422Z"
   },
   {
    "duration": 6,
    "start_time": "2022-03-15T22:30:17.105Z"
   },
   {
    "duration": 6,
    "start_time": "2022-03-15T22:30:19.809Z"
   },
   {
    "duration": 59,
    "start_time": "2022-03-15T22:30:19.818Z"
   },
   {
    "duration": 25,
    "start_time": "2022-03-15T22:30:19.880Z"
   },
   {
    "duration": 15,
    "start_time": "2022-03-15T22:30:19.908Z"
   },
   {
    "duration": 6,
    "start_time": "2022-03-15T22:30:19.925Z"
   },
   {
    "duration": 72,
    "start_time": "2022-03-15T22:30:19.934Z"
   },
   {
    "duration": 1005,
    "start_time": "2022-03-15T22:30:20.009Z"
   },
   {
    "duration": 60,
    "start_time": "2022-03-15T22:30:21.017Z"
   },
   {
    "duration": 416,
    "start_time": "2022-03-15T22:30:21.083Z"
   },
   {
    "duration": 448,
    "start_time": "2022-03-15T22:30:21.502Z"
   },
   {
    "duration": 224,
    "start_time": "2022-03-15T22:30:21.952Z"
   },
   {
    "duration": 333,
    "start_time": "2022-03-15T22:30:22.180Z"
   },
   {
    "duration": 996,
    "start_time": "2022-03-15T22:30:22.515Z"
   },
   {
    "duration": 596,
    "start_time": "2022-03-15T22:30:23.513Z"
   },
   {
    "duration": 64,
    "start_time": "2022-03-15T22:30:24.111Z"
   },
   {
    "duration": 98,
    "start_time": "2022-03-15T22:30:24.179Z"
   },
   {
    "duration": 32,
    "start_time": "2022-03-15T22:30:24.280Z"
   },
   {
    "duration": 1318,
    "start_time": "2022-03-15T22:30:24.314Z"
   },
   {
    "duration": 783,
    "start_time": "2022-03-15T22:30:25.634Z"
   },
   {
    "duration": 60,
    "start_time": "2022-03-15T22:30:26.420Z"
   },
   {
    "duration": 6,
    "start_time": "2022-03-15T22:36:58.535Z"
   },
   {
    "duration": 6,
    "start_time": "2022-03-15T22:37:04.567Z"
   },
   {
    "duration": 18,
    "start_time": "2022-03-15T22:39:10.060Z"
   },
   {
    "duration": 74,
    "start_time": "2022-03-15T22:40:50.106Z"
   },
   {
    "duration": 18,
    "start_time": "2022-03-15T22:40:56.671Z"
   },
   {
    "duration": 448,
    "start_time": "2022-03-15T22:41:44.121Z"
   },
   {
    "duration": 7,
    "start_time": "2022-03-15T22:42:07.270Z"
   },
   {
    "duration": 61,
    "start_time": "2022-03-15T22:42:07.280Z"
   },
   {
    "duration": 45,
    "start_time": "2022-03-15T22:42:07.344Z"
   },
   {
    "duration": 14,
    "start_time": "2022-03-15T22:42:07.392Z"
   },
   {
    "duration": 5,
    "start_time": "2022-03-15T22:42:07.409Z"
   },
   {
    "duration": 67,
    "start_time": "2022-03-15T22:42:07.416Z"
   },
   {
    "duration": 1008,
    "start_time": "2022-03-15T22:42:07.485Z"
   },
   {
    "duration": 44,
    "start_time": "2022-03-15T22:42:08.497Z"
   },
   {
    "duration": 454,
    "start_time": "2022-03-15T22:42:08.544Z"
   },
   {
    "duration": 447,
    "start_time": "2022-03-15T22:42:09.000Z"
   },
   {
    "duration": 226,
    "start_time": "2022-03-15T22:42:09.449Z"
   },
   {
    "duration": 336,
    "start_time": "2022-03-15T22:42:09.679Z"
   },
   {
    "duration": 1007,
    "start_time": "2022-03-15T22:42:10.017Z"
   },
   {
    "duration": 586,
    "start_time": "2022-03-15T22:42:11.026Z"
   },
   {
    "duration": 60,
    "start_time": "2022-03-15T22:42:11.614Z"
   },
   {
    "duration": 99,
    "start_time": "2022-03-15T22:42:11.678Z"
   },
   {
    "duration": 20,
    "start_time": "2022-03-15T22:42:11.779Z"
   },
   {
    "duration": 1349,
    "start_time": "2022-03-15T22:42:11.801Z"
   },
   {
    "duration": 783,
    "start_time": "2022-03-15T22:42:13.152Z"
   },
   {
    "duration": 62,
    "start_time": "2022-03-15T22:42:13.937Z"
   },
   {
    "duration": 78,
    "start_time": "2022-03-15T22:42:14.002Z"
   },
   {
    "duration": 116,
    "start_time": "2022-03-15T22:42:14.084Z"
   },
   {
    "duration": 471,
    "start_time": "2022-03-15T22:42:14.206Z"
   },
   {
    "duration": 288,
    "start_time": "2022-03-15T22:43:00.730Z"
   },
   {
    "duration": 1981,
    "start_time": "2022-03-15T22:43:09.758Z"
   },
   {
    "duration": 4005,
    "start_time": "2022-03-15T22:43:22.558Z"
   },
   {
    "duration": 9481,
    "start_time": "2022-03-15T22:43:42.167Z"
   },
   {
    "duration": 782,
    "start_time": "2022-03-15T22:44:03.535Z"
   },
   {
    "duration": 369,
    "start_time": "2022-03-15T22:44:14.057Z"
   },
   {
    "duration": 834,
    "start_time": "2022-03-15T22:44:17.733Z"
   },
   {
    "duration": 2926,
    "start_time": "2022-03-15T22:44:34.380Z"
   },
   {
    "duration": 9145,
    "start_time": "2022-03-15T22:44:44.210Z"
   },
   {
    "duration": 7083,
    "start_time": "2022-03-15T22:45:03.228Z"
   },
   {
    "duration": 4694,
    "start_time": "2022-03-15T22:45:20.059Z"
   },
   {
    "duration": 1348,
    "start_time": "2022-03-15T22:45:35.404Z"
   },
   {
    "duration": 106,
    "start_time": "2022-03-15T22:45:45.608Z"
   },
   {
    "duration": 23,
    "start_time": "2022-03-15T22:46:23.273Z"
   },
   {
    "duration": 71,
    "start_time": "2022-03-15T22:49:24.731Z"
   },
   {
    "duration": 6,
    "start_time": "2022-03-15T22:54:14.273Z"
   },
   {
    "duration": 266,
    "start_time": "2022-03-15T22:59:56.261Z"
   },
   {
    "duration": 316,
    "start_time": "2022-03-15T23:00:06.170Z"
   },
   {
    "duration": 465,
    "start_time": "2022-03-15T23:00:14.355Z"
   },
   {
    "duration": 465,
    "start_time": "2022-03-15T23:01:24.529Z"
   },
   {
    "duration": 2995,
    "start_time": "2022-03-15T23:03:14.380Z"
   },
   {
    "duration": 2839,
    "start_time": "2022-03-15T23:03:29.137Z"
   },
   {
    "duration": 80,
    "start_time": "2022-03-15T23:03:34.965Z"
   },
   {
    "duration": 88,
    "start_time": "2022-03-15T23:03:42.177Z"
   },
   {
    "duration": 2447,
    "start_time": "2022-03-15T23:03:53.334Z"
   },
   {
    "duration": 7,
    "start_time": "2022-03-15T23:15:26.794Z"
   },
   {
    "duration": 8,
    "start_time": "2022-03-15T23:15:32.655Z"
   },
   {
    "duration": 37,
    "start_time": "2022-03-15T23:15:38.881Z"
   },
   {
    "duration": 216,
    "start_time": "2022-03-15T23:20:04.333Z"
   },
   {
    "duration": 5,
    "start_time": "2022-03-15T23:20:38.680Z"
   },
   {
    "duration": 9,
    "start_time": "2022-03-15T23:21:04.263Z"
   },
   {
    "duration": 225,
    "start_time": "2022-03-15T23:23:58.716Z"
   },
   {
    "duration": 191,
    "start_time": "2022-03-15T23:24:05.068Z"
   },
   {
    "duration": 7,
    "start_time": "2022-03-15T23:24:24.534Z"
   },
   {
    "duration": 257,
    "start_time": "2022-03-15T23:24:25.603Z"
   },
   {
    "duration": 6,
    "start_time": "2022-03-15T23:24:32.974Z"
   },
   {
    "duration": 56,
    "start_time": "2022-03-15T23:24:32.983Z"
   },
   {
    "duration": 52,
    "start_time": "2022-03-15T23:24:33.042Z"
   },
   {
    "duration": 15,
    "start_time": "2022-03-15T23:24:33.097Z"
   },
   {
    "duration": 5,
    "start_time": "2022-03-15T23:24:33.114Z"
   },
   {
    "duration": 71,
    "start_time": "2022-03-15T23:24:33.122Z"
   },
   {
    "duration": 1005,
    "start_time": "2022-03-15T23:24:33.196Z"
   },
   {
    "duration": 45,
    "start_time": "2022-03-15T23:24:34.204Z"
   },
   {
    "duration": 538,
    "start_time": "2022-03-15T23:24:34.252Z"
   },
   {
    "duration": 442,
    "start_time": "2022-03-15T23:24:34.792Z"
   },
   {
    "duration": 144,
    "start_time": "2022-03-15T23:24:35.236Z"
   },
   {
    "duration": 427,
    "start_time": "2022-03-15T23:24:35.383Z"
   },
   {
    "duration": 993,
    "start_time": "2022-03-15T23:24:35.812Z"
   },
   {
    "duration": 587,
    "start_time": "2022-03-15T23:24:36.807Z"
   },
   {
    "duration": 85,
    "start_time": "2022-03-15T23:24:37.397Z"
   },
   {
    "duration": 6,
    "start_time": "2022-03-15T23:24:37.574Z"
   },
   {
    "duration": 26,
    "start_time": "2022-03-15T23:24:37.582Z"
   },
   {
    "duration": 1302,
    "start_time": "2022-03-15T23:24:37.610Z"
   },
   {
    "duration": 787,
    "start_time": "2022-03-15T23:24:38.916Z"
   },
   {
    "duration": 77,
    "start_time": "2022-03-15T23:24:39.705Z"
   },
   {
    "duration": 92,
    "start_time": "2022-03-15T23:24:39.785Z"
   },
   {
    "duration": 20,
    "start_time": "2022-03-15T23:24:39.880Z"
   },
   {
    "duration": 529,
    "start_time": "2022-03-15T23:24:39.903Z"
   },
   {
    "duration": 122,
    "start_time": "2022-03-15T23:24:40.435Z"
   },
   {
    "duration": 26,
    "start_time": "2022-03-15T23:24:40.559Z"
   },
   {
    "duration": 90,
    "start_time": "2022-03-15T23:24:40.588Z"
   },
   {
    "duration": 1009,
    "start_time": "2022-03-15T23:24:40.684Z"
   },
   {
    "duration": 733,
    "start_time": "2022-03-15T23:24:49.127Z"
   },
   {
    "duration": 725,
    "start_time": "2022-03-15T23:25:34.597Z"
   },
   {
    "duration": 730,
    "start_time": "2022-03-15T23:25:48.647Z"
   },
   {
    "duration": 711,
    "start_time": "2022-03-15T23:27:41.024Z"
   },
   {
    "duration": 721,
    "start_time": "2022-03-15T23:28:41.588Z"
   },
   {
    "duration": 197,
    "start_time": "2022-03-15T23:32:27.846Z"
   },
   {
    "duration": 308,
    "start_time": "2022-03-15T23:32:33.129Z"
   },
   {
    "duration": 6,
    "start_time": "2022-03-15T23:32:47.159Z"
   },
   {
    "duration": 63,
    "start_time": "2022-03-15T23:32:47.168Z"
   },
   {
    "duration": 51,
    "start_time": "2022-03-15T23:32:47.234Z"
   },
   {
    "duration": 15,
    "start_time": "2022-03-15T23:32:47.288Z"
   },
   {
    "duration": 6,
    "start_time": "2022-03-15T23:32:47.306Z"
   },
   {
    "duration": 63,
    "start_time": "2022-03-15T23:32:47.314Z"
   },
   {
    "duration": 1006,
    "start_time": "2022-03-15T23:32:47.379Z"
   },
   {
    "duration": 45,
    "start_time": "2022-03-15T23:32:48.388Z"
   },
   {
    "duration": 430,
    "start_time": "2022-03-15T23:32:48.437Z"
   },
   {
    "duration": 458,
    "start_time": "2022-03-15T23:32:48.874Z"
   },
   {
    "duration": 144,
    "start_time": "2022-03-15T23:32:49.334Z"
   },
   {
    "duration": 334,
    "start_time": "2022-03-15T23:32:49.481Z"
   },
   {
    "duration": 1079,
    "start_time": "2022-03-15T23:32:49.817Z"
   },
   {
    "duration": 684,
    "start_time": "2022-03-15T23:32:50.898Z"
   },
   {
    "duration": 35,
    "start_time": "2022-03-15T23:32:51.585Z"
   },
   {
    "duration": 12,
    "start_time": "2022-03-15T23:32:51.675Z"
   },
   {
    "duration": 19,
    "start_time": "2022-03-15T23:32:51.774Z"
   },
   {
    "duration": 1425,
    "start_time": "2022-03-15T23:32:51.795Z"
   },
   {
    "duration": 912,
    "start_time": "2022-03-15T23:32:53.222Z"
   },
   {
    "duration": 67,
    "start_time": "2022-03-15T23:32:54.137Z"
   },
   {
    "duration": 96,
    "start_time": "2022-03-15T23:32:54.278Z"
   },
   {
    "duration": 29,
    "start_time": "2022-03-15T23:32:54.377Z"
   },
   {
    "duration": 503,
    "start_time": "2022-03-15T23:32:54.410Z"
   },
   {
    "duration": 120,
    "start_time": "2022-03-15T23:32:54.916Z"
   },
   {
    "duration": 43,
    "start_time": "2022-03-15T23:32:55.039Z"
   },
   {
    "duration": 96,
    "start_time": "2022-03-15T23:32:55.086Z"
   },
   {
    "duration": 839,
    "start_time": "2022-03-15T23:32:55.186Z"
   },
   {
    "duration": 329,
    "start_time": "2022-03-15T23:32:56.028Z"
   },
   {
    "duration": 95,
    "start_time": "2022-03-15T23:34:33.531Z"
   },
   {
    "duration": 95,
    "start_time": "2022-03-15T23:34:41.719Z"
   },
   {
    "duration": 97,
    "start_time": "2022-03-15T23:34:46.116Z"
   },
   {
    "duration": 564,
    "start_time": "2022-03-15T23:38:00.367Z"
   },
   {
    "duration": 94,
    "start_time": "2022-03-15T23:38:25.289Z"
   },
   {
    "duration": 357,
    "start_time": "2022-03-15T23:38:34.746Z"
   },
   {
    "duration": 427,
    "start_time": "2022-03-15T23:38:41.489Z"
   },
   {
    "duration": 450,
    "start_time": "2022-03-15T23:38:51.554Z"
   },
   {
    "duration": 1153,
    "start_time": "2022-03-16T13:27:16.148Z"
   },
   {
    "duration": 44,
    "start_time": "2022-03-16T13:27:17.303Z"
   },
   {
    "duration": 16,
    "start_time": "2022-03-16T13:27:17.349Z"
   },
   {
    "duration": 15,
    "start_time": "2022-03-16T13:27:17.367Z"
   },
   {
    "duration": 3,
    "start_time": "2022-03-16T13:27:17.384Z"
   },
   {
    "duration": 23,
    "start_time": "2022-03-16T13:27:17.389Z"
   },
   {
    "duration": 708,
    "start_time": "2022-03-16T13:27:17.414Z"
   },
   {
    "duration": 30,
    "start_time": "2022-03-16T13:27:18.123Z"
   },
   {
    "duration": 261,
    "start_time": "2022-03-16T13:27:18.155Z"
   },
   {
    "duration": 279,
    "start_time": "2022-03-16T13:27:18.418Z"
   },
   {
    "duration": 182,
    "start_time": "2022-03-16T13:27:18.699Z"
   },
   {
    "duration": 187,
    "start_time": "2022-03-16T13:27:18.883Z"
   },
   {
    "duration": 667,
    "start_time": "2022-03-16T13:27:19.072Z"
   },
   {
    "duration": 677,
    "start_time": "2022-03-16T13:27:19.742Z"
   },
   {
    "duration": 67,
    "start_time": "2022-03-16T13:27:20.421Z"
   },
   {
    "duration": 92,
    "start_time": "2022-03-16T13:27:20.491Z"
   },
   {
    "duration": 27,
    "start_time": "2022-03-16T13:27:20.585Z"
   },
   {
    "duration": 910,
    "start_time": "2022-03-16T13:27:20.614Z"
   },
   {
    "duration": 476,
    "start_time": "2022-03-16T13:27:21.526Z"
   },
   {
    "duration": 30,
    "start_time": "2022-03-16T13:27:22.004Z"
   },
   {
    "duration": 7,
    "start_time": "2022-03-16T13:27:22.083Z"
   },
   {
    "duration": 97,
    "start_time": "2022-03-16T13:27:22.092Z"
   },
   {
    "duration": 309,
    "start_time": "2022-03-16T13:27:22.191Z"
   },
   {
    "duration": 65,
    "start_time": "2022-03-16T13:27:22.502Z"
   },
   {
    "duration": 23,
    "start_time": "2022-03-16T13:27:22.569Z"
   },
   {
    "duration": 92,
    "start_time": "2022-03-16T13:27:22.595Z"
   },
   {
    "duration": 903,
    "start_time": "2022-03-16T13:27:22.691Z"
   },
   {
    "duration": 65,
    "start_time": "2022-03-16T13:27:23.596Z"
   },
   {
    "duration": 284,
    "start_time": "2022-03-16T13:27:23.662Z"
   },
   {
    "duration": 102,
    "start_time": "2022-03-16T13:32:09.178Z"
   },
   {
    "duration": 1273,
    "start_time": "2022-08-14T11:19:29.688Z"
   },
   {
    "duration": 115,
    "start_time": "2022-08-14T11:19:30.963Z"
   },
   {
    "duration": 11,
    "start_time": "2022-08-14T11:19:31.080Z"
   },
   {
    "duration": 9,
    "start_time": "2022-08-14T11:19:31.093Z"
   },
   {
    "duration": 6,
    "start_time": "2022-08-14T11:19:31.103Z"
   },
   {
    "duration": 34,
    "start_time": "2022-08-14T11:19:31.114Z"
   },
   {
    "duration": 802,
    "start_time": "2022-08-14T11:19:31.150Z"
   },
   {
    "duration": 35,
    "start_time": "2022-08-14T11:19:31.954Z"
   },
   {
    "duration": 311,
    "start_time": "2022-08-14T11:19:31.991Z"
   },
   {
    "duration": 340,
    "start_time": "2022-08-14T11:19:32.313Z"
   },
   {
    "duration": 77,
    "start_time": "2022-08-14T11:19:32.655Z"
   },
   {
    "duration": 282,
    "start_time": "2022-08-14T11:19:32.734Z"
   },
   {
    "duration": 807,
    "start_time": "2022-08-14T11:19:33.018Z"
   },
   {
    "duration": 421,
    "start_time": "2022-08-14T11:19:33.827Z"
   },
   {
    "duration": 19,
    "start_time": "2022-08-14T11:19:34.249Z"
   },
   {
    "duration": 60,
    "start_time": "2022-08-14T11:19:34.269Z"
   },
   {
    "duration": 106,
    "start_time": "2022-08-14T11:19:34.331Z"
   },
   {
    "duration": 1910,
    "start_time": "2022-08-14T11:19:34.439Z"
   },
   {
    "duration": 548,
    "start_time": "2022-08-14T11:19:36.351Z"
   },
   {
    "duration": 36,
    "start_time": "2022-08-14T11:19:36.900Z"
   },
   {
    "duration": 85,
    "start_time": "2022-08-14T11:19:36.938Z"
   },
   {
    "duration": 112,
    "start_time": "2022-08-14T11:19:37.024Z"
   },
   {
    "duration": 371,
    "start_time": "2022-08-14T11:19:37.138Z"
   },
   {
    "duration": 78,
    "start_time": "2022-08-14T11:19:37.510Z"
   },
   {
    "duration": 31,
    "start_time": "2022-08-14T11:19:37.589Z"
   },
   {
    "duration": 105,
    "start_time": "2022-08-14T11:19:37.630Z"
   },
   {
    "duration": 568,
    "start_time": "2022-08-14T11:19:37.736Z"
   },
   {
    "duration": 82,
    "start_time": "2022-08-14T11:19:38.310Z"
   },
   {
    "duration": 232,
    "start_time": "2022-08-14T11:19:38.394Z"
   }
  ],
  "kernelspec": {
   "display_name": "Python 3 (ipykernel)",
   "language": "python",
   "name": "python3"
  },
  "language_info": {
   "codemirror_mode": {
    "name": "ipython",
    "version": 3
   },
   "file_extension": ".py",
   "mimetype": "text/x-python",
   "name": "python",
   "nbconvert_exporter": "python",
   "pygments_lexer": "ipython3",
   "version": "3.9.5"
  },
  "toc": {
   "base_numbering": 1,
   "nav_menu": {},
   "number_sections": true,
   "sideBar": true,
   "skip_h1_title": true,
   "title_cell": "Содержание",
   "title_sidebar": "Contents",
   "toc_cell": true,
   "toc_position": {
    "height": "calc(100% - 180px)",
    "left": "10px",
    "top": "150px",
    "width": "303.976px"
   },
   "toc_section_display": true,
   "toc_window_display": true
  }
 },
 "nbformat": 4,
 "nbformat_minor": 2
}
