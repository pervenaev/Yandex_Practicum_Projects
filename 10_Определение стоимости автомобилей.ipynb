{
 "cells": [
  {
   "cell_type": "markdown",
   "metadata": {},
   "source": [
    "# Определение стоимости автомобилей"
   ]
  },
  {
   "cell_type": "markdown",
   "metadata": {},
   "source": [
    "Сервис по продаже автомобилей с пробегом «Не бит, не крашен» разрабатывает приложение для привлечения новых клиентов. В нём можно быстро узнать рыночную стоимость своего автомобиля. В вашем распоряжении исторические данные: технические характеристики, комплектации и цены автомобилей. Вам нужно построить модель для определения стоимости. \n",
    "\n",
    "Заказчику важны:\n",
    "\n",
    "- качество предсказания;\n",
    "- скорость предсказания;\n",
    "- время обучения."
   ]
  },
  {
   "cell_type": "markdown",
   "metadata": {},
   "source": [
    "## Подготовка данных"
   ]
  },
  {
   "cell_type": "markdown",
   "metadata": {},
   "source": [
    "Импортируем необходимые для работы библиотеки и инструменты:"
   ]
  },
  {
   "cell_type": "code",
   "execution_count": 2,
   "metadata": {},
   "outputs": [],
   "source": [
    "# библиотеки\n",
    "import pandas as pd\n",
    "import matplotlib.pyplot as plt\n",
    "import numpy as np\n",
    "import seaborn as sns\n",
    "\n",
    "# инструменты\n",
    "from sklearn.preprocessing import StandardScaler\n",
    "from sklearn.preprocessing import OrdinalEncoder\n",
    "from sklearn.model_selection import train_test_split \n",
    "from sklearn.model_selection import GridSearchCV \n",
    "from sklearn.metrics import mean_squared_error \n",
    "from sklearn.linear_model import LinearRegression\n",
    "from sklearn.ensemble import RandomForestRegressor\n",
    "from sklearn.tree import DecisionTreeRegressor\n",
    "from sklearn.dummy import DummyRegressor\n",
    "from sklearn.metrics import make_scorer\n",
    "from sklearn.model_selection import cross_val_score\n",
    "import lightgbm as lgb\n",
    "from lightgbm import LGBMRegressor\n",
    "from catboost import CatBoostRegressor\n",
    "\n",
    "import time\n",
    "\n",
    "# блокиратор предупреждений\n",
    "import warnings\n",
    "warnings.filterwarnings(\"ignore\")"
   ]
  },
  {
   "cell_type": "markdown",
   "metadata": {},
   "source": [
    "Загрузим данные и ознакомимся с ними:"
   ]
  },
  {
   "cell_type": "code",
   "execution_count": 3,
   "metadata": {},
   "outputs": [
    {
     "data": {
      "text/html": [
       "<div>\n",
       "<style scoped>\n",
       "    .dataframe tbody tr th:only-of-type {\n",
       "        vertical-align: middle;\n",
       "    }\n",
       "\n",
       "    .dataframe tbody tr th {\n",
       "        vertical-align: top;\n",
       "    }\n",
       "\n",
       "    .dataframe thead th {\n",
       "        text-align: right;\n",
       "    }\n",
       "</style>\n",
       "<table border=\"1\" class=\"dataframe\">\n",
       "  <thead>\n",
       "    <tr style=\"text-align: right;\">\n",
       "      <th></th>\n",
       "      <th>DateCrawled</th>\n",
       "      <th>Price</th>\n",
       "      <th>VehicleType</th>\n",
       "      <th>RegistrationYear</th>\n",
       "      <th>Gearbox</th>\n",
       "      <th>Power</th>\n",
       "      <th>Model</th>\n",
       "      <th>Kilometer</th>\n",
       "      <th>RegistrationMonth</th>\n",
       "      <th>FuelType</th>\n",
       "      <th>Brand</th>\n",
       "      <th>NotRepaired</th>\n",
       "      <th>DateCreated</th>\n",
       "      <th>NumberOfPictures</th>\n",
       "      <th>PostalCode</th>\n",
       "      <th>LastSeen</th>\n",
       "    </tr>\n",
       "  </thead>\n",
       "  <tbody>\n",
       "    <tr>\n",
       "      <th>289094</th>\n",
       "      <td>2016-03-19 17:06:21</td>\n",
       "      <td>4999</td>\n",
       "      <td>sedan</td>\n",
       "      <td>2005</td>\n",
       "      <td>manual</td>\n",
       "      <td>116</td>\n",
       "      <td>1er</td>\n",
       "      <td>150000</td>\n",
       "      <td>12</td>\n",
       "      <td>petrol</td>\n",
       "      <td>bmw</td>\n",
       "      <td>no</td>\n",
       "      <td>2016-03-19 00:00:00</td>\n",
       "      <td>0</td>\n",
       "      <td>65549</td>\n",
       "      <td>2016-03-26 12:46:22</td>\n",
       "    </tr>\n",
       "    <tr>\n",
       "      <th>151315</th>\n",
       "      <td>2016-03-09 17:57:04</td>\n",
       "      <td>4699</td>\n",
       "      <td>wagon</td>\n",
       "      <td>2014</td>\n",
       "      <td>manual</td>\n",
       "      <td>95</td>\n",
       "      <td>other</td>\n",
       "      <td>150000</td>\n",
       "      <td>3</td>\n",
       "      <td>gasoline</td>\n",
       "      <td>fiat</td>\n",
       "      <td>no</td>\n",
       "      <td>2016-03-09 00:00:00</td>\n",
       "      <td>0</td>\n",
       "      <td>95632</td>\n",
       "      <td>2016-03-30 19:17:10</td>\n",
       "    </tr>\n",
       "    <tr>\n",
       "      <th>328441</th>\n",
       "      <td>2016-03-23 14:51:29</td>\n",
       "      <td>6700</td>\n",
       "      <td>sedan</td>\n",
       "      <td>2003</td>\n",
       "      <td>manual</td>\n",
       "      <td>170</td>\n",
       "      <td>a4</td>\n",
       "      <td>125000</td>\n",
       "      <td>10</td>\n",
       "      <td>petrol</td>\n",
       "      <td>audi</td>\n",
       "      <td>no</td>\n",
       "      <td>2016-03-23 00:00:00</td>\n",
       "      <td>0</td>\n",
       "      <td>34119</td>\n",
       "      <td>2016-04-05 18:17:11</td>\n",
       "    </tr>\n",
       "    <tr>\n",
       "      <th>251731</th>\n",
       "      <td>2016-03-26 18:51:16</td>\n",
       "      <td>14444</td>\n",
       "      <td>wagon</td>\n",
       "      <td>2009</td>\n",
       "      <td>auto</td>\n",
       "      <td>170</td>\n",
       "      <td>c_klasse</td>\n",
       "      <td>150000</td>\n",
       "      <td>11</td>\n",
       "      <td>gasoline</td>\n",
       "      <td>mercedes_benz</td>\n",
       "      <td>no</td>\n",
       "      <td>2016-03-26 00:00:00</td>\n",
       "      <td>0</td>\n",
       "      <td>83026</td>\n",
       "      <td>2016-04-06 08:17:24</td>\n",
       "    </tr>\n",
       "    <tr>\n",
       "      <th>167268</th>\n",
       "      <td>2016-03-08 19:57:17</td>\n",
       "      <td>2500</td>\n",
       "      <td>convertible</td>\n",
       "      <td>2001</td>\n",
       "      <td>manual</td>\n",
       "      <td>0</td>\n",
       "      <td>c_reihe</td>\n",
       "      <td>150000</td>\n",
       "      <td>4</td>\n",
       "      <td>petrol</td>\n",
       "      <td>volvo</td>\n",
       "      <td>NaN</td>\n",
       "      <td>2016-03-08 00:00:00</td>\n",
       "      <td>0</td>\n",
       "      <td>4103</td>\n",
       "      <td>2016-03-09 04:16:40</td>\n",
       "    </tr>\n",
       "  </tbody>\n",
       "</table>\n",
       "</div>"
      ],
      "text/plain": [
       "                DateCrawled  Price  VehicleType  RegistrationYear Gearbox  \\\n",
       "289094  2016-03-19 17:06:21   4999        sedan              2005  manual   \n",
       "151315  2016-03-09 17:57:04   4699        wagon              2014  manual   \n",
       "328441  2016-03-23 14:51:29   6700        sedan              2003  manual   \n",
       "251731  2016-03-26 18:51:16  14444        wagon              2009    auto   \n",
       "167268  2016-03-08 19:57:17   2500  convertible              2001  manual   \n",
       "\n",
       "        Power     Model  Kilometer  RegistrationMonth  FuelType  \\\n",
       "289094    116       1er     150000                 12    petrol   \n",
       "151315     95     other     150000                  3  gasoline   \n",
       "328441    170        a4     125000                 10    petrol   \n",
       "251731    170  c_klasse     150000                 11  gasoline   \n",
       "167268      0   c_reihe     150000                  4    petrol   \n",
       "\n",
       "                Brand NotRepaired          DateCreated  NumberOfPictures  \\\n",
       "289094            bmw          no  2016-03-19 00:00:00                 0   \n",
       "151315           fiat          no  2016-03-09 00:00:00                 0   \n",
       "328441           audi          no  2016-03-23 00:00:00                 0   \n",
       "251731  mercedes_benz          no  2016-03-26 00:00:00                 0   \n",
       "167268          volvo         NaN  2016-03-08 00:00:00                 0   \n",
       "\n",
       "        PostalCode             LastSeen  \n",
       "289094       65549  2016-03-26 12:46:22  \n",
       "151315       95632  2016-03-30 19:17:10  \n",
       "328441       34119  2016-04-05 18:17:11  \n",
       "251731       83026  2016-04-06 08:17:24  \n",
       "167268        4103  2016-03-09 04:16:40  "
      ]
     },
     "metadata": {},
     "output_type": "display_data"
    },
    {
     "name": "stdout",
     "output_type": "stream",
     "text": [
      "\n",
      "<class 'pandas.core.frame.DataFrame'>\n",
      "RangeIndex: 354369 entries, 0 to 354368\n",
      "Data columns (total 16 columns):\n",
      " #   Column             Non-Null Count   Dtype \n",
      "---  ------             --------------   ----- \n",
      " 0   DateCrawled        354369 non-null  object\n",
      " 1   Price              354369 non-null  int64 \n",
      " 2   VehicleType        316879 non-null  object\n",
      " 3   RegistrationYear   354369 non-null  int64 \n",
      " 4   Gearbox            334536 non-null  object\n",
      " 5   Power              354369 non-null  int64 \n",
      " 6   Model              334664 non-null  object\n",
      " 7   Kilometer          354369 non-null  int64 \n",
      " 8   RegistrationMonth  354369 non-null  int64 \n",
      " 9   FuelType           321474 non-null  object\n",
      " 10  Brand              354369 non-null  object\n",
      " 11  NotRepaired        283215 non-null  object\n",
      " 12  DateCreated        354369 non-null  object\n",
      " 13  NumberOfPictures   354369 non-null  int64 \n",
      " 14  PostalCode         354369 non-null  int64 \n",
      " 15  LastSeen           354369 non-null  object\n",
      "dtypes: int64(7), object(9)\n",
      "memory usage: 43.3+ MB\n"
     ]
    }
   ],
   "source": [
    "data = pd.read_csv('/datasets/autos.csv')\n",
    "display(data.sample(5))\n",
    "print()\n",
    "data.info()"
   ]
  },
  {
   "cell_type": "markdown",
   "metadata": {},
   "source": [
    "Для построения модели прогнозирующей стоимость авто (целевой признак **Price**) избавимся на начальном этапе от признаков, которые не оказывают влияние на формирование цены, а именно:\n",
    "- DateCrawled — дата скачивания анкеты из базы\n",
    "- RegistrationMonth — месяц регистрации автомобиля (для определения возраста авто достаточно иметь данные о годе регистрации)\n",
    "- DateCreated — дата создания анкеты\n",
    "- NumberOfPictures — количество фотографий автомобиля\n",
    "- PostalCode — почтовый индекс владельца анкеты (пользователя)\n",
    "- LastSeen — дата последней активности пользователя"
   ]
  },
  {
   "cell_type": "code",
   "execution_count": 4,
   "metadata": {
    "scrolled": true
   },
   "outputs": [
    {
     "name": "stdout",
     "output_type": "stream",
     "text": [
      "<class 'pandas.core.frame.DataFrame'>\n",
      "RangeIndex: 354369 entries, 0 to 354368\n",
      "Data columns (total 10 columns):\n",
      " #   Column            Non-Null Count   Dtype \n",
      "---  ------            --------------   ----- \n",
      " 0   Price             354369 non-null  int64 \n",
      " 1   VehicleType       316879 non-null  object\n",
      " 2   RegistrationYear  354369 non-null  int64 \n",
      " 3   Gearbox           334536 non-null  object\n",
      " 4   Power             354369 non-null  int64 \n",
      " 5   Model             334664 non-null  object\n",
      " 6   Kilometer         354369 non-null  int64 \n",
      " 7   FuelType          321474 non-null  object\n",
      " 8   Brand             354369 non-null  object\n",
      " 9   NotRepaired       283215 non-null  object\n",
      "dtypes: int64(4), object(6)\n",
      "memory usage: 27.0+ MB\n"
     ]
    }
   ],
   "source": [
    "data = data.drop(['DateCrawled', 'RegistrationMonth', 'DateCreated', 'NumberOfPictures', 'PostalCode', 'LastSeen'], axis=1)\n",
    "data.info()"
   ]
  },
  {
   "cell_type": "markdown",
   "metadata": {},
   "source": [
    "### Предобработка данных\n",
    "\n",
    "#### Обработка пропущенных значений\n",
    "\n",
    "Посмотрим на пропуски в категориальных признаках, можно ли с ними что-то сделать:"
   ]
  },
  {
   "cell_type": "code",
   "execution_count": 5,
   "metadata": {},
   "outputs": [
    {
     "name": "stdout",
     "output_type": "stream",
     "text": [
      "Уникальные значения VehicleType\n",
      "sedan          91457\n",
      "small          79831\n",
      "wagon          65166\n",
      "NaN            37490\n",
      "bus            28775\n",
      "convertible    20203\n",
      "coupe          16163\n",
      "suv            11996\n",
      "other           3288\n",
      "Name: VehicleType, dtype: int64\n",
      "\n",
      "Уникальные значения Gearbox\n",
      "manual    268251\n",
      "auto       66285\n",
      "NaN        19833\n",
      "Name: Gearbox, dtype: int64\n",
      "\n",
      "Уникальные значения Model\n",
      "golf                  29232\n",
      "other                 24421\n",
      "3er                   19761\n",
      "NaN                   19705\n",
      "polo                  13066\n",
      "                      ...  \n",
      "serie_2                   8\n",
      "rangerover                4\n",
      "serie_3                   4\n",
      "range_rover_evoque        2\n",
      "serie_1                   2\n",
      "Name: Model, Length: 251, dtype: int64\n",
      "\n",
      "Уникальные значения FuelType\n",
      "petrol      216352\n",
      "gasoline     98720\n",
      "NaN          32895\n",
      "lpg           5310\n",
      "cng            565\n",
      "hybrid         233\n",
      "other          204\n",
      "electric        90\n",
      "Name: FuelType, dtype: int64\n",
      "\n",
      "Уникальные значения NotRepaired\n",
      "no     247161\n",
      "NaN     71154\n",
      "yes     36054\n",
      "Name: NotRepaired, dtype: int64\n",
      "\n"
     ]
    }
   ],
   "source": [
    "for column in ['VehicleType', 'Gearbox', 'Model', 'FuelType', 'NotRepaired']:\n",
    "    print('Уникальные значения', column)\n",
    "    print(data[column].value_counts(dropna=False))\n",
    "    print()"
   ]
  },
  {
   "cell_type": "markdown",
   "metadata": {},
   "source": [
    "- **VehicleType**: пропущенных значений NaN достаточно много 37490, при этом присутствует небольшое кроличество объявлений с типом кузова other (3288). Посмотрим на несколько таких объявлений:"
   ]
  },
  {
   "cell_type": "code",
   "execution_count": 6,
   "metadata": {},
   "outputs": [
    {
     "data": {
      "text/html": [
       "<div>\n",
       "<style scoped>\n",
       "    .dataframe tbody tr th:only-of-type {\n",
       "        vertical-align: middle;\n",
       "    }\n",
       "\n",
       "    .dataframe tbody tr th {\n",
       "        vertical-align: top;\n",
       "    }\n",
       "\n",
       "    .dataframe thead th {\n",
       "        text-align: right;\n",
       "    }\n",
       "</style>\n",
       "<table border=\"1\" class=\"dataframe\">\n",
       "  <thead>\n",
       "    <tr style=\"text-align: right;\">\n",
       "      <th></th>\n",
       "      <th>Price</th>\n",
       "      <th>VehicleType</th>\n",
       "      <th>RegistrationYear</th>\n",
       "      <th>Gearbox</th>\n",
       "      <th>Power</th>\n",
       "      <th>Model</th>\n",
       "      <th>Kilometer</th>\n",
       "      <th>FuelType</th>\n",
       "      <th>Brand</th>\n",
       "      <th>NotRepaired</th>\n",
       "    </tr>\n",
       "  </thead>\n",
       "  <tbody>\n",
       "    <tr>\n",
       "      <th>201471</th>\n",
       "      <td>1850</td>\n",
       "      <td>other</td>\n",
       "      <td>1998</td>\n",
       "      <td>manual</td>\n",
       "      <td>101</td>\n",
       "      <td>3er</td>\n",
       "      <td>150000</td>\n",
       "      <td>petrol</td>\n",
       "      <td>bmw</td>\n",
       "      <td>NaN</td>\n",
       "    </tr>\n",
       "    <tr>\n",
       "      <th>53776</th>\n",
       "      <td>199</td>\n",
       "      <td>other</td>\n",
       "      <td>1983</td>\n",
       "      <td>NaN</td>\n",
       "      <td>77</td>\n",
       "      <td>other</td>\n",
       "      <td>100000</td>\n",
       "      <td>petrol</td>\n",
       "      <td>ford</td>\n",
       "      <td>NaN</td>\n",
       "    </tr>\n",
       "    <tr>\n",
       "      <th>322091</th>\n",
       "      <td>9900</td>\n",
       "      <td>other</td>\n",
       "      <td>2007</td>\n",
       "      <td>manual</td>\n",
       "      <td>110</td>\n",
       "      <td>sprinter</td>\n",
       "      <td>150000</td>\n",
       "      <td>gasoline</td>\n",
       "      <td>mercedes_benz</td>\n",
       "      <td>NaN</td>\n",
       "    </tr>\n",
       "    <tr>\n",
       "      <th>81319</th>\n",
       "      <td>4786</td>\n",
       "      <td>other</td>\n",
       "      <td>1969</td>\n",
       "      <td>manual</td>\n",
       "      <td>55</td>\n",
       "      <td>other</td>\n",
       "      <td>100000</td>\n",
       "      <td>petrol</td>\n",
       "      <td>audi</td>\n",
       "      <td>no</td>\n",
       "    </tr>\n",
       "    <tr>\n",
       "      <th>338859</th>\n",
       "      <td>2000</td>\n",
       "      <td>other</td>\n",
       "      <td>1996</td>\n",
       "      <td>manual</td>\n",
       "      <td>90</td>\n",
       "      <td>civic</td>\n",
       "      <td>150000</td>\n",
       "      <td>petrol</td>\n",
       "      <td>honda</td>\n",
       "      <td>NaN</td>\n",
       "    </tr>\n",
       "    <tr>\n",
       "      <th>149776</th>\n",
       "      <td>2500</td>\n",
       "      <td>other</td>\n",
       "      <td>1999</td>\n",
       "      <td>auto</td>\n",
       "      <td>0</td>\n",
       "      <td>sprinter</td>\n",
       "      <td>125000</td>\n",
       "      <td>gasoline</td>\n",
       "      <td>mercedes_benz</td>\n",
       "      <td>NaN</td>\n",
       "    </tr>\n",
       "    <tr>\n",
       "      <th>181332</th>\n",
       "      <td>4300</td>\n",
       "      <td>other</td>\n",
       "      <td>2004</td>\n",
       "      <td>manual</td>\n",
       "      <td>116</td>\n",
       "      <td>alhambra</td>\n",
       "      <td>150000</td>\n",
       "      <td>gasoline</td>\n",
       "      <td>seat</td>\n",
       "      <td>NaN</td>\n",
       "    </tr>\n",
       "    <tr>\n",
       "      <th>131611</th>\n",
       "      <td>3790</td>\n",
       "      <td>other</td>\n",
       "      <td>2004</td>\n",
       "      <td>manual</td>\n",
       "      <td>109</td>\n",
       "      <td>a_klasse</td>\n",
       "      <td>150000</td>\n",
       "      <td>gasoline</td>\n",
       "      <td>mercedes_benz</td>\n",
       "      <td>no</td>\n",
       "    </tr>\n",
       "    <tr>\n",
       "      <th>93446</th>\n",
       "      <td>1790</td>\n",
       "      <td>other</td>\n",
       "      <td>2001</td>\n",
       "      <td>manual</td>\n",
       "      <td>60</td>\n",
       "      <td>2_reihe</td>\n",
       "      <td>125000</td>\n",
       "      <td>petrol</td>\n",
       "      <td>peugeot</td>\n",
       "      <td>NaN</td>\n",
       "    </tr>\n",
       "    <tr>\n",
       "      <th>217868</th>\n",
       "      <td>700</td>\n",
       "      <td>other</td>\n",
       "      <td>1997</td>\n",
       "      <td>manual</td>\n",
       "      <td>90</td>\n",
       "      <td>civic</td>\n",
       "      <td>150000</td>\n",
       "      <td>petrol</td>\n",
       "      <td>honda</td>\n",
       "      <td>yes</td>\n",
       "    </tr>\n",
       "  </tbody>\n",
       "</table>\n",
       "</div>"
      ],
      "text/plain": [
       "        Price VehicleType  RegistrationYear Gearbox  Power     Model  \\\n",
       "201471   1850       other              1998  manual    101       3er   \n",
       "53776     199       other              1983     NaN     77     other   \n",
       "322091   9900       other              2007  manual    110  sprinter   \n",
       "81319    4786       other              1969  manual     55     other   \n",
       "338859   2000       other              1996  manual     90     civic   \n",
       "149776   2500       other              1999    auto      0  sprinter   \n",
       "181332   4300       other              2004  manual    116  alhambra   \n",
       "131611   3790       other              2004  manual    109  a_klasse   \n",
       "93446    1790       other              2001  manual     60   2_reihe   \n",
       "217868    700       other              1997  manual     90     civic   \n",
       "\n",
       "        Kilometer  FuelType          Brand NotRepaired  \n",
       "201471     150000    petrol            bmw         NaN  \n",
       "53776      100000    petrol           ford         NaN  \n",
       "322091     150000  gasoline  mercedes_benz         NaN  \n",
       "81319      100000    petrol           audi          no  \n",
       "338859     150000    petrol          honda         NaN  \n",
       "149776     125000  gasoline  mercedes_benz         NaN  \n",
       "181332     150000  gasoline           seat         NaN  \n",
       "131611     150000  gasoline  mercedes_benz          no  \n",
       "93446      125000    petrol        peugeot         NaN  \n",
       "217868     150000    petrol          honda         yes  "
      ]
     },
     "execution_count": 6,
     "metadata": {},
     "output_type": "execute_result"
    }
   ],
   "source": [
    "data[data['VehicleType'] == 'other'].sample(10)"
   ]
  },
  {
   "cell_type": "markdown",
   "metadata": {},
   "source": [
    "Можно заметить, что значение \"other\" в столбце **\"VehicleType\"** встречается в объявлениях, где кузов авто можно достоверно указать по марке и модели, так и в объявлениях, где в графе **\"Model\"** указано \"other\" либо NaN. Соответственно можно объединить эти два значения, т.е. вместо NaN в графе **\"VehicleType\"** указать \"other\".\n",
    "\n",
    "Аналогичным образом можно поступить и с заполнением пропусков в столбцах **\"Model\"** и **\"FuelType\"**- NaN заменить на \"other\"."
   ]
  },
  {
   "cell_type": "markdown",
   "metadata": {},
   "source": [
    "- **Gearbox**:  в типе коробки передач есть лишь два значения manual и auto, причем авто с механической КПП значительно больше, но достоверно заменить пропуски на один из типов нельзя, поэтому вместо пропусков в данных укажем заглушку \"other\".\n",
    "\n",
    "- **NotRepaired**: здесь также достоверно заменить пропуски нельзя, также укажем заглушку \"other\". \n",
    "\n",
    "*Таким образом во всех категориальных признаках пропущенные значения заменим на заглушку **\"other\"** дабы не искажать данные.*"
   ]
  },
  {
   "cell_type": "code",
   "execution_count": 7,
   "metadata": {},
   "outputs": [
    {
     "name": "stdout",
     "output_type": "stream",
     "text": [
      "<class 'pandas.core.frame.DataFrame'>\n",
      "RangeIndex: 354369 entries, 0 to 354368\n",
      "Data columns (total 10 columns):\n",
      " #   Column            Non-Null Count   Dtype \n",
      "---  ------            --------------   ----- \n",
      " 0   Price             354369 non-null  int64 \n",
      " 1   VehicleType       354369 non-null  object\n",
      " 2   RegistrationYear  354369 non-null  int64 \n",
      " 3   Gearbox           354369 non-null  object\n",
      " 4   Power             354369 non-null  int64 \n",
      " 5   Model             354369 non-null  object\n",
      " 6   Kilometer         354369 non-null  int64 \n",
      " 7   FuelType          354369 non-null  object\n",
      " 8   Brand             354369 non-null  object\n",
      " 9   NotRepaired       354369 non-null  object\n",
      "dtypes: int64(4), object(6)\n",
      "memory usage: 27.0+ MB\n"
     ]
    }
   ],
   "source": [
    "for column in ['VehicleType', 'Gearbox', 'Model', 'FuelType', 'NotRepaired']:\n",
    "    data[column] = data[column].fillna('other')\n",
    "data.info()"
   ]
  },
  {
   "cell_type": "markdown",
   "metadata": {},
   "source": [
    "Далее перейдем к обработке столбцов с количественными признаками, явных пропусков в них нет, посмотрим на наличие аномальных значений: "
   ]
  },
  {
   "cell_type": "code",
   "execution_count": 8,
   "metadata": {},
   "outputs": [
    {
     "data": {
      "text/html": [
       "<div>\n",
       "<style scoped>\n",
       "    .dataframe tbody tr th:only-of-type {\n",
       "        vertical-align: middle;\n",
       "    }\n",
       "\n",
       "    .dataframe tbody tr th {\n",
       "        vertical-align: top;\n",
       "    }\n",
       "\n",
       "    .dataframe thead th {\n",
       "        text-align: right;\n",
       "    }\n",
       "</style>\n",
       "<table border=\"1\" class=\"dataframe\">\n",
       "  <thead>\n",
       "    <tr style=\"text-align: right;\">\n",
       "      <th></th>\n",
       "      <th>Price</th>\n",
       "      <th>RegistrationYear</th>\n",
       "      <th>Power</th>\n",
       "      <th>Kilometer</th>\n",
       "    </tr>\n",
       "  </thead>\n",
       "  <tbody>\n",
       "    <tr>\n",
       "      <th>count</th>\n",
       "      <td>354369.000000</td>\n",
       "      <td>354369.000000</td>\n",
       "      <td>354369.000000</td>\n",
       "      <td>354369.000000</td>\n",
       "    </tr>\n",
       "    <tr>\n",
       "      <th>mean</th>\n",
       "      <td>4416.656776</td>\n",
       "      <td>2004.234448</td>\n",
       "      <td>110.094337</td>\n",
       "      <td>128211.172535</td>\n",
       "    </tr>\n",
       "    <tr>\n",
       "      <th>std</th>\n",
       "      <td>4514.158514</td>\n",
       "      <td>90.227958</td>\n",
       "      <td>189.850405</td>\n",
       "      <td>37905.341530</td>\n",
       "    </tr>\n",
       "    <tr>\n",
       "      <th>min</th>\n",
       "      <td>0.000000</td>\n",
       "      <td>1000.000000</td>\n",
       "      <td>0.000000</td>\n",
       "      <td>5000.000000</td>\n",
       "    </tr>\n",
       "    <tr>\n",
       "      <th>25%</th>\n",
       "      <td>1050.000000</td>\n",
       "      <td>1999.000000</td>\n",
       "      <td>69.000000</td>\n",
       "      <td>125000.000000</td>\n",
       "    </tr>\n",
       "    <tr>\n",
       "      <th>50%</th>\n",
       "      <td>2700.000000</td>\n",
       "      <td>2003.000000</td>\n",
       "      <td>105.000000</td>\n",
       "      <td>150000.000000</td>\n",
       "    </tr>\n",
       "    <tr>\n",
       "      <th>75%</th>\n",
       "      <td>6400.000000</td>\n",
       "      <td>2008.000000</td>\n",
       "      <td>143.000000</td>\n",
       "      <td>150000.000000</td>\n",
       "    </tr>\n",
       "    <tr>\n",
       "      <th>max</th>\n",
       "      <td>20000.000000</td>\n",
       "      <td>9999.000000</td>\n",
       "      <td>20000.000000</td>\n",
       "      <td>150000.000000</td>\n",
       "    </tr>\n",
       "  </tbody>\n",
       "</table>\n",
       "</div>"
      ],
      "text/plain": [
       "               Price  RegistrationYear          Power      Kilometer\n",
       "count  354369.000000     354369.000000  354369.000000  354369.000000\n",
       "mean     4416.656776       2004.234448     110.094337  128211.172535\n",
       "std      4514.158514         90.227958     189.850405   37905.341530\n",
       "min         0.000000       1000.000000       0.000000    5000.000000\n",
       "25%      1050.000000       1999.000000      69.000000  125000.000000\n",
       "50%      2700.000000       2003.000000     105.000000  150000.000000\n",
       "75%      6400.000000       2008.000000     143.000000  150000.000000\n",
       "max     20000.000000       9999.000000   20000.000000  150000.000000"
      ]
     },
     "execution_count": 8,
     "metadata": {},
     "output_type": "execute_result"
    }
   ],
   "source": [
    "data.describe()"
   ]
  },
  {
   "cell_type": "markdown",
   "metadata": {},
   "source": [
    "- **Price**: минимальное значение 0 (бесплатно за авто), максимальное - 20000 Евро. Если верхняя граница вполне реалистична, то с нижней необходимо разобраться - действительно ли кто-то отдавал свой авто бесплатно либо это пропущеннные значения. Построим гистограмму распределения стоимости авто:"
   ]
  },
  {
   "cell_type": "code",
   "execution_count": 9,
   "metadata": {},
   "outputs": [
    {
     "data": {
      "image/png": "[encoded data removed]",
      "text/plain": [
       "<Figure size 1080x576 with 1 Axes>"
      ]
     },
     "metadata": {
      "needs_background": "light"
     },
     "output_type": "display_data"
    }
   ],
   "source": [
    "plt.figure(figsize=(15, 8))\n",
    "plt.hist(data['Price'], bins = 50)\n",
    "plt.title(\"Гистограмма распределения цены\")\n",
    "plt.xlabel(\"Цена авто, евро\")\n",
    "plt.ylabel(\"Количество объявлений\")\n",
    "plt.show()"
   ]
  },
  {
   "cell_type": "markdown",
   "metadata": {},
   "source": [
    "Судя по гистограмме огромное количество объявлений имеют значение в графе \"Цена\" = 0, что странно, даже учитывая наличие объявлений о продаже битых авто."
   ]
  },
  {
   "cell_type": "code",
   "execution_count": 10,
   "metadata": {},
   "outputs": [
    {
     "data": {
      "text/plain": [
       "<AxesSubplot:title={'center':'Диаграмма распределения объявлений по цене авто'}, xlabel='Price'>"
      ]
     },
     "execution_count": 10,
     "metadata": {},
     "output_type": "execute_result"
    },
    {
     "data": {
      "image/png": "[encoded data removed]",
      "text/plain": [
       "<Figure size 864x576 with 1 Axes>"
      ]
     },
     "metadata": {
      "needs_background": "light"
     },
     "output_type": "display_data"
    }
   ],
   "source": [
    "plt.figure(figsize=(12, 8))\n",
    "plt.title(\"Диаграмма распределения объявлений по цене авто\")\n",
    "sns.boxplot(data['Price'])"
   ]
  },
  {
   "cell_type": "markdown",
   "metadata": {},
   "source": [
    "Судя по \"ящику с усами\", минимум нормальных значений находится около 0, а максимум - чуть менее 15 000. Изучим эти минимумы и максимумы и определим, действительно ли они являются выбросами."
   ]
  },
  {
   "cell_type": "code",
   "execution_count": 11,
   "metadata": {},
   "outputs": [
    {
     "data": {
      "text/html": [
       "<div>\n",
       "<style scoped>\n",
       "    .dataframe tbody tr th:only-of-type {\n",
       "        vertical-align: middle;\n",
       "    }\n",
       "\n",
       "    .dataframe tbody tr th {\n",
       "        vertical-align: top;\n",
       "    }\n",
       "\n",
       "    .dataframe thead th {\n",
       "        text-align: right;\n",
       "    }\n",
       "</style>\n",
       "<table border=\"1\" class=\"dataframe\">\n",
       "  <thead>\n",
       "    <tr style=\"text-align: right;\">\n",
       "      <th></th>\n",
       "      <th>Price</th>\n",
       "      <th>VehicleType</th>\n",
       "      <th>RegistrationYear</th>\n",
       "      <th>Gearbox</th>\n",
       "      <th>Power</th>\n",
       "      <th>Model</th>\n",
       "      <th>Kilometer</th>\n",
       "      <th>FuelType</th>\n",
       "      <th>Brand</th>\n",
       "      <th>NotRepaired</th>\n",
       "    </tr>\n",
       "  </thead>\n",
       "  <tbody>\n",
       "    <tr>\n",
       "      <th>7</th>\n",
       "      <td>0</td>\n",
       "      <td>sedan</td>\n",
       "      <td>1980</td>\n",
       "      <td>manual</td>\n",
       "      <td>50</td>\n",
       "      <td>other</td>\n",
       "      <td>40000</td>\n",
       "      <td>petrol</td>\n",
       "      <td>volkswagen</td>\n",
       "      <td>no</td>\n",
       "    </tr>\n",
       "    <tr>\n",
       "      <th>40</th>\n",
       "      <td>0</td>\n",
       "      <td>other</td>\n",
       "      <td>1990</td>\n",
       "      <td>other</td>\n",
       "      <td>0</td>\n",
       "      <td>corsa</td>\n",
       "      <td>150000</td>\n",
       "      <td>petrol</td>\n",
       "      <td>opel</td>\n",
       "      <td>other</td>\n",
       "    </tr>\n",
       "    <tr>\n",
       "      <th>111</th>\n",
       "      <td>0</td>\n",
       "      <td>other</td>\n",
       "      <td>2017</td>\n",
       "      <td>manual</td>\n",
       "      <td>0</td>\n",
       "      <td>golf</td>\n",
       "      <td>5000</td>\n",
       "      <td>petrol</td>\n",
       "      <td>volkswagen</td>\n",
       "      <td>other</td>\n",
       "    </tr>\n",
       "    <tr>\n",
       "      <th>115</th>\n",
       "      <td>0</td>\n",
       "      <td>small</td>\n",
       "      <td>1999</td>\n",
       "      <td>other</td>\n",
       "      <td>0</td>\n",
       "      <td>other</td>\n",
       "      <td>5000</td>\n",
       "      <td>petrol</td>\n",
       "      <td>volkswagen</td>\n",
       "      <td>other</td>\n",
       "    </tr>\n",
       "    <tr>\n",
       "      <th>152</th>\n",
       "      <td>0</td>\n",
       "      <td>bus</td>\n",
       "      <td>2004</td>\n",
       "      <td>manual</td>\n",
       "      <td>101</td>\n",
       "      <td>meriva</td>\n",
       "      <td>150000</td>\n",
       "      <td>lpg</td>\n",
       "      <td>opel</td>\n",
       "      <td>yes</td>\n",
       "    </tr>\n",
       "  </tbody>\n",
       "</table>\n",
       "</div>"
      ],
      "text/plain": [
       "     Price VehicleType  RegistrationYear Gearbox  Power   Model  Kilometer  \\\n",
       "7        0       sedan              1980  manual     50   other      40000   \n",
       "40       0       other              1990   other      0   corsa     150000   \n",
       "111      0       other              2017  manual      0    golf       5000   \n",
       "115      0       small              1999   other      0   other       5000   \n",
       "152      0         bus              2004  manual    101  meriva     150000   \n",
       "\n",
       "    FuelType       Brand NotRepaired  \n",
       "7     petrol  volkswagen          no  \n",
       "40    petrol        opel       other  \n",
       "111   petrol  volkswagen       other  \n",
       "115   petrol  volkswagen       other  \n",
       "152      lpg        opel         yes  "
      ]
     },
     "metadata": {},
     "output_type": "display_data"
    },
    {
     "data": {
      "text/plain": [
       "10772"
      ]
     },
     "execution_count": 11,
     "metadata": {},
     "output_type": "execute_result"
    }
   ],
   "source": [
    "display(data[data['Price'] == 0].head())\n",
    "data[data['Price'] == 0]['Price'].count()"
   ]
  },
  {
   "cell_type": "markdown",
   "metadata": {},
   "source": [
    "Возможно бесплатно отдают битые или очень старые авто? "
   ]
  },
  {
   "cell_type": "code",
   "execution_count": 12,
   "metadata": {},
   "outputs": [
    {
     "name": "stdout",
     "output_type": "stream",
     "text": [
      "Распределение авто с ценником 0 Евро (не-)находившихся в ремонте:\n"
     ]
    },
    {
     "data": {
      "text/plain": [
       "other    5288\n",
       "no       3479\n",
       "yes      2005\n",
       "Name: NotRepaired, dtype: int64"
      ]
     },
     "execution_count": 12,
     "metadata": {},
     "output_type": "execute_result"
    }
   ],
   "source": [
    "print('Распределение авто с ценником 0 Евро (не-)находившихся в ремонте:')\n",
    "data[data['Price'] == 0]['NotRepaired'].value_counts()"
   ]
  },
  {
   "cell_type": "code",
   "execution_count": 13,
   "metadata": {
    "scrolled": false
   },
   "outputs": [
    {
     "name": "stdout",
     "output_type": "stream",
     "text": [
      "Распределение авто с ценником 0 Евро по году регистрации:\n"
     ]
    },
    {
     "data": {
      "text/plain": [
       "2000    1418\n",
       "1999     733\n",
       "1998     721\n",
       "1997     675\n",
       "1995     654\n",
       "2016     631\n",
       "2005     585\n",
       "2017     546\n",
       "1996     471\n",
       "2001     470\n",
       "Name: RegistrationYear, dtype: int64"
      ]
     },
     "execution_count": 13,
     "metadata": {},
     "output_type": "execute_result"
    }
   ],
   "source": [
    "print('Распределение авто с ценником 0 Евро по году регистрации:')\n",
    "data[data['Price'] == 0]['RegistrationYear'].value_counts().head(10)"
   ]
  },
  {
   "cell_type": "markdown",
   "metadata": {},
   "source": [
    "Однозначно определить, почему стоимость авто указано 0 Евро нельзя, так как с таким ценником встречаются как битые, так и не битые авто, старые и не очень. \n",
    "\n",
    "- **RegistrationYear** — год регистрации автомобиля\n",
    "\n",
    "Определим диапазон \"правдоподобности\" данных, верхняя граница - дата скачивания анкет (2016 год), года регистрации из будущего быть не может, нижняя граница - дата начала серийного производства авто с ДВС 1885 год (согласно Википедии). Посмотрим на данные, которые не попадают в условный диапазон:"
   ]
  },
  {
   "cell_type": "code",
   "execution_count": 14,
   "metadata": {},
   "outputs": [
    {
     "data": {
      "text/plain": [
       "1000    37\n",
       "1800     5\n",
       "1500     5\n",
       "1234     4\n",
       "1111     3\n",
       "1300     2\n",
       "1600     2\n",
       "1039     1\n",
       "1688     1\n",
       "1200     1\n",
       "1602     1\n",
       "1253     1\n",
       "1255     1\n",
       "1001     1\n",
       "1400     1\n",
       "Name: RegistrationYear, dtype: int64"
      ]
     },
     "execution_count": 14,
     "metadata": {},
     "output_type": "execute_result"
    }
   ],
   "source": [
    "data[data['RegistrationYear'] < 1885]['RegistrationYear'].value_counts()"
   ]
  },
  {
   "cell_type": "code",
   "execution_count": 15,
   "metadata": {},
   "outputs": [
    {
     "data": {
      "text/plain": [
       "2017    10441\n",
       "2018     3959\n",
       "9999       26\n",
       "2019       25\n",
       "5000       17\n",
       "3000        7\n",
       "6000        5\n",
       "2500        4\n",
       "7000        4\n",
       "4000        3\n",
       "9000        3\n",
       "8000        2\n",
       "5555        2\n",
       "2222        2\n",
       "2800        2\n",
       "4500        2\n",
       "5911        2\n",
       "3700        1\n",
       "3500        1\n",
       "2900        1\n",
       "8500        1\n",
       "4100        1\n",
       "9450        1\n",
       "5900        1\n",
       "6500        1\n",
       "7100        1\n",
       "5300        1\n",
       "7800        1\n",
       "8888        1\n",
       "8200        1\n",
       "9996        1\n",
       "8455        1\n",
       "2290        1\n",
       "2066        1\n",
       "5600        1\n",
       "4800        1\n",
       "3800        1\n",
       "3200        1\n",
       "9229        1\n",
       "2200        1\n",
       "7500        1\n",
       "Name: RegistrationYear, dtype: int64"
      ]
     },
     "execution_count": 15,
     "metadata": {},
     "output_type": "execute_result"
    }
   ],
   "source": [
    "data[data['RegistrationYear'] > 2016]['RegistrationYear'].value_counts()"
   ]
  },
  {
   "cell_type": "markdown",
   "metadata": {},
   "source": [
    "Очевидно, что это явные выбросы, появившиеся в результате ошибки либо некорректного заполнения объявления. Поскольку таких объявлений немного относительно всего датасета, избавимся от них удалением этих данных:"
   ]
  },
  {
   "cell_type": "code",
   "execution_count": 16,
   "metadata": {
    "scrolled": true
   },
   "outputs": [
    {
     "name": "stdout",
     "output_type": "stream",
     "text": [
      "count    339773.000000\n",
      "mean       2002.482222\n",
      "std           7.091181\n",
      "min        1910.000000\n",
      "25%        1999.000000\n",
      "50%        2003.000000\n",
      "75%        2007.000000\n",
      "max        2016.000000\n",
      "Name: RegistrationYear, dtype: float64\n"
     ]
    },
    {
     "data": {
      "text/plain": [
       "<AxesSubplot:title={'center':'Диаграмма распределения объявлений по году регистрации авто'}, xlabel='RegistrationYear'>"
      ]
     },
     "execution_count": 16,
     "metadata": {},
     "output_type": "execute_result"
    },
    {
     "data": {
      "image/png": "[encoded data removed]",
      "text/plain": [
       "<Figure size 864x576 with 1 Axes>"
      ]
     },
     "metadata": {
      "needs_background": "light"
     },
     "output_type": "display_data"
    }
   ],
   "source": [
    "data = data.query(\"1885 <= RegistrationYear <= 2016\")\n",
    "print(data['RegistrationYear'].describe())\n",
    "plt.figure(figsize=(12, 8))\n",
    "plt.title(\"Диаграмма распределения объявлений по году регистрации авто\")\n",
    "sns.boxplot(data['RegistrationYear'])"
   ]
  },
  {
   "cell_type": "code",
   "execution_count": 17,
   "metadata": {},
   "outputs": [
    {
     "data": {
      "text/plain": [
       "2016    354369\n",
       "Name: DateCrawled, dtype: int64"
      ]
     },
     "execution_count": 17,
     "metadata": {},
     "output_type": "execute_result"
    }
   ],
   "source": [
    "import datetime as dt\n",
    "data_new = pd.read_csv('/datasets/autos.csv')\n",
    "\n",
    "data_new['DateCrawled'] = pd.to_datetime(data_new['DateCrawled'])\n",
    "data_new['DateCrawled'] = data_new['DateCrawled'].dt.year\n",
    "data_new['DateCrawled'].value_counts()"
   ]
  },
  {
   "cell_type": "markdown",
   "metadata": {},
   "source": [
    "Из диаграммы следует, что большинство авто по году регистрации находятся в диапазоне 1999 - 2008 годы, если от выбросов верхней границы мы избавились, то в данных еще встречаются объявления, год регистрации авто в которых значительно меньше наблюдаемого минимума, допустимо предположить, что это объявления о продаже ретроавтомобилей.\n",
    "- **Power** — мощность (л. с.)\n",
    "\n",
    "Здесь определить диапазон \"правдоподобности\" сложно, нет точного минимума и максимума показателя мощности двигателя при таком большом количестве данных. Явно, что значений 0 либо близких к нулю быть не может, как и слишком больших (более 1500 л.с.). Изучим минимумы и максимумы распределения значений:"
   ]
  },
  {
   "cell_type": "code",
   "execution_count": 18,
   "metadata": {},
   "outputs": [
    {
     "data": {
      "text/plain": [
       "Power\n",
       "0    36453\n",
       "1       31\n",
       "2       10\n",
       "3        8\n",
       "4       30\n",
       "5      103\n",
       "6       11\n",
       "7       11\n",
       "8        7\n",
       "9        5\n",
       "Name: Power, dtype: int64"
      ]
     },
     "execution_count": 18,
     "metadata": {},
     "output_type": "execute_result"
    }
   ],
   "source": [
    "data.groupby(['Power'])['Power'].count().head(10)"
   ]
  },
  {
   "cell_type": "code",
   "execution_count": 19,
   "metadata": {},
   "outputs": [
    {
     "data": {
      "text/plain": [
       "186"
      ]
     },
     "execution_count": 19,
     "metadata": {},
     "output_type": "execute_result"
    }
   ],
   "source": [
    "data[data['Power'] > 1500]['Power'].count()"
   ]
  },
  {
   "cell_type": "code",
   "execution_count": 20,
   "metadata": {},
   "outputs": [
    {
     "data": {
      "text/plain": [
       "[]"
      ]
     },
     "execution_count": 20,
     "metadata": {},
     "output_type": "execute_result"
    },
    {
     "data": {
      "image/png": "[encoded data removed]",
      "text/plain": [
       "<Figure size 864x576 with 1 Axes>"
      ]
     },
     "metadata": {
      "needs_background": "light"
     },
     "output_type": "display_data"
    }
   ],
   "source": [
    "plt.figure(figsize=(12, 8))\n",
    "plt.title(\"Диаграмма распределения объявлений по мощности двигателя\")\n",
    "sns.boxplot(data['Power']).semilogx()"
   ]
  },
  {
   "cell_type": "markdown",
   "metadata": {},
   "source": [
    "Огромное количество объявлений имеют в графе \"Мощность двигателя\" значение 0, избавиться от всех этих объявлений мы не можем, их слишком много, замена на медианные или средние значения может исказить данные, поэтому оставим все как есть.\n",
    "\n",
    "- **Kilometer** — пробег (км)"
   ]
  },
  {
   "cell_type": "code",
   "execution_count": 21,
   "metadata": {},
   "outputs": [
    {
     "data": {
      "text/plain": [
       "<AxesSubplot:title={'center':'гистограмма распределения объявлений по пробегу авто'}, xlabel='Kilometer', ylabel='Density'>"
      ]
     },
     "execution_count": 21,
     "metadata": {},
     "output_type": "execute_result"
    },
    {
     "data": {
      "image/png": "[encoded data removed]",
      "text/plain": [
       "<Figure size 864x432 with 1 Axes>"
      ]
     },
     "metadata": {
      "needs_background": "light"
     },
     "output_type": "display_data"
    }
   ],
   "source": [
    "plt.figure(figsize=(12, 6))\n",
    "plt.title(\"гистограмма распределения объявлений по пробегу авто\")\n",
    "sns.distplot(data['Kilometer'], color = 'r')"
   ]
  },
  {
   "cell_type": "markdown",
   "metadata": {},
   "source": [
    "В данных о пробеге авто есть одна странность - максимальный указанный пробег 150 000 км (таких объявлений большинство), видимо максимум вводимого значения был ограничен на таком уровне. Оставим все как есть, тем более что как-то качественно исправить это мы вряд ли способны.\n",
    "\n",
    "#### Проверим данные на наличие явных дубликатов:"
   ]
  },
  {
   "cell_type": "code",
   "execution_count": 22,
   "metadata": {},
   "outputs": [
    {
     "data": {
      "text/plain": [
       "44244"
      ]
     },
     "execution_count": 22,
     "metadata": {},
     "output_type": "execute_result"
    }
   ],
   "source": [
    "data.duplicated().sum()"
   ]
  },
  {
   "cell_type": "markdown",
   "metadata": {},
   "source": [
    "Дубликатов достаточно много, удалим их из данных, чтобы не допустить переобучения модели:"
   ]
  },
  {
   "cell_type": "code",
   "execution_count": 23,
   "metadata": {},
   "outputs": [
    {
     "name": "stdout",
     "output_type": "stream",
     "text": [
      "<class 'pandas.core.frame.DataFrame'>\n",
      "RangeIndex: 295529 entries, 0 to 295528\n",
      "Data columns (total 10 columns):\n",
      " #   Column            Non-Null Count   Dtype \n",
      "---  ------            --------------   ----- \n",
      " 0   Price             295529 non-null  int64 \n",
      " 1   VehicleType       295529 non-null  object\n",
      " 2   RegistrationYear  295529 non-null  int64 \n",
      " 3   Gearbox           295529 non-null  object\n",
      " 4   Power             295529 non-null  int64 \n",
      " 5   Model             295529 non-null  object\n",
      " 6   Kilometer         295529 non-null  int64 \n",
      " 7   FuelType          295529 non-null  object\n",
      " 8   Brand             295529 non-null  object\n",
      " 9   NotRepaired       295529 non-null  object\n",
      "dtypes: int64(4), object(6)\n",
      "memory usage: 22.5+ MB\n"
     ]
    }
   ],
   "source": [
    "data = data.drop_duplicates().reset_index(drop=True)\n",
    "data.info()"
   ]
  },
  {
   "cell_type": "markdown",
   "metadata": {},
   "source": [
    "### Проверим данные на мультиколлинеарность"
   ]
  },
  {
   "cell_type": "code",
   "execution_count": 24,
   "metadata": {
    "scrolled": false
   },
   "outputs": [
    {
     "data": {
      "text/plain": [
       "<AxesSubplot:>"
      ]
     },
     "execution_count": 24,
     "metadata": {},
     "output_type": "execute_result"
    },
    {
     "data": {
      "image/png": "[encoded data removed]",
      "text/plain": [
       "<Figure size 432x288 with 2 Axes>"
      ]
     },
     "metadata": {
      "needs_background": "light"
     },
     "output_type": "display_data"
    }
   ],
   "source": [
    "sns.heatmap(data.corr(), annot=True, linewidths=3, linecolor='white')"
   ]
  },
  {
   "cell_type": "markdown",
   "metadata": {},
   "source": [
    "Зависимость целевого признака (Price) от других признаков есть, но незначительная. Нет и явной зависимости обучающих признаков между собой, поэтому удаление какого-либо из признаков не требуется.\n",
    "\n",
    "### Подготовка признаков к обучению модели\n",
    "\n",
    "#### Кодирование признаков"
   ]
  },
  {
   "cell_type": "markdown",
   "metadata": {},
   "source": [
    "Для линейных моделей применима техника кодирования OHE, для деревянных моделей - техника OE, для бустинговых моделей кодирование признаков не требуется, но рекомендуется перевести все нечисловые типы данных в тип **category**. Создадим три датасета с разными техниками кодирования (OHE, OE, CAT), которые в дальнейшем будем использовать для обучения моделей:"
   ]
  },
  {
   "cell_type": "code",
   "execution_count": 25,
   "metadata": {},
   "outputs": [],
   "source": [
    "columns_features = ['VehicleType', 'Gearbox', 'Model', 'FuelType', 'Brand', 'NotRepaired']\n",
    "\n",
    "# кодирование техникой OHE\n",
    "data_ohe = pd.get_dummies(data, drop_first=True, columns = columns_features)\n",
    "\n",
    "# кодирование техникой OE\n",
    "encoder = OrdinalEncoder()\n",
    "data_oe = data.copy()\n",
    "data_oe[columns_features] = encoder.fit_transform(data_oe[columns_features])\n",
    "\n",
    "# без кодирования с типами данных category\n",
    "data_cat = data.copy()\n",
    "def obj_to_cat (data_cat):\n",
    "    for c in data_cat.columns:\n",
    "        col_type = data_cat[c].dtype\n",
    "        if col_type == 'object' or col_type.name == 'category':\n",
    "            data_cat[c] = data_cat[c].astype('category')\n",
    "            \n",
    "for features in ['features_train_without', 'features_test_without']:\n",
    "    obj_to_cat(data_cat)"
   ]
  },
  {
   "cell_type": "markdown",
   "metadata": {},
   "source": [
    "#### Деление на выборки\n",
    "\n",
    "Разделим каждый из полученных датасетов на 3 выборки тренировочную, валидационную и тестовую в отношении 60/20/20, напишем собственную функцию, которая будет отделять признаки и целевой признак, а также делить данные на две выборки в указанной пропорции:"
   ]
  },
  {
   "cell_type": "code",
   "execution_count": 26,
   "metadata": {},
   "outputs": [],
   "source": [
    "def split_func (data):\n",
    "    target = data['Price']\n",
    "    features = data.drop('Price', axis=1)\n",
    "    \n",
    "    features_train, features_valid_test, target_train, target_valid_test = train_test_split(\n",
    "        features, target, test_size=0.4, random_state=12345)\n",
    "    features_valid, features_test, target_valid, target_test = train_test_split(\n",
    "        features_valid_test, target_valid_test, test_size=0.5, random_state=12345)\n",
    "    \n",
    "    \n",
    "    return features_train, features_valid, features_test, target_train, target_valid, target_test"
   ]
  },
  {
   "cell_type": "markdown",
   "metadata": {},
   "source": [
    "Разделим каждый из полученных датасетов и посмотрим на получившиеся размеры выборок:"
   ]
  },
  {
   "cell_type": "code",
   "execution_count": 27,
   "metadata": {},
   "outputs": [
    {
     "name": "stdout",
     "output_type": "stream",
     "text": [
      "(177317, 308)\n",
      "(59106, 308)\n",
      "(59106, 308)\n",
      "(177317,)\n",
      "(59106,)\n",
      "(59106,)\n"
     ]
    }
   ],
   "source": [
    "features_train_ohe, features_valid_ohe, features_test_ohe, target_train_ohe, target_valid_ohe, target_test_ohe = split_func(data_ohe)\n",
    "for features in [features_train_ohe, features_valid_ohe, features_test_ohe, target_train_ohe, target_valid_ohe, target_test_ohe]:\n",
    "    print(features.shape)"
   ]
  },
  {
   "cell_type": "code",
   "execution_count": 29,
   "metadata": {},
   "outputs": [
    {
     "name": "stdout",
     "output_type": "stream",
     "text": [
      "(177317, 9)\n",
      "(59106, 9)\n",
      "(59106, 9)\n",
      "(177317,)\n",
      "(59106,)\n",
      "(59106,)\n"
     ]
    }
   ],
   "source": [
    "features_train_oe, features_valid_oe, features_test_oe, target_train_oe, target_valid_oe, target_test_oe = split_func(data_oe)\n",
    "for features in [features_train_oe, features_valid_oe, features_test_oe, target_train_oe, target_valid_oe, target_test_oe]:\n",
    "    print(features.shape)"
   ]
  },
  {
   "cell_type": "code",
   "execution_count": 30,
   "metadata": {},
   "outputs": [
    {
     "name": "stdout",
     "output_type": "stream",
     "text": [
      "(177317, 9)\n",
      "(59106, 9)\n",
      "(59106, 9)\n",
      "(177317,)\n",
      "(59106,)\n",
      "(59106,)\n"
     ]
    }
   ],
   "source": [
    "features_train_cat, features_valid_cat, features_test_cat, target_train_cat, target_valid_cat, target_test_cat = split_func(data_cat)\n",
    "for features in [features_train_cat, features_valid_cat, features_test_cat, target_train_cat, target_valid_cat, target_test_cat]:\n",
    "    print(features.shape)"
   ]
  },
  {
   "cell_type": "markdown",
   "metadata": {},
   "source": [
    "#### Масштабирование признаков\n",
    "\n",
    "Проведем масштабирование признаков во всех выборках, напишем для этого собственную функцию:"
   ]
  },
  {
   "cell_type": "code",
   "execution_count": 31,
   "metadata": {},
   "outputs": [],
   "source": [
    "def scal_func (features_train, features_valid, features_test):\n",
    "    numeric = ['RegistrationYear', 'Power', 'Kilometer']\n",
    "    scaler = StandardScaler()\n",
    "    scaler.fit(features_train[numeric])\n",
    "    \n",
    "    features_train[numeric] = scaler.transform(features_train[numeric])\n",
    "    features_valid[numeric] = scaler.transform(features_valid[numeric])\n",
    "    features_test[numeric] = scaler.transform(features_test[numeric])\n",
    "    \n",
    "    return features_train, features_valid, features_test"
   ]
  },
  {
   "cell_type": "markdown",
   "metadata": {},
   "source": [
    "Масштабируем признаки каждого из датасетов:"
   ]
  },
  {
   "cell_type": "code",
   "execution_count": 32,
   "metadata": {},
   "outputs": [],
   "source": [
    "features_train_ohe, features_valid_ohe, features_test_ohe = scal_func (features_train_ohe, features_valid_ohe, features_test_ohe)\n",
    "features_train_oe, features_valid_oe, features_test_oe = scal_func (features_train_oe, features_valid_oe, features_test_oe)\n",
    "features_train_cat, features_valid_cat, features_test_cat = scal_func (features_train_cat, features_valid_cat, features_test_cat)"
   ]
  },
  {
   "cell_type": "markdown",
   "metadata": {},
   "source": [
    "**ВЫВОД**:\n",
    "\n",
    "- На этапе предобработки данных избавились от лишних признаков, которые не повлияют на качество модели\n",
    "- Пропущенные значения в категориальных переменных заменили значением \"other\"\n",
    "- Пропущенные и нулевые значения в количественных переменных оставили без изменений (качественно их заменить нельзя)\n",
    "- Избавились от явных выбросов в столбце \"Год регистрации\" авто\n",
    "- Избавились от явных дубликатов в данных\n",
    "- Для обучения раного типа моделей создали три сета с данными, для каждого из которых применили отдельный вид кодирования\n",
    "- Провели масштабирование данных всех трех фреймов\n",
    "\n",
    "Предобработка данных завершена, можно приступить к обучению моделей."
   ]
  },
  {
   "cell_type": "markdown",
   "metadata": {},
   "source": [
    "## Обучение моделей\n",
    "\n",
    "Создадим словарь, куда будем записывать данные о скорости и качестве работы моделей:"
   ]
  },
  {
   "cell_type": "code",
   "execution_count": 33,
   "metadata": {},
   "outputs": [],
   "source": [
    "test_results = {}"
   ]
  },
  {
   "cell_type": "markdown",
   "metadata": {},
   "source": [
    "На тренировочной выборке поочередно проведем обучение следующих моделей: линейная регрессия, решающее дерево, случайный лес, CatBoost, LightGBM.\n",
    "\n",
    "### Линейная регрессия (LinearRegression)"
   ]
  },
  {
   "cell_type": "markdown",
   "metadata": {},
   "source": [
    "- Скорость обучения:"
   ]
  },
  {
   "cell_type": "code",
   "execution_count": 34,
   "metadata": {},
   "outputs": [
    {
     "name": "stdout",
     "output_type": "stream",
     "text": [
      "CPU times: user 15.5 s, sys: 8.44 s, total: 23.9 s\n",
      "Wall time: 23.9 s\n"
     ]
    },
    {
     "data": {
      "text/plain": [
       "LinearRegression()"
      ]
     },
     "execution_count": 34,
     "metadata": {},
     "output_type": "execute_result"
    }
   ],
   "source": [
    "%%time\n",
    "linear_model = LinearRegression()\n",
    "linear_model.fit(features_train_ohe, target_train_ohe)"
   ]
  },
  {
   "cell_type": "markdown",
   "metadata": {},
   "source": [
    "- Скорость предсказания"
   ]
  },
  {
   "cell_type": "code",
   "execution_count": 35,
   "metadata": {},
   "outputs": [
    {
     "name": "stdout",
     "output_type": "stream",
     "text": [
      "CPU times: user 220 ms, sys: 182 ms, total: 403 ms\n",
      "Wall time: 392 ms\n"
     ]
    }
   ],
   "source": [
    "%%time\n",
    "# предсказание на валидационной выборке\n",
    "predictions_valid_linear_model = linear_model.predict(features_valid_ohe)\n",
    "# предсказание на тестовой выборке\n",
    "predictions_test_linear_model = linear_model.predict(features_test_ohe)"
   ]
  },
  {
   "cell_type": "markdown",
   "metadata": {},
   "source": [
    "- Качество предсказания"
   ]
  },
  {
   "cell_type": "code",
   "execution_count": 36,
   "metadata": {},
   "outputs": [
    {
     "name": "stdout",
     "output_type": "stream",
     "text": [
      "RMSE для линейной модели на валидационной выборке: 2962.41\n",
      "RMSE для линейной модели на тестовой выборке: 2978.39\n"
     ]
    }
   ],
   "source": [
    "rmse_valid_linear_model = mean_squared_error(target_valid_ohe, predictions_valid_linear_model, squared= False)\n",
    "print(f\"RMSE для линейной модели на валидационной выборке: {rmse_valid_linear_model:.2f}\")\n",
    "rmse_test_linear_model = mean_squared_error(target_test_ohe, predictions_test_linear_model, squared= False)\n",
    "print(f\"RMSE для линейной модели на тестовой выборке: {rmse_test_linear_model:.2f}\")"
   ]
  },
  {
   "cell_type": "code",
   "execution_count": 37,
   "metadata": {},
   "outputs": [],
   "source": [
    "test_results['LinearRegression'] = ['18.5', '0.308', round(rmse_test_linear_model, 2)]"
   ]
  },
  {
   "cell_type": "markdown",
   "metadata": {},
   "source": [
    "### Решающее дерево (DecisionTreeRegressor)"
   ]
  },
  {
   "cell_type": "markdown",
   "metadata": {},
   "source": [
    "Определим оптимальное значение глубины дерева max_depth, за метрику качества модели примем показатель RMSE на валидационной выборке:"
   ]
  },
  {
   "cell_type": "code",
   "execution_count": 46,
   "metadata": {},
   "outputs": [
    {
     "name": "stdout",
     "output_type": "stream",
     "text": [
      "Для max_depth = 8 :\n",
      "RMSE на валидационной выборке: 2235.29\n",
      "\n",
      "Для max_depth = 9 :\n",
      "RMSE на валидационной выборке: 2172.67\n",
      "\n",
      "Для max_depth = 10 :\n",
      "RMSE на валидационной выборке: 2125.98\n",
      "\n",
      "Для max_depth = 11 :\n",
      "RMSE на валидационной выборке: 2093.33\n",
      "\n",
      "Для max_depth = 12 :\n",
      "RMSE на валидационной выборке: 2087.27\n",
      "\n",
      "Для max_depth = 13 :\n",
      "RMSE на валидационной выборке: 2100.09\n",
      "\n",
      "Для max_depth = 14 :\n",
      "RMSE на валидационной выборке: 2105.69\n",
      "\n",
      "Для max_depth = 15 :\n",
      "RMSE на валидационной выборке: 2128.05\n",
      "\n",
      "Для max_depth = 16 :\n",
      "RMSE на валидационной выборке: 2149.01\n",
      "\n",
      "Для max_depth = 17 :\n",
      "RMSE на валидационной выборке: 2183.41\n",
      "\n",
      "Окончательный результат:\n",
      "Лучший показатель RMSE ~ 2087.27 при гиперпараметре max_depth = 12\n"
     ]
    }
   ],
   "source": [
    "best_depht_dtr = 0\n",
    "best_rmse_dtr = 10000\n",
    "for depth in np.arange(8, 18):\n",
    "    dtr_model = DecisionTreeRegressor(max_depth=depth, random_state=12345) \n",
    "    dtr_model.fit(features_train_oe, target_train_oe)\n",
    "    \n",
    "    print(\"Для max_depth =\", depth, \":\")\n",
    "    predictions_valid_dtr_model = dtr_model.predict(features_valid_oe)\n",
    "    rmse_valid_dtr_model = mean_squared_error(target_valid_oe, predictions_valid_dtr_model, squared= False)\n",
    "    print(f\"RMSE на валидационной выборке: {rmse_valid_dtr_model:.2f}\")\n",
    "    print()\n",
    "    \n",
    "    if rmse_valid_dtr_model < best_rmse_dtr:\n",
    "        best_depth_dtr = depth\n",
    "        best_rmse_dtr = rmse_valid_dtr_model     \n",
    "\n",
    "print(\"Окончательный результат:\")\n",
    "print(f\"Лучший показатель RMSE ~ {best_rmse_dtr:.2f} при гиперпараметре max_depth = {best_depth_dtr}\")"
   ]
  },
  {
   "cell_type": "markdown",
   "metadata": {},
   "source": [
    "Оптимальное значение гиперпараметра max_depth для модели DecisionTreeRegressor стоит принять 12, с увеличением этого параметра модель переобучается и показатель RMSE становится хуже. Определим скорость обучения модели при max_depth = 12, а также скорость и качество предсказания на тестовой выборке:\n",
    "\n",
    "- Скорость обучения:"
   ]
  },
  {
   "cell_type": "code",
   "execution_count": 49,
   "metadata": {},
   "outputs": [
    {
     "name": "stdout",
     "output_type": "stream",
     "text": [
      "CPU times: user 457 ms, sys: 0 ns, total: 457 ms\n",
      "Wall time: 456 ms\n"
     ]
    },
    {
     "data": {
      "text/plain": [
       "DecisionTreeRegressor(max_depth=12, random_state=12345)"
      ]
     },
     "execution_count": 49,
     "metadata": {},
     "output_type": "execute_result"
    }
   ],
   "source": [
    "%%time\n",
    "dtr_model = DecisionTreeRegressor(max_depth=best_depth_dtr, random_state=12345) \n",
    "dtr_model.fit(features_train_oe, target_train_oe)"
   ]
  },
  {
   "cell_type": "markdown",
   "metadata": {},
   "source": [
    "- Скорость предсказания"
   ]
  },
  {
   "cell_type": "code",
   "execution_count": 50,
   "metadata": {},
   "outputs": [
    {
     "name": "stdout",
     "output_type": "stream",
     "text": [
      "CPU times: user 11.5 ms, sys: 0 ns, total: 11.5 ms\n",
      "Wall time: 10.2 ms\n"
     ]
    }
   ],
   "source": [
    "%%time\n",
    "predictions_test_dtr_model = dtr_model.predict(features_test_oe)"
   ]
  },
  {
   "cell_type": "markdown",
   "metadata": {},
   "source": [
    "- Качество предсказания"
   ]
  },
  {
   "cell_type": "code",
   "execution_count": 42,
   "metadata": {},
   "outputs": [
    {
     "name": "stdout",
     "output_type": "stream",
     "text": [
      "RMSE для модели решающего дерева на тестовой выборке: 2124.87\n"
     ]
    }
   ],
   "source": [
    "rmse_test_dtr_model = mean_squared_error(target_test_oe, predictions_test_dtr_model, squared= False)\n",
    "print(f\"RMSE для модели решающего дерева на тестовой выборке: {rmse_test_dtr_model:.2f}\")"
   ]
  },
  {
   "cell_type": "code",
   "execution_count": 43,
   "metadata": {},
   "outputs": [],
   "source": [
    "test_results['DecisionTreeRegressor'] = ['0.64', '0.01618', round(rmse_test_dtr_model, 2)]"
   ]
  },
  {
   "cell_type": "markdown",
   "metadata": {},
   "source": [
    "### Случайный лес (RandomForestRegressor)"
   ]
  },
  {
   "cell_type": "code",
   "execution_count": 51,
   "metadata": {
    "scrolled": false
   },
   "outputs": [
    {
     "name": "stdout",
     "output_type": "stream",
     "text": [
      "Для гиперпараметров max_depth =  15  и n_estimators =  43 :\n",
      "RMSE на валидационной выборке: 1840.46\n",
      "Для гиперпараметров max_depth =  15  и n_estimators =  44 :\n",
      "RMSE на валидационной выборке: 1840.03\n",
      "Для гиперпараметров max_depth =  15  и n_estimators =  45 :\n",
      "RMSE на валидационной выборке: 1840.04\n",
      "Для гиперпараметров max_depth =  15  и n_estimators =  46 :\n",
      "RMSE на валидационной выборке: 1839.91\n",
      "Для гиперпараметров max_depth =  15  и n_estimators =  47 :\n",
      "RMSE на валидационной выборке: 1840.00\n",
      "Для гиперпараметров max_depth =  16  и n_estimators =  43 :\n",
      "RMSE на валидационной выборке: 1831.43\n",
      "Для гиперпараметров max_depth =  16  и n_estimators =  44 :\n",
      "RMSE на валидационной выборке: 1830.89\n",
      "Для гиперпараметров max_depth =  16  и n_estimators =  45 :\n",
      "RMSE на валидационной выборке: 1831.14\n",
      "Для гиперпараметров max_depth =  16  и n_estimators =  46 :\n",
      "RMSE на валидационной выборке: 1831.13\n",
      "Для гиперпараметров max_depth =  16  и n_estimators =  47 :\n",
      "RMSE на валидационной выборке: 1831.22\n",
      "Окончательный результат:\n",
      "Лучший показатель RMSE ~ 1830.89 при гиперпараметрах max_depth = 16 и n_estimators = 44\n"
     ]
    }
   ],
   "source": [
    "best_depht_rf = 0\n",
    "best_est_rf = 0\n",
    "best_rmse_rf = 10000\n",
    "for depth in np.arange(15, 17):\n",
    "    for est in np.arange(43, 48):\n",
    "        rf_model = RandomForestRegressor(max_depth = depth,\n",
    "                                         n_estimators = est,\n",
    "                                         random_state=12345)\n",
    "        rf_model.fit(features_train_oe, target_train_oe)\n",
    "        \n",
    "        print(\"Для гиперпараметров max_depth = \", depth, \" и n_estimators = \", est, \":\")\n",
    "        predictions_valid_rf_model = rf_model.predict(features_valid_oe)\n",
    "        rmse_valid_rf_model = mean_squared_error(target_valid_oe, predictions_valid_rf_model, squared= False)\n",
    "        print(f\"RMSE на валидационной выборке: {rmse_valid_rf_model:.2f}\")    \n",
    "        print()\n",
    "        if rmse_valid_rf_model < best_rmse_rf:\n",
    "            best_depth_rf = depth\n",
    "            best_est_rf = est\n",
    "            best_rmse_rf = rmse_valid_rf_model  \n",
    "\n",
    "print(\"Окончательный результат:\")\n",
    "print(f\"Лучший показатель RMSE ~ {best_rmse_rf:.2f} при гиперпараметрах max_depth = {best_depth_rf} и n_estimators = {best_est_rf}\")        "
   ]
  },
  {
   "cell_type": "markdown",
   "metadata": {},
   "source": [
    "Оптимальное значение гиперпараметров max_depth и n_estimators для модели DecisionTreeRegressor стоит принять 16 и 44 соответственно. Определим скорость обучения модели при указанных значениях, а также скорость и качество предсказания на тестовой выборке:"
   ]
  },
  {
   "cell_type": "markdown",
   "metadata": {},
   "source": [
    "- Скорость обучения:"
   ]
  },
  {
   "cell_type": "code",
   "execution_count": 52,
   "metadata": {},
   "outputs": [
    {
     "name": "stdout",
     "output_type": "stream",
     "text": [
      "CPU times: user 17.5 s, sys: 0 ns, total: 17.5 s\n",
      "Wall time: 17.8 s\n"
     ]
    },
    {
     "data": {
      "text/plain": [
       "RandomForestRegressor(max_depth=16, n_estimators=44, random_state=12345)"
      ]
     },
     "execution_count": 52,
     "metadata": {},
     "output_type": "execute_result"
    }
   ],
   "source": [
    "%%time\n",
    "rf_model = RandomForestRegressor(max_depth = best_depth_rf, n_estimators = best_est_rf, random_state=12345)\n",
    "rf_model.fit(features_train_oe, target_train_oe)"
   ]
  },
  {
   "cell_type": "markdown",
   "metadata": {},
   "source": [
    "- Скорость предсказания"
   ]
  },
  {
   "cell_type": "code",
   "execution_count": 53,
   "metadata": {},
   "outputs": [
    {
     "name": "stdout",
     "output_type": "stream",
     "text": [
      "CPU times: user 596 ms, sys: 0 ns, total: 596 ms\n",
      "Wall time: 603 ms\n"
     ]
    }
   ],
   "source": [
    "%%time\n",
    "predictions_test_rf_model = rf_model.predict(features_test_oe)"
   ]
  },
  {
   "cell_type": "markdown",
   "metadata": {},
   "source": [
    "- Качество предсказания"
   ]
  },
  {
   "cell_type": "code",
   "execution_count": 54,
   "metadata": {},
   "outputs": [
    {
     "name": "stdout",
     "output_type": "stream",
     "text": [
      "RMSE для модели случайного леса на тестовой выборке: 1849.10\n"
     ]
    }
   ],
   "source": [
    "rmse_test_rf_model = mean_squared_error(target_test_oe, predictions_test_rf_model, squared= False)\n",
    "print(f\"RMSE для модели случайного леса на тестовой выборке: {rmse_test_rf_model:.2f}\")"
   ]
  },
  {
   "cell_type": "code",
   "execution_count": 55,
   "metadata": {},
   "outputs": [],
   "source": [
    "test_results['RandomForestRegressor'] = ['130', '0,614', round(rmse_test_rf_model, 2)]"
   ]
  },
  {
   "cell_type": "markdown",
   "metadata": {},
   "source": [
    "### Регрессия CatBoost"
   ]
  },
  {
   "cell_type": "markdown",
   "metadata": {},
   "source": [
    "Перед началом обучения бустинговых моделей определим список всех категориальных переменных в тренировочной выборке:"
   ]
  },
  {
   "cell_type": "code",
   "execution_count": 36,
   "metadata": {},
   "outputs": [],
   "source": [
    "numerical_features = ['RegistrationYear', 'Power', 'Kilometer']\n",
    "\n",
    "categorical_features = [col for col in list(features_train_cat.columns) if col not in numerical_features]"
   ]
  },
  {
   "cell_type": "markdown",
   "metadata": {},
   "source": [
    "- Скорость обучения"
   ]
  },
  {
   "cell_type": "code",
   "execution_count": 104,
   "metadata": {
    "scrolled": false
   },
   "outputs": [
    {
     "name": "stdout",
     "output_type": "stream",
     "text": [
      "0:\tlearn: 4326.2269450\ttotal: 25.5ms\tremaining: 25.5s\n",
      "50:\tlearn: 2061.0929599\ttotal: 1.26s\tremaining: 23.5s\n",
      "100:\tlearn: 1940.9244553\ttotal: 2.47s\tremaining: 22s\n",
      "150:\tlearn: 1883.8810817\ttotal: 3.64s\tremaining: 20.5s\n",
      "200:\tlearn: 1847.3787222\ttotal: 4.82s\tremaining: 19.1s\n",
      "250:\tlearn: 1821.7242321\ttotal: 5.96s\tremaining: 17.8s\n",
      "300:\tlearn: 1802.1933964\ttotal: 7.14s\tremaining: 16.6s\n",
      "350:\tlearn: 1785.0249629\ttotal: 8.28s\tremaining: 15.3s\n",
      "400:\tlearn: 1770.7886145\ttotal: 9.43s\tremaining: 14.1s\n",
      "450:\tlearn: 1758.3289808\ttotal: 10.6s\tremaining: 12.9s\n",
      "500:\tlearn: 1747.8005826\ttotal: 11.7s\tremaining: 11.7s\n",
      "550:\tlearn: 1737.5880488\ttotal: 12.9s\tremaining: 10.5s\n",
      "600:\tlearn: 1728.4127048\ttotal: 14.1s\tremaining: 9.33s\n",
      "650:\tlearn: 1719.9865066\ttotal: 15.2s\tremaining: 8.15s\n",
      "700:\tlearn: 1712.0871379\ttotal: 16.4s\tremaining: 6.97s\n",
      "750:\tlearn: 1704.3489321\ttotal: 17.5s\tremaining: 5.81s\n",
      "800:\tlearn: 1697.2041611\ttotal: 18.6s\tremaining: 4.63s\n",
      "850:\tlearn: 1690.4436891\ttotal: 19.8s\tremaining: 3.46s\n",
      "900:\tlearn: 1683.3794522\ttotal: 21s\tremaining: 2.31s\n",
      "950:\tlearn: 1676.9320120\ttotal: 22.2s\tremaining: 1.14s\n",
      "999:\tlearn: 1671.7484946\ttotal: 23.4s\tremaining: 0us\n",
      "CPU times: user 33.5 s, sys: 179 ms, total: 33.7 s\n",
      "Wall time: 35.1 s\n"
     ]
    },
    {
     "data": {
      "text/plain": [
       "<catboost.core.CatBoostRegressor at 0x7fb97f841f70>"
      ]
     },
     "execution_count": 104,
     "metadata": {},
     "output_type": "execute_result"
    }
   ],
   "source": [
    "%%time\n",
    "cat_model = CatBoostRegressor(learning_rate=0.1, random_state=12345, verbose=50) \n",
    "cat_model.fit(features_train_cat, target_train_cat, cat_features=categorical_features)"
   ]
  },
  {
   "cell_type": "markdown",
   "metadata": {},
   "source": [
    "- Скорость предсказания"
   ]
  },
  {
   "cell_type": "code",
   "execution_count": 105,
   "metadata": {},
   "outputs": [
    {
     "name": "stdout",
     "output_type": "stream",
     "text": [
      "CPU times: user 6.3 s, sys: 15.9 ms, total: 6.31 s\n",
      "Wall time: 6.31 s\n"
     ]
    }
   ],
   "source": [
    "%%time\n",
    "cat_valid_predictions = cat_model.predict(features_valid_cat)\n",
    "cat_test_predictions = cat_model.predict(features_test_cat)"
   ]
  },
  {
   "cell_type": "markdown",
   "metadata": {},
   "source": [
    "- Качество предсказания"
   ]
  },
  {
   "cell_type": "code",
   "execution_count": 106,
   "metadata": {
    "scrolled": true
   },
   "outputs": [
    {
     "name": "stdout",
     "output_type": "stream",
     "text": [
      "RMSE для модели CatBoost на валидационной выборке: 1760.60\n",
      "RMSE для модели CatBoost на тестовой выборке: 1771.74\n"
     ]
    }
   ],
   "source": [
    "rmse_valid_cat_model = mean_squared_error(target_valid_cat, cat_valid_predictions, squared= False)\n",
    "print(f\"RMSE для модели CatBoost на валидационной выборке: {rmse_cat_model:.2f}\")\n",
    "rmse_test_cat_model = mean_squared_error(target_test_cat, cat_test_predictions, squared= False)\n",
    "print(f\"RMSE для модели CatBoost на тестовой выборке: {rmse_test_cat_model:.2f}\")"
   ]
  },
  {
   "cell_type": "code",
   "execution_count": 107,
   "metadata": {},
   "outputs": [],
   "source": [
    "test_results['CatBoostRegressor'] = ['126', '1.38', round(rmse_cat_model, 2)]"
   ]
  },
  {
   "cell_type": "markdown",
   "metadata": {},
   "source": [
    "### Регрессия LGBM"
   ]
  },
  {
   "cell_type": "code",
   "execution_count": 37,
   "metadata": {},
   "outputs": [
    {
     "data": {
      "text/plain": [
       "['VehicleType', 'Gearbox', 'Model', 'FuelType', 'Brand', 'NotRepaired']"
      ]
     },
     "execution_count": 37,
     "metadata": {},
     "output_type": "execute_result"
    }
   ],
   "source": [
    "categorical_features"
   ]
  },
  {
   "cell_type": "markdown",
   "metadata": {},
   "source": [
    "- Скорость обучения"
   ]
  },
  {
   "cell_type": "code",
   "execution_count": 39,
   "metadata": {
    "scrolled": false
   },
   "outputs": [
    {
     "name": "stdout",
     "output_type": "stream",
     "text": [
      "CPU times: user 18min 17s, sys: 5.59 s, total: 18min 23s\n",
      "Wall time: 18min 29s\n"
     ]
    },
    {
     "data": {
      "text/plain": [
       "LGBMRegressor(categorical_feature=['VehicleType', 'Gearbox', 'Model',\n",
       "                                   'FuelType', 'Brand', 'NotRepaired'],\n",
       "              num_leaves=100, random_state=12345)"
      ]
     },
     "execution_count": 39,
     "metadata": {},
     "output_type": "execute_result"
    }
   ],
   "source": [
    "%%time\n",
    "\n",
    "lgbm_model = LGBMRegressor(learning_rate=0.1, \n",
    "                      num_leaves=100, \n",
    "                      random_state=12345,\n",
    "                      categorical_feature=categorical_features)\n",
    "lgbm_model.fit(features_train_cat, target_train_cat)"
   ]
  },
  {
   "cell_type": "markdown",
   "metadata": {},
   "source": [
    "- Скорость предсказания"
   ]
  },
  {
   "cell_type": "code",
   "execution_count": 110,
   "metadata": {},
   "outputs": [
    {
     "name": "stdout",
     "output_type": "stream",
     "text": [
      "CPU times: user 1.88 s, sys: 151 ms, total: 2.03 s\n",
      "Wall time: 2.09 s\n"
     ]
    }
   ],
   "source": [
    "%%time\n",
    "lgbm_valid_predictions = lgbm_model.predict(features_valid_cat)\n",
    "lgbm_test_predictions = lgbm_model.predict(features_test_cat)"
   ]
  },
  {
   "cell_type": "markdown",
   "metadata": {},
   "source": [
    "- Качество предсказания"
   ]
  },
  {
   "cell_type": "code",
   "execution_count": 111,
   "metadata": {},
   "outputs": [
    {
     "name": "stdout",
     "output_type": "stream",
     "text": [
      "RMSE для модели LightGBM на валидационной выборке: 1760.60\n",
      "RMSE для модели LightGBM на тестовой выборке: 1771.74\n"
     ]
    }
   ],
   "source": [
    "rmse_valid_lgbm_model = mean_squared_error(target_valid_cat, lgbm_valid_predictions, squared= False)\n",
    "print(f\"RMSE для модели LightGBM на валидационной выборке: {rmse_cat_model:.2f}\")\n",
    "rmse_test_lgbm_model = mean_squared_error(target_test_cat, lgbm_test_predictions, squared= False)\n",
    "print(f\"RMSE для модели LightGBM на тестовой выборке: {rmse_test_cat_model:.2f}\")"
   ]
  },
  {
   "cell_type": "code",
   "execution_count": 112,
   "metadata": {},
   "outputs": [],
   "source": [
    "test_results['LGBMRegressor'] = ['22.6', '2.01', round(rmse_test_lgbm_model, 2)]"
   ]
  },
  {
   "cell_type": "markdown",
   "metadata": {},
   "source": [
    "## Анализ моделей"
   ]
  },
  {
   "cell_type": "code",
   "execution_count": 113,
   "metadata": {},
   "outputs": [
    {
     "data": {
      "text/html": [
       "<div>\n",
       "<style scoped>\n",
       "    .dataframe tbody tr th:only-of-type {\n",
       "        vertical-align: middle;\n",
       "    }\n",
       "\n",
       "    .dataframe tbody tr th {\n",
       "        vertical-align: top;\n",
       "    }\n",
       "\n",
       "    .dataframe thead th {\n",
       "        text-align: right;\n",
       "    }\n",
       "</style>\n",
       "<table border=\"1\" class=\"dataframe\">\n",
       "  <thead>\n",
       "    <tr style=\"text-align: right;\">\n",
       "      <th></th>\n",
       "      <th>Speed_train, s</th>\n",
       "      <th>Speed_predict, s</th>\n",
       "      <th>RMSE</th>\n",
       "    </tr>\n",
       "  </thead>\n",
       "  <tbody>\n",
       "    <tr>\n",
       "      <th>LinearRegression</th>\n",
       "      <td>18.5</td>\n",
       "      <td>0.308</td>\n",
       "      <td>2978.39</td>\n",
       "    </tr>\n",
       "    <tr>\n",
       "      <th>DecisionTreeRegressor</th>\n",
       "      <td>0.64</td>\n",
       "      <td>0.01618</td>\n",
       "      <td>2107.67</td>\n",
       "    </tr>\n",
       "    <tr>\n",
       "      <th>RandomForestRegressor</th>\n",
       "      <td>130</td>\n",
       "      <td>0,614</td>\n",
       "      <td>1876.47</td>\n",
       "    </tr>\n",
       "    <tr>\n",
       "      <th>CatBoostRegressor</th>\n",
       "      <td>126</td>\n",
       "      <td>1.38</td>\n",
       "      <td>1760.60</td>\n",
       "    </tr>\n",
       "    <tr>\n",
       "      <th>LGBMRegressor</th>\n",
       "      <td>22.6</td>\n",
       "      <td>2.01</td>\n",
       "      <td>1771.44</td>\n",
       "    </tr>\n",
       "  </tbody>\n",
       "</table>\n",
       "</div>"
      ],
      "text/plain": [
       "                      Speed_train, s Speed_predict, s     RMSE\n",
       "LinearRegression                18.5            0.308  2978.39\n",
       "DecisionTreeRegressor           0.64          0.01618  2107.67\n",
       "RandomForestRegressor            130            0,614  1876.47\n",
       "CatBoostRegressor                126             1.38  1760.60\n",
       "LGBMRegressor                   22.6             2.01  1771.44"
      ]
     },
     "execution_count": 113,
     "metadata": {},
     "output_type": "execute_result"
    }
   ],
   "source": [
    "test_results = pd.DataFrame.from_dict(test_results,\n",
    "                                      orient = 'index',\n",
    "                                      columns = ['Speed_train, s', 'Speed_predict, s', 'RMSE'])\n",
    "test_results"
   ]
  },
  {
   "cell_type": "markdown",
   "metadata": {},
   "source": [
    "**Вывод**\n",
    "\n",
    "- Оценивая качество моделей по метрике RMSE можно отметить, что простая модель случайного леса показала результат, сравнимый с бустинговыми моделями CatBoost и LGBM~\n",
    "- Время, затраченное на обучение модели случайного леса с учетом подбора гиперпараметров, значительно больше, чем у бустинговых моделей\n",
    "- Сравнивая бустинговые модели между собой, можно сказать, что качество прогонозирования у обеих моделей примерно одного уровня, но время на обучения модель LGBM тратит значительно меньше, чем CatBoost\n",
    "- Исходя из вышенаписанного в нашем случае по показателю время/качество можно делать выбор в пользу LGBM модели"
   ]
  }
 ],
 "metadata": {
  "ExecuteTimeLog": [
   {
    "duration": 1781,
    "start_time": "2022-05-04T12:43:29.527Z"
   },
   {
    "duration": 879,
    "start_time": "2022-05-04T12:44:16.961Z"
   },
   {
    "duration": 1460,
    "start_time": "2022-05-04T12:44:27.073Z"
   },
   {
    "duration": 1038,
    "start_time": "2022-05-04T12:59:46.314Z"
   },
   {
    "duration": 1355,
    "start_time": "2022-05-04T13:00:53.645Z"
   },
   {
    "duration": 69,
    "start_time": "2022-05-04T13:03:19.808Z"
   },
   {
    "duration": 132,
    "start_time": "2022-05-04T13:16:53.822Z"
   },
   {
    "duration": 117,
    "start_time": "2022-05-04T13:17:54.239Z"
   },
   {
    "duration": 15,
    "start_time": "2022-05-04T13:17:58.668Z"
   },
   {
    "duration": 5,
    "start_time": "2022-05-04T13:18:12.268Z"
   },
   {
    "duration": 1081,
    "start_time": "2022-05-04T13:18:12.275Z"
   },
   {
    "duration": 49,
    "start_time": "2022-05-04T13:18:13.358Z"
   },
   {
    "duration": 14,
    "start_time": "2022-05-04T13:18:53.926Z"
   },
   {
    "duration": 16,
    "start_time": "2022-05-04T13:18:55.799Z"
   },
   {
    "duration": 5,
    "start_time": "2022-05-04T13:19:02.076Z"
   },
   {
    "duration": 984,
    "start_time": "2022-05-04T13:19:02.083Z"
   },
   {
    "duration": 133,
    "start_time": "2022-05-04T13:19:03.069Z"
   },
   {
    "duration": 15,
    "start_time": "2022-05-04T13:22:12.541Z"
   },
   {
    "duration": 4,
    "start_time": "2022-05-04T13:22:15.113Z"
   },
   {
    "duration": 957,
    "start_time": "2022-05-04T13:22:15.119Z"
   },
   {
    "duration": 205,
    "start_time": "2022-05-04T13:22:16.078Z"
   },
   {
    "duration": 16,
    "start_time": "2022-05-04T13:22:58.151Z"
   },
   {
    "duration": 4,
    "start_time": "2022-05-04T13:23:00.175Z"
   },
   {
    "duration": 1008,
    "start_time": "2022-05-04T13:23:00.181Z"
   },
   {
    "duration": 142,
    "start_time": "2022-05-04T13:23:01.191Z"
   },
   {
    "duration": 4,
    "start_time": "2022-05-04T13:36:26.403Z"
   },
   {
    "duration": 1607,
    "start_time": "2022-05-04T13:36:26.409Z"
   },
   {
    "duration": 136,
    "start_time": "2022-05-04T13:36:28.018Z"
   },
   {
    "duration": 92,
    "start_time": "2022-05-04T13:42:28.554Z"
   },
   {
    "duration": 13,
    "start_time": "2022-05-04T13:42:53.339Z"
   },
   {
    "duration": 6,
    "start_time": "2022-05-04T13:43:16.626Z"
   },
   {
    "duration": 7,
    "start_time": "2022-05-04T13:44:42.634Z"
   },
   {
    "duration": 5,
    "start_time": "2022-05-04T13:44:44.746Z"
   },
   {
    "duration": 5,
    "start_time": "2022-05-04T13:45:27.005Z"
   },
   {
    "duration": 195,
    "start_time": "2022-05-04T13:46:08.878Z"
   },
   {
    "duration": 5,
    "start_time": "2022-05-04T13:46:16.476Z"
   },
   {
    "duration": 35,
    "start_time": "2022-05-04T13:52:17.228Z"
   },
   {
    "duration": 55,
    "start_time": "2022-05-04T13:52:48.836Z"
   },
   {
    "duration": 36,
    "start_time": "2022-05-04T13:52:55.893Z"
   },
   {
    "duration": 32,
    "start_time": "2022-05-04T13:53:02.694Z"
   },
   {
    "duration": 42,
    "start_time": "2022-05-04T13:54:56.836Z"
   },
   {
    "duration": 38,
    "start_time": "2022-05-04T13:55:23.689Z"
   },
   {
    "duration": 33,
    "start_time": "2022-05-04T13:55:35.087Z"
   },
   {
    "duration": 44,
    "start_time": "2022-05-04T13:56:03.455Z"
   },
   {
    "duration": 182,
    "start_time": "2022-05-04T14:22:36.271Z"
   },
   {
    "duration": 203,
    "start_time": "2022-05-04T14:22:48.837Z"
   },
   {
    "duration": 192,
    "start_time": "2022-05-04T14:23:30.214Z"
   },
   {
    "duration": 183,
    "start_time": "2022-05-04T14:23:37.518Z"
   },
   {
    "duration": 194,
    "start_time": "2022-05-04T14:23:43.917Z"
   },
   {
    "duration": 264,
    "start_time": "2022-05-04T14:26:40.501Z"
   },
   {
    "duration": 35,
    "start_time": "2022-05-04T14:31:04.733Z"
   },
   {
    "duration": 32,
    "start_time": "2022-05-04T14:31:58.351Z"
   },
   {
    "duration": 40,
    "start_time": "2022-05-04T14:32:16.277Z"
   },
   {
    "duration": 33,
    "start_time": "2022-05-04T14:32:29.474Z"
   },
   {
    "duration": 32,
    "start_time": "2022-05-04T14:32:40.183Z"
   },
   {
    "duration": 33,
    "start_time": "2022-05-04T14:32:49.151Z"
   },
   {
    "duration": 39,
    "start_time": "2022-05-04T14:41:47.491Z"
   },
   {
    "duration": 707,
    "start_time": "2022-05-04T14:46:52.226Z"
   },
   {
    "duration": 10,
    "start_time": "2022-05-04T14:47:17.851Z"
   },
   {
    "duration": 30,
    "start_time": "2022-05-04T14:47:31.581Z"
   },
   {
    "duration": 30,
    "start_time": "2022-05-04T14:54:46.984Z"
   },
   {
    "duration": 33,
    "start_time": "2022-05-04T14:56:35.811Z"
   },
   {
    "duration": 54,
    "start_time": "2022-05-04T14:57:20.300Z"
   },
   {
    "duration": 85,
    "start_time": "2022-05-04T15:39:36.397Z"
   },
   {
    "duration": 170,
    "start_time": "2022-05-04T15:39:58.606Z"
   },
   {
    "duration": 3,
    "start_time": "2022-05-04T15:42:31.138Z"
   },
   {
    "duration": 958,
    "start_time": "2022-05-04T15:42:31.143Z"
   },
   {
    "duration": 135,
    "start_time": "2022-05-04T15:42:32.103Z"
   },
   {
    "duration": 166,
    "start_time": "2022-05-04T15:42:32.241Z"
   },
   {
    "duration": 40,
    "start_time": "2022-05-04T15:42:32.409Z"
   },
   {
    "duration": 181,
    "start_time": "2022-05-04T15:42:32.451Z"
   },
   {
    "duration": 16,
    "start_time": "2022-05-04T15:47:36.911Z"
   },
   {
    "duration": 177,
    "start_time": "2022-05-04T15:52:22.636Z"
   },
   {
    "duration": 116,
    "start_time": "2022-05-04T15:52:36.746Z"
   },
   {
    "duration": 17,
    "start_time": "2022-05-04T15:53:59.315Z"
   },
   {
    "duration": 2729,
    "start_time": "2022-05-04T15:57:13.999Z"
   },
   {
    "duration": 23,
    "start_time": "2022-05-04T15:57:23.148Z"
   },
   {
    "duration": 19,
    "start_time": "2022-05-04T15:57:28.737Z"
   },
   {
    "duration": 26,
    "start_time": "2022-05-04T15:57:51.989Z"
   },
   {
    "duration": 22,
    "start_time": "2022-05-04T15:58:02.176Z"
   },
   {
    "duration": 128,
    "start_time": "2022-05-04T15:58:52.839Z"
   },
   {
    "duration": 124,
    "start_time": "2022-05-04T15:59:17.774Z"
   },
   {
    "duration": 124,
    "start_time": "2022-05-04T16:00:14.239Z"
   },
   {
    "duration": 180,
    "start_time": "2022-05-04T16:01:11.772Z"
   },
   {
    "duration": 193,
    "start_time": "2022-05-04T16:01:13.708Z"
   },
   {
    "duration": 4,
    "start_time": "2022-05-04T16:01:16.179Z"
   },
   {
    "duration": 953,
    "start_time": "2022-05-04T16:01:16.185Z"
   },
   {
    "duration": 135,
    "start_time": "2022-05-04T16:01:17.140Z"
   },
   {
    "duration": 172,
    "start_time": "2022-05-04T16:01:17.278Z"
   },
   {
    "duration": 35,
    "start_time": "2022-05-04T16:01:17.452Z"
   },
   {
    "duration": 196,
    "start_time": "2022-05-04T16:01:17.489Z"
   },
   {
    "duration": 167,
    "start_time": "2022-05-04T16:01:17.687Z"
   },
   {
    "duration": 19,
    "start_time": "2022-05-04T16:01:26.108Z"
   },
   {
    "duration": 11,
    "start_time": "2022-05-04T16:05:31.141Z"
   },
   {
    "duration": 20,
    "start_time": "2022-05-04T16:06:09.494Z"
   },
   {
    "duration": 28,
    "start_time": "2022-05-04T16:06:20.203Z"
   },
   {
    "duration": 17,
    "start_time": "2022-05-04T16:07:13.089Z"
   },
   {
    "duration": 7,
    "start_time": "2022-05-04T16:08:04.315Z"
   },
   {
    "duration": 10,
    "start_time": "2022-05-04T16:08:19.222Z"
   },
   {
    "duration": 11,
    "start_time": "2022-05-04T16:08:33.551Z"
   },
   {
    "duration": 82,
    "start_time": "2022-05-04T16:08:53.547Z"
   },
   {
    "duration": 6,
    "start_time": "2022-05-04T16:09:02.393Z"
   },
   {
    "duration": 21,
    "start_time": "2022-05-04T16:09:06.217Z"
   },
   {
    "duration": 19,
    "start_time": "2022-05-04T16:09:09.134Z"
   },
   {
    "duration": 167,
    "start_time": "2022-05-04T16:09:20.923Z"
   },
   {
    "duration": 11,
    "start_time": "2022-05-04T16:09:24.165Z"
   },
   {
    "duration": 15,
    "start_time": "2022-05-04T16:09:51.357Z"
   },
   {
    "duration": 19,
    "start_time": "2022-05-04T16:10:00.741Z"
   },
   {
    "duration": 11,
    "start_time": "2022-05-04T16:10:14.873Z"
   },
   {
    "duration": 11,
    "start_time": "2022-05-04T16:10:21.466Z"
   },
   {
    "duration": 18,
    "start_time": "2022-05-04T16:10:33.320Z"
   },
   {
    "duration": 21,
    "start_time": "2022-05-04T16:11:01.358Z"
   },
   {
    "duration": 8,
    "start_time": "2022-05-04T16:11:13.816Z"
   },
   {
    "duration": 21,
    "start_time": "2022-05-04T16:11:32.173Z"
   },
   {
    "duration": 15,
    "start_time": "2022-05-04T16:12:12.260Z"
   },
   {
    "duration": 10,
    "start_time": "2022-05-04T16:12:20.350Z"
   },
   {
    "duration": 11,
    "start_time": "2022-05-04T16:12:30.021Z"
   },
   {
    "duration": 14,
    "start_time": "2022-05-04T16:12:49.860Z"
   },
   {
    "duration": 13,
    "start_time": "2022-05-04T16:12:54.794Z"
   },
   {
    "duration": 14,
    "start_time": "2022-05-04T16:12:58.277Z"
   },
   {
    "duration": 19,
    "start_time": "2022-05-04T16:13:07.250Z"
   },
   {
    "duration": 8,
    "start_time": "2022-05-04T16:13:29.974Z"
   },
   {
    "duration": 13,
    "start_time": "2022-05-04T16:13:47.389Z"
   },
   {
    "duration": 8,
    "start_time": "2022-05-04T16:13:53.568Z"
   },
   {
    "duration": 14,
    "start_time": "2022-05-04T16:14:12.239Z"
   },
   {
    "duration": 9,
    "start_time": "2022-05-04T16:14:50.949Z"
   },
   {
    "duration": 14,
    "start_time": "2022-05-04T16:17:20.641Z"
   },
   {
    "duration": 14,
    "start_time": "2022-05-04T16:17:32.810Z"
   },
   {
    "duration": 11,
    "start_time": "2022-05-04T16:17:49.004Z"
   },
   {
    "duration": 7,
    "start_time": "2022-05-04T16:19:39.641Z"
   },
   {
    "duration": 6,
    "start_time": "2022-05-04T16:19:56.280Z"
   },
   {
    "duration": 5,
    "start_time": "2022-05-04T16:20:07.355Z"
   },
   {
    "duration": 7,
    "start_time": "2022-05-04T16:20:36.416Z"
   },
   {
    "duration": 3,
    "start_time": "2022-05-04T16:26:23.543Z"
   },
   {
    "duration": 182,
    "start_time": "2022-05-04T16:26:48.095Z"
   },
   {
    "duration": 152,
    "start_time": "2022-05-04T16:26:58.466Z"
   },
   {
    "duration": 13,
    "start_time": "2022-05-04T16:27:07.703Z"
   },
   {
    "duration": 4,
    "start_time": "2022-05-04T16:27:12.752Z"
   },
   {
    "duration": 11,
    "start_time": "2022-05-04T16:27:20.951Z"
   },
   {
    "duration": 11,
    "start_time": "2022-05-04T16:27:36.183Z"
   },
   {
    "duration": 9,
    "start_time": "2022-05-04T16:27:47.109Z"
   },
   {
    "duration": 8,
    "start_time": "2022-05-04T16:28:03.287Z"
   },
   {
    "duration": 4,
    "start_time": "2022-05-04T16:28:17.101Z"
   },
   {
    "duration": 917,
    "start_time": "2022-05-04T16:28:17.107Z"
   },
   {
    "duration": 132,
    "start_time": "2022-05-04T16:28:18.026Z"
   },
   {
    "duration": 169,
    "start_time": "2022-05-04T16:28:18.160Z"
   },
   {
    "duration": 35,
    "start_time": "2022-05-04T16:28:18.332Z"
   },
   {
    "duration": 196,
    "start_time": "2022-05-04T16:28:18.368Z"
   },
   {
    "duration": 16,
    "start_time": "2022-05-04T16:28:18.566Z"
   },
   {
    "duration": 6,
    "start_time": "2022-05-04T16:28:18.584Z"
   },
   {
    "duration": 9,
    "start_time": "2022-05-04T16:30:01.426Z"
   },
   {
    "duration": 11,
    "start_time": "2022-05-04T16:30:16.822Z"
   },
   {
    "duration": 11,
    "start_time": "2022-05-04T16:31:58.015Z"
   },
   {
    "duration": 8,
    "start_time": "2022-05-04T16:32:03.979Z"
   },
   {
    "duration": 10,
    "start_time": "2022-05-04T16:32:09.653Z"
   },
   {
    "duration": 11,
    "start_time": "2022-05-04T16:32:14.041Z"
   },
   {
    "duration": 6,
    "start_time": "2022-05-04T16:32:25.105Z"
   },
   {
    "duration": 11,
    "start_time": "2022-05-04T16:32:27.566Z"
   },
   {
    "duration": 7,
    "start_time": "2022-05-04T16:33:49.380Z"
   },
   {
    "duration": 7,
    "start_time": "2022-05-04T16:34:05.528Z"
   },
   {
    "duration": 7,
    "start_time": "2022-05-04T16:34:08.592Z"
   },
   {
    "duration": 10,
    "start_time": "2022-05-04T16:34:44.827Z"
   },
   {
    "duration": 8,
    "start_time": "2022-05-04T16:34:48.354Z"
   },
   {
    "duration": 6,
    "start_time": "2022-05-04T16:37:01.548Z"
   },
   {
    "duration": 11,
    "start_time": "2022-05-04T16:37:21.961Z"
   },
   {
    "duration": 8,
    "start_time": "2022-05-04T16:37:31.307Z"
   },
   {
    "duration": 6,
    "start_time": "2022-05-04T16:37:43.514Z"
   },
   {
    "duration": 9,
    "start_time": "2022-05-04T16:37:53.853Z"
   },
   {
    "duration": 8,
    "start_time": "2022-05-04T16:38:03.651Z"
   },
   {
    "duration": 15,
    "start_time": "2022-05-04T17:00:13.392Z"
   },
   {
    "duration": 14,
    "start_time": "2022-05-04T17:00:31.458Z"
   },
   {
    "duration": 14,
    "start_time": "2022-05-04T17:00:52.977Z"
   },
   {
    "duration": 170,
    "start_time": "2022-05-04T17:03:27.018Z"
   },
   {
    "duration": 22,
    "start_time": "2022-05-04T17:03:30.576Z"
   },
   {
    "duration": 10,
    "start_time": "2022-05-04T17:03:54.324Z"
   },
   {
    "duration": 15,
    "start_time": "2022-05-04T17:05:18.039Z"
   },
   {
    "duration": 20,
    "start_time": "2022-05-04T17:05:28.235Z"
   },
   {
    "duration": 22,
    "start_time": "2022-05-04T17:05:52.294Z"
   },
   {
    "duration": 32,
    "start_time": "2022-05-04T17:06:01.563Z"
   },
   {
    "duration": 19,
    "start_time": "2022-05-04T17:06:31.645Z"
   },
   {
    "duration": 21,
    "start_time": "2022-05-04T17:06:45.576Z"
   },
   {
    "duration": 10,
    "start_time": "2022-05-04T17:08:47.887Z"
   },
   {
    "duration": 11,
    "start_time": "2022-05-04T17:17:41.597Z"
   },
   {
    "duration": 10,
    "start_time": "2022-05-04T17:18:37.770Z"
   },
   {
    "duration": 5,
    "start_time": "2022-05-04T17:18:44.569Z"
   },
   {
    "duration": 953,
    "start_time": "2022-05-04T17:18:44.576Z"
   },
   {
    "duration": 136,
    "start_time": "2022-05-04T17:18:45.531Z"
   },
   {
    "duration": 177,
    "start_time": "2022-05-04T17:18:45.670Z"
   },
   {
    "duration": 34,
    "start_time": "2022-05-04T17:18:45.849Z"
   },
   {
    "duration": 210,
    "start_time": "2022-05-04T17:18:45.885Z"
   },
   {
    "duration": 27,
    "start_time": "2022-05-04T17:18:46.097Z"
   },
   {
    "duration": 126,
    "start_time": "2022-05-04T17:18:46.126Z"
   },
   {
    "duration": 113,
    "start_time": "2022-05-04T17:19:08.750Z"
   },
   {
    "duration": 128,
    "start_time": "2022-05-04T17:24:35.663Z"
   },
   {
    "duration": 260,
    "start_time": "2022-05-04T17:24:53.259Z"
   },
   {
    "duration": 144,
    "start_time": "2022-05-04T17:25:07.631Z"
   },
   {
    "duration": 175,
    "start_time": "2022-05-04T17:25:24.002Z"
   },
   {
    "duration": 196,
    "start_time": "2022-05-04T17:26:01.309Z"
   },
   {
    "duration": 59,
    "start_time": "2022-05-04T17:28:09.211Z"
   },
   {
    "duration": 176,
    "start_time": "2022-05-04T17:34:32.713Z"
   },
   {
    "duration": 204,
    "start_time": "2022-05-04T17:34:51.759Z"
   },
   {
    "duration": 237,
    "start_time": "2022-05-04T17:35:13.852Z"
   },
   {
    "duration": 299,
    "start_time": "2022-05-04T17:35:26.362Z"
   },
   {
    "duration": 336,
    "start_time": "2022-05-04T17:35:37.048Z"
   },
   {
    "duration": 226,
    "start_time": "2022-05-04T17:36:41.161Z"
   },
   {
    "duration": 224,
    "start_time": "2022-05-04T17:37:07.312Z"
   },
   {
    "duration": 256,
    "start_time": "2022-05-04T17:37:13.299Z"
   },
   {
    "duration": 339,
    "start_time": "2022-05-04T17:40:13.519Z"
   },
   {
    "duration": 212,
    "start_time": "2022-05-04T17:40:41.676Z"
   },
   {
    "duration": 215,
    "start_time": "2022-05-04T17:40:55.043Z"
   },
   {
    "duration": 212,
    "start_time": "2022-05-04T17:41:03.229Z"
   },
   {
    "duration": 3971,
    "start_time": "2022-05-04T17:41:12.030Z"
   },
   {
    "duration": 3949,
    "start_time": "2022-05-04T17:41:26.527Z"
   },
   {
    "duration": 326,
    "start_time": "2022-05-04T17:41:44.957Z"
   },
   {
    "duration": 1817,
    "start_time": "2022-05-04T17:41:49.976Z"
   },
   {
    "duration": 13310,
    "start_time": "2022-05-04T17:42:04.238Z"
   },
   {
    "duration": 1701,
    "start_time": "2022-05-04T17:43:02.145Z"
   },
   {
    "duration": 246,
    "start_time": "2022-05-04T17:43:09.022Z"
   },
   {
    "duration": 189,
    "start_time": "2022-05-04T17:43:21.170Z"
   },
   {
    "duration": 170,
    "start_time": "2022-05-04T17:51:11.987Z"
   },
   {
    "duration": 22,
    "start_time": "2022-05-04T17:51:39.981Z"
   },
   {
    "duration": 15,
    "start_time": "2022-05-04T17:52:07.204Z"
   },
   {
    "duration": 10,
    "start_time": "2022-05-04T17:52:17.959Z"
   },
   {
    "duration": 28,
    "start_time": "2022-05-04T17:52:41.537Z"
   },
   {
    "duration": 12,
    "start_time": "2022-05-04T17:59:12.226Z"
   },
   {
    "duration": 13,
    "start_time": "2022-05-04T17:59:35.717Z"
   },
   {
    "duration": 12,
    "start_time": "2022-05-04T17:59:57.346Z"
   },
   {
    "duration": 14,
    "start_time": "2022-05-04T18:04:02.543Z"
   },
   {
    "duration": 14,
    "start_time": "2022-05-04T18:04:30.082Z"
   },
   {
    "duration": 14,
    "start_time": "2022-05-04T18:04:42.848Z"
   },
   {
    "duration": 11,
    "start_time": "2022-05-04T18:04:45.249Z"
   },
   {
    "duration": 1523,
    "start_time": "2022-05-07T16:04:23.129Z"
   },
   {
    "duration": 10120,
    "start_time": "2022-05-07T16:04:24.654Z"
   },
   {
    "duration": 125,
    "start_time": "2022-05-07T16:04:34.775Z"
   },
   {
    "duration": 142,
    "start_time": "2022-05-07T16:04:34.902Z"
   },
   {
    "duration": 29,
    "start_time": "2022-05-07T16:04:35.046Z"
   },
   {
    "duration": 169,
    "start_time": "2022-05-07T16:04:35.077Z"
   },
   {
    "duration": 59,
    "start_time": "2022-05-07T16:04:35.247Z"
   },
   {
    "duration": 211,
    "start_time": "2022-05-07T16:04:35.307Z"
   },
   {
    "duration": 150,
    "start_time": "2022-05-07T16:04:35.519Z"
   },
   {
    "duration": 30,
    "start_time": "2022-05-07T16:04:35.671Z"
   },
   {
    "duration": 10,
    "start_time": "2022-05-07T16:04:35.702Z"
   },
   {
    "duration": 9,
    "start_time": "2022-05-07T16:04:35.713Z"
   },
   {
    "duration": 189,
    "start_time": "2022-05-07T16:14:53.149Z"
   },
   {
    "duration": 239,
    "start_time": "2022-05-07T16:15:15.891Z"
   },
   {
    "duration": 363,
    "start_time": "2022-05-07T16:17:15.551Z"
   },
   {
    "duration": 153,
    "start_time": "2022-05-07T16:17:27.350Z"
   },
   {
    "duration": 305,
    "start_time": "2022-05-07T16:17:48.346Z"
   },
   {
    "duration": 228,
    "start_time": "2022-05-07T16:17:53.938Z"
   },
   {
    "duration": 1147,
    "start_time": "2022-05-07T16:18:55.539Z"
   },
   {
    "duration": 1137,
    "start_time": "2022-05-07T16:19:50.087Z"
   },
   {
    "duration": 235,
    "start_time": "2022-05-07T16:20:00.219Z"
   },
   {
    "duration": 347,
    "start_time": "2022-05-07T16:20:12.955Z"
   },
   {
    "duration": 1218,
    "start_time": "2022-05-07T16:20:21.892Z"
   },
   {
    "duration": 1179,
    "start_time": "2022-05-07T16:21:03.418Z"
   },
   {
    "duration": 1159,
    "start_time": "2022-05-07T16:21:09.891Z"
   },
   {
    "duration": 9,
    "start_time": "2022-05-07T16:22:21.623Z"
   },
   {
    "duration": 15,
    "start_time": "2022-05-07T16:22:37.634Z"
   },
   {
    "duration": 6,
    "start_time": "2022-05-07T16:22:49.154Z"
   },
   {
    "duration": 6,
    "start_time": "2022-05-07T16:23:44.268Z"
   },
   {
    "duration": 61,
    "start_time": "2022-05-07T16:42:00.261Z"
   },
   {
    "duration": 112,
    "start_time": "2022-05-07T16:42:15.814Z"
   },
   {
    "duration": 82,
    "start_time": "2022-05-07T16:42:41.574Z"
   },
   {
    "duration": 3,
    "start_time": "2022-05-07T16:42:46.345Z"
   },
   {
    "duration": 936,
    "start_time": "2022-05-07T16:42:46.349Z"
   },
   {
    "duration": 134,
    "start_time": "2022-05-07T16:42:47.287Z"
   },
   {
    "duration": 156,
    "start_time": "2022-05-07T16:42:47.422Z"
   },
   {
    "duration": 38,
    "start_time": "2022-05-07T16:42:47.581Z"
   },
   {
    "duration": 184,
    "start_time": "2022-05-07T16:42:47.620Z"
   },
   {
    "duration": 54,
    "start_time": "2022-05-07T16:42:47.805Z"
   },
   {
    "duration": 244,
    "start_time": "2022-05-07T16:42:47.861Z"
   },
   {
    "duration": 169,
    "start_time": "2022-05-07T16:42:48.107Z"
   },
   {
    "duration": 32,
    "start_time": "2022-05-07T16:42:48.278Z"
   },
   {
    "duration": 12,
    "start_time": "2022-05-07T16:42:48.312Z"
   },
   {
    "duration": 13,
    "start_time": "2022-05-07T16:42:48.326Z"
   },
   {
    "duration": 7,
    "start_time": "2022-05-07T16:42:48.341Z"
   },
   {
    "duration": 7,
    "start_time": "2022-05-07T16:42:48.350Z"
   },
   {
    "duration": 193,
    "start_time": "2022-05-07T16:42:48.359Z"
   },
   {
    "duration": 102,
    "start_time": "2022-05-07T16:43:17.593Z"
   },
   {
    "duration": 183,
    "start_time": "2022-05-07T16:43:45.049Z"
   },
   {
    "duration": 98,
    "start_time": "2022-05-07T16:44:03.842Z"
   },
   {
    "duration": 41,
    "start_time": "2022-05-07T16:47:15.025Z"
   },
   {
    "duration": 3,
    "start_time": "2022-05-07T16:47:18.635Z"
   },
   {
    "duration": 1321,
    "start_time": "2022-05-07T16:47:18.640Z"
   },
   {
    "duration": 208,
    "start_time": "2022-05-07T16:47:19.963Z"
   },
   {
    "duration": 269,
    "start_time": "2022-05-07T16:47:20.174Z"
   },
   {
    "duration": 61,
    "start_time": "2022-05-07T16:47:20.446Z"
   },
   {
    "duration": 176,
    "start_time": "2022-05-07T16:47:20.509Z"
   },
   {
    "duration": 55,
    "start_time": "2022-05-07T16:47:20.687Z"
   },
   {
    "duration": 222,
    "start_time": "2022-05-07T16:47:20.744Z"
   },
   {
    "duration": 179,
    "start_time": "2022-05-07T16:47:20.969Z"
   },
   {
    "duration": 22,
    "start_time": "2022-05-07T16:47:21.150Z"
   },
   {
    "duration": 12,
    "start_time": "2022-05-07T16:47:21.173Z"
   },
   {
    "duration": 31,
    "start_time": "2022-05-07T16:47:21.187Z"
   },
   {
    "duration": 8,
    "start_time": "2022-05-07T16:47:21.220Z"
   },
   {
    "duration": 12,
    "start_time": "2022-05-07T16:47:21.229Z"
   },
   {
    "duration": 42,
    "start_time": "2022-05-07T16:47:21.243Z"
   },
   {
    "duration": 37,
    "start_time": "2022-05-07T16:47:35.261Z"
   },
   {
    "duration": 4,
    "start_time": "2022-05-07T16:47:39.915Z"
   },
   {
    "duration": 938,
    "start_time": "2022-05-07T16:47:39.921Z"
   },
   {
    "duration": 130,
    "start_time": "2022-05-07T16:47:40.861Z"
   },
   {
    "duration": 166,
    "start_time": "2022-05-07T16:47:40.992Z"
   },
   {
    "duration": 45,
    "start_time": "2022-05-07T16:47:41.161Z"
   },
   {
    "duration": 169,
    "start_time": "2022-05-07T16:47:41.208Z"
   },
   {
    "duration": 67,
    "start_time": "2022-05-07T16:47:41.379Z"
   },
   {
    "duration": 215,
    "start_time": "2022-05-07T16:47:41.447Z"
   },
   {
    "duration": 165,
    "start_time": "2022-05-07T16:47:41.664Z"
   },
   {
    "duration": 21,
    "start_time": "2022-05-07T16:47:41.831Z"
   },
   {
    "duration": 11,
    "start_time": "2022-05-07T16:47:41.853Z"
   },
   {
    "duration": 35,
    "start_time": "2022-05-07T16:47:41.865Z"
   },
   {
    "duration": 6,
    "start_time": "2022-05-07T16:47:41.905Z"
   },
   {
    "duration": 11,
    "start_time": "2022-05-07T16:47:41.914Z"
   },
   {
    "duration": 43,
    "start_time": "2022-05-07T16:47:41.926Z"
   },
   {
    "duration": 364,
    "start_time": "2022-05-07T16:48:40.714Z"
   },
   {
    "duration": 226,
    "start_time": "2022-05-07T16:49:29.715Z"
   },
   {
    "duration": 175,
    "start_time": "2022-05-07T16:49:47.212Z"
   },
   {
    "duration": 152,
    "start_time": "2022-05-07T16:49:58.492Z"
   },
   {
    "duration": 289,
    "start_time": "2022-05-07T16:50:09.415Z"
   },
   {
    "duration": 371,
    "start_time": "2022-05-07T16:50:26.478Z"
   },
   {
    "duration": 204,
    "start_time": "2022-05-07T16:50:44.267Z"
   },
   {
    "duration": 155,
    "start_time": "2022-05-07T16:51:05.388Z"
   },
   {
    "duration": 284,
    "start_time": "2022-05-07T16:51:30.636Z"
   },
   {
    "duration": 176,
    "start_time": "2022-05-07T16:51:50.053Z"
   },
   {
    "duration": 390,
    "start_time": "2022-05-07T16:54:35.340Z"
   },
   {
    "duration": 293,
    "start_time": "2022-05-07T16:54:47.481Z"
   },
   {
    "duration": 6,
    "start_time": "2022-05-07T17:05:33.644Z"
   },
   {
    "duration": 12,
    "start_time": "2022-05-07T17:05:51.250Z"
   },
   {
    "duration": 14,
    "start_time": "2022-05-07T17:06:07.914Z"
   },
   {
    "duration": 8,
    "start_time": "2022-05-07T17:06:28.076Z"
   },
   {
    "duration": 8,
    "start_time": "2022-05-07T17:06:39.415Z"
   },
   {
    "duration": 12,
    "start_time": "2022-05-07T17:06:50.902Z"
   },
   {
    "duration": 7,
    "start_time": "2022-05-07T17:06:57.179Z"
   },
   {
    "duration": 9,
    "start_time": "2022-05-07T17:07:00.936Z"
   },
   {
    "duration": 13,
    "start_time": "2022-05-07T17:14:11.546Z"
   },
   {
    "duration": 9,
    "start_time": "2022-05-07T17:14:19.717Z"
   },
   {
    "duration": 10,
    "start_time": "2022-05-07T17:14:27.960Z"
   },
   {
    "duration": 10,
    "start_time": "2022-05-07T17:14:35.262Z"
   },
   {
    "duration": 151,
    "start_time": "2022-05-07T17:19:42.555Z"
   },
   {
    "duration": 272,
    "start_time": "2022-05-07T17:19:59.118Z"
   },
   {
    "duration": 177,
    "start_time": "2022-05-07T17:20:17.834Z"
   },
   {
    "duration": 137,
    "start_time": "2022-05-07T17:20:53.259Z"
   },
   {
    "duration": 270,
    "start_time": "2022-05-07T17:21:07.788Z"
   },
   {
    "duration": 7,
    "start_time": "2022-05-07T17:22:32.454Z"
   },
   {
    "duration": 5,
    "start_time": "2022-05-07T17:22:42.337Z"
   },
   {
    "duration": 5,
    "start_time": "2022-05-07T17:22:50.900Z"
   },
   {
    "duration": 10,
    "start_time": "2022-05-07T17:23:02.643Z"
   },
   {
    "duration": 5,
    "start_time": "2022-05-07T17:23:03.192Z"
   },
   {
    "duration": 346,
    "start_time": "2022-05-07T17:23:03.808Z"
   },
   {
    "duration": 1478,
    "start_time": "2022-05-07T17:28:20.535Z"
   },
   {
    "duration": 1435,
    "start_time": "2022-05-07T17:28:37.335Z"
   },
   {
    "duration": 1484,
    "start_time": "2022-05-07T17:29:06.549Z"
   },
   {
    "duration": 1436,
    "start_time": "2022-05-07T17:29:27.773Z"
   },
   {
    "duration": 1366,
    "start_time": "2022-05-07T17:29:38.536Z"
   },
   {
    "duration": 294,
    "start_time": "2022-05-07T17:30:28.190Z"
   },
   {
    "duration": 194,
    "start_time": "2022-05-07T17:30:35.780Z"
   },
   {
    "duration": 2491,
    "start_time": "2022-05-08T14:56:00.044Z"
   },
   {
    "duration": 1290,
    "start_time": "2022-05-08T14:56:02.538Z"
   },
   {
    "duration": 182,
    "start_time": "2022-05-08T14:56:03.830Z"
   },
   {
    "duration": 282,
    "start_time": "2022-05-08T14:56:04.015Z"
   },
   {
    "duration": 47,
    "start_time": "2022-05-08T14:56:04.299Z"
   },
   {
    "duration": 250,
    "start_time": "2022-05-08T14:56:04.348Z"
   },
   {
    "duration": 84,
    "start_time": "2022-05-08T14:56:04.600Z"
   },
   {
    "duration": 431,
    "start_time": "2022-05-08T14:56:04.686Z"
   },
   {
    "duration": 301,
    "start_time": "2022-05-08T14:56:05.119Z"
   },
   {
    "duration": 36,
    "start_time": "2022-05-08T14:56:05.423Z"
   },
   {
    "duration": 37,
    "start_time": "2022-05-08T14:56:05.461Z"
   },
   {
    "duration": 16,
    "start_time": "2022-05-08T14:56:05.500Z"
   },
   {
    "duration": 9,
    "start_time": "2022-05-08T14:56:05.518Z"
   },
   {
    "duration": 53,
    "start_time": "2022-05-08T14:56:05.529Z"
   },
   {
    "duration": 334,
    "start_time": "2022-05-08T14:56:05.584Z"
   },
   {
    "duration": 16,
    "start_time": "2022-05-08T14:56:05.920Z"
   },
   {
    "duration": 8,
    "start_time": "2022-05-08T14:56:05.938Z"
   },
   {
    "duration": 751,
    "start_time": "2022-05-08T14:56:05.948Z"
   },
   {
    "duration": 2268,
    "start_time": "2022-05-08T14:56:06.701Z"
   },
   {
    "duration": 258,
    "start_time": "2022-05-08T14:57:23.590Z"
   },
   {
    "duration": 243,
    "start_time": "2022-05-08T14:57:28.828Z"
   },
   {
    "duration": 308,
    "start_time": "2022-05-08T14:59:25.995Z"
   },
   {
    "duration": 357,
    "start_time": "2022-05-08T14:59:32.207Z"
   },
   {
    "duration": 480,
    "start_time": "2022-05-08T15:01:06.619Z"
   },
   {
    "duration": 465,
    "start_time": "2022-05-08T15:05:07.383Z"
   },
   {
    "duration": 126,
    "start_time": "2022-05-08T15:25:25.002Z"
   },
   {
    "duration": 1095,
    "start_time": "2022-05-08T15:25:31.248Z"
   },
   {
    "duration": 1104,
    "start_time": "2022-05-08T15:26:01.938Z"
   },
   {
    "duration": 5,
    "start_time": "2022-05-08T15:27:38.366Z"
   },
   {
    "duration": 5,
    "start_time": "2022-05-08T15:28:25.793Z"
   },
   {
    "duration": 2502,
    "start_time": "2022-05-08T15:29:14.539Z"
   },
   {
    "duration": 2757,
    "start_time": "2022-05-08T15:30:28.410Z"
   },
   {
    "duration": 135,
    "start_time": "2022-05-08T15:50:39.403Z"
   },
   {
    "duration": 118,
    "start_time": "2022-05-08T15:51:13.851Z"
   },
   {
    "duration": 6,
    "start_time": "2022-05-08T15:51:16.419Z"
   },
   {
    "duration": 1236,
    "start_time": "2022-05-08T15:51:16.427Z"
   },
   {
    "duration": 175,
    "start_time": "2022-05-08T15:51:17.666Z"
   },
   {
    "duration": 207,
    "start_time": "2022-05-08T15:51:17.843Z"
   },
   {
    "duration": 54,
    "start_time": "2022-05-08T15:51:18.053Z"
   },
   {
    "duration": 249,
    "start_time": "2022-05-08T15:51:18.109Z"
   },
   {
    "duration": 77,
    "start_time": "2022-05-08T15:51:18.360Z"
   },
   {
    "duration": 411,
    "start_time": "2022-05-08T15:51:18.439Z"
   },
   {
    "duration": 298,
    "start_time": "2022-05-08T15:51:18.852Z"
   },
   {
    "duration": 46,
    "start_time": "2022-05-08T15:51:19.152Z"
   },
   {
    "duration": 17,
    "start_time": "2022-05-08T15:51:19.200Z"
   },
   {
    "duration": 16,
    "start_time": "2022-05-08T15:51:19.219Z"
   },
   {
    "duration": 46,
    "start_time": "2022-05-08T15:51:19.237Z"
   },
   {
    "duration": 10,
    "start_time": "2022-05-08T15:51:19.287Z"
   },
   {
    "duration": 328,
    "start_time": "2022-05-08T15:51:19.299Z"
   },
   {
    "duration": 15,
    "start_time": "2022-05-08T15:51:19.630Z"
   },
   {
    "duration": 8,
    "start_time": "2022-05-08T15:51:19.647Z"
   },
   {
    "duration": 604,
    "start_time": "2022-05-08T15:51:19.681Z"
   },
   {
    "duration": 2298,
    "start_time": "2022-05-08T15:51:20.287Z"
   },
   {
    "duration": 253,
    "start_time": "2022-05-08T15:51:22.587Z"
   },
   {
    "duration": 417,
    "start_time": "2022-05-08T15:51:22.842Z"
   },
   {
    "duration": 444,
    "start_time": "2022-05-08T15:51:23.261Z"
   },
   {
    "duration": 2437,
    "start_time": "2022-05-08T15:51:23.707Z"
   },
   {
    "duration": 155,
    "start_time": "2022-05-08T15:51:26.146Z"
   },
   {
    "duration": 120,
    "start_time": "2022-05-08T15:52:01.441Z"
   },
   {
    "duration": 5,
    "start_time": "2022-05-08T15:52:04.491Z"
   },
   {
    "duration": 615,
    "start_time": "2022-05-08T15:54:33.692Z"
   },
   {
    "duration": 536,
    "start_time": "2022-05-08T15:54:45.964Z"
   },
   {
    "duration": 216,
    "start_time": "2022-05-08T15:55:03.719Z"
   },
   {
    "duration": 130,
    "start_time": "2022-05-08T15:55:08.938Z"
   },
   {
    "duration": 528,
    "start_time": "2022-05-08T15:55:36.085Z"
   },
   {
    "duration": 115,
    "start_time": "2022-05-08T15:56:19.586Z"
   },
   {
    "duration": 524,
    "start_time": "2022-05-08T15:57:05.491Z"
   },
   {
    "duration": 519,
    "start_time": "2022-05-08T15:57:21.580Z"
   },
   {
    "duration": 523,
    "start_time": "2022-05-08T16:01:17.007Z"
   },
   {
    "duration": 516,
    "start_time": "2022-05-08T16:02:03.011Z"
   },
   {
    "duration": 63,
    "start_time": "2022-05-08T16:02:33.620Z"
   },
   {
    "duration": 56,
    "start_time": "2022-05-08T16:02:36.545Z"
   },
   {
    "duration": 144,
    "start_time": "2022-05-08T16:04:27.193Z"
   },
   {
    "duration": 5,
    "start_time": "2022-05-08T16:07:56.875Z"
   },
   {
    "duration": 2342,
    "start_time": "2022-05-08T16:09:07.315Z"
   },
   {
    "duration": 408,
    "start_time": "2022-05-08T16:09:43.929Z"
   },
   {
    "duration": 442,
    "start_time": "2022-05-08T16:10:26.858Z"
   },
   {
    "duration": 99,
    "start_time": "2022-05-08T16:12:53.865Z"
   },
   {
    "duration": 7,
    "start_time": "2022-05-08T16:12:57.900Z"
   },
   {
    "duration": 1253,
    "start_time": "2022-05-08T16:12:57.910Z"
   },
   {
    "duration": 184,
    "start_time": "2022-05-08T16:12:59.166Z"
   },
   {
    "duration": 229,
    "start_time": "2022-05-08T16:12:59.353Z"
   },
   {
    "duration": 47,
    "start_time": "2022-05-08T16:12:59.586Z"
   },
   {
    "duration": 250,
    "start_time": "2022-05-08T16:12:59.635Z"
   },
   {
    "duration": 68,
    "start_time": "2022-05-08T16:12:59.887Z"
   },
   {
    "duration": 428,
    "start_time": "2022-05-08T16:12:59.957Z"
   },
   {
    "duration": 302,
    "start_time": "2022-05-08T16:13:00.387Z"
   },
   {
    "duration": 34,
    "start_time": "2022-05-08T16:13:00.691Z"
   },
   {
    "duration": 16,
    "start_time": "2022-05-08T16:13:00.728Z"
   },
   {
    "duration": 48,
    "start_time": "2022-05-08T16:13:00.746Z"
   },
   {
    "duration": 9,
    "start_time": "2022-05-08T16:13:00.797Z"
   },
   {
    "duration": 14,
    "start_time": "2022-05-08T16:13:00.808Z"
   },
   {
    "duration": 355,
    "start_time": "2022-05-08T16:13:00.824Z"
   },
   {
    "duration": 14,
    "start_time": "2022-05-08T16:13:01.182Z"
   },
   {
    "duration": 7,
    "start_time": "2022-05-08T16:13:01.199Z"
   },
   {
    "duration": 650,
    "start_time": "2022-05-08T16:13:01.209Z"
   },
   {
    "duration": 2254,
    "start_time": "2022-05-08T16:13:01.862Z"
   },
   {
    "duration": 251,
    "start_time": "2022-05-08T16:13:04.118Z"
   },
   {
    "duration": 424,
    "start_time": "2022-05-08T16:13:04.371Z"
   },
   {
    "duration": 495,
    "start_time": "2022-05-08T16:13:04.798Z"
   },
   {
    "duration": 2553,
    "start_time": "2022-05-08T16:13:05.295Z"
   },
   {
    "duration": 6,
    "start_time": "2022-05-08T16:13:07.850Z"
   },
   {
    "duration": 636,
    "start_time": "2022-05-08T16:13:07.858Z"
   },
   {
    "duration": 64,
    "start_time": "2022-05-08T16:13:08.496Z"
   },
   {
    "duration": 179,
    "start_time": "2022-05-08T16:13:08.562Z"
   },
   {
    "duration": 5,
    "start_time": "2022-05-08T16:13:08.743Z"
   },
   {
    "duration": 623,
    "start_time": "2022-05-08T16:13:08.750Z"
   },
   {
    "duration": 7,
    "start_time": "2022-05-08T16:28:15.888Z"
   },
   {
    "duration": 174,
    "start_time": "2022-05-08T16:44:52.557Z"
   },
   {
    "duration": 0,
    "start_time": "2022-05-08T16:46:13.783Z"
   },
   {
    "duration": 8,
    "start_time": "2022-05-08T16:46:32.538Z"
   },
   {
    "duration": 1234,
    "start_time": "2022-05-08T16:46:32.549Z"
   },
   {
    "duration": 178,
    "start_time": "2022-05-08T16:46:33.785Z"
   },
   {
    "duration": 217,
    "start_time": "2022-05-08T16:46:33.966Z"
   },
   {
    "duration": 46,
    "start_time": "2022-05-08T16:46:34.185Z"
   },
   {
    "duration": 253,
    "start_time": "2022-05-08T16:46:34.233Z"
   },
   {
    "duration": 71,
    "start_time": "2022-05-08T16:46:34.488Z"
   },
   {
    "duration": 432,
    "start_time": "2022-05-08T16:46:34.561Z"
   },
   {
    "duration": 300,
    "start_time": "2022-05-08T16:46:34.994Z"
   },
   {
    "duration": 33,
    "start_time": "2022-05-08T16:46:35.298Z"
   },
   {
    "duration": 16,
    "start_time": "2022-05-08T16:46:35.333Z"
   },
   {
    "duration": 16,
    "start_time": "2022-05-08T16:46:35.382Z"
   },
   {
    "duration": 9,
    "start_time": "2022-05-08T16:46:35.400Z"
   },
   {
    "duration": 11,
    "start_time": "2022-05-08T16:46:35.412Z"
   },
   {
    "duration": 358,
    "start_time": "2022-05-08T16:46:35.426Z"
   },
   {
    "duration": 18,
    "start_time": "2022-05-08T16:46:35.787Z"
   },
   {
    "duration": 10,
    "start_time": "2022-05-08T16:46:35.807Z"
   },
   {
    "duration": 554,
    "start_time": "2022-05-08T16:46:35.819Z"
   },
   {
    "duration": 2299,
    "start_time": "2022-05-08T16:46:36.382Z"
   },
   {
    "duration": 253,
    "start_time": "2022-05-08T16:46:38.684Z"
   },
   {
    "duration": 421,
    "start_time": "2022-05-08T16:46:38.939Z"
   },
   {
    "duration": 468,
    "start_time": "2022-05-08T16:46:39.363Z"
   },
   {
    "duration": 2861,
    "start_time": "2022-05-08T16:46:39.834Z"
   },
   {
    "duration": 4,
    "start_time": "2022-05-08T16:46:42.698Z"
   },
   {
    "duration": 614,
    "start_time": "2022-05-08T16:46:42.704Z"
   },
   {
    "duration": 74,
    "start_time": "2022-05-08T16:46:43.321Z"
   },
   {
    "duration": 163,
    "start_time": "2022-05-08T16:46:43.397Z"
   },
   {
    "duration": 5,
    "start_time": "2022-05-08T16:46:43.565Z"
   },
   {
    "duration": 610,
    "start_time": "2022-05-08T16:46:43.581Z"
   },
   {
    "duration": 9,
    "start_time": "2022-05-08T16:46:44.193Z"
   },
   {
    "duration": 275822,
    "start_time": "2022-05-08T16:47:02.212Z"
   },
   {
    "duration": 92,
    "start_time": "2022-05-08T16:54:22.591Z"
   },
   {
    "duration": 1285,
    "start_time": "2022-05-08T16:54:22.686Z"
   },
   {
    "duration": 174,
    "start_time": "2022-05-08T16:54:23.981Z"
   },
   {
    "duration": 224,
    "start_time": "2022-05-08T16:54:24.158Z"
   },
   {
    "duration": 48,
    "start_time": "2022-05-08T16:54:24.384Z"
   },
   {
    "duration": 262,
    "start_time": "2022-05-08T16:54:24.435Z"
   },
   {
    "duration": 83,
    "start_time": "2022-05-08T16:54:24.700Z"
   },
   {
    "duration": 426,
    "start_time": "2022-05-08T16:54:24.785Z"
   },
   {
    "duration": 439,
    "start_time": "2022-05-08T16:54:25.217Z"
   },
   {
    "duration": 49,
    "start_time": "2022-05-08T16:54:25.659Z"
   },
   {
    "duration": 19,
    "start_time": "2022-05-08T16:54:25.710Z"
   },
   {
    "duration": 54,
    "start_time": "2022-05-08T16:54:25.732Z"
   },
   {
    "duration": 10,
    "start_time": "2022-05-08T16:54:25.789Z"
   },
   {
    "duration": 12,
    "start_time": "2022-05-08T16:54:25.801Z"
   },
   {
    "duration": 354,
    "start_time": "2022-05-08T16:54:25.815Z"
   },
   {
    "duration": 23,
    "start_time": "2022-05-08T16:54:26.171Z"
   },
   {
    "duration": 8,
    "start_time": "2022-05-08T16:54:26.196Z"
   },
   {
    "duration": 534,
    "start_time": "2022-05-08T16:54:26.206Z"
   },
   {
    "duration": 2492,
    "start_time": "2022-05-08T16:54:26.742Z"
   },
   {
    "duration": 250,
    "start_time": "2022-05-08T16:54:29.236Z"
   },
   {
    "duration": 401,
    "start_time": "2022-05-08T16:54:29.488Z"
   },
   {
    "duration": 501,
    "start_time": "2022-05-08T16:54:29.891Z"
   },
   {
    "duration": 2659,
    "start_time": "2022-05-08T16:54:30.394Z"
   },
   {
    "duration": 5,
    "start_time": "2022-05-08T16:54:33.056Z"
   },
   {
    "duration": 612,
    "start_time": "2022-05-08T16:54:33.063Z"
   },
   {
    "duration": 66,
    "start_time": "2022-05-08T16:54:33.682Z"
   },
   {
    "duration": 182,
    "start_time": "2022-05-08T16:54:33.753Z"
   },
   {
    "duration": 5,
    "start_time": "2022-05-08T16:54:33.938Z"
   },
   {
    "duration": 593,
    "start_time": "2022-05-08T16:54:33.945Z"
   },
   {
    "duration": 34347,
    "start_time": "2022-05-08T16:54:34.540Z"
   },
   {
    "duration": 31260,
    "start_time": "2022-05-08T16:55:46.024Z"
   },
   {
    "duration": 36548,
    "start_time": "2022-05-08T16:57:56.441Z"
   },
   {
    "duration": 25415,
    "start_time": "2022-05-08T17:02:30.574Z"
   },
   {
    "duration": 196,
    "start_time": "2022-05-08T17:02:55.992Z"
   },
   {
    "duration": 118,
    "start_time": "2022-05-08T17:03:10.823Z"
   },
   {
    "duration": 113,
    "start_time": "2022-05-08T17:03:41.778Z"
   },
   {
    "duration": 6,
    "start_time": "2022-05-08T17:03:42.474Z"
   },
   {
    "duration": 4,
    "start_time": "2022-05-08T17:05:28.165Z"
   },
   {
    "duration": 171,
    "start_time": "2022-05-08T17:10:38.340Z"
   },
   {
    "duration": 4,
    "start_time": "2022-05-08T17:10:42.097Z"
   },
   {
    "duration": 134,
    "start_time": "2022-05-08T17:12:16.426Z"
   },
   {
    "duration": 126,
    "start_time": "2022-05-08T17:19:05.669Z"
   },
   {
    "duration": 7,
    "start_time": "2022-05-08T17:19:15.205Z"
   },
   {
    "duration": 11,
    "start_time": "2022-05-08T17:19:18.585Z"
   },
   {
    "duration": 1234,
    "start_time": "2022-05-08T17:19:18.599Z"
   },
   {
    "duration": 172,
    "start_time": "2022-05-08T17:19:19.835Z"
   },
   {
    "duration": 225,
    "start_time": "2022-05-08T17:19:20.010Z"
   },
   {
    "duration": 55,
    "start_time": "2022-05-08T17:19:20.237Z"
   },
   {
    "duration": 254,
    "start_time": "2022-05-08T17:19:20.294Z"
   },
   {
    "duration": 81,
    "start_time": "2022-05-08T17:19:20.551Z"
   },
   {
    "duration": 423,
    "start_time": "2022-05-08T17:19:20.635Z"
   },
   {
    "duration": 316,
    "start_time": "2022-05-08T17:19:21.061Z"
   },
   {
    "duration": 35,
    "start_time": "2022-05-08T17:19:21.383Z"
   },
   {
    "duration": 16,
    "start_time": "2022-05-08T17:19:21.420Z"
   },
   {
    "duration": 54,
    "start_time": "2022-05-08T17:19:21.438Z"
   },
   {
    "duration": 8,
    "start_time": "2022-05-08T17:19:21.494Z"
   },
   {
    "duration": 11,
    "start_time": "2022-05-08T17:19:21.504Z"
   },
   {
    "duration": 334,
    "start_time": "2022-05-08T17:19:21.517Z"
   },
   {
    "duration": 30,
    "start_time": "2022-05-08T17:19:21.853Z"
   },
   {
    "duration": 7,
    "start_time": "2022-05-08T17:19:21.885Z"
   },
   {
    "duration": 517,
    "start_time": "2022-05-08T17:19:21.894Z"
   },
   {
    "duration": 2255,
    "start_time": "2022-05-08T17:19:22.413Z"
   },
   {
    "duration": 254,
    "start_time": "2022-05-08T17:19:24.670Z"
   },
   {
    "duration": 402,
    "start_time": "2022-05-08T17:19:24.926Z"
   },
   {
    "duration": 615,
    "start_time": "2022-05-08T17:19:25.332Z"
   },
   {
    "duration": 2347,
    "start_time": "2022-05-08T17:19:25.950Z"
   },
   {
    "duration": 7,
    "start_time": "2022-05-08T17:19:28.299Z"
   },
   {
    "duration": 622,
    "start_time": "2022-05-08T17:19:28.308Z"
   },
   {
    "duration": 74,
    "start_time": "2022-05-08T17:19:28.933Z"
   },
   {
    "duration": 176,
    "start_time": "2022-05-08T17:19:29.009Z"
   },
   {
    "duration": 5,
    "start_time": "2022-05-08T17:19:29.190Z"
   },
   {
    "duration": 596,
    "start_time": "2022-05-08T17:19:29.197Z"
   },
   {
    "duration": 4,
    "start_time": "2022-05-08T17:19:29.796Z"
   },
   {
    "duration": 31493,
    "start_time": "2022-05-08T17:19:29.802Z"
   },
   {
    "duration": 286,
    "start_time": "2022-05-08T17:20:01.298Z"
   },
   {
    "duration": 94,
    "start_time": "2022-05-08T17:20:01.589Z"
   },
   {
    "duration": 19,
    "start_time": "2022-05-08T17:20:01.686Z"
   },
   {
    "duration": 419,
    "start_time": "2022-05-08T17:20:01.707Z"
   },
   {
    "duration": 488,
    "start_time": "2022-05-08T17:21:17.389Z"
   },
   {
    "duration": 17,
    "start_time": "2022-05-08T17:22:53.250Z"
   },
   {
    "duration": 463,
    "start_time": "2022-05-08T17:22:57.937Z"
   },
   {
    "duration": 18,
    "start_time": "2022-05-08T17:22:58.859Z"
   },
   {
    "duration": 5,
    "start_time": "2022-05-08T17:22:59.736Z"
   },
   {
    "duration": 143,
    "start_time": "2022-05-08T17:23:05.963Z"
   },
   {
    "duration": 10,
    "start_time": "2022-05-08T17:23:07.316Z"
   },
   {
    "duration": 6,
    "start_time": "2022-05-08T17:23:07.807Z"
   },
   {
    "duration": 200,
    "start_time": "2022-05-08T17:23:14.040Z"
   },
   {
    "duration": 10,
    "start_time": "2022-05-08T17:23:14.726Z"
   },
   {
    "duration": 5,
    "start_time": "2022-05-08T17:23:15.189Z"
   },
   {
    "duration": 257,
    "start_time": "2022-05-08T17:23:18.738Z"
   },
   {
    "duration": 11,
    "start_time": "2022-05-08T17:23:19.765Z"
   },
   {
    "duration": 6,
    "start_time": "2022-05-08T17:23:20.248Z"
   },
   {
    "duration": 312,
    "start_time": "2022-05-08T17:23:23.442Z"
   },
   {
    "duration": 13,
    "start_time": "2022-05-08T17:23:23.921Z"
   },
   {
    "duration": 6,
    "start_time": "2022-05-08T17:23:24.400Z"
   },
   {
    "duration": 363,
    "start_time": "2022-05-08T17:23:27.473Z"
   },
   {
    "duration": 13,
    "start_time": "2022-05-08T17:23:28.004Z"
   },
   {
    "duration": 7,
    "start_time": "2022-05-08T17:23:28.558Z"
   },
   {
    "duration": 473,
    "start_time": "2022-05-08T17:23:31.913Z"
   },
   {
    "duration": 15,
    "start_time": "2022-05-08T17:23:32.389Z"
   },
   {
    "duration": 6,
    "start_time": "2022-05-08T17:23:32.800Z"
   },
   {
    "duration": 145,
    "start_time": "2022-05-08T17:23:37.471Z"
   },
   {
    "duration": 11,
    "start_time": "2022-05-08T17:23:38.205Z"
   },
   {
    "duration": 6,
    "start_time": "2022-05-08T17:23:38.669Z"
   },
   {
    "duration": 143,
    "start_time": "2022-05-08T17:23:44.199Z"
   },
   {
    "duration": 10,
    "start_time": "2022-05-08T17:23:45.137Z"
   },
   {
    "duration": 6,
    "start_time": "2022-05-08T17:23:45.676Z"
   },
   {
    "duration": 144,
    "start_time": "2022-05-08T17:23:48.201Z"
   },
   {
    "duration": 10,
    "start_time": "2022-05-08T17:23:48.963Z"
   },
   {
    "duration": 6,
    "start_time": "2022-05-08T17:23:49.796Z"
   },
   {
    "duration": 148,
    "start_time": "2022-05-08T17:24:45.985Z"
   },
   {
    "duration": 10,
    "start_time": "2022-05-08T17:24:46.265Z"
   },
   {
    "duration": 5,
    "start_time": "2022-05-08T17:24:47.541Z"
   },
   {
    "duration": 5,
    "start_time": "2022-05-08T17:25:56.774Z"
   },
   {
    "duration": 61,
    "start_time": "2022-05-08T17:39:04.876Z"
   },
   {
    "duration": 152,
    "start_time": "2022-05-08T17:39:39.455Z"
   },
   {
    "duration": 0,
    "start_time": "2022-05-08T17:43:35.221Z"
   },
   {
    "duration": 0,
    "start_time": "2022-05-08T17:43:35.222Z"
   },
   {
    "duration": 0,
    "start_time": "2022-05-08T17:43:35.223Z"
   },
   {
    "duration": 0,
    "start_time": "2022-05-08T17:43:35.224Z"
   },
   {
    "duration": 0,
    "start_time": "2022-05-08T17:43:35.226Z"
   },
   {
    "duration": 0,
    "start_time": "2022-05-08T17:43:35.227Z"
   },
   {
    "duration": 0,
    "start_time": "2022-05-08T17:43:35.229Z"
   },
   {
    "duration": 0,
    "start_time": "2022-05-08T17:43:35.230Z"
   },
   {
    "duration": 0,
    "start_time": "2022-05-08T17:43:35.231Z"
   },
   {
    "duration": 0,
    "start_time": "2022-05-08T17:43:35.232Z"
   },
   {
    "duration": 1,
    "start_time": "2022-05-08T17:43:35.233Z"
   },
   {
    "duration": 0,
    "start_time": "2022-05-08T17:43:35.235Z"
   },
   {
    "duration": 0,
    "start_time": "2022-05-08T17:43:35.236Z"
   },
   {
    "duration": 0,
    "start_time": "2022-05-08T17:43:35.237Z"
   },
   {
    "duration": 0,
    "start_time": "2022-05-08T17:43:35.238Z"
   },
   {
    "duration": 0,
    "start_time": "2022-05-08T17:43:35.239Z"
   },
   {
    "duration": 0,
    "start_time": "2022-05-08T17:43:35.240Z"
   },
   {
    "duration": 0,
    "start_time": "2022-05-08T17:43:35.242Z"
   },
   {
    "duration": 0,
    "start_time": "2022-05-08T17:43:35.243Z"
   },
   {
    "duration": 0,
    "start_time": "2022-05-08T17:43:35.244Z"
   },
   {
    "duration": 0,
    "start_time": "2022-05-08T17:43:35.245Z"
   },
   {
    "duration": 0,
    "start_time": "2022-05-08T17:43:35.246Z"
   },
   {
    "duration": 0,
    "start_time": "2022-05-08T17:43:35.248Z"
   },
   {
    "duration": 0,
    "start_time": "2022-05-08T17:43:35.249Z"
   },
   {
    "duration": 0,
    "start_time": "2022-05-08T17:43:35.250Z"
   },
   {
    "duration": 0,
    "start_time": "2022-05-08T17:43:35.251Z"
   },
   {
    "duration": 0,
    "start_time": "2022-05-08T17:43:35.251Z"
   },
   {
    "duration": 0,
    "start_time": "2022-05-08T17:43:35.281Z"
   },
   {
    "duration": 0,
    "start_time": "2022-05-08T17:43:35.283Z"
   },
   {
    "duration": 0,
    "start_time": "2022-05-08T17:43:35.285Z"
   },
   {
    "duration": 0,
    "start_time": "2022-05-08T17:43:35.287Z"
   },
   {
    "duration": 0,
    "start_time": "2022-05-08T17:43:35.288Z"
   },
   {
    "duration": 0,
    "start_time": "2022-05-08T17:43:35.290Z"
   },
   {
    "duration": 0,
    "start_time": "2022-05-08T17:43:35.291Z"
   },
   {
    "duration": 0,
    "start_time": "2022-05-08T17:43:35.293Z"
   },
   {
    "duration": 1,
    "start_time": "2022-05-08T17:43:35.294Z"
   },
   {
    "duration": 0,
    "start_time": "2022-05-08T17:43:35.296Z"
   },
   {
    "duration": 0,
    "start_time": "2022-05-08T17:43:35.298Z"
   },
   {
    "duration": 0,
    "start_time": "2022-05-08T17:43:35.299Z"
   },
   {
    "duration": 0,
    "start_time": "2022-05-08T17:43:35.301Z"
   },
   {
    "duration": 7,
    "start_time": "2022-05-08T17:43:41.652Z"
   },
   {
    "duration": 1232,
    "start_time": "2022-05-08T17:43:41.662Z"
   },
   {
    "duration": 173,
    "start_time": "2022-05-08T17:43:42.896Z"
   },
   {
    "duration": 217,
    "start_time": "2022-05-08T17:43:43.072Z"
   },
   {
    "duration": 46,
    "start_time": "2022-05-08T17:43:43.291Z"
   },
   {
    "duration": 261,
    "start_time": "2022-05-08T17:43:43.339Z"
   },
   {
    "duration": 81,
    "start_time": "2022-05-08T17:43:43.602Z"
   },
   {
    "duration": 423,
    "start_time": "2022-05-08T17:43:43.685Z"
   },
   {
    "duration": 301,
    "start_time": "2022-05-08T17:43:44.110Z"
   },
   {
    "duration": 33,
    "start_time": "2022-05-08T17:43:44.415Z"
   },
   {
    "duration": 41,
    "start_time": "2022-05-08T17:43:44.450Z"
   },
   {
    "duration": 16,
    "start_time": "2022-05-08T17:43:44.494Z"
   },
   {
    "duration": 9,
    "start_time": "2022-05-08T17:43:44.512Z"
   },
   {
    "duration": 9,
    "start_time": "2022-05-08T17:43:44.524Z"
   },
   {
    "duration": 363,
    "start_time": "2022-05-08T17:43:44.535Z"
   },
   {
    "duration": 16,
    "start_time": "2022-05-08T17:43:44.900Z"
   },
   {
    "duration": 8,
    "start_time": "2022-05-08T17:43:44.918Z"
   },
   {
    "duration": 539,
    "start_time": "2022-05-08T17:43:44.928Z"
   },
   {
    "duration": 2421,
    "start_time": "2022-05-08T17:43:45.469Z"
   },
   {
    "duration": 256,
    "start_time": "2022-05-08T17:43:47.893Z"
   },
   {
    "duration": 400,
    "start_time": "2022-05-08T17:43:48.151Z"
   },
   {
    "duration": 457,
    "start_time": "2022-05-08T17:43:48.553Z"
   },
   {
    "duration": 2314,
    "start_time": "2022-05-08T17:43:49.012Z"
   },
   {
    "duration": 5,
    "start_time": "2022-05-08T17:43:51.328Z"
   },
   {
    "duration": 612,
    "start_time": "2022-05-08T17:43:51.335Z"
   },
   {
    "duration": 73,
    "start_time": "2022-05-08T17:43:51.949Z"
   },
   {
    "duration": 170,
    "start_time": "2022-05-08T17:43:52.025Z"
   },
   {
    "duration": 5,
    "start_time": "2022-05-08T17:43:52.200Z"
   },
   {
    "duration": 591,
    "start_time": "2022-05-08T17:43:52.207Z"
   },
   {
    "duration": 3,
    "start_time": "2022-05-08T17:43:52.801Z"
   },
   {
    "duration": 27586,
    "start_time": "2022-05-08T17:43:52.806Z"
   },
   {
    "duration": 197,
    "start_time": "2022-05-08T17:44:20.395Z"
   },
   {
    "duration": 92,
    "start_time": "2022-05-08T17:44:20.595Z"
   },
   {
    "duration": 96,
    "start_time": "2022-05-08T17:44:20.691Z"
   },
   {
    "duration": 187,
    "start_time": "2022-05-08T17:44:20.789Z"
   },
   {
    "duration": 13,
    "start_time": "2022-05-08T17:44:20.981Z"
   },
   {
    "duration": 6,
    "start_time": "2022-05-08T17:44:20.997Z"
   },
   {
    "duration": 4,
    "start_time": "2022-05-08T17:44:21.005Z"
   },
   {
    "duration": 8,
    "start_time": "2022-05-08T17:44:21.012Z"
   },
   {
    "duration": 0,
    "start_time": "2022-05-08T17:44:21.022Z"
   },
   {
    "duration": 87,
    "start_time": "2022-05-08T17:46:32.160Z"
   },
   {
    "duration": 15838,
    "start_time": "2022-05-08T17:46:40.959Z"
   },
   {
    "duration": 15613,
    "start_time": "2022-05-08T17:47:18.537Z"
   },
   {
    "duration": 36161,
    "start_time": "2022-05-08T17:48:46.860Z"
   },
   {
    "duration": 80971,
    "start_time": "2022-05-08T17:51:02.850Z"
   },
   {
    "duration": 79707,
    "start_time": "2022-05-08T17:56:50.111Z"
   },
   {
    "duration": 4104,
    "start_time": "2022-05-08T17:58:09.822Z"
   },
   {
    "duration": 6,
    "start_time": "2022-05-08T17:58:13.928Z"
   },
   {
    "duration": 478,
    "start_time": "2022-05-08T18:06:43.171Z"
   },
   {
    "duration": 14,
    "start_time": "2022-05-08T18:06:44.969Z"
   },
   {
    "duration": 5,
    "start_time": "2022-05-08T18:06:46.826Z"
   },
   {
    "duration": 619,
    "start_time": "2022-05-08T18:06:51.183Z"
   },
   {
    "duration": 16,
    "start_time": "2022-05-08T18:06:51.830Z"
   },
   {
    "duration": 7,
    "start_time": "2022-05-08T18:06:52.835Z"
   },
   {
    "duration": 582,
    "start_time": "2022-05-08T18:07:16.342Z"
   },
   {
    "duration": 17,
    "start_time": "2022-05-08T18:07:16.926Z"
   },
   {
    "duration": 6,
    "start_time": "2022-05-08T18:07:19.117Z"
   },
   {
    "duration": 682,
    "start_time": "2022-05-08T18:07:27.130Z"
   },
   {
    "duration": 20,
    "start_time": "2022-05-08T18:07:28.017Z"
   },
   {
    "duration": 6,
    "start_time": "2022-05-08T18:07:29.231Z"
   },
   {
    "duration": 823,
    "start_time": "2022-05-08T18:07:33.223Z"
   },
   {
    "duration": 44,
    "start_time": "2022-05-08T18:07:34.048Z"
   },
   {
    "duration": 6,
    "start_time": "2022-05-08T18:07:34.816Z"
   },
   {
    "duration": 692,
    "start_time": "2022-05-08T18:07:38.135Z"
   },
   {
    "duration": 21,
    "start_time": "2022-05-08T18:07:38.988Z"
   },
   {
    "duration": 6,
    "start_time": "2022-05-08T18:07:40.173Z"
   },
   {
    "duration": 741,
    "start_time": "2022-05-08T18:07:43.540Z"
   },
   {
    "duration": 24,
    "start_time": "2022-05-08T18:07:44.284Z"
   },
   {
    "duration": 6,
    "start_time": "2022-05-08T18:07:45.287Z"
   },
   {
    "duration": 640,
    "start_time": "2022-05-08T18:07:48.315Z"
   },
   {
    "duration": 20,
    "start_time": "2022-05-08T18:07:49.000Z"
   },
   {
    "duration": 6,
    "start_time": "2022-05-08T18:07:49.947Z"
   },
   {
    "duration": 608,
    "start_time": "2022-05-08T18:07:53.032Z"
   },
   {
    "duration": 21,
    "start_time": "2022-05-08T18:07:53.643Z"
   },
   {
    "duration": 6,
    "start_time": "2022-05-08T18:07:54.444Z"
   },
   {
    "duration": 646,
    "start_time": "2022-05-08T18:07:57.788Z"
   },
   {
    "duration": 21,
    "start_time": "2022-05-08T18:07:58.438Z"
   },
   {
    "duration": 6,
    "start_time": "2022-05-08T18:07:58.980Z"
   },
   {
    "duration": 4,
    "start_time": "2022-05-08T18:07:59.648Z"
   },
   {
    "duration": 6,
    "start_time": "2022-05-08T18:08:03.348Z"
   },
   {
    "duration": 4,
    "start_time": "2022-05-08T18:08:03.828Z"
   },
   {
    "duration": 4,
    "start_time": "2022-05-08T18:09:31.430Z"
   },
   {
    "duration": 98,
    "start_time": "2022-05-08T18:20:58.518Z"
   },
   {
    "duration": 136,
    "start_time": "2022-05-08T18:21:46.116Z"
   },
   {
    "duration": 143,
    "start_time": "2022-05-08T18:21:55.181Z"
   },
   {
    "duration": 118608,
    "start_time": "2022-05-08T18:22:08.593Z"
   },
   {
    "duration": 8,
    "start_time": "2022-05-08T18:24:47.090Z"
   },
   {
    "duration": 1332,
    "start_time": "2022-05-08T18:24:47.101Z"
   },
   {
    "duration": 175,
    "start_time": "2022-05-08T18:24:48.435Z"
   },
   {
    "duration": 233,
    "start_time": "2022-05-08T18:24:48.613Z"
   },
   {
    "duration": 83,
    "start_time": "2022-05-08T18:24:48.849Z"
   },
   {
    "duration": 420,
    "start_time": "2022-05-08T18:24:48.935Z"
   },
   {
    "duration": 110,
    "start_time": "2022-05-08T18:24:49.357Z"
   },
   {
    "duration": 602,
    "start_time": "2022-05-08T18:24:49.470Z"
   },
   {
    "duration": 310,
    "start_time": "2022-05-08T18:24:50.074Z"
   },
   {
    "duration": 35,
    "start_time": "2022-05-08T18:24:50.390Z"
   },
   {
    "duration": 54,
    "start_time": "2022-05-08T18:24:50.428Z"
   },
   {
    "duration": 17,
    "start_time": "2022-05-08T18:24:50.484Z"
   },
   {
    "duration": 9,
    "start_time": "2022-05-08T18:24:50.503Z"
   },
   {
    "duration": 13,
    "start_time": "2022-05-08T18:24:50.514Z"
   },
   {
    "duration": 369,
    "start_time": "2022-05-08T18:24:50.529Z"
   },
   {
    "duration": 15,
    "start_time": "2022-05-08T18:24:50.901Z"
   },
   {
    "duration": 9,
    "start_time": "2022-05-08T18:24:50.919Z"
   },
   {
    "duration": 736,
    "start_time": "2022-05-08T18:24:50.932Z"
   },
   {
    "duration": 2374,
    "start_time": "2022-05-08T18:24:51.671Z"
   },
   {
    "duration": 258,
    "start_time": "2022-05-08T18:24:54.048Z"
   },
   {
    "duration": 400,
    "start_time": "2022-05-08T18:24:54.309Z"
   },
   {
    "duration": 513,
    "start_time": "2022-05-08T18:24:54.712Z"
   },
   {
    "duration": 2522,
    "start_time": "2022-05-08T18:24:55.227Z"
   },
   {
    "duration": 5,
    "start_time": "2022-05-08T18:24:57.751Z"
   },
   {
    "duration": 592,
    "start_time": "2022-05-08T18:24:57.758Z"
   },
   {
    "duration": 75,
    "start_time": "2022-05-08T18:24:58.353Z"
   },
   {
    "duration": 173,
    "start_time": "2022-05-08T18:24:58.431Z"
   },
   {
    "duration": 5,
    "start_time": "2022-05-08T18:24:58.609Z"
   },
   {
    "duration": 602,
    "start_time": "2022-05-08T18:24:58.617Z"
   },
   {
    "duration": 3,
    "start_time": "2022-05-08T18:24:59.221Z"
   },
   {
    "duration": 35860,
    "start_time": "2022-05-08T18:24:59.226Z"
   },
   {
    "duration": 298,
    "start_time": "2022-05-08T18:25:35.090Z"
   },
   {
    "duration": 8,
    "start_time": "2022-05-08T18:25:35.391Z"
   },
   {
    "duration": 81,
    "start_time": "2022-05-08T18:25:35.401Z"
   },
   {
    "duration": 702,
    "start_time": "2022-05-08T18:25:35.485Z"
   },
   {
    "duration": 22,
    "start_time": "2022-05-08T18:25:36.190Z"
   },
   {
    "duration": 7,
    "start_time": "2022-05-08T18:25:36.215Z"
   },
   {
    "duration": 13,
    "start_time": "2022-05-08T18:25:36.226Z"
   },
   {
    "duration": 80123,
    "start_time": "2022-05-08T18:25:36.241Z"
   },
   {
    "duration": 4217,
    "start_time": "2022-05-08T18:26:56.366Z"
   },
   {
    "duration": 6,
    "start_time": "2022-05-08T18:27:00.586Z"
   },
   {
    "duration": 33,
    "start_time": "2022-05-08T18:27:00.595Z"
   },
   {
    "duration": 627110,
    "start_time": "2022-05-08T18:27:00.630Z"
   },
   {
    "duration": 1631,
    "start_time": "2022-05-08T18:37:27.742Z"
   },
   {
    "duration": 26014,
    "start_time": "2022-05-08T18:46:13.579Z"
   },
   {
    "duration": 756,
    "start_time": "2022-05-08T18:46:39.596Z"
   },
   {
    "duration": 12,
    "start_time": "2022-05-08T18:46:40.355Z"
   },
   {
    "duration": 561685,
    "start_time": "2022-05-08T18:47:10.147Z"
   },
   {
    "duration": 132,
    "start_time": "2022-05-08T18:56:31.835Z"
   },
   {
    "duration": 11,
    "start_time": "2022-05-08T18:56:31.969Z"
   },
   {
    "duration": 0,
    "start_time": "2022-05-08T18:56:31.983Z"
   },
   {
    "duration": 4802,
    "start_time": "2022-05-08T19:04:00.450Z"
   },
   {
    "duration": 8,
    "start_time": "2022-05-08T19:12:33.184Z"
   },
   {
    "duration": 1276,
    "start_time": "2022-05-08T19:12:33.195Z"
   },
   {
    "duration": 176,
    "start_time": "2022-05-08T19:12:34.473Z"
   },
   {
    "duration": 216,
    "start_time": "2022-05-08T19:12:34.652Z"
   },
   {
    "duration": 57,
    "start_time": "2022-05-08T19:12:34.870Z"
   },
   {
    "duration": 246,
    "start_time": "2022-05-08T19:12:34.930Z"
   },
   {
    "duration": 70,
    "start_time": "2022-05-08T19:12:35.182Z"
   },
   {
    "duration": 437,
    "start_time": "2022-05-08T19:12:35.255Z"
   },
   {
    "duration": 305,
    "start_time": "2022-05-08T19:12:35.695Z"
   },
   {
    "duration": 36,
    "start_time": "2022-05-08T19:12:36.004Z"
   },
   {
    "duration": 46,
    "start_time": "2022-05-08T19:12:36.042Z"
   },
   {
    "duration": 17,
    "start_time": "2022-05-08T19:12:36.091Z"
   },
   {
    "duration": 9,
    "start_time": "2022-05-08T19:12:36.111Z"
   },
   {
    "duration": 9,
    "start_time": "2022-05-08T19:12:36.122Z"
   },
   {
    "duration": 364,
    "start_time": "2022-05-08T19:12:36.133Z"
   },
   {
    "duration": 15,
    "start_time": "2022-05-08T19:12:36.500Z"
   },
   {
    "duration": 8,
    "start_time": "2022-05-08T19:12:36.517Z"
   },
   {
    "duration": 534,
    "start_time": "2022-05-08T19:12:36.527Z"
   },
   {
    "duration": 2207,
    "start_time": "2022-05-08T19:12:37.063Z"
   },
   {
    "duration": 263,
    "start_time": "2022-05-08T19:12:39.272Z"
   },
   {
    "duration": 423,
    "start_time": "2022-05-08T19:12:39.537Z"
   },
   {
    "duration": 483,
    "start_time": "2022-05-08T19:12:39.962Z"
   },
   {
    "duration": 3410,
    "start_time": "2022-05-08T19:12:40.447Z"
   },
   {
    "duration": 5,
    "start_time": "2022-05-08T19:12:43.859Z"
   },
   {
    "duration": 2184,
    "start_time": "2022-05-08T19:13:03.080Z"
   },
   {
    "duration": 1327,
    "start_time": "2022-05-08T19:13:05.267Z"
   },
   {
    "duration": 199,
    "start_time": "2022-05-08T19:13:06.597Z"
   },
   {
    "duration": 220,
    "start_time": "2022-05-08T19:13:06.799Z"
   },
   {
    "duration": 64,
    "start_time": "2022-05-08T19:13:07.022Z"
   },
   {
    "duration": 238,
    "start_time": "2022-05-08T19:13:07.088Z"
   },
   {
    "duration": 87,
    "start_time": "2022-05-08T19:13:07.328Z"
   },
   {
    "duration": 435,
    "start_time": "2022-05-08T19:13:07.417Z"
   },
   {
    "duration": 306,
    "start_time": "2022-05-08T19:13:07.854Z"
   },
   {
    "duration": 50,
    "start_time": "2022-05-08T19:13:08.163Z"
   },
   {
    "duration": 17,
    "start_time": "2022-05-08T19:13:08.216Z"
   },
   {
    "duration": 46,
    "start_time": "2022-05-08T19:13:08.236Z"
   },
   {
    "duration": 10,
    "start_time": "2022-05-08T19:13:08.284Z"
   },
   {
    "duration": 8,
    "start_time": "2022-05-08T19:13:08.299Z"
   },
   {
    "duration": 438,
    "start_time": "2022-05-08T19:13:08.309Z"
   },
   {
    "duration": 16,
    "start_time": "2022-05-08T19:13:08.750Z"
   },
   {
    "duration": 8,
    "start_time": "2022-05-08T19:13:08.782Z"
   },
   {
    "duration": 664,
    "start_time": "2022-05-08T19:13:08.792Z"
   },
   {
    "duration": 2200,
    "start_time": "2022-05-08T19:13:09.459Z"
   },
   {
    "duration": 279,
    "start_time": "2022-05-08T19:13:11.661Z"
   },
   {
    "duration": 426,
    "start_time": "2022-05-08T19:13:11.942Z"
   },
   {
    "duration": 472,
    "start_time": "2022-05-08T19:13:12.370Z"
   },
   {
    "duration": 2407,
    "start_time": "2022-05-08T19:13:12.845Z"
   },
   {
    "duration": 5,
    "start_time": "2022-05-08T19:13:15.254Z"
   },
   {
    "duration": 613,
    "start_time": "2022-05-08T19:13:15.261Z"
   },
   {
    "duration": 68,
    "start_time": "2022-05-08T19:13:15.882Z"
   },
   {
    "duration": 65,
    "start_time": "2022-05-08T19:13:15.952Z"
   },
   {
    "duration": 5,
    "start_time": "2022-05-08T19:13:16.019Z"
   },
   {
    "duration": 620,
    "start_time": "2022-05-08T19:13:16.026Z"
   },
   {
    "duration": 3,
    "start_time": "2022-05-08T19:13:16.649Z"
   },
   {
    "duration": 26633,
    "start_time": "2022-05-08T19:13:16.654Z"
   },
   {
    "duration": 198,
    "start_time": "2022-05-08T19:13:43.289Z"
   },
   {
    "duration": 97,
    "start_time": "2022-05-08T19:13:43.491Z"
   },
   {
    "duration": 5,
    "start_time": "2022-05-08T19:13:43.591Z"
   },
   {
    "duration": 787,
    "start_time": "2022-05-08T19:13:43.599Z"
   },
   {
    "duration": 22,
    "start_time": "2022-05-08T19:13:44.388Z"
   },
   {
    "duration": 6,
    "start_time": "2022-05-08T19:13:44.412Z"
   },
   {
    "duration": 7,
    "start_time": "2022-05-08T19:13:44.420Z"
   },
   {
    "duration": 91667,
    "start_time": "2022-05-08T19:13:44.430Z"
   },
   {
    "duration": 5515,
    "start_time": "2022-05-08T19:15:16.100Z"
   },
   {
    "duration": 7,
    "start_time": "2022-05-08T19:15:21.624Z"
   },
   {
    "duration": 11,
    "start_time": "2022-05-08T19:15:21.634Z"
   },
   {
    "duration": 607034,
    "start_time": "2022-05-08T19:15:21.648Z"
   },
   {
    "duration": 1382,
    "start_time": "2022-05-08T19:25:28.684Z"
   },
   {
    "duration": 13,
    "start_time": "2022-05-08T19:25:30.069Z"
   },
   {
    "duration": 5,
    "start_time": "2022-05-08T19:25:30.085Z"
   },
   {
    "duration": 642219,
    "start_time": "2022-05-08T19:25:30.092Z"
   },
   {
    "duration": 2204,
    "start_time": "2022-05-08T19:36:12.315Z"
   },
   {
    "duration": 8,
    "start_time": "2022-05-08T19:36:14.522Z"
   },
   {
    "duration": 7,
    "start_time": "2022-05-08T19:36:14.533Z"
   },
   {
    "duration": 91871,
    "start_time": "2022-05-08T19:39:52.121Z"
   },
   {
    "duration": 10,
    "start_time": "2022-05-08T19:49:31.450Z"
   },
   {
    "duration": 1408,
    "start_time": "2022-05-08T19:49:31.464Z"
   },
   {
    "duration": 174,
    "start_time": "2022-05-08T19:49:32.881Z"
   },
   {
    "duration": 245,
    "start_time": "2022-05-08T19:49:33.059Z"
   },
   {
    "duration": 48,
    "start_time": "2022-05-08T19:49:33.306Z"
   },
   {
    "duration": 440,
    "start_time": "2022-05-08T19:49:33.357Z"
   },
   {
    "duration": 111,
    "start_time": "2022-05-08T19:49:33.800Z"
   },
   {
    "duration": 589,
    "start_time": "2022-05-08T19:49:33.914Z"
   },
   {
    "duration": 315,
    "start_time": "2022-05-08T19:49:34.506Z"
   },
   {
    "duration": 37,
    "start_time": "2022-05-08T19:49:34.827Z"
   },
   {
    "duration": 16,
    "start_time": "2022-05-08T19:49:34.882Z"
   },
   {
    "duration": 17,
    "start_time": "2022-05-08T19:49:34.900Z"
   },
   {
    "duration": 11,
    "start_time": "2022-05-08T19:49:34.919Z"
   },
   {
    "duration": 59,
    "start_time": "2022-05-08T19:49:34.932Z"
   },
   {
    "duration": 362,
    "start_time": "2022-05-08T19:49:34.994Z"
   },
   {
    "duration": 29,
    "start_time": "2022-05-08T19:49:35.359Z"
   },
   {
    "duration": 10,
    "start_time": "2022-05-08T19:49:35.391Z"
   },
   {
    "duration": 626,
    "start_time": "2022-05-08T19:49:35.403Z"
   },
   {
    "duration": 2823,
    "start_time": "2022-05-08T19:49:36.031Z"
   },
   {
    "duration": 385,
    "start_time": "2022-05-08T19:49:38.858Z"
   },
   {
    "duration": 460,
    "start_time": "2022-05-08T19:49:39.247Z"
   },
   {
    "duration": 509,
    "start_time": "2022-05-08T19:49:39.710Z"
   },
   {
    "duration": 2919,
    "start_time": "2022-05-08T19:49:40.222Z"
   },
   {
    "duration": 5,
    "start_time": "2022-05-08T19:49:43.145Z"
   },
   {
    "duration": 703,
    "start_time": "2022-05-08T19:49:43.154Z"
   },
   {
    "duration": 79,
    "start_time": "2022-05-08T19:49:43.860Z"
   },
   {
    "duration": 64,
    "start_time": "2022-05-08T19:49:43.941Z"
   },
   {
    "duration": 5,
    "start_time": "2022-05-08T19:49:44.011Z"
   },
   {
    "duration": 1002,
    "start_time": "2022-05-08T19:49:44.018Z"
   },
   {
    "duration": 5,
    "start_time": "2022-05-08T19:49:45.023Z"
   },
   {
    "duration": 42064,
    "start_time": "2022-05-08T19:49:45.032Z"
   },
   {
    "duration": 384,
    "start_time": "2022-05-08T19:50:27.099Z"
   },
   {
    "duration": 8,
    "start_time": "2022-05-08T19:50:27.486Z"
   },
   {
    "duration": 12,
    "start_time": "2022-05-08T19:50:27.497Z"
   },
   {
    "duration": 753,
    "start_time": "2022-05-08T19:50:27.511Z"
   },
   {
    "duration": 31,
    "start_time": "2022-05-08T19:50:28.267Z"
   },
   {
    "duration": 7,
    "start_time": "2022-05-08T19:50:28.300Z"
   },
   {
    "duration": 19,
    "start_time": "2022-05-08T19:50:28.309Z"
   },
   {
    "duration": 88797,
    "start_time": "2022-05-08T19:50:28.331Z"
   },
   {
    "duration": 4475,
    "start_time": "2022-05-08T19:51:57.130Z"
   },
   {
    "duration": 6,
    "start_time": "2022-05-08T19:52:01.607Z"
   },
   {
    "duration": 12,
    "start_time": "2022-05-08T19:52:01.615Z"
   },
   {
    "duration": 629862,
    "start_time": "2022-05-08T19:52:01.630Z"
   },
   {
    "duration": 956,
    "start_time": "2022-05-08T20:02:31.494Z"
   },
   {
    "duration": 6,
    "start_time": "2022-05-08T20:02:32.453Z"
   },
   {
    "duration": 25,
    "start_time": "2022-05-08T20:02:32.460Z"
   },
   {
    "duration": 367013,
    "start_time": "2022-05-08T20:02:32.487Z"
   },
   {
    "duration": 1431,
    "start_time": "2022-05-08T20:08:39.585Z"
   },
   {
    "duration": 7,
    "start_time": "2022-05-08T20:08:41.020Z"
   },
   {
    "duration": 5,
    "start_time": "2022-05-08T20:08:41.030Z"
   },
   {
    "duration": 228,
    "start_time": "2022-05-08T20:08:41.038Z"
   },
   {
    "duration": 5,
    "start_time": "2022-05-08T20:11:49.305Z"
   },
   {
    "duration": 4,
    "start_time": "2022-05-08T20:12:38.209Z"
   },
   {
    "duration": 6,
    "start_time": "2022-05-08T20:12:39.533Z"
   },
   {
    "duration": 4,
    "start_time": "2022-05-08T20:12:53.075Z"
   },
   {
    "duration": 4,
    "start_time": "2022-05-08T20:13:05.841Z"
   },
   {
    "duration": 5,
    "start_time": "2022-05-08T20:13:19.267Z"
   },
   {
    "duration": 4,
    "start_time": "2022-05-08T20:13:30.304Z"
   },
   {
    "duration": 6,
    "start_time": "2022-05-08T20:13:35.326Z"
   },
   {
    "duration": 13,
    "start_time": "2022-05-08T20:13:46.001Z"
   },
   {
    "duration": 14,
    "start_time": "2022-05-08T20:14:39.743Z"
   },
   {
    "duration": 9,
    "start_time": "2022-05-08T20:14:54.272Z"
   },
   {
    "duration": 15,
    "start_time": "2022-05-08T20:14:58.308Z"
   },
   {
    "duration": 10,
    "start_time": "2022-05-08T20:17:51.512Z"
   },
   {
    "duration": 9,
    "start_time": "2022-05-08T20:17:58.813Z"
   },
   {
    "duration": 6,
    "start_time": "2022-05-08T20:18:15.274Z"
   },
   {
    "duration": 6,
    "start_time": "2022-05-08T20:18:18.344Z"
   },
   {
    "duration": 5,
    "start_time": "2022-05-08T20:18:21.482Z"
   },
   {
    "duration": 5,
    "start_time": "2022-05-08T20:18:24.044Z"
   },
   {
    "duration": 5,
    "start_time": "2022-05-08T20:18:27.766Z"
   },
   {
    "duration": 16,
    "start_time": "2022-05-08T20:18:29.211Z"
   },
   {
    "duration": 13,
    "start_time": "2022-05-08T20:19:01.679Z"
   },
   {
    "duration": 19,
    "start_time": "2022-05-08T20:19:07.099Z"
   },
   {
    "duration": 5,
    "start_time": "2022-05-08T20:20:10.850Z"
   },
   {
    "duration": 128,
    "start_time": "2022-05-08T20:20:28.049Z"
   },
   {
    "duration": 20,
    "start_time": "2022-05-08T20:20:34.678Z"
   },
   {
    "duration": 5,
    "start_time": "2022-05-08T20:23:18.111Z"
   },
   {
    "duration": 16,
    "start_time": "2022-05-08T20:23:25.626Z"
   },
   {
    "duration": 15,
    "start_time": "2022-05-08T20:23:41.865Z"
   },
   {
    "duration": 5,
    "start_time": "2022-05-08T20:23:50.954Z"
   },
   {
    "duration": 5,
    "start_time": "2022-05-08T20:23:53.499Z"
   },
   {
    "duration": 5,
    "start_time": "2022-05-08T20:23:56.079Z"
   },
   {
    "duration": 4,
    "start_time": "2022-05-08T20:23:57.941Z"
   },
   {
    "duration": 4,
    "start_time": "2022-05-08T20:24:00.243Z"
   },
   {
    "duration": 15,
    "start_time": "2022-05-08T20:24:02.154Z"
   },
   {
    "duration": 16,
    "start_time": "2022-05-08T20:24:16.191Z"
   },
   {
    "duration": 4,
    "start_time": "2022-05-08T20:24:23.800Z"
   },
   {
    "duration": 4,
    "start_time": "2022-05-08T20:24:26.491Z"
   },
   {
    "duration": 4,
    "start_time": "2022-05-08T20:24:29.714Z"
   },
   {
    "duration": 4,
    "start_time": "2022-05-08T20:24:32.333Z"
   },
   {
    "duration": 4,
    "start_time": "2022-05-08T20:24:34.711Z"
   },
   {
    "duration": 4,
    "start_time": "2022-05-08T20:24:37.358Z"
   },
   {
    "duration": 4,
    "start_time": "2022-05-08T20:24:39.927Z"
   },
   {
    "duration": 6,
    "start_time": "2022-05-08T20:24:41.170Z"
   },
   {
    "duration": 4,
    "start_time": "2022-05-08T20:26:10.876Z"
   },
   {
    "duration": 18,
    "start_time": "2022-05-08T20:26:16.396Z"
   },
   {
    "duration": 12,
    "start_time": "2022-05-08T20:26:49.014Z"
   },
   {
    "duration": 14,
    "start_time": "2022-05-08T20:27:34.218Z"
   },
   {
    "duration": 13,
    "start_time": "2022-05-08T20:29:02.129Z"
   },
   {
    "duration": 14,
    "start_time": "2022-05-08T20:29:45.814Z"
   },
   {
    "duration": 9,
    "start_time": "2022-05-08T20:30:23.524Z"
   },
   {
    "duration": 1260,
    "start_time": "2022-05-08T20:30:23.536Z"
   },
   {
    "duration": 193,
    "start_time": "2022-05-08T20:30:24.798Z"
   },
   {
    "duration": 295,
    "start_time": "2022-05-08T20:30:24.999Z"
   },
   {
    "duration": 48,
    "start_time": "2022-05-08T20:30:25.296Z"
   },
   {
    "duration": 258,
    "start_time": "2022-05-08T20:30:25.347Z"
   },
   {
    "duration": 87,
    "start_time": "2022-05-08T20:30:25.608Z"
   },
   {
    "duration": 446,
    "start_time": "2022-05-08T20:30:25.697Z"
   },
   {
    "duration": 326,
    "start_time": "2022-05-08T20:30:26.146Z"
   },
   {
    "duration": 34,
    "start_time": "2022-05-08T20:30:26.483Z"
   },
   {
    "duration": 17,
    "start_time": "2022-05-08T20:30:26.519Z"
   },
   {
    "duration": 45,
    "start_time": "2022-05-08T20:30:26.539Z"
   },
   {
    "duration": 9,
    "start_time": "2022-05-08T20:30:26.586Z"
   },
   {
    "duration": 9,
    "start_time": "2022-05-08T20:30:26.598Z"
   },
   {
    "duration": 351,
    "start_time": "2022-05-08T20:30:26.610Z"
   },
   {
    "duration": 24,
    "start_time": "2022-05-08T20:30:26.963Z"
   },
   {
    "duration": 10,
    "start_time": "2022-05-08T20:30:26.989Z"
   },
   {
    "duration": 536,
    "start_time": "2022-05-08T20:30:27.001Z"
   },
   {
    "duration": 2181,
    "start_time": "2022-05-08T20:30:27.540Z"
   },
   {
    "duration": 263,
    "start_time": "2022-05-08T20:30:29.724Z"
   },
   {
    "duration": 414,
    "start_time": "2022-05-08T20:30:29.990Z"
   },
   {
    "duration": 604,
    "start_time": "2022-05-08T20:30:30.407Z"
   },
   {
    "duration": 2947,
    "start_time": "2022-05-08T20:30:31.014Z"
   },
   {
    "duration": 5,
    "start_time": "2022-05-08T20:30:33.963Z"
   },
   {
    "duration": 3143,
    "start_time": "2022-05-08T20:30:33.982Z"
   },
   {
    "duration": 103,
    "start_time": "2022-05-08T20:30:37.128Z"
   },
   {
    "duration": 82,
    "start_time": "2022-05-08T20:30:37.234Z"
   },
   {
    "duration": 7,
    "start_time": "2022-05-08T20:30:37.324Z"
   },
   {
    "duration": 681,
    "start_time": "2022-05-08T20:30:37.334Z"
   },
   {
    "duration": 3,
    "start_time": "2022-05-08T20:30:38.018Z"
   },
   {
    "duration": 409,
    "start_time": "2022-05-08T20:31:02.660Z"
   },
   {
    "duration": 3005,
    "start_time": "2022-05-08T20:31:12.953Z"
   },
   {
    "duration": 1485,
    "start_time": "2022-05-08T20:31:15.961Z"
   },
   {
    "duration": 192,
    "start_time": "2022-05-08T20:31:17.449Z"
   },
   {
    "duration": 291,
    "start_time": "2022-05-08T20:31:17.645Z"
   },
   {
    "duration": 63,
    "start_time": "2022-05-08T20:31:17.938Z"
   },
   {
    "duration": 375,
    "start_time": "2022-05-08T20:31:18.004Z"
   },
   {
    "duration": 81,
    "start_time": "2022-05-08T20:31:18.383Z"
   },
   {
    "duration": 528,
    "start_time": "2022-05-08T20:31:18.466Z"
   },
   {
    "duration": 332,
    "start_time": "2022-05-08T20:31:18.997Z"
   },
   {
    "duration": 59,
    "start_time": "2022-05-08T20:31:19.334Z"
   },
   {
    "duration": 19,
    "start_time": "2022-05-08T20:31:19.395Z"
   },
   {
    "duration": 19,
    "start_time": "2022-05-08T20:31:19.417Z"
   },
   {
    "duration": 47,
    "start_time": "2022-05-08T20:31:19.439Z"
   },
   {
    "duration": 129,
    "start_time": "2022-05-08T20:31:19.489Z"
   },
   {
    "duration": 362,
    "start_time": "2022-05-08T20:31:19.620Z"
   },
   {
    "duration": 17,
    "start_time": "2022-05-08T20:31:19.984Z"
   },
   {
    "duration": 9,
    "start_time": "2022-05-08T20:31:20.003Z"
   },
   {
    "duration": 724,
    "start_time": "2022-05-08T20:31:20.014Z"
   },
   {
    "duration": 2330,
    "start_time": "2022-05-08T20:31:20.741Z"
   },
   {
    "duration": 352,
    "start_time": "2022-05-08T20:31:23.081Z"
   },
   {
    "duration": 420,
    "start_time": "2022-05-08T20:31:23.436Z"
   },
   {
    "duration": 472,
    "start_time": "2022-05-08T20:31:23.858Z"
   },
   {
    "duration": 3149,
    "start_time": "2022-05-08T20:31:24.333Z"
   },
   {
    "duration": 5,
    "start_time": "2022-05-08T20:31:27.484Z"
   },
   {
    "duration": 705,
    "start_time": "2022-05-08T20:31:27.491Z"
   },
   {
    "duration": 65,
    "start_time": "2022-05-08T20:31:28.198Z"
   },
   {
    "duration": 60,
    "start_time": "2022-05-08T20:31:28.265Z"
   },
   {
    "duration": 5,
    "start_time": "2022-05-08T20:31:28.331Z"
   },
   {
    "duration": 737,
    "start_time": "2022-05-08T20:31:28.338Z"
   },
   {
    "duration": 5,
    "start_time": "2022-05-08T20:31:29.077Z"
   },
   {
    "duration": 65697,
    "start_time": "2022-05-08T20:31:29.085Z"
   },
   {
    "duration": 204,
    "start_time": "2022-05-08T20:32:34.786Z"
   },
   {
    "duration": 93,
    "start_time": "2022-05-08T20:32:34.994Z"
   },
   {
    "duration": 6,
    "start_time": "2022-05-08T20:32:35.090Z"
   },
   {
    "duration": 1150,
    "start_time": "2022-05-08T20:32:35.099Z"
   },
   {
    "duration": 39,
    "start_time": "2022-05-08T20:32:36.252Z"
   },
   {
    "duration": 7,
    "start_time": "2022-05-08T20:32:36.294Z"
   },
   {
    "duration": 8,
    "start_time": "2022-05-08T20:32:36.303Z"
   },
   {
    "duration": 92712,
    "start_time": "2022-05-08T20:32:36.314Z"
   },
   {
    "duration": 4725,
    "start_time": "2022-05-08T20:34:09.029Z"
   },
   {
    "duration": 6,
    "start_time": "2022-05-08T20:34:13.757Z"
   },
   {
    "duration": 4,
    "start_time": "2022-05-08T20:34:13.781Z"
   },
   {
    "duration": 645073,
    "start_time": "2022-05-08T20:34:13.788Z"
   },
   {
    "duration": 1482,
    "start_time": "2022-05-08T20:44:58.863Z"
   },
   {
    "duration": 6,
    "start_time": "2022-05-08T20:45:00.347Z"
   },
   {
    "duration": 8,
    "start_time": "2022-05-08T20:45:00.355Z"
   },
   {
    "duration": 1304,
    "start_time": "2022-05-08T20:48:18.283Z"
   },
   {
    "duration": 6,
    "start_time": "2022-05-08T20:48:19.590Z"
   },
   {
    "duration": 6,
    "start_time": "2022-05-08T20:48:19.598Z"
   },
   {
    "duration": 82,
    "start_time": "2022-05-08T20:48:19.606Z"
   },
   {
    "duration": 22598,
    "start_time": "2022-05-08T20:48:19.693Z"
   },
   {
    "duration": 650,
    "start_time": "2022-05-08T20:48:49.351Z"
   },
   {
    "duration": 6,
    "start_time": "2022-05-08T20:48:51.552Z"
   },
   {
    "duration": 128,
    "start_time": "2022-05-08T20:48:52.575Z"
   },
   {
    "duration": 18,
    "start_time": "2022-05-08T20:48:59.393Z"
   },
   {
    "duration": 4,
    "start_time": "2022-05-08T20:49:19.351Z"
   },
   {
    "duration": 4,
    "start_time": "2022-05-08T20:49:22.206Z"
   },
   {
    "duration": 5,
    "start_time": "2022-05-08T20:49:25.236Z"
   },
   {
    "duration": 4,
    "start_time": "2022-05-08T20:49:28.569Z"
   },
   {
    "duration": 5,
    "start_time": "2022-05-08T20:49:32.426Z"
   },
   {
    "duration": 4,
    "start_time": "2022-05-08T20:49:38.217Z"
   },
   {
    "duration": 14,
    "start_time": "2022-05-08T20:49:40.661Z"
   },
   {
    "duration": 20,
    "start_time": "2022-05-08T20:50:09.717Z"
   },
   {
    "duration": 4,
    "start_time": "2022-05-08T20:50:19.947Z"
   },
   {
    "duration": 5,
    "start_time": "2022-05-08T20:50:22.849Z"
   },
   {
    "duration": 4,
    "start_time": "2022-05-08T20:50:31.045Z"
   },
   {
    "duration": 4,
    "start_time": "2022-05-08T20:50:34.715Z"
   },
   {
    "duration": 5,
    "start_time": "2022-05-08T20:50:37.860Z"
   },
   {
    "duration": 4,
    "start_time": "2022-05-08T20:50:41.137Z"
   },
   {
    "duration": 15,
    "start_time": "2022-05-08T20:50:43.572Z"
   },
   {
    "duration": 6195,
    "start_time": "2022-05-09T18:20:56.837Z"
   },
   {
    "duration": 168,
    "start_time": "2022-05-09T18:21:03.035Z"
   },
   {
    "duration": 4,
    "start_time": "2022-05-09T18:21:39.415Z"
   },
   {
    "duration": 4,
    "start_time": "2022-05-09T18:22:04.427Z"
   },
   {
    "duration": 50,
    "start_time": "2022-05-10T10:45:42.725Z"
   },
   {
    "duration": 1871,
    "start_time": "2022-05-10T10:45:48.332Z"
   },
   {
    "duration": 1779,
    "start_time": "2022-05-10T10:45:50.205Z"
   },
   {
    "duration": 141,
    "start_time": "2022-05-10T10:45:51.986Z"
   },
   {
    "duration": 173,
    "start_time": "2022-05-10T10:45:52.129Z"
   },
   {
    "duration": 39,
    "start_time": "2022-05-10T10:45:52.304Z"
   },
   {
    "duration": 191,
    "start_time": "2022-05-10T10:45:52.345Z"
   },
   {
    "duration": 59,
    "start_time": "2022-05-10T10:45:52.538Z"
   },
   {
    "duration": 274,
    "start_time": "2022-05-10T10:45:52.599Z"
   },
   {
    "duration": 189,
    "start_time": "2022-05-10T10:45:52.874Z"
   },
   {
    "duration": 24,
    "start_time": "2022-05-10T10:45:53.066Z"
   },
   {
    "duration": 13,
    "start_time": "2022-05-10T10:45:53.091Z"
   },
   {
    "duration": 11,
    "start_time": "2022-05-10T10:45:53.134Z"
   },
   {
    "duration": 6,
    "start_time": "2022-05-10T10:45:53.147Z"
   },
   {
    "duration": 9,
    "start_time": "2022-05-10T10:45:53.155Z"
   },
   {
    "duration": 289,
    "start_time": "2022-05-10T10:45:53.165Z"
   },
   {
    "duration": 795,
    "start_time": "2022-05-10T10:45:53.457Z"
   },
   {
    "duration": 11,
    "start_time": "2022-05-10T10:45:54.254Z"
   },
   {
    "duration": 6,
    "start_time": "2022-05-10T10:45:54.266Z"
   },
   {
    "duration": 412,
    "start_time": "2022-05-10T10:45:54.274Z"
   },
   {
    "duration": 1659,
    "start_time": "2022-05-10T10:45:54.688Z"
   },
   {
    "duration": 164,
    "start_time": "2022-05-10T10:45:56.350Z"
   },
   {
    "duration": 265,
    "start_time": "2022-05-10T10:45:56.516Z"
   },
   {
    "duration": 402,
    "start_time": "2022-05-10T10:45:56.783Z"
   },
   {
    "duration": 1854,
    "start_time": "2022-05-10T10:45:57.187Z"
   },
   {
    "duration": 4,
    "start_time": "2022-05-10T10:45:59.043Z"
   },
   {
    "duration": 491,
    "start_time": "2022-05-10T10:45:59.049Z"
   },
   {
    "duration": 57,
    "start_time": "2022-05-10T10:45:59.542Z"
   },
   {
    "duration": 61,
    "start_time": "2022-05-10T10:45:59.604Z"
   },
   {
    "duration": 4,
    "start_time": "2022-05-10T10:45:59.668Z"
   },
   {
    "duration": 509,
    "start_time": "2022-05-10T10:45:59.674Z"
   },
   {
    "duration": 4,
    "start_time": "2022-05-10T10:46:00.184Z"
   },
   {
    "duration": 23450,
    "start_time": "2022-05-10T10:46:00.189Z"
   },
   {
    "duration": 195,
    "start_time": "2022-05-10T10:46:23.641Z"
   },
   {
    "duration": 96,
    "start_time": "2022-05-10T10:46:23.838Z"
   },
   {
    "duration": 5,
    "start_time": "2022-05-10T10:46:23.936Z"
   },
   {
    "duration": 596,
    "start_time": "2022-05-10T10:46:23.943Z"
   },
   {
    "duration": 19,
    "start_time": "2022-05-10T10:46:24.541Z"
   },
   {
    "duration": 8,
    "start_time": "2022-05-10T10:46:24.562Z"
   },
   {
    "duration": 13,
    "start_time": "2022-05-10T10:46:24.572Z"
   },
   {
    "duration": 64192,
    "start_time": "2022-05-10T10:46:24.587Z"
   },
   {
    "duration": 3718,
    "start_time": "2022-05-10T10:47:28.781Z"
   },
   {
    "duration": 4,
    "start_time": "2022-05-10T10:47:32.501Z"
   },
   {
    "duration": 8,
    "start_time": "2022-05-10T10:47:32.507Z"
   },
   {
    "duration": 108933,
    "start_time": "2022-05-10T10:47:32.516Z"
   },
   {
    "duration": 143,
    "start_time": "2022-05-10T10:49:21.450Z"
   },
   {
    "duration": 9,
    "start_time": "2022-05-10T10:49:21.595Z"
   },
   {
    "duration": 0,
    "start_time": "2022-05-10T10:49:21.606Z"
   },
   {
    "duration": 0,
    "start_time": "2022-05-10T10:49:21.607Z"
   },
   {
    "duration": 0,
    "start_time": "2022-05-10T10:49:21.609Z"
   },
   {
    "duration": 0,
    "start_time": "2022-05-10T10:49:21.610Z"
   },
   {
    "duration": 0,
    "start_time": "2022-05-10T10:49:21.611Z"
   },
   {
    "duration": 0,
    "start_time": "2022-05-10T10:49:21.612Z"
   },
   {
    "duration": 0,
    "start_time": "2022-05-10T10:49:21.613Z"
   },
   {
    "duration": 852,
    "start_time": "2022-05-10T10:49:59.819Z"
   },
   {
    "duration": 758,
    "start_time": "2022-05-10T10:51:36.003Z"
   },
   {
    "duration": 762,
    "start_time": "2022-05-10T10:52:14.227Z"
   },
   {
    "duration": 758,
    "start_time": "2022-05-10T10:54:19.236Z"
   },
   {
    "duration": 830,
    "start_time": "2022-05-10T10:57:15.078Z"
   },
   {
    "duration": 808,
    "start_time": "2022-05-10T10:58:01.478Z"
   },
   {
    "duration": 760,
    "start_time": "2022-05-10T11:00:23.567Z"
   },
   {
    "duration": 880,
    "start_time": "2022-05-10T11:01:44.660Z"
   },
   {
    "duration": 872,
    "start_time": "2022-05-10T11:01:55.578Z"
   },
   {
    "duration": 893,
    "start_time": "2022-05-10T11:02:37.832Z"
   },
   {
    "duration": 983,
    "start_time": "2022-05-10T11:02:56.465Z"
   },
   {
    "duration": 960,
    "start_time": "2022-05-10T11:03:42.550Z"
   },
   {
    "duration": 238,
    "start_time": "2022-05-10T11:14:48.054Z"
   },
   {
    "duration": 22464,
    "start_time": "2022-05-10T11:28:15.284Z"
   },
   {
    "duration": 190,
    "start_time": "2022-05-10T11:28:37.750Z"
   },
   {
    "duration": 5,
    "start_time": "2022-05-10T11:28:46.412Z"
   },
   {
    "duration": 6,
    "start_time": "2022-05-10T11:39:54.076Z"
   },
   {
    "duration": 1777,
    "start_time": "2022-05-10T11:39:55.726Z"
   },
   {
    "duration": 139,
    "start_time": "2022-05-10T11:39:57.506Z"
   },
   {
    "duration": 168,
    "start_time": "2022-05-10T11:39:59.638Z"
   },
   {
    "duration": 33,
    "start_time": "2022-05-10T11:40:00.874Z"
   },
   {
    "duration": 188,
    "start_time": "2022-05-10T11:40:02.548Z"
   },
   {
    "duration": 61,
    "start_time": "2022-05-10T11:40:04.124Z"
   },
   {
    "duration": 261,
    "start_time": "2022-05-10T11:40:05.079Z"
   },
   {
    "duration": 193,
    "start_time": "2022-05-10T11:40:06.287Z"
   },
   {
    "duration": 24,
    "start_time": "2022-05-10T11:40:07.359Z"
   },
   {
    "duration": 13,
    "start_time": "2022-05-10T11:40:08.391Z"
   },
   {
    "duration": 12,
    "start_time": "2022-05-10T11:40:08.849Z"
   },
   {
    "duration": 7,
    "start_time": "2022-05-10T11:40:10.070Z"
   },
   {
    "duration": 8,
    "start_time": "2022-05-10T11:40:10.489Z"
   },
   {
    "duration": 184,
    "start_time": "2022-05-10T11:40:11.509Z"
   },
   {
    "duration": 904,
    "start_time": "2022-05-10T11:40:14.317Z"
   },
   {
    "duration": 10,
    "start_time": "2022-05-10T11:40:18.002Z"
   },
   {
    "duration": 7,
    "start_time": "2022-05-10T11:40:18.474Z"
   },
   {
    "duration": 396,
    "start_time": "2022-05-10T11:40:19.039Z"
   },
   {
    "duration": 1619,
    "start_time": "2022-05-10T11:40:24.312Z"
   },
   {
    "duration": 199,
    "start_time": "2022-05-10T11:40:37.688Z"
   },
   {
    "duration": 6,
    "start_time": "2022-05-10T11:41:22.881Z"
   },
   {
    "duration": 6,
    "start_time": "2022-05-10T11:41:34.270Z"
   },
   {
    "duration": 6,
    "start_time": "2022-05-10T11:41:34.963Z"
   },
   {
    "duration": 183,
    "start_time": "2022-05-10T11:41:37.181Z"
   },
   {
    "duration": 879,
    "start_time": "2022-05-10T11:41:40.581Z"
   },
   {
    "duration": 5,
    "start_time": "2022-05-10T11:43:26.125Z"
   },
   {
    "duration": 926,
    "start_time": "2022-05-10T11:43:26.555Z"
   },
   {
    "duration": 134,
    "start_time": "2022-05-10T11:43:27.483Z"
   },
   {
    "duration": 170,
    "start_time": "2022-05-10T11:43:27.658Z"
   },
   {
    "duration": 34,
    "start_time": "2022-05-10T11:43:27.994Z"
   },
   {
    "duration": 186,
    "start_time": "2022-05-10T11:43:28.996Z"
   },
   {
    "duration": 60,
    "start_time": "2022-05-10T11:43:30.041Z"
   },
   {
    "duration": 246,
    "start_time": "2022-05-10T11:43:30.448Z"
   },
   {
    "duration": 203,
    "start_time": "2022-05-10T11:43:31.235Z"
   },
   {
    "duration": 22,
    "start_time": "2022-05-10T11:43:33.002Z"
   },
   {
    "duration": 12,
    "start_time": "2022-05-10T11:43:33.736Z"
   },
   {
    "duration": 12,
    "start_time": "2022-05-10T11:43:34.359Z"
   },
   {
    "duration": 7,
    "start_time": "2022-05-10T11:43:35.811Z"
   },
   {
    "duration": 12,
    "start_time": "2022-05-10T11:43:36.338Z"
   },
   {
    "duration": 180,
    "start_time": "2022-05-10T11:43:38.041Z"
   },
   {
    "duration": 842,
    "start_time": "2022-05-10T11:43:40.230Z"
   },
   {
    "duration": 11,
    "start_time": "2022-05-10T11:43:46.292Z"
   },
   {
    "duration": 6,
    "start_time": "2022-05-10T11:43:46.718Z"
   },
   {
    "duration": 296,
    "start_time": "2022-05-10T11:43:47.252Z"
   },
   {
    "duration": 1531,
    "start_time": "2022-05-10T11:43:48.323Z"
   },
   {
    "duration": 154,
    "start_time": "2022-05-10T11:43:49.856Z"
   },
   {
    "duration": 243,
    "start_time": "2022-05-10T11:43:56.338Z"
   },
   {
    "duration": 471,
    "start_time": "2022-05-10T11:43:58.831Z"
   },
   {
    "duration": 1779,
    "start_time": "2022-05-10T11:44:05.274Z"
   },
   {
    "duration": 4,
    "start_time": "2022-05-10T11:48:59.141Z"
   },
   {
    "duration": 522,
    "start_time": "2022-05-10T11:50:06.775Z"
   },
   {
    "duration": 456,
    "start_time": "2022-05-10T11:50:46.310Z"
   },
   {
    "duration": 453,
    "start_time": "2022-05-10T11:51:33.238Z"
   },
   {
    "duration": 4,
    "start_time": "2022-05-10T11:52:31.435Z"
   },
   {
    "duration": 4,
    "start_time": "2022-05-10T11:52:58.586Z"
   },
   {
    "duration": 434,
    "start_time": "2022-05-10T11:53:51.187Z"
   },
   {
    "duration": 3,
    "start_time": "2022-05-10T11:53:58.684Z"
   },
   {
    "duration": 77,
    "start_time": "2022-05-10T11:55:45.971Z"
   },
   {
    "duration": 18496,
    "start_time": "2022-05-10T11:56:25.846Z"
   },
   {
    "duration": 140,
    "start_time": "2022-05-10T11:56:58.696Z"
   },
   {
    "duration": 201,
    "start_time": "2022-05-10T11:56:59.534Z"
   },
   {
    "duration": 100,
    "start_time": "2022-05-10T11:58:36.271Z"
   },
   {
    "duration": 108,
    "start_time": "2022-05-10T11:58:37.139Z"
   },
   {
    "duration": 8,
    "start_time": "2022-05-10T11:58:38.881Z"
   },
   {
    "duration": 313,
    "start_time": "2022-05-10T12:01:02.826Z"
   },
   {
    "duration": 7,
    "start_time": "2022-05-10T12:01:11.354Z"
   },
   {
    "duration": 3,
    "start_time": "2022-05-10T12:09:59.236Z"
   },
   {
    "duration": 7,
    "start_time": "2022-05-10T12:17:01.409Z"
   },
   {
    "duration": 35324,
    "start_time": "2022-05-10T12:17:13.145Z"
   },
   {
    "duration": 66,
    "start_time": "2022-05-10T12:18:25.773Z"
   },
   {
    "duration": 83,
    "start_time": "2022-05-10T12:18:55.456Z"
   },
   {
    "duration": 35556,
    "start_time": "2022-05-10T12:18:58.210Z"
   },
   {
    "duration": 43431,
    "start_time": "2022-05-10T12:20:02.193Z"
   },
   {
    "duration": 42363,
    "start_time": "2022-05-10T12:23:36.720Z"
   },
   {
    "duration": 5048,
    "start_time": "2022-05-10T12:28:44.357Z"
   },
   {
    "duration": 115,
    "start_time": "2022-05-10T12:28:51.902Z"
   },
   {
    "duration": 14,
    "start_time": "2022-05-10T12:28:54.040Z"
   },
   {
    "duration": 5,
    "start_time": "2022-05-10T12:29:41.132Z"
   },
   {
    "duration": 4841,
    "start_time": "2022-05-10T12:29:57.008Z"
   },
   {
    "duration": 115,
    "start_time": "2022-05-10T12:30:03.312Z"
   },
   {
    "duration": 5,
    "start_time": "2022-05-10T12:30:04.569Z"
   },
   {
    "duration": 12,
    "start_time": "2022-05-10T12:30:05.348Z"
   },
   {
    "duration": 15,
    "start_time": "2022-05-10T12:30:09.597Z"
   },
   {
    "duration": 3,
    "start_time": "2022-05-10T12:30:18.647Z"
   },
   {
    "duration": 23439,
    "start_time": "2022-05-10T12:30:20.814Z"
   },
   {
    "duration": 385,
    "start_time": "2022-05-10T12:30:44.256Z"
   },
   {
    "duration": 93,
    "start_time": "2022-05-10T12:30:44.645Z"
   },
   {
    "duration": 4,
    "start_time": "2022-05-10T12:30:44.741Z"
   },
   {
    "duration": 42380,
    "start_time": "2022-05-10T12:30:44.747Z"
   },
   {
    "duration": 4490,
    "start_time": "2022-05-10T12:31:27.133Z"
   },
   {
    "duration": 126,
    "start_time": "2022-05-10T12:31:31.625Z"
   },
   {
    "duration": 5,
    "start_time": "2022-05-10T12:31:31.753Z"
   },
   {
    "duration": 12,
    "start_time": "2022-05-10T12:31:31.760Z"
   },
   {
    "duration": 3,
    "start_time": "2022-05-10T12:32:37.304Z"
   },
   {
    "duration": 1204551,
    "start_time": "2022-05-10T12:42:33.086Z"
   },
   {
    "duration": 129539,
    "start_time": "2022-05-10T13:05:13.773Z"
   },
   {
    "duration": 107443,
    "start_time": "2022-05-10T13:07:23.314Z"
   },
   {
    "duration": 145,
    "start_time": "2022-05-10T13:09:10.758Z"
   },
   {
    "duration": 9,
    "start_time": "2022-05-10T13:09:10.905Z"
   },
   {
    "duration": 134452,
    "start_time": "2022-05-10T13:09:16.033Z"
   },
   {
    "duration": 621,
    "start_time": "2022-05-10T13:11:30.488Z"
   },
   {
    "duration": 6,
    "start_time": "2022-05-10T13:11:31.111Z"
   },
   {
    "duration": 44872,
    "start_time": "2022-05-10T13:11:59.606Z"
   },
   {
    "duration": 1324508,
    "start_time": "2022-05-10T13:12:57.099Z"
   },
   {
    "duration": 130012,
    "start_time": "2022-05-10T13:43:01.986Z"
   },
   {
    "duration": 616,
    "start_time": "2022-05-10T13:45:12.001Z"
   },
   {
    "duration": 5,
    "start_time": "2022-05-10T13:45:12.619Z"
   },
   {
    "duration": 3,
    "start_time": "2022-05-10T13:45:12.633Z"
   },
   {
    "duration": 5668,
    "start_time": "2022-05-10T13:45:47.078Z"
   },
   {
    "duration": 605,
    "start_time": "2022-05-10T13:45:52.748Z"
   },
   {
    "duration": 4,
    "start_time": "2022-05-10T13:46:03.180Z"
   },
   {
    "duration": 3,
    "start_time": "2022-05-10T13:46:04.122Z"
   },
   {
    "duration": 10,
    "start_time": "2022-05-10T13:46:07.655Z"
   },
   {
    "duration": 10,
    "start_time": "2022-05-10T13:49:03.761Z"
   },
   {
    "duration": 10,
    "start_time": "2022-05-10T13:49:43.431Z"
   },
   {
    "duration": 399,
    "start_time": "2022-05-10T13:50:03.574Z"
   },
   {
    "duration": 11,
    "start_time": "2022-05-10T13:50:33.038Z"
   },
   {
    "duration": 16,
    "start_time": "2022-05-10T13:50:54.255Z"
   },
   {
    "duration": 30971,
    "start_time": "2022-05-10T13:51:03.684Z"
   },
   {
    "duration": 9,
    "start_time": "2022-05-10T13:54:21.240Z"
   },
   {
    "duration": 4,
    "start_time": "2022-05-10T13:54:30.567Z"
   },
   {
    "duration": 9613,
    "start_time": "2022-05-10T13:55:02.240Z"
   },
   {
    "duration": 61366,
    "start_time": "2022-05-10T14:00:15.582Z"
   },
   {
    "duration": 591,
    "start_time": "2022-05-10T14:01:16.950Z"
   },
   {
    "duration": 5,
    "start_time": "2022-05-10T14:01:17.542Z"
   },
   {
    "duration": 19,
    "start_time": "2022-05-10T14:01:17.549Z"
   },
   {
    "duration": 792,
    "start_time": "2022-05-10T14:02:18.538Z"
   },
   {
    "duration": 22,
    "start_time": "2022-05-10T14:03:14.473Z"
   },
   {
    "duration": 27,
    "start_time": "2022-05-10T14:03:38.259Z"
   },
   {
    "duration": 51,
    "start_time": "2022-05-10T14:05:12.469Z"
   },
   {
    "duration": 1625,
    "start_time": "2022-05-10T14:05:36.519Z"
   },
   {
    "duration": 5,
    "start_time": "2022-05-10T14:05:49.515Z"
   },
   {
    "duration": 2039,
    "start_time": "2022-05-10T14:05:50.994Z"
   },
   {
    "duration": 140,
    "start_time": "2022-05-10T14:05:53.036Z"
   },
   {
    "duration": 175,
    "start_time": "2022-05-10T14:05:54.690Z"
   },
   {
    "duration": 35,
    "start_time": "2022-05-10T14:05:55.963Z"
   },
   {
    "duration": 187,
    "start_time": "2022-05-10T14:05:57.445Z"
   },
   {
    "duration": 68,
    "start_time": "2022-05-10T14:05:59.738Z"
   },
   {
    "duration": 265,
    "start_time": "2022-05-10T14:06:01.262Z"
   },
   {
    "duration": 185,
    "start_time": "2022-05-10T14:06:02.398Z"
   },
   {
    "duration": 25,
    "start_time": "2022-05-10T14:06:03.590Z"
   },
   {
    "duration": 13,
    "start_time": "2022-05-10T14:06:04.454Z"
   },
   {
    "duration": 12,
    "start_time": "2022-05-10T14:06:04.645Z"
   },
   {
    "duration": 8,
    "start_time": "2022-05-10T14:06:05.232Z"
   },
   {
    "duration": 12,
    "start_time": "2022-05-10T14:06:05.405Z"
   },
   {
    "duration": 268,
    "start_time": "2022-05-10T14:06:05.963Z"
   },
   {
    "duration": 904,
    "start_time": "2022-05-10T14:06:06.418Z"
   },
   {
    "duration": 16,
    "start_time": "2022-05-10T14:06:07.325Z"
   },
   {
    "duration": 6,
    "start_time": "2022-05-10T14:06:07.457Z"
   },
   {
    "duration": 385,
    "start_time": "2022-05-10T14:06:07.865Z"
   },
   {
    "duration": 1515,
    "start_time": "2022-05-10T14:06:08.345Z"
   },
   {
    "duration": 154,
    "start_time": "2022-05-10T14:06:09.861Z"
   },
   {
    "duration": 241,
    "start_time": "2022-05-10T14:06:12.399Z"
   },
   {
    "duration": 371,
    "start_time": "2022-05-10T14:06:13.191Z"
   },
   {
    "duration": 1704,
    "start_time": "2022-05-10T14:07:25.159Z"
   },
   {
    "duration": 4,
    "start_time": "2022-05-10T14:07:27.907Z"
   },
   {
    "duration": 528,
    "start_time": "2022-05-10T14:07:28.913Z"
   },
   {
    "duration": 465,
    "start_time": "2022-05-10T14:07:29.443Z"
   },
   {
    "duration": 476,
    "start_time": "2022-05-10T14:07:29.910Z"
   },
   {
    "duration": 3,
    "start_time": "2022-05-10T14:07:31.365Z"
   },
   {
    "duration": 397,
    "start_time": "2022-05-10T14:07:33.061Z"
   },
   {
    "duration": 3,
    "start_time": "2022-05-10T14:07:36.039Z"
   },
   {
    "duration": 16451,
    "start_time": "2022-05-10T14:07:38.291Z"
   },
   {
    "duration": 393,
    "start_time": "2022-05-10T14:07:54.744Z"
   },
   {
    "duration": 96,
    "start_time": "2022-05-10T14:07:55.140Z"
   },
   {
    "duration": 7,
    "start_time": "2022-05-10T14:07:55.239Z"
   },
   {
    "duration": 4233,
    "start_time": "2022-05-10T14:07:55.247Z"
   },
   {
    "duration": 116,
    "start_time": "2022-05-10T14:07:59.482Z"
   },
   {
    "duration": 4,
    "start_time": "2022-05-10T14:07:59.601Z"
   },
   {
    "duration": 5,
    "start_time": "2022-05-10T14:07:59.606Z"
   },
   {
    "duration": 133414,
    "start_time": "2022-05-10T14:07:59.614Z"
   },
   {
    "duration": 636,
    "start_time": "2022-05-10T14:10:13.034Z"
   },
   {
    "duration": 5,
    "start_time": "2022-05-10T14:10:13.672Z"
   },
   {
    "duration": 7,
    "start_time": "2022-05-10T14:10:13.679Z"
   },
   {
    "duration": 9,
    "start_time": "2022-05-10T14:10:13.688Z"
   },
   {
    "duration": 950,
    "start_time": "2022-05-10T14:10:13.699Z"
   },
   {
    "duration": 3,
    "start_time": "2022-05-10T14:11:04.480Z"
   },
   {
    "duration": 781,
    "start_time": "2022-05-10T14:11:10.922Z"
   },
   {
    "duration": 67672,
    "start_time": "2022-05-10T14:12:06.573Z"
   },
   {
    "duration": 33,
    "start_time": "2022-05-10T14:16:03.429Z"
   },
   {
    "duration": 3,
    "start_time": "2022-05-10T14:17:05.440Z"
   },
   {
    "duration": 14,
    "start_time": "2022-05-10T14:17:15.772Z"
   },
   {
    "duration": 3,
    "start_time": "2022-05-10T14:17:20.874Z"
   },
   {
    "duration": 787,
    "start_time": "2022-05-10T14:17:34.748Z"
   },
   {
    "duration": 8,
    "start_time": "2022-05-10T14:18:00.415Z"
   },
   {
    "duration": 133,
    "start_time": "2022-05-10T14:18:47.072Z"
   },
   {
    "duration": 16998,
    "start_time": "2022-05-10T14:18:54.344Z"
   },
   {
    "duration": 3,
    "start_time": "2022-05-10T14:19:50.983Z"
   },
   {
    "duration": 7,
    "start_time": "2022-05-10T14:20:59.978Z"
   },
   {
    "duration": 10,
    "start_time": "2022-05-10T14:23:25.960Z"
   },
   {
    "duration": 8,
    "start_time": "2022-05-10T14:23:29.522Z"
   },
   {
    "duration": 149,
    "start_time": "2022-05-10T14:23:59.822Z"
   },
   {
    "duration": 17766,
    "start_time": "2022-05-10T14:24:10.668Z"
   },
   {
    "duration": 918,
    "start_time": "2022-05-10T14:24:28.437Z"
   },
   {
    "duration": 79,
    "start_time": "2022-05-10T14:24:29.357Z"
   },
   {
    "duration": 10,
    "start_time": "2022-05-10T14:24:29.439Z"
   },
   {
    "duration": 141,
    "start_time": "2022-05-10T14:25:10.457Z"
   },
   {
    "duration": 37260,
    "start_time": "2022-05-10T14:25:34.723Z"
   },
   {
    "duration": 3403,
    "start_time": "2022-05-10T14:26:11.985Z"
   },
   {
    "duration": 5,
    "start_time": "2022-05-10T14:26:15.389Z"
   },
   {
    "duration": 13,
    "start_time": "2022-05-10T14:26:15.396Z"
   },
   {
    "duration": 36190,
    "start_time": "2022-05-10T14:26:40.089Z"
   },
   {
    "duration": 6426,
    "start_time": "2022-05-10T14:27:59.801Z"
   },
   {
    "duration": 12,
    "start_time": "2022-05-10T14:29:52.277Z"
   },
   {
    "duration": 6414,
    "start_time": "2022-05-10T14:30:02.540Z"
   },
   {
    "duration": 7,
    "start_time": "2022-05-10T14:30:08.956Z"
   },
   {
    "duration": 3,
    "start_time": "2022-05-10T14:30:13.367Z"
   },
   {
    "duration": 2012,
    "start_time": "2022-05-10T14:30:53.156Z"
   },
   {
    "duration": 6,
    "start_time": "2022-05-10T14:32:05.449Z"
   },
   {
    "duration": 3,
    "start_time": "2022-05-10T14:32:13.764Z"
   },
   {
    "duration": 10,
    "start_time": "2022-05-10T14:32:16.588Z"
   },
   {
    "duration": 21,
    "start_time": "2022-05-10T14:33:20.536Z"
   },
   {
    "duration": 14,
    "start_time": "2022-05-10T14:33:22.646Z"
   },
   {
    "duration": 14,
    "start_time": "2022-05-10T14:33:58.386Z"
   },
   {
    "duration": 14,
    "start_time": "2022-05-10T14:34:02.365Z"
   },
   {
    "duration": 14,
    "start_time": "2022-05-10T14:34:33.172Z"
   },
   {
    "duration": 3,
    "start_time": "2022-05-10T14:34:43.643Z"
   },
   {
    "duration": 16631,
    "start_time": "2022-05-10T14:34:46.507Z"
   },
   {
    "duration": 398,
    "start_time": "2022-05-10T14:35:03.140Z"
   },
   {
    "duration": 94,
    "start_time": "2022-05-10T14:35:03.541Z"
   },
   {
    "duration": 12,
    "start_time": "2022-05-10T14:35:03.637Z"
   },
   {
    "duration": 41885,
    "start_time": "2022-05-10T14:35:03.651Z"
   },
   {
    "duration": 4425,
    "start_time": "2022-05-10T14:35:45.538Z"
   },
   {
    "duration": 125,
    "start_time": "2022-05-10T14:35:49.965Z"
   },
   {
    "duration": 6,
    "start_time": "2022-05-10T14:35:50.092Z"
   },
   {
    "duration": 11,
    "start_time": "2022-05-10T14:35:50.099Z"
   },
   {
    "duration": 1392504,
    "start_time": "2022-05-10T14:35:50.114Z"
   },
   {
    "duration": 135455,
    "start_time": "2022-05-10T14:59:02.621Z"
   },
   {
    "duration": 624,
    "start_time": "2022-05-10T15:01:18.078Z"
   },
   {
    "duration": 5,
    "start_time": "2022-05-10T15:01:18.704Z"
   },
   {
    "duration": 5,
    "start_time": "2022-05-10T15:01:18.711Z"
   },
   {
    "duration": 18,
    "start_time": "2022-05-10T15:01:18.717Z"
   },
   {
    "duration": 35071,
    "start_time": "2022-05-10T15:01:18.737Z"
   },
   {
    "duration": 6317,
    "start_time": "2022-05-10T15:01:53.809Z"
   },
   {
    "duration": 9,
    "start_time": "2022-05-10T15:02:00.128Z"
   },
   {
    "duration": 42,
    "start_time": "2022-05-10T15:02:00.139Z"
   },
   {
    "duration": 31,
    "start_time": "2022-05-10T15:02:00.183Z"
   },
   {
    "duration": 10933,
    "start_time": "2022-05-10T15:02:00.216Z"
   },
   {
    "duration": 2091,
    "start_time": "2022-05-10T15:02:11.151Z"
   },
   {
    "duration": 8,
    "start_time": "2022-05-10T15:02:13.244Z"
   },
   {
    "duration": 5,
    "start_time": "2022-05-10T15:02:13.254Z"
   },
   {
    "duration": 16,
    "start_time": "2022-05-10T15:02:13.261Z"
   },
   {
    "duration": 5260,
    "start_time": "2022-05-11T08:48:30.983Z"
   },
   {
    "duration": 1333,
    "start_time": "2022-05-11T08:48:36.246Z"
   },
   {
    "duration": 167,
    "start_time": "2022-05-11T08:48:37.581Z"
   },
   {
    "duration": 317,
    "start_time": "2022-05-11T08:48:37.754Z"
   },
   {
    "duration": 57,
    "start_time": "2022-05-11T08:48:38.076Z"
   },
   {
    "duration": 322,
    "start_time": "2022-05-11T08:48:38.135Z"
   },
   {
    "duration": 69,
    "start_time": "2022-05-11T08:48:38.460Z"
   },
   {
    "duration": 289,
    "start_time": "2022-05-11T08:48:38.531Z"
   },
   {
    "duration": 269,
    "start_time": "2022-05-11T08:48:38.823Z"
   },
   {
    "duration": 25,
    "start_time": "2022-05-11T08:48:39.095Z"
   },
   {
    "duration": 41,
    "start_time": "2022-05-11T08:48:39.122Z"
   },
   {
    "duration": 16,
    "start_time": "2022-05-11T08:48:39.166Z"
   },
   {
    "duration": 19,
    "start_time": "2022-05-11T08:48:39.184Z"
   },
   {
    "duration": 122,
    "start_time": "2022-05-11T08:48:39.206Z"
   },
   {
    "duration": 358,
    "start_time": "2022-05-11T08:48:39.331Z"
   },
   {
    "duration": 1593,
    "start_time": "2022-05-11T08:48:39.691Z"
   },
   {
    "duration": 15,
    "start_time": "2022-05-11T08:48:41.291Z"
   },
   {
    "duration": 13,
    "start_time": "2022-05-11T08:48:41.309Z"
   },
   {
    "duration": 656,
    "start_time": "2022-05-11T08:48:41.323Z"
   },
   {
    "duration": 1798,
    "start_time": "2022-05-11T08:48:41.981Z"
   },
   {
    "duration": 181,
    "start_time": "2022-05-11T08:48:43.781Z"
   },
   {
    "duration": 293,
    "start_time": "2022-05-11T08:48:43.965Z"
   },
   {
    "duration": 338,
    "start_time": "2022-05-11T08:48:44.260Z"
   },
   {
    "duration": 3044,
    "start_time": "2022-05-11T08:48:44.601Z"
   },
   {
    "duration": 6,
    "start_time": "2022-05-11T08:48:47.655Z"
   },
   {
    "duration": 702,
    "start_time": "2022-05-11T08:48:47.664Z"
   },
   {
    "duration": 532,
    "start_time": "2022-05-11T08:48:48.375Z"
   },
   {
    "duration": 631,
    "start_time": "2022-05-11T08:48:48.912Z"
   },
   {
    "duration": 10,
    "start_time": "2022-05-11T08:48:49.545Z"
   },
   {
    "duration": 762,
    "start_time": "2022-05-11T08:48:49.557Z"
   },
   {
    "duration": 141,
    "start_time": "2022-05-11T08:49:09.653Z"
   },
   {
    "duration": 5,
    "start_time": "2022-05-11T08:49:49.916Z"
   },
   {
    "duration": 11,
    "start_time": "2022-05-11T08:49:56.226Z"
   },
   {
    "duration": 1078,
    "start_time": "2022-05-11T08:50:05.198Z"
   },
   {
    "duration": 82,
    "start_time": "2022-05-11T08:56:30.908Z"
   },
   {
    "duration": 3,
    "start_time": "2022-05-11T08:57:03.347Z"
   },
   {
    "duration": 5,
    "start_time": "2022-05-11T08:57:09.099Z"
   },
   {
    "duration": 390362,
    "start_time": "2022-05-11T08:57:12.973Z"
   },
   {
    "duration": 1109296,
    "start_time": "2022-05-11T09:03:46.869Z"
   },
   {
    "duration": 796,
    "start_time": "2022-05-11T09:38:14.626Z"
   },
   {
    "duration": 54,
    "start_time": "2022-05-11T17:21:32.388Z"
   },
   {
    "duration": 2400,
    "start_time": "2022-05-11T17:21:42.144Z"
   },
   {
    "duration": 1571,
    "start_time": "2022-05-11T17:21:44.547Z"
   },
   {
    "duration": 241,
    "start_time": "2022-05-11T17:21:46.120Z"
   },
   {
    "duration": 315,
    "start_time": "2022-05-11T17:21:46.364Z"
   },
   {
    "duration": 63,
    "start_time": "2022-05-11T17:21:46.681Z"
   },
   {
    "duration": 197,
    "start_time": "2022-05-11T17:21:46.746Z"
   },
   {
    "duration": 60,
    "start_time": "2022-05-11T17:21:46.944Z"
   },
   {
    "duration": 267,
    "start_time": "2022-05-11T17:21:47.005Z"
   },
   {
    "duration": 279,
    "start_time": "2022-05-11T17:21:47.274Z"
   },
   {
    "duration": 26,
    "start_time": "2022-05-11T17:21:47.556Z"
   },
   {
    "duration": 13,
    "start_time": "2022-05-11T17:21:47.585Z"
   },
   {
    "duration": 48,
    "start_time": "2022-05-11T17:21:47.600Z"
   },
   {
    "duration": 8,
    "start_time": "2022-05-11T17:21:47.650Z"
   },
   {
    "duration": 19,
    "start_time": "2022-05-11T17:21:47.660Z"
   },
   {
    "duration": 284,
    "start_time": "2022-05-11T17:21:47.681Z"
   },
   {
    "duration": 1103,
    "start_time": "2022-05-11T17:21:48.467Z"
   },
   {
    "duration": 12,
    "start_time": "2022-05-11T17:21:50.800Z"
   },
   {
    "duration": 7,
    "start_time": "2022-05-11T17:21:51.229Z"
   },
   {
    "duration": 393,
    "start_time": "2022-05-11T17:21:51.682Z"
   },
   {
    "duration": 1634,
    "start_time": "2022-05-11T17:21:52.077Z"
   },
   {
    "duration": 167,
    "start_time": "2022-05-11T17:21:53.714Z"
   },
   {
    "duration": 277,
    "start_time": "2022-05-11T17:21:53.883Z"
   },
   {
    "duration": 355,
    "start_time": "2022-05-11T17:21:54.194Z"
   },
   {
    "duration": 2107,
    "start_time": "2022-05-11T17:21:57.736Z"
   },
   {
    "duration": 5,
    "start_time": "2022-05-11T17:22:06.240Z"
   },
   {
    "duration": 642,
    "start_time": "2022-05-11T17:22:09.388Z"
   },
   {
    "duration": 482,
    "start_time": "2022-05-11T17:22:11.291Z"
   },
   {
    "duration": 88,
    "start_time": "2022-05-11T17:22:30.320Z"
   },
   {
    "duration": 77,
    "start_time": "2022-05-11T17:22:39.578Z"
   },
   {
    "duration": 5,
    "start_time": "2022-05-11T17:22:45.136Z"
   },
   {
    "duration": 713,
    "start_time": "2022-05-11T17:22:48.564Z"
   },
   {
    "duration": 3,
    "start_time": "2022-05-11T17:22:51.654Z"
   },
   {
    "duration": 23919,
    "start_time": "2022-05-11T17:22:55.531Z"
   },
   {
    "duration": 400,
    "start_time": "2022-05-11T17:23:19.453Z"
   },
   {
    "duration": 92,
    "start_time": "2022-05-11T17:23:19.856Z"
   },
   {
    "duration": 5,
    "start_time": "2022-05-11T17:23:19.951Z"
   },
   {
    "duration": 4686,
    "start_time": "2022-05-11T17:34:38.447Z"
   },
   {
    "duration": 614,
    "start_time": "2022-05-11T17:35:19.649Z"
   },
   {
    "duration": 423,
    "start_time": "2022-05-11T17:35:32.859Z"
   },
   {
    "duration": 15,
    "start_time": "2022-05-11T17:35:34.020Z"
   },
   {
    "duration": 6,
    "start_time": "2022-05-11T17:35:35.853Z"
   },
   {
    "duration": 3,
    "start_time": "2022-05-11T17:35:36.354Z"
   },
   {
    "duration": 4712,
    "start_time": "2022-05-11T17:42:14.497Z"
   },
   {
    "duration": 120,
    "start_time": "2022-05-11T17:42:56.520Z"
   },
   {
    "duration": 4680,
    "start_time": "2022-05-11T17:43:06.465Z"
   },
   {
    "duration": 126,
    "start_time": "2022-05-11T17:44:38.637Z"
   },
   {
    "duration": 172603,
    "start_time": "2022-05-11T17:45:13.728Z"
   },
   {
    "duration": 463,
    "start_time": "2022-05-11T17:48:22.596Z"
   },
   {
    "duration": 14,
    "start_time": "2022-05-11T17:48:25.289Z"
   },
   {
    "duration": 171271,
    "start_time": "2022-05-11T17:50:23.188Z"
   },
   {
    "duration": 17781,
    "start_time": "2022-05-11T17:53:52.337Z"
   },
   {
    "duration": 607,
    "start_time": "2022-05-11T17:54:10.120Z"
   },
   {
    "duration": 26,
    "start_time": "2022-05-11T17:54:10.728Z"
   },
   {
    "duration": 26,
    "start_time": "2022-05-11T17:54:10.757Z"
   }
  ],
  "kernelspec": {
   "display_name": "Python 3 (ipykernel)",
   "language": "python",
   "name": "python3"
  },
  "language_info": {
   "codemirror_mode": {
    "name": "ipython",
    "version": 3
   },
   "file_extension": ".py",
   "mimetype": "text/x-python",
   "name": "python",
   "nbconvert_exporter": "python",
   "pygments_lexer": "ipython3",
   "version": "3.9.5"
  },
  "toc": {
   "base_numbering": 1,
   "nav_menu": {},
   "number_sections": true,
   "sideBar": true,
   "skip_h1_title": true,
   "title_cell": "Table of Contents",
   "title_sidebar": "Contents",
   "toc_cell": false,
   "toc_position": {
    "height": "calc(100% - 180px)",
    "left": "10px",
    "top": "150px",
    "width": "165.917px"
   },
   "toc_section_display": true,
   "toc_window_display": true
  }
 },
 "nbformat": 4,
 "nbformat_minor": 2
}
