{
 "cells": [
  {
   "cell_type": "markdown",
   "metadata": {},
   "source": [
    "# Восстановление золота из руды"
   ]
  },
  {
   "cell_type": "markdown",
   "metadata": {},
   "source": [
    "Подготовьте прототип модели машинного обучения для «Цифры». Компания разрабатывает решения для эффективной работы промышленных предприятий.\n",
    "\n",
    "Модель должна предсказать коэффициент восстановления золота из золотосодержащей руды. Используйте данные с параметрами добычи и очистки. \n",
    "\n",
    "Модель поможет оптимизировать производство, чтобы не запускать предприятие с убыточными характеристиками.\n",
    "\n",
    "Вам нужно:\n",
    "\n",
    "1. Подготовить данные;\n",
    "2. Провести исследовательский анализ данных;\n",
    "3. Построить и обучить модель.\n",
    "\n",
    "Чтобы выполнить проект, обращайтесь к библиотекам *pandas*, *matplotlib* и *sklearn.* Вам поможет их документация."
   ]
  },
  {
   "cell_type": "markdown",
   "metadata": {},
   "source": [
    "## Подготовка данных"
   ]
  },
  {
   "cell_type": "markdown",
   "metadata": {},
   "source": [
    "Импортируем необходимые для работы библиотеки и инструменты:"
   ]
  },
  {
   "cell_type": "code",
   "execution_count": 1,
   "metadata": {},
   "outputs": [],
   "source": [
    "# библиотеки\n",
    "import pandas as pd\n",
    "import numpy as np\n",
    "import seaborn as sns\n",
    "import matplotlib.pyplot as plt\n",
    "\n",
    "# инструменты sklearn\n",
    "from sklearn.metrics import mean_absolute_error, make_scorer\n",
    "from sklearn.linear_model import LinearRegression\n",
    "from sklearn.ensemble import RandomForestRegressor\n",
    "from sklearn.tree import DecisionTreeRegressor\n",
    "from sklearn.preprocessing import StandardScaler\n",
    "from sklearn.model_selection import cross_val_score\n",
    "from sklearn.dummy import DummyRegressor\n",
    "\n",
    "# блокиратор предупреждений\n",
    "import warnings\n",
    "warnings.filterwarnings(\"ignore\")"
   ]
  },
  {
   "cell_type": "markdown",
   "metadata": {},
   "source": [
    "### Загрузка данные и их изучение:"
   ]
  },
  {
   "cell_type": "code",
   "execution_count": 2,
   "metadata": {},
   "outputs": [],
   "source": [
    "data_train=pd.read_csv('/datasets/gold_recovery_train_new.csv') \n",
    "data_test=pd.read_csv('/datasets/gold_recovery_test_new.csv') \n",
    "data_full=pd.read_csv('/datasets/gold_recovery_full_new.csv') \n",
    "\n",
    "datas = [data_train, data_test, data_full] # список фреймов для дальнейшего удобства"
   ]
  },
  {
   "cell_type": "markdown",
   "metadata": {},
   "source": [
    "Ознакомимся с полученными данными:"
   ]
  },
  {
   "cell_type": "code",
   "execution_count": 3,
   "metadata": {},
   "outputs": [
    {
     "data": {
      "text/html": [
       "<div>\n",
       "<style scoped>\n",
       "    .dataframe tbody tr th:only-of-type {\n",
       "        vertical-align: middle;\n",
       "    }\n",
       "\n",
       "    .dataframe tbody tr th {\n",
       "        vertical-align: top;\n",
       "    }\n",
       "\n",
       "    .dataframe thead th {\n",
       "        text-align: right;\n",
       "    }\n",
       "</style>\n",
       "<table border=\"1\" class=\"dataframe\">\n",
       "  <thead>\n",
       "    <tr style=\"text-align: right;\">\n",
       "      <th></th>\n",
       "      <th>date</th>\n",
       "      <th>final.output.concentrate_ag</th>\n",
       "      <th>final.output.concentrate_pb</th>\n",
       "      <th>final.output.concentrate_sol</th>\n",
       "      <th>final.output.concentrate_au</th>\n",
       "      <th>final.output.recovery</th>\n",
       "      <th>final.output.tail_ag</th>\n",
       "      <th>final.output.tail_pb</th>\n",
       "      <th>final.output.tail_sol</th>\n",
       "      <th>final.output.tail_au</th>\n",
       "      <th>...</th>\n",
       "      <th>secondary_cleaner.state.floatbank4_a_air</th>\n",
       "      <th>secondary_cleaner.state.floatbank4_a_level</th>\n",
       "      <th>secondary_cleaner.state.floatbank4_b_air</th>\n",
       "      <th>secondary_cleaner.state.floatbank4_b_level</th>\n",
       "      <th>secondary_cleaner.state.floatbank5_a_air</th>\n",
       "      <th>secondary_cleaner.state.floatbank5_a_level</th>\n",
       "      <th>secondary_cleaner.state.floatbank5_b_air</th>\n",
       "      <th>secondary_cleaner.state.floatbank5_b_level</th>\n",
       "      <th>secondary_cleaner.state.floatbank6_a_air</th>\n",
       "      <th>secondary_cleaner.state.floatbank6_a_level</th>\n",
       "    </tr>\n",
       "  </thead>\n",
       "  <tbody>\n",
       "    <tr>\n",
       "      <th>12718</th>\n",
       "      <td>2018-06-05 18:59:59</td>\n",
       "      <td>4.859689</td>\n",
       "      <td>9.682902</td>\n",
       "      <td>7.101273</td>\n",
       "      <td>45.242890</td>\n",
       "      <td>76.387438</td>\n",
       "      <td>10.097047</td>\n",
       "      <td>1.949598</td>\n",
       "      <td>11.592938</td>\n",
       "      <td>2.057834</td>\n",
       "      <td>...</td>\n",
       "      <td>30.042606</td>\n",
       "      <td>-499.078307</td>\n",
       "      <td>22.052211</td>\n",
       "      <td>-500.113089</td>\n",
       "      <td>25.023346</td>\n",
       "      <td>-498.948818</td>\n",
       "      <td>22.998690</td>\n",
       "      <td>-499.872936</td>\n",
       "      <td>24.991905</td>\n",
       "      <td>-497.436319</td>\n",
       "    </tr>\n",
       "    <tr>\n",
       "      <th>4821</th>\n",
       "      <td>2017-01-06 21:59:59</td>\n",
       "      <td>3.554558</td>\n",
       "      <td>12.202148</td>\n",
       "      <td>13.827148</td>\n",
       "      <td>44.528214</td>\n",
       "      <td>67.275195</td>\n",
       "      <td>7.958822</td>\n",
       "      <td>4.226074</td>\n",
       "      <td>9.827148</td>\n",
       "      <td>3.199278</td>\n",
       "      <td>...</td>\n",
       "      <td>16.984524</td>\n",
       "      <td>-496.641588</td>\n",
       "      <td>14.952960</td>\n",
       "      <td>-535.479797</td>\n",
       "      <td>19.088193</td>\n",
       "      <td>-504.315013</td>\n",
       "      <td>7.946953</td>\n",
       "      <td>-500.415405</td>\n",
       "      <td>19.985514</td>\n",
       "      <td>-592.337973</td>\n",
       "    </tr>\n",
       "    <tr>\n",
       "      <th>14015</th>\n",
       "      <td>2018-08-12 16:59:59</td>\n",
       "      <td>4.504241</td>\n",
       "      <td>8.503872</td>\n",
       "      <td>10.481533</td>\n",
       "      <td>46.234401</td>\n",
       "      <td>65.103940</td>\n",
       "      <td>15.735038</td>\n",
       "      <td>4.557363</td>\n",
       "      <td>10.388761</td>\n",
       "      <td>4.248999</td>\n",
       "      <td>...</td>\n",
       "      <td>22.994606</td>\n",
       "      <td>-501.432013</td>\n",
       "      <td>19.954187</td>\n",
       "      <td>-501.014254</td>\n",
       "      <td>17.939761</td>\n",
       "      <td>-499.848000</td>\n",
       "      <td>13.007170</td>\n",
       "      <td>-500.230464</td>\n",
       "      <td>20.013978</td>\n",
       "      <td>-500.081425</td>\n",
       "    </tr>\n",
       "  </tbody>\n",
       "</table>\n",
       "<p>3 rows × 87 columns</p>\n",
       "</div>"
      ],
      "text/plain": [
       "                      date  final.output.concentrate_ag  \\\n",
       "12718  2018-06-05 18:59:59                     4.859689   \n",
       "4821   2017-01-06 21:59:59                     3.554558   \n",
       "14015  2018-08-12 16:59:59                     4.504241   \n",
       "\n",
       "       final.output.concentrate_pb  final.output.concentrate_sol  \\\n",
       "12718                     9.682902                      7.101273   \n",
       "4821                     12.202148                     13.827148   \n",
       "14015                     8.503872                     10.481533   \n",
       "\n",
       "       final.output.concentrate_au  final.output.recovery  \\\n",
       "12718                    45.242890              76.387438   \n",
       "4821                     44.528214              67.275195   \n",
       "14015                    46.234401              65.103940   \n",
       "\n",
       "       final.output.tail_ag  final.output.tail_pb  final.output.tail_sol  \\\n",
       "12718             10.097047              1.949598              11.592938   \n",
       "4821               7.958822              4.226074               9.827148   \n",
       "14015             15.735038              4.557363              10.388761   \n",
       "\n",
       "       final.output.tail_au  ...  secondary_cleaner.state.floatbank4_a_air  \\\n",
       "12718              2.057834  ...                                 30.042606   \n",
       "4821               3.199278  ...                                 16.984524   \n",
       "14015              4.248999  ...                                 22.994606   \n",
       "\n",
       "       secondary_cleaner.state.floatbank4_a_level  \\\n",
       "12718                                 -499.078307   \n",
       "4821                                  -496.641588   \n",
       "14015                                 -501.432013   \n",
       "\n",
       "       secondary_cleaner.state.floatbank4_b_air  \\\n",
       "12718                                 22.052211   \n",
       "4821                                  14.952960   \n",
       "14015                                 19.954187   \n",
       "\n",
       "       secondary_cleaner.state.floatbank4_b_level  \\\n",
       "12718                                 -500.113089   \n",
       "4821                                  -535.479797   \n",
       "14015                                 -501.014254   \n",
       "\n",
       "       secondary_cleaner.state.floatbank5_a_air  \\\n",
       "12718                                 25.023346   \n",
       "4821                                  19.088193   \n",
       "14015                                 17.939761   \n",
       "\n",
       "       secondary_cleaner.state.floatbank5_a_level  \\\n",
       "12718                                 -498.948818   \n",
       "4821                                  -504.315013   \n",
       "14015                                 -499.848000   \n",
       "\n",
       "       secondary_cleaner.state.floatbank5_b_air  \\\n",
       "12718                                 22.998690   \n",
       "4821                                   7.946953   \n",
       "14015                                 13.007170   \n",
       "\n",
       "       secondary_cleaner.state.floatbank5_b_level  \\\n",
       "12718                                 -499.872936   \n",
       "4821                                  -500.415405   \n",
       "14015                                 -500.230464   \n",
       "\n",
       "       secondary_cleaner.state.floatbank6_a_air  \\\n",
       "12718                                 24.991905   \n",
       "4821                                  19.985514   \n",
       "14015                                 20.013978   \n",
       "\n",
       "       secondary_cleaner.state.floatbank6_a_level  \n",
       "12718                                 -497.436319  \n",
       "4821                                  -592.337973  \n",
       "14015                                 -500.081425  \n",
       "\n",
       "[3 rows x 87 columns]"
      ]
     },
     "metadata": {},
     "output_type": "display_data"
    },
    {
     "name": "stdout",
     "output_type": "stream",
     "text": [
      "\n",
      "<class 'pandas.core.frame.DataFrame'>\n",
      "RangeIndex: 14149 entries, 0 to 14148\n",
      "Data columns (total 87 columns):\n",
      " #   Column                                              Non-Null Count  Dtype  \n",
      "---  ------                                              --------------  -----  \n",
      " 0   date                                                14149 non-null  object \n",
      " 1   final.output.concentrate_ag                         14148 non-null  float64\n",
      " 2   final.output.concentrate_pb                         14148 non-null  float64\n",
      " 3   final.output.concentrate_sol                        13938 non-null  float64\n",
      " 4   final.output.concentrate_au                         14149 non-null  float64\n",
      " 5   final.output.recovery                               14149 non-null  float64\n",
      " 6   final.output.tail_ag                                14149 non-null  float64\n",
      " 7   final.output.tail_pb                                14049 non-null  float64\n",
      " 8   final.output.tail_sol                               14144 non-null  float64\n",
      " 9   final.output.tail_au                                14149 non-null  float64\n",
      " 10  primary_cleaner.input.sulfate                       14129 non-null  float64\n",
      " 11  primary_cleaner.input.depressant                    14117 non-null  float64\n",
      " 12  primary_cleaner.input.feed_size                     14149 non-null  float64\n",
      " 13  primary_cleaner.input.xanthate                      14049 non-null  float64\n",
      " 14  primary_cleaner.output.concentrate_ag               14149 non-null  float64\n",
      " 15  primary_cleaner.output.concentrate_pb               14063 non-null  float64\n",
      " 16  primary_cleaner.output.concentrate_sol              13863 non-null  float64\n",
      " 17  primary_cleaner.output.concentrate_au               14149 non-null  float64\n",
      " 18  primary_cleaner.output.tail_ag                      14148 non-null  float64\n",
      " 19  primary_cleaner.output.tail_pb                      14134 non-null  float64\n",
      " 20  primary_cleaner.output.tail_sol                     14103 non-null  float64\n",
      " 21  primary_cleaner.output.tail_au                      14149 non-null  float64\n",
      " 22  primary_cleaner.state.floatbank8_a_air              14145 non-null  float64\n",
      " 23  primary_cleaner.state.floatbank8_a_level            14148 non-null  float64\n",
      " 24  primary_cleaner.state.floatbank8_b_air              14145 non-null  float64\n",
      " 25  primary_cleaner.state.floatbank8_b_level            14148 non-null  float64\n",
      " 26  primary_cleaner.state.floatbank8_c_air              14147 non-null  float64\n",
      " 27  primary_cleaner.state.floatbank8_c_level            14148 non-null  float64\n",
      " 28  primary_cleaner.state.floatbank8_d_air              14146 non-null  float64\n",
      " 29  primary_cleaner.state.floatbank8_d_level            14148 non-null  float64\n",
      " 30  rougher.calculation.sulfate_to_au_concentrate       14148 non-null  float64\n",
      " 31  rougher.calculation.floatbank10_sulfate_to_au_feed  14148 non-null  float64\n",
      " 32  rougher.calculation.floatbank11_sulfate_to_au_feed  14148 non-null  float64\n",
      " 33  rougher.calculation.au_pb_ratio                     14149 non-null  float64\n",
      " 34  rougher.input.feed_ag                               14149 non-null  float64\n",
      " 35  rougher.input.feed_pb                               14049 non-null  float64\n",
      " 36  rougher.input.feed_rate                             14141 non-null  float64\n",
      " 37  rougher.input.feed_size                             14005 non-null  float64\n",
      " 38  rougher.input.feed_sol                              14071 non-null  float64\n",
      " 39  rougher.input.feed_au                               14149 non-null  float64\n",
      " 40  rougher.input.floatbank10_sulfate                   14120 non-null  float64\n",
      " 41  rougher.input.floatbank10_xanthate                  14141 non-null  float64\n",
      " 42  rougher.input.floatbank11_sulfate                   14113 non-null  float64\n",
      " 43  rougher.input.floatbank11_xanthate                  13721 non-null  float64\n",
      " 44  rougher.output.concentrate_ag                       14149 non-null  float64\n",
      " 45  rougher.output.concentrate_pb                       14149 non-null  float64\n",
      " 46  rougher.output.concentrate_sol                      14127 non-null  float64\n",
      " 47  rougher.output.concentrate_au                       14149 non-null  float64\n",
      " 48  rougher.output.recovery                             14149 non-null  float64\n",
      " 49  rougher.output.tail_ag                              14148 non-null  float64\n",
      " 50  rougher.output.tail_pb                              14149 non-null  float64\n",
      " 51  rougher.output.tail_sol                             14149 non-null  float64\n",
      " 52  rougher.output.tail_au                              14149 non-null  float64\n",
      " 53  rougher.state.floatbank10_a_air                     14148 non-null  float64\n",
      " 54  rougher.state.floatbank10_a_level                   14148 non-null  float64\n",
      " 55  rougher.state.floatbank10_b_air                     14148 non-null  float64\n",
      " 56  rougher.state.floatbank10_b_level                   14148 non-null  float64\n",
      " 57  rougher.state.floatbank10_c_air                     14148 non-null  float64\n",
      " 58  rougher.state.floatbank10_c_level                   14148 non-null  float64\n",
      " 59  rougher.state.floatbank10_d_air                     14149 non-null  float64\n",
      " 60  rougher.state.floatbank10_d_level                   14149 non-null  float64\n",
      " 61  rougher.state.floatbank10_e_air                     13713 non-null  float64\n",
      " 62  rougher.state.floatbank10_e_level                   14149 non-null  float64\n",
      " 63  rougher.state.floatbank10_f_air                     14149 non-null  float64\n",
      " 64  rougher.state.floatbank10_f_level                   14149 non-null  float64\n",
      " 65  secondary_cleaner.output.tail_ag                    14147 non-null  float64\n",
      " 66  secondary_cleaner.output.tail_pb                    14139 non-null  float64\n",
      " 67  secondary_cleaner.output.tail_sol                   12544 non-null  float64\n",
      " 68  secondary_cleaner.output.tail_au                    14149 non-null  float64\n",
      " 69  secondary_cleaner.state.floatbank2_a_air            13932 non-null  float64\n",
      " 70  secondary_cleaner.state.floatbank2_a_level          14148 non-null  float64\n",
      " 71  secondary_cleaner.state.floatbank2_b_air            14128 non-null  float64\n",
      " 72  secondary_cleaner.state.floatbank2_b_level          14148 non-null  float64\n",
      " 73  secondary_cleaner.state.floatbank3_a_air            14145 non-null  float64\n",
      " 74  secondary_cleaner.state.floatbank3_a_level          14148 non-null  float64\n",
      " 75  secondary_cleaner.state.floatbank3_b_air            14148 non-null  float64\n",
      " 76  secondary_cleaner.state.floatbank3_b_level          14148 non-null  float64\n",
      " 77  secondary_cleaner.state.floatbank4_a_air            14143 non-null  float64\n",
      " 78  secondary_cleaner.state.floatbank4_a_level          14148 non-null  float64\n",
      " 79  secondary_cleaner.state.floatbank4_b_air            14148 non-null  float64\n",
      " 80  secondary_cleaner.state.floatbank4_b_level          14148 non-null  float64\n",
      " 81  secondary_cleaner.state.floatbank5_a_air            14148 non-null  float64\n",
      " 82  secondary_cleaner.state.floatbank5_a_level          14148 non-null  float64\n",
      " 83  secondary_cleaner.state.floatbank5_b_air            14148 non-null  float64\n",
      " 84  secondary_cleaner.state.floatbank5_b_level          14148 non-null  float64\n",
      " 85  secondary_cleaner.state.floatbank6_a_air            14147 non-null  float64\n",
      " 86  secondary_cleaner.state.floatbank6_a_level          14148 non-null  float64\n",
      "dtypes: float64(86), object(1)\n",
      "memory usage: 9.4+ MB\n",
      "\n",
      "Явных дубликатов -  0\n",
      "\n",
      "Количество пропусков \n",
      " date                                           0\n",
      "rougher.output.concentrate_pb                  0\n",
      "rougher.state.floatbank10_f_level              0\n",
      "rougher.state.floatbank10_f_air                0\n",
      "rougher.state.floatbank10_e_level              0\n",
      "                                            ... \n",
      "secondary_cleaner.state.floatbank2_a_air     217\n",
      "primary_cleaner.output.concentrate_sol       286\n",
      "rougher.input.floatbank11_xanthate           428\n",
      "rougher.state.floatbank10_e_air              436\n",
      "secondary_cleaner.output.tail_sol           1605\n",
      "Length: 87, dtype: int64\n"
     ]
    },
    {
     "data": {
      "text/html": [
       "<div>\n",
       "<style scoped>\n",
       "    .dataframe tbody tr th:only-of-type {\n",
       "        vertical-align: middle;\n",
       "    }\n",
       "\n",
       "    .dataframe tbody tr th {\n",
       "        vertical-align: top;\n",
       "    }\n",
       "\n",
       "    .dataframe thead th {\n",
       "        text-align: right;\n",
       "    }\n",
       "</style>\n",
       "<table border=\"1\" class=\"dataframe\">\n",
       "  <thead>\n",
       "    <tr style=\"text-align: right;\">\n",
       "      <th></th>\n",
       "      <th>date</th>\n",
       "      <th>primary_cleaner.input.sulfate</th>\n",
       "      <th>primary_cleaner.input.depressant</th>\n",
       "      <th>primary_cleaner.input.feed_size</th>\n",
       "      <th>primary_cleaner.input.xanthate</th>\n",
       "      <th>primary_cleaner.state.floatbank8_a_air</th>\n",
       "      <th>primary_cleaner.state.floatbank8_a_level</th>\n",
       "      <th>primary_cleaner.state.floatbank8_b_air</th>\n",
       "      <th>primary_cleaner.state.floatbank8_b_level</th>\n",
       "      <th>primary_cleaner.state.floatbank8_c_air</th>\n",
       "      <th>...</th>\n",
       "      <th>secondary_cleaner.state.floatbank4_a_air</th>\n",
       "      <th>secondary_cleaner.state.floatbank4_a_level</th>\n",
       "      <th>secondary_cleaner.state.floatbank4_b_air</th>\n",
       "      <th>secondary_cleaner.state.floatbank4_b_level</th>\n",
       "      <th>secondary_cleaner.state.floatbank5_a_air</th>\n",
       "      <th>secondary_cleaner.state.floatbank5_a_level</th>\n",
       "      <th>secondary_cleaner.state.floatbank5_b_air</th>\n",
       "      <th>secondary_cleaner.state.floatbank5_b_level</th>\n",
       "      <th>secondary_cleaner.state.floatbank6_a_air</th>\n",
       "      <th>secondary_cleaner.state.floatbank6_a_level</th>\n",
       "    </tr>\n",
       "  </thead>\n",
       "  <tbody>\n",
       "    <tr>\n",
       "      <th>3960</th>\n",
       "      <td>2017-11-02 20:59:59</td>\n",
       "      <td>211.308986</td>\n",
       "      <td>9.536964</td>\n",
       "      <td>6.990000</td>\n",
       "      <td>1.673338</td>\n",
       "      <td>1700.501446</td>\n",
       "      <td>-499.175303</td>\n",
       "      <td>1699.778698</td>\n",
       "      <td>-484.013076</td>\n",
       "      <td>1510.752315</td>\n",
       "      <td>...</td>\n",
       "      <td>19.956543</td>\n",
       "      <td>-500.674254</td>\n",
       "      <td>17.922203</td>\n",
       "      <td>-499.980414</td>\n",
       "      <td>13.991605</td>\n",
       "      <td>-500.391654</td>\n",
       "      <td>10.010983</td>\n",
       "      <td>-500.209311</td>\n",
       "      <td>14.004925</td>\n",
       "      <td>-499.979686</td>\n",
       "    </tr>\n",
       "    <tr>\n",
       "      <th>1090</th>\n",
       "      <td>2016-10-26 13:59:59</td>\n",
       "      <td>157.850055</td>\n",
       "      <td>5.529645</td>\n",
       "      <td>7.450000</td>\n",
       "      <td>0.694472</td>\n",
       "      <td>1603.568684</td>\n",
       "      <td>-499.490719</td>\n",
       "      <td>1702.150345</td>\n",
       "      <td>-500.116632</td>\n",
       "      <td>1704.657274</td>\n",
       "      <td>...</td>\n",
       "      <td>20.008170</td>\n",
       "      <td>-500.337493</td>\n",
       "      <td>16.948830</td>\n",
       "      <td>-499.893808</td>\n",
       "      <td>17.005386</td>\n",
       "      <td>-498.764392</td>\n",
       "      <td>13.983128</td>\n",
       "      <td>-498.380445</td>\n",
       "      <td>24.998246</td>\n",
       "      <td>-499.338909</td>\n",
       "    </tr>\n",
       "    <tr>\n",
       "      <th>2013</th>\n",
       "      <td>2016-12-05 16:59:59</td>\n",
       "      <td>190.449385</td>\n",
       "      <td>7.998456</td>\n",
       "      <td>8.095833</td>\n",
       "      <td>1.081913</td>\n",
       "      <td>1505.075031</td>\n",
       "      <td>-500.103148</td>\n",
       "      <td>1501.800984</td>\n",
       "      <td>-500.307951</td>\n",
       "      <td>1502.354084</td>\n",
       "      <td>...</td>\n",
       "      <td>17.993872</td>\n",
       "      <td>-500.328736</td>\n",
       "      <td>16.014036</td>\n",
       "      <td>-502.099469</td>\n",
       "      <td>16.379003</td>\n",
       "      <td>-500.282798</td>\n",
       "      <td>11.979172</td>\n",
       "      <td>-500.336410</td>\n",
       "      <td>22.025024</td>\n",
       "      <td>-500.410557</td>\n",
       "    </tr>\n",
       "  </tbody>\n",
       "</table>\n",
       "<p>3 rows × 53 columns</p>\n",
       "</div>"
      ],
      "text/plain": [
       "                     date  primary_cleaner.input.sulfate  \\\n",
       "3960  2017-11-02 20:59:59                     211.308986   \n",
       "1090  2016-10-26 13:59:59                     157.850055   \n",
       "2013  2016-12-05 16:59:59                     190.449385   \n",
       "\n",
       "      primary_cleaner.input.depressant  primary_cleaner.input.feed_size  \\\n",
       "3960                          9.536964                         6.990000   \n",
       "1090                          5.529645                         7.450000   \n",
       "2013                          7.998456                         8.095833   \n",
       "\n",
       "      primary_cleaner.input.xanthate  primary_cleaner.state.floatbank8_a_air  \\\n",
       "3960                        1.673338                             1700.501446   \n",
       "1090                        0.694472                             1603.568684   \n",
       "2013                        1.081913                             1505.075031   \n",
       "\n",
       "      primary_cleaner.state.floatbank8_a_level  \\\n",
       "3960                               -499.175303   \n",
       "1090                               -499.490719   \n",
       "2013                               -500.103148   \n",
       "\n",
       "      primary_cleaner.state.floatbank8_b_air  \\\n",
       "3960                             1699.778698   \n",
       "1090                             1702.150345   \n",
       "2013                             1501.800984   \n",
       "\n",
       "      primary_cleaner.state.floatbank8_b_level  \\\n",
       "3960                               -484.013076   \n",
       "1090                               -500.116632   \n",
       "2013                               -500.307951   \n",
       "\n",
       "      primary_cleaner.state.floatbank8_c_air  ...  \\\n",
       "3960                             1510.752315  ...   \n",
       "1090                             1704.657274  ...   \n",
       "2013                             1502.354084  ...   \n",
       "\n",
       "      secondary_cleaner.state.floatbank4_a_air  \\\n",
       "3960                                 19.956543   \n",
       "1090                                 20.008170   \n",
       "2013                                 17.993872   \n",
       "\n",
       "      secondary_cleaner.state.floatbank4_a_level  \\\n",
       "3960                                 -500.674254   \n",
       "1090                                 -500.337493   \n",
       "2013                                 -500.328736   \n",
       "\n",
       "      secondary_cleaner.state.floatbank4_b_air  \\\n",
       "3960                                 17.922203   \n",
       "1090                                 16.948830   \n",
       "2013                                 16.014036   \n",
       "\n",
       "      secondary_cleaner.state.floatbank4_b_level  \\\n",
       "3960                                 -499.980414   \n",
       "1090                                 -499.893808   \n",
       "2013                                 -502.099469   \n",
       "\n",
       "      secondary_cleaner.state.floatbank5_a_air  \\\n",
       "3960                                 13.991605   \n",
       "1090                                 17.005386   \n",
       "2013                                 16.379003   \n",
       "\n",
       "      secondary_cleaner.state.floatbank5_a_level  \\\n",
       "3960                                 -500.391654   \n",
       "1090                                 -498.764392   \n",
       "2013                                 -500.282798   \n",
       "\n",
       "      secondary_cleaner.state.floatbank5_b_air  \\\n",
       "3960                                 10.010983   \n",
       "1090                                 13.983128   \n",
       "2013                                 11.979172   \n",
       "\n",
       "      secondary_cleaner.state.floatbank5_b_level  \\\n",
       "3960                                 -500.209311   \n",
       "1090                                 -498.380445   \n",
       "2013                                 -500.336410   \n",
       "\n",
       "      secondary_cleaner.state.floatbank6_a_air  \\\n",
       "3960                                 14.004925   \n",
       "1090                                 24.998246   \n",
       "2013                                 22.025024   \n",
       "\n",
       "      secondary_cleaner.state.floatbank6_a_level  \n",
       "3960                                 -499.979686  \n",
       "1090                                 -499.338909  \n",
       "2013                                 -500.410557  \n",
       "\n",
       "[3 rows x 53 columns]"
      ]
     },
     "metadata": {},
     "output_type": "display_data"
    },
    {
     "name": "stdout",
     "output_type": "stream",
     "text": [
      "\n",
      "<class 'pandas.core.frame.DataFrame'>\n",
      "RangeIndex: 5290 entries, 0 to 5289\n",
      "Data columns (total 53 columns):\n",
      " #   Column                                      Non-Null Count  Dtype  \n",
      "---  ------                                      --------------  -----  \n",
      " 0   date                                        5290 non-null   object \n",
      " 1   primary_cleaner.input.sulfate               5286 non-null   float64\n",
      " 2   primary_cleaner.input.depressant            5285 non-null   float64\n",
      " 3   primary_cleaner.input.feed_size             5290 non-null   float64\n",
      " 4   primary_cleaner.input.xanthate              5286 non-null   float64\n",
      " 5   primary_cleaner.state.floatbank8_a_air      5290 non-null   float64\n",
      " 6   primary_cleaner.state.floatbank8_a_level    5290 non-null   float64\n",
      " 7   primary_cleaner.state.floatbank8_b_air      5290 non-null   float64\n",
      " 8   primary_cleaner.state.floatbank8_b_level    5290 non-null   float64\n",
      " 9   primary_cleaner.state.floatbank8_c_air      5290 non-null   float64\n",
      " 10  primary_cleaner.state.floatbank8_c_level    5290 non-null   float64\n",
      " 11  primary_cleaner.state.floatbank8_d_air      5290 non-null   float64\n",
      " 12  primary_cleaner.state.floatbank8_d_level    5290 non-null   float64\n",
      " 13  rougher.input.feed_ag                       5290 non-null   float64\n",
      " 14  rougher.input.feed_pb                       5290 non-null   float64\n",
      " 15  rougher.input.feed_rate                     5287 non-null   float64\n",
      " 16  rougher.input.feed_size                     5289 non-null   float64\n",
      " 17  rougher.input.feed_sol                      5269 non-null   float64\n",
      " 18  rougher.input.feed_au                       5290 non-null   float64\n",
      " 19  rougher.input.floatbank10_sulfate           5285 non-null   float64\n",
      " 20  rougher.input.floatbank10_xanthate          5290 non-null   float64\n",
      " 21  rougher.input.floatbank11_sulfate           5282 non-null   float64\n",
      " 22  rougher.input.floatbank11_xanthate          5265 non-null   float64\n",
      " 23  rougher.state.floatbank10_a_air             5290 non-null   float64\n",
      " 24  rougher.state.floatbank10_a_level           5290 non-null   float64\n",
      " 25  rougher.state.floatbank10_b_air             5290 non-null   float64\n",
      " 26  rougher.state.floatbank10_b_level           5290 non-null   float64\n",
      " 27  rougher.state.floatbank10_c_air             5290 non-null   float64\n",
      " 28  rougher.state.floatbank10_c_level           5290 non-null   float64\n",
      " 29  rougher.state.floatbank10_d_air             5290 non-null   float64\n",
      " 30  rougher.state.floatbank10_d_level           5290 non-null   float64\n",
      " 31  rougher.state.floatbank10_e_air             5290 non-null   float64\n",
      " 32  rougher.state.floatbank10_e_level           5290 non-null   float64\n",
      " 33  rougher.state.floatbank10_f_air             5290 non-null   float64\n",
      " 34  rougher.state.floatbank10_f_level           5290 non-null   float64\n",
      " 35  secondary_cleaner.state.floatbank2_a_air    5287 non-null   float64\n",
      " 36  secondary_cleaner.state.floatbank2_a_level  5290 non-null   float64\n",
      " 37  secondary_cleaner.state.floatbank2_b_air    5288 non-null   float64\n",
      " 38  secondary_cleaner.state.floatbank2_b_level  5290 non-null   float64\n",
      " 39  secondary_cleaner.state.floatbank3_a_air    5281 non-null   float64\n",
      " 40  secondary_cleaner.state.floatbank3_a_level  5290 non-null   float64\n",
      " 41  secondary_cleaner.state.floatbank3_b_air    5290 non-null   float64\n",
      " 42  secondary_cleaner.state.floatbank3_b_level  5290 non-null   float64\n",
      " 43  secondary_cleaner.state.floatbank4_a_air    5290 non-null   float64\n",
      " 44  secondary_cleaner.state.floatbank4_a_level  5290 non-null   float64\n",
      " 45  secondary_cleaner.state.floatbank4_b_air    5290 non-null   float64\n",
      " 46  secondary_cleaner.state.floatbank4_b_level  5290 non-null   float64\n",
      " 47  secondary_cleaner.state.floatbank5_a_air    5290 non-null   float64\n",
      " 48  secondary_cleaner.state.floatbank5_a_level  5290 non-null   float64\n",
      " 49  secondary_cleaner.state.floatbank5_b_air    5290 non-null   float64\n",
      " 50  secondary_cleaner.state.floatbank5_b_level  5290 non-null   float64\n",
      " 51  secondary_cleaner.state.floatbank6_a_air    5290 non-null   float64\n",
      " 52  secondary_cleaner.state.floatbank6_a_level  5290 non-null   float64\n",
      "dtypes: float64(52), object(1)\n",
      "memory usage: 2.1+ MB\n",
      "\n",
      "Явных дубликатов -  0\n",
      "\n",
      "Количество пропусков \n",
      " date                                           0\n",
      "rougher.state.floatbank10_c_air                0\n",
      "rougher.state.floatbank10_c_level              0\n",
      "rougher.state.floatbank10_d_air                0\n",
      "rougher.state.floatbank10_d_level              0\n",
      "rougher.state.floatbank10_e_air                0\n",
      "rougher.state.floatbank10_e_level              0\n",
      "rougher.state.floatbank10_f_air                0\n",
      "rougher.state.floatbank10_f_level              0\n",
      "secondary_cleaner.state.floatbank2_a_level     0\n",
      "secondary_cleaner.state.floatbank2_b_level     0\n",
      "secondary_cleaner.state.floatbank3_a_level     0\n",
      "secondary_cleaner.state.floatbank3_b_air       0\n",
      "secondary_cleaner.state.floatbank3_b_level     0\n",
      "secondary_cleaner.state.floatbank4_a_air       0\n",
      "secondary_cleaner.state.floatbank4_a_level     0\n",
      "secondary_cleaner.state.floatbank4_b_air       0\n",
      "secondary_cleaner.state.floatbank4_b_level     0\n",
      "secondary_cleaner.state.floatbank5_a_air       0\n",
      "secondary_cleaner.state.floatbank5_a_level     0\n",
      "secondary_cleaner.state.floatbank5_b_air       0\n",
      "secondary_cleaner.state.floatbank5_b_level     0\n",
      "secondary_cleaner.state.floatbank6_a_air       0\n",
      "rougher.state.floatbank10_b_air                0\n",
      "rougher.state.floatbank10_b_level              0\n",
      "rougher.state.floatbank10_a_air                0\n",
      "primary_cleaner.input.feed_size                0\n",
      "primary_cleaner.state.floatbank8_a_air         0\n",
      "primary_cleaner.state.floatbank8_a_level       0\n",
      "primary_cleaner.state.floatbank8_b_air         0\n",
      "primary_cleaner.state.floatbank8_b_level       0\n",
      "primary_cleaner.state.floatbank8_c_air         0\n",
      "primary_cleaner.state.floatbank8_c_level       0\n",
      "primary_cleaner.state.floatbank8_d_air         0\n",
      "rougher.state.floatbank10_a_level              0\n",
      "rougher.input.feed_ag                          0\n",
      "primary_cleaner.state.floatbank8_d_level       0\n",
      "rougher.input.feed_pb                          0\n",
      "rougher.input.feed_au                          0\n",
      "rougher.input.floatbank10_xanthate             0\n",
      "secondary_cleaner.state.floatbank6_a_level     0\n",
      "rougher.input.feed_size                        1\n",
      "secondary_cleaner.state.floatbank2_b_air       2\n",
      "rougher.input.feed_rate                        3\n",
      "secondary_cleaner.state.floatbank2_a_air       3\n",
      "primary_cleaner.input.xanthate                 4\n",
      "primary_cleaner.input.sulfate                  4\n",
      "rougher.input.floatbank10_sulfate              5\n",
      "primary_cleaner.input.depressant               5\n",
      "rougher.input.floatbank11_sulfate              8\n",
      "secondary_cleaner.state.floatbank3_a_air       9\n",
      "rougher.input.feed_sol                        21\n",
      "rougher.input.floatbank11_xanthate            25\n",
      "dtype: int64\n"
     ]
    },
    {
     "data": {
      "text/html": [
       "<div>\n",
       "<style scoped>\n",
       "    .dataframe tbody tr th:only-of-type {\n",
       "        vertical-align: middle;\n",
       "    }\n",
       "\n",
       "    .dataframe tbody tr th {\n",
       "        vertical-align: top;\n",
       "    }\n",
       "\n",
       "    .dataframe thead th {\n",
       "        text-align: right;\n",
       "    }\n",
       "</style>\n",
       "<table border=\"1\" class=\"dataframe\">\n",
       "  <thead>\n",
       "    <tr style=\"text-align: right;\">\n",
       "      <th></th>\n",
       "      <th>date</th>\n",
       "      <th>final.output.concentrate_ag</th>\n",
       "      <th>final.output.concentrate_pb</th>\n",
       "      <th>final.output.concentrate_sol</th>\n",
       "      <th>final.output.concentrate_au</th>\n",
       "      <th>final.output.recovery</th>\n",
       "      <th>final.output.tail_ag</th>\n",
       "      <th>final.output.tail_pb</th>\n",
       "      <th>final.output.tail_sol</th>\n",
       "      <th>final.output.tail_au</th>\n",
       "      <th>...</th>\n",
       "      <th>secondary_cleaner.state.floatbank4_a_air</th>\n",
       "      <th>secondary_cleaner.state.floatbank4_a_level</th>\n",
       "      <th>secondary_cleaner.state.floatbank4_b_air</th>\n",
       "      <th>secondary_cleaner.state.floatbank4_b_level</th>\n",
       "      <th>secondary_cleaner.state.floatbank5_a_air</th>\n",
       "      <th>secondary_cleaner.state.floatbank5_a_level</th>\n",
       "      <th>secondary_cleaner.state.floatbank5_b_air</th>\n",
       "      <th>secondary_cleaner.state.floatbank5_b_level</th>\n",
       "      <th>secondary_cleaner.state.floatbank6_a_air</th>\n",
       "      <th>secondary_cleaner.state.floatbank6_a_level</th>\n",
       "    </tr>\n",
       "  </thead>\n",
       "  <tbody>\n",
       "    <tr>\n",
       "      <th>746</th>\n",
       "      <td>2016-02-18 06:00:00</td>\n",
       "      <td>5.174911</td>\n",
       "      <td>10.052502</td>\n",
       "      <td>0.878757</td>\n",
       "      <td>45.387492</td>\n",
       "      <td>48.457717</td>\n",
       "      <td>11.348603</td>\n",
       "      <td>1.339284</td>\n",
       "      <td>9.329042</td>\n",
       "      <td>2.762683</td>\n",
       "      <td>...</td>\n",
       "      <td>18.013293</td>\n",
       "      <td>-500.807629</td>\n",
       "      <td>15.960071</td>\n",
       "      <td>-498.559282</td>\n",
       "      <td>15.981028</td>\n",
       "      <td>-500.743773</td>\n",
       "      <td>11.969354</td>\n",
       "      <td>-500.391553</td>\n",
       "      <td>26.993228</td>\n",
       "      <td>-499.643476</td>\n",
       "    </tr>\n",
       "    <tr>\n",
       "      <th>15779</th>\n",
       "      <td>2018-02-19 11:59:59</td>\n",
       "      <td>6.962200</td>\n",
       "      <td>9.492547</td>\n",
       "      <td>8.849968</td>\n",
       "      <td>42.781001</td>\n",
       "      <td>85.599596</td>\n",
       "      <td>10.177961</td>\n",
       "      <td>0.632094</td>\n",
       "      <td>12.826802</td>\n",
       "      <td>1.346970</td>\n",
       "      <td>...</td>\n",
       "      <td>19.980553</td>\n",
       "      <td>-500.728265</td>\n",
       "      <td>15.061789</td>\n",
       "      <td>-500.211871</td>\n",
       "      <td>10.983475</td>\n",
       "      <td>-500.307512</td>\n",
       "      <td>9.009618</td>\n",
       "      <td>-499.908101</td>\n",
       "      <td>10.953487</td>\n",
       "      <td>-500.740903</td>\n",
       "    </tr>\n",
       "    <tr>\n",
       "      <th>822</th>\n",
       "      <td>2016-02-21 16:00:00</td>\n",
       "      <td>6.217621</td>\n",
       "      <td>12.101341</td>\n",
       "      <td>10.505616</td>\n",
       "      <td>40.133280</td>\n",
       "      <td>75.456722</td>\n",
       "      <td>13.610811</td>\n",
       "      <td>2.520647</td>\n",
       "      <td>8.083634</td>\n",
       "      <td>3.191058</td>\n",
       "      <td>...</td>\n",
       "      <td>11.931964</td>\n",
       "      <td>-400.564899</td>\n",
       "      <td>10.119927</td>\n",
       "      <td>-399.699247</td>\n",
       "      <td>9.981872</td>\n",
       "      <td>-401.047455</td>\n",
       "      <td>8.008695</td>\n",
       "      <td>-399.547018</td>\n",
       "      <td>28.021031</td>\n",
       "      <td>-400.002828</td>\n",
       "    </tr>\n",
       "  </tbody>\n",
       "</table>\n",
       "<p>3 rows × 87 columns</p>\n",
       "</div>"
      ],
      "text/plain": [
       "                      date  final.output.concentrate_ag  \\\n",
       "746    2016-02-18 06:00:00                     5.174911   \n",
       "15779  2018-02-19 11:59:59                     6.962200   \n",
       "822    2016-02-21 16:00:00                     6.217621   \n",
       "\n",
       "       final.output.concentrate_pb  final.output.concentrate_sol  \\\n",
       "746                      10.052502                      0.878757   \n",
       "15779                     9.492547                      8.849968   \n",
       "822                      12.101341                     10.505616   \n",
       "\n",
       "       final.output.concentrate_au  final.output.recovery  \\\n",
       "746                      45.387492              48.457717   \n",
       "15779                    42.781001              85.599596   \n",
       "822                      40.133280              75.456722   \n",
       "\n",
       "       final.output.tail_ag  final.output.tail_pb  final.output.tail_sol  \\\n",
       "746               11.348603              1.339284               9.329042   \n",
       "15779             10.177961              0.632094              12.826802   \n",
       "822               13.610811              2.520647               8.083634   \n",
       "\n",
       "       final.output.tail_au  ...  secondary_cleaner.state.floatbank4_a_air  \\\n",
       "746                2.762683  ...                                 18.013293   \n",
       "15779              1.346970  ...                                 19.980553   \n",
       "822                3.191058  ...                                 11.931964   \n",
       "\n",
       "       secondary_cleaner.state.floatbank4_a_level  \\\n",
       "746                                   -500.807629   \n",
       "15779                                 -500.728265   \n",
       "822                                   -400.564899   \n",
       "\n",
       "       secondary_cleaner.state.floatbank4_b_air  \\\n",
       "746                                   15.960071   \n",
       "15779                                 15.061789   \n",
       "822                                   10.119927   \n",
       "\n",
       "       secondary_cleaner.state.floatbank4_b_level  \\\n",
       "746                                   -498.559282   \n",
       "15779                                 -500.211871   \n",
       "822                                   -399.699247   \n",
       "\n",
       "       secondary_cleaner.state.floatbank5_a_air  \\\n",
       "746                                   15.981028   \n",
       "15779                                 10.983475   \n",
       "822                                    9.981872   \n",
       "\n",
       "       secondary_cleaner.state.floatbank5_a_level  \\\n",
       "746                                   -500.743773   \n",
       "15779                                 -500.307512   \n",
       "822                                   -401.047455   \n",
       "\n",
       "       secondary_cleaner.state.floatbank5_b_air  \\\n",
       "746                                   11.969354   \n",
       "15779                                  9.009618   \n",
       "822                                    8.008695   \n",
       "\n",
       "       secondary_cleaner.state.floatbank5_b_level  \\\n",
       "746                                   -500.391553   \n",
       "15779                                 -499.908101   \n",
       "822                                   -399.547018   \n",
       "\n",
       "       secondary_cleaner.state.floatbank6_a_air  \\\n",
       "746                                   26.993228   \n",
       "15779                                 10.953487   \n",
       "822                                   28.021031   \n",
       "\n",
       "       secondary_cleaner.state.floatbank6_a_level  \n",
       "746                                   -499.643476  \n",
       "15779                                 -500.740903  \n",
       "822                                   -400.002828  \n",
       "\n",
       "[3 rows x 87 columns]"
      ]
     },
     "metadata": {},
     "output_type": "display_data"
    },
    {
     "name": "stdout",
     "output_type": "stream",
     "text": [
      "\n",
      "<class 'pandas.core.frame.DataFrame'>\n",
      "RangeIndex: 19439 entries, 0 to 19438\n",
      "Data columns (total 87 columns):\n",
      " #   Column                                              Non-Null Count  Dtype  \n",
      "---  ------                                              --------------  -----  \n",
      " 0   date                                                19439 non-null  object \n",
      " 1   final.output.concentrate_ag                         19438 non-null  float64\n",
      " 2   final.output.concentrate_pb                         19438 non-null  float64\n",
      " 3   final.output.concentrate_sol                        19228 non-null  float64\n",
      " 4   final.output.concentrate_au                         19439 non-null  float64\n",
      " 5   final.output.recovery                               19439 non-null  float64\n",
      " 6   final.output.tail_ag                                19438 non-null  float64\n",
      " 7   final.output.tail_pb                                19338 non-null  float64\n",
      " 8   final.output.tail_sol                               19433 non-null  float64\n",
      " 9   final.output.tail_au                                19439 non-null  float64\n",
      " 10  primary_cleaner.input.sulfate                       19415 non-null  float64\n",
      " 11  primary_cleaner.input.depressant                    19402 non-null  float64\n",
      " 12  primary_cleaner.input.feed_size                     19439 non-null  float64\n",
      " 13  primary_cleaner.input.xanthate                      19335 non-null  float64\n",
      " 14  primary_cleaner.output.concentrate_ag               19439 non-null  float64\n",
      " 15  primary_cleaner.output.concentrate_pb               19323 non-null  float64\n",
      " 16  primary_cleaner.output.concentrate_sol              19069 non-null  float64\n",
      " 17  primary_cleaner.output.concentrate_au               19439 non-null  float64\n",
      " 18  primary_cleaner.output.tail_ag                      19435 non-null  float64\n",
      " 19  primary_cleaner.output.tail_pb                      19418 non-null  float64\n",
      " 20  primary_cleaner.output.tail_sol                     19377 non-null  float64\n",
      " 21  primary_cleaner.output.tail_au                      19439 non-null  float64\n",
      " 22  primary_cleaner.state.floatbank8_a_air              19435 non-null  float64\n",
      " 23  primary_cleaner.state.floatbank8_a_level            19438 non-null  float64\n",
      " 24  primary_cleaner.state.floatbank8_b_air              19435 non-null  float64\n",
      " 25  primary_cleaner.state.floatbank8_b_level            19438 non-null  float64\n",
      " 26  primary_cleaner.state.floatbank8_c_air              19437 non-null  float64\n",
      " 27  primary_cleaner.state.floatbank8_c_level            19438 non-null  float64\n",
      " 28  primary_cleaner.state.floatbank8_d_air              19436 non-null  float64\n",
      " 29  primary_cleaner.state.floatbank8_d_level            19438 non-null  float64\n",
      " 30  rougher.calculation.sulfate_to_au_concentrate       19437 non-null  float64\n",
      " 31  rougher.calculation.floatbank10_sulfate_to_au_feed  19437 non-null  float64\n",
      " 32  rougher.calculation.floatbank11_sulfate_to_au_feed  19437 non-null  float64\n",
      " 33  rougher.calculation.au_pb_ratio                     19439 non-null  float64\n",
      " 34  rougher.input.feed_ag                               19439 non-null  float64\n",
      " 35  rougher.input.feed_pb                               19339 non-null  float64\n",
      " 36  rougher.input.feed_rate                             19428 non-null  float64\n",
      " 37  rougher.input.feed_size                             19294 non-null  float64\n",
      " 38  rougher.input.feed_sol                              19340 non-null  float64\n",
      " 39  rougher.input.feed_au                               19439 non-null  float64\n",
      " 40  rougher.input.floatbank10_sulfate                   19405 non-null  float64\n",
      " 41  rougher.input.floatbank10_xanthate                  19431 non-null  float64\n",
      " 42  rougher.input.floatbank11_sulfate                   19395 non-null  float64\n",
      " 43  rougher.input.floatbank11_xanthate                  18986 non-null  float64\n",
      " 44  rougher.output.concentrate_ag                       19439 non-null  float64\n",
      " 45  rougher.output.concentrate_pb                       19439 non-null  float64\n",
      " 46  rougher.output.concentrate_sol                      19416 non-null  float64\n",
      " 47  rougher.output.concentrate_au                       19439 non-null  float64\n",
      " 48  rougher.output.recovery                             19439 non-null  float64\n",
      " 49  rougher.output.tail_ag                              19438 non-null  float64\n",
      " 50  rougher.output.tail_pb                              19439 non-null  float64\n",
      " 51  rougher.output.tail_sol                             19439 non-null  float64\n",
      " 52  rougher.output.tail_au                              19439 non-null  float64\n",
      " 53  rougher.state.floatbank10_a_air                     19438 non-null  float64\n",
      " 54  rougher.state.floatbank10_a_level                   19438 non-null  float64\n",
      " 55  rougher.state.floatbank10_b_air                     19438 non-null  float64\n",
      " 56  rougher.state.floatbank10_b_level                   19438 non-null  float64\n",
      " 57  rougher.state.floatbank10_c_air                     19438 non-null  float64\n",
      " 58  rougher.state.floatbank10_c_level                   19438 non-null  float64\n",
      " 59  rougher.state.floatbank10_d_air                     19439 non-null  float64\n",
      " 60  rougher.state.floatbank10_d_level                   19439 non-null  float64\n",
      " 61  rougher.state.floatbank10_e_air                     19003 non-null  float64\n",
      " 62  rougher.state.floatbank10_e_level                   19439 non-null  float64\n",
      " 63  rougher.state.floatbank10_f_air                     19439 non-null  float64\n",
      " 64  rougher.state.floatbank10_f_level                   19439 non-null  float64\n",
      " 65  secondary_cleaner.output.tail_ag                    19437 non-null  float64\n",
      " 66  secondary_cleaner.output.tail_pb                    19427 non-null  float64\n",
      " 67  secondary_cleaner.output.tail_sol                   17691 non-null  float64\n",
      " 68  secondary_cleaner.output.tail_au                    19439 non-null  float64\n",
      " 69  secondary_cleaner.state.floatbank2_a_air            19219 non-null  float64\n",
      " 70  secondary_cleaner.state.floatbank2_a_level          19438 non-null  float64\n",
      " 71  secondary_cleaner.state.floatbank2_b_air            19416 non-null  float64\n",
      " 72  secondary_cleaner.state.floatbank2_b_level          19438 non-null  float64\n",
      " 73  secondary_cleaner.state.floatbank3_a_air            19426 non-null  float64\n",
      " 74  secondary_cleaner.state.floatbank3_a_level          19438 non-null  float64\n",
      " 75  secondary_cleaner.state.floatbank3_b_air            19438 non-null  float64\n",
      " 76  secondary_cleaner.state.floatbank3_b_level          19438 non-null  float64\n",
      " 77  secondary_cleaner.state.floatbank4_a_air            19433 non-null  float64\n",
      " 78  secondary_cleaner.state.floatbank4_a_level          19438 non-null  float64\n",
      " 79  secondary_cleaner.state.floatbank4_b_air            19438 non-null  float64\n",
      " 80  secondary_cleaner.state.floatbank4_b_level          19438 non-null  float64\n",
      " 81  secondary_cleaner.state.floatbank5_a_air            19438 non-null  float64\n",
      " 82  secondary_cleaner.state.floatbank5_a_level          19438 non-null  float64\n",
      " 83  secondary_cleaner.state.floatbank5_b_air            19438 non-null  float64\n",
      " 84  secondary_cleaner.state.floatbank5_b_level          19438 non-null  float64\n",
      " 85  secondary_cleaner.state.floatbank6_a_air            19437 non-null  float64\n",
      " 86  secondary_cleaner.state.floatbank6_a_level          19438 non-null  float64\n",
      "dtypes: float64(86), object(1)\n",
      "memory usage: 12.9+ MB\n",
      "\n",
      "Явных дубликатов -  0\n",
      "\n",
      "Количество пропусков \n",
      " date                                           0\n",
      "rougher.state.floatbank10_f_level              0\n",
      "rougher.output.concentrate_pb                  0\n",
      "rougher.state.floatbank10_f_air                0\n",
      "rougher.state.floatbank10_e_level              0\n",
      "                                            ... \n",
      "secondary_cleaner.state.floatbank2_a_air     220\n",
      "primary_cleaner.output.concentrate_sol       370\n",
      "rougher.state.floatbank10_e_air              436\n",
      "rougher.input.floatbank11_xanthate           453\n",
      "secondary_cleaner.output.tail_sol           1748\n",
      "Length: 87, dtype: int64\n"
     ]
    }
   ],
   "source": [
    "for data in datas:\n",
    "    display(data.sample(3))\n",
    "    print()\n",
    "    data.info()\n",
    "    print()\n",
    "    print(\"Явных дубликатов - \", data.duplicated().sum())\n",
    "    print()\n",
    "    print(\"Количество пропусков \\n\", data.isna().sum().sort_values())"
   ]
  },
  {
   "cell_type": "markdown",
   "metadata": {},
   "source": [
    "- Явных дубликатов в данных нет\n",
    "- Пропущенные значения имеются во всех трех таблицах, но их количество относительно невелико\n",
    "- В тестовой выборке отсутствует 34 столбца с параметрами, которые замеряются/рассчитываются позже\n",
    "\n",
    "### Проверка правильности расчета эффективности обогащения\n",
    "\n",
    "Необходимо вычислить эффективность обогащения на обучающей выборке для признака **rougher.output.recovery**, найти MAE между расчётами и значением признака.\n",
    "\n",
    "Для расчета нам понадобятся данные из столбцов *rougher.output.recovery, rougher.output.concentrate_au, rougher.input.feed_au, rougher.output.tail_au* обучающей выборки. Для расчетов создадим новый фрейм с этими данными, удалим строки с пропущенными значениями, создадим столбец с результатами наших расчетов и найдем значение МАЕ:"
   ]
  },
  {
   "cell_type": "code",
   "execution_count": 4,
   "metadata": {},
   "outputs": [
    {
     "name": "stdout",
     "output_type": "stream",
     "text": [
      "МАЕ между нашими расчетными значениями и значениями признака ~ 0.00000000000000974\n"
     ]
    }
   ],
   "source": [
    "data_recovery = data_train[['rougher.output.recovery',\n",
    "                           'rougher.output.concentrate_au',\n",
    "                           'rougher.input.feed_au',\n",
    "                           'rougher.output.tail_au']]\n",
    "data_recovery.dropna(inplace=True) # избавимся от пропусков\n",
    "\n",
    "C = data_recovery['rougher.output.concentrate_au'] # используем имена переменных согласно формуле\n",
    "F = data_recovery['rougher.input.feed_au']\n",
    "T = data_recovery['rougher.output.tail_au']\n",
    "\n",
    "data_recovery['rougher.output.recovery_calc'] = (C * (F - T)) / (F * (C - T)) * 100\n",
    "\n",
    "mae = mean_absolute_error(data_recovery['rougher.output.recovery'], data_recovery['rougher.output.recovery_calc'])\n",
    "print(f\"МАЕ между нашими расчетными значениями и значениями признака ~ {mae:.17f}\" ) # без \"е\" нагляднее "
   ]
  },
  {
   "cell_type": "markdown",
   "metadata": {},
   "source": [
    "Средняя абсолютная ошибка МАЕ расчетов эффективности обогащения ничтожно мала, значит расчеты *recovery* выполнены верно.\n",
    "\n",
    "### Отсутствующие признаки в тестовой выборке"
   ]
  },
  {
   "cell_type": "code",
   "execution_count": 5,
   "metadata": {
    "scrolled": true
   },
   "outputs": [
    {
     "data": {
      "text/plain": [
       "{'final.output.concentrate_ag',\n",
       " 'final.output.concentrate_au',\n",
       " 'final.output.concentrate_pb',\n",
       " 'final.output.concentrate_sol',\n",
       " 'final.output.recovery',\n",
       " 'final.output.tail_ag',\n",
       " 'final.output.tail_au',\n",
       " 'final.output.tail_pb',\n",
       " 'final.output.tail_sol',\n",
       " 'primary_cleaner.output.concentrate_ag',\n",
       " 'primary_cleaner.output.concentrate_au',\n",
       " 'primary_cleaner.output.concentrate_pb',\n",
       " 'primary_cleaner.output.concentrate_sol',\n",
       " 'primary_cleaner.output.tail_ag',\n",
       " 'primary_cleaner.output.tail_au',\n",
       " 'primary_cleaner.output.tail_pb',\n",
       " 'primary_cleaner.output.tail_sol',\n",
       " 'rougher.calculation.au_pb_ratio',\n",
       " 'rougher.calculation.floatbank10_sulfate_to_au_feed',\n",
       " 'rougher.calculation.floatbank11_sulfate_to_au_feed',\n",
       " 'rougher.calculation.sulfate_to_au_concentrate',\n",
       " 'rougher.output.concentrate_ag',\n",
       " 'rougher.output.concentrate_au',\n",
       " 'rougher.output.concentrate_pb',\n",
       " 'rougher.output.concentrate_sol',\n",
       " 'rougher.output.recovery',\n",
       " 'rougher.output.tail_ag',\n",
       " 'rougher.output.tail_au',\n",
       " 'rougher.output.tail_pb',\n",
       " 'rougher.output.tail_sol',\n",
       " 'secondary_cleaner.output.tail_ag',\n",
       " 'secondary_cleaner.output.tail_au',\n",
       " 'secondary_cleaner.output.tail_pb',\n",
       " 'secondary_cleaner.output.tail_sol'}"
      ]
     },
     "metadata": {},
     "output_type": "display_data"
    },
    {
     "data": {
      "text/plain": [
       "34"
      ]
     },
     "metadata": {},
     "output_type": "display_data"
    }
   ],
   "source": [
    "columns_not_in_test = set(data_train.columns) - set(data_test.columns)\n",
    "display(columns_not_in_test, len(columns_not_in_test))"
   ]
  },
  {
   "cell_type": "markdown",
   "metadata": {},
   "source": [
    "- Отсутствующие признаки - это выходные параметры материалов после определенных этапов технологического процесса\n",
    "- Из 34 отсутствующих признаков, 30 относятся к результатам замеров и только 4 к расчетным характеристикам\n",
    "- Отсутствует 2 целевых признака **final.output.recovery** и **rougher.output.recovery**\n",
    "\n",
    "### Предобработка данных\n",
    "\n",
    "Для проведения последующего анализа данных необходимо:\n",
    "- тестовую выборку дополнить столбцами с целевыми признаками final.output.recovery и rougher.output.recovery\n",
    "- сократить обучающую выборку, удалив отсутствующие в тестовой выборке признаки\n",
    "- заполнить пропуски в обучающей и тестовой выборках"
   ]
  },
  {
   "cell_type": "code",
   "execution_count": 6,
   "metadata": {
    "scrolled": true
   },
   "outputs": [
    {
     "name": "stdout",
     "output_type": "stream",
     "text": [
      "Размер обучающей выборки  (14149, 55) \n",
      "Размер тестовой выборки  (5290, 55)\n"
     ]
    }
   ],
   "source": [
    "# методом .merge дополним тестовую выборку целевыми признаками\n",
    "data_test_new = data_test.merge(right = data_full[['final.output.recovery','date']], how='left', on='date')\n",
    "data_test_new = data_test_new.merge(right = data_full[['rougher.output.recovery','date']], how='left', on='date')\n",
    "\n",
    "# оставим в обучающей выборке колонки, которые присутствуют в тестовой\n",
    "data_train_new = data_train[list(data_test_new.columns)]\n",
    "print(\"Размер обучающей выборки \", data_train_new.shape, \"\\nРазмер тестовой выборки \", data_test_new.shape)\n"
   ]
  },
  {
   "cell_type": "markdown",
   "metadata": {},
   "source": [
    "Поскольку данные индексируются датой и временем получения информации (признак date), а соседние по времени параметры часто похожи, пропуски в выборках можно заменить на предыдущие по времени значения:"
   ]
  },
  {
   "cell_type": "code",
   "execution_count": 7,
   "metadata": {
    "scrolled": true
   },
   "outputs": [
    {
     "name": "stdout",
     "output_type": "stream",
     "text": [
      "<class 'pandas.core.frame.DataFrame'>\n",
      "RangeIndex: 14149 entries, 0 to 14148\n",
      "Data columns (total 55 columns):\n",
      " #   Column                                      Non-Null Count  Dtype  \n",
      "---  ------                                      --------------  -----  \n",
      " 0   date                                        14149 non-null  object \n",
      " 1   primary_cleaner.input.sulfate               14149 non-null  float64\n",
      " 2   primary_cleaner.input.depressant            14149 non-null  float64\n",
      " 3   primary_cleaner.input.feed_size             14149 non-null  float64\n",
      " 4   primary_cleaner.input.xanthate              14149 non-null  float64\n",
      " 5   primary_cleaner.state.floatbank8_a_air      14149 non-null  float64\n",
      " 6   primary_cleaner.state.floatbank8_a_level    14149 non-null  float64\n",
      " 7   primary_cleaner.state.floatbank8_b_air      14149 non-null  float64\n",
      " 8   primary_cleaner.state.floatbank8_b_level    14149 non-null  float64\n",
      " 9   primary_cleaner.state.floatbank8_c_air      14149 non-null  float64\n",
      " 10  primary_cleaner.state.floatbank8_c_level    14149 non-null  float64\n",
      " 11  primary_cleaner.state.floatbank8_d_air      14149 non-null  float64\n",
      " 12  primary_cleaner.state.floatbank8_d_level    14149 non-null  float64\n",
      " 13  rougher.input.feed_ag                       14149 non-null  float64\n",
      " 14  rougher.input.feed_pb                       14149 non-null  float64\n",
      " 15  rougher.input.feed_rate                     14149 non-null  float64\n",
      " 16  rougher.input.feed_size                     14149 non-null  float64\n",
      " 17  rougher.input.feed_sol                      14149 non-null  float64\n",
      " 18  rougher.input.feed_au                       14149 non-null  float64\n",
      " 19  rougher.input.floatbank10_sulfate           14149 non-null  float64\n",
      " 20  rougher.input.floatbank10_xanthate          14149 non-null  float64\n",
      " 21  rougher.input.floatbank11_sulfate           14149 non-null  float64\n",
      " 22  rougher.input.floatbank11_xanthate          14149 non-null  float64\n",
      " 23  rougher.state.floatbank10_a_air             14149 non-null  float64\n",
      " 24  rougher.state.floatbank10_a_level           14149 non-null  float64\n",
      " 25  rougher.state.floatbank10_b_air             14149 non-null  float64\n",
      " 26  rougher.state.floatbank10_b_level           14149 non-null  float64\n",
      " 27  rougher.state.floatbank10_c_air             14149 non-null  float64\n",
      " 28  rougher.state.floatbank10_c_level           14149 non-null  float64\n",
      " 29  rougher.state.floatbank10_d_air             14149 non-null  float64\n",
      " 30  rougher.state.floatbank10_d_level           14149 non-null  float64\n",
      " 31  rougher.state.floatbank10_e_air             14149 non-null  float64\n",
      " 32  rougher.state.floatbank10_e_level           14149 non-null  float64\n",
      " 33  rougher.state.floatbank10_f_air             14149 non-null  float64\n",
      " 34  rougher.state.floatbank10_f_level           14149 non-null  float64\n",
      " 35  secondary_cleaner.state.floatbank2_a_air    14149 non-null  float64\n",
      " 36  secondary_cleaner.state.floatbank2_a_level  14149 non-null  float64\n",
      " 37  secondary_cleaner.state.floatbank2_b_air    14149 non-null  float64\n",
      " 38  secondary_cleaner.state.floatbank2_b_level  14149 non-null  float64\n",
      " 39  secondary_cleaner.state.floatbank3_a_air    14149 non-null  float64\n",
      " 40  secondary_cleaner.state.floatbank3_a_level  14149 non-null  float64\n",
      " 41  secondary_cleaner.state.floatbank3_b_air    14149 non-null  float64\n",
      " 42  secondary_cleaner.state.floatbank3_b_level  14149 non-null  float64\n",
      " 43  secondary_cleaner.state.floatbank4_a_air    14149 non-null  float64\n",
      " 44  secondary_cleaner.state.floatbank4_a_level  14149 non-null  float64\n",
      " 45  secondary_cleaner.state.floatbank4_b_air    14149 non-null  float64\n",
      " 46  secondary_cleaner.state.floatbank4_b_level  14149 non-null  float64\n",
      " 47  secondary_cleaner.state.floatbank5_a_air    14149 non-null  float64\n",
      " 48  secondary_cleaner.state.floatbank5_a_level  14149 non-null  float64\n",
      " 49  secondary_cleaner.state.floatbank5_b_air    14149 non-null  float64\n",
      " 50  secondary_cleaner.state.floatbank5_b_level  14149 non-null  float64\n",
      " 51  secondary_cleaner.state.floatbank6_a_air    14149 non-null  float64\n",
      " 52  secondary_cleaner.state.floatbank6_a_level  14149 non-null  float64\n",
      " 53  final.output.recovery                       14149 non-null  float64\n",
      " 54  rougher.output.recovery                     14149 non-null  float64\n",
      "dtypes: float64(54), object(1)\n",
      "memory usage: 5.9+ MB\n",
      "<class 'pandas.core.frame.DataFrame'>\n",
      "Int64Index: 5290 entries, 0 to 5289\n",
      "Data columns (total 55 columns):\n",
      " #   Column                                      Non-Null Count  Dtype  \n",
      "---  ------                                      --------------  -----  \n",
      " 0   date                                        5290 non-null   object \n",
      " 1   primary_cleaner.input.sulfate               5290 non-null   float64\n",
      " 2   primary_cleaner.input.depressant            5290 non-null   float64\n",
      " 3   primary_cleaner.input.feed_size             5290 non-null   float64\n",
      " 4   primary_cleaner.input.xanthate              5290 non-null   float64\n",
      " 5   primary_cleaner.state.floatbank8_a_air      5290 non-null   float64\n",
      " 6   primary_cleaner.state.floatbank8_a_level    5290 non-null   float64\n",
      " 7   primary_cleaner.state.floatbank8_b_air      5290 non-null   float64\n",
      " 8   primary_cleaner.state.floatbank8_b_level    5290 non-null   float64\n",
      " 9   primary_cleaner.state.floatbank8_c_air      5290 non-null   float64\n",
      " 10  primary_cleaner.state.floatbank8_c_level    5290 non-null   float64\n",
      " 11  primary_cleaner.state.floatbank8_d_air      5290 non-null   float64\n",
      " 12  primary_cleaner.state.floatbank8_d_level    5290 non-null   float64\n",
      " 13  rougher.input.feed_ag                       5290 non-null   float64\n",
      " 14  rougher.input.feed_pb                       5290 non-null   float64\n",
      " 15  rougher.input.feed_rate                     5290 non-null   float64\n",
      " 16  rougher.input.feed_size                     5290 non-null   float64\n",
      " 17  rougher.input.feed_sol                      5290 non-null   float64\n",
      " 18  rougher.input.feed_au                       5290 non-null   float64\n",
      " 19  rougher.input.floatbank10_sulfate           5290 non-null   float64\n",
      " 20  rougher.input.floatbank10_xanthate          5290 non-null   float64\n",
      " 21  rougher.input.floatbank11_sulfate           5290 non-null   float64\n",
      " 22  rougher.input.floatbank11_xanthate          5290 non-null   float64\n",
      " 23  rougher.state.floatbank10_a_air             5290 non-null   float64\n",
      " 24  rougher.state.floatbank10_a_level           5290 non-null   float64\n",
      " 25  rougher.state.floatbank10_b_air             5290 non-null   float64\n",
      " 26  rougher.state.floatbank10_b_level           5290 non-null   float64\n",
      " 27  rougher.state.floatbank10_c_air             5290 non-null   float64\n",
      " 28  rougher.state.floatbank10_c_level           5290 non-null   float64\n",
      " 29  rougher.state.floatbank10_d_air             5290 non-null   float64\n",
      " 30  rougher.state.floatbank10_d_level           5290 non-null   float64\n",
      " 31  rougher.state.floatbank10_e_air             5290 non-null   float64\n",
      " 32  rougher.state.floatbank10_e_level           5290 non-null   float64\n",
      " 33  rougher.state.floatbank10_f_air             5290 non-null   float64\n",
      " 34  rougher.state.floatbank10_f_level           5290 non-null   float64\n",
      " 35  secondary_cleaner.state.floatbank2_a_air    5290 non-null   float64\n",
      " 36  secondary_cleaner.state.floatbank2_a_level  5290 non-null   float64\n",
      " 37  secondary_cleaner.state.floatbank2_b_air    5290 non-null   float64\n",
      " 38  secondary_cleaner.state.floatbank2_b_level  5290 non-null   float64\n",
      " 39  secondary_cleaner.state.floatbank3_a_air    5290 non-null   float64\n",
      " 40  secondary_cleaner.state.floatbank3_a_level  5290 non-null   float64\n",
      " 41  secondary_cleaner.state.floatbank3_b_air    5290 non-null   float64\n",
      " 42  secondary_cleaner.state.floatbank3_b_level  5290 non-null   float64\n",
      " 43  secondary_cleaner.state.floatbank4_a_air    5290 non-null   float64\n",
      " 44  secondary_cleaner.state.floatbank4_a_level  5290 non-null   float64\n",
      " 45  secondary_cleaner.state.floatbank4_b_air    5290 non-null   float64\n",
      " 46  secondary_cleaner.state.floatbank4_b_level  5290 non-null   float64\n",
      " 47  secondary_cleaner.state.floatbank5_a_air    5290 non-null   float64\n",
      " 48  secondary_cleaner.state.floatbank5_a_level  5290 non-null   float64\n",
      " 49  secondary_cleaner.state.floatbank5_b_air    5290 non-null   float64\n",
      " 50  secondary_cleaner.state.floatbank5_b_level  5290 non-null   float64\n",
      " 51  secondary_cleaner.state.floatbank6_a_air    5290 non-null   float64\n",
      " 52  secondary_cleaner.state.floatbank6_a_level  5290 non-null   float64\n",
      " 53  final.output.recovery                       5290 non-null   float64\n",
      " 54  rougher.output.recovery                     5290 non-null   float64\n",
      "dtypes: float64(54), object(1)\n",
      "memory usage: 2.3+ MB\n"
     ]
    }
   ],
   "source": [
    "data_train_new = data_train_new.fillna(method='ffill')\n",
    "data_test_new = data_test_new.fillna(method='ffill')\n",
    "data_train_new.info()\n",
    "data_test_new.info()"
   ]
  },
  {
   "cell_type": "markdown",
   "metadata": {},
   "source": [
    "Итоговые выборки не имеют пропущенных значений, количество признаков в обеих выборках совпадает, данные готовы для дальнейшего исследования."
   ]
  },
  {
   "cell_type": "markdown",
   "metadata": {},
   "source": [
    "## Анализ данных\n",
    "\n",
    "### Изменение концентрация металлов (Au, Ag, Pb) на различных этапах очистки\n",
    "\n",
    "Создадим отдельные выборки по указанным металлам и построим для каждого из них гистограммы, визуализирующие изменения концентрации на каждом этапе очистки:"
   ]
  },
  {
   "cell_type": "code",
   "execution_count": 8,
   "metadata": {},
   "outputs": [
    {
     "data": {
      "image/png": "[encoded data removed]",
      "text/plain": [
       "<Figure size 432x432 with 1 Axes>"
      ]
     },
     "metadata": {
      "needs_background": "light"
     },
     "output_type": "display_data"
    }
   ],
   "source": [
    "concentration_au = data_full[['rougher.output.concentrate_au',\n",
    "                              'primary_cleaner.output.concentrate_au',\n",
    "                              'final.output.concentrate_au']]\n",
    "sns.catplot(data = concentration_au, height = 6, kind = 'box').set_xticklabels(\n",
    "    ['Флоатация', 'Первичная очистка', 'Вторичная очистка'], fontsize=11)\n",
    "\n",
    "plt.title(\"Изменение концентрации золота (au)\", fontsize = 18) \n",
    "plt.show()"
   ]
  },
  {
   "cell_type": "code",
   "execution_count": 9,
   "metadata": {},
   "outputs": [
    {
     "data": {
      "image/png": "[encoded data removed]",
      "text/plain": [
       "<Figure size 432x432 with 1 Axes>"
      ]
     },
     "metadata": {
      "needs_background": "light"
     },
     "output_type": "display_data"
    }
   ],
   "source": [
    "concentration_ag = data_full[['rougher.output.concentrate_ag',\n",
    "                              'primary_cleaner.output.concentrate_ag',\n",
    "                              'final.output.concentrate_ag']]\n",
    "sns.catplot(data = concentration_ag, height = 6, kind = 'box').set_xticklabels(\n",
    "    ['Флоатация', 'Первичная очистка', 'Вторичная очистка'], fontsize=11)\n",
    "\n",
    "plt.title(\"Изменение концентрации серебра (ag)\", fontsize = 18) \n",
    "plt.show()"
   ]
  },
  {
   "cell_type": "code",
   "execution_count": 10,
   "metadata": {
    "scrolled": false
   },
   "outputs": [
    {
     "data": {
      "image/png": "[encoded data removed]",
      "text/plain": [
       "<Figure size 432x432 with 1 Axes>"
      ]
     },
     "metadata": {
      "needs_background": "light"
     },
     "output_type": "display_data"
    }
   ],
   "source": [
    "concentration_pb = data_full[['rougher.output.concentrate_pb',\n",
    "                              'primary_cleaner.output.concentrate_pb',\n",
    "                              'final.output.concentrate_pb']]\n",
    "sns.catplot(data = concentration_pb, height = 6, kind = 'box').set_xticklabels(\n",
    "    ['Флоатация', 'Первичная очистка', 'Вторичная очистка'], fontsize=11)\n",
    "\n",
    "plt.title(\"Изменение концентрации свинца (pb)\", fontsize = 18) \n",
    "plt.show()"
   ]
  },
  {
   "cell_type": "markdown",
   "metadata": {},
   "source": [
    "**ВЫВОД:**\n",
    "- **Золото**: с каждым последующим этапом очистки концентрация золота увеличивается, что логично для исследуемого техпроцесса\n",
    "- **Серебро**: с каждым последующим этапом очистки концентрация серебра уменьшается, уменьшается и разброс значений, но при этом остается большое корличество выбросов\n",
    "- **Свинец**: после этапа первичной очистки концентрация свинца увеличивается и остается такой до финальной стадии, при этом, также как и с серебром, разброс значений уменьшается, сохранятеся большое количество выбросов"
   ]
  },
  {
   "cell_type": "markdown",
   "metadata": {},
   "source": [
    "### Сравнение распределения размеров гранул сырья на обучающей и тестовой выборках"
   ]
  },
  {
   "cell_type": "markdown",
   "metadata": {},
   "source": [
    "Создадим таблицу из значений с размерами гранул сырья обучающей и тестовой выборки, сравним их статистические данные и для наглядности распределения размеров гранул построим графики:"
   ]
  },
  {
   "cell_type": "code",
   "execution_count": 11,
   "metadata": {},
   "outputs": [
    {
     "data": {
      "text/html": [
       "<div>\n",
       "<style scoped>\n",
       "    .dataframe tbody tr th:only-of-type {\n",
       "        vertical-align: middle;\n",
       "    }\n",
       "\n",
       "    .dataframe tbody tr th {\n",
       "        vertical-align: top;\n",
       "    }\n",
       "\n",
       "    .dataframe thead th {\n",
       "        text-align: right;\n",
       "    }\n",
       "</style>\n",
       "<table border=\"1\" class=\"dataframe\">\n",
       "  <thead>\n",
       "    <tr style=\"text-align: right;\">\n",
       "      <th></th>\n",
       "      <th>rougher.input.feed_size</th>\n",
       "      <th>rougher.input.feed_size</th>\n",
       "    </tr>\n",
       "  </thead>\n",
       "  <tbody>\n",
       "    <tr>\n",
       "      <th>count</th>\n",
       "      <td>14149.000000</td>\n",
       "      <td>5290.000000</td>\n",
       "    </tr>\n",
       "    <tr>\n",
       "      <th>mean</th>\n",
       "      <td>60.239856</td>\n",
       "      <td>55.952754</td>\n",
       "    </tr>\n",
       "    <tr>\n",
       "      <th>std</th>\n",
       "      <td>23.005310</td>\n",
       "      <td>19.080334</td>\n",
       "    </tr>\n",
       "    <tr>\n",
       "      <th>min</th>\n",
       "      <td>9.659576</td>\n",
       "      <td>0.046369</td>\n",
       "    </tr>\n",
       "    <tr>\n",
       "      <th>25%</th>\n",
       "      <td>48.966751</td>\n",
       "      <td>43.906504</td>\n",
       "    </tr>\n",
       "    <tr>\n",
       "      <th>50%</th>\n",
       "      <td>55.269784</td>\n",
       "      <td>50.846843</td>\n",
       "    </tr>\n",
       "    <tr>\n",
       "      <th>75%</th>\n",
       "      <td>66.007526</td>\n",
       "      <td>62.451165</td>\n",
       "    </tr>\n",
       "    <tr>\n",
       "      <th>max</th>\n",
       "      <td>484.967466</td>\n",
       "      <td>392.494040</td>\n",
       "    </tr>\n",
       "  </tbody>\n",
       "</table>\n",
       "</div>"
      ],
      "text/plain": [
       "       rougher.input.feed_size  rougher.input.feed_size\n",
       "count             14149.000000              5290.000000\n",
       "mean                 60.239856                55.952754\n",
       "std                  23.005310                19.080334\n",
       "min                   9.659576                 0.046369\n",
       "25%                  48.966751                43.906504\n",
       "50%                  55.269784                50.846843\n",
       "75%                  66.007526                62.451165\n",
       "max                 484.967466               392.494040"
      ]
     },
     "execution_count": 11,
     "metadata": {},
     "output_type": "execute_result"
    }
   ],
   "source": [
    "granule_size = pd.concat([data_train_new['rougher.input.feed_size'],\n",
    "                          data_test_new['rougher.input.feed_size']], axis=1) \n",
    "granule_size.describe()"
   ]
  },
  {
   "cell_type": "code",
   "execution_count": 12,
   "metadata": {},
   "outputs": [
    {
     "data": {
      "image/png": "[encoded data removed]",
      "text/plain": [
       "<Figure size 1139.38x360 with 1 Axes>"
      ]
     },
     "metadata": {
      "needs_background": "light"
     },
     "output_type": "display_data"
    }
   ],
   "source": [
    "granule_size.columns = ['train', 'test']\n",
    "sns.displot(granule_size, legend=True, kde=True, height=5, aspect=3)\n",
    "plt.title('Распределение размеров гранул сырья на обучающей и тестовой выборках', fontsize=20)\n",
    "plt.xlim([-100, 300])\n",
    "plt.show()"
   ]
  },
  {
   "cell_type": "markdown",
   "metadata": {},
   "source": [
    "**ВЫВОД**:\n",
    "- Распределения размеров гранул сырья на обучающей и тестовой выборках слабо отличаются, мы видим это по средним значениям, медианам и квартилям, так же наблюдаем на графиках, различия не должны влиять на оценку модели.\n",
    "\n",
    "###  Исследование суммарной концентрации всех веществ на разных стадиях: в сырье, в черновом и финальном концентратах."
   ]
  },
  {
   "cell_type": "markdown",
   "metadata": {},
   "source": [
    "Суммируем значения концентрации веществ (золота, серебра, свинца и солей) на разных стадиях: в сырье, в черновом и финальном концентратах, построим графики для каждого из этапов:"
   ]
  },
  {
   "cell_type": "code",
   "execution_count": 13,
   "metadata": {},
   "outputs": [],
   "source": [
    "data_full['raw_material'] = data_full[['rougher.input.feed_au',\n",
    "                              'rougher.input.feed_ag',\n",
    "                              'rougher.input.feed_pb',\n",
    "                              'rougher.input.feed_sol']].sum(axis=1)\n",
    "\n",
    "data_full['rougher_concentrate'] = data_full[['rougher.output.concentrate_au',\n",
    "                              'rougher.output.concentrate_ag',\n",
    "                              'rougher.output.concentrate_pb',\n",
    "                              'rougher.output.concentrate_sol']].sum(axis=1)\n",
    "\n",
    "data_full['final_concentrate'] = data_full[['final.output.concentrate_au',\n",
    "                              'final.output.concentrate_ag',\n",
    "                              'final.output.concentrate_pb',\n",
    "                              'final.output.concentrate_sol']].sum(axis=1)"
   ]
  },
  {
   "cell_type": "code",
   "execution_count": 14,
   "metadata": {},
   "outputs": [
    {
     "data": {
      "image/png": "[encoded data removed]",
      "text/plain": [
       "<Figure size 1004.25x576 with 1 Axes>"
      ]
     },
     "metadata": {
      "needs_background": "light"
     },
     "output_type": "display_data"
    }
   ],
   "source": [
    "sns.displot(data_full[['raw_material', 'rougher_concentrate', 'final_concentrate']],\n",
    "            legend=True, kde=True, height=8, aspect=1.5)  \n",
    "plt.title('Суммарная концентрация всех веществ на разных стадиях', fontsize=15)\n",
    "plt.show()"
   ]
  },
  {
   "cell_type": "markdown",
   "metadata": {},
   "source": [
    "На графике видна аномалия - суммарная концентрация веществ на разных этапах равна 0 либо близко к 0, физически такое невозможно ни на одном из этапов. Видимо значения с нулевой (или близкой) к нулевой суммарной концентрацией - это какие-то ошибки при сборе данных, т.е. мусор, от которого следует избавиться. \n",
    "\n",
    "Увеличим масштаб графика для определения границ выбросов:"
   ]
  },
  {
   "cell_type": "code",
   "execution_count": 15,
   "metadata": {},
   "outputs": [
    {
     "data": {
      "image/png": "[encoded data removed]",
      "text/plain": [
       "<Figure size 1004.25x576 with 1 Axes>"
      ]
     },
     "metadata": {
      "needs_background": "light"
     },
     "output_type": "display_data"
    }
   ],
   "source": [
    "sns.displot(data_full[['raw_material', 'rougher_concentrate', 'final_concentrate']],\n",
    "            legend=True, kde=True, height=8, aspect=1.5)  \n",
    "plt.title('Выбросы в данных о суммарной концентрации веществ', fontsize=15)\n",
    "plt.xlim([-10, 15])\n",
    "plt.ylim([0, 450])\n",
    "plt.show()"
   ]
  },
  {
   "cell_type": "code",
   "execution_count": 16,
   "metadata": {
    "scrolled": true
   },
   "outputs": [
    {
     "data": {
      "text/plain": [
       "508"
      ]
     },
     "execution_count": 16,
     "metadata": {},
     "output_type": "execute_result"
    }
   ],
   "source": [
    "sum_emissions = (len(data_full[data_full['raw_material'] <= 5]) +\n",
    "             len(data_full[data_full['rougher_concentrate'] <= 5]) + \n",
    "             len(data_full[data_full['final_concentrate'] <= 5]))\n",
    "sum_emissions"
   ]
  },
  {
   "cell_type": "markdown",
   "metadata": {},
   "source": [
    "Видно, что аномальные значения заканчиваются примерно на 5, всего в исходных данных таких значений 508. Эти значения следует удалить из обучающей и тестовой выборок, дабы качество будущей модели не пострадало от таких значений:"
   ]
  },
  {
   "cell_type": "code",
   "execution_count": 17,
   "metadata": {},
   "outputs": [],
   "source": [
    "data_full_good = data_full[(data_full['raw_material'] >  5) &\n",
    "                           (data_full['rougher_concentrate'] > 5) & \n",
    "                           (data_full['final_concentrate'] > 5)]"
   ]
  },
  {
   "cell_type": "markdown",
   "metadata": {},
   "source": [
    "Сделаем индексами столбец **date** для удаления выбросов из обучающей и тестовой выборок:"
   ]
  },
  {
   "cell_type": "code",
   "execution_count": 18,
   "metadata": {
    "scrolled": true
   },
   "outputs": [],
   "source": [
    "for data in [data_full_good, data_train_new, data_test_new]:\n",
    "    data.set_index('date')\n",
    "\n",
    "data_train_new = data_train_new[data_train_new['date'].isin(data_full_good['date'])]\n",
    "data_test_new = data_test_new[data_test_new['date'].isin(data_full_good['date'])]\n",
    "\n",
    "data_train_new.dropna(inplace=True) # удаляем пропуски\n",
    "data_test_new.dropna(inplace=True) "
   ]
  },
  {
   "cell_type": "markdown",
   "metadata": {},
   "source": [
    "**ВЫВОД:**\n",
    "- Исследование суммарной концентрации веществ показало, что в данных имелись явные выбросы\n",
    "- Избавились от этих значений в обучающей и тестовой выборке для улучшения качества модели"
   ]
  },
  {
   "cell_type": "markdown",
   "metadata": {},
   "source": [
    "## Модель"
   ]
  },
  {
   "cell_type": "markdown",
   "metadata": {},
   "source": [
    "### Функция для вычисления итоговой sMAPE"
   ]
  },
  {
   "cell_type": "code",
   "execution_count": 19,
   "metadata": {},
   "outputs": [],
   "source": [
    "def smape(target, predictions):\n",
    "    smape = ((1 / len(target)) * ((abs(predictions - target)) / ((abs(target) + abs(predictions)) / 2))).sum() * 100\n",
    "    return smape\n",
    "\n",
    "def total_smape (smape_rougher, smape_final):\n",
    "    total_smape = 0.25 * smape_rougher + 0.75 * smape_final\n",
    "    return total_smape"
   ]
  },
  {
   "cell_type": "markdown",
   "metadata": {},
   "source": [
    "###  Обучение моделей и оценка их качества кросс-валидацией"
   ]
  },
  {
   "cell_type": "markdown",
   "metadata": {},
   "source": [
    "Выделим признаки и целевые признаки (их 2) для обучающей и тестовой выборок, сохраним их в отдельные переменные:"
   ]
  },
  {
   "cell_type": "code",
   "execution_count": 20,
   "metadata": {},
   "outputs": [],
   "source": [
    "# train\n",
    "target_rougher_train = data_train_new['rougher.output.recovery']\n",
    "target_final_train = data_train_new['final.output.recovery']\n",
    "features_train = data_train_new.drop(['date', 'rougher.output.recovery', 'final.output.recovery'], axis=1)\n",
    "\n",
    "# test\n",
    "target_rougher_test = data_test_new['rougher.output.recovery']\n",
    "target_final_test = data_test_new['final.output.recovery']\n",
    "features_test = data_test_new.drop(['date', 'rougher.output.recovery', 'final.output.recovery'], axis=1)"
   ]
  },
  {
   "cell_type": "markdown",
   "metadata": {},
   "source": [
    "#### Линейная регрессия\n",
    "\n",
    "Проведем масштабирование признаков и обучим модель на обучающей выборке:"
   ]
  },
  {
   "cell_type": "code",
   "execution_count": 21,
   "metadata": {},
   "outputs": [],
   "source": [
    "numeric = features_train.columns\n",
    "scaler = StandardScaler()\n",
    "scaler.fit(features_train[numeric])\n",
    "features_train[numeric] = scaler.transform(features_train[numeric])\n",
    "features_test[numeric] = scaler.transform(features_test[numeric])"
   ]
  },
  {
   "cell_type": "code",
   "execution_count": 22,
   "metadata": {},
   "outputs": [
    {
     "name": "stdout",
     "output_type": "stream",
     "text": [
      "sMAPE для модели \"Линейной регрессии\" ~ 10.141\n"
     ]
    }
   ],
   "source": [
    "scorer = make_scorer(smape, greater_is_better=False) \n",
    "    \n",
    "cross_val_score_rougher = cross_val_score(LinearRegression(),\n",
    "                                          features_train,\n",
    "                                          target_rougher_train,\n",
    "                                          cv=4, scoring=scorer).mean()\n",
    "\n",
    "cross_val_score_final = cross_val_score(LinearRegression(),\n",
    "                                        features_train,\n",
    "                                        target_final_train,\n",
    "                                        cv=4, scoring=scorer).mean()\n",
    "\n",
    "total_smape_result = total_smape(cross_val_score_rougher, cross_val_score_final)\n",
    "\n",
    "print(f\"sMAPE для модели \\\"Линейной регрессии\\\" ~ {abs(total_smape_result):.3f}\")"
   ]
  },
  {
   "cell_type": "markdown",
   "metadata": {},
   "source": [
    "#### Дерево решений"
   ]
  },
  {
   "cell_type": "code",
   "execution_count": 23,
   "metadata": {},
   "outputs": [
    {
     "name": "stdout",
     "output_type": "stream",
     "text": [
      "sMAPE для модели \"Дерево решений\" ~ 14.829\n"
     ]
    }
   ],
   "source": [
    "cross_val_score_rougher = cross_val_score(DecisionTreeRegressor(random_state=12345),\n",
    "                                          features_train,\n",
    "                                          target_rougher_train,\n",
    "                                          cv=4, scoring=scorer).mean()\n",
    "\n",
    "cross_val_score_final = cross_val_score(DecisionTreeRegressor(random_state=12345),\n",
    "                                        features_train,\n",
    "                                        target_final_train,\n",
    "                                        cv=4, scoring=scorer).mean()\n",
    "\n",
    "total_smape_result = total_smape(cross_val_score_rougher, cross_val_score_final)\n",
    "\n",
    "print(f\"sMAPE для модели \\\"Дерево решений\\\" ~ {abs(total_smape_result):.3f}\")"
   ]
  },
  {
   "cell_type": "markdown",
   "metadata": {},
   "source": [
    "#### Случайный лес"
   ]
  },
  {
   "cell_type": "code",
   "execution_count": 24,
   "metadata": {},
   "outputs": [
    {
     "name": "stdout",
     "output_type": "stream",
     "text": [
      "sMAPE для модели \"Случайный лес\" ~ 9.377\n",
      "24\n",
      "2\n"
     ]
    }
   ],
   "source": [
    "best_est = 0\n",
    "best_depth = 0\n",
    "best_smape = 100\n",
    "for depth in range(2, 3): #сократил поиск прогнав заранее\n",
    "    \n",
    "    for estimator in range(24, 25):\n",
    "        \n",
    "        model = RandomForestRegressor(random_state=12345, \n",
    "                                       n_estimators=estimator, \n",
    "                                       max_depth=depth)\n",
    "        \n",
    "        scorer = make_scorer(smape, greater_is_better=False) \n",
    "    \n",
    "        cross_val_score_rougher = cross_val_score(model, features_train, target_rougher_train, cv=4, scoring=scorer).mean()\n",
    "        cross_val_score_final = cross_val_score(model, features_train, target_final_train, cv=4, scoring=scorer).mean()\n",
    "\n",
    "        total_smape_result = total_smape(cross_val_score_rougher, cross_val_score_final)\n",
    "        smape_n = abs(total_smape_result)\n",
    "        if smape_n < best_smape:\n",
    "            best_est = estimator\n",
    "            best_depth = depth\n",
    "        \n",
    "print(f\"sMAPE для модели \\\"Случайный лес\\\" ~ {abs(total_smape_result):.3f}\")\n",
    "print(best_est)\n",
    "print(best_depth)"
   ]
  },
  {
   "cell_type": "markdown",
   "metadata": {},
   "source": [
    "Модель \"Случайный лес\" с параметрами n_estimators = 24, max_depth = 2 показала лучший результат по метрике sMAPE. Используем эту модель с указанными гиперпараметрами для тестовой выборки:"
   ]
  },
  {
   "cell_type": "code",
   "execution_count": 25,
   "metadata": {},
   "outputs": [
    {
     "name": "stdout",
     "output_type": "stream",
     "text": [
      "sMAPE для модели \"Случайный лес\\ на тестовой выборке ~ 6.986\n"
     ]
    }
   ],
   "source": [
    "model_final = RandomForestRegressor(random_state=12345, \n",
    "                                       n_estimators=24, \n",
    "                                       max_depth=2)\n",
    "\n",
    "model_final.fit(features_train, target_rougher_train)\n",
    "predictions_rougher = model_final.predict(features_test)\n",
    "\n",
    "model_final.fit(features_train, target_final_train)\n",
    "predictions_final = model_final.predict(features_test)\n",
    "\n",
    "smape_rougher = smape(target_rougher_test, predictions_rougher)\n",
    "smape_final = smape(target_final_test, predictions_final)\n",
    "\n",
    "total_smape_result = total_smape(smape_rougher, smape_final)\n",
    "\n",
    "print(f\"sMAPE для модели \\\"Случайный лес\\ на тестовой выборке ~ {abs(total_smape_result):.3f}\")"
   ]
  },
  {
   "cell_type": "markdown",
   "metadata": {},
   "source": [
    "Для тестовой выборки итоговая модель показала неплохой результат по метрике sMAPE ~ 6.986, для проверки выбранной модели на адекватность сравним показатели с работой константной модели Dummy: "
   ]
  },
  {
   "cell_type": "code",
   "execution_count": 26,
   "metadata": {},
   "outputs": [
    {
     "name": "stdout",
     "output_type": "stream",
     "text": [
      "sMAPE константной модели ~ 7.766\n"
     ]
    }
   ],
   "source": [
    "model = DummyRegressor(strategy='mean')\n",
    "\n",
    "model.fit(features_train, target_rougher_train)\n",
    "predictions_rougher = model.predict(features_test)\n",
    "\n",
    "model.fit(features_train, target_final_train)\n",
    "predictions_final = model.predict(features_test)\n",
    "\n",
    "smape_rougher= smape(target_rougher_test, predictions_rougher)\n",
    "smape_final= smape(target_final_test, predictions_final)\n",
    "\n",
    "total_smape_result = total_smape(smape_rougher, smape_final)\n",
    "\n",
    "print(f\"sMAPE константной модели ~ {abs(total_smape_result):.3f}\")"
   ]
  },
  {
   "cell_type": "markdown",
   "metadata": {},
   "source": [
    "**ВЫВОД:**\n",
    "- результат выбранной нами модели Случайного леса с подобранными гиперпараметрами лучше результата константной модели по метрике качества sMAPE (симметричное среднее абсолютное процентное отклонение), значит построенная нами модель вполне способна качественно решить поставленную задачу"
   ]
  }
 ],
 "metadata": {
  "ExecuteTimeLog": [
   {
    "duration": 1750,
    "start_time": "2022-03-18T22:08:54.353Z"
   },
   {
    "duration": 317,
    "start_time": "2022-03-18T22:14:16.675Z"
   },
   {
    "duration": 84,
    "start_time": "2022-03-18T22:14:42.920Z"
   },
   {
    "duration": 67,
    "start_time": "2022-03-18T22:14:46.409Z"
   },
   {
    "duration": 679,
    "start_time": "2022-03-18T22:14:51.468Z"
   },
   {
    "duration": 101,
    "start_time": "2022-03-18T22:14:52.293Z"
   },
   {
    "duration": 439,
    "start_time": "2022-03-18T22:15:29.236Z"
   },
   {
    "duration": 526,
    "start_time": "2022-03-18T22:15:56.317Z"
   },
   {
    "duration": 917,
    "start_time": "2022-03-18T22:16:15.399Z"
   },
   {
    "duration": 908,
    "start_time": "2022-03-18T22:16:31.281Z"
   },
   {
    "duration": 63,
    "start_time": "2022-03-18T22:16:43.550Z"
   },
   {
    "duration": 29,
    "start_time": "2022-03-18T22:17:00.823Z"
   },
   {
    "duration": 52,
    "start_time": "2022-03-18T22:17:23.393Z"
   },
   {
    "duration": 57,
    "start_time": "2022-03-18T22:17:46.678Z"
   },
   {
    "duration": 876,
    "start_time": "2022-03-18T22:18:14.363Z"
   },
   {
    "duration": 911,
    "start_time": "2022-03-18T22:18:19.052Z"
   },
   {
    "duration": 75,
    "start_time": "2022-03-18T22:18:19.966Z"
   },
   {
    "duration": 90,
    "start_time": "2022-03-18T22:18:53.343Z"
   },
   {
    "duration": 886,
    "start_time": "2022-03-18T22:20:50.310Z"
   },
   {
    "duration": 920,
    "start_time": "2022-03-18T22:21:36.889Z"
   },
   {
    "duration": 1291,
    "start_time": "2022-03-18T22:22:01.894Z"
   },
   {
    "duration": 1099,
    "start_time": "2022-03-18T22:22:21.240Z"
   },
   {
    "duration": 1145,
    "start_time": "2022-03-18T22:22:30.043Z"
   },
   {
    "duration": 1156,
    "start_time": "2022-03-18T22:23:32.174Z"
   },
   {
    "duration": 879,
    "start_time": "2022-03-18T22:25:35.256Z"
   },
   {
    "duration": 868,
    "start_time": "2022-03-18T22:25:48.266Z"
   },
   {
    "duration": 916,
    "start_time": "2022-03-18T22:26:15.245Z"
   },
   {
    "duration": 1020,
    "start_time": "2022-03-18T22:27:00.349Z"
   },
   {
    "duration": 888,
    "start_time": "2022-03-18T22:29:34.209Z"
   },
   {
    "duration": 16002,
    "start_time": "2022-03-18T22:29:46.035Z"
   },
   {
    "duration": 832,
    "start_time": "2022-03-18T22:30:09.127Z"
   },
   {
    "duration": 824,
    "start_time": "2022-03-18T22:30:36.313Z"
   },
   {
    "duration": 6,
    "start_time": "2022-03-18T22:30:44.361Z"
   },
   {
    "duration": 42,
    "start_time": "2022-03-18T22:30:53.935Z"
   },
   {
    "duration": 1049,
    "start_time": "2022-03-18T22:33:21.733Z"
   },
   {
    "duration": 1046,
    "start_time": "2022-03-18T22:34:03.900Z"
   },
   {
    "duration": 761,
    "start_time": "2022-03-18T22:50:44.142Z"
   },
   {
    "duration": 11,
    "start_time": "2022-03-18T22:51:13.634Z"
   },
   {
    "duration": 6,
    "start_time": "2022-03-18T22:51:20.615Z"
   },
   {
    "duration": 81,
    "start_time": "2022-03-18T22:51:29.727Z"
   },
   {
    "duration": 11,
    "start_time": "2022-03-18T22:51:59.245Z"
   },
   {
    "duration": 82,
    "start_time": "2022-03-18T22:52:11.210Z"
   },
   {
    "duration": 758,
    "start_time": "2022-03-18T22:53:35.716Z"
   },
   {
    "duration": 62,
    "start_time": "2022-03-18T22:53:37.254Z"
   },
   {
    "duration": 79,
    "start_time": "2022-03-18T22:55:05.042Z"
   },
   {
    "duration": 793,
    "start_time": "2022-03-18T22:56:10.354Z"
   },
   {
    "duration": 212,
    "start_time": "2022-03-18T22:56:54.018Z"
   },
   {
    "duration": 126,
    "start_time": "2022-03-18T22:59:30.538Z"
   },
   {
    "duration": 54,
    "start_time": "2022-03-18T23:01:33.161Z"
   },
   {
    "duration": 492,
    "start_time": "2022-03-18T23:01:40.448Z"
   },
   {
    "duration": 515,
    "start_time": "2022-03-18T23:04:15.835Z"
   },
   {
    "duration": 153,
    "start_time": "2022-03-18T23:04:40.382Z"
   },
   {
    "duration": 115,
    "start_time": "2022-03-18T23:04:45.080Z"
   },
   {
    "duration": 124,
    "start_time": "2022-03-18T23:05:25.597Z"
   },
   {
    "duration": 545,
    "start_time": "2022-03-18T23:06:32.271Z"
   },
   {
    "duration": 510,
    "start_time": "2022-03-18T23:07:19.535Z"
   },
   {
    "duration": 243,
    "start_time": "2022-03-18T23:09:59.848Z"
   },
   {
    "duration": 509,
    "start_time": "2022-03-18T23:10:17.604Z"
   },
   {
    "duration": 523,
    "start_time": "2022-03-18T23:16:53.783Z"
   },
   {
    "duration": 516,
    "start_time": "2022-03-18T23:17:08.735Z"
   },
   {
    "duration": 16,
    "start_time": "2022-03-18T23:34:04.612Z"
   },
   {
    "duration": 41,
    "start_time": "2022-03-18T23:34:11.796Z"
   },
   {
    "duration": 757,
    "start_time": "2022-03-18T23:34:41.854Z"
   },
   {
    "duration": 542,
    "start_time": "2022-03-18T23:34:43.086Z"
   },
   {
    "duration": 13,
    "start_time": "2022-03-18T23:34:43.997Z"
   },
   {
    "duration": 41,
    "start_time": "2022-03-18T23:34:44.578Z"
   },
   {
    "duration": 5,
    "start_time": "2022-03-18T23:35:03.771Z"
   },
   {
    "duration": 766,
    "start_time": "2022-03-18T23:35:03.780Z"
   },
   {
    "duration": 540,
    "start_time": "2022-03-18T23:35:04.549Z"
   },
   {
    "duration": 14,
    "start_time": "2022-03-18T23:35:05.091Z"
   },
   {
    "duration": 40,
    "start_time": "2022-03-18T23:35:05.108Z"
   },
   {
    "duration": 2208,
    "start_time": "2022-03-18T23:45:03.341Z"
   },
   {
    "duration": 6,
    "start_time": "2022-03-18T23:45:33.003Z"
   },
   {
    "duration": 17,
    "start_time": "2022-03-18T23:45:40.343Z"
   },
   {
    "duration": 8,
    "start_time": "2022-03-18T23:46:49.517Z"
   },
   {
    "duration": 9,
    "start_time": "2022-03-18T23:47:05.470Z"
   },
   {
    "duration": 14,
    "start_time": "2022-03-18T23:52:44.161Z"
   },
   {
    "duration": 14,
    "start_time": "2022-03-18T23:55:43.701Z"
   },
   {
    "duration": 16,
    "start_time": "2022-03-18T23:55:49.220Z"
   },
   {
    "duration": 15,
    "start_time": "2022-03-18T23:55:53.463Z"
   },
   {
    "duration": 14,
    "start_time": "2022-03-18T23:56:06.116Z"
   },
   {
    "duration": 14,
    "start_time": "2022-03-18T23:56:09.588Z"
   },
   {
    "duration": 14,
    "start_time": "2022-03-18T23:56:14.296Z"
   },
   {
    "duration": 15,
    "start_time": "2022-03-18T23:56:17.609Z"
   },
   {
    "duration": 14,
    "start_time": "2022-03-18T23:56:39.772Z"
   },
   {
    "duration": 15,
    "start_time": "2022-03-18T23:56:43.497Z"
   },
   {
    "duration": 15,
    "start_time": "2022-03-18T23:56:52.881Z"
   },
   {
    "duration": 14,
    "start_time": "2022-03-18T23:56:56.349Z"
   },
   {
    "duration": 14,
    "start_time": "2022-03-18T23:57:33.233Z"
   },
   {
    "duration": 16,
    "start_time": "2022-03-18T23:57:41.423Z"
   },
   {
    "duration": 13,
    "start_time": "2022-03-19T00:12:11.033Z"
   },
   {
    "duration": 8,
    "start_time": "2022-03-19T00:12:33.312Z"
   },
   {
    "duration": 7,
    "start_time": "2022-03-19T00:12:49.698Z"
   },
   {
    "duration": 6,
    "start_time": "2022-03-19T00:15:44.446Z"
   },
   {
    "duration": 8,
    "start_time": "2022-03-19T00:15:54.016Z"
   },
   {
    "duration": 14,
    "start_time": "2022-03-19T00:28:05.936Z"
   },
   {
    "duration": 16,
    "start_time": "2022-03-19T00:28:50.174Z"
   },
   {
    "duration": 15,
    "start_time": "2022-03-19T00:29:03.291Z"
   },
   {
    "duration": 14,
    "start_time": "2022-03-19T00:29:09.153Z"
   },
   {
    "duration": 45,
    "start_time": "2022-03-19T01:01:26.929Z"
   },
   {
    "duration": 47,
    "start_time": "2022-03-19T01:01:40.625Z"
   },
   {
    "duration": 41,
    "start_time": "2022-03-19T01:03:01.896Z"
   },
   {
    "duration": 74,
    "start_time": "2022-03-19T01:04:14.683Z"
   },
   {
    "duration": 5,
    "start_time": "2022-03-19T01:05:00.737Z"
   },
   {
    "duration": 787,
    "start_time": "2022-03-19T01:05:00.745Z"
   },
   {
    "duration": 580,
    "start_time": "2022-03-19T01:05:01.534Z"
   },
   {
    "duration": 15,
    "start_time": "2022-03-19T01:05:02.117Z"
   },
   {
    "duration": 22,
    "start_time": "2022-03-19T01:05:02.134Z"
   },
   {
    "duration": 87,
    "start_time": "2022-03-19T01:05:02.159Z"
   },
   {
    "duration": 33,
    "start_time": "2022-03-19T01:05:56.812Z"
   },
   {
    "duration": 41,
    "start_time": "2022-03-19T01:09:28.447Z"
   },
   {
    "duration": 45,
    "start_time": "2022-03-19T01:09:34.765Z"
   },
   {
    "duration": 48,
    "start_time": "2022-03-19T01:09:44.302Z"
   },
   {
    "duration": 50,
    "start_time": "2022-03-19T01:11:01.732Z"
   },
   {
    "duration": 44,
    "start_time": "2022-03-19T01:11:07.786Z"
   },
   {
    "duration": 38,
    "start_time": "2022-03-19T01:11:24.009Z"
   },
   {
    "duration": 6,
    "start_time": "2022-03-19T01:11:37.211Z"
   },
   {
    "duration": 799,
    "start_time": "2022-03-19T01:11:37.220Z"
   },
   {
    "duration": 574,
    "start_time": "2022-03-19T01:11:38.022Z"
   },
   {
    "duration": 14,
    "start_time": "2022-03-19T01:11:38.599Z"
   },
   {
    "duration": 8,
    "start_time": "2022-03-19T01:11:38.617Z"
   },
   {
    "duration": 70,
    "start_time": "2022-03-19T01:11:38.628Z"
   },
   {
    "duration": 6,
    "start_time": "2022-03-19T01:11:45.205Z"
   },
   {
    "duration": 776,
    "start_time": "2022-03-19T01:11:45.213Z"
   },
   {
    "duration": 558,
    "start_time": "2022-03-19T01:11:45.992Z"
   },
   {
    "duration": 30,
    "start_time": "2022-03-19T01:11:46.554Z"
   },
   {
    "duration": 8,
    "start_time": "2022-03-19T01:11:46.586Z"
   },
   {
    "duration": 33,
    "start_time": "2022-03-19T01:11:46.597Z"
   },
   {
    "duration": 32,
    "start_time": "2022-03-19T01:12:03.254Z"
   },
   {
    "duration": 36,
    "start_time": "2022-03-19T01:12:16.818Z"
   },
   {
    "duration": 7,
    "start_time": "2022-03-19T01:12:29.508Z"
   },
   {
    "duration": 826,
    "start_time": "2022-03-19T01:12:29.518Z"
   },
   {
    "duration": 588,
    "start_time": "2022-03-19T01:12:30.347Z"
   },
   {
    "duration": 15,
    "start_time": "2022-03-19T01:12:30.937Z"
   },
   {
    "duration": 34,
    "start_time": "2022-03-19T01:12:30.955Z"
   },
   {
    "duration": 42,
    "start_time": "2022-03-19T01:12:30.992Z"
   },
   {
    "duration": 5,
    "start_time": "2022-03-19T01:13:18.039Z"
   },
   {
    "duration": 809,
    "start_time": "2022-03-19T01:13:18.048Z"
   },
   {
    "duration": 583,
    "start_time": "2022-03-19T01:13:18.859Z"
   },
   {
    "duration": 17,
    "start_time": "2022-03-19T01:13:19.444Z"
   },
   {
    "duration": 11,
    "start_time": "2022-03-19T01:13:19.484Z"
   },
   {
    "duration": 37,
    "start_time": "2022-03-19T01:13:19.498Z"
   },
   {
    "duration": 34,
    "start_time": "2022-03-19T01:13:26.752Z"
   },
   {
    "duration": 35,
    "start_time": "2022-03-19T01:13:30.256Z"
   },
   {
    "duration": 36,
    "start_time": "2022-03-19T01:13:45.999Z"
   },
   {
    "duration": 32,
    "start_time": "2022-03-19T01:14:08.811Z"
   },
   {
    "duration": 33,
    "start_time": "2022-03-19T01:14:10.981Z"
   },
   {
    "duration": 36,
    "start_time": "2022-03-19T01:14:19.911Z"
   },
   {
    "duration": 33,
    "start_time": "2022-03-19T01:14:26.998Z"
   },
   {
    "duration": 41,
    "start_time": "2022-03-19T01:15:23.057Z"
   },
   {
    "duration": 46,
    "start_time": "2022-03-19T01:15:33.228Z"
   },
   {
    "duration": 35,
    "start_time": "2022-03-19T01:16:10.516Z"
   },
   {
    "duration": 36,
    "start_time": "2022-03-19T01:16:30.987Z"
   },
   {
    "duration": 34,
    "start_time": "2022-03-19T01:16:47.046Z"
   },
   {
    "duration": 5,
    "start_time": "2022-03-19T01:16:51.315Z"
   },
   {
    "duration": 794,
    "start_time": "2022-03-19T01:16:51.324Z"
   },
   {
    "duration": 582,
    "start_time": "2022-03-19T01:16:52.120Z"
   },
   {
    "duration": 17,
    "start_time": "2022-03-19T01:16:52.705Z"
   },
   {
    "duration": 9,
    "start_time": "2022-03-19T01:16:52.726Z"
   },
   {
    "duration": 75,
    "start_time": "2022-03-19T01:16:52.738Z"
   },
   {
    "duration": 41,
    "start_time": "2022-03-19T01:18:31.861Z"
   },
   {
    "duration": 38,
    "start_time": "2022-03-19T01:19:17.161Z"
   },
   {
    "duration": 9,
    "start_time": "2022-03-19T01:20:21.635Z"
   },
   {
    "duration": 13,
    "start_time": "2022-03-19T01:20:31.672Z"
   },
   {
    "duration": 17,
    "start_time": "2022-03-19T01:20:51.138Z"
   },
   {
    "duration": 11,
    "start_time": "2022-03-19T01:21:26.876Z"
   },
   {
    "duration": 29,
    "start_time": "2022-03-19T01:26:49.897Z"
   },
   {
    "duration": 17,
    "start_time": "2022-03-19T01:26:54.830Z"
   },
   {
    "duration": 2181,
    "start_time": "2022-03-19T01:28:12.004Z"
   },
   {
    "duration": 11,
    "start_time": "2022-03-19T01:28:34.788Z"
   },
   {
    "duration": 20,
    "start_time": "2022-03-19T01:29:40.213Z"
   },
   {
    "duration": 62,
    "start_time": "2022-03-19T01:30:36.447Z"
   },
   {
    "duration": 37,
    "start_time": "2022-03-19T01:33:39.311Z"
   },
   {
    "duration": 42,
    "start_time": "2022-03-19T01:33:40.759Z"
   },
   {
    "duration": 5,
    "start_time": "2022-03-19T01:43:22.844Z"
   },
   {
    "duration": 10,
    "start_time": "2022-03-19T01:44:21.159Z"
   },
   {
    "duration": 590,
    "start_time": "2022-03-19T01:46:18.210Z"
   },
   {
    "duration": 429,
    "start_time": "2022-03-19T01:48:35.088Z"
   },
   {
    "duration": 178,
    "start_time": "2022-03-19T01:49:55.825Z"
   },
   {
    "duration": 432,
    "start_time": "2022-03-19T01:50:35.153Z"
   },
   {
    "duration": 8,
    "start_time": "2022-03-19T01:53:19.178Z"
   },
   {
    "duration": 8,
    "start_time": "2022-03-19T01:54:07.184Z"
   },
   {
    "duration": 15,
    "start_time": "2022-03-19T01:55:03.767Z"
   },
   {
    "duration": 441,
    "start_time": "2022-03-19T01:55:32.828Z"
   },
   {
    "duration": 115,
    "start_time": "2022-03-19T01:56:37.235Z"
   },
   {
    "duration": 115,
    "start_time": "2022-03-19T01:56:43.494Z"
   },
   {
    "duration": 113,
    "start_time": "2022-03-19T01:56:52.618Z"
   },
   {
    "duration": 130,
    "start_time": "2022-03-19T01:57:03.137Z"
   },
   {
    "duration": 407,
    "start_time": "2022-03-19T01:57:19.236Z"
   },
   {
    "duration": 395,
    "start_time": "2022-03-19T01:57:23.553Z"
   },
   {
    "duration": 383,
    "start_time": "2022-03-19T01:58:22.881Z"
   },
   {
    "duration": 388,
    "start_time": "2022-03-19T01:58:39.774Z"
   },
   {
    "duration": 377,
    "start_time": "2022-03-19T01:58:54.081Z"
   },
   {
    "duration": 400,
    "start_time": "2022-03-19T01:59:55.402Z"
   },
   {
    "duration": 493,
    "start_time": "2022-03-19T01:59:56.180Z"
   },
   {
    "duration": 405,
    "start_time": "2022-03-19T01:59:57.394Z"
   },
   {
    "duration": 13,
    "start_time": "2022-03-19T02:18:10.162Z"
   },
   {
    "duration": 341,
    "start_time": "2022-03-19T02:18:58.971Z"
   },
   {
    "duration": 374,
    "start_time": "2022-03-19T02:20:38.311Z"
   },
   {
    "duration": 764,
    "start_time": "2022-03-19T02:20:46.457Z"
   },
   {
    "duration": 873,
    "start_time": "2022-03-19T02:20:54.458Z"
   },
   {
    "duration": 16,
    "start_time": "2022-03-19T02:22:17.121Z"
   },
   {
    "duration": 163,
    "start_time": "2022-03-19T02:28:09.675Z"
   },
   {
    "duration": 11,
    "start_time": "2022-03-19T02:30:09.120Z"
   },
   {
    "duration": 199,
    "start_time": "2022-03-19T02:32:55.957Z"
   },
   {
    "duration": 29,
    "start_time": "2022-03-19T02:33:52.925Z"
   },
   {
    "duration": 109,
    "start_time": "2022-03-19T02:36:55.757Z"
   },
   {
    "duration": 103,
    "start_time": "2022-03-19T02:37:05.199Z"
   },
   {
    "duration": 118,
    "start_time": "2022-03-19T02:37:15.888Z"
   },
   {
    "duration": 7,
    "start_time": "2022-03-19T02:38:18.866Z"
   },
   {
    "duration": 7,
    "start_time": "2022-03-19T02:38:23.572Z"
   },
   {
    "duration": 7,
    "start_time": "2022-03-19T02:38:27.567Z"
   },
   {
    "duration": 16,
    "start_time": "2022-03-19T02:38:57.443Z"
   },
   {
    "duration": 8,
    "start_time": "2022-03-19T02:39:27.842Z"
   },
   {
    "duration": 3284,
    "start_time": "2022-03-19T02:39:54.499Z"
   },
   {
    "duration": 3250,
    "start_time": "2022-03-19T02:40:10.653Z"
   },
   {
    "duration": 3154,
    "start_time": "2022-03-19T02:40:26.210Z"
   },
   {
    "duration": 2959,
    "start_time": "2022-03-19T02:40:37.187Z"
   },
   {
    "duration": 3369,
    "start_time": "2022-03-19T02:42:13.652Z"
   },
   {
    "duration": 3535,
    "start_time": "2022-03-19T02:42:29.918Z"
   },
   {
    "duration": 20,
    "start_time": "2022-03-19T02:43:05.570Z"
   },
   {
    "duration": 3323,
    "start_time": "2022-03-19T02:44:15.576Z"
   },
   {
    "duration": 3113,
    "start_time": "2022-03-19T02:44:26.220Z"
   },
   {
    "duration": 3266,
    "start_time": "2022-03-19T02:44:42.876Z"
   },
   {
    "duration": 3317,
    "start_time": "2022-03-19T02:44:57.824Z"
   },
   {
    "duration": 3324,
    "start_time": "2022-03-19T02:45:13.330Z"
   },
   {
    "duration": 3408,
    "start_time": "2022-03-19T02:45:20.995Z"
   },
   {
    "duration": 24,
    "start_time": "2022-03-19T02:48:43.214Z"
   },
   {
    "duration": 3224,
    "start_time": "2022-03-19T02:50:49.329Z"
   },
   {
    "duration": 3088,
    "start_time": "2022-03-19T02:51:14.333Z"
   },
   {
    "duration": 3253,
    "start_time": "2022-03-19T02:51:25.481Z"
   },
   {
    "duration": 3480,
    "start_time": "2022-03-19T02:52:09.537Z"
   },
   {
    "duration": 4844,
    "start_time": "2022-03-19T02:52:16.963Z"
   },
   {
    "duration": 3209,
    "start_time": "2022-03-19T02:52:25.034Z"
   },
   {
    "duration": 3085,
    "start_time": "2022-03-19T02:52:33.431Z"
   },
   {
    "duration": 3553,
    "start_time": "2022-03-19T02:52:43.069Z"
   },
   {
    "duration": 3446,
    "start_time": "2022-03-19T02:52:51.274Z"
   },
   {
    "duration": 3475,
    "start_time": "2022-03-19T02:52:59.686Z"
   },
   {
    "duration": 3399,
    "start_time": "2022-03-19T02:53:07.305Z"
   },
   {
    "duration": 8,
    "start_time": "2022-03-19T03:11:13.058Z"
   },
   {
    "duration": 222,
    "start_time": "2022-03-19T03:13:22.173Z"
   },
   {
    "duration": 429,
    "start_time": "2022-03-19T03:15:09.268Z"
   },
   {
    "duration": 218,
    "start_time": "2022-03-19T03:15:45.066Z"
   },
   {
    "duration": 1071,
    "start_time": "2022-03-19T03:15:49.167Z"
   },
   {
    "duration": 916,
    "start_time": "2022-03-19T03:16:21.233Z"
   },
   {
    "duration": 25,
    "start_time": "2022-03-19T03:17:22.539Z"
   },
   {
    "duration": 16,
    "start_time": "2022-03-19T03:17:32.543Z"
   },
   {
    "duration": 1055,
    "start_time": "2022-03-19T03:18:28.550Z"
   },
   {
    "duration": 20,
    "start_time": "2022-03-19T03:19:37.196Z"
   },
   {
    "duration": 17,
    "start_time": "2022-03-19T03:20:06.768Z"
   },
   {
    "duration": 32,
    "start_time": "2022-03-19T03:21:31.706Z"
   },
   {
    "duration": 12,
    "start_time": "2022-03-19T03:22:00.149Z"
   },
   {
    "duration": 4321,
    "start_time": "2022-03-19T03:22:08.176Z"
   },
   {
    "duration": 4451,
    "start_time": "2022-03-19T03:22:44.063Z"
   },
   {
    "duration": 4432,
    "start_time": "2022-03-19T03:23:16.622Z"
   },
   {
    "duration": 4045,
    "start_time": "2022-03-19T03:24:02.532Z"
   },
   {
    "duration": 1938,
    "start_time": "2022-03-19T03:25:54.269Z"
   },
   {
    "duration": 134,
    "start_time": "2022-03-19T03:26:28.001Z"
   },
   {
    "duration": 2018,
    "start_time": "2022-03-19T03:26:34.426Z"
   },
   {
    "duration": 5,
    "start_time": "2022-03-19T03:28:12.499Z"
   },
   {
    "duration": 7,
    "start_time": "2022-03-19T03:28:34.489Z"
   },
   {
    "duration": 10,
    "start_time": "2022-03-19T03:28:47.423Z"
   },
   {
    "duration": 16,
    "start_time": "2022-03-19T03:28:57.366Z"
   },
   {
    "duration": 9,
    "start_time": "2022-03-19T03:30:56.489Z"
   },
   {
    "duration": 2154,
    "start_time": "2022-03-19T03:32:08.008Z"
   },
   {
    "duration": 21,
    "start_time": "2022-03-19T03:32:12.918Z"
   },
   {
    "duration": 3265,
    "start_time": "2022-03-19T03:32:13.670Z"
   },
   {
    "duration": 3116,
    "start_time": "2022-03-19T03:32:16.938Z"
   },
   {
    "duration": 26,
    "start_time": "2022-03-19T03:32:20.056Z"
   },
   {
    "duration": 16,
    "start_time": "2022-03-19T03:33:21.699Z"
   },
   {
    "duration": 3493,
    "start_time": "2022-03-19T03:33:22.923Z"
   },
   {
    "duration": 3058,
    "start_time": "2022-03-19T03:33:26.420Z"
   },
   {
    "duration": 3325,
    "start_time": "2022-03-19T03:39:47.054Z"
   },
   {
    "duration": 10,
    "start_time": "2022-03-19T03:41:19.389Z"
   },
   {
    "duration": 10,
    "start_time": "2022-03-19T03:41:27.516Z"
   },
   {
    "duration": 13,
    "start_time": "2022-03-19T03:41:35.574Z"
   },
   {
    "duration": 3004,
    "start_time": "2022-03-19T03:41:42.478Z"
   },
   {
    "duration": 10,
    "start_time": "2022-03-19T03:48:05.212Z"
   },
   {
    "duration": 112,
    "start_time": "2022-03-19T03:48:12.633Z"
   },
   {
    "duration": 7,
    "start_time": "2022-03-19T03:48:16.800Z"
   },
   {
    "duration": 106,
    "start_time": "2022-03-19T03:48:29.577Z"
   },
   {
    "duration": 105,
    "start_time": "2022-03-19T03:48:35.390Z"
   },
   {
    "duration": 11,
    "start_time": "2022-03-19T03:48:47.333Z"
   },
   {
    "duration": 13,
    "start_time": "2022-03-19T03:58:02.239Z"
   },
   {
    "duration": 116,
    "start_time": "2022-03-19T04:00:33.347Z"
   },
   {
    "duration": 16,
    "start_time": "2022-03-19T04:00:48.928Z"
   },
   {
    "duration": 6,
    "start_time": "2022-03-19T04:01:47.273Z"
   },
   {
    "duration": 24,
    "start_time": "2022-03-19T04:01:50.300Z"
   },
   {
    "duration": 24,
    "start_time": "2022-03-19T04:02:36.725Z"
   },
   {
    "duration": 22,
    "start_time": "2022-03-19T04:03:25.730Z"
   },
   {
    "duration": 29,
    "start_time": "2022-03-19T04:03:49.715Z"
   },
   {
    "duration": 28,
    "start_time": "2022-03-19T04:04:08.851Z"
   },
   {
    "duration": 22,
    "start_time": "2022-03-19T04:04:37.203Z"
   },
   {
    "duration": 33,
    "start_time": "2022-03-19T04:06:16.858Z"
   },
   {
    "duration": 34,
    "start_time": "2022-03-19T04:06:57.351Z"
   },
   {
    "duration": 5,
    "start_time": "2022-03-19T04:09:14.876Z"
   },
   {
    "duration": 12,
    "start_time": "2022-03-19T04:09:22.464Z"
   },
   {
    "duration": 12,
    "start_time": "2022-03-19T04:09:30.102Z"
   },
   {
    "duration": 13,
    "start_time": "2022-03-19T04:09:44.655Z"
   },
   {
    "duration": 12,
    "start_time": "2022-03-19T04:09:59.500Z"
   },
   {
    "duration": 13,
    "start_time": "2022-03-19T04:11:00.368Z"
   },
   {
    "duration": 3179,
    "start_time": "2022-03-19T04:11:29.167Z"
   },
   {
    "duration": 12,
    "start_time": "2022-03-19T04:12:43.882Z"
   },
   {
    "duration": 11,
    "start_time": "2022-03-19T04:12:52.166Z"
   },
   {
    "duration": 11,
    "start_time": "2022-03-19T04:13:01.451Z"
   },
   {
    "duration": 10,
    "start_time": "2022-03-19T04:13:12.441Z"
   },
   {
    "duration": 10,
    "start_time": "2022-03-19T04:13:21.988Z"
   },
   {
    "duration": 5,
    "start_time": "2022-03-19T04:13:32.528Z"
   },
   {
    "duration": 828,
    "start_time": "2022-03-19T04:13:32.537Z"
   },
   {
    "duration": 543,
    "start_time": "2022-03-19T04:13:33.367Z"
   },
   {
    "duration": 15,
    "start_time": "2022-03-19T04:13:33.913Z"
   },
   {
    "duration": 9,
    "start_time": "2022-03-19T04:13:33.930Z"
   },
   {
    "duration": 68,
    "start_time": "2022-03-19T04:13:33.941Z"
   },
   {
    "duration": 42,
    "start_time": "2022-03-19T04:13:34.011Z"
   },
   {
    "duration": 403,
    "start_time": "2022-03-19T04:13:34.055Z"
   },
   {
    "duration": 390,
    "start_time": "2022-03-19T04:13:34.462Z"
   },
   {
    "duration": 411,
    "start_time": "2022-03-19T04:13:34.854Z"
   },
   {
    "duration": 30,
    "start_time": "2022-03-19T04:13:35.267Z"
   },
   {
    "duration": 3388,
    "start_time": "2022-03-19T04:13:35.299Z"
   },
   {
    "duration": 28,
    "start_time": "2022-03-19T04:13:38.689Z"
   },
   {
    "duration": 3095,
    "start_time": "2022-03-19T04:13:38.720Z"
   },
   {
    "duration": 2907,
    "start_time": "2022-03-19T04:13:41.817Z"
   },
   {
    "duration": 11,
    "start_time": "2022-03-19T04:13:44.726Z"
   },
   {
    "duration": 3105,
    "start_time": "2022-03-19T04:13:44.739Z"
   },
   {
    "duration": 13,
    "start_time": "2022-03-19T04:13:47.846Z"
   },
   {
    "duration": 2791,
    "start_time": "2022-03-19T04:14:14.055Z"
   },
   {
    "duration": 3024,
    "start_time": "2022-03-19T04:15:26.839Z"
   },
   {
    "duration": 12,
    "start_time": "2022-03-19T04:16:07.619Z"
   },
   {
    "duration": 12,
    "start_time": "2022-03-19T04:17:17.936Z"
   },
   {
    "duration": 22,
    "start_time": "2022-03-19T04:18:47.217Z"
   },
   {
    "duration": 21,
    "start_time": "2022-03-19T04:19:17.700Z"
   },
   {
    "duration": 58,
    "start_time": "2022-03-19T04:19:48.925Z"
   },
   {
    "duration": 38,
    "start_time": "2022-03-19T04:20:05.863Z"
   },
   {
    "duration": 21,
    "start_time": "2022-03-19T04:20:37.886Z"
   },
   {
    "duration": 33,
    "start_time": "2022-03-19T04:21:18.742Z"
   },
   {
    "duration": 5,
    "start_time": "2022-03-19T04:50:44.237Z"
   },
   {
    "duration": 10,
    "start_time": "2022-03-19T05:14:29.188Z"
   },
   {
    "duration": 11,
    "start_time": "2022-03-19T05:18:45.486Z"
   },
   {
    "duration": 5,
    "start_time": "2022-03-19T05:20:04.073Z"
   },
   {
    "duration": 5,
    "start_time": "2022-03-19T05:20:06.964Z"
   },
   {
    "duration": 812,
    "start_time": "2022-03-19T05:20:06.973Z"
   },
   {
    "duration": 552,
    "start_time": "2022-03-19T05:20:07.788Z"
   },
   {
    "duration": 15,
    "start_time": "2022-03-19T05:20:08.342Z"
   },
   {
    "duration": 30,
    "start_time": "2022-03-19T05:20:08.360Z"
   },
   {
    "duration": 66,
    "start_time": "2022-03-19T05:20:08.392Z"
   },
   {
    "duration": 53,
    "start_time": "2022-03-19T05:20:08.460Z"
   },
   {
    "duration": 451,
    "start_time": "2022-03-19T05:20:08.515Z"
   },
   {
    "duration": 391,
    "start_time": "2022-03-19T05:20:08.969Z"
   },
   {
    "duration": 412,
    "start_time": "2022-03-19T05:20:09.363Z"
   },
   {
    "duration": 23,
    "start_time": "2022-03-19T05:20:09.781Z"
   },
   {
    "duration": 3934,
    "start_time": "2022-03-19T05:20:09.807Z"
   },
   {
    "duration": 49,
    "start_time": "2022-03-19T05:20:13.744Z"
   },
   {
    "duration": 3460,
    "start_time": "2022-03-19T05:20:13.797Z"
   },
   {
    "duration": 3297,
    "start_time": "2022-03-19T05:20:17.259Z"
   },
   {
    "duration": 23,
    "start_time": "2022-03-19T05:20:20.559Z"
   },
   {
    "duration": 31,
    "start_time": "2022-03-19T05:20:20.584Z"
   },
   {
    "duration": 46,
    "start_time": "2022-03-19T05:20:20.617Z"
   },
   {
    "duration": 5,
    "start_time": "2022-03-19T05:20:20.666Z"
   },
   {
    "duration": 30,
    "start_time": "2022-03-19T05:20:20.673Z"
   },
   {
    "duration": 50,
    "start_time": "2022-03-19T05:20:20.705Z"
   },
   {
    "duration": 15,
    "start_time": "2022-03-19T05:21:04.702Z"
   },
   {
    "duration": 6,
    "start_time": "2022-03-19T05:21:44.942Z"
   },
   {
    "duration": 2620,
    "start_time": "2022-03-19T05:21:49.771Z"
   },
   {
    "duration": 6,
    "start_time": "2022-03-19T05:24:22.245Z"
   },
   {
    "duration": 2468,
    "start_time": "2022-03-19T05:24:25.921Z"
   },
   {
    "duration": 116,
    "start_time": "2022-03-19T05:26:43.102Z"
   },
   {
    "duration": 2680,
    "start_time": "2022-03-19T05:26:50.609Z"
   },
   {
    "duration": 131,
    "start_time": "2022-03-19T05:28:36.082Z"
   },
   {
    "duration": 110,
    "start_time": "2022-03-19T05:28:44.561Z"
   },
   {
    "duration": 2336,
    "start_time": "2022-03-19T05:28:52.847Z"
   },
   {
    "duration": 7563,
    "start_time": "2022-03-19T05:29:07.056Z"
   },
   {
    "duration": 18530,
    "start_time": "2022-03-19T05:30:20.566Z"
   },
   {
    "duration": 200384,
    "start_time": "2022-03-19T05:31:01.242Z"
   },
   {
    "duration": 82246,
    "start_time": "2022-03-19T05:34:50.590Z"
   },
   {
    "duration": 6746,
    "start_time": "2022-03-19T05:39:36.433Z"
   },
   {
    "duration": 8122,
    "start_time": "2022-03-19T05:40:08.072Z"
   },
   {
    "duration": 14753,
    "start_time": "2022-03-19T05:40:18.795Z"
   },
   {
    "duration": 98871,
    "start_time": "2022-03-19T05:40:42.932Z"
   },
   {
    "duration": 252752,
    "start_time": "2022-03-19T05:42:41.692Z"
   },
   {
    "duration": 19537,
    "start_time": "2022-03-19T05:47:15.780Z"
   },
   {
    "duration": 19680,
    "start_time": "2022-03-19T05:48:04.859Z"
   },
   {
    "duration": 21413,
    "start_time": "2022-03-19T05:48:34.521Z"
   },
   {
    "duration": 16457,
    "start_time": "2022-03-19T05:49:05.998Z"
   },
   {
    "duration": 13647,
    "start_time": "2022-03-19T05:49:32.011Z"
   },
   {
    "duration": 9083,
    "start_time": "2022-03-19T05:50:04.419Z"
   },
   {
    "duration": 73187,
    "start_time": "2022-03-19T05:50:33.285Z"
   },
   {
    "duration": 67062,
    "start_time": "2022-03-19T05:52:06.939Z"
   },
   {
    "duration": 22218,
    "start_time": "2022-03-19T05:53:43.652Z"
   },
   {
    "duration": 15182,
    "start_time": "2022-03-19T05:54:41.082Z"
   },
   {
    "duration": 201,
    "start_time": "2022-03-19T05:58:43.326Z"
   },
   {
    "duration": 105,
    "start_time": "2022-03-19T05:58:51.165Z"
   },
   {
    "duration": 5230,
    "start_time": "2022-03-19T05:59:05.339Z"
   },
   {
    "duration": 14,
    "start_time": "2022-03-19T06:00:08.093Z"
   },
   {
    "duration": 6,
    "start_time": "2022-03-19T06:00:40.634Z"
   },
   {
    "duration": 13,
    "start_time": "2022-03-19T06:00:44.431Z"
   },
   {
    "duration": 13,
    "start_time": "2022-03-19T06:04:21.774Z"
   },
   {
    "duration": 12,
    "start_time": "2022-03-19T06:04:45.540Z"
   },
   {
    "duration": 6,
    "start_time": "2022-03-19T06:08:41.633Z"
   },
   {
    "duration": 773,
    "start_time": "2022-03-19T06:08:41.642Z"
   },
   {
    "duration": 572,
    "start_time": "2022-03-19T06:08:42.417Z"
   },
   {
    "duration": 15,
    "start_time": "2022-03-19T06:08:42.994Z"
   },
   {
    "duration": 10,
    "start_time": "2022-03-19T06:08:43.012Z"
   },
   {
    "duration": 84,
    "start_time": "2022-03-19T06:08:43.024Z"
   },
   {
    "duration": 43,
    "start_time": "2022-03-19T06:08:43.111Z"
   },
   {
    "duration": 594,
    "start_time": "2022-03-19T06:08:43.157Z"
   },
   {
    "duration": 561,
    "start_time": "2022-03-19T06:08:43.757Z"
   },
   {
    "duration": 557,
    "start_time": "2022-03-19T06:08:44.321Z"
   },
   {
    "duration": 26,
    "start_time": "2022-03-19T06:08:44.883Z"
   },
   {
    "duration": 3445,
    "start_time": "2022-03-19T06:08:44.912Z"
   },
   {
    "duration": 44,
    "start_time": "2022-03-19T06:08:48.360Z"
   },
   {
    "duration": 3275,
    "start_time": "2022-03-19T06:08:48.407Z"
   },
   {
    "duration": 3284,
    "start_time": "2022-03-19T06:08:51.685Z"
   },
   {
    "duration": 12,
    "start_time": "2022-03-19T06:08:54.971Z"
   },
   {
    "duration": 11,
    "start_time": "2022-03-19T06:08:54.986Z"
   },
   {
    "duration": 37,
    "start_time": "2022-03-19T06:08:54.999Z"
   },
   {
    "duration": 5,
    "start_time": "2022-03-19T06:08:55.038Z"
   },
   {
    "duration": 44,
    "start_time": "2022-03-19T06:08:55.045Z"
   },
   {
    "duration": 36,
    "start_time": "2022-03-19T06:08:55.092Z"
   },
   {
    "duration": 2660,
    "start_time": "2022-03-19T06:08:55.130Z"
   },
   {
    "duration": 11062,
    "start_time": "2022-03-19T06:08:57.793Z"
   },
   {
    "duration": 18833,
    "start_time": "2022-03-19T06:09:08.862Z"
   },
   {
    "duration": 7506,
    "start_time": "2022-03-19T06:09:27.698Z"
   },
   {
    "duration": 15,
    "start_time": "2022-03-19T06:09:35.207Z"
   },
   {
    "duration": 2287,
    "start_time": "2022-04-11T18:40:50.837Z"
   },
   {
    "duration": 775,
    "start_time": "2022-04-11T18:40:53.127Z"
   },
   {
    "duration": 579,
    "start_time": "2022-04-11T18:40:53.905Z"
   },
   {
    "duration": 19,
    "start_time": "2022-04-11T18:40:54.487Z"
   },
   {
    "duration": 9,
    "start_time": "2022-04-11T18:40:54.508Z"
   },
   {
    "duration": 80,
    "start_time": "2022-04-11T18:40:54.520Z"
   },
   {
    "duration": 43,
    "start_time": "2022-04-11T18:40:54.603Z"
   },
   {
    "duration": 441,
    "start_time": "2022-04-11T18:40:54.648Z"
   },
   {
    "duration": 404,
    "start_time": "2022-04-11T18:40:55.091Z"
   },
   {
    "duration": 448,
    "start_time": "2022-04-11T18:40:55.499Z"
   },
   {
    "duration": 39,
    "start_time": "2022-04-11T18:40:55.950Z"
   },
   {
    "duration": 3222,
    "start_time": "2022-04-11T18:40:55.991Z"
   },
   {
    "duration": 43,
    "start_time": "2022-04-11T18:40:59.215Z"
   },
   {
    "duration": 3234,
    "start_time": "2022-04-11T18:40:59.260Z"
   },
   {
    "duration": 2883,
    "start_time": "2022-04-11T18:41:02.496Z"
   },
   {
    "duration": 13,
    "start_time": "2022-04-11T18:41:05.382Z"
   },
   {
    "duration": 27,
    "start_time": "2022-04-11T18:41:05.397Z"
   },
   {
    "duration": 72,
    "start_time": "2022-04-11T18:41:05.427Z"
   },
   {
    "duration": 6,
    "start_time": "2022-04-11T18:41:05.501Z"
   },
   {
    "duration": 21,
    "start_time": "2022-04-11T18:41:05.509Z"
   },
   {
    "duration": 50,
    "start_time": "2022-04-11T18:41:05.533Z"
   },
   {
    "duration": 3797,
    "start_time": "2022-04-11T18:41:05.585Z"
   },
   {
    "duration": 8850,
    "start_time": "2022-04-11T18:41:09.384Z"
   },
   {
    "duration": 17292,
    "start_time": "2022-04-11T18:41:18.237Z"
   },
   {
    "duration": 5713,
    "start_time": "2022-04-11T18:41:35.531Z"
   },
   {
    "duration": 13,
    "start_time": "2022-04-11T18:41:41.248Z"
   }
  ],
  "kernelspec": {
   "display_name": "Python 3 (ipykernel)",
   "language": "python",
   "name": "python3"
  },
  "language_info": {
   "codemirror_mode": {
    "name": "ipython",
    "version": 3
   },
   "file_extension": ".py",
   "mimetype": "text/x-python",
   "name": "python",
   "nbconvert_exporter": "python",
   "pygments_lexer": "ipython3",
   "version": "3.9.5"
  },
  "toc": {
   "base_numbering": 1,
   "nav_menu": {},
   "number_sections": true,
   "sideBar": true,
   "skip_h1_title": true,
   "title_cell": "Содержание",
   "title_sidebar": "Contents",
   "toc_cell": true,
   "toc_position": {
    "height": "calc(100% - 180px)",
    "left": "10px",
    "top": "150px",
    "width": "165px"
   },
   "toc_section_display": true,
   "toc_window_display": true
  }
 },
 "nbformat": 4,
 "nbformat_minor": 2
}
