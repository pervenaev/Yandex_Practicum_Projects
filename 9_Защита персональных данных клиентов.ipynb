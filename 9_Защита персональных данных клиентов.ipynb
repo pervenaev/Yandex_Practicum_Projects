{
 "cells": [
  {
   "cell_type": "markdown",
   "metadata": {},
   "source": [
    "# Защита персональных данных клиентов"
   ]
  },
  {
   "cell_type": "markdown",
   "metadata": {},
   "source": [
    "Вам нужно защитить данные клиентов страховой компании «Хоть потоп». Разработайте такой метод преобразования данных, чтобы по ним было сложно восстановить персональную информацию. Обоснуйте корректность его работы.\n",
    "\n",
    "Нужно защитить данные, чтобы при преобразовании качество моделей машинного обучения не ухудшилось. Подбирать наилучшую модель не требуется."
   ]
  },
  {
   "cell_type": "markdown",
   "metadata": {},
   "source": [
    "## Загрузка данных"
   ]
  },
  {
   "cell_type": "markdown",
   "metadata": {},
   "source": [
    "Импортируем необходимые для работы библиотеки и инструменты:"
   ]
  },
  {
   "cell_type": "code",
   "execution_count": 28,
   "metadata": {},
   "outputs": [],
   "source": [
    "# библиотеки\n",
    "import pandas as pd\n",
    "import numpy as np\n",
    "import seaborn as sns\n",
    "import matplotlib.pyplot as plt\n",
    "\n",
    "# инструменты sklearn\n",
    "from sklearn.linear_model import LinearRegression\n",
    "from sklearn.metrics import r2_score\n",
    "\n",
    "# блокиратор предупреждений\n",
    "import warnings\n",
    "warnings.filterwarnings(\"ignore\")"
   ]
  },
  {
   "cell_type": "markdown",
   "metadata": {},
   "source": [
    "Загрузим данные и ознакомимся с ними:"
   ]
  },
  {
   "cell_type": "code",
   "execution_count": 29,
   "metadata": {},
   "outputs": [
    {
     "data": {
      "text/html": [
       "<div>\n",
       "<style scoped>\n",
       "    .dataframe tbody tr th:only-of-type {\n",
       "        vertical-align: middle;\n",
       "    }\n",
       "\n",
       "    .dataframe tbody tr th {\n",
       "        vertical-align: top;\n",
       "    }\n",
       "\n",
       "    .dataframe thead th {\n",
       "        text-align: right;\n",
       "    }\n",
       "</style>\n",
       "<table border=\"1\" class=\"dataframe\">\n",
       "  <thead>\n",
       "    <tr style=\"text-align: right;\">\n",
       "      <th></th>\n",
       "      <th>Пол</th>\n",
       "      <th>Возраст</th>\n",
       "      <th>Зарплата</th>\n",
       "      <th>Члены семьи</th>\n",
       "      <th>Страховые выплаты</th>\n",
       "    </tr>\n",
       "  </thead>\n",
       "  <tbody>\n",
       "    <tr>\n",
       "      <th>1571</th>\n",
       "      <td>1</td>\n",
       "      <td>31.0</td>\n",
       "      <td>43300.0</td>\n",
       "      <td>0</td>\n",
       "      <td>0</td>\n",
       "    </tr>\n",
       "    <tr>\n",
       "      <th>4833</th>\n",
       "      <td>0</td>\n",
       "      <td>24.0</td>\n",
       "      <td>32200.0</td>\n",
       "      <td>1</td>\n",
       "      <td>0</td>\n",
       "    </tr>\n",
       "    <tr>\n",
       "      <th>2370</th>\n",
       "      <td>1</td>\n",
       "      <td>39.0</td>\n",
       "      <td>49300.0</td>\n",
       "      <td>3</td>\n",
       "      <td>0</td>\n",
       "    </tr>\n",
       "    <tr>\n",
       "      <th>3025</th>\n",
       "      <td>1</td>\n",
       "      <td>34.0</td>\n",
       "      <td>51300.0</td>\n",
       "      <td>0</td>\n",
       "      <td>0</td>\n",
       "    </tr>\n",
       "    <tr>\n",
       "      <th>4614</th>\n",
       "      <td>1</td>\n",
       "      <td>27.0</td>\n",
       "      <td>46600.0</td>\n",
       "      <td>0</td>\n",
       "      <td>0</td>\n",
       "    </tr>\n",
       "  </tbody>\n",
       "</table>\n",
       "</div>"
      ],
      "text/plain": [
       "      Пол  Возраст  Зарплата  Члены семьи  Страховые выплаты\n",
       "1571    1     31.0   43300.0            0                  0\n",
       "4833    0     24.0   32200.0            1                  0\n",
       "2370    1     39.0   49300.0            3                  0\n",
       "3025    1     34.0   51300.0            0                  0\n",
       "4614    1     27.0   46600.0            0                  0"
      ]
     },
     "metadata": {},
     "output_type": "display_data"
    },
    {
     "name": "stdout",
     "output_type": "stream",
     "text": [
      "\n",
      "<class 'pandas.core.frame.DataFrame'>\n",
      "RangeIndex: 5000 entries, 0 to 4999\n",
      "Data columns (total 5 columns):\n",
      " #   Column             Non-Null Count  Dtype  \n",
      "---  ------             --------------  -----  \n",
      " 0   Пол                5000 non-null   int64  \n",
      " 1   Возраст            5000 non-null   float64\n",
      " 2   Зарплата           5000 non-null   float64\n",
      " 3   Члены семьи        5000 non-null   int64  \n",
      " 4   Страховые выплаты  5000 non-null   int64  \n",
      "dtypes: float64(2), int64(3)\n",
      "memory usage: 195.4 KB\n"
     ]
    }
   ],
   "source": [
    "data = pd.read_csv('/datasets/insurance.csv')\n",
    "display(data.sample(5))\n",
    "print()\n",
    "data.info()"
   ]
  },
  {
   "cell_type": "markdown",
   "metadata": {},
   "source": [
    "Проверим на наличие дубликатов и, при наличии, избавимся от них:"
   ]
  },
  {
   "cell_type": "code",
   "execution_count": 30,
   "metadata": {},
   "outputs": [
    {
     "name": "stdout",
     "output_type": "stream",
     "text": [
      "Явных дубликатов до обработки -  153\n",
      "Явных дубликатов после обработки -  0\n"
     ]
    }
   ],
   "source": [
    "print(\"Явных дубликатов до обработки - \", data.duplicated().sum())\n",
    "data.drop_duplicates(inplace=True)\n",
    "print(\"Явных дубликатов после обработки - \", data.duplicated().sum())"
   ]
  },
  {
   "cell_type": "markdown",
   "metadata": {},
   "source": [
    "Проверим данные на мультиколлинеарность при помощи матрицы корреляции:"
   ]
  },
  {
   "cell_type": "code",
   "execution_count": 31,
   "metadata": {
    "scrolled": false
   },
   "outputs": [
    {
     "data": {
      "text/plain": [
       "<AxesSubplot:>"
      ]
     },
     "execution_count": 31,
     "metadata": {},
     "output_type": "execute_result"
    },
    {
     "data": {
      "image/png": "[encoded data removed]",
      "text/plain": [
       "<Figure size 432x288 with 2 Axes>"
      ]
     },
     "metadata": {
      "needs_background": "light"
     },
     "output_type": "display_data"
    }
   ],
   "source": [
    "sns.heatmap(data.corr(), annot=True)"
   ]
  },
  {
   "cell_type": "code",
   "execution_count": 32,
   "metadata": {},
   "outputs": [
    {
     "data": {
      "image/png": "[encoded data removed]",
      "text/plain": [
       "<Figure size 432x288 with 1 Axes>"
      ]
     },
     "metadata": {
      "needs_background": "light"
     },
     "output_type": "display_data"
    },
    {
     "data": {
      "image/png": "[encoded data removed]",
      "text/plain": [
       "<Figure size 432x288 with 1 Axes>"
      ]
     },
     "metadata": {
      "needs_background": "light"
     },
     "output_type": "display_data"
    },
    {
     "data": {
      "image/png": "[encoded data removed]",
      "text/plain": [
       "<Figure size 432x288 with 1 Axes>"
      ]
     },
     "metadata": {
      "needs_background": "light"
     },
     "output_type": "display_data"
    },
    {
     "data": {
      "image/png": "[encoded data removed]",
      "text/plain": [
       "<Figure size 432x288 with 1 Axes>"
      ]
     },
     "metadata": {
      "needs_background": "light"
     },
     "output_type": "display_data"
    },
    {
     "data": {
      "image/png": "[encoded data removed]",
      "text/plain": [
       "<Figure size 432x288 with 1 Axes>"
      ]
     },
     "metadata": {
      "needs_background": "light"
     },
     "output_type": "display_data"
    }
   ],
   "source": [
    "features = list(data)\n",
    "\n",
    "for feature in features:\n",
    "    sns.distplot(data[feature])\n",
    "    plt.show()"
   ]
  },
  {
   "cell_type": "markdown",
   "metadata": {},
   "source": [
    "Вывод о распределении признаков:\n",
    "\n",
    "- **Пол**: распредление между \"М\" и \"Ж\" примерно равное, нет значительного перевеса в чью-либо сторону\n",
    "- **Возраст**: возраст большинства клиентов в примерном диапазоне 18 - 35 лет, далее с увеличением возраста количество представителей снижается\n",
    "- **Зарплата**: здесь наблюдается нормальное распределение, среднее значение приходится примерно на 45000\n",
    "- **Члены семьи**: большинство клиентов имеют 0-2 членов семьи (видимо к членам семьи в этом пункте относили лишь супругов и детей), что соответсвуют гистограмме распределения по возрасту, т.к. основная часть клиентов в нашей выборке не старше 35 лет\n",
    "- **Страховые выплаты**: основная масса клиентов ни разу не получала страховых  выплат судя по нашим данным"
   ]
  },
  {
   "cell_type": "markdown",
   "metadata": {},
   "source": [
    "Вывод:\n",
    "- данные не имеют пропущенных значений\n",
    "- найденные явные дубликаты (153 шт) из данных удалены\n",
    "- явной зависимости между признаками матрица корреляции не выявила (есть небольшая зависимость целевого признака от возраста клиента, но она не критичная, поэтому оставим все как есть)\n",
    "\n",
    "Данные не требуют дальнейшей обработки и готовы для использования. "
   ]
  },
  {
   "cell_type": "markdown",
   "metadata": {},
   "source": [
    "## Умножение матриц"
   ]
  },
  {
   "cell_type": "markdown",
   "metadata": {},
   "source": [
    "В этом задании вы можете записывать формулы в *Jupyter Notebook.*\n",
    "\n",
    "Чтобы записать формулу внутри текста, окружите её символами доллара \\\\$; если снаружи —  двойными символами \\\\$\\\\$. Эти формулы записываются на языке вёрстки *LaTeX.* \n",
    "\n",
    "Для примера мы записали формулы линейной регрессии. Можете их скопировать и отредактировать, чтобы решить задачу.\n",
    "\n",
    "Работать в *LaTeX* необязательно."
   ]
  },
  {
   "cell_type": "markdown",
   "metadata": {},
   "source": [
    "Обозначения:\n",
    "\n",
    "- $X$ — матрица признаков (нулевой столбец состоит из единиц)\n",
    "\n",
    "- $y$ — вектор целевого признака\n",
    "\n",
    "- $P$ — матрица, на которую умножаются признаки\n",
    "\n",
    "- $w$ — вектор весов линейной регрессии (нулевой элемент равен сдвигу)"
   ]
  },
  {
   "cell_type": "markdown",
   "metadata": {},
   "source": [
    "Предсказания:\n",
    "\n",
    "$$\n",
    "a = Xw\n",
    "$$\n",
    "\n",
    "Задача обучения:\n",
    "\n",
    "$$\n",
    "w = \\arg\\min_w MSE(Xw, y)\n",
    "$$\n",
    "\n",
    "Формула обучения:\n",
    "\n",
    "$$\n",
    "w = (X^T X)^{-1} X^T y\n",
    "$$"
   ]
  },
  {
   "cell_type": "markdown",
   "metadata": {},
   "source": [
    "**Вопрос** Признаки умножают на обратимую матрицу. Изменится ли качество линейной регрессии? (Её можно обучить заново)\n",
    "\n",
    "**Ответ:** Нет, качество линейной регрессии не изменится\n",
    "\n",
    "**Обоснование:** \n",
    "- Признаки $X$ умножают на обратимую матрицу $P$, формулы предсказания и обучения будут иметь вид: \n",
    "\n",
    "$$\n",
    "a_1 = XPw_1\n",
    "$$\n",
    "$$\n",
    "w_1 = ((XP)^T XP)^{-1} (XP)^T y\n",
    "$$\n",
    "\n",
    "- Подставим данные  $w_1$ из формулы обучения в формулу предсказания:\n",
    "\n",
    "$$\n",
    "a_1 = XP ((XP)^TXP)^{-1}(XP)^Ty\n",
    "$$\n",
    "\n",
    "- Воспользуемся свойством матриц $(AB)^T = A^TB^T$ и раскроем скобки с транспонированием:\n",
    "\n",
    "$$\n",
    "a_1 = XP (X^TP^TXP)^{-1}X^TP^Ty\n",
    "$$\n",
    "\n",
    "- Далее используя свойство матриц $(AB)^{-1} = A^{-1}B^{-1}$ вынесем за скобки множители $P^T$ и $P$:\n",
    "\n",
    "$$\n",
    "a_1 = XPP^{-1}(X^TX)^{-1}(P^T)^{-1}P^TX^Ty\n",
    "$$\n",
    "\n",
    "- Умножение матрицы на ее обратную матрицу дает единичную матрицу, соответственно произведения $PP^{-1}$ и $P^T(P^T)^{-1}$ в результате дадут единичные матрицы, а умножение матрицы на единичную дает саму эту матрицу, т.е. результаты указанных выше произведений можно из формулы исключить:\n",
    "\n",
    "$$\n",
    "a_1 = X(X^TX)^{-1}X^Ty\n",
    "$$\n",
    "\n",
    "- Обращаясь к изначальной формуле обучения можно заменить произведение $(X^TX)^{-1}X^Ty$ на $w$:\n",
    "\n",
    "$$\n",
    "a_1 = Xw = a\n",
    "$$\n",
    "\n",
    "- Полученная формула предсказания ровно такая же, как и изначальная, значит качество линейной регрессии не изменится"
   ]
  },
  {
   "cell_type": "markdown",
   "metadata": {},
   "source": [
    "## Алгоритм преобразования"
   ]
  },
  {
   "cell_type": "markdown",
   "metadata": {},
   "source": [
    "**Алгоритм**\n",
    "\n",
    "В качестве алгоритма преобразования примем домножение обучающих признаков X на случайную обратимую матрицу P размером 4х4. Создадим модель линейной регрессии до преобразования и посчитаем метрику R2. Далее умножим исходные признаки на обратимую матрицу и на основе полученных значений вновь посчитаем метрику R2. Метрики R2 по итогу должны быть равны.\n",
    "\n",
    "Матрицу P сгенерируем с помощью np.random.normal()"
   ]
  },
  {
   "cell_type": "markdown",
   "metadata": {},
   "source": [
    "**Обоснование**\n",
    "\n",
    "Как выяснилось в предыдущем пункте, домножение признаков на какую-либо обратимую матрицу не приводит к изменению качества линейной регрессии, поэтому результаты R2 должны совпасть."
   ]
  },
  {
   "cell_type": "markdown",
   "metadata": {},
   "source": [
    "## Проверка алгоритма"
   ]
  },
  {
   "cell_type": "markdown",
   "metadata": {},
   "source": [
    "Разобьем данные на целевой и обучающие признаки:"
   ]
  },
  {
   "cell_type": "code",
   "execution_count": 33,
   "metadata": {},
   "outputs": [],
   "source": [
    "features = data.drop('Страховые выплаты', axis=1)\n",
    "target = data['Страховые выплаты']"
   ]
  },
  {
   "cell_type": "markdown",
   "metadata": {},
   "source": [
    " Создадим обратимую матрицу размером 4х4. По одной из теорем обратных матриц: для существования обратной матрицы $A^{-1}$ необходимо и достаточно, чтобы матрица $A$ была невырожденной, то есть, чтобы ее детерминант не был равен нулю. Заложим проверку данного условия при создании обратимой матрицы."
   ]
  },
  {
   "cell_type": "code",
   "execution_count": 34,
   "metadata": {},
   "outputs": [
    {
     "data": {
      "text/plain": [
       "array([[ 0.2032553 ,  0.03458836, -1.6236675 , -0.69388597],\n",
       "       [-0.03007253, -0.50634948, -1.62304523,  0.71869368],\n",
       "       [-0.64391183, -0.15028836,  2.00641382, -0.94699401],\n",
       "       [-1.39164721,  0.56146498,  0.37039041, -0.12782511]])"
      ]
     },
     "execution_count": 34,
     "metadata": {},
     "output_type": "execute_result"
    }
   ],
   "source": [
    "det = 0\n",
    "while det == 0:\n",
    "    P = np.random.normal(size=(4, 4))\n",
    "    det = np.linalg.det(P)\n",
    "P"
   ]
  },
  {
   "cell_type": "markdown",
   "metadata": {},
   "source": [
    "Зашифруем данные обучающих признаков путем умножения их на полученную матрицу $P$:"
   ]
  },
  {
   "cell_type": "code",
   "execution_count": 35,
   "metadata": {},
   "outputs": [
    {
     "data": {
      "text/html": [
       "<div>\n",
       "<style scoped>\n",
       "    .dataframe tbody tr th:only-of-type {\n",
       "        vertical-align: middle;\n",
       "    }\n",
       "\n",
       "    .dataframe tbody tr th {\n",
       "        vertical-align: top;\n",
       "    }\n",
       "\n",
       "    .dataframe thead th {\n",
       "        text-align: right;\n",
       "    }\n",
       "</style>\n",
       "<table border=\"1\" class=\"dataframe\">\n",
       "  <thead>\n",
       "    <tr style=\"text-align: right;\">\n",
       "      <th></th>\n",
       "      <th>0</th>\n",
       "      <th>1</th>\n",
       "      <th>2</th>\n",
       "      <th>3</th>\n",
       "    </tr>\n",
       "  </thead>\n",
       "  <tbody>\n",
       "    <tr>\n",
       "      <th>4872</th>\n",
       "      <td>-26854.485194</td>\n",
       "      <td>-6279.032176</td>\n",
       "      <td>83624.374382</td>\n",
       "      <td>-39471.913565</td>\n",
       "    </tr>\n",
       "    <tr>\n",
       "      <th>4586</th>\n",
       "      <td>-31874.988799</td>\n",
       "      <td>-7462.059542</td>\n",
       "      <td>99244.447233</td>\n",
       "      <td>-46843.862099</td>\n",
       "    </tr>\n",
       "    <tr>\n",
       "      <th>4175</th>\n",
       "      <td>-27112.223108</td>\n",
       "      <td>-6338.675759</td>\n",
       "      <td>84430.186624</td>\n",
       "      <td>-39850.735976</td>\n",
       "    </tr>\n",
       "  </tbody>\n",
       "</table>\n",
       "</div>"
      ],
      "text/plain": [
       "                 0            1             2             3\n",
       "4872 -26854.485194 -6279.032176  83624.374382 -39471.913565\n",
       "4586 -31874.988799 -7462.059542  99244.447233 -46843.862099\n",
       "4175 -27112.223108 -6338.675759  84430.186624 -39850.735976"
      ]
     },
     "execution_count": 35,
     "metadata": {},
     "output_type": "execute_result"
    }
   ],
   "source": [
    "features_p = features @ P\n",
    "features_p.sample(3)"
   ]
  },
  {
   "cell_type": "markdown",
   "metadata": {},
   "source": [
    "Для проверки алгоритма проведем моделирование на исходных данных $features$ и на шифрованных данных $features_p$. Сравним метрики $R2$, согласно выводу из предыдущего пункта, метрики должны совпасть."
   ]
  },
  {
   "cell_type": "code",
   "execution_count": 36,
   "metadata": {},
   "outputs": [
    {
     "name": "stdout",
     "output_type": "stream",
     "text": [
      "Метрика R2 модели на исходных данных: 0.43020\n"
     ]
    }
   ],
   "source": [
    "model = LinearRegression()\n",
    "model.fit(features, target)\n",
    "predictions = model.predict(features)\n",
    "r2 = r2_score(target, predictions)\n",
    "print(f'Метрика R2 модели на исходных данных: {r2:.5f}')"
   ]
  },
  {
   "cell_type": "code",
   "execution_count": 37,
   "metadata": {},
   "outputs": [
    {
     "name": "stdout",
     "output_type": "stream",
     "text": [
      "Метрика R2 модели на шифрованных данных: 0.43020\n"
     ]
    }
   ],
   "source": [
    "model_p = LinearRegression()\n",
    "model_p.fit(features_p, target)\n",
    "predictions_p = model_p.predict(features_p)\n",
    "r2_p = r2_score(target, predictions_p)\n",
    "print(f'Метрика R2 модели на шифрованных данных: {r2:.5f}')"
   ]
  },
  {
   "cell_type": "markdown",
   "metadata": {},
   "source": [
    "**Вывод:**\n",
    "\n",
    "Метрики R2 обеих моделей совпадают, значит наше предположение по алгоритму преобразования оказалось верным - для шифрования данных можно использовать умножение исходных данных на обратимую матрицу, качество линейной регрессии от такого преобразования не пострадает."
   ]
  }
 ],
 "metadata": {
  "ExecuteTimeLog": [
   {
    "duration": 1559,
    "start_time": "2022-04-23T13:15:09.736Z"
   },
   {
    "duration": 48,
    "start_time": "2022-04-23T13:16:14.789Z"
   },
   {
    "duration": 37,
    "start_time": "2022-04-23T13:17:04.248Z"
   },
   {
    "duration": 25,
    "start_time": "2022-04-23T13:17:25.793Z"
   },
   {
    "duration": 25,
    "start_time": "2022-04-23T13:17:35.682Z"
   },
   {
    "duration": 5,
    "start_time": "2022-04-23T13:24:17.965Z"
   },
   {
    "duration": 9,
    "start_time": "2022-04-23T13:25:13.706Z"
   },
   {
    "duration": 8,
    "start_time": "2022-04-23T13:26:08.614Z"
   },
   {
    "duration": 8,
    "start_time": "2022-04-23T13:26:27.998Z"
   },
   {
    "duration": 7,
    "start_time": "2022-04-23T13:26:32.149Z"
   },
   {
    "duration": 33,
    "start_time": "2022-04-23T13:26:32.158Z"
   },
   {
    "duration": 9,
    "start_time": "2022-04-23T13:26:32.192Z"
   },
   {
    "duration": 414,
    "start_time": "2022-04-23T13:28:18.620Z"
   },
   {
    "duration": 487,
    "start_time": "2022-04-23T13:28:39.809Z"
   },
   {
    "duration": 509,
    "start_time": "2022-04-23T13:29:04.193Z"
   },
   {
    "duration": 361,
    "start_time": "2022-04-23T13:31:11.035Z"
   },
   {
    "duration": 4,
    "start_time": "2022-04-23T13:31:18.141Z"
   },
   {
    "duration": 53,
    "start_time": "2022-04-23T13:31:18.148Z"
   },
   {
    "duration": 10,
    "start_time": "2022-04-23T13:31:18.203Z"
   },
   {
    "duration": 377,
    "start_time": "2022-04-23T13:31:18.214Z"
   },
   {
    "duration": 505,
    "start_time": "2022-04-23T13:31:47.594Z"
   },
   {
    "duration": 325,
    "start_time": "2022-04-23T13:31:53.165Z"
   },
   {
    "duration": 352,
    "start_time": "2022-04-23T13:32:41.203Z"
   },
   {
    "duration": 460,
    "start_time": "2022-04-23T13:35:11.721Z"
   },
   {
    "duration": 456,
    "start_time": "2022-04-23T13:35:27.757Z"
   },
   {
    "duration": 358,
    "start_time": "2022-04-23T13:36:22.610Z"
   },
   {
    "duration": 48,
    "start_time": "2022-04-25T16:18:29.263Z"
   },
   {
    "duration": 2227,
    "start_time": "2022-04-25T16:18:33.471Z"
   },
   {
    "duration": 40,
    "start_time": "2022-04-25T16:18:35.702Z"
   },
   {
    "duration": 14,
    "start_time": "2022-04-25T16:18:35.748Z"
   },
   {
    "duration": 459,
    "start_time": "2022-04-25T16:18:35.764Z"
   },
   {
    "duration": 6,
    "start_time": "2022-04-25T16:18:36.226Z"
   },
   {
    "duration": 5,
    "start_time": "2022-04-25T16:37:12.697Z"
   },
   {
    "duration": 5,
    "start_time": "2022-04-25T16:37:48.843Z"
   },
   {
    "duration": 5,
    "start_time": "2022-04-25T16:37:52.501Z"
   },
   {
    "duration": 30,
    "start_time": "2022-04-25T16:37:52.508Z"
   },
   {
    "duration": 10,
    "start_time": "2022-04-25T16:37:52.540Z"
   },
   {
    "duration": 347,
    "start_time": "2022-04-25T16:37:52.552Z"
   },
   {
    "duration": 3,
    "start_time": "2022-04-25T16:37:52.901Z"
   },
   {
    "duration": 7,
    "start_time": "2022-04-25T16:37:52.906Z"
   },
   {
    "duration": 5,
    "start_time": "2022-04-25T16:41:50.768Z"
   },
   {
    "duration": 11,
    "start_time": "2022-04-25T16:44:10.161Z"
   },
   {
    "duration": 9,
    "start_time": "2022-04-25T16:44:23.223Z"
   },
   {
    "duration": 9,
    "start_time": "2022-04-25T16:44:39.853Z"
   },
   {
    "duration": 11,
    "start_time": "2022-04-25T16:46:06.804Z"
   },
   {
    "duration": 15,
    "start_time": "2022-04-25T16:46:26.093Z"
   },
   {
    "duration": 9,
    "start_time": "2022-04-25T16:46:59.580Z"
   },
   {
    "duration": 9,
    "start_time": "2022-04-25T16:47:04.320Z"
   },
   {
    "duration": 14,
    "start_time": "2022-04-25T16:47:13.270Z"
   },
   {
    "duration": 13,
    "start_time": "2022-04-25T16:47:21.080Z"
   },
   {
    "duration": 152,
    "start_time": "2022-04-25T16:53:50.196Z"
   },
   {
    "duration": 33,
    "start_time": "2022-04-25T16:54:39.837Z"
   },
   {
    "duration": 11,
    "start_time": "2022-04-25T16:56:50.749Z"
   },
   {
    "duration": 4,
    "start_time": "2022-04-25T17:02:36.306Z"
   },
   {
    "duration": 37,
    "start_time": "2022-04-25T17:02:36.312Z"
   },
   {
    "duration": 12,
    "start_time": "2022-04-25T17:02:36.352Z"
   },
   {
    "duration": 462,
    "start_time": "2022-04-25T17:02:36.366Z"
   },
   {
    "duration": 5,
    "start_time": "2022-04-25T17:02:36.832Z"
   },
   {
    "duration": 12,
    "start_time": "2022-04-25T17:02:36.839Z"
   },
   {
    "duration": 15,
    "start_time": "2022-04-25T17:02:36.853Z"
   },
   {
    "duration": 76,
    "start_time": "2022-04-25T17:02:36.870Z"
   },
   {
    "duration": 17,
    "start_time": "2022-04-25T17:02:36.948Z"
   },
   {
    "duration": 238,
    "start_time": "2022-04-26T10:28:14.820Z"
   },
   {
    "duration": 2489,
    "start_time": "2022-04-26T10:28:29.810Z"
   },
   {
    "duration": 56,
    "start_time": "2022-04-26T10:28:32.301Z"
   },
   {
    "duration": 19,
    "start_time": "2022-04-26T10:28:32.359Z"
   },
   {
    "duration": 533,
    "start_time": "2022-04-26T10:28:32.381Z"
   },
   {
    "duration": 4,
    "start_time": "2022-04-26T10:28:32.916Z"
   },
   {
    "duration": 193,
    "start_time": "2022-04-26T10:28:32.922Z"
   },
   {
    "duration": 0,
    "start_time": "2022-04-26T10:28:33.117Z"
   },
   {
    "duration": 0,
    "start_time": "2022-04-26T10:28:33.118Z"
   },
   {
    "duration": 0,
    "start_time": "2022-04-26T10:28:33.119Z"
   },
   {
    "duration": 5,
    "start_time": "2022-04-26T10:37:10.405Z"
   },
   {
    "duration": 17,
    "start_time": "2022-04-26T10:37:16.061Z"
   },
   {
    "duration": 22,
    "start_time": "2022-04-26T10:37:16.380Z"
   },
   {
    "duration": 73,
    "start_time": "2022-04-26T10:37:16.661Z"
   },
   {
    "duration": 47,
    "start_time": "2022-05-03T19:58:09.198Z"
   },
   {
    "duration": 1685,
    "start_time": "2022-05-03T19:58:14.035Z"
   },
   {
    "duration": 35,
    "start_time": "2022-05-03T19:58:15.723Z"
   },
   {
    "duration": 10,
    "start_time": "2022-05-03T19:58:15.760Z"
   },
   {
    "duration": 385,
    "start_time": "2022-05-03T19:58:15.772Z"
   },
   {
    "duration": 310,
    "start_time": "2022-05-03T19:58:16.160Z"
   },
   {
    "duration": 5,
    "start_time": "2022-05-03T19:58:16.472Z"
   },
   {
    "duration": 91,
    "start_time": "2022-05-03T19:58:16.478Z"
   },
   {
    "duration": 0,
    "start_time": "2022-05-03T19:58:16.571Z"
   },
   {
    "duration": 0,
    "start_time": "2022-05-03T19:58:16.572Z"
   },
   {
    "duration": 0,
    "start_time": "2022-05-03T19:58:16.574Z"
   },
   {
    "duration": 688,
    "start_time": "2022-05-03T19:58:36.669Z"
   },
   {
    "duration": 790,
    "start_time": "2022-05-03T19:59:54.108Z"
   },
   {
    "duration": 927,
    "start_time": "2022-05-03T20:02:18.950Z"
   },
   {
    "duration": 908,
    "start_time": "2022-05-03T20:02:27.305Z"
   },
   {
    "duration": 5,
    "start_time": "2022-05-03T20:24:19.315Z"
   },
   {
    "duration": 7,
    "start_time": "2022-05-03T20:24:33.630Z"
   },
   {
    "duration": 13,
    "start_time": "2022-05-03T20:24:35.102Z"
   },
   {
    "duration": 16,
    "start_time": "2022-05-03T20:24:36.466Z"
   },
   {
    "duration": 10,
    "start_time": "2022-05-03T20:24:37.080Z"
   },
   {
    "duration": 3,
    "start_time": "2022-05-03T20:24:45.191Z"
   },
   {
    "duration": 33,
    "start_time": "2022-05-03T20:24:45.196Z"
   },
   {
    "duration": 10,
    "start_time": "2022-05-03T20:24:45.231Z"
   },
   {
    "duration": 372,
    "start_time": "2022-05-03T20:24:45.243Z"
   },
   {
    "duration": 883,
    "start_time": "2022-05-03T20:24:45.617Z"
   },
   {
    "duration": 4,
    "start_time": "2022-05-03T20:24:46.502Z"
   },
   {
    "duration": 30,
    "start_time": "2022-05-03T20:24:46.507Z"
   },
   {
    "duration": 29,
    "start_time": "2022-05-03T20:24:46.538Z"
   },
   {
    "duration": 87,
    "start_time": "2022-05-03T20:24:46.568Z"
   },
   {
    "duration": 106,
    "start_time": "2022-05-03T20:24:46.663Z"
   },
   {
    "duration": 4,
    "start_time": "2022-05-03T20:26:29.627Z"
   },
   {
    "duration": 32,
    "start_time": "2022-05-03T20:26:29.934Z"
   },
   {
    "duration": 11,
    "start_time": "2022-05-03T20:26:31.184Z"
   },
   {
    "duration": 358,
    "start_time": "2022-05-03T20:26:33.113Z"
   },
   {
    "duration": 792,
    "start_time": "2022-05-03T20:26:41.242Z"
   },
   {
    "duration": 5,
    "start_time": "2022-05-03T20:26:59.674Z"
   },
   {
    "duration": 5,
    "start_time": "2022-05-03T20:28:53.291Z"
   },
   {
    "duration": 9,
    "start_time": "2022-05-03T20:28:56.991Z"
   },
   {
    "duration": 9,
    "start_time": "2022-05-03T20:28:58.589Z"
   },
   {
    "duration": 9,
    "start_time": "2022-05-03T20:28:59.289Z"
   }
  ],
  "kernelspec": {
   "display_name": "Python 3 (ipykernel)",
   "language": "python",
   "name": "python3"
  },
  "language_info": {
   "codemirror_mode": {
    "name": "ipython",
    "version": 3
   },
   "file_extension": ".py",
   "mimetype": "text/x-python",
   "name": "python",
   "nbconvert_exporter": "python",
   "pygments_lexer": "ipython3",
   "version": "3.9.5"
  },
  "toc": {
   "base_numbering": 1,
   "nav_menu": {},
   "number_sections": true,
   "sideBar": true,
   "skip_h1_title": true,
   "title_cell": "Содержание",
   "title_sidebar": "Contents",
   "toc_cell": true,
   "toc_position": {},
   "toc_section_display": true,
   "toc_window_display": true
  }
 },
 "nbformat": 4,
 "nbformat_minor": 2
}
