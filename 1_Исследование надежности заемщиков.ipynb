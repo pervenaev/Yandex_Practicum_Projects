{
 "cells": [
  {
   "cell_type": "markdown",
   "metadata": {},
   "source": [
    "# Исследование надёжности заёмщиков\n",
    "\n",
    "Заказчик — кредитный отдел банка. Нужно разобраться, влияет ли семейное положение и количество детей клиента на факт погашения кредита в срок. Входные данные от банка — статистика о платёжеспособности клиентов.\n",
    "\n",
    "Результаты исследования будут учтены при построении модели **кредитного скоринга** — специальной системы, которая оценивает способность потенциального заёмщика вернуть кредит банку."
   ]
  },
  {
   "cell_type": "markdown",
   "metadata": {},
   "source": [
    "## Шаг 1. Откройте файл с данными и изучите общую информацию"
   ]
  },
  {
   "cell_type": "code",
   "execution_count": 1,
   "metadata": {},
   "outputs": [
    {
     "name": "stdout",
     "output_type": "stream",
     "text": [
      "<class 'pandas.core.frame.DataFrame'>\n",
      "RangeIndex: 21525 entries, 0 to 21524\n",
      "Data columns (total 12 columns):\n",
      " #   Column            Non-Null Count  Dtype  \n",
      "---  ------            --------------  -----  \n",
      " 0   children          21525 non-null  int64  \n",
      " 1   days_employed     19351 non-null  float64\n",
      " 2   dob_years         21525 non-null  int64  \n",
      " 3   education         21525 non-null  object \n",
      " 4   education_id      21525 non-null  int64  \n",
      " 5   family_status     21525 non-null  object \n",
      " 6   family_status_id  21525 non-null  int64  \n",
      " 7   gender            21525 non-null  object \n",
      " 8   income_type       21525 non-null  object \n",
      " 9   debt              21525 non-null  int64  \n",
      " 10  total_income      19351 non-null  float64\n",
      " 11  purpose           21525 non-null  object \n",
      "dtypes: float64(2), int64(5), object(5)\n",
      "memory usage: 2.0+ MB\n"
     ]
    },
    {
     "data": {
      "text/html": [
       "<div>\n",
       "<style scoped>\n",
       "    .dataframe tbody tr th:only-of-type {\n",
       "        vertical-align: middle;\n",
       "    }\n",
       "\n",
       "    .dataframe tbody tr th {\n",
       "        vertical-align: top;\n",
       "    }\n",
       "\n",
       "    .dataframe thead th {\n",
       "        text-align: right;\n",
       "    }\n",
       "</style>\n",
       "<table border=\"1\" class=\"dataframe\">\n",
       "  <thead>\n",
       "    <tr style=\"text-align: right;\">\n",
       "      <th></th>\n",
       "      <th>children</th>\n",
       "      <th>days_employed</th>\n",
       "      <th>dob_years</th>\n",
       "      <th>education</th>\n",
       "      <th>education_id</th>\n",
       "      <th>family_status</th>\n",
       "      <th>family_status_id</th>\n",
       "      <th>gender</th>\n",
       "      <th>income_type</th>\n",
       "      <th>debt</th>\n",
       "      <th>total_income</th>\n",
       "      <th>purpose</th>\n",
       "    </tr>\n",
       "  </thead>\n",
       "  <tbody>\n",
       "    <tr>\n",
       "      <th>0</th>\n",
       "      <td>1</td>\n",
       "      <td>-8437.673028</td>\n",
       "      <td>42</td>\n",
       "      <td>высшее</td>\n",
       "      <td>0</td>\n",
       "      <td>женат / замужем</td>\n",
       "      <td>0</td>\n",
       "      <td>F</td>\n",
       "      <td>сотрудник</td>\n",
       "      <td>0</td>\n",
       "      <td>253875.639453</td>\n",
       "      <td>покупка жилья</td>\n",
       "    </tr>\n",
       "    <tr>\n",
       "      <th>1</th>\n",
       "      <td>1</td>\n",
       "      <td>-4024.803754</td>\n",
       "      <td>36</td>\n",
       "      <td>среднее</td>\n",
       "      <td>1</td>\n",
       "      <td>женат / замужем</td>\n",
       "      <td>0</td>\n",
       "      <td>F</td>\n",
       "      <td>сотрудник</td>\n",
       "      <td>0</td>\n",
       "      <td>112080.014102</td>\n",
       "      <td>приобретение автомобиля</td>\n",
       "    </tr>\n",
       "    <tr>\n",
       "      <th>2</th>\n",
       "      <td>0</td>\n",
       "      <td>-5623.422610</td>\n",
       "      <td>33</td>\n",
       "      <td>Среднее</td>\n",
       "      <td>1</td>\n",
       "      <td>женат / замужем</td>\n",
       "      <td>0</td>\n",
       "      <td>M</td>\n",
       "      <td>сотрудник</td>\n",
       "      <td>0</td>\n",
       "      <td>145885.952297</td>\n",
       "      <td>покупка жилья</td>\n",
       "    </tr>\n",
       "    <tr>\n",
       "      <th>3</th>\n",
       "      <td>3</td>\n",
       "      <td>-4124.747207</td>\n",
       "      <td>32</td>\n",
       "      <td>среднее</td>\n",
       "      <td>1</td>\n",
       "      <td>женат / замужем</td>\n",
       "      <td>0</td>\n",
       "      <td>M</td>\n",
       "      <td>сотрудник</td>\n",
       "      <td>0</td>\n",
       "      <td>267628.550329</td>\n",
       "      <td>дополнительное образование</td>\n",
       "    </tr>\n",
       "    <tr>\n",
       "      <th>4</th>\n",
       "      <td>0</td>\n",
       "      <td>340266.072047</td>\n",
       "      <td>53</td>\n",
       "      <td>среднее</td>\n",
       "      <td>1</td>\n",
       "      <td>гражданский брак</td>\n",
       "      <td>1</td>\n",
       "      <td>F</td>\n",
       "      <td>пенсионер</td>\n",
       "      <td>0</td>\n",
       "      <td>158616.077870</td>\n",
       "      <td>сыграть свадьбу</td>\n",
       "    </tr>\n",
       "  </tbody>\n",
       "</table>\n",
       "</div>"
      ],
      "text/plain": [
       "   children  days_employed  dob_years education  education_id  \\\n",
       "0         1   -8437.673028         42    высшее             0   \n",
       "1         1   -4024.803754         36   среднее             1   \n",
       "2         0   -5623.422610         33   Среднее             1   \n",
       "3         3   -4124.747207         32   среднее             1   \n",
       "4         0  340266.072047         53   среднее             1   \n",
       "\n",
       "      family_status  family_status_id gender income_type  debt   total_income  \\\n",
       "0   женат / замужем                 0      F   сотрудник     0  253875.639453   \n",
       "1   женат / замужем                 0      F   сотрудник     0  112080.014102   \n",
       "2   женат / замужем                 0      M   сотрудник     0  145885.952297   \n",
       "3   женат / замужем                 0      M   сотрудник     0  267628.550329   \n",
       "4  гражданский брак                 1      F   пенсионер     0  158616.077870   \n",
       "\n",
       "                      purpose  \n",
       "0               покупка жилья  \n",
       "1     приобретение автомобиля  \n",
       "2               покупка жилья  \n",
       "3  дополнительное образование  \n",
       "4             сыграть свадьбу  "
      ]
     },
     "metadata": {},
     "output_type": "display_data"
    },
    {
     "data": {
      "text/plain": [
       "children                8\n",
       "days_employed       19351\n",
       "dob_years              58\n",
       "education              15\n",
       "education_id            5\n",
       "family_status           5\n",
       "family_status_id        5\n",
       "gender                  3\n",
       "income_type             8\n",
       "debt                    2\n",
       "total_income        19351\n",
       "purpose                38\n",
       "dtype: int64"
      ]
     },
     "execution_count": 1,
     "metadata": {},
     "output_type": "execute_result"
    }
   ],
   "source": [
    "import pandas as pd\n",
    "ds = pd.read_csv('/datasets/data.csv')\n",
    "ds.info()\n",
    "display(ds.head())\n",
    "ds.nunique()"
   ]
  },
  {
   "cell_type": "markdown",
   "metadata": {},
   "source": [
    "**Вывод**"
   ]
  },
  {
   "cell_type": "markdown",
   "metadata": {},
   "source": [
    "Полученные данные не пригодны для качественного анализа. В столбцах **\"days_employed\"** и **\"total_income\"** отсутствуют данные, вещественные значения в этих же столбцах мешают воспритию данных. В столбце **\"education\"** не соблюдается единый регистр заполнения, что вполне могло привести к появлению дубликатов, количество уникальных значений этого столбца должно совпадать со столбцом **\"education_id\"**. Дубликаты могли возникнуть и на основе последнего столбца **\"purpose\"**, где значения скорее всего заполнялись в свободной форме. В столбце **\"gender\"** присутствует третье лишнее обозначение пола, нужно его найти и исправить.  Стоит проверить на наличие ошибок столбцы **\"children\"** и **\"dob_years\"**.  Следует разобраться и со столбцом **\"income_type\"** - непонятны принципы категоризации данных в этом столбце. Поэтому перед началом анализа полученные данные следует обработать."
   ]
  },
  {
   "cell_type": "markdown",
   "metadata": {},
   "source": [
    "## Шаг 2. Предобработка данных"
   ]
  },
  {
   "cell_type": "markdown",
   "metadata": {},
   "source": [
    "### Обработка пропусков"
   ]
  },
  {
   "cell_type": "markdown",
   "metadata": {},
   "source": [
    "Явные пропуски присутствуют в столбцах **\"days_employed\"** и **\"total_income\"**, обработаем их."
   ]
  },
  {
   "cell_type": "code",
   "execution_count": 2,
   "metadata": {},
   "outputs": [
    {
     "data": {
      "text/html": [
       "<div>\n",
       "<style scoped>\n",
       "    .dataframe tbody tr th:only-of-type {\n",
       "        vertical-align: middle;\n",
       "    }\n",
       "\n",
       "    .dataframe tbody tr th {\n",
       "        vertical-align: top;\n",
       "    }\n",
       "\n",
       "    .dataframe thead th {\n",
       "        text-align: right;\n",
       "    }\n",
       "</style>\n",
       "<table border=\"1\" class=\"dataframe\">\n",
       "  <thead>\n",
       "    <tr style=\"text-align: right;\">\n",
       "      <th></th>\n",
       "      <th>children</th>\n",
       "      <th>days_employed</th>\n",
       "      <th>dob_years</th>\n",
       "      <th>education</th>\n",
       "      <th>education_id</th>\n",
       "      <th>family_status</th>\n",
       "      <th>family_status_id</th>\n",
       "      <th>gender</th>\n",
       "      <th>income_type</th>\n",
       "      <th>debt</th>\n",
       "      <th>total_income</th>\n",
       "      <th>purpose</th>\n",
       "    </tr>\n",
       "  </thead>\n",
       "  <tbody>\n",
       "    <tr>\n",
       "      <th>12</th>\n",
       "      <td>0</td>\n",
       "      <td>NaN</td>\n",
       "      <td>65</td>\n",
       "      <td>среднее</td>\n",
       "      <td>1</td>\n",
       "      <td>гражданский брак</td>\n",
       "      <td>1</td>\n",
       "      <td>M</td>\n",
       "      <td>пенсионер</td>\n",
       "      <td>0</td>\n",
       "      <td>NaN</td>\n",
       "      <td>сыграть свадьбу</td>\n",
       "    </tr>\n",
       "    <tr>\n",
       "      <th>26</th>\n",
       "      <td>0</td>\n",
       "      <td>NaN</td>\n",
       "      <td>41</td>\n",
       "      <td>среднее</td>\n",
       "      <td>1</td>\n",
       "      <td>женат / замужем</td>\n",
       "      <td>0</td>\n",
       "      <td>M</td>\n",
       "      <td>госслужащий</td>\n",
       "      <td>0</td>\n",
       "      <td>NaN</td>\n",
       "      <td>образование</td>\n",
       "    </tr>\n",
       "    <tr>\n",
       "      <th>29</th>\n",
       "      <td>0</td>\n",
       "      <td>NaN</td>\n",
       "      <td>63</td>\n",
       "      <td>среднее</td>\n",
       "      <td>1</td>\n",
       "      <td>Не женат / не замужем</td>\n",
       "      <td>4</td>\n",
       "      <td>F</td>\n",
       "      <td>пенсионер</td>\n",
       "      <td>0</td>\n",
       "      <td>NaN</td>\n",
       "      <td>строительство жилой недвижимости</td>\n",
       "    </tr>\n",
       "    <tr>\n",
       "      <th>41</th>\n",
       "      <td>0</td>\n",
       "      <td>NaN</td>\n",
       "      <td>50</td>\n",
       "      <td>среднее</td>\n",
       "      <td>1</td>\n",
       "      <td>женат / замужем</td>\n",
       "      <td>0</td>\n",
       "      <td>F</td>\n",
       "      <td>госслужащий</td>\n",
       "      <td>0</td>\n",
       "      <td>NaN</td>\n",
       "      <td>сделка с подержанным автомобилем</td>\n",
       "    </tr>\n",
       "    <tr>\n",
       "      <th>55</th>\n",
       "      <td>0</td>\n",
       "      <td>NaN</td>\n",
       "      <td>54</td>\n",
       "      <td>среднее</td>\n",
       "      <td>1</td>\n",
       "      <td>гражданский брак</td>\n",
       "      <td>1</td>\n",
       "      <td>F</td>\n",
       "      <td>пенсионер</td>\n",
       "      <td>1</td>\n",
       "      <td>NaN</td>\n",
       "      <td>сыграть свадьбу</td>\n",
       "    </tr>\n",
       "  </tbody>\n",
       "</table>\n",
       "</div>"
      ],
      "text/plain": [
       "    children  days_employed  dob_years education  education_id  \\\n",
       "12         0            NaN         65   среднее             1   \n",
       "26         0            NaN         41   среднее             1   \n",
       "29         0            NaN         63   среднее             1   \n",
       "41         0            NaN         50   среднее             1   \n",
       "55         0            NaN         54   среднее             1   \n",
       "\n",
       "            family_status  family_status_id gender  income_type  debt  \\\n",
       "12       гражданский брак                 1      M    пенсионер     0   \n",
       "26        женат / замужем                 0      M  госслужащий     0   \n",
       "29  Не женат / не замужем                 4      F    пенсионер     0   \n",
       "41        женат / замужем                 0      F  госслужащий     0   \n",
       "55       гражданский брак                 1      F    пенсионер     1   \n",
       "\n",
       "    total_income                           purpose  \n",
       "12           NaN                   сыграть свадьбу  \n",
       "26           NaN                       образование  \n",
       "29           NaN  строительство жилой недвижимости  \n",
       "41           NaN  сделка с подержанным автомобилем  \n",
       "55           NaN                   сыграть свадьбу  "
      ]
     },
     "metadata": {},
     "output_type": "display_data"
    },
    {
     "data": {
      "text/plain": [
       "10.1"
      ]
     },
     "execution_count": 2,
     "metadata": {},
     "output_type": "execute_result"
    }
   ],
   "source": [
    "display(ds[ds['days_employed'].isna()].head())\n",
    "round(len(ds[ds['days_employed'].isna()])/len(ds['days_employed'])*100, 1) # количество пропусков в процентном отношении"
   ]
  },
  {
   "cell_type": "markdown",
   "metadata": {},
   "source": [
    "Пропуски в столбцах **\"days_employed\"** и **\"total_income\"** приходятся на одни и те же строки (данные по клиенту). Это может быть связано с невозможностью или нежеланием заемщика передавать банку информацию о трудовом стаже и доходе. Количество пропусков составляет около 10%, если строки с пропущенными значениями удалить, то это может привести к искажению общего результата анализа. Однозначно связать наличие пропусков с данными одного из столбцов нельзя, пропущенные значения встречаются у разных заемщиков, независимо от семейного положения, типа занятости, пола, количества детей или цели кредита. Но имеет смысл связать пропущенные значения с типом занятости заемщика - найти медиану значений **\"days_employed\"** и **\"total_income\"** по каждой категории из столбца **\"income_type\"** и заменить пропущенные данные полученными значениями."
   ]
  },
  {
   "cell_type": "code",
   "execution_count": 3,
   "metadata": {},
   "outputs": [
    {
     "data": {
      "text/plain": [
       "children            0\n",
       "days_employed       0\n",
       "dob_years           0\n",
       "education           0\n",
       "education_id        0\n",
       "family_status       0\n",
       "family_status_id    0\n",
       "gender              0\n",
       "income_type         0\n",
       "debt                0\n",
       "total_income        0\n",
       "purpose             0\n",
       "dtype: int64"
      ]
     },
     "execution_count": 3,
     "metadata": {},
     "output_type": "execute_result"
    }
   ],
   "source": [
    "ds_grouped_days = ds.groupby('income_type')['days_employed'].median() # медианы значений общего трудового стажа по категориям\n",
    "def replacement(row):                                        # функция для замены пропущенных значений в столбце \"income_type\"\n",
    "    if pd.isna(row['days_employed']):\n",
    "        return ds_grouped_days.loc[row['income_type']]\n",
    "    return row['days_employed']\n",
    "ds['days_employed'] = ds.apply(replacement, axis=1)\n",
    "\n",
    "ds_grouped_income = ds.groupby('income_type')['total_income'].median() # медианы значений ежемесячного дохода по категориям\n",
    "def replacement(row):                                        # функция для замены пропущенных значений в столбце \"total_income\"\n",
    "    if pd.isna(row['total_income']):\n",
    "        return ds_grouped_income.loc[row['income_type']]\n",
    "    return row['total_income']\n",
    "ds['total_income'] = ds.apply(replacement, axis=1)           \n",
    "ds[ds.isna()].count()"
   ]
  },
  {
   "cell_type": "markdown",
   "metadata": {},
   "source": [
    "Далее проверим столбцы **\"children\"**, **\"dob_years\"** и **\"gender\"** на наличие ошибок и исправим их."
   ]
  },
  {
   "cell_type": "code",
   "execution_count": 4,
   "metadata": {},
   "outputs": [
    {
     "data": {
      "text/plain": [
       "children\n",
       "-1        47\n",
       " 0     14149\n",
       " 1      4818\n",
       " 2      2055\n",
       " 3       330\n",
       " 4        41\n",
       " 5         9\n",
       " 20       76\n",
       "Name: children, dtype: int64"
      ]
     },
     "metadata": {},
     "output_type": "display_data"
    },
    {
     "data": {
      "text/plain": [
       "children\n",
       "0.0    14149\n",
       "1.0     4865\n",
       "2.0     2131\n",
       "3.0      330\n",
       "4.0       41\n",
       "5.0        9\n",
       "Name: children, dtype: int64"
      ]
     },
     "execution_count": 4,
     "metadata": {},
     "output_type": "execute_result"
    }
   ],
   "source": [
    "display(ds.groupby('children')['children'].count()) # количество уникальных значений в столбце\n",
    "ds.loc[ds['children'] < 0, 'children'] = abs(ds['children']) # исправляем отрицательные значения\n",
    "ds.loc[ds['children'] > 5, 'children'] = ds['children']/10 # исправляем значения с лишним знакомом 0\n",
    "ds.groupby('children')['children'].count() # проверяем количество уникальных значений после исправлений"
   ]
  },
  {
   "cell_type": "markdown",
   "metadata": {},
   "source": [
    "В столбце **\"children\"** имелись две ошибки: -1 и 20, которые возникли скорее всего при внесении данных. Отрицательного значения количества детей быть не может и 76 заемщиков с 20-ю детьми скорее всего тоже. \n",
    "\n",
    "Далее проверим столбец **\"dob_years\"**: "
   ]
  },
  {
   "cell_type": "code",
   "execution_count": 5,
   "metadata": {},
   "outputs": [
    {
     "data": {
      "text/plain": [
       "dob_years\n",
       "0     101\n",
       "19     14\n",
       "20     51\n",
       "21    111\n",
       "22    183\n",
       "23    254\n",
       "24    264\n",
       "25    357\n",
       "26    408\n",
       "27    493\n",
       "28    503\n",
       "29    545\n",
       "30    540\n",
       "31    560\n",
       "32    510\n",
       "33    581\n",
       "34    603\n",
       "35    617\n",
       "36    555\n",
       "37    537\n",
       "38    598\n",
       "39    573\n",
       "40    609\n",
       "41    607\n",
       "42    597\n",
       "43    513\n",
       "44    547\n",
       "45    497\n",
       "46    475\n",
       "47    480\n",
       "48    538\n",
       "49    508\n",
       "50    514\n",
       "51    448\n",
       "52    484\n",
       "53    459\n",
       "54    479\n",
       "55    443\n",
       "56    487\n",
       "57    460\n",
       "58    461\n",
       "59    444\n",
       "60    377\n",
       "61    355\n",
       "62    352\n",
       "63    269\n",
       "64    265\n",
       "65    194\n",
       "66    183\n",
       "67    167\n",
       "68     99\n",
       "69     85\n",
       "70     65\n",
       "71     58\n",
       "72     33\n",
       "73      8\n",
       "74      6\n",
       "75      1\n",
       "Name: dob_years, dtype: int64"
      ]
     },
     "metadata": {},
     "output_type": "display_data"
    },
    {
     "data": {
      "text/plain": [
       "dob_years\n",
       "19.0     14\n",
       "20.0     51\n",
       "21.0    111\n",
       "22.0    183\n",
       "23.0    254\n",
       "24.0    264\n",
       "25.0    357\n",
       "26.0    408\n",
       "27.0    493\n",
       "28.0    503\n",
       "29.0    545\n",
       "30.0    540\n",
       "31.0    560\n",
       "32.0    510\n",
       "33.0    581\n",
       "34.0    603\n",
       "35.0    617\n",
       "36.0    555\n",
       "37.0    537\n",
       "38.0    598\n",
       "39.0    573\n",
       "40.0    609\n",
       "41.0    607\n",
       "42.0    698\n",
       "43.0    513\n",
       "44.0    547\n",
       "45.0    497\n",
       "46.0    475\n",
       "47.0    480\n",
       "48.0    538\n",
       "49.0    508\n",
       "50.0    514\n",
       "51.0    448\n",
       "52.0    484\n",
       "53.0    459\n",
       "54.0    479\n",
       "55.0    443\n",
       "56.0    487\n",
       "57.0    460\n",
       "58.0    461\n",
       "59.0    444\n",
       "60.0    377\n",
       "61.0    355\n",
       "62.0    352\n",
       "63.0    269\n",
       "64.0    265\n",
       "65.0    194\n",
       "66.0    183\n",
       "67.0    167\n",
       "68.0     99\n",
       "69.0     85\n",
       "70.0     65\n",
       "71.0     58\n",
       "72.0     33\n",
       "73.0      8\n",
       "74.0      6\n",
       "75.0      1\n",
       "Name: dob_years, dtype: int64"
      ]
     },
     "execution_count": 5,
     "metadata": {},
     "output_type": "execute_result"
    }
   ],
   "source": [
    "display(ds.groupby('dob_years')['dob_years'].count()) # количество уникальных значений в столбце\n",
    "ds.loc[ds['dob_years'] == 0, 'dob_years'] = ds['dob_years'].median() # исправляем нулевые значения на медианные\n",
    "ds.groupby('dob_years')['dob_years'].count() # проверяем уникальные значения после исправлений"
   ]
  },
  {
   "cell_type": "markdown",
   "metadata": {},
   "source": [
    "В столбце **\"dob_years\"** имелась 101 строка с данными о заемщике с возрастом 0 лет. Доподлинно установить возраст у нас возможности нет, поэтому стоит изменить значние возраста в этих строках на медианное по всему столбцу. После изменений количество заемщиков в возрасте 42 года (медиана) увеличилось на 101 человека. Данные исказились, но поскольку изменения пришлись самую активную возрастную группу заемщиков, можно считать, что на конечный результат такое измение не повлияет.\n",
    "\n",
    "В столбце **\"gender\"** явно имеется ошибка, нужно и её исправить:"
   ]
  },
  {
   "cell_type": "code",
   "execution_count": 6,
   "metadata": {},
   "outputs": [
    {
     "data": {
      "text/plain": [
       "F      14236\n",
       "M       7288\n",
       "XNA        1\n",
       "Name: gender, dtype: int64"
      ]
     },
     "metadata": {},
     "output_type": "display_data"
    },
    {
     "data": {
      "text/plain": [
       "F    14237\n",
       "M     7288\n",
       "Name: gender, dtype: int64"
      ]
     },
     "execution_count": 6,
     "metadata": {},
     "output_type": "execute_result"
    }
   ],
   "source": [
    "display(ds['gender'].value_counts()) \n",
    "ds.loc[ds['gender'] == 'XNA', 'gender'] = 'F' \n",
    "ds['gender'].value_counts() "
   ]
  },
  {
   "cell_type": "markdown",
   "metadata": {},
   "source": [
    "Поскольку заемщиков женского пола вдвое больше и неопределенное обозначение \"XNA\" присутствует только в единичном случае, можно изменить значение \"XNA\" на \"F\", на общую картину такое изменение не повлияет. "
   ]
  },
  {
   "cell_type": "markdown",
   "metadata": {},
   "source": [
    "**Вывод**"
   ]
  },
  {
   "cell_type": "markdown",
   "metadata": {},
   "source": [
    "Теперь пустых значений в таблице нет, явных ошибочных данных тоже нет. В столбцах **\"days_employed\"** и **\"total_income\"** тип указанных данных - вещественный, с шестью знаками после запятой. Для ответа на поставленные гипотезы точность данных из столбцов **\"days_employed\"** и **\"total_income\"** особой роли не играет, поэтому имееет смысл привести тип данных в этих столбцах к целому. В столбце **\"children\"** после изменений тип данных сменился на вещественный, его тоже стоит вернуть к целому."
   ]
  },
  {
   "cell_type": "markdown",
   "metadata": {},
   "source": [
    "### Замена типа данных"
   ]
  },
  {
   "cell_type": "code",
   "execution_count": 7,
   "metadata": {
    "scrolled": true
   },
   "outputs": [
    {
     "data": {
      "text/html": [
       "<div>\n",
       "<style scoped>\n",
       "    .dataframe tbody tr th:only-of-type {\n",
       "        vertical-align: middle;\n",
       "    }\n",
       "\n",
       "    .dataframe tbody tr th {\n",
       "        vertical-align: top;\n",
       "    }\n",
       "\n",
       "    .dataframe thead th {\n",
       "        text-align: right;\n",
       "    }\n",
       "</style>\n",
       "<table border=\"1\" class=\"dataframe\">\n",
       "  <thead>\n",
       "    <tr style=\"text-align: right;\">\n",
       "      <th></th>\n",
       "      <th>children</th>\n",
       "      <th>days_employed</th>\n",
       "      <th>dob_years</th>\n",
       "      <th>education</th>\n",
       "      <th>education_id</th>\n",
       "      <th>family_status</th>\n",
       "      <th>family_status_id</th>\n",
       "      <th>gender</th>\n",
       "      <th>income_type</th>\n",
       "      <th>debt</th>\n",
       "      <th>total_income</th>\n",
       "      <th>purpose</th>\n",
       "    </tr>\n",
       "  </thead>\n",
       "  <tbody>\n",
       "    <tr>\n",
       "      <th>0</th>\n",
       "      <td>1</td>\n",
       "      <td>-8437</td>\n",
       "      <td>42.0</td>\n",
       "      <td>высшее</td>\n",
       "      <td>0</td>\n",
       "      <td>женат / замужем</td>\n",
       "      <td>0</td>\n",
       "      <td>F</td>\n",
       "      <td>сотрудник</td>\n",
       "      <td>0</td>\n",
       "      <td>253875</td>\n",
       "      <td>покупка жилья</td>\n",
       "    </tr>\n",
       "    <tr>\n",
       "      <th>1</th>\n",
       "      <td>1</td>\n",
       "      <td>-4024</td>\n",
       "      <td>36.0</td>\n",
       "      <td>среднее</td>\n",
       "      <td>1</td>\n",
       "      <td>женат / замужем</td>\n",
       "      <td>0</td>\n",
       "      <td>F</td>\n",
       "      <td>сотрудник</td>\n",
       "      <td>0</td>\n",
       "      <td>112080</td>\n",
       "      <td>приобретение автомобиля</td>\n",
       "    </tr>\n",
       "    <tr>\n",
       "      <th>2</th>\n",
       "      <td>0</td>\n",
       "      <td>-5623</td>\n",
       "      <td>33.0</td>\n",
       "      <td>Среднее</td>\n",
       "      <td>1</td>\n",
       "      <td>женат / замужем</td>\n",
       "      <td>0</td>\n",
       "      <td>M</td>\n",
       "      <td>сотрудник</td>\n",
       "      <td>0</td>\n",
       "      <td>145885</td>\n",
       "      <td>покупка жилья</td>\n",
       "    </tr>\n",
       "    <tr>\n",
       "      <th>3</th>\n",
       "      <td>3</td>\n",
       "      <td>-4124</td>\n",
       "      <td>32.0</td>\n",
       "      <td>среднее</td>\n",
       "      <td>1</td>\n",
       "      <td>женат / замужем</td>\n",
       "      <td>0</td>\n",
       "      <td>M</td>\n",
       "      <td>сотрудник</td>\n",
       "      <td>0</td>\n",
       "      <td>267628</td>\n",
       "      <td>дополнительное образование</td>\n",
       "    </tr>\n",
       "    <tr>\n",
       "      <th>4</th>\n",
       "      <td>0</td>\n",
       "      <td>340266</td>\n",
       "      <td>53.0</td>\n",
       "      <td>среднее</td>\n",
       "      <td>1</td>\n",
       "      <td>гражданский брак</td>\n",
       "      <td>1</td>\n",
       "      <td>F</td>\n",
       "      <td>пенсионер</td>\n",
       "      <td>0</td>\n",
       "      <td>158616</td>\n",
       "      <td>сыграть свадьбу</td>\n",
       "    </tr>\n",
       "  </tbody>\n",
       "</table>\n",
       "</div>"
      ],
      "text/plain": [
       "   children  days_employed  dob_years education  education_id  \\\n",
       "0         1          -8437       42.0    высшее             0   \n",
       "1         1          -4024       36.0   среднее             1   \n",
       "2         0          -5623       33.0   Среднее             1   \n",
       "3         3          -4124       32.0   среднее             1   \n",
       "4         0         340266       53.0   среднее             1   \n",
       "\n",
       "      family_status  family_status_id gender income_type  debt  total_income  \\\n",
       "0   женат / замужем                 0      F   сотрудник     0        253875   \n",
       "1   женат / замужем                 0      F   сотрудник     0        112080   \n",
       "2   женат / замужем                 0      M   сотрудник     0        145885   \n",
       "3   женат / замужем                 0      M   сотрудник     0        267628   \n",
       "4  гражданский брак                 1      F   пенсионер     0        158616   \n",
       "\n",
       "                      purpose  \n",
       "0               покупка жилья  \n",
       "1     приобретение автомобиля  \n",
       "2               покупка жилья  \n",
       "3  дополнительное образование  \n",
       "4             сыграть свадьбу  "
      ]
     },
     "execution_count": 7,
     "metadata": {},
     "output_type": "execute_result"
    }
   ],
   "source": [
    "ds['days_employed'] = ds['days_employed'].astype('int')\n",
    "ds['total_income'] = ds['total_income'].astype('int')\n",
    "ds['children'] = ds['children'].astype('int')\n",
    "ds.head()"
   ]
  },
  {
   "cell_type": "markdown",
   "metadata": {},
   "source": [
    "**Вывод**"
   ]
  },
  {
   "cell_type": "markdown",
   "metadata": {},
   "source": [
    "Значения в обработанных столбцах достаточно велики, чтобы данными после запятой можно было пренебречь. Осталось разобраться со столбцом **\"days_employed\"**(общий трудовой стаж в днях) - каким образом подсчитывались и вносились указанные данные? Отрицательных значений трудового стажа быть не может, как и нереально огромных значений, встречающихся в таблице (например, 5-я строка ds: 340266 дней - это больше 932 лет!!!)"
   ]
  },
  {
   "cell_type": "code",
   "execution_count": 8,
   "metadata": {},
   "outputs": [
    {
     "data": {
      "text/plain": [
       "income_type\n",
       "безработный        395302\n",
       "в декрете           -3296\n",
       "госслужащий           -39\n",
       "компаньон             -30\n",
       "пенсионер          401755\n",
       "предприниматель      -520\n",
       "сотрудник             -24\n",
       "студент              -578\n",
       "Name: days_employed, dtype: int64"
      ]
     },
     "metadata": {},
     "output_type": "display_data"
    },
    {
     "data": {
      "text/plain": [
       "income_type\n",
       "безработный        337524\n",
       "в декрете           -3296\n",
       "госслужащий        -15193\n",
       "компаньон          -17615\n",
       "пенсионер          328728\n",
       "предприниматель      -520\n",
       "сотрудник          -18388\n",
       "студент              -578\n",
       "Name: days_employed, dtype: int64"
      ]
     },
     "metadata": {},
     "output_type": "display_data"
    },
    {
     "data": {
      "text/plain": [
       "income_type\n",
       "безработный            2\n",
       "в декрете              1\n",
       "госслужащий         1459\n",
       "компаньон           5085\n",
       "пенсионер           3856\n",
       "предприниматель        2\n",
       "сотрудник          11119\n",
       "студент                1\n",
       "Name: days_employed, dtype: int64"
      ]
     },
     "execution_count": 8,
     "metadata": {},
     "output_type": "execute_result"
    }
   ],
   "source": [
    "display(ds.groupby('income_type')['days_employed'].max())\n",
    "display(ds.groupby('income_type')['days_employed'].min())\n",
    "ds.groupby('income_type')['days_employed'].count()"
   ]
  },
  {
   "cell_type": "markdown",
   "metadata": {},
   "source": [
    "Что все-таки означают данные из столбца **\"days_employed\"** точно определить на основе имеющихся нельзя. У большинства групп заемщиков, кроме \"безработных\" и \"пенсионеров\" значения в столбце о трудовом стаже отрицательные, а у указанных слишком огромные положительные. Можно предположить, что при формировании датафрейма произошла ошибка в наименовании столбца - он явно содержит данные не о количестве дней трудового стажа, а некоторую другую информацию, возможно внутрибанковскую шкалу оценки заемщиков или что-то подобое. Уточнить эту информацию сейчас не представляется возможным, данные этого столбца для решения нашей задачи не играют особого значения, поэтому можно оставить столбец без дальнейших изменений."
   ]
  },
  {
   "cell_type": "markdown",
   "metadata": {},
   "source": [
    "### Обработка дубликатов"
   ]
  },
  {
   "cell_type": "code",
   "execution_count": 9,
   "metadata": {},
   "outputs": [
    {
     "data": {
      "text/plain": [
       "55"
      ]
     },
     "metadata": {},
     "output_type": "display_data"
    },
    {
     "data": {
      "text/plain": [
       "72"
      ]
     },
     "metadata": {},
     "output_type": "display_data"
    },
    {
     "data": {
      "text/plain": [
       "0"
      ]
     },
     "metadata": {},
     "output_type": "display_data"
    },
    {
     "name": "stdout",
     "output_type": "stream",
     "text": [
      "<class 'pandas.core.frame.DataFrame'>\n",
      "RangeIndex: 21453 entries, 0 to 21452\n",
      "Data columns (total 12 columns):\n",
      " #   Column            Non-Null Count  Dtype  \n",
      "---  ------            --------------  -----  \n",
      " 0   children          21453 non-null  int64  \n",
      " 1   days_employed     21453 non-null  int64  \n",
      " 2   dob_years         21453 non-null  float64\n",
      " 3   education         21453 non-null  object \n",
      " 4   education_id      21453 non-null  int64  \n",
      " 5   family_status     21453 non-null  object \n",
      " 6   family_status_id  21453 non-null  int64  \n",
      " 7   gender            21453 non-null  object \n",
      " 8   income_type       21453 non-null  object \n",
      " 9   debt              21453 non-null  int64  \n",
      " 10  total_income      21453 non-null  int64  \n",
      " 11  purpose           21453 non-null  object \n",
      "dtypes: float64(1), int64(6), object(5)\n",
      "memory usage: 2.0+ MB\n"
     ]
    }
   ],
   "source": [
    "display(ds.duplicated().sum()) # проверяем на наличие дубликатов \n",
    "ds['education'] = ds['education'].str.lower() # приводим значения к однообразому нижнему регистру\n",
    "display(ds.duplicated().sum()) # проверяем на наличие дубликатов \n",
    "ds = ds.drop_duplicates() # удаляем явные дубликаты\n",
    "ds = ds.dropna().reset_index(drop=True) # удаляем пропуски, обновляем индексы\n",
    "display(ds.duplicated().sum()) # проверяем на наличие дубликатов\n",
    "ds.info()"
   ]
  },
  {
   "cell_type": "markdown",
   "metadata": {},
   "source": [
    "**Вывод**"
   ]
  },
  {
   "cell_type": "markdown",
   "metadata": {},
   "source": [
    "Датасет включал в себя 55 явных дубликатов, возникших в результате ошибки при внесении данных. После приведения значений в столбце **\"education\"** к однообразному регистру, появилась возможность определить еще 17 явных дубликатов. После удаления явных дубликатов таблица сократилась на 72 строку. \n",
    "\n",
    "На наличие неявных дубликатов следует проверить датасет по столбцам **\"family_status\"** и **\"purpose\"**."
   ]
  },
  {
   "cell_type": "code",
   "execution_count": 10,
   "metadata": {},
   "outputs": [
    {
     "data": {
      "text/plain": [
       "array(['женат / замужем', 'гражданский брак', 'вдовец / вдова',\n",
       "       'в разводе', 'Не женат / не замужем'], dtype=object)"
      ]
     },
     "metadata": {},
     "output_type": "display_data"
    }
   ],
   "source": [
    "display(ds['family_status'].unique())\n",
    "ds['family_status'] = ds['family_status'].str.lower()"
   ]
  },
  {
   "cell_type": "markdown",
   "metadata": {},
   "source": [
    "Со столбцом **\"family_status\"** все в порядке, дубликатов возникнуть здесь не может. Для однообразности записи данных можно привести значения столбца к нижнему регистру."
   ]
  },
  {
   "cell_type": "code",
   "execution_count": 11,
   "metadata": {},
   "outputs": [
    {
     "data": {
      "text/plain": [
       "array(['покупка жилья', 'приобретение автомобиля',\n",
       "       'дополнительное образование', 'сыграть свадьбу',\n",
       "       'операции с жильем', 'образование', 'на проведение свадьбы',\n",
       "       'покупка жилья для семьи', 'покупка недвижимости',\n",
       "       'покупка коммерческой недвижимости', 'покупка жилой недвижимости',\n",
       "       'строительство собственной недвижимости', 'недвижимость',\n",
       "       'строительство недвижимости', 'на покупку подержанного автомобиля',\n",
       "       'на покупку своего автомобиля',\n",
       "       'операции с коммерческой недвижимостью',\n",
       "       'строительство жилой недвижимости', 'жилье',\n",
       "       'операции со своей недвижимостью', 'автомобили',\n",
       "       'заняться образованием', 'сделка с подержанным автомобилем',\n",
       "       'получение образования', 'автомобиль', 'свадьба',\n",
       "       'получение дополнительного образования', 'покупка своего жилья',\n",
       "       'операции с недвижимостью', 'получение высшего образования',\n",
       "       'свой автомобиль', 'сделка с автомобилем',\n",
       "       'профильное образование', 'высшее образование',\n",
       "       'покупка жилья для сдачи', 'на покупку автомобиля', 'ремонт жилью',\n",
       "       'заняться высшим образованием'], dtype=object)"
      ]
     },
     "execution_count": 11,
     "metadata": {},
     "output_type": "execute_result"
    }
   ],
   "source": [
    "ds['purpose'].unique()"
   ]
  },
  {
   "cell_type": "markdown",
   "metadata": {},
   "source": [
    "А вот в столбец **\"purpose\"** данные по всей видимости вносились в свободной форме. Все указанные значения можно сгруппировать в 4 категории: недвижимость (здесь же и жилье), автомобиль, образование и свадьба."
   ]
  },
  {
   "cell_type": "markdown",
   "metadata": {},
   "source": [
    "### Лемматизация"
   ]
  },
  {
   "cell_type": "code",
   "execution_count": 12,
   "metadata": {},
   "outputs": [
    {
     "data": {
      "text/html": [
       "<div>\n",
       "<style scoped>\n",
       "    .dataframe tbody tr th:only-of-type {\n",
       "        vertical-align: middle;\n",
       "    }\n",
       "\n",
       "    .dataframe tbody tr th {\n",
       "        vertical-align: top;\n",
       "    }\n",
       "\n",
       "    .dataframe thead th {\n",
       "        text-align: right;\n",
       "    }\n",
       "</style>\n",
       "<table border=\"1\" class=\"dataframe\">\n",
       "  <thead>\n",
       "    <tr style=\"text-align: right;\">\n",
       "      <th></th>\n",
       "      <th>children</th>\n",
       "      <th>days_employed</th>\n",
       "      <th>dob_years</th>\n",
       "      <th>education</th>\n",
       "      <th>education_id</th>\n",
       "      <th>family_status</th>\n",
       "      <th>family_status_id</th>\n",
       "      <th>gender</th>\n",
       "      <th>income_type</th>\n",
       "      <th>debt</th>\n",
       "      <th>total_income</th>\n",
       "      <th>purpose</th>\n",
       "      <th>purpose_lemmas</th>\n",
       "    </tr>\n",
       "  </thead>\n",
       "  <tbody>\n",
       "    <tr>\n",
       "      <th>0</th>\n",
       "      <td>1</td>\n",
       "      <td>-8437</td>\n",
       "      <td>42.0</td>\n",
       "      <td>высшее</td>\n",
       "      <td>0</td>\n",
       "      <td>женат / замужем</td>\n",
       "      <td>0</td>\n",
       "      <td>F</td>\n",
       "      <td>сотрудник</td>\n",
       "      <td>0</td>\n",
       "      <td>253875</td>\n",
       "      <td>покупка жилья</td>\n",
       "      <td>[покупка,  , жилье, \\n]</td>\n",
       "    </tr>\n",
       "    <tr>\n",
       "      <th>1</th>\n",
       "      <td>1</td>\n",
       "      <td>-4024</td>\n",
       "      <td>36.0</td>\n",
       "      <td>среднее</td>\n",
       "      <td>1</td>\n",
       "      <td>женат / замужем</td>\n",
       "      <td>0</td>\n",
       "      <td>F</td>\n",
       "      <td>сотрудник</td>\n",
       "      <td>0</td>\n",
       "      <td>112080</td>\n",
       "      <td>приобретение автомобиля</td>\n",
       "      <td>[приобретение,  , автомобиль, \\n]</td>\n",
       "    </tr>\n",
       "    <tr>\n",
       "      <th>2</th>\n",
       "      <td>0</td>\n",
       "      <td>-5623</td>\n",
       "      <td>33.0</td>\n",
       "      <td>среднее</td>\n",
       "      <td>1</td>\n",
       "      <td>женат / замужем</td>\n",
       "      <td>0</td>\n",
       "      <td>M</td>\n",
       "      <td>сотрудник</td>\n",
       "      <td>0</td>\n",
       "      <td>145885</td>\n",
       "      <td>покупка жилья</td>\n",
       "      <td>[покупка,  , жилье, \\n]</td>\n",
       "    </tr>\n",
       "    <tr>\n",
       "      <th>3</th>\n",
       "      <td>3</td>\n",
       "      <td>-4124</td>\n",
       "      <td>32.0</td>\n",
       "      <td>среднее</td>\n",
       "      <td>1</td>\n",
       "      <td>женат / замужем</td>\n",
       "      <td>0</td>\n",
       "      <td>M</td>\n",
       "      <td>сотрудник</td>\n",
       "      <td>0</td>\n",
       "      <td>267628</td>\n",
       "      <td>дополнительное образование</td>\n",
       "      <td>[дополнительный,  , образование, \\n]</td>\n",
       "    </tr>\n",
       "    <tr>\n",
       "      <th>4</th>\n",
       "      <td>0</td>\n",
       "      <td>340266</td>\n",
       "      <td>53.0</td>\n",
       "      <td>среднее</td>\n",
       "      <td>1</td>\n",
       "      <td>гражданский брак</td>\n",
       "      <td>1</td>\n",
       "      <td>F</td>\n",
       "      <td>пенсионер</td>\n",
       "      <td>0</td>\n",
       "      <td>158616</td>\n",
       "      <td>сыграть свадьбу</td>\n",
       "      <td>[сыграть,  , свадьба, \\n]</td>\n",
       "    </tr>\n",
       "  </tbody>\n",
       "</table>\n",
       "</div>"
      ],
      "text/plain": [
       "   children  days_employed  dob_years education  education_id  \\\n",
       "0         1          -8437       42.0    высшее             0   \n",
       "1         1          -4024       36.0   среднее             1   \n",
       "2         0          -5623       33.0   среднее             1   \n",
       "3         3          -4124       32.0   среднее             1   \n",
       "4         0         340266       53.0   среднее             1   \n",
       "\n",
       "      family_status  family_status_id gender income_type  debt  total_income  \\\n",
       "0   женат / замужем                 0      F   сотрудник     0        253875   \n",
       "1   женат / замужем                 0      F   сотрудник     0        112080   \n",
       "2   женат / замужем                 0      M   сотрудник     0        145885   \n",
       "3   женат / замужем                 0      M   сотрудник     0        267628   \n",
       "4  гражданский брак                 1      F   пенсионер     0        158616   \n",
       "\n",
       "                      purpose                        purpose_lemmas  \n",
       "0               покупка жилья               [покупка,  , жилье, \\n]  \n",
       "1     приобретение автомобиля     [приобретение,  , автомобиль, \\n]  \n",
       "2               покупка жилья               [покупка,  , жилье, \\n]  \n",
       "3  дополнительное образование  [дополнительный,  , образование, \\n]  \n",
       "4             сыграть свадьбу             [сыграть,  , свадьба, \\n]  "
      ]
     },
     "execution_count": 12,
     "metadata": {},
     "output_type": "execute_result"
    }
   ],
   "source": [
    "from pymystem3 import Mystem\n",
    "m = Mystem() \n",
    "ds['purpose_lemmas'] = ds['purpose'].apply(lambda text: m.lemmatize(text)) # создадим столбец с леммами из столбца purpose\n",
    "ds.head()\n"
   ]
  },
  {
   "cell_type": "markdown",
   "metadata": {},
   "source": [
    "**Вывод**"
   ]
  },
  {
   "cell_type": "markdown",
   "metadata": {},
   "source": [
    "Полученный столбец с леммами позволяет разделить цели кредита на 4 группы.  "
   ]
  },
  {
   "cell_type": "markdown",
   "metadata": {},
   "source": [
    "### Категоризация данных"
   ]
  },
  {
   "cell_type": "code",
   "execution_count": 13,
   "metadata": {},
   "outputs": [
    {
     "data": {
      "text/html": [
       "<div>\n",
       "<style scoped>\n",
       "    .dataframe tbody tr th:only-of-type {\n",
       "        vertical-align: middle;\n",
       "    }\n",
       "\n",
       "    .dataframe tbody tr th {\n",
       "        vertical-align: top;\n",
       "    }\n",
       "\n",
       "    .dataframe thead th {\n",
       "        text-align: right;\n",
       "    }\n",
       "</style>\n",
       "<table border=\"1\" class=\"dataframe\">\n",
       "  <thead>\n",
       "    <tr style=\"text-align: right;\">\n",
       "      <th></th>\n",
       "      <th>children</th>\n",
       "      <th>days_employed</th>\n",
       "      <th>dob_years</th>\n",
       "      <th>education</th>\n",
       "      <th>education_id</th>\n",
       "      <th>family_status</th>\n",
       "      <th>family_status_id</th>\n",
       "      <th>gender</th>\n",
       "      <th>income_type</th>\n",
       "      <th>debt</th>\n",
       "      <th>total_income</th>\n",
       "      <th>purpose</th>\n",
       "      <th>purpose_lemmas</th>\n",
       "      <th>purpose_group</th>\n",
       "    </tr>\n",
       "  </thead>\n",
       "  <tbody>\n",
       "    <tr>\n",
       "      <th>0</th>\n",
       "      <td>1</td>\n",
       "      <td>-8437</td>\n",
       "      <td>42.0</td>\n",
       "      <td>высшее</td>\n",
       "      <td>0</td>\n",
       "      <td>женат / замужем</td>\n",
       "      <td>0</td>\n",
       "      <td>F</td>\n",
       "      <td>сотрудник</td>\n",
       "      <td>0</td>\n",
       "      <td>253875</td>\n",
       "      <td>покупка жилья</td>\n",
       "      <td>[покупка,  , жилье, \\n]</td>\n",
       "      <td>недвижимость</td>\n",
       "    </tr>\n",
       "    <tr>\n",
       "      <th>1</th>\n",
       "      <td>1</td>\n",
       "      <td>-4024</td>\n",
       "      <td>36.0</td>\n",
       "      <td>среднее</td>\n",
       "      <td>1</td>\n",
       "      <td>женат / замужем</td>\n",
       "      <td>0</td>\n",
       "      <td>F</td>\n",
       "      <td>сотрудник</td>\n",
       "      <td>0</td>\n",
       "      <td>112080</td>\n",
       "      <td>приобретение автомобиля</td>\n",
       "      <td>[приобретение,  , автомобиль, \\n]</td>\n",
       "      <td>автомобиль</td>\n",
       "    </tr>\n",
       "    <tr>\n",
       "      <th>2</th>\n",
       "      <td>0</td>\n",
       "      <td>-5623</td>\n",
       "      <td>33.0</td>\n",
       "      <td>среднее</td>\n",
       "      <td>1</td>\n",
       "      <td>женат / замужем</td>\n",
       "      <td>0</td>\n",
       "      <td>M</td>\n",
       "      <td>сотрудник</td>\n",
       "      <td>0</td>\n",
       "      <td>145885</td>\n",
       "      <td>покупка жилья</td>\n",
       "      <td>[покупка,  , жилье, \\n]</td>\n",
       "      <td>недвижимость</td>\n",
       "    </tr>\n",
       "    <tr>\n",
       "      <th>3</th>\n",
       "      <td>3</td>\n",
       "      <td>-4124</td>\n",
       "      <td>32.0</td>\n",
       "      <td>среднее</td>\n",
       "      <td>1</td>\n",
       "      <td>женат / замужем</td>\n",
       "      <td>0</td>\n",
       "      <td>M</td>\n",
       "      <td>сотрудник</td>\n",
       "      <td>0</td>\n",
       "      <td>267628</td>\n",
       "      <td>дополнительное образование</td>\n",
       "      <td>[дополнительный,  , образование, \\n]</td>\n",
       "      <td>образование</td>\n",
       "    </tr>\n",
       "    <tr>\n",
       "      <th>4</th>\n",
       "      <td>0</td>\n",
       "      <td>340266</td>\n",
       "      <td>53.0</td>\n",
       "      <td>среднее</td>\n",
       "      <td>1</td>\n",
       "      <td>гражданский брак</td>\n",
       "      <td>1</td>\n",
       "      <td>F</td>\n",
       "      <td>пенсионер</td>\n",
       "      <td>0</td>\n",
       "      <td>158616</td>\n",
       "      <td>сыграть свадьбу</td>\n",
       "      <td>[сыграть,  , свадьба, \\n]</td>\n",
       "      <td>свадьба</td>\n",
       "    </tr>\n",
       "  </tbody>\n",
       "</table>\n",
       "</div>"
      ],
      "text/plain": [
       "   children  days_employed  dob_years education  education_id  \\\n",
       "0         1          -8437       42.0    высшее             0   \n",
       "1         1          -4024       36.0   среднее             1   \n",
       "2         0          -5623       33.0   среднее             1   \n",
       "3         3          -4124       32.0   среднее             1   \n",
       "4         0         340266       53.0   среднее             1   \n",
       "\n",
       "      family_status  family_status_id gender income_type  debt  total_income  \\\n",
       "0   женат / замужем                 0      F   сотрудник     0        253875   \n",
       "1   женат / замужем                 0      F   сотрудник     0        112080   \n",
       "2   женат / замужем                 0      M   сотрудник     0        145885   \n",
       "3   женат / замужем                 0      M   сотрудник     0        267628   \n",
       "4  гражданский брак                 1      F   пенсионер     0        158616   \n",
       "\n",
       "                      purpose                        purpose_lemmas  \\\n",
       "0               покупка жилья               [покупка,  , жилье, \\n]   \n",
       "1     приобретение автомобиля     [приобретение,  , автомобиль, \\n]   \n",
       "2               покупка жилья               [покупка,  , жилье, \\n]   \n",
       "3  дополнительное образование  [дополнительный,  , образование, \\n]   \n",
       "4             сыграть свадьбу             [сыграть,  , свадьба, \\n]   \n",
       "\n",
       "  purpose_group  \n",
       "0  недвижимость  \n",
       "1    автомобиль  \n",
       "2  недвижимость  \n",
       "3   образование  \n",
       "4       свадьба  "
      ]
     },
     "execution_count": 13,
     "metadata": {},
     "output_type": "execute_result"
    }
   ],
   "source": [
    "def purpose_group(lemma): # функция поиска лемм для группировки по целям кредита\n",
    "    if 'жилье' in lemma:\n",
    "        return 'недвижимость'\n",
    "    if 'недвижимость' in lemma:\n",
    "        return 'недвижимость'\n",
    "    if 'автомобиль' in lemma:\n",
    "        return 'автомобиль'\n",
    "    if 'образование' in lemma:\n",
    "        return 'образование'\n",
    "    if 'свадьба' in lemma:\n",
    "        return 'свадьба'\n",
    "    return 'категория не определена'\n",
    "ds['purpose_group'] = ds['purpose_lemmas'].apply(purpose_group)\n",
    "ds.head()"
   ]
  },
  {
   "cell_type": "markdown",
   "metadata": {},
   "source": [
    "После категоризации данных по столбцу **\"purpose_group\"**, можем удалить из датасета столбцы **\"purpose\"** и **\"purpose_lemmas\"** и еще раз проверить на наличие дубликатов."
   ]
  },
  {
   "cell_type": "code",
   "execution_count": 14,
   "metadata": {},
   "outputs": [
    {
     "data": {
      "text/plain": [
       "336"
      ]
     },
     "metadata": {},
     "output_type": "display_data"
    },
    {
     "data": {
      "text/html": [
       "<div>\n",
       "<style scoped>\n",
       "    .dataframe tbody tr th:only-of-type {\n",
       "        vertical-align: middle;\n",
       "    }\n",
       "\n",
       "    .dataframe tbody tr th {\n",
       "        vertical-align: top;\n",
       "    }\n",
       "\n",
       "    .dataframe thead th {\n",
       "        text-align: right;\n",
       "    }\n",
       "</style>\n",
       "<table border=\"1\" class=\"dataframe\">\n",
       "  <thead>\n",
       "    <tr style=\"text-align: right;\">\n",
       "      <th></th>\n",
       "      <th>children</th>\n",
       "      <th>days_employed</th>\n",
       "      <th>dob_years</th>\n",
       "      <th>education</th>\n",
       "      <th>education_id</th>\n",
       "      <th>family_status</th>\n",
       "      <th>family_status_id</th>\n",
       "      <th>gender</th>\n",
       "      <th>income_type</th>\n",
       "      <th>debt</th>\n",
       "      <th>total_income</th>\n",
       "      <th>purpose_group</th>\n",
       "    </tr>\n",
       "  </thead>\n",
       "  <tbody>\n",
       "    <tr>\n",
       "      <th>0</th>\n",
       "      <td>1</td>\n",
       "      <td>-8437</td>\n",
       "      <td>42.0</td>\n",
       "      <td>высшее</td>\n",
       "      <td>0</td>\n",
       "      <td>женат / замужем</td>\n",
       "      <td>0</td>\n",
       "      <td>F</td>\n",
       "      <td>сотрудник</td>\n",
       "      <td>0</td>\n",
       "      <td>253875</td>\n",
       "      <td>недвижимость</td>\n",
       "    </tr>\n",
       "    <tr>\n",
       "      <th>1</th>\n",
       "      <td>1</td>\n",
       "      <td>-4024</td>\n",
       "      <td>36.0</td>\n",
       "      <td>среднее</td>\n",
       "      <td>1</td>\n",
       "      <td>женат / замужем</td>\n",
       "      <td>0</td>\n",
       "      <td>F</td>\n",
       "      <td>сотрудник</td>\n",
       "      <td>0</td>\n",
       "      <td>112080</td>\n",
       "      <td>автомобиль</td>\n",
       "    </tr>\n",
       "    <tr>\n",
       "      <th>2</th>\n",
       "      <td>0</td>\n",
       "      <td>-5623</td>\n",
       "      <td>33.0</td>\n",
       "      <td>среднее</td>\n",
       "      <td>1</td>\n",
       "      <td>женат / замужем</td>\n",
       "      <td>0</td>\n",
       "      <td>M</td>\n",
       "      <td>сотрудник</td>\n",
       "      <td>0</td>\n",
       "      <td>145885</td>\n",
       "      <td>недвижимость</td>\n",
       "    </tr>\n",
       "    <tr>\n",
       "      <th>3</th>\n",
       "      <td>3</td>\n",
       "      <td>-4124</td>\n",
       "      <td>32.0</td>\n",
       "      <td>среднее</td>\n",
       "      <td>1</td>\n",
       "      <td>женат / замужем</td>\n",
       "      <td>0</td>\n",
       "      <td>M</td>\n",
       "      <td>сотрудник</td>\n",
       "      <td>0</td>\n",
       "      <td>267628</td>\n",
       "      <td>образование</td>\n",
       "    </tr>\n",
       "    <tr>\n",
       "      <th>4</th>\n",
       "      <td>0</td>\n",
       "      <td>340266</td>\n",
       "      <td>53.0</td>\n",
       "      <td>среднее</td>\n",
       "      <td>1</td>\n",
       "      <td>гражданский брак</td>\n",
       "      <td>1</td>\n",
       "      <td>F</td>\n",
       "      <td>пенсионер</td>\n",
       "      <td>0</td>\n",
       "      <td>158616</td>\n",
       "      <td>свадьба</td>\n",
       "    </tr>\n",
       "  </tbody>\n",
       "</table>\n",
       "</div>"
      ],
      "text/plain": [
       "   children  days_employed  dob_years education  education_id  \\\n",
       "0         1          -8437       42.0    высшее             0   \n",
       "1         1          -4024       36.0   среднее             1   \n",
       "2         0          -5623       33.0   среднее             1   \n",
       "3         3          -4124       32.0   среднее             1   \n",
       "4         0         340266       53.0   среднее             1   \n",
       "\n",
       "      family_status  family_status_id gender income_type  debt  total_income  \\\n",
       "0   женат / замужем                 0      F   сотрудник     0        253875   \n",
       "1   женат / замужем                 0      F   сотрудник     0        112080   \n",
       "2   женат / замужем                 0      M   сотрудник     0        145885   \n",
       "3   женат / замужем                 0      M   сотрудник     0        267628   \n",
       "4  гражданский брак                 1      F   пенсионер     0        158616   \n",
       "\n",
       "  purpose_group  \n",
       "0  недвижимость  \n",
       "1    автомобиль  \n",
       "2  недвижимость  \n",
       "3   образование  \n",
       "4       свадьба  "
      ]
     },
     "metadata": {},
     "output_type": "display_data"
    }
   ],
   "source": [
    "ds_new = ds.drop(['purpose', 'purpose_lemmas'], axis=1) # создадим новую таблицу без ненужных столбцов\n",
    "display(ds_new.duplicated().sum()) # находим дубликаты, удаляем их с обновлением индексов\n",
    "ds_new = ds_new.drop_duplicates() \n",
    "ds_new = ds_new.dropna().reset_index(drop=True)\n",
    "display(ds_new.head())"
   ]
  },
  {
   "cell_type": "markdown",
   "metadata": {},
   "source": [
    "Для ответа на вопросы необходимо категоризиировать данные по столбцам **\"children\"** и **\"total_income\"**. По столбцу **\"children\"** сгруппируем заемщиков по количеству детей таким образом: 0 - \"нет детей\", 1-2 - \"1-2 ребенка\", 3 и более - \"многодетные\".\n"
   ]
  },
  {
   "cell_type": "code",
   "execution_count": 15,
   "metadata": {},
   "outputs": [
    {
     "data": {
      "text/html": [
       "<div>\n",
       "<style scoped>\n",
       "    .dataframe tbody tr th:only-of-type {\n",
       "        vertical-align: middle;\n",
       "    }\n",
       "\n",
       "    .dataframe tbody tr th {\n",
       "        vertical-align: top;\n",
       "    }\n",
       "\n",
       "    .dataframe thead th {\n",
       "        text-align: right;\n",
       "    }\n",
       "</style>\n",
       "<table border=\"1\" class=\"dataframe\">\n",
       "  <thead>\n",
       "    <tr style=\"text-align: right;\">\n",
       "      <th></th>\n",
       "      <th>children</th>\n",
       "      <th>days_employed</th>\n",
       "      <th>dob_years</th>\n",
       "      <th>education</th>\n",
       "      <th>education_id</th>\n",
       "      <th>family_status</th>\n",
       "      <th>family_status_id</th>\n",
       "      <th>gender</th>\n",
       "      <th>income_type</th>\n",
       "      <th>debt</th>\n",
       "      <th>total_income</th>\n",
       "      <th>purpose_group</th>\n",
       "      <th>children_group</th>\n",
       "    </tr>\n",
       "  </thead>\n",
       "  <tbody>\n",
       "    <tr>\n",
       "      <th>0</th>\n",
       "      <td>1</td>\n",
       "      <td>-8437</td>\n",
       "      <td>42.0</td>\n",
       "      <td>высшее</td>\n",
       "      <td>0</td>\n",
       "      <td>женат / замужем</td>\n",
       "      <td>0</td>\n",
       "      <td>F</td>\n",
       "      <td>сотрудник</td>\n",
       "      <td>0</td>\n",
       "      <td>253875</td>\n",
       "      <td>недвижимость</td>\n",
       "      <td>1-2 ребенка</td>\n",
       "    </tr>\n",
       "    <tr>\n",
       "      <th>1</th>\n",
       "      <td>1</td>\n",
       "      <td>-4024</td>\n",
       "      <td>36.0</td>\n",
       "      <td>среднее</td>\n",
       "      <td>1</td>\n",
       "      <td>женат / замужем</td>\n",
       "      <td>0</td>\n",
       "      <td>F</td>\n",
       "      <td>сотрудник</td>\n",
       "      <td>0</td>\n",
       "      <td>112080</td>\n",
       "      <td>автомобиль</td>\n",
       "      <td>1-2 ребенка</td>\n",
       "    </tr>\n",
       "    <tr>\n",
       "      <th>2</th>\n",
       "      <td>0</td>\n",
       "      <td>-5623</td>\n",
       "      <td>33.0</td>\n",
       "      <td>среднее</td>\n",
       "      <td>1</td>\n",
       "      <td>женат / замужем</td>\n",
       "      <td>0</td>\n",
       "      <td>M</td>\n",
       "      <td>сотрудник</td>\n",
       "      <td>0</td>\n",
       "      <td>145885</td>\n",
       "      <td>недвижимость</td>\n",
       "      <td>нет детей</td>\n",
       "    </tr>\n",
       "    <tr>\n",
       "      <th>3</th>\n",
       "      <td>3</td>\n",
       "      <td>-4124</td>\n",
       "      <td>32.0</td>\n",
       "      <td>среднее</td>\n",
       "      <td>1</td>\n",
       "      <td>женат / замужем</td>\n",
       "      <td>0</td>\n",
       "      <td>M</td>\n",
       "      <td>сотрудник</td>\n",
       "      <td>0</td>\n",
       "      <td>267628</td>\n",
       "      <td>образование</td>\n",
       "      <td>многодетные</td>\n",
       "    </tr>\n",
       "    <tr>\n",
       "      <th>4</th>\n",
       "      <td>0</td>\n",
       "      <td>340266</td>\n",
       "      <td>53.0</td>\n",
       "      <td>среднее</td>\n",
       "      <td>1</td>\n",
       "      <td>гражданский брак</td>\n",
       "      <td>1</td>\n",
       "      <td>F</td>\n",
       "      <td>пенсионер</td>\n",
       "      <td>0</td>\n",
       "      <td>158616</td>\n",
       "      <td>свадьба</td>\n",
       "      <td>нет детей</td>\n",
       "    </tr>\n",
       "  </tbody>\n",
       "</table>\n",
       "</div>"
      ],
      "text/plain": [
       "   children  days_employed  dob_years education  education_id  \\\n",
       "0         1          -8437       42.0    высшее             0   \n",
       "1         1          -4024       36.0   среднее             1   \n",
       "2         0          -5623       33.0   среднее             1   \n",
       "3         3          -4124       32.0   среднее             1   \n",
       "4         0         340266       53.0   среднее             1   \n",
       "\n",
       "      family_status  family_status_id gender income_type  debt  total_income  \\\n",
       "0   женат / замужем                 0      F   сотрудник     0        253875   \n",
       "1   женат / замужем                 0      F   сотрудник     0        112080   \n",
       "2   женат / замужем                 0      M   сотрудник     0        145885   \n",
       "3   женат / замужем                 0      M   сотрудник     0        267628   \n",
       "4  гражданский брак                 1      F   пенсионер     0        158616   \n",
       "\n",
       "  purpose_group children_group  \n",
       "0  недвижимость    1-2 ребенка  \n",
       "1    автомобиль    1-2 ребенка  \n",
       "2  недвижимость      нет детей  \n",
       "3   образование    многодетные  \n",
       "4       свадьба      нет детей  "
      ]
     },
     "execution_count": 15,
     "metadata": {},
     "output_type": "execute_result"
    }
   ],
   "source": [
    "def children_group(child): \n",
    "    if child == 0:\n",
    "        return 'нет детей'\n",
    "    if 3 > child > 0 :\n",
    "        return '1-2 ребенка'\n",
    "    if child >= 3:\n",
    "        return 'многодетные'\n",
    "ds_new['children_group'] = ds_new['children'].apply(children_group)\n",
    "ds_new.head()"
   ]
  },
  {
   "cell_type": "markdown",
   "metadata": {},
   "source": [
    "Далее нужно категоризировать заемщиков по уровню дохода. Разница между минимальным и максимальным значениями огромная, для более наглядного рассмотрения, разделим уровни дохода на 5 категорий:\n",
    "\n",
    "\"низкий\" < 50000\n",
    "\n",
    "\"ниже среднего\" < 100000\n",
    "\n",
    "\"средний\" < 250000\n",
    "\n",
    "\"выше среднего\" < 500000\n",
    "\n",
    "\"высокий\" >= 500000"
   ]
  },
  {
   "cell_type": "code",
   "execution_count": 16,
   "metadata": {},
   "outputs": [
    {
     "data": {
      "text/html": [
       "<div>\n",
       "<style scoped>\n",
       "    .dataframe tbody tr th:only-of-type {\n",
       "        vertical-align: middle;\n",
       "    }\n",
       "\n",
       "    .dataframe tbody tr th {\n",
       "        vertical-align: top;\n",
       "    }\n",
       "\n",
       "    .dataframe thead th {\n",
       "        text-align: right;\n",
       "    }\n",
       "</style>\n",
       "<table border=\"1\" class=\"dataframe\">\n",
       "  <thead>\n",
       "    <tr style=\"text-align: right;\">\n",
       "      <th></th>\n",
       "      <th>children</th>\n",
       "      <th>days_employed</th>\n",
       "      <th>dob_years</th>\n",
       "      <th>education</th>\n",
       "      <th>education_id</th>\n",
       "      <th>family_status</th>\n",
       "      <th>family_status_id</th>\n",
       "      <th>gender</th>\n",
       "      <th>income_type</th>\n",
       "      <th>debt</th>\n",
       "      <th>total_income</th>\n",
       "      <th>purpose_group</th>\n",
       "      <th>children_group</th>\n",
       "      <th>income_category</th>\n",
       "    </tr>\n",
       "  </thead>\n",
       "  <tbody>\n",
       "    <tr>\n",
       "      <th>0</th>\n",
       "      <td>1</td>\n",
       "      <td>-8437</td>\n",
       "      <td>42.0</td>\n",
       "      <td>высшее</td>\n",
       "      <td>0</td>\n",
       "      <td>женат / замужем</td>\n",
       "      <td>0</td>\n",
       "      <td>F</td>\n",
       "      <td>сотрудник</td>\n",
       "      <td>0</td>\n",
       "      <td>253875</td>\n",
       "      <td>недвижимость</td>\n",
       "      <td>1-2 ребенка</td>\n",
       "      <td>выше среднего</td>\n",
       "    </tr>\n",
       "    <tr>\n",
       "      <th>1</th>\n",
       "      <td>1</td>\n",
       "      <td>-4024</td>\n",
       "      <td>36.0</td>\n",
       "      <td>среднее</td>\n",
       "      <td>1</td>\n",
       "      <td>женат / замужем</td>\n",
       "      <td>0</td>\n",
       "      <td>F</td>\n",
       "      <td>сотрудник</td>\n",
       "      <td>0</td>\n",
       "      <td>112080</td>\n",
       "      <td>автомобиль</td>\n",
       "      <td>1-2 ребенка</td>\n",
       "      <td>ниже среднего</td>\n",
       "    </tr>\n",
       "    <tr>\n",
       "      <th>2</th>\n",
       "      <td>0</td>\n",
       "      <td>-5623</td>\n",
       "      <td>33.0</td>\n",
       "      <td>среднее</td>\n",
       "      <td>1</td>\n",
       "      <td>женат / замужем</td>\n",
       "      <td>0</td>\n",
       "      <td>M</td>\n",
       "      <td>сотрудник</td>\n",
       "      <td>0</td>\n",
       "      <td>145885</td>\n",
       "      <td>недвижимость</td>\n",
       "      <td>нет детей</td>\n",
       "      <td>средний</td>\n",
       "    </tr>\n",
       "    <tr>\n",
       "      <th>3</th>\n",
       "      <td>3</td>\n",
       "      <td>-4124</td>\n",
       "      <td>32.0</td>\n",
       "      <td>среднее</td>\n",
       "      <td>1</td>\n",
       "      <td>женат / замужем</td>\n",
       "      <td>0</td>\n",
       "      <td>M</td>\n",
       "      <td>сотрудник</td>\n",
       "      <td>0</td>\n",
       "      <td>267628</td>\n",
       "      <td>образование</td>\n",
       "      <td>многодетные</td>\n",
       "      <td>выше среднего</td>\n",
       "    </tr>\n",
       "    <tr>\n",
       "      <th>4</th>\n",
       "      <td>0</td>\n",
       "      <td>340266</td>\n",
       "      <td>53.0</td>\n",
       "      <td>среднее</td>\n",
       "      <td>1</td>\n",
       "      <td>гражданский брак</td>\n",
       "      <td>1</td>\n",
       "      <td>F</td>\n",
       "      <td>пенсионер</td>\n",
       "      <td>0</td>\n",
       "      <td>158616</td>\n",
       "      <td>свадьба</td>\n",
       "      <td>нет детей</td>\n",
       "      <td>средний</td>\n",
       "    </tr>\n",
       "  </tbody>\n",
       "</table>\n",
       "</div>"
      ],
      "text/plain": [
       "   children  days_employed  dob_years education  education_id  \\\n",
       "0         1          -8437       42.0    высшее             0   \n",
       "1         1          -4024       36.0   среднее             1   \n",
       "2         0          -5623       33.0   среднее             1   \n",
       "3         3          -4124       32.0   среднее             1   \n",
       "4         0         340266       53.0   среднее             1   \n",
       "\n",
       "      family_status  family_status_id gender income_type  debt  total_income  \\\n",
       "0   женат / замужем                 0      F   сотрудник     0        253875   \n",
       "1   женат / замужем                 0      F   сотрудник     0        112080   \n",
       "2   женат / замужем                 0      M   сотрудник     0        145885   \n",
       "3   женат / замужем                 0      M   сотрудник     0        267628   \n",
       "4  гражданский брак                 1      F   пенсионер     0        158616   \n",
       "\n",
       "  purpose_group children_group income_category  \n",
       "0  недвижимость    1-2 ребенка   выше среднего  \n",
       "1    автомобиль    1-2 ребенка   ниже среднего  \n",
       "2  недвижимость      нет детей         средний  \n",
       "3   образование    многодетные   выше среднего  \n",
       "4       свадьба      нет детей         средний  "
      ]
     },
     "execution_count": 16,
     "metadata": {},
     "output_type": "execute_result"
    }
   ],
   "source": [
    "def income_group(income): # создаем функцию для категоризации по уровню дохода\n",
    "    if income < 70000:\n",
    "        return 'низкий'\n",
    "    if income < 120000:\n",
    "        return 'ниже среднего'\n",
    "    if income < 250000:\n",
    "        return 'средний'\n",
    "    if income < 500000:\n",
    "        return 'выше среднего'\n",
    "    return 'высокий'\n",
    "ds_new['income_category'] = ds_new['total_income'].apply(income_group) # новый столбец с категориями заемщиков по уровню дохода\n",
    "ds_new.head()"
   ]
  },
  {
   "cell_type": "markdown",
   "metadata": {},
   "source": [
    "**Вывод**"
   ]
  },
  {
   "cell_type": "markdown",
   "metadata": {},
   "source": [
    "Категоризация данных по цели кредита позволила обнаружить еще 336 дубликатов в таблице. Перед ответами на поставленные вопросы перезапишем новый датасет, изменив расположение столбцов **\"children_group\"** и **\"income_category\"**, столбец **\"debt\"** переместив в конец и удалив ненужные для окончательного анализа столбцы **\"days_employed\"**, **\"dob_years\"**, **\"education\"**, **\"education_id\"**, **\"gender\"**, **\"income_type\"**:"
   ]
  },
  {
   "cell_type": "code",
   "execution_count": 17,
   "metadata": {},
   "outputs": [
    {
     "data": {
      "text/html": [
       "<div>\n",
       "<style scoped>\n",
       "    .dataframe tbody tr th:only-of-type {\n",
       "        vertical-align: middle;\n",
       "    }\n",
       "\n",
       "    .dataframe tbody tr th {\n",
       "        vertical-align: top;\n",
       "    }\n",
       "\n",
       "    .dataframe thead th {\n",
       "        text-align: right;\n",
       "    }\n",
       "</style>\n",
       "<table border=\"1\" class=\"dataframe\">\n",
       "  <thead>\n",
       "    <tr style=\"text-align: right;\">\n",
       "      <th></th>\n",
       "      <th>children</th>\n",
       "      <th>children_group</th>\n",
       "      <th>family_status</th>\n",
       "      <th>family_status_id</th>\n",
       "      <th>total_income</th>\n",
       "      <th>income_category</th>\n",
       "      <th>purpose_group</th>\n",
       "      <th>debt</th>\n",
       "    </tr>\n",
       "  </thead>\n",
       "  <tbody>\n",
       "    <tr>\n",
       "      <th>0</th>\n",
       "      <td>1</td>\n",
       "      <td>1-2 ребенка</td>\n",
       "      <td>женат / замужем</td>\n",
       "      <td>0</td>\n",
       "      <td>253875</td>\n",
       "      <td>выше среднего</td>\n",
       "      <td>недвижимость</td>\n",
       "      <td>0</td>\n",
       "    </tr>\n",
       "    <tr>\n",
       "      <th>1</th>\n",
       "      <td>1</td>\n",
       "      <td>1-2 ребенка</td>\n",
       "      <td>женат / замужем</td>\n",
       "      <td>0</td>\n",
       "      <td>112080</td>\n",
       "      <td>ниже среднего</td>\n",
       "      <td>автомобиль</td>\n",
       "      <td>0</td>\n",
       "    </tr>\n",
       "    <tr>\n",
       "      <th>2</th>\n",
       "      <td>0</td>\n",
       "      <td>нет детей</td>\n",
       "      <td>женат / замужем</td>\n",
       "      <td>0</td>\n",
       "      <td>145885</td>\n",
       "      <td>средний</td>\n",
       "      <td>недвижимость</td>\n",
       "      <td>0</td>\n",
       "    </tr>\n",
       "    <tr>\n",
       "      <th>3</th>\n",
       "      <td>3</td>\n",
       "      <td>многодетные</td>\n",
       "      <td>женат / замужем</td>\n",
       "      <td>0</td>\n",
       "      <td>267628</td>\n",
       "      <td>выше среднего</td>\n",
       "      <td>образование</td>\n",
       "      <td>0</td>\n",
       "    </tr>\n",
       "    <tr>\n",
       "      <th>4</th>\n",
       "      <td>0</td>\n",
       "      <td>нет детей</td>\n",
       "      <td>гражданский брак</td>\n",
       "      <td>1</td>\n",
       "      <td>158616</td>\n",
       "      <td>средний</td>\n",
       "      <td>свадьба</td>\n",
       "      <td>0</td>\n",
       "    </tr>\n",
       "  </tbody>\n",
       "</table>\n",
       "</div>"
      ],
      "text/plain": [
       "   children children_group     family_status  family_status_id  total_income  \\\n",
       "0         1    1-2 ребенка   женат / замужем                 0        253875   \n",
       "1         1    1-2 ребенка   женат / замужем                 0        112080   \n",
       "2         0      нет детей   женат / замужем                 0        145885   \n",
       "3         3    многодетные   женат / замужем                 0        267628   \n",
       "4         0      нет детей  гражданский брак                 1        158616   \n",
       "\n",
       "  income_category purpose_group  debt  \n",
       "0   выше среднего  недвижимость     0  \n",
       "1   ниже среднего    автомобиль     0  \n",
       "2         средний  недвижимость     0  \n",
       "3   выше среднего   образование     0  \n",
       "4         средний       свадьба     0  "
      ]
     },
     "execution_count": 17,
     "metadata": {},
     "output_type": "execute_result"
    }
   ],
   "source": [
    "ds_new = ds_new[['children', 'children_group', 'family_status', 'family_status_id', 'total_income', 'income_category', 'purpose_group', 'debt']]\n",
    "ds_new.head()"
   ]
  },
  {
   "cell_type": "markdown",
   "metadata": {},
   "source": [
    "## Шаг 3. Ответьте на вопросы"
   ]
  },
  {
   "cell_type": "markdown",
   "metadata": {},
   "source": [
    "- Есть ли зависимость между наличием детей и возвратом кредита в срок?"
   ]
  },
  {
   "cell_type": "code",
   "execution_count": 18,
   "metadata": {},
   "outputs": [
    {
     "data": {
      "text/plain": [
       "children_group\n",
       "1-2 ребенка    0.093592\n",
       "многодетные    0.082011\n",
       "нет детей      0.076739\n",
       "Name: debt, dtype: float64"
      ]
     },
     "execution_count": 18,
     "metadata": {},
     "output_type": "execute_result"
    }
   ],
   "source": [
    "ds_new.groupby('children_group')['debt'].mean()"
   ]
  },
  {
   "cell_type": "markdown",
   "metadata": {},
   "source": [
    "**Вывод**"
   ]
  },
  {
   "cell_type": "markdown",
   "metadata": {},
   "source": [
    "Сгруппировав заемщиков по наличию детей и вычислив долю просроченных платежей среди них выясняется, что просрочки возникают у всех заемщиков независимо от наличия и количества детей. Разница в своевременности оплаты между рассматриваемыми группами заемщиков совсем небольшая, поэтому делаем вывод, что наличие детей не влияет на оплату кредита в срок."
   ]
  },
  {
   "cell_type": "markdown",
   "metadata": {},
   "source": [
    "- Есть ли зависимость между семейным положением и возвратом кредита в срок?"
   ]
  },
  {
   "cell_type": "code",
   "execution_count": 19,
   "metadata": {},
   "outputs": [
    {
     "data": {
      "text/html": [
       "<div>\n",
       "<style scoped>\n",
       "    .dataframe tbody tr th:only-of-type {\n",
       "        vertical-align: middle;\n",
       "    }\n",
       "\n",
       "    .dataframe tbody tr th {\n",
       "        vertical-align: top;\n",
       "    }\n",
       "\n",
       "    .dataframe thead tr th {\n",
       "        text-align: left;\n",
       "    }\n",
       "\n",
       "    .dataframe thead tr:last-of-type th {\n",
       "        text-align: right;\n",
       "    }\n",
       "</style>\n",
       "<table border=\"1\" class=\"dataframe\">\n",
       "  <thead>\n",
       "    <tr>\n",
       "      <th></th>\n",
       "      <th colspan=\"2\" halign=\"left\">debt</th>\n",
       "      <th>family_status_id</th>\n",
       "    </tr>\n",
       "    <tr>\n",
       "      <th></th>\n",
       "      <th>mean</th>\n",
       "      <th>sum</th>\n",
       "      <th>len</th>\n",
       "    </tr>\n",
       "    <tr>\n",
       "      <th>family_status</th>\n",
       "      <th></th>\n",
       "      <th></th>\n",
       "      <th></th>\n",
       "    </tr>\n",
       "  </thead>\n",
       "  <tbody>\n",
       "    <tr>\n",
       "      <th>в разводе</th>\n",
       "      <td>0.071249</td>\n",
       "      <td>85.0</td>\n",
       "      <td>1193</td>\n",
       "    </tr>\n",
       "    <tr>\n",
       "      <th>вдовец / вдова</th>\n",
       "      <td>0.066808</td>\n",
       "      <td>63.0</td>\n",
       "      <td>943</td>\n",
       "    </tr>\n",
       "    <tr>\n",
       "      <th>гражданский брак</th>\n",
       "      <td>0.094106</td>\n",
       "      <td>388.0</td>\n",
       "      <td>4123</td>\n",
       "    </tr>\n",
       "    <tr>\n",
       "      <th>женат / замужем</th>\n",
       "      <td>0.076942</td>\n",
       "      <td>929.0</td>\n",
       "      <td>12074</td>\n",
       "    </tr>\n",
       "    <tr>\n",
       "      <th>не женат / не замужем</th>\n",
       "      <td>0.098420</td>\n",
       "      <td>274.0</td>\n",
       "      <td>2784</td>\n",
       "    </tr>\n",
       "  </tbody>\n",
       "</table>\n",
       "</div>"
      ],
      "text/plain": [
       "                           debt        family_status_id\n",
       "                           mean    sum              len\n",
       "family_status                                          \n",
       "в разводе              0.071249   85.0             1193\n",
       "вдовец / вдова         0.066808   63.0              943\n",
       "гражданский брак       0.094106  388.0             4123\n",
       "женат / замужем        0.076942  929.0            12074\n",
       "не женат / не замужем  0.098420  274.0             2784"
      ]
     },
     "metadata": {},
     "output_type": "display_data"
    }
   ],
   "source": [
    "display(pd.pivot_table(ds_new, index=['family_status'], values=['family_status_id', 'debt'], aggfunc={'family_status_id' : len, 'debt': [sum, 'mean'] }))   \n"
   ]
  },
  {
   "cell_type": "markdown",
   "metadata": {},
   "source": [
    "**Вывод**"
   ]
  },
  {
   "cell_type": "markdown",
   "metadata": {},
   "source": [
    "Отталкиваясь от семейного положения заемщиков также невозможно утверждать, что семейное положение влияет на возврат кредита в срок. Просроченные платежи встречаются у всех групп заемщиков, чаще всего у \"не женатых/не замужних\" и находящихся в \"гражданском браке\". Но, как и в прошлом пункте, разница незначительна, поэтому делаем вывод - зависимости между семейным положением и возврата кредита в срок нет."
   ]
  },
  {
   "cell_type": "markdown",
   "metadata": {},
   "source": [
    "- Есть ли зависимость между уровнем дохода и возвратом кредита в срок?"
   ]
  },
  {
   "cell_type": "code",
   "execution_count": 20,
   "metadata": {},
   "outputs": [
    {
     "data": {
      "text/html": [
       "<div>\n",
       "<style scoped>\n",
       "    .dataframe tbody tr th:only-of-type {\n",
       "        vertical-align: middle;\n",
       "    }\n",
       "\n",
       "    .dataframe tbody tr th {\n",
       "        vertical-align: top;\n",
       "    }\n",
       "\n",
       "    .dataframe thead tr th {\n",
       "        text-align: left;\n",
       "    }\n",
       "\n",
       "    .dataframe thead tr:last-of-type th {\n",
       "        text-align: right;\n",
       "    }\n",
       "</style>\n",
       "<table border=\"1\" class=\"dataframe\">\n",
       "  <thead>\n",
       "    <tr>\n",
       "      <th></th>\n",
       "      <th colspan=\"2\" halign=\"left\">debt</th>\n",
       "      <th>total_income</th>\n",
       "    </tr>\n",
       "    <tr>\n",
       "      <th></th>\n",
       "      <th>mean</th>\n",
       "      <th>sum</th>\n",
       "      <th>len</th>\n",
       "    </tr>\n",
       "    <tr>\n",
       "      <th>income_category</th>\n",
       "      <th></th>\n",
       "      <th></th>\n",
       "      <th></th>\n",
       "    </tr>\n",
       "  </thead>\n",
       "  <tbody>\n",
       "    <tr>\n",
       "      <th>высокий</th>\n",
       "      <td>0.063063</td>\n",
       "      <td>14.0</td>\n",
       "      <td>222</td>\n",
       "    </tr>\n",
       "    <tr>\n",
       "      <th>выше среднего</th>\n",
       "      <td>0.069471</td>\n",
       "      <td>180.0</td>\n",
       "      <td>2591</td>\n",
       "    </tr>\n",
       "    <tr>\n",
       "      <th>ниже среднего</th>\n",
       "      <td>0.085689</td>\n",
       "      <td>485.0</td>\n",
       "      <td>5660</td>\n",
       "    </tr>\n",
       "    <tr>\n",
       "      <th>низкий</th>\n",
       "      <td>0.068521</td>\n",
       "      <td>101.0</td>\n",
       "      <td>1474</td>\n",
       "    </tr>\n",
       "    <tr>\n",
       "      <th>средний</th>\n",
       "      <td>0.085855</td>\n",
       "      <td>959.0</td>\n",
       "      <td>11170</td>\n",
       "    </tr>\n",
       "  </tbody>\n",
       "</table>\n",
       "</div>"
      ],
      "text/plain": [
       "                     debt        total_income\n",
       "                     mean    sum          len\n",
       "income_category                              \n",
       "высокий          0.063063   14.0          222\n",
       "выше среднего    0.069471  180.0         2591\n",
       "ниже среднего    0.085689  485.0         5660\n",
       "низкий           0.068521  101.0         1474\n",
       "средний          0.085855  959.0        11170"
      ]
     },
     "execution_count": 20,
     "metadata": {},
     "output_type": "execute_result"
    }
   ],
   "source": [
    "pd.pivot_table(ds_new, index=['income_category'], values=['total_income','debt'], aggfunc={'total_income' : len, 'debt': [sum, 'mean'] }) \n"
   ]
  },
  {
   "cell_type": "markdown",
   "metadata": {},
   "source": [
    "**Вывод**"
   ]
  },
  {
   "cell_type": "markdown",
   "metadata": {},
   "source": [
    "Уровень дохода скорее всего влияет на доступную сумму для кредита, а на погашение кредита в срок - нет."
   ]
  },
  {
   "cell_type": "markdown",
   "metadata": {},
   "source": [
    "- Как разные цели кредита влияют на его возврат в срок?"
   ]
  },
  {
   "cell_type": "code",
   "execution_count": 21,
   "metadata": {},
   "outputs": [
    {
     "data": {
      "text/html": [
       "<div>\n",
       "<style scoped>\n",
       "    .dataframe tbody tr th:only-of-type {\n",
       "        vertical-align: middle;\n",
       "    }\n",
       "\n",
       "    .dataframe tbody tr th {\n",
       "        vertical-align: top;\n",
       "    }\n",
       "\n",
       "    .dataframe thead tr th {\n",
       "        text-align: left;\n",
       "    }\n",
       "\n",
       "    .dataframe thead tr:last-of-type th {\n",
       "        text-align: right;\n",
       "    }\n",
       "</style>\n",
       "<table border=\"1\" class=\"dataframe\">\n",
       "  <thead>\n",
       "    <tr>\n",
       "      <th></th>\n",
       "      <th colspan=\"2\" halign=\"left\">debt</th>\n",
       "      <th>purpose_group_id</th>\n",
       "    </tr>\n",
       "    <tr>\n",
       "      <th></th>\n",
       "      <th>mean</th>\n",
       "      <th>sum</th>\n",
       "      <th>len</th>\n",
       "    </tr>\n",
       "    <tr>\n",
       "      <th>purpose_group</th>\n",
       "      <th></th>\n",
       "      <th></th>\n",
       "      <th></th>\n",
       "    </tr>\n",
       "  </thead>\n",
       "  <tbody>\n",
       "    <tr>\n",
       "      <th>автомобиль</th>\n",
       "      <td>0.094101</td>\n",
       "      <td>402.0</td>\n",
       "      <td>4272</td>\n",
       "    </tr>\n",
       "    <tr>\n",
       "      <th>недвижимость</th>\n",
       "      <td>0.073846</td>\n",
       "      <td>781.0</td>\n",
       "      <td>10576</td>\n",
       "    </tr>\n",
       "    <tr>\n",
       "      <th>образование</th>\n",
       "      <td>0.093340</td>\n",
       "      <td>370.0</td>\n",
       "      <td>3964</td>\n",
       "    </tr>\n",
       "    <tr>\n",
       "      <th>свадьба</th>\n",
       "      <td>0.080694</td>\n",
       "      <td>186.0</td>\n",
       "      <td>2305</td>\n",
       "    </tr>\n",
       "  </tbody>\n",
       "</table>\n",
       "</div>"
      ],
      "text/plain": [
       "                   debt        purpose_group_id\n",
       "                   mean    sum              len\n",
       "purpose_group                                  \n",
       "автомобиль     0.094101  402.0             4272\n",
       "недвижимость   0.073846  781.0            10576\n",
       "образование    0.093340  370.0             3964\n",
       "свадьба        0.080694  186.0             2305"
      ]
     },
     "metadata": {},
     "output_type": "display_data"
    }
   ],
   "source": [
    "ds_new['purpose_group_id'] = ds_new['purpose_group']\n",
    "display(pd.pivot_table(ds_new, index=['purpose_group'], values=['purpose_group_id','debt'], aggfunc={'purpose_group_id' : len, 'debt': [sum, 'mean'] }))  \n",
    "ds_new = ds_new.drop(['purpose_group_id'], axis=1)"
   ]
  },
  {
   "cell_type": "markdown",
   "metadata": {},
   "source": [
    "**Вывод**"
   ]
  },
  {
   "cell_type": "markdown",
   "metadata": {},
   "source": [
    "И цель кредита не оказвает должного влияния на возврат кредита в срок. "
   ]
  },
  {
   "cell_type": "markdown",
   "metadata": {},
   "source": [
    "## Шаг 4. Общий вывод"
   ]
  },
  {
   "cell_type": "markdown",
   "metadata": {},
   "source": [
    "Полученные исходные данные не были пригодны для качественного анализа и ответа на поставленные вопросы. В ходе предобработки данных был выявлен и устранен ряд недочетов:\n",
    "- пропуски в количественных переменных были заменены на медианные, сгруппированнные по типу\n",
    "- в данных о наличии и количестве детей были обнаружены и устранены значения, явно не соответствующие действительности (артефакты)\n",
    "- такие же явные ошибки в данных были обнаружены и устранены в столбцах о возрасте и поле заемщика\n",
    "- для выявления и удаления дубликатов понадобилось привести значения к единому регистру, а также сгруппировать заемщиков по цели кредита, предварительно лемматизировав исходные значения\n",
    "- для ответа на поставленные вопросы провели категоризацию данных по наличию детей и их количеству, а также по уровню дохода заемщиков, разделив их на 5 групп\n",
    "\n",
    "В результате проведенного анализа можно сделать вывод: наличие детей, семейное положение, уровень дохода и цель кредита не оказывают должного влияния на возврат кредита в срок. Между категориями каждого из перечисленных критериев есть разница, но она не превышает 3%, т.е. просроченные платежи по кредитам встречаются в каждой группе заемщиков в примерно равном отношении."
   ]
  }
 ],
 "metadata": {
  "ExecuteTimeLog": [
   {
    "duration": 602,
    "start_time": "2021-12-01T23:35:42.216Z"
   },
   {
    "duration": 69,
    "start_time": "2021-12-01T23:35:49.132Z"
   },
   {
    "duration": 59,
    "start_time": "2021-12-01T23:36:07.078Z"
   },
   {
    "duration": 56,
    "start_time": "2021-12-01T23:36:14.868Z"
   },
   {
    "duration": 59,
    "start_time": "2021-12-01T23:36:38.430Z"
   },
   {
    "duration": 275,
    "start_time": "2021-12-01T23:42:14.074Z"
   },
   {
    "duration": 1773,
    "start_time": "2021-12-01T23:42:22.583Z"
   },
   {
    "duration": 218,
    "start_time": "2021-12-01T23:42:28.315Z"
   },
   {
    "duration": 70,
    "start_time": "2021-12-01T23:42:32.400Z"
   },
   {
    "duration": 58,
    "start_time": "2021-12-01T23:42:50.499Z"
   },
   {
    "duration": 58,
    "start_time": "2021-12-01T23:47:01.763Z"
   },
   {
    "duration": 57,
    "start_time": "2021-12-01T23:47:12.053Z"
   },
   {
    "duration": 70,
    "start_time": "2021-12-01T23:48:23.811Z"
   },
   {
    "duration": 66,
    "start_time": "2021-12-01T23:48:34.681Z"
   },
   {
    "duration": 65,
    "start_time": "2021-12-01T23:49:11.806Z"
   },
   {
    "duration": 173,
    "start_time": "2021-12-02T00:28:05.610Z"
   },
   {
    "duration": 316,
    "start_time": "2021-12-02T00:28:30.705Z"
   },
   {
    "duration": 68,
    "start_time": "2021-12-02T00:28:35.725Z"
   },
   {
    "duration": 172,
    "start_time": "2021-12-02T00:28:39.106Z"
   },
   {
    "duration": 5,
    "start_time": "2021-12-02T00:28:56.121Z"
   },
   {
    "duration": 167,
    "start_time": "2021-12-02T00:30:58.612Z"
   },
   {
    "duration": 17,
    "start_time": "2021-12-02T00:32:33.489Z"
   },
   {
    "duration": 10,
    "start_time": "2021-12-02T00:32:42.167Z"
   },
   {
    "duration": 14,
    "start_time": "2021-12-02T00:36:46.056Z"
   },
   {
    "duration": 19,
    "start_time": "2021-12-02T00:38:17.156Z"
   },
   {
    "duration": 18,
    "start_time": "2021-12-02T00:38:44.330Z"
   },
   {
    "duration": 62,
    "start_time": "2021-12-02T00:38:50.076Z"
   },
   {
    "duration": 19,
    "start_time": "2021-12-02T00:38:52.669Z"
   },
   {
    "duration": 7,
    "start_time": "2021-12-02T00:40:41.497Z"
   },
   {
    "duration": 8,
    "start_time": "2021-12-02T00:42:16.567Z"
   },
   {
    "duration": 17,
    "start_time": "2021-12-02T00:42:25.471Z"
   },
   {
    "duration": 14,
    "start_time": "2021-12-02T00:42:37.906Z"
   },
   {
    "duration": 15,
    "start_time": "2021-12-02T00:43:16.899Z"
   },
   {
    "duration": 16,
    "start_time": "2021-12-02T00:43:51.681Z"
   },
   {
    "duration": 18,
    "start_time": "2021-12-02T00:44:52.961Z"
   },
   {
    "duration": 445,
    "start_time": "2021-12-02T10:02:33.982Z"
   },
   {
    "duration": 1029,
    "start_time": "2021-12-02T10:02:45.123Z"
   },
   {
    "duration": 31,
    "start_time": "2021-12-02T10:02:46.155Z"
   },
   {
    "duration": 26,
    "start_time": "2021-12-02T10:03:14.390Z"
   },
   {
    "duration": 26,
    "start_time": "2021-12-02T10:08:38.738Z"
   },
   {
    "duration": 134,
    "start_time": "2021-12-02T10:13:45.506Z"
   },
   {
    "duration": 132,
    "start_time": "2021-12-02T10:13:54.427Z"
   },
   {
    "duration": 26,
    "start_time": "2021-12-02T10:14:16.911Z"
   },
   {
    "duration": 136,
    "start_time": "2021-12-02T10:14:32.025Z"
   },
   {
    "duration": 134,
    "start_time": "2021-12-02T10:14:38.861Z"
   },
   {
    "duration": 136,
    "start_time": "2021-12-02T10:14:42.368Z"
   },
   {
    "duration": 25,
    "start_time": "2021-12-02T10:14:48.019Z"
   },
   {
    "duration": 24,
    "start_time": "2021-12-02T10:17:57.965Z"
   },
   {
    "duration": 25,
    "start_time": "2021-12-02T10:19:37.027Z"
   },
   {
    "duration": 578,
    "start_time": "2021-12-02T10:20:02.164Z"
   },
   {
    "duration": 147,
    "start_time": "2021-12-02T10:20:34.536Z"
   },
   {
    "duration": 443,
    "start_time": "2021-12-02T10:20:37.079Z"
   },
   {
    "duration": 157,
    "start_time": "2021-12-02T10:20:52.249Z"
   },
   {
    "duration": 28,
    "start_time": "2021-12-02T10:21:03.012Z"
   },
   {
    "duration": 29,
    "start_time": "2021-12-02T10:32:14.654Z"
   },
   {
    "duration": 29,
    "start_time": "2021-12-02T10:32:22.411Z"
   },
   {
    "duration": 25,
    "start_time": "2021-12-02T10:32:34.267Z"
   },
   {
    "duration": 27,
    "start_time": "2021-12-02T11:10:14.236Z"
   },
   {
    "duration": 13,
    "start_time": "2021-12-02T11:16:37.430Z"
   },
   {
    "duration": 24,
    "start_time": "2021-12-02T11:16:48.315Z"
   },
   {
    "duration": 27,
    "start_time": "2021-12-02T11:17:29.861Z"
   },
   {
    "duration": 24,
    "start_time": "2021-12-02T11:17:44.174Z"
   },
   {
    "duration": 15,
    "start_time": "2021-12-02T11:17:54.129Z"
   },
   {
    "duration": 17,
    "start_time": "2021-12-02T11:18:09.591Z"
   },
   {
    "duration": 15,
    "start_time": "2021-12-02T11:18:31.926Z"
   },
   {
    "duration": 17,
    "start_time": "2021-12-02T11:18:51.416Z"
   },
   {
    "duration": 16,
    "start_time": "2021-12-02T11:19:04.697Z"
   },
   {
    "duration": -675,
    "start_time": "2021-12-02T11:21:31.568Z"
   },
   {
    "duration": 137,
    "start_time": "2021-12-02T11:21:49.569Z"
   },
   {
    "duration": 3319,
    "start_time": "2021-12-02T11:21:53.915Z"
   },
   {
    "duration": -672,
    "start_time": "2021-12-02T11:22:17.027Z"
   },
   {
    "duration": 15,
    "start_time": "2021-12-02T11:23:31.534Z"
   },
   {
    "duration": 139,
    "start_time": "2021-12-02T11:23:44.957Z"
   },
   {
    "duration": 16,
    "start_time": "2021-12-02T11:23:56.671Z"
   },
   {
    "duration": 18,
    "start_time": "2021-12-02T11:24:31.652Z"
   },
   {
    "duration": 17,
    "start_time": "2021-12-02T11:26:21.804Z"
   },
   {
    "duration": 129,
    "start_time": "2021-12-02T11:29:00.764Z"
   },
   {
    "duration": 139,
    "start_time": "2021-12-02T11:29:06.927Z"
   },
   {
    "duration": 11,
    "start_time": "2021-12-02T11:29:16.617Z"
   },
   {
    "duration": 11,
    "start_time": "2021-12-02T11:29:34.425Z"
   },
   {
    "duration": 10,
    "start_time": "2021-12-02T11:30:08.886Z"
   },
   {
    "duration": 10,
    "start_time": "2021-12-02T11:30:14.889Z"
   },
   {
    "duration": 12,
    "start_time": "2021-12-02T11:32:24.198Z"
   },
   {
    "duration": 522,
    "start_time": "2021-12-02T11:50:42.003Z"
   },
   {
    "duration": 10521,
    "start_time": "2021-12-02T11:53:20.825Z"
   },
   {
    "duration": 742,
    "start_time": "2021-12-02T11:54:36.221Z"
   },
   {
    "duration": 1324,
    "start_time": "2021-12-02T12:00:05.363Z"
   },
   {
    "duration": 1365,
    "start_time": "2021-12-02T12:00:23.432Z"
   },
   {
    "duration": 1762,
    "start_time": "2021-12-02T12:00:33.616Z"
   },
   {
    "duration": 1250,
    "start_time": "2021-12-02T12:00:55.014Z"
   },
   {
    "duration": 1391,
    "start_time": "2021-12-02T12:08:21.353Z"
   },
   {
    "duration": 2454,
    "start_time": "2021-12-02T12:12:04.522Z"
   },
   {
    "duration": 1302,
    "start_time": "2021-12-02T12:14:27.174Z"
   },
   {
    "duration": 1245,
    "start_time": "2021-12-02T12:14:41.189Z"
   },
   {
    "duration": 1231,
    "start_time": "2021-12-02T12:15:05.305Z"
   },
   {
    "duration": 89,
    "start_time": "2021-12-02T12:15:10.141Z"
   },
   {
    "duration": 42,
    "start_time": "2021-12-02T12:15:10.233Z"
   },
   {
    "duration": 1392,
    "start_time": "2021-12-02T12:15:10.277Z"
   },
   {
    "duration": 1215,
    "start_time": "2021-12-02T12:15:54.555Z"
   },
   {
    "duration": 1276,
    "start_time": "2021-12-02T12:16:13.770Z"
   },
   {
    "duration": 1219,
    "start_time": "2021-12-02T12:16:23.222Z"
   },
   {
    "duration": 1243,
    "start_time": "2021-12-02T12:16:41.405Z"
   },
   {
    "duration": 1339,
    "start_time": "2021-12-02T12:16:58.060Z"
   },
   {
    "duration": 1248,
    "start_time": "2021-12-02T12:17:08.445Z"
   },
   {
    "duration": 1841,
    "start_time": "2021-12-02T12:17:42.143Z"
   },
   {
    "duration": 1484,
    "start_time": "2021-12-02T12:18:00.857Z"
   },
   {
    "duration": 407,
    "start_time": "2021-12-02T12:36:39.825Z"
   },
   {
    "duration": 5,
    "start_time": "2021-12-02T12:40:20.451Z"
   },
   {
    "duration": 5,
    "start_time": "2021-12-02T12:40:46.787Z"
   },
   {
    "duration": 20,
    "start_time": "2021-12-02T12:40:53.774Z"
   },
   {
    "duration": 19,
    "start_time": "2021-12-02T12:41:27.603Z"
   },
   {
    "duration": 19,
    "start_time": "2021-12-02T12:42:04.841Z"
   },
   {
    "duration": 6,
    "start_time": "2021-12-02T12:55:37.272Z"
   },
   {
    "duration": 5,
    "start_time": "2021-12-02T12:55:42.018Z"
   },
   {
    "duration": 494,
    "start_time": "2021-12-02T12:56:31.240Z"
   },
   {
    "duration": 383,
    "start_time": "2021-12-02T12:56:49.080Z"
   },
   {
    "duration": 10,
    "start_time": "2021-12-02T12:57:14.880Z"
   },
   {
    "duration": 10,
    "start_time": "2021-12-02T12:57:31.638Z"
   },
   {
    "duration": 12,
    "start_time": "2021-12-02T12:57:43.925Z"
   },
   {
    "duration": 10,
    "start_time": "2021-12-02T12:57:48.514Z"
   },
   {
    "duration": 11,
    "start_time": "2021-12-02T12:57:57.498Z"
   },
   {
    "duration": 10,
    "start_time": "2021-12-02T12:58:07.308Z"
   },
   {
    "duration": 11,
    "start_time": "2021-12-02T12:58:16.903Z"
   },
   {
    "duration": 10,
    "start_time": "2021-12-02T12:58:43.713Z"
   },
   {
    "duration": 14,
    "start_time": "2021-12-02T12:59:52.775Z"
   },
   {
    "duration": 18,
    "start_time": "2021-12-02T13:00:04.731Z"
   },
   {
    "duration": 21,
    "start_time": "2021-12-02T13:15:04.873Z"
   },
   {
    "duration": 443,
    "start_time": "2021-12-02T13:15:25.762Z"
   },
   {
    "duration": 21,
    "start_time": "2021-12-02T13:15:34.226Z"
   },
   {
    "duration": 22,
    "start_time": "2021-12-02T13:15:54.470Z"
   },
   {
    "duration": 18,
    "start_time": "2021-12-02T13:17:16.977Z"
   },
   {
    "duration": 17,
    "start_time": "2021-12-02T13:17:51.282Z"
   },
   {
    "duration": 426,
    "start_time": "2021-12-02T13:31:01.158Z"
   },
   {
    "duration": 14,
    "start_time": "2021-12-02T13:31:08.520Z"
   },
   {
    "duration": 13,
    "start_time": "2021-12-02T13:31:14.146Z"
   },
   {
    "duration": 96,
    "start_time": "2021-12-02T13:31:45.220Z"
   },
   {
    "duration": 46,
    "start_time": "2021-12-02T13:31:45.319Z"
   },
   {
    "duration": 1486,
    "start_time": "2021-12-02T13:31:45.368Z"
   },
   {
    "duration": 21,
    "start_time": "2021-12-02T13:31:46.860Z"
   },
   {
    "duration": 18,
    "start_time": "2021-12-02T13:31:46.883Z"
   },
   {
    "duration": 20,
    "start_time": "2021-12-02T13:31:54.421Z"
   },
   {
    "duration": 14,
    "start_time": "2021-12-02T13:35:17.081Z"
   },
   {
    "duration": 13,
    "start_time": "2021-12-02T13:36:47.699Z"
   },
   {
    "duration": 15,
    "start_time": "2021-12-02T13:36:57.143Z"
   },
   {
    "duration": 17,
    "start_time": "2021-12-02T13:39:00.448Z"
   },
   {
    "duration": 22,
    "start_time": "2021-12-02T13:46:00.751Z"
   },
   {
    "duration": 128,
    "start_time": "2021-12-02T13:54:01.772Z"
   },
   {
    "duration": 20,
    "start_time": "2021-12-02T13:54:09.232Z"
   },
   {
    "duration": 31,
    "start_time": "2021-12-02T14:12:40.623Z"
   },
   {
    "duration": 460,
    "start_time": "2021-12-02T14:13:16.766Z"
   },
   {
    "duration": 10,
    "start_time": "2021-12-02T14:14:33.895Z"
   },
   {
    "duration": 415,
    "start_time": "2021-12-02T14:20:41.132Z"
   },
   {
    "duration": 421,
    "start_time": "2021-12-02T14:21:28.539Z"
   },
   {
    "duration": 17,
    "start_time": "2021-12-02T14:21:43.767Z"
   },
   {
    "duration": 30,
    "start_time": "2021-12-02T14:21:58.085Z"
   },
   {
    "duration": 32,
    "start_time": "2021-12-02T14:22:06.484Z"
   },
   {
    "duration": 21,
    "start_time": "2021-12-02T14:22:35.097Z"
   },
   {
    "duration": 20,
    "start_time": "2021-12-02T14:27:25.277Z"
   },
   {
    "duration": 23,
    "start_time": "2021-12-02T14:28:03.881Z"
   },
   {
    "duration": 24,
    "start_time": "2021-12-02T14:28:15.955Z"
   },
   {
    "duration": 447,
    "start_time": "2021-12-02T14:29:14.251Z"
   },
   {
    "duration": 25,
    "start_time": "2021-12-02T14:29:23.540Z"
   },
   {
    "duration": 23,
    "start_time": "2021-12-02T14:39:19.402Z"
   },
   {
    "duration": 23,
    "start_time": "2021-12-02T14:39:26.213Z"
   },
   {
    "duration": 25,
    "start_time": "2021-12-02T14:40:02.719Z"
   },
   {
    "duration": 47,
    "start_time": "2021-12-02T14:40:22.097Z"
   },
   {
    "duration": 45,
    "start_time": "2021-12-02T14:40:27.207Z"
   },
   {
    "duration": 431,
    "start_time": "2021-12-02T14:49:37.847Z"
   },
   {
    "duration": 451,
    "start_time": "2021-12-02T14:50:10.061Z"
   },
   {
    "duration": 44,
    "start_time": "2021-12-02T14:50:39.277Z"
   },
   {
    "duration": 42,
    "start_time": "2021-12-02T14:50:48.357Z"
   },
   {
    "duration": 62,
    "start_time": "2021-12-02T14:50:55.717Z"
   },
   {
    "duration": 92,
    "start_time": "2021-12-02T14:51:06.090Z"
   },
   {
    "duration": 45,
    "start_time": "2021-12-02T14:51:20.864Z"
   },
   {
    "duration": 91,
    "start_time": "2021-12-02T14:51:25.049Z"
   },
   {
    "duration": 32,
    "start_time": "2021-12-02T14:51:25.143Z"
   },
   {
    "duration": 1428,
    "start_time": "2021-12-02T14:51:25.178Z"
   },
   {
    "duration": 21,
    "start_time": "2021-12-02T14:51:26.609Z"
   },
   {
    "duration": 42,
    "start_time": "2021-12-02T14:51:26.632Z"
   },
   {
    "duration": 49,
    "start_time": "2021-12-02T14:51:26.676Z"
   },
   {
    "duration": 74,
    "start_time": "2021-12-02T14:51:33.843Z"
   },
   {
    "duration": 659,
    "start_time": "2021-12-02T14:52:16.827Z"
   },
   {
    "duration": 74,
    "start_time": "2021-12-02T14:52:26.194Z"
   },
   {
    "duration": 96,
    "start_time": "2021-12-02T14:52:31.681Z"
   },
   {
    "duration": 29,
    "start_time": "2021-12-02T14:52:31.780Z"
   },
   {
    "duration": 1494,
    "start_time": "2021-12-02T14:52:31.812Z"
   },
   {
    "duration": 20,
    "start_time": "2021-12-02T14:52:33.309Z"
   },
   {
    "duration": 43,
    "start_time": "2021-12-02T14:52:33.331Z"
   },
   {
    "duration": 94,
    "start_time": "2021-12-02T14:52:33.376Z"
   },
   {
    "duration": 78,
    "start_time": "2021-12-02T14:54:01.085Z"
   },
   {
    "duration": 75,
    "start_time": "2021-12-02T14:54:05.309Z"
   },
   {
    "duration": 91,
    "start_time": "2021-12-02T14:54:08.402Z"
   },
   {
    "duration": 25,
    "start_time": "2021-12-02T14:54:08.495Z"
   },
   {
    "duration": 1580,
    "start_time": "2021-12-02T14:54:08.523Z"
   },
   {
    "duration": 20,
    "start_time": "2021-12-02T14:54:10.105Z"
   },
   {
    "duration": 43,
    "start_time": "2021-12-02T14:54:10.128Z"
   },
   {
    "duration": 89,
    "start_time": "2021-12-02T14:54:10.173Z"
   },
   {
    "duration": 89,
    "start_time": "2021-12-02T14:54:34.912Z"
   },
   {
    "duration": 92,
    "start_time": "2021-12-02T14:54:38.017Z"
   },
   {
    "duration": 54,
    "start_time": "2021-12-02T14:54:38.112Z"
   },
   {
    "duration": 1432,
    "start_time": "2021-12-02T14:54:38.169Z"
   },
   {
    "duration": 19,
    "start_time": "2021-12-02T14:54:39.603Z"
   },
   {
    "duration": 43,
    "start_time": "2021-12-02T14:54:39.624Z"
   },
   {
    "duration": 113,
    "start_time": "2021-12-02T14:54:39.670Z"
   },
   {
    "duration": 135,
    "start_time": "2021-12-02T14:55:30.383Z"
   },
   {
    "duration": 521,
    "start_time": "2021-12-02T14:55:37.386Z"
   },
   {
    "duration": 422,
    "start_time": "2021-12-02T14:57:14.697Z"
   },
   {
    "duration": 93,
    "start_time": "2021-12-02T14:57:19.780Z"
   },
   {
    "duration": 26,
    "start_time": "2021-12-02T14:57:19.876Z"
   },
   {
    "duration": 1559,
    "start_time": "2021-12-02T14:57:19.906Z"
   },
   {
    "duration": 21,
    "start_time": "2021-12-02T14:57:21.468Z"
   },
   {
    "duration": 26,
    "start_time": "2021-12-02T14:57:21.492Z"
   },
   {
    "duration": 1832,
    "start_time": "2021-12-02T14:57:21.521Z"
   },
   {
    "duration": 98,
    "start_time": "2021-12-02T15:27:27.466Z"
   },
   {
    "duration": 87,
    "start_time": "2021-12-02T15:28:18.526Z"
   },
   {
    "duration": 90,
    "start_time": "2021-12-02T15:28:26.165Z"
   },
   {
    "duration": 26,
    "start_time": "2021-12-02T15:28:26.259Z"
   },
   {
    "duration": 1422,
    "start_time": "2021-12-02T15:28:26.287Z"
   },
   {
    "duration": 19,
    "start_time": "2021-12-02T15:28:27.711Z"
   },
   {
    "duration": 43,
    "start_time": "2021-12-02T15:28:27.733Z"
   },
   {
    "duration": 103,
    "start_time": "2021-12-02T15:28:27.779Z"
   },
   {
    "duration": 86,
    "start_time": "2021-12-02T15:29:04.646Z"
   },
   {
    "duration": 107,
    "start_time": "2021-12-02T15:38:36.439Z"
   },
   {
    "duration": 128,
    "start_time": "2021-12-02T15:39:30.839Z"
   },
   {
    "duration": 7,
    "start_time": "2021-12-02T15:43:42.633Z"
   },
   {
    "duration": 7,
    "start_time": "2021-12-02T15:44:07.038Z"
   },
   {
    "duration": 7,
    "start_time": "2021-12-02T15:44:11.886Z"
   },
   {
    "duration": 8,
    "start_time": "2021-12-02T15:44:24.681Z"
   },
   {
    "duration": 7,
    "start_time": "2021-12-02T15:44:25.373Z"
   },
   {
    "duration": 128,
    "start_time": "2021-12-02T15:46:23.633Z"
   },
   {
    "duration": 24,
    "start_time": "2021-12-02T15:46:28.669Z"
   },
   {
    "duration": 420,
    "start_time": "2021-12-02T15:46:43.305Z"
   },
   {
    "duration": 22,
    "start_time": "2021-12-02T15:46:54.601Z"
   },
   {
    "duration": 7,
    "start_time": "2021-12-02T15:47:00.344Z"
   },
   {
    "duration": 8,
    "start_time": "2021-12-02T15:47:03.675Z"
   },
   {
    "duration": 8,
    "start_time": "2021-12-02T15:47:42.113Z"
   },
   {
    "duration": 21,
    "start_time": "2021-12-02T15:48:08.364Z"
   },
   {
    "duration": 392,
    "start_time": "2021-12-02T16:00:38.278Z"
   },
   {
    "duration": 390,
    "start_time": "2021-12-02T16:01:28.248Z"
   },
   {
    "duration": 94,
    "start_time": "2021-12-02T16:02:34.172Z"
   },
   {
    "duration": 24,
    "start_time": "2021-12-02T16:02:34.270Z"
   },
   {
    "duration": 1430,
    "start_time": "2021-12-02T16:02:34.297Z"
   },
   {
    "duration": 31,
    "start_time": "2021-12-02T16:02:35.730Z"
   },
   {
    "duration": 24,
    "start_time": "2021-12-02T16:02:35.763Z"
   },
   {
    "duration": 131,
    "start_time": "2021-12-02T16:02:35.789Z"
   },
   {
    "duration": 22,
    "start_time": "2021-12-02T16:02:35.922Z"
   },
   {
    "duration": 8,
    "start_time": "2021-12-02T16:02:35.961Z"
   },
   {
    "duration": 524,
    "start_time": "2021-12-02T16:02:35.971Z"
   },
   {
    "duration": 389,
    "start_time": "2021-12-02T16:06:34.735Z"
   },
   {
    "duration": 390,
    "start_time": "2021-12-02T16:06:56.867Z"
   },
   {
    "duration": 431,
    "start_time": "2021-12-02T16:07:02.881Z"
   },
   {
    "duration": 173,
    "start_time": "2021-12-02T16:10:04.091Z"
   },
   {
    "duration": 932,
    "start_time": "2021-12-02T16:10:07.000Z"
   },
   {
    "duration": 950,
    "start_time": "2021-12-02T16:10:20.454Z"
   },
   {
    "duration": 974,
    "start_time": "2021-12-02T16:19:53.725Z"
   },
   {
    "duration": 5591,
    "start_time": "2021-12-02T16:29:16.782Z"
   },
   {
    "duration": 4865,
    "start_time": "2021-12-02T16:30:13.648Z"
   },
   {
    "duration": 5135,
    "start_time": "2021-12-02T16:31:26.944Z"
   },
   {
    "duration": 97,
    "start_time": "2021-12-02T16:31:45.232Z"
   },
   {
    "duration": 42,
    "start_time": "2021-12-02T16:31:45.332Z"
   },
   {
    "duration": 1554,
    "start_time": "2021-12-02T16:31:45.377Z"
   },
   {
    "duration": 29,
    "start_time": "2021-12-02T16:31:46.933Z"
   },
   {
    "duration": 45,
    "start_time": "2021-12-02T16:31:46.965Z"
   },
   {
    "duration": 118,
    "start_time": "2021-12-02T16:31:47.012Z"
   },
   {
    "duration": 39,
    "start_time": "2021-12-02T16:31:47.133Z"
   },
   {
    "duration": 9,
    "start_time": "2021-12-02T16:31:47.175Z"
   },
   {
    "duration": 5075,
    "start_time": "2021-12-02T16:31:47.186Z"
   },
   {
    "duration": 5113,
    "start_time": "2021-12-02T16:37:18.010Z"
   },
   {
    "duration": 147,
    "start_time": "2021-12-02T17:05:09.904Z"
   },
   {
    "duration": 142,
    "start_time": "2021-12-02T17:09:20.781Z"
   },
   {
    "duration": 4,
    "start_time": "2021-12-02T17:10:54.595Z"
   },
   {
    "duration": 15,
    "start_time": "2021-12-02T17:12:04.493Z"
   },
   {
    "duration": 51,
    "start_time": "2021-12-02T17:12:10.892Z"
   },
   {
    "duration": 1799,
    "start_time": "2021-12-02T17:14:03.859Z"
   },
   {
    "duration": 51,
    "start_time": "2021-12-02T17:15:23.350Z"
   },
   {
    "duration": 45,
    "start_time": "2021-12-02T17:15:47.100Z"
   },
   {
    "duration": 54,
    "start_time": "2021-12-02T17:17:21.452Z"
   },
   {
    "duration": 1860,
    "start_time": "2021-12-02T17:18:58.618Z"
   },
   {
    "duration": 52,
    "start_time": "2021-12-02T17:19:05.627Z"
   },
   {
    "duration": 50,
    "start_time": "2021-12-02T17:19:38.731Z"
   },
   {
    "duration": 1948,
    "start_time": "2021-12-02T17:21:01.729Z"
   },
   {
    "duration": 98,
    "start_time": "2021-12-02T17:21:12.566Z"
   },
   {
    "duration": 25,
    "start_time": "2021-12-02T17:21:12.667Z"
   },
   {
    "duration": 1474,
    "start_time": "2021-12-02T17:21:12.695Z"
   },
   {
    "duration": 18,
    "start_time": "2021-12-02T17:21:14.172Z"
   },
   {
    "duration": 27,
    "start_time": "2021-12-02T17:21:14.193Z"
   },
   {
    "duration": 146,
    "start_time": "2021-12-02T17:21:14.222Z"
   },
   {
    "duration": 22,
    "start_time": "2021-12-02T17:21:14.371Z"
   },
   {
    "duration": 8,
    "start_time": "2021-12-02T17:21:14.396Z"
   },
   {
    "duration": 4839,
    "start_time": "2021-12-02T17:21:14.406Z"
   },
   {
    "duration": -823,
    "start_time": "2021-12-02T17:21:22.031Z"
   },
   {
    "duration": 2132,
    "start_time": "2021-12-02T17:21:26.916Z"
   },
   {
    "duration": 44,
    "start_time": "2021-12-02T17:21:55.510Z"
   },
   {
    "duration": 2550,
    "start_time": "2021-12-02T17:22:12.984Z"
   },
   {
    "duration": 49,
    "start_time": "2021-12-02T17:22:48.966Z"
   },
   {
    "duration": 55,
    "start_time": "2021-12-02T17:23:25.769Z"
   },
   {
    "duration": 35,
    "start_time": "2021-12-02T17:23:38.837Z"
   },
   {
    "duration": -889,
    "start_time": "2021-12-02T17:31:15.802Z"
   },
   {
    "duration": 11,
    "start_time": "2021-12-02T17:31:27.858Z"
   },
   {
    "duration": 35,
    "start_time": "2021-12-02T17:36:22.257Z"
   },
   {
    "duration": 9804,
    "start_time": "2021-12-02T17:42:18.504Z"
   },
   {
    "duration": 10,
    "start_time": "2021-12-02T17:42:42.600Z"
   },
   {
    "duration": 391,
    "start_time": "2021-12-02T17:47:34.311Z"
   },
   {
    "duration": 883,
    "start_time": "2021-12-07T22:03:27.657Z"
   },
   {
    "duration": 28,
    "start_time": "2021-12-07T22:03:57.971Z"
   },
   {
    "duration": 1568,
    "start_time": "2021-12-07T22:04:39.021Z"
   },
   {
    "duration": 21,
    "start_time": "2021-12-07T22:05:34.970Z"
   },
   {
    "duration": 23,
    "start_time": "2021-12-07T22:05:44.310Z"
   },
   {
    "duration": 10,
    "start_time": "2021-12-07T22:10:21.744Z"
   },
   {
    "duration": 6,
    "start_time": "2021-12-07T22:11:19.871Z"
   },
   {
    "duration": 8,
    "start_time": "2021-12-07T22:17:35.956Z"
   },
   {
    "duration": 14,
    "start_time": "2021-12-07T22:19:11.001Z"
   },
   {
    "duration": 387,
    "start_time": "2021-12-07T22:19:23.953Z"
   },
   {
    "duration": 14,
    "start_time": "2021-12-07T22:19:28.316Z"
   },
   {
    "duration": 16,
    "start_time": "2021-12-07T22:20:05.081Z"
   },
   {
    "duration": 20,
    "start_time": "2021-12-07T22:20:27.210Z"
   },
   {
    "duration": 24,
    "start_time": "2021-12-07T22:21:27.988Z"
   },
   {
    "duration": 25,
    "start_time": "2021-12-07T22:23:41.236Z"
   },
   {
    "duration": 9,
    "start_time": "2021-12-07T22:24:20.027Z"
   },
   {
    "duration": 26,
    "start_time": "2021-12-07T22:24:46.535Z"
   },
   {
    "duration": 321,
    "start_time": "2021-12-07T22:25:15.002Z"
   },
   {
    "duration": 8,
    "start_time": "2021-12-07T22:25:27.250Z"
   },
   {
    "duration": 66,
    "start_time": "2021-12-07T22:37:45.901Z"
   },
   {
    "duration": 387,
    "start_time": "2021-12-07T22:39:22.910Z"
   },
   {
    "duration": 116,
    "start_time": "2021-12-07T22:39:28.029Z"
   },
   {
    "duration": 140,
    "start_time": "2021-12-07T22:39:49.484Z"
   },
   {
    "duration": 87,
    "start_time": "2021-12-07T22:40:55.660Z"
   },
   {
    "duration": 3987,
    "start_time": "2021-12-07T22:41:16.160Z"
   },
   {
    "duration": 134,
    "start_time": "2021-12-07T22:41:29.457Z"
   },
   {
    "duration": 6,
    "start_time": "2021-12-07T23:07:37.112Z"
   },
   {
    "duration": 39,
    "start_time": "2021-12-07T23:07:43.398Z"
   },
   {
    "duration": 11,
    "start_time": "2021-12-07T23:07:59.892Z"
   },
   {
    "duration": 11,
    "start_time": "2021-12-07T23:09:03.709Z"
   },
   {
    "duration": 288,
    "start_time": "2021-12-07T23:12:41.380Z"
   },
   {
    "duration": 16,
    "start_time": "2021-12-07T23:13:37.812Z"
   },
   {
    "duration": 16,
    "start_time": "2021-12-07T23:13:48.083Z"
   },
   {
    "duration": 19,
    "start_time": "2021-12-07T23:13:56.930Z"
   },
   {
    "duration": 136,
    "start_time": "2021-12-07T23:14:06.667Z"
   },
   {
    "duration": 27,
    "start_time": "2021-12-07T23:14:06.806Z"
   },
   {
    "duration": 1473,
    "start_time": "2021-12-07T23:14:06.836Z"
   },
   {
    "duration": 17,
    "start_time": "2021-12-07T23:14:08.312Z"
   },
   {
    "duration": 49,
    "start_time": "2021-12-07T23:14:08.332Z"
   },
   {
    "duration": 24,
    "start_time": "2021-12-07T23:14:08.384Z"
   },
   {
    "duration": 147,
    "start_time": "2021-12-07T23:14:08.410Z"
   },
   {
    "duration": 22,
    "start_time": "2021-12-07T23:14:08.570Z"
   },
   {
    "duration": 7,
    "start_time": "2021-12-07T23:14:08.595Z"
   },
   {
    "duration": 4826,
    "start_time": "2021-12-07T23:14:08.605Z"
   },
   {
    "duration": 51,
    "start_time": "2021-12-07T23:14:13.433Z"
   },
   {
    "duration": 8,
    "start_time": "2021-12-07T23:14:13.486Z"
   },
   {
    "duration": 32,
    "start_time": "2021-12-07T23:19:49.179Z"
   },
   {
    "duration": 650,
    "start_time": "2021-12-07T23:19:58.297Z"
   },
   {
    "duration": 20,
    "start_time": "2021-12-07T23:20:10.613Z"
   },
   {
    "duration": 23,
    "start_time": "2021-12-07T23:20:47.864Z"
   },
   {
    "duration": 145,
    "start_time": "2021-12-07T23:20:52.637Z"
   },
   {
    "duration": 29,
    "start_time": "2021-12-07T23:20:52.786Z"
   },
   {
    "duration": 1573,
    "start_time": "2021-12-07T23:20:52.820Z"
   },
   {
    "duration": 27,
    "start_time": "2021-12-07T23:20:54.396Z"
   },
   {
    "duration": 53,
    "start_time": "2021-12-07T23:20:54.426Z"
   },
   {
    "duration": 22,
    "start_time": "2021-12-07T23:20:54.482Z"
   },
   {
    "duration": 136,
    "start_time": "2021-12-07T23:20:54.507Z"
   },
   {
    "duration": 35,
    "start_time": "2021-12-07T23:20:54.646Z"
   },
   {
    "duration": 8,
    "start_time": "2021-12-07T23:20:54.684Z"
   },
   {
    "duration": 5475,
    "start_time": "2021-12-07T23:20:54.694Z"
   },
   {
    "duration": 43,
    "start_time": "2021-12-07T23:21:00.173Z"
   },
   {
    "duration": 3,
    "start_time": "2021-12-07T23:21:00.219Z"
   },
   {
    "duration": 312,
    "start_time": "2021-12-07T23:21:32.403Z"
   },
   {
    "duration": 27,
    "start_time": "2021-12-07T23:21:44.633Z"
   },
   {
    "duration": 131,
    "start_time": "2021-12-07T23:21:48.822Z"
   },
   {
    "duration": 35,
    "start_time": "2021-12-07T23:21:48.956Z"
   },
   {
    "duration": 1592,
    "start_time": "2021-12-07T23:21:48.994Z"
   },
   {
    "duration": 24,
    "start_time": "2021-12-07T23:21:50.588Z"
   },
   {
    "duration": 19,
    "start_time": "2021-12-07T23:21:50.614Z"
   },
   {
    "duration": 24,
    "start_time": "2021-12-07T23:21:50.668Z"
   },
   {
    "duration": 153,
    "start_time": "2021-12-07T23:21:50.695Z"
   },
   {
    "duration": 45,
    "start_time": "2021-12-07T23:21:50.853Z"
   },
   {
    "duration": 11,
    "start_time": "2021-12-07T23:21:50.902Z"
   },
   {
    "duration": 5080,
    "start_time": "2021-12-07T23:21:50.916Z"
   },
   {
    "duration": 41,
    "start_time": "2021-12-07T23:21:55.998Z"
   },
   {
    "duration": 5,
    "start_time": "2021-12-07T23:21:56.042Z"
   },
   {
    "duration": 44,
    "start_time": "2021-12-07T23:23:06.251Z"
   },
   {
    "duration": 153,
    "start_time": "2021-12-07T23:27:42.675Z"
   },
   {
    "duration": 53,
    "start_time": "2021-12-07T23:27:42.832Z"
   },
   {
    "duration": 1754,
    "start_time": "2021-12-07T23:27:42.890Z"
   },
   {
    "duration": 45,
    "start_time": "2021-12-07T23:27:44.647Z"
   },
   {
    "duration": 20,
    "start_time": "2021-12-07T23:27:44.695Z"
   },
   {
    "duration": 70,
    "start_time": "2021-12-07T23:27:44.718Z"
   },
   {
    "duration": 127,
    "start_time": "2021-12-07T23:27:44.791Z"
   },
   {
    "duration": 22,
    "start_time": "2021-12-07T23:27:44.921Z"
   },
   {
    "duration": 32,
    "start_time": "2021-12-07T23:27:44.946Z"
   },
   {
    "duration": 5725,
    "start_time": "2021-12-07T23:27:44.982Z"
   },
   {
    "duration": 40,
    "start_time": "2021-12-07T23:27:50.710Z"
   },
   {
    "duration": 12,
    "start_time": "2021-12-07T23:27:50.769Z"
   },
   {
    "duration": 18,
    "start_time": "2021-12-07T23:33:18.499Z"
   },
   {
    "duration": 14,
    "start_time": "2021-12-07T23:35:57.828Z"
   },
   {
    "duration": 18,
    "start_time": "2021-12-07T23:36:06.697Z"
   },
   {
    "duration": 18,
    "start_time": "2021-12-07T23:36:26.818Z"
   },
   {
    "duration": 143,
    "start_time": "2021-12-07T23:36:42.567Z"
   },
   {
    "duration": 27,
    "start_time": "2021-12-07T23:36:42.712Z"
   },
   {
    "duration": 1453,
    "start_time": "2021-12-07T23:36:42.767Z"
   },
   {
    "duration": 24,
    "start_time": "2021-12-07T23:36:44.223Z"
   },
   {
    "duration": 21,
    "start_time": "2021-12-07T23:36:44.268Z"
   },
   {
    "duration": 22,
    "start_time": "2021-12-07T23:36:44.291Z"
   },
   {
    "duration": 56,
    "start_time": "2021-12-07T23:36:44.315Z"
   },
   {
    "duration": 129,
    "start_time": "2021-12-07T23:36:44.375Z"
   },
   {
    "duration": 23,
    "start_time": "2021-12-07T23:36:44.506Z"
   },
   {
    "duration": 36,
    "start_time": "2021-12-07T23:36:44.531Z"
   },
   {
    "duration": 4683,
    "start_time": "2021-12-07T23:36:44.569Z"
   },
   {
    "duration": 60,
    "start_time": "2021-12-07T23:36:49.267Z"
   },
   {
    "duration": 4,
    "start_time": "2021-12-07T23:36:49.330Z"
   },
   {
    "duration": 29,
    "start_time": "2021-12-07T23:39:14.833Z"
   },
   {
    "duration": 135,
    "start_time": "2021-12-07T23:39:56.022Z"
   },
   {
    "duration": 30,
    "start_time": "2021-12-07T23:39:56.160Z"
   },
   {
    "duration": 1476,
    "start_time": "2021-12-07T23:39:56.192Z"
   },
   {
    "duration": 29,
    "start_time": "2021-12-07T23:39:57.671Z"
   },
   {
    "duration": 31,
    "start_time": "2021-12-07T23:39:57.703Z"
   },
   {
    "duration": 48,
    "start_time": "2021-12-07T23:39:57.737Z"
   },
   {
    "duration": 25,
    "start_time": "2021-12-07T23:39:57.788Z"
   },
   {
    "duration": 152,
    "start_time": "2021-12-07T23:39:57.818Z"
   },
   {
    "duration": 22,
    "start_time": "2021-12-07T23:39:57.973Z"
   },
   {
    "duration": 9,
    "start_time": "2021-12-07T23:39:57.997Z"
   },
   {
    "duration": 4812,
    "start_time": "2021-12-07T23:39:58.008Z"
   },
   {
    "duration": 50,
    "start_time": "2021-12-07T23:40:02.822Z"
   },
   {
    "duration": 3,
    "start_time": "2021-12-07T23:40:02.875Z"
   },
   {
    "duration": 11,
    "start_time": "2021-12-07T23:48:44.792Z"
   },
   {
    "duration": 11,
    "start_time": "2021-12-07T23:48:49.426Z"
   },
   {
    "duration": 297,
    "start_time": "2021-12-07T23:49:33.217Z"
   },
   {
    "duration": 704,
    "start_time": "2021-12-07T23:49:44.571Z"
   },
   {
    "duration": 25,
    "start_time": "2021-12-07T23:49:51.257Z"
   },
   {
    "duration": 23,
    "start_time": "2021-12-07T23:50:04.416Z"
   },
   {
    "duration": 165,
    "start_time": "2021-12-07T23:53:38.851Z"
   },
   {
    "duration": 65,
    "start_time": "2021-12-07T23:53:39.019Z"
   },
   {
    "duration": 1502,
    "start_time": "2021-12-07T23:53:39.097Z"
   },
   {
    "duration": 25,
    "start_time": "2021-12-07T23:53:40.602Z"
   },
   {
    "duration": 47,
    "start_time": "2021-12-07T23:53:40.629Z"
   },
   {
    "duration": 27,
    "start_time": "2021-12-07T23:53:40.679Z"
   },
   {
    "duration": 25,
    "start_time": "2021-12-07T23:53:40.708Z"
   },
   {
    "duration": 35,
    "start_time": "2021-12-07T23:53:40.771Z"
   },
   {
    "duration": 143,
    "start_time": "2021-12-07T23:53:40.808Z"
   },
   {
    "duration": 35,
    "start_time": "2021-12-07T23:53:40.953Z"
   },
   {
    "duration": 10,
    "start_time": "2021-12-07T23:53:40.991Z"
   },
   {
    "duration": 5704,
    "start_time": "2021-12-07T23:53:41.003Z"
   },
   {
    "duration": 38,
    "start_time": "2021-12-07T23:53:46.710Z"
   },
   {
    "duration": 23,
    "start_time": "2021-12-07T23:53:46.751Z"
   },
   {
    "duration": 154,
    "start_time": "2021-12-08T00:07:03.018Z"
   },
   {
    "duration": 32,
    "start_time": "2021-12-08T00:07:03.177Z"
   },
   {
    "duration": 2394,
    "start_time": "2021-12-08T00:07:03.212Z"
   },
   {
    "duration": 26,
    "start_time": "2021-12-08T00:07:05.609Z"
   },
   {
    "duration": 60,
    "start_time": "2021-12-08T00:07:05.637Z"
   },
   {
    "duration": 28,
    "start_time": "2021-12-08T00:07:05.699Z"
   },
   {
    "duration": 59,
    "start_time": "2021-12-08T00:07:05.729Z"
   },
   {
    "duration": 24,
    "start_time": "2021-12-08T00:07:05.792Z"
   },
   {
    "duration": 166,
    "start_time": "2021-12-08T00:07:05.819Z"
   },
   {
    "duration": 23,
    "start_time": "2021-12-08T00:07:05.988Z"
   },
   {
    "duration": 7,
    "start_time": "2021-12-08T00:07:06.014Z"
   },
   {
    "duration": 6205,
    "start_time": "2021-12-08T00:07:06.024Z"
   },
   {
    "duration": 56,
    "start_time": "2021-12-08T00:07:12.232Z"
   },
   {
    "duration": 4,
    "start_time": "2021-12-08T00:07:12.292Z"
   },
   {
    "duration": 2069,
    "start_time": "2021-12-08T00:08:42.544Z"
   },
   {
    "duration": 2175,
    "start_time": "2021-12-08T00:09:15.121Z"
   },
   {
    "duration": 160,
    "start_time": "2021-12-08T00:09:54.458Z"
   },
   {
    "duration": 50,
    "start_time": "2021-12-08T00:09:54.620Z"
   },
   {
    "duration": 1576,
    "start_time": "2021-12-08T00:09:54.674Z"
   },
   {
    "duration": 34,
    "start_time": "2021-12-08T00:09:56.252Z"
   },
   {
    "duration": 21,
    "start_time": "2021-12-08T00:09:56.289Z"
   },
   {
    "duration": 59,
    "start_time": "2021-12-08T00:09:56.313Z"
   },
   {
    "duration": 23,
    "start_time": "2021-12-08T00:09:56.374Z"
   },
   {
    "duration": 79,
    "start_time": "2021-12-08T00:09:56.402Z"
   },
   {
    "duration": 138,
    "start_time": "2021-12-08T00:09:56.484Z"
   },
   {
    "duration": 21,
    "start_time": "2021-12-08T00:09:56.625Z"
   },
   {
    "duration": 8,
    "start_time": "2021-12-08T00:09:56.668Z"
   },
   {
    "duration": 6044,
    "start_time": "2021-12-08T00:09:56.681Z"
   },
   {
    "duration": 59,
    "start_time": "2021-12-08T00:10:02.727Z"
   },
   {
    "duration": 5,
    "start_time": "2021-12-08T00:10:02.789Z"
   },
   {
    "duration": 152,
    "start_time": "2021-12-08T00:18:44.584Z"
   },
   {
    "duration": 48,
    "start_time": "2021-12-08T00:18:44.739Z"
   },
   {
    "duration": 1661,
    "start_time": "2021-12-08T00:18:44.793Z"
   },
   {
    "duration": 33,
    "start_time": "2021-12-08T00:18:46.457Z"
   },
   {
    "duration": 22,
    "start_time": "2021-12-08T00:18:46.494Z"
   },
   {
    "duration": 69,
    "start_time": "2021-12-08T00:18:46.519Z"
   },
   {
    "duration": 23,
    "start_time": "2021-12-08T00:18:46.592Z"
   },
   {
    "duration": 55,
    "start_time": "2021-12-08T00:18:46.617Z"
   },
   {
    "duration": 148,
    "start_time": "2021-12-08T00:18:46.676Z"
   },
   {
    "duration": 42,
    "start_time": "2021-12-08T00:18:46.827Z"
   },
   {
    "duration": 11,
    "start_time": "2021-12-08T00:18:46.872Z"
   },
   {
    "duration": 5157,
    "start_time": "2021-12-08T00:18:46.887Z"
   },
   {
    "duration": 52,
    "start_time": "2021-12-08T00:18:52.046Z"
   },
   {
    "duration": 11,
    "start_time": "2021-12-08T00:18:52.101Z"
   },
   {
    "duration": 152,
    "start_time": "2021-12-08T00:19:08.553Z"
   },
   {
    "duration": 140,
    "start_time": "2021-12-08T00:19:29.174Z"
   },
   {
    "duration": 54,
    "start_time": "2021-12-08T00:19:29.317Z"
   },
   {
    "duration": 1680,
    "start_time": "2021-12-08T00:19:29.375Z"
   },
   {
    "duration": 41,
    "start_time": "2021-12-08T00:19:31.057Z"
   },
   {
    "duration": 21,
    "start_time": "2021-12-08T00:19:31.100Z"
   },
   {
    "duration": 54,
    "start_time": "2021-12-08T00:19:31.123Z"
   },
   {
    "duration": 24,
    "start_time": "2021-12-08T00:19:31.181Z"
   },
   {
    "duration": 67,
    "start_time": "2021-12-08T00:19:31.208Z"
   },
   {
    "duration": 157,
    "start_time": "2021-12-08T00:19:31.281Z"
   },
   {
    "duration": 47,
    "start_time": "2021-12-08T00:19:31.440Z"
   },
   {
    "duration": 9,
    "start_time": "2021-12-08T00:19:31.491Z"
   },
   {
    "duration": 5408,
    "start_time": "2021-12-08T00:19:31.503Z"
   },
   {
    "duration": 54,
    "start_time": "2021-12-08T00:19:36.913Z"
   },
   {
    "duration": 16,
    "start_time": "2021-12-08T00:19:36.972Z"
   },
   {
    "duration": 143,
    "start_time": "2021-12-08T00:19:58.779Z"
   },
   {
    "duration": 44,
    "start_time": "2021-12-08T00:19:58.924Z"
   },
   {
    "duration": 1464,
    "start_time": "2021-12-08T00:19:58.972Z"
   },
   {
    "duration": 43,
    "start_time": "2021-12-08T00:20:00.439Z"
   },
   {
    "duration": 25,
    "start_time": "2021-12-08T00:20:00.484Z"
   },
   {
    "duration": 22,
    "start_time": "2021-12-08T00:20:00.511Z"
   },
   {
    "duration": 26,
    "start_time": "2021-12-08T00:20:00.569Z"
   },
   {
    "duration": 27,
    "start_time": "2021-12-08T00:20:00.598Z"
   },
   {
    "duration": 178,
    "start_time": "2021-12-08T00:20:00.627Z"
   },
   {
    "duration": 23,
    "start_time": "2021-12-08T00:20:00.807Z"
   },
   {
    "duration": 8,
    "start_time": "2021-12-08T00:20:00.832Z"
   },
   {
    "duration": 5368,
    "start_time": "2021-12-08T00:20:00.842Z"
   },
   {
    "duration": 39,
    "start_time": "2021-12-08T00:20:06.213Z"
   },
   {
    "duration": 4,
    "start_time": "2021-12-08T00:20:06.267Z"
   },
   {
    "duration": 28,
    "start_time": "2021-12-08T00:20:33.590Z"
   },
   {
    "duration": 17,
    "start_time": "2021-12-08T00:20:49.185Z"
   },
   {
    "duration": 16,
    "start_time": "2021-12-08T00:20:52.949Z"
   },
   {
    "duration": 153,
    "start_time": "2021-12-08T00:21:37.531Z"
   },
   {
    "duration": 28,
    "start_time": "2021-12-08T00:21:37.687Z"
   },
   {
    "duration": 1740,
    "start_time": "2021-12-08T00:21:37.717Z"
   },
   {
    "duration": 32,
    "start_time": "2021-12-08T00:21:39.474Z"
   },
   {
    "duration": 22,
    "start_time": "2021-12-08T00:21:39.509Z"
   },
   {
    "duration": 65,
    "start_time": "2021-12-08T00:21:39.533Z"
   },
   {
    "duration": 21,
    "start_time": "2021-12-08T00:21:39.600Z"
   },
   {
    "duration": 64,
    "start_time": "2021-12-08T00:21:39.625Z"
   },
   {
    "duration": 220,
    "start_time": "2021-12-08T00:21:39.692Z"
   },
   {
    "duration": 53,
    "start_time": "2021-12-08T00:21:39.915Z"
   },
   {
    "duration": 15,
    "start_time": "2021-12-08T00:21:39.972Z"
   },
   {
    "duration": 5323,
    "start_time": "2021-12-08T00:21:39.990Z"
   },
   {
    "duration": 56,
    "start_time": "2021-12-08T00:21:45.316Z"
   },
   {
    "duration": 5,
    "start_time": "2021-12-08T00:21:45.376Z"
   },
   {
    "duration": 1411,
    "start_time": "2021-12-08T00:24:37.293Z"
   },
   {
    "duration": 57,
    "start_time": "2021-12-08T00:24:54.012Z"
   },
   {
    "duration": 20,
    "start_time": "2021-12-08T00:27:42.981Z"
   },
   {
    "duration": 12,
    "start_time": "2021-12-08T00:28:05.650Z"
   },
   {
    "duration": 17,
    "start_time": "2021-12-08T00:28:20.244Z"
   },
   {
    "duration": 23,
    "start_time": "2021-12-08T00:28:44.972Z"
   },
   {
    "duration": 14,
    "start_time": "2021-12-08T00:36:04.255Z"
   },
   {
    "duration": 23,
    "start_time": "2021-12-08T00:36:21.391Z"
   },
   {
    "duration": 32,
    "start_time": "2021-12-08T00:37:20.971Z"
   },
   {
    "duration": 51,
    "start_time": "2021-12-08T00:37:33.662Z"
   },
   {
    "duration": 66,
    "start_time": "2021-12-08T00:37:47.188Z"
   },
   {
    "duration": 135,
    "start_time": "2021-12-08T00:38:46.571Z"
   },
   {
    "duration": 413,
    "start_time": "2021-12-08T00:39:00.107Z"
   },
   {
    "duration": 125,
    "start_time": "2021-12-08T00:39:05.036Z"
   },
   {
    "duration": 178,
    "start_time": "2021-12-08T00:39:14.930Z"
   },
   {
    "duration": 77,
    "start_time": "2021-12-08T00:39:38.890Z"
   },
   {
    "duration": 92,
    "start_time": "2021-12-08T00:45:00.195Z"
   },
   {
    "duration": 138,
    "start_time": "2021-12-08T01:31:04.202Z"
   },
   {
    "duration": 33,
    "start_time": "2021-12-08T01:31:16.152Z"
   },
   {
    "duration": 1662,
    "start_time": "2021-12-08T01:31:17.461Z"
   },
   {
    "duration": 44,
    "start_time": "2021-12-08T01:31:19.127Z"
   },
   {
    "duration": 30,
    "start_time": "2021-12-08T01:31:20.100Z"
   },
   {
    "duration": 28,
    "start_time": "2021-12-08T01:31:21.182Z"
   },
   {
    "duration": 22,
    "start_time": "2021-12-08T01:31:23.135Z"
   },
   {
    "duration": 31,
    "start_time": "2021-12-08T01:31:23.571Z"
   },
   {
    "duration": 194,
    "start_time": "2021-12-08T01:31:24.026Z"
   },
   {
    "duration": 34,
    "start_time": "2021-12-08T01:31:24.509Z"
   },
   {
    "duration": 8,
    "start_time": "2021-12-08T01:31:24.812Z"
   },
   {
    "duration": 6002,
    "start_time": "2021-12-08T01:31:25.274Z"
   },
   {
    "duration": 60,
    "start_time": "2021-12-08T01:31:31.280Z"
   },
   {
    "duration": 133,
    "start_time": "2021-12-08T01:31:31.344Z"
   },
   {
    "duration": 95,
    "start_time": "2021-12-08T01:31:31.481Z"
   },
   {
    "duration": 322,
    "start_time": "2021-12-08T01:31:51.390Z"
   },
   {
    "duration": 24,
    "start_time": "2021-12-08T01:32:11.846Z"
   },
   {
    "duration": 299,
    "start_time": "2021-12-08T01:33:09.324Z"
   },
   {
    "duration": 301,
    "start_time": "2021-12-08T01:33:19.094Z"
   },
   {
    "duration": 403,
    "start_time": "2021-12-08T01:33:25.053Z"
   },
   {
    "duration": 278,
    "start_time": "2021-12-08T01:33:38.851Z"
   },
   {
    "duration": 301,
    "start_time": "2021-12-08T01:34:19.729Z"
   },
   {
    "duration": 280,
    "start_time": "2021-12-08T01:34:22.663Z"
   },
   {
    "duration": 308,
    "start_time": "2021-12-08T01:35:06.389Z"
   },
   {
    "duration": 296,
    "start_time": "2021-12-08T01:35:18.919Z"
   },
   {
    "duration": 370,
    "start_time": "2021-12-08T01:35:29.850Z"
   },
   {
    "duration": 33,
    "start_time": "2021-12-08T01:35:37.985Z"
   },
   {
    "duration": 23,
    "start_time": "2021-12-08T01:36:00.297Z"
   },
   {
    "duration": 33,
    "start_time": "2021-12-08T01:36:04.471Z"
   },
   {
    "duration": 29,
    "start_time": "2021-12-08T01:36:56.175Z"
   },
   {
    "duration": 276,
    "start_time": "2021-12-08T01:37:03.830Z"
   },
   {
    "duration": 363,
    "start_time": "2021-12-08T01:38:25.558Z"
   },
   {
    "duration": 21,
    "start_time": "2021-12-08T01:38:29.098Z"
   },
   {
    "duration": 337,
    "start_time": "2021-12-08T01:38:57.457Z"
   },
   {
    "duration": 112,
    "start_time": "2021-12-08T01:40:23.506Z"
   },
   {
    "duration": 290,
    "start_time": "2021-12-08T01:40:52.454Z"
   },
   {
    "duration": 348,
    "start_time": "2021-12-08T01:42:07.773Z"
   },
   {
    "duration": 6,
    "start_time": "2021-12-08T01:42:12.453Z"
   },
   {
    "duration": 295,
    "start_time": "2021-12-08T01:42:21.220Z"
   },
   {
    "duration": 8,
    "start_time": "2021-12-08T01:43:22.907Z"
   },
   {
    "duration": 5,
    "start_time": "2021-12-08T01:45:03.261Z"
   },
   {
    "duration": 39,
    "start_time": "2021-12-08T01:45:12.124Z"
   },
   {
    "duration": 1225,
    "start_time": "2021-12-08T01:45:34.778Z"
   },
   {
    "duration": 25,
    "start_time": "2021-12-08T01:45:56.976Z"
   },
   {
    "duration": 331,
    "start_time": "2021-12-08T01:46:27.567Z"
   },
   {
    "duration": 32,
    "start_time": "2021-12-08T01:47:03.973Z"
   },
   {
    "duration": 55,
    "start_time": "2021-12-08T01:47:25.254Z"
   },
   {
    "duration": 32,
    "start_time": "2021-12-08T01:48:09.429Z"
   },
   {
    "duration": 35,
    "start_time": "2021-12-08T01:48:45.249Z"
   },
   {
    "duration": 41,
    "start_time": "2021-12-08T01:50:14.050Z"
   },
   {
    "duration": 40,
    "start_time": "2021-12-08T01:50:24.360Z"
   },
   {
    "duration": 46,
    "start_time": "2021-12-08T01:54:07.067Z"
   },
   {
    "duration": 38,
    "start_time": "2021-12-08T01:54:55.522Z"
   },
   {
    "duration": 44,
    "start_time": "2021-12-08T01:55:04.369Z"
   },
   {
    "duration": 33,
    "start_time": "2021-12-08T01:56:09.358Z"
   },
   {
    "duration": 23,
    "start_time": "2021-12-08T01:56:35.720Z"
   },
   {
    "duration": 312,
    "start_time": "2021-12-08T01:58:09.090Z"
   },
   {
    "duration": 22,
    "start_time": "2021-12-08T01:58:17.011Z"
   },
   {
    "duration": 34,
    "start_time": "2021-12-08T02:15:42.356Z"
   },
   {
    "duration": 100,
    "start_time": "2021-12-08T02:17:55.332Z"
   },
   {
    "duration": 709,
    "start_time": "2021-12-08T02:25:00.892Z"
   },
   {
    "duration": 630,
    "start_time": "2021-12-08T02:25:32.197Z"
   },
   {
    "duration": 27,
    "start_time": "2021-12-08T02:26:46.545Z"
   },
   {
    "duration": 346,
    "start_time": "2021-12-08T02:28:12.142Z"
   },
   {
    "duration": 139,
    "start_time": "2021-12-08T02:28:16.602Z"
   },
   {
    "duration": 50,
    "start_time": "2021-12-08T02:28:16.744Z"
   },
   {
    "duration": 1635,
    "start_time": "2021-12-08T02:28:16.797Z"
   },
   {
    "duration": 46,
    "start_time": "2021-12-08T02:28:18.435Z"
   },
   {
    "duration": 24,
    "start_time": "2021-12-08T02:28:18.486Z"
   },
   {
    "duration": 21,
    "start_time": "2021-12-08T02:28:18.512Z"
   },
   {
    "duration": 30,
    "start_time": "2021-12-08T02:28:18.570Z"
   },
   {
    "duration": 22,
    "start_time": "2021-12-08T02:28:18.604Z"
   },
   {
    "duration": 196,
    "start_time": "2021-12-08T02:28:18.629Z"
   },
   {
    "duration": 43,
    "start_time": "2021-12-08T02:28:18.828Z"
   },
   {
    "duration": 12,
    "start_time": "2021-12-08T02:28:18.876Z"
   },
   {
    "duration": 5320,
    "start_time": "2021-12-08T02:28:18.891Z"
   },
   {
    "duration": 53,
    "start_time": "2021-12-08T02:28:24.214Z"
   },
   {
    "duration": 128,
    "start_time": "2021-12-08T02:28:24.271Z"
   },
   {
    "duration": 352,
    "start_time": "2021-12-08T02:28:24.401Z"
   },
   {
    "duration": 24,
    "start_time": "2021-12-08T02:28:32.823Z"
   },
   {
    "duration": 21,
    "start_time": "2021-12-08T02:29:22.911Z"
   },
   {
    "duration": 50,
    "start_time": "2021-12-08T02:29:27.658Z"
   },
   {
    "duration": 31,
    "start_time": "2021-12-08T02:29:49.592Z"
   },
   {
    "duration": 36,
    "start_time": "2021-12-08T02:30:05.170Z"
   },
   {
    "duration": 124,
    "start_time": "2021-12-08T02:42:03.181Z"
   },
   {
    "duration": 28,
    "start_time": "2021-12-08T02:42:10.516Z"
   },
   {
    "duration": 25,
    "start_time": "2021-12-08T02:58:54.425Z"
   },
   {
    "duration": 36,
    "start_time": "2021-12-08T02:59:50.862Z"
   },
   {
    "duration": 26,
    "start_time": "2021-12-08T03:00:05.570Z"
   },
   {
    "duration": 27,
    "start_time": "2021-12-08T03:00:24.281Z"
   },
   {
    "duration": 30,
    "start_time": "2021-12-08T03:01:28.865Z"
   },
   {
    "duration": 338,
    "start_time": "2021-12-08T03:01:48.209Z"
   },
   {
    "duration": 34,
    "start_time": "2021-12-08T03:02:05.273Z"
   },
   {
    "duration": 102,
    "start_time": "2021-12-08T03:02:15.852Z"
   },
   {
    "duration": 317,
    "start_time": "2021-12-08T03:02:26.882Z"
   },
   {
    "duration": 96,
    "start_time": "2021-12-08T03:02:44.513Z"
   },
   {
    "duration": 25,
    "start_time": "2021-12-08T03:04:20.215Z"
   },
   {
    "duration": 317,
    "start_time": "2021-12-08T03:04:27.530Z"
   },
   {
    "duration": 25,
    "start_time": "2021-12-08T03:04:37.341Z"
   },
   {
    "duration": 30,
    "start_time": "2021-12-08T03:05:00.085Z"
   },
   {
    "duration": 29,
    "start_time": "2021-12-08T03:05:08.159Z"
   },
   {
    "duration": 33,
    "start_time": "2021-12-08T03:05:16.063Z"
   },
   {
    "duration": 39,
    "start_time": "2021-12-08T03:05:53.761Z"
   },
   {
    "duration": 102,
    "start_time": "2021-12-08T03:08:59.548Z"
   },
   {
    "duration": 46,
    "start_time": "2021-12-08T03:09:10.146Z"
   },
   {
    "duration": 5,
    "start_time": "2021-12-08T03:09:41.733Z"
   },
   {
    "duration": 29,
    "start_time": "2021-12-08T03:09:52.554Z"
   },
   {
    "duration": 25,
    "start_time": "2021-12-08T03:09:59.114Z"
   },
   {
    "duration": 29,
    "start_time": "2021-12-08T03:10:39.079Z"
   },
   {
    "duration": 27,
    "start_time": "2021-12-08T03:10:44.619Z"
   },
   {
    "duration": 36,
    "start_time": "2021-12-08T03:11:38.065Z"
   },
   {
    "duration": 27,
    "start_time": "2021-12-08T03:11:50.386Z"
   },
   {
    "duration": 26,
    "start_time": "2021-12-08T03:12:00.242Z"
   },
   {
    "duration": 95,
    "start_time": "2021-12-08T03:13:25.441Z"
   },
   {
    "duration": 101,
    "start_time": "2021-12-08T03:13:41.399Z"
   },
   {
    "duration": 89,
    "start_time": "2021-12-08T03:13:49.084Z"
   },
   {
    "duration": 114,
    "start_time": "2021-12-08T03:13:54.425Z"
   },
   {
    "duration": 114,
    "start_time": "2021-12-08T03:18:33.925Z"
   },
   {
    "duration": 28,
    "start_time": "2021-12-08T03:18:48.746Z"
   },
   {
    "duration": 28,
    "start_time": "2021-12-08T03:19:51.226Z"
   },
   {
    "duration": 29,
    "start_time": "2021-12-08T03:19:56.908Z"
   },
   {
    "duration": 30,
    "start_time": "2021-12-08T03:20:19.016Z"
   },
   {
    "duration": 32,
    "start_time": "2021-12-08T03:20:32.237Z"
   },
   {
    "duration": 33,
    "start_time": "2021-12-08T03:20:58.482Z"
   },
   {
    "duration": 421,
    "start_time": "2021-12-08T03:21:13.371Z"
   },
   {
    "duration": 34,
    "start_time": "2021-12-08T03:21:21.290Z"
   },
   {
    "duration": 95,
    "start_time": "2021-12-08T03:21:33.928Z"
   },
   {
    "duration": 97,
    "start_time": "2021-12-08T03:21:42.732Z"
   },
   {
    "duration": 29,
    "start_time": "2021-12-08T03:21:46.249Z"
   },
   {
    "duration": 32,
    "start_time": "2021-12-08T03:23:03.513Z"
   },
   {
    "duration": 38,
    "start_time": "2021-12-08T03:25:14.702Z"
   },
   {
    "duration": 35,
    "start_time": "2021-12-08T03:25:33.783Z"
   },
   {
    "duration": 32,
    "start_time": "2021-12-08T03:26:10.370Z"
   },
   {
    "duration": 15,
    "start_time": "2021-12-08T03:44:40.137Z"
   },
   {
    "duration": 15,
    "start_time": "2021-12-08T03:44:55.960Z"
   },
   {
    "duration": 15,
    "start_time": "2021-12-08T03:45:10.473Z"
   },
   {
    "duration": 16,
    "start_time": "2021-12-08T03:45:28.722Z"
   },
   {
    "duration": 10,
    "start_time": "2021-12-08T03:45:46.861Z"
   },
   {
    "duration": 286,
    "start_time": "2021-12-08T03:46:27.460Z"
   },
   {
    "duration": 10,
    "start_time": "2021-12-08T03:47:54.259Z"
   },
   {
    "duration": 10,
    "start_time": "2021-12-08T03:48:15.901Z"
   },
   {
    "duration": 10,
    "start_time": "2021-12-08T03:49:48.253Z"
   },
   {
    "duration": 13,
    "start_time": "2021-12-08T03:50:02.655Z"
   },
   {
    "duration": 15,
    "start_time": "2021-12-08T03:52:06.586Z"
   },
   {
    "duration": 13,
    "start_time": "2021-12-08T03:52:26.456Z"
   },
   {
    "duration": 13,
    "start_time": "2021-12-08T03:52:32.252Z"
   },
   {
    "duration": 14,
    "start_time": "2021-12-08T03:54:11.440Z"
   },
   {
    "duration": 11,
    "start_time": "2021-12-08T03:54:32.429Z"
   },
   {
    "duration": 10,
    "start_time": "2021-12-08T03:54:40.408Z"
   },
   {
    "duration": 7,
    "start_time": "2021-12-08T03:55:12.558Z"
   },
   {
    "duration": 10,
    "start_time": "2021-12-08T03:55:36.880Z"
   },
   {
    "duration": 325,
    "start_time": "2021-12-08T03:56:00.519Z"
   },
   {
    "duration": 301,
    "start_time": "2021-12-08T03:56:11.872Z"
   },
   {
    "duration": 11,
    "start_time": "2021-12-08T03:56:19.738Z"
   },
   {
    "duration": 15,
    "start_time": "2021-12-08T03:57:24.888Z"
   },
   {
    "duration": 14,
    "start_time": "2021-12-08T03:57:27.674Z"
   },
   {
    "duration": 13,
    "start_time": "2021-12-08T03:57:40.803Z"
   },
   {
    "duration": 13,
    "start_time": "2021-12-08T03:57:51.774Z"
   },
   {
    "duration": 13,
    "start_time": "2021-12-08T03:58:02.205Z"
   },
   {
    "duration": 14,
    "start_time": "2021-12-08T03:58:12.434Z"
   },
   {
    "duration": 16,
    "start_time": "2021-12-08T03:58:21.792Z"
   },
   {
    "duration": 15,
    "start_time": "2021-12-08T03:59:13.072Z"
   },
   {
    "duration": 24,
    "start_time": "2021-12-08T04:00:39.619Z"
   },
   {
    "duration": 21,
    "start_time": "2021-12-08T04:02:58.961Z"
   },
   {
    "duration": 15,
    "start_time": "2021-12-08T04:16:01.803Z"
   },
   {
    "duration": 301,
    "start_time": "2021-12-08T04:18:21.492Z"
   },
   {
    "duration": 295,
    "start_time": "2021-12-08T04:18:48.419Z"
   },
   {
    "duration": 21,
    "start_time": "2021-12-08T04:18:53.970Z"
   },
   {
    "duration": 26,
    "start_time": "2021-12-08T04:21:10.098Z"
   },
   {
    "duration": 30,
    "start_time": "2021-12-08T04:23:14.786Z"
   },
   {
    "duration": 45,
    "start_time": "2021-12-08T04:26:03.916Z"
   },
   {
    "duration": 21,
    "start_time": "2021-12-08T04:26:44.776Z"
   },
   {
    "duration": 44,
    "start_time": "2021-12-08T04:26:47.150Z"
   },
   {
    "duration": 16,
    "start_time": "2021-12-08T04:27:01.230Z"
   },
   {
    "duration": 20,
    "start_time": "2021-12-08T04:27:01.920Z"
   },
   {
    "duration": 44,
    "start_time": "2021-12-08T04:27:02.783Z"
   },
   {
    "duration": 880,
    "start_time": "2021-12-08T04:34:01.406Z"
   },
   {
    "duration": 33,
    "start_time": "2021-12-08T04:34:24.501Z"
   },
   {
    "duration": 37,
    "start_time": "2021-12-08T04:34:35.644Z"
   },
   {
    "duration": 47,
    "start_time": "2021-12-08T04:34:54.438Z"
   },
   {
    "duration": 44,
    "start_time": "2021-12-08T04:35:11.970Z"
   },
   {
    "duration": 43,
    "start_time": "2021-12-08T04:36:59.625Z"
   },
   {
    "duration": 376,
    "start_time": "2021-12-08T14:02:07.845Z"
   },
   {
    "duration": 997,
    "start_time": "2021-12-08T14:02:19.727Z"
   },
   {
    "duration": 28,
    "start_time": "2021-12-08T14:02:22.971Z"
   },
   {
    "duration": 1437,
    "start_time": "2021-12-08T14:02:23.263Z"
   },
   {
    "duration": 23,
    "start_time": "2021-12-08T14:02:24.703Z"
   },
   {
    "duration": 36,
    "start_time": "2021-12-08T14:02:24.729Z"
   },
   {
    "duration": 21,
    "start_time": "2021-12-08T14:02:24.768Z"
   },
   {
    "duration": 20,
    "start_time": "2021-12-08T14:02:25.659Z"
   },
   {
    "duration": 21,
    "start_time": "2021-12-08T14:02:26.605Z"
   },
   {
    "duration": 117,
    "start_time": "2021-12-08T14:02:27.163Z"
   },
   {
    "duration": 23,
    "start_time": "2021-12-08T14:02:27.752Z"
   },
   {
    "duration": 8,
    "start_time": "2021-12-08T14:02:28.158Z"
   },
   {
    "duration": 4877,
    "start_time": "2021-12-08T14:02:28.610Z"
   },
   {
    "duration": 35,
    "start_time": "2021-12-08T14:02:33.490Z"
   },
   {
    "duration": 100,
    "start_time": "2021-12-08T14:02:33.528Z"
   },
   {
    "duration": 50,
    "start_time": "2021-12-08T14:02:33.631Z"
   },
   {
    "duration": 428,
    "start_time": "2021-12-08T14:02:36.656Z"
   },
   {
    "duration": 60,
    "start_time": "2021-12-08T14:02:48.334Z"
   },
   {
    "duration": 159,
    "start_time": "2021-12-12T10:06:55.952Z"
   },
   {
    "duration": 722,
    "start_time": "2021-12-12T10:07:02.134Z"
   },
   {
    "duration": 397,
    "start_time": "2021-12-12T10:11:25.047Z"
   },
   {
    "duration": 86,
    "start_time": "2021-12-12T10:11:39.928Z"
   },
   {
    "duration": 17,
    "start_time": "2021-12-12T10:11:40.015Z"
   },
   {
    "duration": 829,
    "start_time": "2021-12-12T10:11:40.034Z"
   },
   {
    "duration": 16,
    "start_time": "2021-12-12T10:11:40.865Z"
   },
   {
    "duration": 31,
    "start_time": "2021-12-12T10:11:40.882Z"
   },
   {
    "duration": 15,
    "start_time": "2021-12-12T10:11:40.914Z"
   },
   {
    "duration": 13,
    "start_time": "2021-12-12T10:11:40.930Z"
   },
   {
    "duration": 15,
    "start_time": "2021-12-12T10:11:40.946Z"
   },
   {
    "duration": 123,
    "start_time": "2021-12-12T10:11:40.962Z"
   },
   {
    "duration": 30,
    "start_time": "2021-12-12T10:11:41.087Z"
   },
   {
    "duration": 6,
    "start_time": "2021-12-12T10:11:41.119Z"
   },
   {
    "duration": 3582,
    "start_time": "2021-12-12T10:11:41.127Z"
   },
   {
    "duration": 23,
    "start_time": "2021-12-12T10:11:44.711Z"
   },
   {
    "duration": 75,
    "start_time": "2021-12-12T10:11:44.736Z"
   },
   {
    "duration": 22,
    "start_time": "2021-12-12T10:11:44.813Z"
   },
   {
    "duration": 36,
    "start_time": "2021-12-12T10:11:44.837Z"
   },
   {
    "duration": 12,
    "start_time": "2021-12-12T10:11:44.906Z"
   },
   {
    "duration": 13,
    "start_time": "2021-12-12T10:11:44.919Z"
   },
   {
    "duration": 29,
    "start_time": "2021-12-12T10:11:44.934Z"
   },
   {
    "duration": 60,
    "start_time": "2021-12-12T10:11:44.965Z"
   },
   {
    "duration": 19,
    "start_time": "2021-12-12T10:47:45.363Z"
   },
   {
    "duration": 16,
    "start_time": "2021-12-12T10:48:01.373Z"
   },
   {
    "duration": 19,
    "start_time": "2021-12-12T10:48:42.679Z"
   },
   {
    "duration": 17,
    "start_time": "2021-12-12T10:49:08.192Z"
   },
   {
    "duration": 53,
    "start_time": "2021-12-12T10:53:25.676Z"
   },
   {
    "duration": 18,
    "start_time": "2021-12-12T10:53:29.084Z"
   },
   {
    "duration": 14,
    "start_time": "2021-12-12T11:03:35.714Z"
   },
   {
    "duration": 20,
    "start_time": "2021-12-12T11:04:05.202Z"
   },
   {
    "duration": 9833,
    "start_time": "2021-12-12T11:15:57.758Z"
   },
   {
    "duration": 15,
    "start_time": "2021-12-12T11:16:55.506Z"
   },
   {
    "duration": 28,
    "start_time": "2021-12-12T11:23:08.712Z"
   },
   {
    "duration": 29,
    "start_time": "2021-12-12T11:24:11.471Z"
   },
   {
    "duration": 363,
    "start_time": "2021-12-12T11:24:58.186Z"
   },
   {
    "duration": 29,
    "start_time": "2021-12-12T11:25:03.179Z"
   },
   {
    "duration": 342,
    "start_time": "2021-12-12T11:27:01.533Z"
   },
   {
    "duration": 9,
    "start_time": "2021-12-12T11:27:20.580Z"
   },
   {
    "duration": 7,
    "start_time": "2021-12-12T11:28:22.642Z"
   },
   {
    "duration": 6,
    "start_time": "2021-12-12T11:29:14.022Z"
   },
   {
    "duration": 7,
    "start_time": "2021-12-12T11:29:33.015Z"
   },
   {
    "duration": 118,
    "start_time": "2021-12-12T11:29:45.558Z"
   },
   {
    "duration": 102,
    "start_time": "2021-12-12T11:29:50.610Z"
   },
   {
    "duration": 6,
    "start_time": "2021-12-12T11:29:53.967Z"
   },
   {
    "duration": 141,
    "start_time": "2021-12-12T11:35:31.209Z"
   },
   {
    "duration": 124,
    "start_time": "2021-12-12T11:35:50.761Z"
   },
   {
    "duration": 132,
    "start_time": "2021-12-12T11:36:09.848Z"
   },
   {
    "duration": 150,
    "start_time": "2021-12-12T11:36:26.757Z"
   },
   {
    "duration": 113,
    "start_time": "2021-12-12T11:39:09.321Z"
   },
   {
    "duration": 7,
    "start_time": "2021-12-12T11:39:24.003Z"
   },
   {
    "duration": 8,
    "start_time": "2021-12-12T11:39:51.042Z"
   },
   {
    "duration": 7,
    "start_time": "2021-12-12T12:03:28.195Z"
   },
   {
    "duration": 7,
    "start_time": "2021-12-12T12:03:35.262Z"
   },
   {
    "duration": 28,
    "start_time": "2021-12-12T12:04:41.880Z"
   },
   {
    "duration": 7,
    "start_time": "2021-12-12T12:07:25.096Z"
   },
   {
    "duration": 30,
    "start_time": "2021-12-12T12:11:04.482Z"
   },
   {
    "duration": 40,
    "start_time": "2021-12-12T12:12:29.369Z"
   },
   {
    "duration": 29,
    "start_time": "2021-12-12T12:14:03.951Z"
   },
   {
    "duration": 29,
    "start_time": "2021-12-12T12:14:41.814Z"
   },
   {
    "duration": 29,
    "start_time": "2021-12-12T12:14:43.757Z"
   },
   {
    "duration": 29,
    "start_time": "2021-12-12T12:17:32.384Z"
   },
   {
    "duration": 18,
    "start_time": "2021-12-12T12:19:37.687Z"
   },
   {
    "duration": 19,
    "start_time": "2021-12-12T12:19:54.243Z"
   },
   {
    "duration": 30,
    "start_time": "2021-12-12T12:20:13.989Z"
   },
   {
    "duration": 89,
    "start_time": "2021-12-12T12:44:45.074Z"
   },
   {
    "duration": 16,
    "start_time": "2021-12-12T12:44:45.165Z"
   },
   {
    "duration": 836,
    "start_time": "2021-12-12T12:44:45.183Z"
   },
   {
    "duration": 17,
    "start_time": "2021-12-12T12:44:46.021Z"
   },
   {
    "duration": 17,
    "start_time": "2021-12-12T12:44:46.040Z"
   },
   {
    "duration": 48,
    "start_time": "2021-12-12T12:44:46.059Z"
   },
   {
    "duration": 18,
    "start_time": "2021-12-12T12:44:46.109Z"
   },
   {
    "duration": 20,
    "start_time": "2021-12-12T12:44:46.130Z"
   },
   {
    "duration": 135,
    "start_time": "2021-12-12T12:44:46.152Z"
   },
   {
    "duration": 26,
    "start_time": "2021-12-12T12:44:46.289Z"
   },
   {
    "duration": 6,
    "start_time": "2021-12-12T12:44:46.316Z"
   },
   {
    "duration": 3583,
    "start_time": "2021-12-12T12:44:46.323Z"
   },
   {
    "duration": 24,
    "start_time": "2021-12-12T12:44:49.908Z"
   },
   {
    "duration": 76,
    "start_time": "2021-12-12T12:44:49.934Z"
   },
   {
    "duration": 16,
    "start_time": "2021-12-12T12:44:50.012Z"
   },
   {
    "duration": 20,
    "start_time": "2021-12-12T12:44:50.029Z"
   },
   {
    "duration": 13,
    "start_time": "2021-12-12T12:44:50.051Z"
   },
   {
    "duration": 7,
    "start_time": "2021-12-12T12:44:50.065Z"
   },
   {
    "duration": 56,
    "start_time": "2021-12-12T12:44:50.073Z"
   },
   {
    "duration": 27,
    "start_time": "2021-12-12T12:44:50.131Z"
   },
   {
    "duration": 48,
    "start_time": "2021-12-12T12:44:50.160Z"
   },
   {
    "duration": 18,
    "start_time": "2021-12-12T12:49:08.722Z"
   },
   {
    "duration": 16,
    "start_time": "2021-12-12T12:49:12.756Z"
   },
   {
    "duration": 16,
    "start_time": "2021-12-12T12:49:14.087Z"
   },
   {
    "duration": 17,
    "start_time": "2021-12-12T12:49:19.794Z"
   },
   {
    "duration": 19,
    "start_time": "2021-12-12T12:49:21.325Z"
   },
   {
    "duration": 2367,
    "start_time": "2021-12-12T12:49:23.625Z"
   },
   {
    "duration": -142,
    "start_time": "2021-12-12T12:49:26.137Z"
   },
   {
    "duration": 91,
    "start_time": "2021-12-12T12:49:30.761Z"
   },
   {
    "duration": 16,
    "start_time": "2021-12-12T12:49:30.854Z"
   },
   {
    "duration": 838,
    "start_time": "2021-12-12T12:49:30.871Z"
   },
   {
    "duration": 16,
    "start_time": "2021-12-12T12:49:31.711Z"
   },
   {
    "duration": 14,
    "start_time": "2021-12-12T12:49:31.729Z"
   },
   {
    "duration": 14,
    "start_time": "2021-12-12T12:49:31.745Z"
   },
   {
    "duration": 47,
    "start_time": "2021-12-12T12:49:31.761Z"
   },
   {
    "duration": 16,
    "start_time": "2021-12-12T12:49:31.810Z"
   },
   {
    "duration": 96,
    "start_time": "2021-12-12T12:49:31.828Z"
   },
   {
    "duration": 15,
    "start_time": "2021-12-12T12:49:31.926Z"
   },
   {
    "duration": 5,
    "start_time": "2021-12-12T12:49:31.943Z"
   },
   {
    "duration": 3901,
    "start_time": "2021-12-12T12:49:31.950Z"
   },
   {
    "duration": 24,
    "start_time": "2021-12-12T12:49:35.852Z"
   },
   {
    "duration": 75,
    "start_time": "2021-12-12T12:49:35.877Z"
   },
   {
    "duration": 16,
    "start_time": "2021-12-12T12:49:35.953Z"
   },
   {
    "duration": 40,
    "start_time": "2021-12-12T12:49:35.971Z"
   },
   {
    "duration": 15,
    "start_time": "2021-12-12T12:49:36.013Z"
   },
   {
    "duration": 10,
    "start_time": "2021-12-12T12:49:36.030Z"
   },
   {
    "duration": 34,
    "start_time": "2021-12-12T12:49:36.041Z"
   },
   {
    "duration": 47,
    "start_time": "2021-12-12T12:49:36.077Z"
   },
   {
    "duration": 31,
    "start_time": "2021-12-12T12:49:36.125Z"
   },
   {
    "duration": 609,
    "start_time": "2021-12-12T19:06:07.049Z"
   },
   {
    "duration": 14,
    "start_time": "2021-12-12T19:06:07.659Z"
   },
   {
    "duration": 848,
    "start_time": "2021-12-12T19:06:07.688Z"
   },
   {
    "duration": 14,
    "start_time": "2021-12-12T19:06:08.538Z"
   },
   {
    "duration": 11,
    "start_time": "2021-12-12T19:06:08.553Z"
   },
   {
    "duration": 27,
    "start_time": "2021-12-12T19:06:08.566Z"
   },
   {
    "duration": 12,
    "start_time": "2021-12-12T19:06:08.596Z"
   },
   {
    "duration": 13,
    "start_time": "2021-12-12T19:06:08.610Z"
   },
   {
    "duration": 97,
    "start_time": "2021-12-12T19:06:08.624Z"
   },
   {
    "duration": 14,
    "start_time": "2021-12-12T19:06:08.723Z"
   },
   {
    "duration": 5,
    "start_time": "2021-12-12T19:06:08.738Z"
   },
   {
    "duration": 3324,
    "start_time": "2021-12-12T19:06:08.745Z"
   },
   {
    "duration": 36,
    "start_time": "2021-12-12T19:06:12.071Z"
   },
   {
    "duration": 56,
    "start_time": "2021-12-12T19:06:12.108Z"
   },
   {
    "duration": 31,
    "start_time": "2021-12-12T19:06:12.166Z"
   },
   {
    "duration": 21,
    "start_time": "2021-12-12T19:06:12.198Z"
   },
   {
    "duration": 15,
    "start_time": "2021-12-12T19:06:12.220Z"
   },
   {
    "duration": 6,
    "start_time": "2021-12-12T19:06:12.237Z"
   },
   {
    "duration": 47,
    "start_time": "2021-12-12T19:06:12.245Z"
   },
   {
    "duration": 23,
    "start_time": "2021-12-12T19:06:12.294Z"
   },
   {
    "duration": 27,
    "start_time": "2021-12-12T19:06:12.318Z"
   },
   {
    "duration": 85,
    "start_time": "2021-12-12T19:16:05.117Z"
   },
   {
    "duration": 13,
    "start_time": "2021-12-12T19:16:05.204Z"
   },
   {
    "duration": 6,
    "start_time": "2021-12-12T19:16:19.980Z"
   },
   {
    "duration": 3899,
    "start_time": "2021-12-12T19:16:28.744Z"
   },
   {
    "duration": 6,
    "start_time": "2021-12-12T19:16:40.995Z"
   },
   {
    "duration": 4015,
    "start_time": "2021-12-12T19:16:46.976Z"
   },
   {
    "duration": 6,
    "start_time": "2021-12-12T19:17:23.285Z"
   },
   {
    "duration": 243,
    "start_time": "2021-12-12T19:17:38.255Z"
   },
   {
    "duration": 492,
    "start_time": "2021-12-12T19:17:46.247Z"
   },
   {
    "duration": 237,
    "start_time": "2021-12-12T19:18:52.590Z"
   },
   {
    "duration": 84,
    "start_time": "2021-12-12T19:19:18.595Z"
   },
   {
    "duration": 39,
    "start_time": "2021-12-12T19:19:20.762Z"
   },
   {
    "duration": 19,
    "start_time": "2021-12-12T19:19:29.482Z"
   },
   {
    "duration": 15,
    "start_time": "2021-12-12T19:19:38.325Z"
   },
   {
    "duration": 34,
    "start_time": "2021-12-12T19:19:43.631Z"
   },
   {
    "duration": 9,
    "start_time": "2021-12-12T19:20:01.571Z"
   },
   {
    "duration": 7,
    "start_time": "2021-12-12T19:20:16.869Z"
   },
   {
    "duration": 634,
    "start_time": "2021-12-12T19:22:42.794Z"
   },
   {
    "duration": 14,
    "start_time": "2021-12-12T19:22:43.429Z"
   },
   {
    "duration": 772,
    "start_time": "2021-12-12T19:22:43.444Z"
   },
   {
    "duration": 15,
    "start_time": "2021-12-12T19:22:44.217Z"
   },
   {
    "duration": 12,
    "start_time": "2021-12-12T19:22:44.234Z"
   },
   {
    "duration": 12,
    "start_time": "2021-12-12T19:22:44.248Z"
   },
   {
    "duration": 36,
    "start_time": "2021-12-12T19:22:44.261Z"
   },
   {
    "duration": 13,
    "start_time": "2021-12-12T19:22:44.299Z"
   },
   {
    "duration": 91,
    "start_time": "2021-12-12T19:22:44.314Z"
   },
   {
    "duration": 13,
    "start_time": "2021-12-12T19:22:44.407Z"
   },
   {
    "duration": 5,
    "start_time": "2021-12-12T19:22:44.421Z"
   },
   {
    "duration": 3337,
    "start_time": "2021-12-12T19:22:44.428Z"
   },
   {
    "duration": 33,
    "start_time": "2021-12-12T19:22:47.767Z"
   },
   {
    "duration": 52,
    "start_time": "2021-12-12T19:22:47.802Z"
   },
   {
    "duration": 15,
    "start_time": "2021-12-12T19:22:47.856Z"
   },
   {
    "duration": 17,
    "start_time": "2021-12-12T19:22:47.888Z"
   },
   {
    "duration": 14,
    "start_time": "2021-12-12T19:22:47.907Z"
   },
   {
    "duration": 6,
    "start_time": "2021-12-12T19:22:47.923Z"
   },
   {
    "duration": 25,
    "start_time": "2021-12-12T19:22:47.931Z"
   },
   {
    "duration": 49,
    "start_time": "2021-12-12T19:22:47.958Z"
   },
   {
    "duration": 28,
    "start_time": "2021-12-12T19:22:48.008Z"
   },
   {
    "duration": 32,
    "start_time": "2021-12-12T19:27:20.003Z"
   },
   {
    "duration": 26,
    "start_time": "2021-12-12T19:27:31.681Z"
   },
   {
    "duration": 26,
    "start_time": "2021-12-12T19:27:52.669Z"
   },
   {
    "duration": 22,
    "start_time": "2021-12-12T19:28:17.679Z"
   },
   {
    "duration": 6175,
    "start_time": "2021-12-12T19:29:07.328Z"
   },
   {
    "duration": 27,
    "start_time": "2021-12-12T19:29:24.673Z"
   },
   {
    "duration": 85,
    "start_time": "2021-12-12T19:30:30.143Z"
   },
   {
    "duration": 795,
    "start_time": "2022-10-25T09:51:32.798Z"
   },
   {
    "duration": 15,
    "start_time": "2022-10-25T09:51:38.687Z"
   },
   {
    "duration": 421,
    "start_time": "2022-10-25T09:51:40.312Z"
   },
   {
    "duration": 13,
    "start_time": "2022-10-25T09:51:42.271Z"
   },
   {
    "duration": 12,
    "start_time": "2022-10-25T09:51:44.281Z"
   },
   {
    "duration": 14,
    "start_time": "2022-10-25T09:51:45.748Z"
   },
   {
    "duration": 14,
    "start_time": "2022-10-25T09:51:48.651Z"
   },
   {
    "duration": 14,
    "start_time": "2022-10-25T09:51:50.243Z"
   },
   {
    "duration": 91,
    "start_time": "2022-10-25T09:51:55.191Z"
   },
   {
    "duration": 15,
    "start_time": "2022-10-25T09:51:57.130Z"
   },
   {
    "duration": 6,
    "start_time": "2022-10-25T09:51:59.244Z"
   },
   {
    "duration": 3807,
    "start_time": "2022-10-25T09:52:00.927Z"
   },
   {
    "duration": 26,
    "start_time": "2022-10-25T09:52:04.736Z"
   },
   {
    "duration": 60,
    "start_time": "2022-10-25T09:52:06.088Z"
   },
   {
    "duration": 17,
    "start_time": "2022-10-25T09:52:10.896Z"
   },
   {
    "duration": 18,
    "start_time": "2022-10-25T09:52:12.889Z"
   },
   {
    "duration": 16,
    "start_time": "2022-10-25T09:52:15.325Z"
   },
   {
    "duration": 8,
    "start_time": "2022-10-25T09:52:17.595Z"
   },
   {
    "duration": 29,
    "start_time": "2022-10-25T09:52:21.784Z"
   },
   {
    "duration": 27,
    "start_time": "2022-10-25T09:52:23.972Z"
   },
   {
    "duration": 29,
    "start_time": "2022-10-25T09:52:26.138Z"
   }
  ],
  "kernelspec": {
   "display_name": "Python 3 (ipykernel)",
   "language": "python",
   "name": "python3"
  },
  "language_info": {
   "codemirror_mode": {
    "name": "ipython",
    "version": 3
   },
   "file_extension": ".py",
   "mimetype": "text/x-python",
   "name": "python",
   "nbconvert_exporter": "python",
   "pygments_lexer": "ipython3",
   "version": "3.9.5"
  },
  "toc": {
   "base_numbering": 1,
   "nav_menu": {},
   "number_sections": true,
   "sideBar": true,
   "skip_h1_title": true,
   "title_cell": "Table of Contents",
   "title_sidebar": "Contents",
   "toc_cell": false,
   "toc_position": {},
   "toc_section_display": true,
   "toc_window_display": true
  }
 },
 "nbformat": 4,
 "nbformat_minor": 2
}
