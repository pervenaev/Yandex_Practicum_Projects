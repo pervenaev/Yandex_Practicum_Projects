{
 "cells": [
  {
   "cell_type": "markdown",
   "metadata": {},
   "source": [
    "# Исследование объявлений о продаже квартир\n",
    "\n",
    "В вашем распоряжении данные сервиса Яндекс.Недвижимость — архив объявлений о продаже квартир в Санкт-Петербурге и соседних населённых пунктах за несколько лет. Нужно научиться определять рыночную стоимость объектов недвижимости. Ваша задача — установить параметры. Это позволит построить автоматизированную систему: она отследит аномалии и мошенническую деятельность. \n",
    "\n",
    "По каждой квартире на продажу доступны два вида данных. Первые вписаны пользователем, вторые получены автоматически на основе картографических данных. Например, расстояние до центра, аэропорта, ближайшего парка и водоёма. "
   ]
  },
  {
   "cell_type": "markdown",
   "metadata": {},
   "source": [
    "## Изучение данных из файла"
   ]
  },
  {
   "cell_type": "code",
   "execution_count": 83,
   "metadata": {},
   "outputs": [
    {
     "data": {
      "text/html": [
       "<div>\n",
       "<style scoped>\n",
       "    .dataframe tbody tr th:only-of-type {\n",
       "        vertical-align: middle;\n",
       "    }\n",
       "\n",
       "    .dataframe tbody tr th {\n",
       "        vertical-align: top;\n",
       "    }\n",
       "\n",
       "    .dataframe thead th {\n",
       "        text-align: right;\n",
       "    }\n",
       "</style>\n",
       "<table border=\"1\" class=\"dataframe\">\n",
       "  <thead>\n",
       "    <tr style=\"text-align: right;\">\n",
       "      <th></th>\n",
       "      <th>total_images</th>\n",
       "      <th>last_price</th>\n",
       "      <th>total_area</th>\n",
       "      <th>first_day_exposition</th>\n",
       "      <th>rooms</th>\n",
       "      <th>ceiling_height</th>\n",
       "      <th>floors_total</th>\n",
       "      <th>living_area</th>\n",
       "      <th>floor</th>\n",
       "      <th>is_apartment</th>\n",
       "      <th>...</th>\n",
       "      <th>kitchen_area</th>\n",
       "      <th>balcony</th>\n",
       "      <th>locality_name</th>\n",
       "      <th>airports_nearest</th>\n",
       "      <th>cityCenters_nearest</th>\n",
       "      <th>parks_around3000</th>\n",
       "      <th>parks_nearest</th>\n",
       "      <th>ponds_around3000</th>\n",
       "      <th>ponds_nearest</th>\n",
       "      <th>days_exposition</th>\n",
       "    </tr>\n",
       "  </thead>\n",
       "  <tbody>\n",
       "    <tr>\n",
       "      <td>0</td>\n",
       "      <td>20</td>\n",
       "      <td>13000000.0</td>\n",
       "      <td>108.0</td>\n",
       "      <td>2019-03-07T00:00:00</td>\n",
       "      <td>3</td>\n",
       "      <td>2.70</td>\n",
       "      <td>16.0</td>\n",
       "      <td>51.0</td>\n",
       "      <td>8</td>\n",
       "      <td>NaN</td>\n",
       "      <td>...</td>\n",
       "      <td>25.0</td>\n",
       "      <td>NaN</td>\n",
       "      <td>Санкт-Петербург</td>\n",
       "      <td>18863.0</td>\n",
       "      <td>16028.0</td>\n",
       "      <td>1.0</td>\n",
       "      <td>482.0</td>\n",
       "      <td>2.0</td>\n",
       "      <td>755.0</td>\n",
       "      <td>NaN</td>\n",
       "    </tr>\n",
       "    <tr>\n",
       "      <td>1</td>\n",
       "      <td>7</td>\n",
       "      <td>3350000.0</td>\n",
       "      <td>40.4</td>\n",
       "      <td>2018-12-04T00:00:00</td>\n",
       "      <td>1</td>\n",
       "      <td>NaN</td>\n",
       "      <td>11.0</td>\n",
       "      <td>18.6</td>\n",
       "      <td>1</td>\n",
       "      <td>NaN</td>\n",
       "      <td>...</td>\n",
       "      <td>11.0</td>\n",
       "      <td>2.0</td>\n",
       "      <td>посёлок Шушары</td>\n",
       "      <td>12817.0</td>\n",
       "      <td>18603.0</td>\n",
       "      <td>0.0</td>\n",
       "      <td>NaN</td>\n",
       "      <td>0.0</td>\n",
       "      <td>NaN</td>\n",
       "      <td>81.0</td>\n",
       "    </tr>\n",
       "    <tr>\n",
       "      <td>2</td>\n",
       "      <td>10</td>\n",
       "      <td>5196000.0</td>\n",
       "      <td>56.0</td>\n",
       "      <td>2015-08-20T00:00:00</td>\n",
       "      <td>2</td>\n",
       "      <td>NaN</td>\n",
       "      <td>5.0</td>\n",
       "      <td>34.3</td>\n",
       "      <td>4</td>\n",
       "      <td>NaN</td>\n",
       "      <td>...</td>\n",
       "      <td>8.3</td>\n",
       "      <td>0.0</td>\n",
       "      <td>Санкт-Петербург</td>\n",
       "      <td>21741.0</td>\n",
       "      <td>13933.0</td>\n",
       "      <td>1.0</td>\n",
       "      <td>90.0</td>\n",
       "      <td>2.0</td>\n",
       "      <td>574.0</td>\n",
       "      <td>558.0</td>\n",
       "    </tr>\n",
       "    <tr>\n",
       "      <td>3</td>\n",
       "      <td>0</td>\n",
       "      <td>64900000.0</td>\n",
       "      <td>159.0</td>\n",
       "      <td>2015-07-24T00:00:00</td>\n",
       "      <td>3</td>\n",
       "      <td>NaN</td>\n",
       "      <td>14.0</td>\n",
       "      <td>NaN</td>\n",
       "      <td>9</td>\n",
       "      <td>NaN</td>\n",
       "      <td>...</td>\n",
       "      <td>NaN</td>\n",
       "      <td>0.0</td>\n",
       "      <td>Санкт-Петербург</td>\n",
       "      <td>28098.0</td>\n",
       "      <td>6800.0</td>\n",
       "      <td>2.0</td>\n",
       "      <td>84.0</td>\n",
       "      <td>3.0</td>\n",
       "      <td>234.0</td>\n",
       "      <td>424.0</td>\n",
       "    </tr>\n",
       "    <tr>\n",
       "      <td>4</td>\n",
       "      <td>2</td>\n",
       "      <td>10000000.0</td>\n",
       "      <td>100.0</td>\n",
       "      <td>2018-06-19T00:00:00</td>\n",
       "      <td>2</td>\n",
       "      <td>3.03</td>\n",
       "      <td>14.0</td>\n",
       "      <td>32.0</td>\n",
       "      <td>13</td>\n",
       "      <td>NaN</td>\n",
       "      <td>...</td>\n",
       "      <td>41.0</td>\n",
       "      <td>NaN</td>\n",
       "      <td>Санкт-Петербург</td>\n",
       "      <td>31856.0</td>\n",
       "      <td>8098.0</td>\n",
       "      <td>2.0</td>\n",
       "      <td>112.0</td>\n",
       "      <td>1.0</td>\n",
       "      <td>48.0</td>\n",
       "      <td>121.0</td>\n",
       "    </tr>\n",
       "  </tbody>\n",
       "</table>\n",
       "<p>5 rows × 22 columns</p>\n",
       "</div>"
      ],
      "text/plain": [
       "   total_images  last_price  total_area first_day_exposition  rooms  \\\n",
       "0            20  13000000.0       108.0  2019-03-07T00:00:00      3   \n",
       "1             7   3350000.0        40.4  2018-12-04T00:00:00      1   \n",
       "2            10   5196000.0        56.0  2015-08-20T00:00:00      2   \n",
       "3             0  64900000.0       159.0  2015-07-24T00:00:00      3   \n",
       "4             2  10000000.0       100.0  2018-06-19T00:00:00      2   \n",
       "\n",
       "   ceiling_height  floors_total  living_area  floor is_apartment  ...  \\\n",
       "0            2.70          16.0         51.0      8          NaN  ...   \n",
       "1             NaN          11.0         18.6      1          NaN  ...   \n",
       "2             NaN           5.0         34.3      4          NaN  ...   \n",
       "3             NaN          14.0          NaN      9          NaN  ...   \n",
       "4            3.03          14.0         32.0     13          NaN  ...   \n",
       "\n",
       "   kitchen_area  balcony    locality_name  airports_nearest  \\\n",
       "0          25.0      NaN  Санкт-Петербург           18863.0   \n",
       "1          11.0      2.0   посёлок Шушары           12817.0   \n",
       "2           8.3      0.0  Санкт-Петербург           21741.0   \n",
       "3           NaN      0.0  Санкт-Петербург           28098.0   \n",
       "4          41.0      NaN  Санкт-Петербург           31856.0   \n",
       "\n",
       "  cityCenters_nearest  parks_around3000  parks_nearest  ponds_around3000  \\\n",
       "0             16028.0               1.0          482.0               2.0   \n",
       "1             18603.0               0.0            NaN               0.0   \n",
       "2             13933.0               1.0           90.0               2.0   \n",
       "3              6800.0               2.0           84.0               3.0   \n",
       "4              8098.0               2.0          112.0               1.0   \n",
       "\n",
       "   ponds_nearest  days_exposition  \n",
       "0          755.0              NaN  \n",
       "1            NaN             81.0  \n",
       "2          574.0            558.0  \n",
       "3          234.0            424.0  \n",
       "4           48.0            121.0  \n",
       "\n",
       "[5 rows x 22 columns]"
      ]
     },
     "metadata": {},
     "output_type": "display_data"
    },
    {
     "name": "stdout",
     "output_type": "stream",
     "text": [
      "<class 'pandas.core.frame.DataFrame'>\n",
      "RangeIndex: 23699 entries, 0 to 23698\n",
      "Data columns (total 22 columns):\n",
      "total_images            23699 non-null int64\n",
      "last_price              23699 non-null float64\n",
      "total_area              23699 non-null float64\n",
      "first_day_exposition    23699 non-null object\n",
      "rooms                   23699 non-null int64\n",
      "ceiling_height          14504 non-null float64\n",
      "floors_total            23613 non-null float64\n",
      "living_area             21796 non-null float64\n",
      "floor                   23699 non-null int64\n",
      "is_apartment            2775 non-null object\n",
      "studio                  23699 non-null bool\n",
      "open_plan               23699 non-null bool\n",
      "kitchen_area            21421 non-null float64\n",
      "balcony                 12180 non-null float64\n",
      "locality_name           23650 non-null object\n",
      "airports_nearest        18157 non-null float64\n",
      "cityCenters_nearest     18180 non-null float64\n",
      "parks_around3000        18181 non-null float64\n",
      "parks_nearest           8079 non-null float64\n",
      "ponds_around3000        18181 non-null float64\n",
      "ponds_nearest           9110 non-null float64\n",
      "days_exposition         20518 non-null float64\n",
      "dtypes: bool(2), float64(14), int64(3), object(3)\n",
      "memory usage: 3.7+ MB\n"
     ]
    }
   ],
   "source": [
    "import pandas as pd\n",
    "import numpy as np\n",
    "import matplotlib.pyplot as plt\n",
    "from datetime import datetime\n",
    "from scipy import stats as st\n",
    "import seaborn as sns\n",
    "data = pd.read_csv('/datasets/real_estate_data.csv', sep='\\t') # разделим склеенные данные знаком табуляции \n",
    "display(data.head())\n",
    "data.info()\n"
   ]
  },
  {
   "cell_type": "markdown",
   "metadata": {},
   "source": [
    "### Вывод"
   ]
  },
  {
   "cell_type": "markdown",
   "metadata": {},
   "source": [
    "Перед проведением анализа исходные данные необходимо предобработать:\n",
    "- привести названия столбцов **cityCenters_nearest**, **parks_around3000** и **ponds_around3000** к единому \"змеиному регистру\";            \n",
    "- больше половины из всех столбцов имееют пропущенные значения, пропуски необходимо обработать;\n",
    "- следует заменить тип значений в столбцах:\n",
    "   * на целочисленный тип стоит заменить значения многих столбцов, знаки после запятой в которых отсутствуют\n",
    "   * **is_apartment** на булевый\n",
    "   * **first_day_exposition** на datetime;\n",
    "- проверить на наличие дубликатов и удалить их при наличии."
   ]
  },
  {
   "cell_type": "markdown",
   "metadata": {},
   "source": [
    "## Предобработка данных"
   ]
  },
  {
   "cell_type": "markdown",
   "metadata": {},
   "source": [
    "Приведем к \"змеиному регистру\" названия вышеупомянутых столбцов датасета"
   ]
  },
  {
   "cell_type": "code",
   "execution_count": 84,
   "metadata": {},
   "outputs": [],
   "source": [
    "data = data.rename(columns={'cityCenters_nearest': 'city_centers_nearest',\n",
    "                            'parks_around3000': 'parks_around_3000',\n",
    "                           'ponds_around3000': 'ponds_around_3000'}\n",
    "                  )"
   ]
  },
  {
   "cell_type": "markdown",
   "metadata": {},
   "source": [
    "Для поиска аномальных значений и ошибок проверим значения каждого из столбцов, где отсутствуют явные пропуски по порядку."
   ]
  },
  {
   "cell_type": "code",
   "execution_count": 85,
   "metadata": {},
   "outputs": [
    {
     "data": {
      "text/plain": [
       "10    1798\n",
       "9     1725\n",
       "20    1694\n",
       "8     1585\n",
       "7     1521\n",
       "6     1482\n",
       "11    1362\n",
       "5     1301\n",
       "12    1225\n",
       "0     1059\n",
       "13    1015\n",
       "14     986\n",
       "4      986\n",
       "15     948\n",
       "1      872\n",
       "3      769\n",
       "16     761\n",
       "17     650\n",
       "18     642\n",
       "2      640\n",
       "19     603\n",
       "23      16\n",
       "21      12\n",
       "24       8\n",
       "22       8\n",
       "26       5\n",
       "28       4\n",
       "32       4\n",
       "50       3\n",
       "29       3\n",
       "31       2\n",
       "35       2\n",
       "30       2\n",
       "27       2\n",
       "37       1\n",
       "39       1\n",
       "25       1\n",
       "42       1\n",
       "Name: total_images, dtype: int64"
      ]
     },
     "execution_count": 85,
     "metadata": {},
     "output_type": "execute_result"
    }
   ],
   "source": [
    "data['total_images'].value_counts() # оставим без изменений"
   ]
  },
  {
   "cell_type": "code",
   "execution_count": 86,
   "metadata": {},
   "outputs": [],
   "source": [
    "data['last_price'].value_counts() \n",
    "data['last_price'] = data['last_price'].astype('int') # для удобства просмотра приведем тип данных в этом столбце к целочисленному"
   ]
  },
  {
   "cell_type": "code",
   "execution_count": 87,
   "metadata": {},
   "outputs": [
    {
     "data": {
      "text/plain": [
       "45.00     419\n",
       "42.00     383\n",
       "60.00     347\n",
       "31.00     346\n",
       "44.00     345\n",
       "         ... \n",
       "45.85       1\n",
       "44.18       1\n",
       "59.83       1\n",
       "127.20      1\n",
       "23.55       1\n",
       "Name: total_area, Length: 2182, dtype: int64"
      ]
     },
     "execution_count": 87,
     "metadata": {},
     "output_type": "execute_result"
    }
   ],
   "source": [
    "data['total_area'].value_counts() # без изменений"
   ]
  },
  {
   "cell_type": "code",
   "execution_count": 88,
   "metadata": {},
   "outputs": [
    {
     "data": {
      "text/plain": [
       "2018-02-01T00:00:00    368\n",
       "2017-11-10T00:00:00    240\n",
       "2017-10-13T00:00:00    124\n",
       "2017-09-27T00:00:00    111\n",
       "2018-03-26T00:00:00     97\n",
       "                      ... \n",
       "2015-05-17T00:00:00      1\n",
       "2017-02-25T00:00:00      1\n",
       "2016-12-10T00:00:00      1\n",
       "2016-07-21T00:00:00      1\n",
       "2016-07-06T00:00:00      1\n",
       "Name: first_day_exposition, Length: 1491, dtype: int64"
      ]
     },
     "metadata": {},
     "output_type": "display_data"
    }
   ],
   "source": [
    "display(data['first_day_exposition'].value_counts()) # время не указано, приведем тип к формату даты\n",
    "data['first_day_exposition'] = pd.to_datetime(data['first_day_exposition'], format = '%Y-%m-%d')"
   ]
  },
  {
   "cell_type": "code",
   "execution_count": 89,
   "metadata": {},
   "outputs": [
    {
     "data": {
      "text/plain": [
       "1     8047\n",
       "2     7940\n",
       "3     5814\n",
       "4     1180\n",
       "5      326\n",
       "0      197\n",
       "6      105\n",
       "7       59\n",
       "8       12\n",
       "9        8\n",
       "10       3\n",
       "14       2\n",
       "11       2\n",
       "19       1\n",
       "12       1\n",
       "16       1\n",
       "15       1\n",
       "Name: rooms, dtype: int64"
      ]
     },
     "metadata": {},
     "output_type": "display_data"
    },
    {
     "data": {
      "text/html": [
       "<div>\n",
       "<style scoped>\n",
       "    .dataframe tbody tr th:only-of-type {\n",
       "        vertical-align: middle;\n",
       "    }\n",
       "\n",
       "    .dataframe tbody tr th {\n",
       "        vertical-align: top;\n",
       "    }\n",
       "\n",
       "    .dataframe thead th {\n",
       "        text-align: right;\n",
       "    }\n",
       "</style>\n",
       "<table border=\"1\" class=\"dataframe\">\n",
       "  <thead>\n",
       "    <tr style=\"text-align: right;\">\n",
       "      <th></th>\n",
       "      <th>total_images</th>\n",
       "      <th>last_price</th>\n",
       "      <th>total_area</th>\n",
       "      <th>first_day_exposition</th>\n",
       "      <th>rooms</th>\n",
       "      <th>ceiling_height</th>\n",
       "      <th>floors_total</th>\n",
       "      <th>living_area</th>\n",
       "      <th>floor</th>\n",
       "      <th>is_apartment</th>\n",
       "      <th>...</th>\n",
       "      <th>kitchen_area</th>\n",
       "      <th>balcony</th>\n",
       "      <th>locality_name</th>\n",
       "      <th>airports_nearest</th>\n",
       "      <th>city_centers_nearest</th>\n",
       "      <th>parks_around_3000</th>\n",
       "      <th>parks_nearest</th>\n",
       "      <th>ponds_around_3000</th>\n",
       "      <th>ponds_nearest</th>\n",
       "      <th>days_exposition</th>\n",
       "    </tr>\n",
       "  </thead>\n",
       "  <tbody>\n",
       "    <tr>\n",
       "      <td>144</td>\n",
       "      <td>1</td>\n",
       "      <td>2450000</td>\n",
       "      <td>27.00</td>\n",
       "      <td>2017-03-30</td>\n",
       "      <td>0</td>\n",
       "      <td>NaN</td>\n",
       "      <td>24.0</td>\n",
       "      <td>15.50</td>\n",
       "      <td>2</td>\n",
       "      <td>NaN</td>\n",
       "      <td>...</td>\n",
       "      <td>NaN</td>\n",
       "      <td>2.0</td>\n",
       "      <td>посёлок Мурино</td>\n",
       "      <td>NaN</td>\n",
       "      <td>NaN</td>\n",
       "      <td>NaN</td>\n",
       "      <td>NaN</td>\n",
       "      <td>NaN</td>\n",
       "      <td>NaN</td>\n",
       "      <td>181.0</td>\n",
       "    </tr>\n",
       "    <tr>\n",
       "      <td>440</td>\n",
       "      <td>8</td>\n",
       "      <td>2480000</td>\n",
       "      <td>27.11</td>\n",
       "      <td>2018-03-12</td>\n",
       "      <td>0</td>\n",
       "      <td>NaN</td>\n",
       "      <td>17.0</td>\n",
       "      <td>24.75</td>\n",
       "      <td>4</td>\n",
       "      <td>NaN</td>\n",
       "      <td>...</td>\n",
       "      <td>NaN</td>\n",
       "      <td>2.0</td>\n",
       "      <td>Санкт-Петербург</td>\n",
       "      <td>38171.0</td>\n",
       "      <td>15015.0</td>\n",
       "      <td>0.0</td>\n",
       "      <td>NaN</td>\n",
       "      <td>2.0</td>\n",
       "      <td>982.0</td>\n",
       "      <td>64.0</td>\n",
       "    </tr>\n",
       "    <tr>\n",
       "      <td>608</td>\n",
       "      <td>2</td>\n",
       "      <td>1850000</td>\n",
       "      <td>25.00</td>\n",
       "      <td>2019-02-20</td>\n",
       "      <td>0</td>\n",
       "      <td>NaN</td>\n",
       "      <td>10.0</td>\n",
       "      <td>NaN</td>\n",
       "      <td>7</td>\n",
       "      <td>NaN</td>\n",
       "      <td>...</td>\n",
       "      <td>NaN</td>\n",
       "      <td>NaN</td>\n",
       "      <td>посёлок Шушары</td>\n",
       "      <td>NaN</td>\n",
       "      <td>NaN</td>\n",
       "      <td>NaN</td>\n",
       "      <td>NaN</td>\n",
       "      <td>NaN</td>\n",
       "      <td>NaN</td>\n",
       "      <td>29.0</td>\n",
       "    </tr>\n",
       "    <tr>\n",
       "      <td>697</td>\n",
       "      <td>12</td>\n",
       "      <td>2500000</td>\n",
       "      <td>24.10</td>\n",
       "      <td>2017-12-01</td>\n",
       "      <td>0</td>\n",
       "      <td>2.75</td>\n",
       "      <td>25.0</td>\n",
       "      <td>17.50</td>\n",
       "      <td>21</td>\n",
       "      <td>NaN</td>\n",
       "      <td>...</td>\n",
       "      <td>NaN</td>\n",
       "      <td>NaN</td>\n",
       "      <td>деревня Кудрово</td>\n",
       "      <td>NaN</td>\n",
       "      <td>NaN</td>\n",
       "      <td>NaN</td>\n",
       "      <td>NaN</td>\n",
       "      <td>NaN</td>\n",
       "      <td>NaN</td>\n",
       "      <td>201.0</td>\n",
       "    </tr>\n",
       "    <tr>\n",
       "      <td>716</td>\n",
       "      <td>5</td>\n",
       "      <td>1500000</td>\n",
       "      <td>17.00</td>\n",
       "      <td>2017-06-07</td>\n",
       "      <td>0</td>\n",
       "      <td>2.70</td>\n",
       "      <td>9.0</td>\n",
       "      <td>12.00</td>\n",
       "      <td>1</td>\n",
       "      <td>NaN</td>\n",
       "      <td>...</td>\n",
       "      <td>NaN</td>\n",
       "      <td>0.0</td>\n",
       "      <td>посёлок Шушары</td>\n",
       "      <td>18654.0</td>\n",
       "      <td>29846.0</td>\n",
       "      <td>0.0</td>\n",
       "      <td>NaN</td>\n",
       "      <td>0.0</td>\n",
       "      <td>NaN</td>\n",
       "      <td>40.0</td>\n",
       "    </tr>\n",
       "  </tbody>\n",
       "</table>\n",
       "<p>5 rows × 22 columns</p>\n",
       "</div>"
      ],
      "text/plain": [
       "     total_images  last_price  total_area first_day_exposition  rooms  \\\n",
       "144             1     2450000       27.00           2017-03-30      0   \n",
       "440             8     2480000       27.11           2018-03-12      0   \n",
       "608             2     1850000       25.00           2019-02-20      0   \n",
       "697            12     2500000       24.10           2017-12-01      0   \n",
       "716             5     1500000       17.00           2017-06-07      0   \n",
       "\n",
       "     ceiling_height  floors_total  living_area  floor is_apartment  ...  \\\n",
       "144             NaN          24.0        15.50      2          NaN  ...   \n",
       "440             NaN          17.0        24.75      4          NaN  ...   \n",
       "608             NaN          10.0          NaN      7          NaN  ...   \n",
       "697            2.75          25.0        17.50     21          NaN  ...   \n",
       "716            2.70           9.0        12.00      1          NaN  ...   \n",
       "\n",
       "     kitchen_area  balcony    locality_name  airports_nearest  \\\n",
       "144           NaN      2.0   посёлок Мурино               NaN   \n",
       "440           NaN      2.0  Санкт-Петербург           38171.0   \n",
       "608           NaN      NaN   посёлок Шушары               NaN   \n",
       "697           NaN      NaN  деревня Кудрово               NaN   \n",
       "716           NaN      0.0   посёлок Шушары           18654.0   \n",
       "\n",
       "    city_centers_nearest  parks_around_3000  parks_nearest  ponds_around_3000  \\\n",
       "144                  NaN                NaN            NaN                NaN   \n",
       "440              15015.0                0.0            NaN                2.0   \n",
       "608                  NaN                NaN            NaN                NaN   \n",
       "697                  NaN                NaN            NaN                NaN   \n",
       "716              29846.0                0.0            NaN                0.0   \n",
       "\n",
       "     ponds_nearest  days_exposition  \n",
       "144            NaN            181.0  \n",
       "440          982.0             64.0  \n",
       "608            NaN             29.0  \n",
       "697            NaN            201.0  \n",
       "716            NaN             40.0  \n",
       "\n",
       "[5 rows x 22 columns]"
      ]
     },
     "execution_count": 89,
     "metadata": {},
     "output_type": "execute_result"
    }
   ],
   "source": [
    "display(data['rooms'].value_counts()) # допустим существование 15-, 16-, 19-ти комнатных квартир и оставим столбец без изменений \n",
    "data[data['studio']==True].head() # 0 комнат - это квартиры студии"
   ]
  },
  {
   "cell_type": "code",
   "execution_count": 90,
   "metadata": {},
   "outputs": [
    {
     "data": {
      "text/plain": [
       "2     3368\n",
       "3     3073\n",
       "1     2917\n",
       "4     2804\n",
       "5     2621\n",
       "6     1305\n",
       "7     1218\n",
       "8     1083\n",
       "9     1051\n",
       "10     687\n",
       "12     526\n",
       "11     523\n",
       "13     379\n",
       "15     343\n",
       "14     337\n",
       "16     315\n",
       "17     227\n",
       "18     178\n",
       "19     147\n",
       "21     125\n",
       "22     113\n",
       "20     110\n",
       "23     100\n",
       "24      63\n",
       "25      46\n",
       "26      24\n",
       "27      10\n",
       "28       1\n",
       "33       1\n",
       "29       1\n",
       "30       1\n",
       "32       1\n",
       "31       1\n",
       "Name: floor, dtype: int64"
      ]
     },
     "execution_count": 90,
     "metadata": {},
     "output_type": "execute_result"
    }
   ],
   "source": [
    "data['floor'].value_counts() # без изменений"
   ]
  },
  {
   "cell_type": "code",
   "execution_count": 91,
   "metadata": {},
   "outputs": [
    {
     "data": {
      "text/plain": [
       "False    23550\n",
       "True       149\n",
       "Name: studio, dtype: int64"
      ]
     },
     "execution_count": 91,
     "metadata": {},
     "output_type": "execute_result"
    }
   ],
   "source": [
    "data['studio'].value_counts() # квартир-студий мало, похоже на правду"
   ]
  },
  {
   "cell_type": "code",
   "execution_count": 92,
   "metadata": {},
   "outputs": [
    {
     "data": {
      "text/plain": [
       "False    23632\n",
       "True        67\n",
       "Name: open_plan, dtype: int64"
      ]
     },
     "execution_count": 92,
     "metadata": {},
     "output_type": "execute_result"
    }
   ],
   "source": [
    "data['open_plan'].value_counts() # со свободной планировкой ещё меньше"
   ]
  },
  {
   "cell_type": "markdown",
   "metadata": {},
   "source": [
    "Далее приступим к обработке столбцов, где имеются явные пропуски:\n",
    "- в столбце **ceiling_height** около половины строк имеют пропуски, если пропущенные значения заменить на медианное или среднее по столбцу, это может значительно исказить конечный результат, поэтому столбец **ceiling_height** лучше оставить без изменений\n",
    "- здесь же присутствуют неправдоподобные значения (менее 2-ух и более 5-и метров), но их количество незначительно, поэтому можно эти выбросы также оставить без изменений "
   ]
  },
  {
   "cell_type": "code",
   "execution_count": 93,
   "metadata": {},
   "outputs": [
    {
     "data": {
      "text/plain": [
       "count    14504.000000\n",
       "mean         2.771499\n",
       "std          1.261056\n",
       "min          1.000000\n",
       "25%          2.520000\n",
       "50%          2.650000\n",
       "75%          2.800000\n",
       "max        100.000000\n",
       "Name: ceiling_height, dtype: float64"
      ]
     },
     "metadata": {},
     "output_type": "display_data"
    },
    {
     "data": {
      "text/plain": [
       "36"
      ]
     },
     "metadata": {},
     "output_type": "display_data"
    },
    {
     "data": {
      "text/plain": [
       "3"
      ]
     },
     "metadata": {},
     "output_type": "display_data"
    }
   ],
   "source": [
    "display(data['ceiling_height'].describe())\n",
    "display(len(data[data['ceiling_height'] > 5]))\n",
    "display(len(data[data['ceiling_height'] < 2]))"
   ]
  },
  {
   "cell_type": "markdown",
   "metadata": {},
   "source": [
    "- в столбце **floors_total** количество пропущенных значений незначительно, имеет смысл заменить пропуски на медианное значение (9 этажей)\n",
    "- для удобства просмотра данных приведем тип данных этого столбца к целочисленному"
   ]
  },
  {
   "cell_type": "code",
   "execution_count": 94,
   "metadata": {},
   "outputs": [
    {
     "data": {
      "text/plain": [
       "count    23613.000000\n",
       "mean        10.673824\n",
       "std          6.597173\n",
       "min          1.000000\n",
       "25%          5.000000\n",
       "50%          9.000000\n",
       "75%         16.000000\n",
       "max         60.000000\n",
       "Name: floors_total, dtype: float64"
      ]
     },
     "metadata": {},
     "output_type": "display_data"
    }
   ],
   "source": [
    "display(data['floors_total'].describe())\n",
    "data['floors_total'] = data['floors_total'].fillna(data['floors_total'].median()).astype('int')"
   ]
  },
  {
   "cell_type": "markdown",
   "metadata": {},
   "source": [
    "- в столбце **living_area** для заполнения пропусков найдем отношение среднего значения жилой площади к среднему значению общей площади по всему датасету\n",
    "- округлим значения до сотых, в лишних знаках после запятой нет необходимости"
   ]
  },
  {
   "cell_type": "code",
   "execution_count": 95,
   "metadata": {},
   "outputs": [],
   "source": [
    "k = data['living_area'].mean()/data['total_area'].mean()\n",
    "data['living_area'] = data['living_area'].fillna(data['total_area']*k)\n",
    "data['living_area'] = data['living_area'].round(2)"
   ]
  },
  {
   "cell_type": "markdown",
   "metadata": {},
   "source": [
    "- можно предположить, что столбец **is_apartment** стал заполняться с появлением апартаментов на рынке, раньше их не было, соответственно пропущенные значения - не апартаменты. Заменим пропуски на False и приведем тип значений к булевому"
   ]
  },
  {
   "cell_type": "code",
   "execution_count": 96,
   "metadata": {},
   "outputs": [
    {
     "data": {
      "text/plain": [
       "False    2725\n",
       "True       50\n",
       "Name: is_apartment, dtype: int64"
      ]
     },
     "metadata": {},
     "output_type": "display_data"
    }
   ],
   "source": [
    "display(data['is_apartment'].value_counts())\n",
    "data['is_apartment'] = data['is_apartment'].fillna(False).astype('bool')"
   ]
  },
  {
   "cell_type": "markdown",
   "metadata": {},
   "source": [
    "- пропуски в столбце **kitchen_area** заменим по тому же принципу, как и в столбце **living_area**"
   ]
  },
  {
   "cell_type": "code",
   "execution_count": 97,
   "metadata": {},
   "outputs": [],
   "source": [
    "k = data['kitchen_area'].mean()/data['total_area'].mean()\n",
    "data['kitchen_area'] = data['kitchen_area'].fillna(data['total_area']*k)"
   ]
  },
  {
   "cell_type": "markdown",
   "metadata": {},
   "source": [
    "- можно предположить, что пропущеннные значения в столбце **balcony** - это их отсутствие, поэтому изменим пропуски на 0 и приведем тип данных к *int*                  "
   ]
  },
  {
   "cell_type": "code",
   "execution_count": 98,
   "metadata": {},
   "outputs": [
    {
     "data": {
      "text/plain": [
       "array([nan,  2.,  0.,  1.,  5.,  4.,  3.])"
      ]
     },
     "metadata": {},
     "output_type": "display_data"
    }
   ],
   "source": [
    "display(data['balcony'].unique())\n",
    "data['balcony'] = data['balcony'].fillna(0).astype('int')"
   ]
  },
  {
   "cell_type": "markdown",
   "metadata": {},
   "source": [
    "- в столбце **locality_name** нечем заменить пропущенные значения, но есть смысл избавиться от типа населенного пункта, оставив лишь его название, которое указано в датасете с заглавной буквы        "
   ]
  },
  {
   "cell_type": "code",
   "execution_count": 99,
   "metadata": {},
   "outputs": [
    {
     "data": {
      "text/plain": [
       "Санкт-Петербург                      15721\n",
       "посёлок Мурино                         522\n",
       "посёлок Шушары                         440\n",
       "Всеволожск                             398\n",
       "Пушкин                                 369\n",
       "                                     ...  \n",
       "садовое товарищество Приладожский        1\n",
       "коттеджный поселок Счастье               1\n",
       "деревня Новолисино                       1\n",
       "посёлок Платформа 69-й километр          1\n",
       "поселок Сумино                           1\n",
       "Name: locality_name, Length: 364, dtype: int64"
      ]
     },
     "metadata": {},
     "output_type": "display_data"
    },
    {
     "data": {
      "text/plain": [
       "array(['Санкт-Петербург', 'Шушары', 'Янино-1', 'Парголово', 'Мурино',\n",
       "       'Ломоносов', 'Сертолово', 'Петергоф', 'Пушкин', 'Кудрово',\n",
       "       'Коммунар', 'Колпино', 'Красный Бор', 'Гатчина', 'Фёдоровское',\n",
       "       'Выборг', 'Кронштадт', 'Кировск', 'Новое Девяткино',\n",
       "       'Металлострой', 'Лебяжье', 'Сиверский', 'Молодцово',\n",
       "       'Кузьмоловский', 'Новая Ропша', 'Павловск', 'Пикколово',\n",
       "       'Всеволожск', 'Волхов', 'Кингисепп', 'Приозерск', 'Сестрорецк',\n",
       "       'Куттузи', 'Аннино', 'Ефимовский', 'Плодовое', 'Заклинье',\n",
       "       'Торковичи', 'Первомайское', 'Красное Село', 'Понтонный',\n",
       "       'Сясьстрой', 'Старая', 'Лесколово', 'Новый Свет', 'Сланцы',\n",
       "       'Путилово', 'Ивангород', 'Шлиссельбург', 'Никольское',\n",
       "       'Зеленогорск', 'Сосновый Бор', 'Оржицы', 'Кальтино', 'Романовка',\n",
       "       'Бугры', 'Рощино', 'Кириши', 'Луга', 'Волосово', 'Отрадное',\n",
       "       'Павлово', 'Оредеж', 'Копорье', 'Молодёжное', 'Тихвин', 'Победа',\n",
       "       'Нурма', 'Синявино', 'Тосно', 'Стрельна', 'Бокситогорск',\n",
       "       'Александровская', 'Лопухинка', 'Пикалёво', 'Терволово',\n",
       "       'Советский', 'Подпорожье', 'Петровское', 'Токсово', 'Сельцо',\n",
       "       'Вырица', 'Кипень', 'Келози', 'Вартемяги', 'Тельмана',\n",
       "       'Севастьяново', 'Большая Ижора', ' ', 'Агалатово', 'Новогорелово',\n",
       "       'Лесогорский', 'Лаголово', 'Цвелодубово', 'Рахья', 'Белогорка',\n",
       "       'Заводской', 'Новоселье', 'Большие Колпаны', 'Горбунки', 'Батово',\n",
       "       'Заневка', 'Иссад', 'Приморск', 'Мистолово', 'Новая Ладога',\n",
       "       'Зимитицы', 'Барышево', 'Разметелево', 'Свердлова', 'Пеники',\n",
       "       'Рябово', 'Пудомяги', 'Корнево', 'Низино', 'Бегуницы', 'Поляны',\n",
       "       'Мга', 'Елизаветино', 'Кузнечное', 'Колтуши', 'Запорожское',\n",
       "       'Гостилицы', 'Малое Карлино', 'Мичуринское', 'Морозова',\n",
       "       'Песочный', 'Сосново', 'Аро', 'Ильичёво', 'Тайцы', 'Малое Верево',\n",
       "       'Извара', 'Вещево', 'Паша', 'Калитино', 'Ульяновка', 'Чудской Бор',\n",
       "       'Дубровка', 'Мины', 'Войсковицы', 'Коркино', 'Ропша',\n",
       "       'Приладожский', 'Щеглово', 'Гаврилово', 'Лодейное Поле',\n",
       "       'Рабитицы', 'Никольский', 'Кузьмолово', 'Малые Колпаны',\n",
       "       'Петро-Славянка', 'Назия', 'Репино', 'Углово', 'Старая Малукса',\n",
       "       'Меньково', 'Старые Бегуницы', 'Сапёрный', 'Семрино', 'Глажево',\n",
       "       'Кобринское', 'Гарболово', 'Юкки', 'Приветнинское', 'Мануйлово',\n",
       "       'Пчева', 'Цвылёво', 'Мельниково', 'Пудость', 'Усть-Луга',\n",
       "       'Светогорск', 'Любань', 'Селезнёво', 'Каменногорск', 'Кривко',\n",
       "       'Глебычево', 'Парицы', 'Жилпосёлок', 'Войскорово', 'Стеклянный',\n",
       "       'Важины', 'Мыза-Ивановка', 'Русско-Высоцкое', 'Форносово',\n",
       "       'Старая Ладога', 'Житково', 'Виллози', 'Лампово', 'Шпаньково',\n",
       "       'Лаврики', 'Сумино', 'Возрождение', 'Старосиверская', 'Кикерино',\n",
       "       'Старое Хинколово', 'Пригородный', 'Торфяное', 'Будогощь',\n",
       "       'Суходолье', 'Красная Долина', 'Хапо-Ое', 'Дружная Горка',\n",
       "       'Лисий Нос', 'Яльгелево', 'Рождествено', 'Старополье', 'Левашово',\n",
       "       'Сяськелево', 'Камышовка', 'Лесная Поляна', 'Хязельки',\n",
       "       'Жилгородок', 'Ялгино', 'Новый Учхоз', 'Гончарово', 'Почап',\n",
       "       'Сапёрное', 'Платформа', 'Каложицы', 'Фалилеево', 'Пельгора',\n",
       "       'Торошковичи', 'Белоостров', 'Алексеевка', 'Серебрянский',\n",
       "       'Лукаши', 'Тарасово', 'Кингисеппский', 'Ушаки', 'Котлы', 'Сижно',\n",
       "       'Торосово', 'Форт Красная Горка', 'Новолисино', 'Громово',\n",
       "       'Глинка', 'Старая Пустошь', 'Коммунары', 'Починок', 'Вознесенье',\n",
       "       'Разбегаево', 'Гладкое', 'Тёсово-4', 'Бор', 'Коробицыно',\n",
       "       'Большая Вруда', 'Курковицы', 'Кобралово', 'Суоранда',\n",
       "       'Кондратьево', 'Счастье', 'Реброво', 'Тойворово', 'Семиозерье',\n",
       "       'Лесное', 'Совхозный', 'Ленинское', 'Суйда', 'Нижние Осельки',\n",
       "       'Свирь', 'Перово', 'Высоцк', 'Шум', 'Котельский', 'Лужайка',\n",
       "       'Большая Пустомержа', 'Красносельское', 'Вахнова Кара', 'Пижма',\n",
       "       'Кивеннапа Север', 'Ромашки', 'Каськово', 'Куровицы', 'Плоское',\n",
       "       'Кирпичное', 'Ям-Тесово', 'Раздолье', 'Терпилицы', 'Шугозеро',\n",
       "       'Ваганово', 'Пушное', 'Садко', 'Усть-Ижора', 'Выскатка',\n",
       "       'Свирьстрой', 'Кисельня', 'Трубников Бор', 'Высокоключевой',\n",
       "       'Пансионат Зелёный Бор', 'Ненимяки', 'Снегирёвка', 'Рапполово',\n",
       "       'Пустынка', 'Большой Сабск', 'Русско', 'Лупполово',\n",
       "       'Большое Рейзино', 'Малая Романовка', 'Дружноселье', 'Пчевжа',\n",
       "       'Володарское', 'Нижняя', 'Тихковицы', 'Борисова Грива',\n",
       "       'Дзержинского'], dtype=object)"
      ]
     },
     "execution_count": 99,
     "metadata": {},
     "output_type": "execute_result"
    }
   ],
   "source": [
    "display(data['locality_name'].value_counts())\n",
    "data['locality_name'] = data.locality_name.fillna(' ').apply(\n",
    "    lambda title: ' '.join(word for word in title.split(' ') if not word.islower())\n",
    ")\n",
    "data['locality_name'].unique()"
   ]
  },
  {
   "cell_type": "markdown",
   "metadata": {},
   "source": [
    "- в столбцах **airports_nearest**, **city_centers_nearest**, **parks_nearest** и  **ponds_nearest** у многих населенных пунктов нет информации по расстоянию до объекта, поэтому заменить пропуски не представляется возможным."
   ]
  },
  {
   "cell_type": "code",
   "execution_count": 100,
   "metadata": {},
   "outputs": [
    {
     "data": {
      "text/plain": [
       "locality_name\n",
       "Александровская    12896.500000\n",
       "Шушары             16061.458716\n",
       "Пушкин             16447.869919\n",
       "Петро-Славянка     20605.000000\n",
       "Павловск           21053.342105\n",
       "                       ...     \n",
       "Юкки                        NaN\n",
       "Ялгино                      NaN\n",
       "Яльгелево                   NaN\n",
       "Ям-Тесово                   NaN\n",
       "Янино-1                     NaN\n",
       "Name: airports_nearest, Length: 306, dtype: float64"
      ]
     },
     "metadata": {},
     "output_type": "display_data"
    },
    {
     "data": {
      "text/plain": [
       "locality_name\n",
       "                   11278.902439\n",
       "Санкт-Петербург    11601.291571\n",
       "Парголово          19924.776758\n",
       "Мурино             21888.000000\n",
       "Стрельна           23376.113636\n",
       "                       ...     \n",
       "Юкки                        NaN\n",
       "Ялгино                      NaN\n",
       "Яльгелево                   NaN\n",
       "Ям-Тесово                   NaN\n",
       "Янино-1                     NaN\n",
       "Name: city_centers_nearest, Length: 306, dtype: float64"
      ]
     },
     "metadata": {},
     "output_type": "display_data"
    },
    {
     "data": {
      "text/plain": [
       "locality_name\n",
       "Зеленогорск    210.625000\n",
       "Кронштадт      324.574713\n",
       "Павловск       379.538462\n",
       "Ломоносов      389.062500\n",
       "Пушкин         404.297170\n",
       "                  ...    \n",
       "Юкки                  NaN\n",
       "Ялгино                NaN\n",
       "Яльгелево             NaN\n",
       "Ям-Тесово             NaN\n",
       "Янино-1               NaN\n",
       "Name: parks_nearest, Length: 306, dtype: float64"
      ]
     },
     "metadata": {},
     "output_type": "display_data"
    },
    {
     "data": {
      "text/plain": [
       "locality_name\n",
       "Мурино        133.000000\n",
       "Белоостров    320.000000\n",
       "Кронштадт     343.413793\n",
       "Сестрорецк    397.977778\n",
       "Сапёрный      426.833333\n",
       "                 ...    \n",
       "Юкки                 NaN\n",
       "Ялгино               NaN\n",
       "Яльгелево            NaN\n",
       "Ям-Тесово            NaN\n",
       "Янино-1              NaN\n",
       "Name: ponds_nearest, Length: 306, dtype: float64"
      ]
     },
     "metadata": {},
     "output_type": "display_data"
    }
   ],
   "source": [
    "columns = ['airports_nearest', 'city_centers_nearest', 'parks_nearest', 'ponds_nearest']\n",
    "for column in columns:\n",
    "    \n",
    "    display(data.groupby('locality_name')[column].mean().sort_values())\n"
   ]
  },
  {
   "cell_type": "markdown",
   "metadata": {},
   "source": [
    "- в столбцах **parks_around_3000** и **ponds_around_3000**, как и в столбце с балконами, предположим, что пропуск - это отсутствие парка/водоема, заменим пропуски на 0 и приведем тип данных к *int*"
   ]
  },
  {
   "cell_type": "code",
   "execution_count": 101,
   "metadata": {},
   "outputs": [
    {
     "data": {
      "text/plain": [
       "array([ 1.,  0.,  2., nan,  3.])"
      ]
     },
     "metadata": {},
     "output_type": "display_data"
    },
    {
     "data": {
      "text/plain": [
       "array([ 2.,  0.,  3.,  1., nan])"
      ]
     },
     "metadata": {},
     "output_type": "display_data"
    }
   ],
   "source": [
    "display(data['parks_around_3000'].unique())\n",
    "data['parks_around_3000'] = data['parks_around_3000'].fillna(0).astype('int')\n",
    "display(data['ponds_around_3000'].unique())\n",
    "data['ponds_around_3000'] = data['ponds_around_3000'].fillna(0).astype('int')"
   ]
  },
  {
   "cell_type": "markdown",
   "metadata": {},
   "source": [
    "- пропуски в столбце **days_exposition** никак не связать со столбцом **first_day_exposition**, посчитать и заполнить пропущенные значения невозможно. Заменим их нулевым значением и приведем тип значений к *int*"
   ]
  },
  {
   "cell_type": "code",
   "execution_count": 102,
   "metadata": {},
   "outputs": [
    {
     "data": {
      "text/html": [
       "<div>\n",
       "<style scoped>\n",
       "    .dataframe tbody tr th:only-of-type {\n",
       "        vertical-align: middle;\n",
       "    }\n",
       "\n",
       "    .dataframe tbody tr th {\n",
       "        vertical-align: top;\n",
       "    }\n",
       "\n",
       "    .dataframe thead th {\n",
       "        text-align: right;\n",
       "    }\n",
       "</style>\n",
       "<table border=\"1\" class=\"dataframe\">\n",
       "  <thead>\n",
       "    <tr style=\"text-align: right;\">\n",
       "      <th></th>\n",
       "      <th>total_images</th>\n",
       "      <th>last_price</th>\n",
       "      <th>total_area</th>\n",
       "      <th>first_day_exposition</th>\n",
       "      <th>rooms</th>\n",
       "      <th>ceiling_height</th>\n",
       "      <th>floors_total</th>\n",
       "      <th>living_area</th>\n",
       "      <th>floor</th>\n",
       "      <th>is_apartment</th>\n",
       "      <th>...</th>\n",
       "      <th>kitchen_area</th>\n",
       "      <th>balcony</th>\n",
       "      <th>locality_name</th>\n",
       "      <th>airports_nearest</th>\n",
       "      <th>city_centers_nearest</th>\n",
       "      <th>parks_around_3000</th>\n",
       "      <th>parks_nearest</th>\n",
       "      <th>ponds_around_3000</th>\n",
       "      <th>ponds_nearest</th>\n",
       "      <th>days_exposition</th>\n",
       "    </tr>\n",
       "  </thead>\n",
       "  <tbody>\n",
       "    <tr>\n",
       "      <td>0</td>\n",
       "      <td>20</td>\n",
       "      <td>13000000</td>\n",
       "      <td>108.0</td>\n",
       "      <td>2019-03-07</td>\n",
       "      <td>3</td>\n",
       "      <td>2.70</td>\n",
       "      <td>16</td>\n",
       "      <td>51.00</td>\n",
       "      <td>8</td>\n",
       "      <td>False</td>\n",
       "      <td>...</td>\n",
       "      <td>25.000000</td>\n",
       "      <td>0</td>\n",
       "      <td>Санкт-Петербург</td>\n",
       "      <td>18863.0</td>\n",
       "      <td>16028.0</td>\n",
       "      <td>1</td>\n",
       "      <td>482.0</td>\n",
       "      <td>2</td>\n",
       "      <td>755.0</td>\n",
       "      <td>NaN</td>\n",
       "    </tr>\n",
       "    <tr>\n",
       "      <td>7</td>\n",
       "      <td>5</td>\n",
       "      <td>7915000</td>\n",
       "      <td>71.6</td>\n",
       "      <td>2019-04-18</td>\n",
       "      <td>2</td>\n",
       "      <td>NaN</td>\n",
       "      <td>24</td>\n",
       "      <td>40.88</td>\n",
       "      <td>22</td>\n",
       "      <td>False</td>\n",
       "      <td>...</td>\n",
       "      <td>18.900000</td>\n",
       "      <td>2</td>\n",
       "      <td>Санкт-Петербург</td>\n",
       "      <td>23982.0</td>\n",
       "      <td>11634.0</td>\n",
       "      <td>0</td>\n",
       "      <td>NaN</td>\n",
       "      <td>0</td>\n",
       "      <td>NaN</td>\n",
       "      <td>NaN</td>\n",
       "    </tr>\n",
       "    <tr>\n",
       "      <td>44</td>\n",
       "      <td>13</td>\n",
       "      <td>5350000</td>\n",
       "      <td>40.0</td>\n",
       "      <td>2018-11-18</td>\n",
       "      <td>1</td>\n",
       "      <td>NaN</td>\n",
       "      <td>22</td>\n",
       "      <td>22.84</td>\n",
       "      <td>3</td>\n",
       "      <td>False</td>\n",
       "      <td>...</td>\n",
       "      <td>7.005828</td>\n",
       "      <td>1</td>\n",
       "      <td>Санкт-Петербург</td>\n",
       "      <td>30471.0</td>\n",
       "      <td>11603.0</td>\n",
       "      <td>1</td>\n",
       "      <td>620.0</td>\n",
       "      <td>1</td>\n",
       "      <td>1152.0</td>\n",
       "      <td>NaN</td>\n",
       "    </tr>\n",
       "    <tr>\n",
       "      <td>45</td>\n",
       "      <td>17</td>\n",
       "      <td>5200000</td>\n",
       "      <td>50.6</td>\n",
       "      <td>2018-12-02</td>\n",
       "      <td>2</td>\n",
       "      <td>2.65</td>\n",
       "      <td>9</td>\n",
       "      <td>30.30</td>\n",
       "      <td>7</td>\n",
       "      <td>False</td>\n",
       "      <td>...</td>\n",
       "      <td>7.000000</td>\n",
       "      <td>0</td>\n",
       "      <td>Санкт-Петербург</td>\n",
       "      <td>30011.0</td>\n",
       "      <td>12872.0</td>\n",
       "      <td>0</td>\n",
       "      <td>NaN</td>\n",
       "      <td>0</td>\n",
       "      <td>NaN</td>\n",
       "      <td>NaN</td>\n",
       "    </tr>\n",
       "    <tr>\n",
       "      <td>46</td>\n",
       "      <td>17</td>\n",
       "      <td>6600000</td>\n",
       "      <td>52.1</td>\n",
       "      <td>2019-01-31</td>\n",
       "      <td>2</td>\n",
       "      <td>2.60</td>\n",
       "      <td>24</td>\n",
       "      <td>29.70</td>\n",
       "      <td>9</td>\n",
       "      <td>False</td>\n",
       "      <td>...</td>\n",
       "      <td>8.300000</td>\n",
       "      <td>2</td>\n",
       "      <td>Санкт-Петербург</td>\n",
       "      <td>15114.0</td>\n",
       "      <td>12702.0</td>\n",
       "      <td>0</td>\n",
       "      <td>NaN</td>\n",
       "      <td>0</td>\n",
       "      <td>NaN</td>\n",
       "      <td>NaN</td>\n",
       "    </tr>\n",
       "  </tbody>\n",
       "</table>\n",
       "<p>5 rows × 22 columns</p>\n",
       "</div>"
      ],
      "text/plain": [
       "    total_images  last_price  total_area first_day_exposition  rooms  \\\n",
       "0             20    13000000       108.0           2019-03-07      3   \n",
       "7              5     7915000        71.6           2019-04-18      2   \n",
       "44            13     5350000        40.0           2018-11-18      1   \n",
       "45            17     5200000        50.6           2018-12-02      2   \n",
       "46            17     6600000        52.1           2019-01-31      2   \n",
       "\n",
       "    ceiling_height  floors_total  living_area  floor  is_apartment  ...  \\\n",
       "0             2.70            16        51.00      8         False  ...   \n",
       "7              NaN            24        40.88     22         False  ...   \n",
       "44             NaN            22        22.84      3         False  ...   \n",
       "45            2.65             9        30.30      7         False  ...   \n",
       "46            2.60            24        29.70      9         False  ...   \n",
       "\n",
       "    kitchen_area  balcony    locality_name  airports_nearest  \\\n",
       "0      25.000000        0  Санкт-Петербург           18863.0   \n",
       "7      18.900000        2  Санкт-Петербург           23982.0   \n",
       "44      7.005828        1  Санкт-Петербург           30471.0   \n",
       "45      7.000000        0  Санкт-Петербург           30011.0   \n",
       "46      8.300000        2  Санкт-Петербург           15114.0   \n",
       "\n",
       "   city_centers_nearest  parks_around_3000  parks_nearest  ponds_around_3000  \\\n",
       "0               16028.0                  1          482.0                  2   \n",
       "7               11634.0                  0            NaN                  0   \n",
       "44              11603.0                  1          620.0                  1   \n",
       "45              12872.0                  0            NaN                  0   \n",
       "46              12702.0                  0            NaN                  0   \n",
       "\n",
       "    ponds_nearest  days_exposition  \n",
       "0           755.0              NaN  \n",
       "7             NaN              NaN  \n",
       "44         1152.0              NaN  \n",
       "45            NaN              NaN  \n",
       "46            NaN              NaN  \n",
       "\n",
       "[5 rows x 22 columns]"
      ]
     },
     "metadata": {},
     "output_type": "display_data"
    },
    {
     "data": {
      "text/plain": [
       "45.0      880\n",
       "60.0      538\n",
       "7.0       234\n",
       "30.0      208\n",
       "90.0      204\n",
       "         ... \n",
       "1110.0      1\n",
       "1049.0      1\n",
       "951.0       1\n",
       "693.0       1\n",
       "773.0       1\n",
       "Name: days_exposition, Length: 1141, dtype: int64"
      ]
     },
     "metadata": {},
     "output_type": "display_data"
    }
   ],
   "source": [
    "display(data[data['days_exposition'].isna()].head())\n",
    "display(data['days_exposition'].value_counts())\n",
    "data['days_exposition'] = data['days_exposition'].fillna(0).astype('int')"
   ]
  },
  {
   "cell_type": "code",
   "execution_count": 103,
   "metadata": {
    "scrolled": true
   },
   "outputs": [
    {
     "name": "stdout",
     "output_type": "stream",
     "text": [
      "<class 'pandas.core.frame.DataFrame'>\n",
      "RangeIndex: 23699 entries, 0 to 23698\n",
      "Data columns (total 22 columns):\n",
      "total_images            23699 non-null int64\n",
      "last_price              23699 non-null int64\n",
      "total_area              23699 non-null float64\n",
      "first_day_exposition    23699 non-null datetime64[ns]\n",
      "rooms                   23699 non-null int64\n",
      "ceiling_height          14504 non-null float64\n",
      "floors_total            23699 non-null int64\n",
      "living_area             23699 non-null float64\n",
      "floor                   23699 non-null int64\n",
      "is_apartment            23699 non-null bool\n",
      "studio                  23699 non-null bool\n",
      "open_plan               23699 non-null bool\n",
      "kitchen_area            23699 non-null float64\n",
      "balcony                 23699 non-null int64\n",
      "locality_name           23699 non-null object\n",
      "airports_nearest        18157 non-null float64\n",
      "city_centers_nearest    18180 non-null float64\n",
      "parks_around_3000       23699 non-null int64\n",
      "parks_nearest           8079 non-null float64\n",
      "ponds_around_3000       23699 non-null int64\n",
      "ponds_nearest           9110 non-null float64\n",
      "days_exposition         23699 non-null int64\n",
      "dtypes: bool(3), datetime64[ns](1), float64(8), int64(9), object(1)\n",
      "memory usage: 3.5+ MB\n"
     ]
    },
    {
     "data": {
      "text/plain": [
       "'Количество дубликатов в таблице:'"
      ]
     },
     "metadata": {},
     "output_type": "display_data"
    },
    {
     "data": {
      "text/plain": [
       "0"
      ]
     },
     "metadata": {},
     "output_type": "display_data"
    }
   ],
   "source": [
    "data.info()\n",
    "display(\"Количество дубликатов в таблице:\", data.duplicated().sum())"
   ]
  },
  {
   "cell_type": "markdown",
   "metadata": {},
   "source": [
    "После обработки полученных данных мы избавились от пропусков в большинстве столбцов. Оставшиеся пропуски востановить нет возможности, изменение либо их удаление может повлиять на общую картину, поэтому оставляем их без изменений. Дубликатов в таблице нет, можно переходить к следующему этапу."
   ]
  },
  {
   "cell_type": "markdown",
   "metadata": {},
   "source": [
    "## Расчёты и добавление результатов в таблицу"
   ]
  },
  {
   "cell_type": "markdown",
   "metadata": {},
   "source": [
    "1. Посчитать цену квадратного метра:\n",
    "- *разделим стоимость на общую площадь жилья*"
   ]
  },
  {
   "cell_type": "code",
   "execution_count": 104,
   "metadata": {},
   "outputs": [],
   "source": [
    "data['price_per_square_meter'] = data['last_price'] / data['total_area']\n",
    "data['price_per_square_meter'] = data['price_per_square_meter'].astype('int')"
   ]
  },
  {
   "cell_type": "markdown",
   "metadata": {},
   "source": [
    "2. Найти день недели, месяц и год публикации объявления:\n",
    "- *вытащим эти данные из столбца **first_day_exposition** при помощи функции .dt*"
   ]
  },
  {
   "cell_type": "code",
   "execution_count": 105,
   "metadata": {},
   "outputs": [
    {
     "data": {
      "text/plain": [
       "0    2019\n",
       "1    2018\n",
       "2    2015\n",
       "3    2015\n",
       "4    2018\n",
       "Name: year_exposition, dtype: int64"
      ]
     },
     "execution_count": 105,
     "metadata": {},
     "output_type": "execute_result"
    }
   ],
   "source": [
    "data['weekday_exposition'] = data['first_day_exposition'].dt.weekday \n",
    "#data['month_exposition'] = data['first_day_exposition'].dt.month\n",
    "data['year_exposition'] = data['first_day_exposition'].dt.year \n",
    "\n",
    "data['month_exposition'] = data['first_day_exposition'].astype('datetime64[M]')\n",
    "data['year_exposition'].head()"
   ]
  },
  {
   "cell_type": "markdown",
   "metadata": {},
   "source": [
    "3. Категоризировать квартиры по этажу на три варианта — первый, последний, другой:\n",
    "- *для категоризации квартир по этажу применим функцию для одной строки*"
   ]
  },
  {
   "cell_type": "code",
   "execution_count": 106,
   "metadata": {},
   "outputs": [],
   "source": [
    "def floor_category(row):\n",
    "    floors_total = row['floors_total']\n",
    "    floor = row['floor']\n",
    "    if floor == 1:\n",
    "        return 'первый'\n",
    "    if floor == floors_total:\n",
    "        return 'последний'\n",
    "    else:\n",
    "        return 'другой'\n",
    "data['floor_category'] = data.apply(floor_category, axis = 1)"
   ]
  },
  {
   "cell_type": "markdown",
   "metadata": {},
   "source": [
    "4. Посчитать соотношение жилой и общей площади, а также отношение площади кухни к общей:\n",
    "- *мы это делали ранее для заполнения пропусков в столбцах с жилой площадью и площадью кухни, посчитаем также и округлим значения до сотых*"
   ]
  },
  {
   "cell_type": "code",
   "execution_count": 107,
   "metadata": {},
   "outputs": [],
   "source": [
    "data['living_area_ratio'] = data['living_area'] / data['total_area']\n",
    "data['living_area_ratio'] = data['living_area_ratio'].round(2)\n",
    "data['kitchen_area_ratio'] = data['kitchen_area'] / data['total_area']\n",
    "data['kitchen_area_ratio'] = data['kitchen_area_ratio'].round(2)"
   ]
  },
  {
   "cell_type": "code",
   "execution_count": 108,
   "metadata": {},
   "outputs": [
    {
     "data": {
      "text/html": [
       "<div>\n",
       "<style scoped>\n",
       "    .dataframe tbody tr th:only-of-type {\n",
       "        vertical-align: middle;\n",
       "    }\n",
       "\n",
       "    .dataframe tbody tr th {\n",
       "        vertical-align: top;\n",
       "    }\n",
       "\n",
       "    .dataframe thead th {\n",
       "        text-align: right;\n",
       "    }\n",
       "</style>\n",
       "<table border=\"1\" class=\"dataframe\">\n",
       "  <thead>\n",
       "    <tr style=\"text-align: right;\">\n",
       "      <th></th>\n",
       "      <th>total_images</th>\n",
       "      <th>last_price</th>\n",
       "      <th>total_area</th>\n",
       "      <th>first_day_exposition</th>\n",
       "      <th>rooms</th>\n",
       "      <th>ceiling_height</th>\n",
       "      <th>floors_total</th>\n",
       "      <th>living_area</th>\n",
       "      <th>floor</th>\n",
       "      <th>is_apartment</th>\n",
       "      <th>...</th>\n",
       "      <th>ponds_around_3000</th>\n",
       "      <th>ponds_nearest</th>\n",
       "      <th>days_exposition</th>\n",
       "      <th>price_per_square_meter</th>\n",
       "      <th>weekday_exposition</th>\n",
       "      <th>year_exposition</th>\n",
       "      <th>month_exposition</th>\n",
       "      <th>floor_category</th>\n",
       "      <th>living_area_ratio</th>\n",
       "      <th>kitchen_area_ratio</th>\n",
       "    </tr>\n",
       "  </thead>\n",
       "  <tbody>\n",
       "    <tr>\n",
       "      <td>0</td>\n",
       "      <td>20</td>\n",
       "      <td>13000000</td>\n",
       "      <td>108.0</td>\n",
       "      <td>2019-03-07</td>\n",
       "      <td>3</td>\n",
       "      <td>2.70</td>\n",
       "      <td>16</td>\n",
       "      <td>51.00</td>\n",
       "      <td>8</td>\n",
       "      <td>False</td>\n",
       "      <td>...</td>\n",
       "      <td>2</td>\n",
       "      <td>755.0</td>\n",
       "      <td>0</td>\n",
       "      <td>120370</td>\n",
       "      <td>3</td>\n",
       "      <td>2019</td>\n",
       "      <td>2019-03-01</td>\n",
       "      <td>другой</td>\n",
       "      <td>0.47</td>\n",
       "      <td>0.23</td>\n",
       "    </tr>\n",
       "    <tr>\n",
       "      <td>1</td>\n",
       "      <td>7</td>\n",
       "      <td>3350000</td>\n",
       "      <td>40.4</td>\n",
       "      <td>2018-12-04</td>\n",
       "      <td>1</td>\n",
       "      <td>NaN</td>\n",
       "      <td>11</td>\n",
       "      <td>18.60</td>\n",
       "      <td>1</td>\n",
       "      <td>False</td>\n",
       "      <td>...</td>\n",
       "      <td>0</td>\n",
       "      <td>NaN</td>\n",
       "      <td>81</td>\n",
       "      <td>82920</td>\n",
       "      <td>1</td>\n",
       "      <td>2018</td>\n",
       "      <td>2018-12-01</td>\n",
       "      <td>первый</td>\n",
       "      <td>0.46</td>\n",
       "      <td>0.27</td>\n",
       "    </tr>\n",
       "    <tr>\n",
       "      <td>2</td>\n",
       "      <td>10</td>\n",
       "      <td>5196000</td>\n",
       "      <td>56.0</td>\n",
       "      <td>2015-08-20</td>\n",
       "      <td>2</td>\n",
       "      <td>NaN</td>\n",
       "      <td>5</td>\n",
       "      <td>34.30</td>\n",
       "      <td>4</td>\n",
       "      <td>False</td>\n",
       "      <td>...</td>\n",
       "      <td>2</td>\n",
       "      <td>574.0</td>\n",
       "      <td>558</td>\n",
       "      <td>92785</td>\n",
       "      <td>3</td>\n",
       "      <td>2015</td>\n",
       "      <td>2015-08-01</td>\n",
       "      <td>другой</td>\n",
       "      <td>0.61</td>\n",
       "      <td>0.15</td>\n",
       "    </tr>\n",
       "    <tr>\n",
       "      <td>3</td>\n",
       "      <td>0</td>\n",
       "      <td>64900000</td>\n",
       "      <td>159.0</td>\n",
       "      <td>2015-07-24</td>\n",
       "      <td>3</td>\n",
       "      <td>NaN</td>\n",
       "      <td>14</td>\n",
       "      <td>90.79</td>\n",
       "      <td>9</td>\n",
       "      <td>False</td>\n",
       "      <td>...</td>\n",
       "      <td>3</td>\n",
       "      <td>234.0</td>\n",
       "      <td>424</td>\n",
       "      <td>408176</td>\n",
       "      <td>4</td>\n",
       "      <td>2015</td>\n",
       "      <td>2015-07-01</td>\n",
       "      <td>другой</td>\n",
       "      <td>0.57</td>\n",
       "      <td>0.18</td>\n",
       "    </tr>\n",
       "    <tr>\n",
       "      <td>4</td>\n",
       "      <td>2</td>\n",
       "      <td>10000000</td>\n",
       "      <td>100.0</td>\n",
       "      <td>2018-06-19</td>\n",
       "      <td>2</td>\n",
       "      <td>3.03</td>\n",
       "      <td>14</td>\n",
       "      <td>32.00</td>\n",
       "      <td>13</td>\n",
       "      <td>False</td>\n",
       "      <td>...</td>\n",
       "      <td>1</td>\n",
       "      <td>48.0</td>\n",
       "      <td>121</td>\n",
       "      <td>100000</td>\n",
       "      <td>1</td>\n",
       "      <td>2018</td>\n",
       "      <td>2018-06-01</td>\n",
       "      <td>другой</td>\n",
       "      <td>0.32</td>\n",
       "      <td>0.41</td>\n",
       "    </tr>\n",
       "  </tbody>\n",
       "</table>\n",
       "<p>5 rows × 29 columns</p>\n",
       "</div>"
      ],
      "text/plain": [
       "   total_images  last_price  total_area first_day_exposition  rooms  \\\n",
       "0            20    13000000       108.0           2019-03-07      3   \n",
       "1             7     3350000        40.4           2018-12-04      1   \n",
       "2            10     5196000        56.0           2015-08-20      2   \n",
       "3             0    64900000       159.0           2015-07-24      3   \n",
       "4             2    10000000       100.0           2018-06-19      2   \n",
       "\n",
       "   ceiling_height  floors_total  living_area  floor  is_apartment  ...  \\\n",
       "0            2.70            16        51.00      8         False  ...   \n",
       "1             NaN            11        18.60      1         False  ...   \n",
       "2             NaN             5        34.30      4         False  ...   \n",
       "3             NaN            14        90.79      9         False  ...   \n",
       "4            3.03            14        32.00     13         False  ...   \n",
       "\n",
       "   ponds_around_3000  ponds_nearest  days_exposition  price_per_square_meter  \\\n",
       "0                  2          755.0                0                  120370   \n",
       "1                  0            NaN               81                   82920   \n",
       "2                  2          574.0              558                   92785   \n",
       "3                  3          234.0              424                  408176   \n",
       "4                  1           48.0              121                  100000   \n",
       "\n",
       "  weekday_exposition  year_exposition  month_exposition  floor_category  \\\n",
       "0                  3             2019        2019-03-01          другой   \n",
       "1                  1             2018        2018-12-01          первый   \n",
       "2                  3             2015        2015-08-01          другой   \n",
       "3                  4             2015        2015-07-01          другой   \n",
       "4                  1             2018        2018-06-01          другой   \n",
       "\n",
       "   living_area_ratio  kitchen_area_ratio  \n",
       "0               0.47                0.23  \n",
       "1               0.46                0.27  \n",
       "2               0.61                0.15  \n",
       "3               0.57                0.18  \n",
       "4               0.32                0.41  \n",
       "\n",
       "[5 rows x 29 columns]"
      ]
     },
     "execution_count": 108,
     "metadata": {},
     "output_type": "execute_result"
    }
   ],
   "source": [
    "data.head()"
   ]
  },
  {
   "cell_type": "markdown",
   "metadata": {},
   "source": [
    "После добавления результатов расчетов итоговая таблица имеет 29 колонок и пригодна для дальнейшего исследовательского анализа."
   ]
  },
  {
   "cell_type": "markdown",
   "metadata": {},
   "source": [
    "## Исследовательский анализ данных"
   ]
  },
  {
   "cell_type": "markdown",
   "metadata": {},
   "source": [
    "**Изучите следующие параметры: площадь, цена, число комнат, высота потолков. Постройте гистограммы для каждого параметра.**"
   ]
  },
  {
   "cell_type": "code",
   "execution_count": 109,
   "metadata": {},
   "outputs": [
    {
     "data": {
      "text/plain": [
       "count    23699.000000\n",
       "mean        60.348651\n",
       "std         35.654083\n",
       "min         12.000000\n",
       "25%         40.000000\n",
       "50%         52.000000\n",
       "75%         69.900000\n",
       "max        900.000000\n",
       "Name: total_area, dtype: float64"
      ]
     },
     "execution_count": 109,
     "metadata": {},
     "output_type": "execute_result"
    },
    {
     "data": {
      "image/png": "[encoded data removed]",
      "text/plain": [
       "<Figure size 432x288 with 1 Axes>"
      ]
     },
     "metadata": {
      "needs_background": "light"
     },
     "output_type": "display_data"
    }
   ],
   "source": [
    "data['total_area'].hist(bins = 100, range = (0,500))\n",
    "plt.ylabel(\"Количество объявлений\")\n",
    "plt.xlabel(\"Площадь квартиры\")\n",
    "data['total_area'].describe()"
   ]
  },
  {
   "cell_type": "markdown",
   "metadata": {},
   "source": [
    "- Площадь\n",
    "\n",
    "Исходя из полученных данных мы видим распределение Гаусса. Большая часть квартир имеют общую площадь в диапазоне 35 - 70 кв.м., после указанного диапазона с увеличением площади количество квартир снижается.   "
   ]
  },
  {
   "cell_type": "code",
   "execution_count": 110,
   "metadata": {},
   "outputs": [
    {
     "data": {
      "text/plain": [
       "count    2.369900e+04\n",
       "mean     6.541549e+06\n",
       "std      1.088701e+07\n",
       "min      1.219000e+04\n",
       "25%      3.400000e+06\n",
       "50%      4.650000e+06\n",
       "75%      6.800000e+06\n",
       "max      7.630000e+08\n",
       "Name: last_price, dtype: float64"
      ]
     },
     "execution_count": 110,
     "metadata": {},
     "output_type": "execute_result"
    },
    {
     "data": {
      "image/png": "[encoded data removed]",
      "text/plain": [
       "<Figure size 432x288 with 1 Axes>"
      ]
     },
     "metadata": {
      "needs_background": "light"
     },
     "output_type": "display_data"
    }
   ],
   "source": [
    "data['last_price'].hist(bins = 100, range = (0,30000000))\n",
    "plt.ylabel(\"Количество объявлений\")\n",
    "plt.xlabel(\"Стоимость квартиры\")\n",
    "data['last_price'].describe()"
   ]
  },
  {
   "cell_type": "markdown",
   "metadata": {},
   "source": [
    "- Цена\n",
    "\n",
    "Здесь также наблюдается распределение данных Гаусса. Средняя стоимость квартир 6,5 млн., основная часть квартир оценивается от 3 до 7 млн, пик по количеству приходится на квартиры стоимостью около 4 млн."
   ]
  },
  {
   "cell_type": "code",
   "execution_count": 111,
   "metadata": {},
   "outputs": [
    {
     "data": {
      "text/plain": [
       "count    23699.000000\n",
       "mean         2.070636\n",
       "std          1.078405\n",
       "min          0.000000\n",
       "25%          1.000000\n",
       "50%          2.000000\n",
       "75%          3.000000\n",
       "max         19.000000\n",
       "Name: rooms, dtype: float64"
      ]
     },
     "execution_count": 111,
     "metadata": {},
     "output_type": "execute_result"
    },
    {
     "data": {
      "image/png": "[encoded data removed]",
      "text/plain": [
       "<Figure size 432x288 with 1 Axes>"
      ]
     },
     "metadata": {
      "needs_background": "light"
     },
     "output_type": "display_data"
    }
   ],
   "source": [
    "data['rooms'].hist(bins = 10, range = (0,10))\n",
    "plt.ylabel(\"Количество объявлений\")\n",
    "plt.xlabel(\"Число комнат\")\n",
    "data['rooms'].describe()"
   ]
  },
  {
   "cell_type": "markdown",
   "metadata": {},
   "source": [
    "- Число комнат\n",
    "\n",
    "На рынке преобладают одно- и двух- комнатные квартиры, трехкомнатных квартир меньше, но их количество достаточно велико, небольшую долю рынка занимают четырехкомнатные квартиры. Квартир с большим количеством комнат (от 5 и выше), а также квартир-студий (0 комнат) относительно мало."
   ]
  },
  {
   "cell_type": "code",
   "execution_count": 112,
   "metadata": {},
   "outputs": [
    {
     "data": {
      "text/plain": [
       "count    14504.000000\n",
       "mean         2.771499\n",
       "std          1.261056\n",
       "min          1.000000\n",
       "25%          2.520000\n",
       "50%          2.650000\n",
       "75%          2.800000\n",
       "max        100.000000\n",
       "Name: ceiling_height, dtype: float64"
      ]
     },
     "execution_count": 112,
     "metadata": {},
     "output_type": "execute_result"
    },
    {
     "data": {
      "image/png": "[encoded data removed]",
      "text/plain": [
       "<Figure size 432x288 with 1 Axes>"
      ]
     },
     "metadata": {
      "needs_background": "light"
     },
     "output_type": "display_data"
    }
   ],
   "source": [
    "data['ceiling_height'].hist(bins = 20, range = (2,5))\n",
    "plt.ylabel(\"Количество объявлений\")\n",
    "plt.xlabel(\"Высота потолков\")\n",
    "data['ceiling_height'].describe()"
   ]
  },
  {
   "cell_type": "markdown",
   "metadata": {},
   "source": [
    "- Высота потолков\n",
    "\n",
    "Большинство квартир имеют высоту потолков в диапазоне от 2,4 м. до 2,8 м. Выбросы (такие как 100 м.) влияют на средний показатель высоты потолков в большую сторону, но на гистограмме видно, что больше всего квартир имеют высоту потолков около 2,5 м. Квартир с высокими потолками (более 3 м.) относительно немного.  "
   ]
  },
  {
   "cell_type": "markdown",
   "metadata": {},
   "source": [
    "**Изучите время продажи квартиры. Постройте гистограмму. Посчитайте среднее и медиану. Опишите, сколько обычно занимает продажа. Когда можно считать, что продажи прошли очень быстро, а когда необычно долго?**"
   ]
  },
  {
   "cell_type": "code",
   "execution_count": 113,
   "metadata": {},
   "outputs": [
    {
     "data": {
      "image/png": "[encoded data removed]",
      "text/plain": [
       "<Figure size 432x288 with 1 Axes>"
      ]
     },
     "metadata": {
      "needs_background": "light"
     },
     "output_type": "display_data"
    },
    {
     "data": {
      "text/plain": [
       "count    20518.000000\n",
       "mean       180.888634\n",
       "std        219.727988\n",
       "min          1.000000\n",
       "25%         45.000000\n",
       "50%         95.000000\n",
       "75%        232.000000\n",
       "max       1580.000000\n",
       "Name: days_exposition, dtype: float64"
      ]
     },
     "metadata": {},
     "output_type": "display_data"
    },
    {
     "data": {
      "image/png": "[encoded data removed]",
      "text/plain": [
       "<Figure size 432x288 with 1 Axes>"
      ]
     },
     "metadata": {
      "needs_background": "light"
     },
     "output_type": "display_data"
    }
   ],
   "source": [
    "import matplotlib.pyplot as plt\n",
    "plt.boxplot(data['days_exposition']) # строим диаграмму размаха\n",
    "plt.ylim(1,700)\n",
    "plt.show()\n",
    "data['days_exposition'].hist(bins = 100, range = (1,500)) # строим гистограмму\n",
    "plt.ylabel(\"Количество объявлений\")\n",
    "plt.xlabel(\"Дни публикации\")\n",
    "display(data[data['days_exposition']!=0]['days_exposition'].describe()) "
   ]
  },
  {
   "cell_type": "markdown",
   "metadata": {},
   "source": [
    "По полученным диаграмме размаха и гистограмме можно сказать, что нормальные значения дней продажи не превышают 500 дней, большинство квартир продаются в течении 200 дней с даты публикации объявления. Продажи можно считать быстрыми, если они прошли в течении 30 дней с даты публикации, а вот необычно долго продаются квартиры более 200 дней.\n",
    "Среднее значение равно 180 дней, медианое - 95 дней. Такое относительно небольшое значение видимо связано с выбивающимися значениями, которые видны на гистограмме. Определим их и построим новую гистограмму без выбросов. "
   ]
  },
  {
   "cell_type": "markdown",
   "metadata": {},
   "source": [
    "**Уберите редкие и выбивающиеся значения. Опишите, какие особенности обнаружили.**"
   ]
  },
  {
   "cell_type": "markdown",
   "metadata": {},
   "source": [
    "По гистограмме видно, что выбросы приходятся на первые 100 дней с момента публикации объявления. Построим новую гистограмму с диапазоном от 1 до 100 дней"
   ]
  },
  {
   "cell_type": "code",
   "execution_count": 114,
   "metadata": {},
   "outputs": [
    {
     "data": {
      "text/plain": [
       "45      880\n",
       "60      538\n",
       "7       234\n",
       "30      208\n",
       "90      204\n",
       "       ... \n",
       "807       1\n",
       "871       1\n",
       "951       1\n",
       "999       1\n",
       "1223      1\n",
       "Name: days_exposition, Length: 1141, dtype: int64"
      ]
     },
     "execution_count": 114,
     "metadata": {},
     "output_type": "execute_result"
    },
    {
     "data": {
      "image/png": "[encoded data removed]",
      "text/plain": [
       "<Figure size 432x288 with 1 Axes>"
      ]
     },
     "metadata": {
      "needs_background": "light"
     },
     "output_type": "display_data"
    }
   ],
   "source": [
    "data['days_exposition'].hist(bins = 100, range = (1,100))\n",
    "plt.ylabel(\"Количество объявлений\")\n",
    "plt.xlabel(\"Дни публикации\")\n",
    "data[data['days_exposition']!=0]['days_exposition'].value_counts()"
   ]
  },
  {
   "cell_type": "markdown",
   "metadata": {},
   "source": [
    "Выбросы приходятся на 7, 30, 45, 60 и 90 дней с даты публикации объявления. Подозрительно, что эти числа совпадают с количеством дней в неделе, 1, 1,5, 2 и 3 месяца соответственно. Возможно это связано с правилами публикации объявлений на сайте, т.е. бесплатный период либо оплаченный срок публикации мог длиться такое время, а по окончанию, в случае непродления, объявление снималось с публикации, но квартира фактически не была продана.\n",
    "\n",
    "Построим новую гистограмму без выпадающих значений, создав новый датасет без выбросов."
   ]
  },
  {
   "cell_type": "code",
   "execution_count": 115,
   "metadata": {},
   "outputs": [
    {
     "data": {
      "image/png": "[encoded data removed]",
      "text/plain": [
       "<Figure size 432x288 with 1 Axes>"
      ]
     },
     "metadata": {
      "needs_background": "light"
     },
     "output_type": "display_data"
    },
    {
     "data": {
      "text/plain": [
       "count    18454.000000\n",
       "mean       195.803349\n",
       "std        226.760010\n",
       "min          1.000000\n",
       "25%         44.000000\n",
       "50%        114.000000\n",
       "75%        259.000000\n",
       "max       1580.000000\n",
       "Name: days_exposition, dtype: float64"
      ]
     },
     "execution_count": 115,
     "metadata": {},
     "output_type": "execute_result"
    },
    {
     "data": {
      "image/png": "[encoded data removed]",
      "text/plain": [
       "<Figure size 432x288 with 1 Axes>"
      ]
     },
     "metadata": {
      "needs_background": "light"
     },
     "output_type": "display_data"
    }
   ],
   "source": [
    "data_new = data.query('days_exposition != 7 & days_exposition != 30 & days_exposition != 45 & days_exposition != 60 & days_exposition != 90')\n",
    "plt.boxplot(data_new['days_exposition'])\n",
    "plt.ylim(1,700)\n",
    "plt.show()\n",
    "data_new['days_exposition'].hist(bins = 100, range = (1,600))\n",
    "plt.ylabel(\"Количество объявлений\")\n",
    "plt.xlabel(\"Дни публикации\")\n",
    "data_new[data_new['days_exposition']!=0]['days_exposition'].describe()"
   ]
  },
  {
   "cell_type": "markdown",
   "metadata": {},
   "source": [
    "Ожидаемо, в очищенных от выбросов данных, ярко выраженных скачков гистограммы нет, диапазон нормальных значений увеличился,  с увеличием количества дней публикации объявления плавно снижается количество проданных квартир, увеличились средние и медианное значения. Теперь можно сделать вывод, что большинство квартир продаются около 50 - 250 дней, быстрой можно считать продажу в течении первых 50 дней, а долгой - более 250 дней."
   ]
  },
  {
   "cell_type": "markdown",
   "metadata": {},
   "source": [
    "**Какие факторы больше всего влияют на стоимость квартиры? Изучите, зависит ли цена от площади, числа комнат, удалённости от центра. Изучите зависимость цены от того, на каком этаже расположена квартира: первом, последнем или другом. Также изучите зависимость от даты размещения: дня недели, месяца и года.**"
   ]
  },
  {
   "cell_type": "markdown",
   "metadata": {},
   "source": [
    "- Зависимость цены от площади\n",
    "\n",
    "Для ответа на этот вопрос построим диаграмму рассеяния зависимости медианного значения стоимости квадратного метра от общей площади квартиры.  "
   ]
  },
  {
   "cell_type": "code",
   "execution_count": 116,
   "metadata": {},
   "outputs": [
    {
     "data": {
      "text/plain": [
       "0.30196014387792547"
      ]
     },
     "execution_count": 116,
     "metadata": {},
     "output_type": "execute_result"
    },
    {
     "data": {
      "image/png": "[encoded data removed]",
      "text/plain": [
       "<Figure size 432x288 with 1 Axes>"
      ]
     },
     "metadata": {
      "needs_background": "light"
     },
     "output_type": "display_data"
    }
   ],
   "source": [
    "# создаем сводную таблицу\n",
    "pivot_table_total_area = data.pivot_table(index = 'total_area', values = 'price_per_square_meter', aggfunc = ['median', 'count'])\n",
    "pivot_table_total_area.columns = ['median', 'count']\n",
    "# строим диаграмму \n",
    "pivot_table_total_area.plot(y = 'median', style = 'o')\n",
    "plt.ylabel(\"Цена квартиры\")\n",
    "plt.xlabel(\"Площадь квартиры\")\n",
    "# вычисляем корреляцию Пирсона\n",
    "data['total_area'].corr(data['price_per_square_meter'])"
   ]
  },
  {
   "cell_type": "markdown",
   "metadata": {},
   "source": [
    "Согласно полученным результатам, зависимость стоимости квартиры от общей площади прямо пропорциональная, но ее значение (коэффициент корреляции) невелико - 0,3."
   ]
  },
  {
   "cell_type": "markdown",
   "metadata": {},
   "source": [
    "- Зависимость цены от числа комнат\n",
    "\n",
    "Построим диаграмму зависимости стоимости квадратного метра от числа комнат по медианным значениям, сделав срез данных так, чтобы отсечь редкие объявления (многокомнатные квартиры). "
   ]
  },
  {
   "cell_type": "code",
   "execution_count": 117,
   "metadata": {},
   "outputs": [
    {
     "data": {
      "text/plain": [
       "0.0554194996705922"
      ]
     },
     "execution_count": 117,
     "metadata": {},
     "output_type": "execute_result"
    },
    {
     "data": {
      "image/png": "[encoded data removed]",
      "text/plain": [
       "<Figure size 432x288 with 1 Axes>"
      ]
     },
     "metadata": {
      "needs_background": "light"
     },
     "output_type": "display_data"
    }
   ],
   "source": [
    "# создаем сводную таблицу\n",
    "pivot_table_rooms = data.pivot_table(index = 'rooms', values = 'price_per_square_meter', aggfunc = ['median', 'count'])\n",
    "pivot_table_rooms.columns = ['median', 'count']\n",
    "# строим диаграмму по срезу (количество объявлений более 20)\n",
    "pivot_table_rooms.query('count > 20').plot(y = 'median')\n",
    "plt.ylabel(\"Стоимость квадратного метра\")\n",
    "plt.xlabel(\"Количество комнат\")\n",
    "# вычисляем корреляцию\n",
    "data['rooms'].corr(data['price_per_square_meter'])"
   ]
  },
  {
   "cell_type": "markdown",
   "metadata": {},
   "source": [
    "Здесь можно сделать следующий вывод: стоимость квадратного метра в квартирах с малым количеством комнат (менее трех) уменьшается при увеличении количества комнат, стоимость квадратного метра в 3-ех комнатных квартирах самая низкая, далее с увеличением количества комнат, стоимость квадратного метра возрастает."
   ]
  },
  {
   "cell_type": "markdown",
   "metadata": {},
   "source": [
    "- Зависимость стоимости от удаленности от центра\n",
    "\n",
    "Для определения такой зависимости построим диаграмму рассеяния, для наглядности уменьшим прозрачность точек на диаграмме. "
   ]
  },
  {
   "cell_type": "code",
   "execution_count": 118,
   "metadata": {},
   "outputs": [
    {
     "data": {
      "text/plain": [
       "-0.3179507368286467"
      ]
     },
     "execution_count": 118,
     "metadata": {},
     "output_type": "execute_result"
    },
    {
     "data": {
      "image/png": "[encoded data removed]",
      "text/plain": [
       "<Figure size 432x288 with 1 Axes>"
      ]
     },
     "metadata": {
      "needs_background": "light"
     },
     "output_type": "display_data"
    }
   ],
   "source": [
    "# строим диаграмму\n",
    "data.plot(x = 'city_centers_nearest', y = 'price_per_square_meter', kind = 'scatter', alpha = 0.3)\n",
    "plt.ylabel(\"Стоимость квартиры\")\n",
    "plt.xlabel(\"Расстояние до центра, м\")\n",
    "# вычислям корреляцию\n",
    "data['city_centers_nearest'].corr(data['price_per_square_meter'])"
   ]
  },
  {
   "cell_type": "markdown",
   "metadata": {},
   "source": [
    "По полученной диаграмме видим, что зависимость стоимости квартиры от удаленности от центра обратно пропорциональная, чем дальше от центра, тем дешевле, корреляция отрицательная."
   ]
  },
  {
   "cell_type": "markdown",
   "metadata": {},
   "source": [
    "- Зависимость стоимости от этажа"
   ]
  },
  {
   "cell_type": "code",
   "execution_count": 119,
   "metadata": {},
   "outputs": [
    {
     "data": {
      "text/plain": [
       "Text(0.5, 0, 'Категория по этажам')"
      ]
     },
     "execution_count": 119,
     "metadata": {},
     "output_type": "execute_result"
    },
    {
     "data": {
      "image/png": "[encoded data removed]",
      "text/plain": [
       "<Figure size 432x288 with 1 Axes>"
      ]
     },
     "metadata": {
      "needs_background": "light"
     },
     "output_type": "display_data"
    }
   ],
   "source": [
    "pivot_table_floor_category = data.pivot_table(index = 'floor_category', values = 'price_per_square_meter', aggfunc = ['mean', 'median'])\n",
    "pivot_table_floor_category.columns = ['mean', 'median']\n",
    "pivot_table_floor_category.plot(kind='bar')\n",
    "plt.ylabel(\"Стоимость квартиры\")\n",
    "plt.xlabel(\"Категория по этажам\")"
   ]
  },
  {
   "cell_type": "markdown",
   "metadata": {},
   "source": [
    "На основе получившейся диаграммы можно сделать вывод, что стоимость квартир на первом этаже меньше, чем квартир на других этажах, квартиры на последнем этаже стоят также дешевле остальных, но при этом они немного дороже квартир первого этажа."
   ]
  },
  {
   "cell_type": "markdown",
   "metadata": {},
   "source": [
    "- Зависимость от даты размещения: день недели"
   ]
  },
  {
   "cell_type": "code",
   "execution_count": 120,
   "metadata": {},
   "outputs": [
    {
     "data": {
      "text/plain": [
       "Text(0.5, 0, 'Дни недели')"
      ]
     },
     "execution_count": 120,
     "metadata": {},
     "output_type": "execute_result"
    },
    {
     "data": {
      "image/png": "[encoded data removed]",
      "text/plain": [
       "<Figure size 432x288 with 1 Axes>"
      ]
     },
     "metadata": {
      "needs_background": "light"
     },
     "output_type": "display_data"
    }
   ],
   "source": [
    "pivot_table_weekday_exposition = data.pivot_table(index = 'weekday_exposition', values = 'price_per_square_meter', aggfunc = ['mean', 'median'])\n",
    "pivot_table_weekday_exposition.columns = ['mean', 'median']\n",
    "pivot_table_weekday_exposition.plot()\n",
    "plt.ylabel(\"Количество объявлений\")\n",
    "plt.xlabel(\"Дни недели\")"
   ]
  },
  {
   "cell_type": "markdown",
   "metadata": {},
   "source": [
    "График среднего и медианного значений ведут себя немного по разному, но общую тенденцию рассмотреть можно: активность в начале недели на рынке выше, видимо поэтому стоимость проданных квартир выше, к концу недели активность, а с ней и стоимость снижаются. "
   ]
  },
  {
   "cell_type": "markdown",
   "metadata": {},
   "source": [
    "- Зависимость от даты размещения: месяц"
   ]
  },
  {
   "cell_type": "code",
   "execution_count": 121,
   "metadata": {},
   "outputs": [
    {
     "data": {
      "text/plain": [
       "Text(0.5, 0, 'Месяц публикации')"
      ]
     },
     "execution_count": 121,
     "metadata": {},
     "output_type": "execute_result"
    },
    {
     "data": {
      "image/png": "[encoded data removed]",
      "text/plain": [
       "<Figure size 432x288 with 1 Axes>"
      ]
     },
     "metadata": {
      "needs_background": "light"
     },
     "output_type": "display_data"
    }
   ],
   "source": [
    "pivot_table_month_exposition = data.pivot_table(index = 'month_exposition', values = 'price_per_square_meter', aggfunc = ['mean', 'median'])\n",
    "pivot_table_month_exposition.columns = ['mean', 'median']\n",
    "pivot_table_month_exposition.plot()\n",
    "plt.ylabel(\"Количество объявлений\")\n",
    "plt.xlabel(\"Месяц публикации\")\n"
   ]
  },
  {
   "cell_type": "markdown",
   "metadata": {},
   "source": [
    "Здесь поведение графиков медианного и среднего значений похожи: стоимость квартир с наступлением весны резко повышается, затем происходит резкий спад к лету, с началом осени стоимость снова подрастает, а перед приходом зимы - опять снижается. Такие скачки в данных происходят скорее всего из-за сезонной активности на рынке недвижимости: весной пик активности, который резко снижается во время летнего сезона отпусков, а далее с возвратом к осенней трудовой активности возрастает и активность на рынке. Зимой, само сабой, активность невелика, хотя она и выше, чем летом."
   ]
  },
  {
   "cell_type": "markdown",
   "metadata": {},
   "source": [
    "- Зависимость от даты размещения: год"
   ]
  },
  {
   "cell_type": "code",
   "execution_count": 122,
   "metadata": {},
   "outputs": [
    {
     "data": {
      "text/plain": [
       "Text(0.5, 0, 'Год публикации')"
      ]
     },
     "execution_count": 122,
     "metadata": {},
     "output_type": "execute_result"
    },
    {
     "data": {
      "image/png": "[encoded data removed]",
      "text/plain": [
       "<Figure size 432x288 with 1 Axes>"
      ]
     },
     "metadata": {
      "needs_background": "light"
     },
     "output_type": "display_data"
    }
   ],
   "source": [
    "pivot_table_year_exposition = data.pivot_table(index = 'year_exposition', values = 'price_per_square_meter', aggfunc = ['mean', 'median'])\n",
    "pivot_table_year_exposition.columns = ['mean', 'median']\n",
    "pivot_table_year_exposition.plot()\n",
    "plt.ylabel(\"Количество объявлений\")\n",
    "plt.xlabel(\"Год публикации\")"
   ]
  },
  {
   "cell_type": "markdown",
   "metadata": {},
   "source": [
    "Графики показывают четкую картину: после событий на политической арене 2014 года, на рынке недвижимости, как и в большинстве других сфер, наметился сильный спад, который продолжался вплоть до 2017 года, затем ситуация стала постепенно выправляться и в последний год (2019 по нашим данным), наблюдается рост стоимости квартир. "
   ]
  },
  {
   "cell_type": "markdown",
   "metadata": {},
   "source": [
    "1. Строим корреляцию:"
   ]
  },
  {
   "cell_type": "code",
   "execution_count": 123,
   "metadata": {},
   "outputs": [
    {
     "data": {
      "text/html": [
       "<div>\n",
       "<style scoped>\n",
       "    .dataframe tbody tr th:only-of-type {\n",
       "        vertical-align: middle;\n",
       "    }\n",
       "\n",
       "    .dataframe tbody tr th {\n",
       "        vertical-align: top;\n",
       "    }\n",
       "\n",
       "    .dataframe thead th {\n",
       "        text-align: right;\n",
       "    }\n",
       "</style>\n",
       "<table border=\"1\" class=\"dataframe\">\n",
       "  <thead>\n",
       "    <tr style=\"text-align: right;\">\n",
       "      <th></th>\n",
       "      <th>last_price</th>\n",
       "      <th>price_per_square_meter</th>\n",
       "      <th>total_area</th>\n",
       "      <th>rooms</th>\n",
       "      <th>city_centers_nearest</th>\n",
       "    </tr>\n",
       "  </thead>\n",
       "  <tbody>\n",
       "    <tr>\n",
       "      <td>last_price</td>\n",
       "      <td>1.000000</td>\n",
       "      <td>0.736499</td>\n",
       "      <td>0.653675</td>\n",
       "      <td>0.363343</td>\n",
       "      <td>-0.206747</td>\n",
       "    </tr>\n",
       "    <tr>\n",
       "      <td>price_per_square_meter</td>\n",
       "      <td>0.736499</td>\n",
       "      <td>1.000000</td>\n",
       "      <td>0.301960</td>\n",
       "      <td>0.055419</td>\n",
       "      <td>-0.317951</td>\n",
       "    </tr>\n",
       "    <tr>\n",
       "      <td>total_area</td>\n",
       "      <td>0.653675</td>\n",
       "      <td>0.301960</td>\n",
       "      <td>1.000000</td>\n",
       "      <td>0.758344</td>\n",
       "      <td>-0.231446</td>\n",
       "    </tr>\n",
       "    <tr>\n",
       "      <td>rooms</td>\n",
       "      <td>0.363343</td>\n",
       "      <td>0.055419</td>\n",
       "      <td>0.758344</td>\n",
       "      <td>1.000000</td>\n",
       "      <td>-0.184864</td>\n",
       "    </tr>\n",
       "    <tr>\n",
       "      <td>city_centers_nearest</td>\n",
       "      <td>-0.206747</td>\n",
       "      <td>-0.317951</td>\n",
       "      <td>-0.231446</td>\n",
       "      <td>-0.184864</td>\n",
       "      <td>1.000000</td>\n",
       "    </tr>\n",
       "  </tbody>\n",
       "</table>\n",
       "</div>"
      ],
      "text/plain": [
       "                        last_price  price_per_square_meter  total_area  \\\n",
       "last_price                1.000000                0.736499    0.653675   \n",
       "price_per_square_meter    0.736499                1.000000    0.301960   \n",
       "total_area                0.653675                0.301960    1.000000   \n",
       "rooms                     0.363343                0.055419    0.758344   \n",
       "city_centers_nearest     -0.206747               -0.317951   -0.231446   \n",
       "\n",
       "                           rooms  city_centers_nearest  \n",
       "last_price              0.363343             -0.206747  \n",
       "price_per_square_meter  0.055419             -0.317951  \n",
       "total_area              0.758344             -0.231446  \n",
       "rooms                   1.000000             -0.184864  \n",
       "city_centers_nearest   -0.184864              1.000000  "
      ]
     },
     "execution_count": 123,
     "metadata": {},
     "output_type": "execute_result"
    }
   ],
   "source": [
    "data[['last_price', 'price_per_square_meter', 'total_area', 'rooms', 'city_centers_nearest']].corr()"
   ]
  },
  {
   "cell_type": "markdown",
   "metadata": {},
   "source": [
    "2. По полученным значениям можно сделать следующий вывод:\n",
    "- Стоимость квартиры прямо пропорционально зависит от общей площади и количества комнат, и обратно пропорционально от удаленности от центра города\n",
    "- Величина коэффициента корреляции показывает, что на стоимость квартиры больше влияет ее площадь, чем количество комнат\n",
    "- А вот зависимость стоимости квартиры от удаленности от центра незначительна, но все-таки присутствует\n",
    "- Что касается стоимости квадратного метра, то он в меньшей степени зависит от общей площади и практически не зависит от количества комнат, а вот с отдалением от центра города стоимость метра квадратного уменьшается сильнее, чем общая стоимость квартиры"
   ]
  },
  {
   "cell_type": "markdown",
   "metadata": {},
   "source": [
    "3. Визуализируем полученные значения:"
   ]
  },
  {
   "cell_type": "code",
   "execution_count": 124,
   "metadata": {},
   "outputs": [
    {
     "data": {
      "text/plain": [
       "<seaborn.axisgrid.PairGrid at 0x7f3a80602090>"
      ]
     },
     "execution_count": 124,
     "metadata": {},
     "output_type": "execute_result"
    },
    {
     "data": {
      "image/png": "[encoded data removed]",
      "text/plain": [
       "<Figure size 900x900 with 30 Axes>"
      ]
     },
     "metadata": {
      "needs_background": "light"
     },
     "output_type": "display_data"
    }
   ],
   "source": [
    "import seaborn as sns \n",
    "\n",
    "sns.pairplot(data[['last_price', 'price_per_square_meter', 'total_area', 'rooms', 'city_centers_nearest']]) \n"
   ]
  },
  {
   "cell_type": "markdown",
   "metadata": {},
   "source": [
    "Полученная матрица наглядно подтверждает описанный выше вывод."
   ]
  },
  {
   "cell_type": "markdown",
   "metadata": {},
   "source": [
    "**Выберите 10 населённых пунктов с наибольшим числом объявлений. Посчитайте среднюю цену квадратного метра в этих населённых пунктах. Выделите населённые пункты с самой высокой и низкой стоимостью жилья. Эти данные можно найти по имени в столбце locality_name.**"
   ]
  },
  {
   "cell_type": "code",
   "execution_count": null,
   "metadata": {},
   "outputs": [],
   "source": [
    "# создадим сводную таблицу и отсортируем ее по количеству объявлений\n",
    "locality_pivot_table = data.pivot_table(index = 'locality_name', values = 'price_per_square_meter', aggfunc=['count', 'mean'])\n",
    "locality_pivot_table.columns = ['count', 'mean']\n",
    "locality_pivot_table = locality_pivot_table.sort_values('count', ascending = False).head(10)\n",
    "display(locality_pivot_table)\n",
    "# самая высокая стоимость\n",
    "display(locality_pivot_table[locality_pivot_table['mean']==locality_pivot_table['mean'].max()])\n",
    "# самая низкая стоимость\n",
    "locality_pivot_table[locality_pivot_table['mean']==locality_pivot_table['mean'].min()]\n"
   ]
  },
  {
   "cell_type": "markdown",
   "metadata": {},
   "source": [
    "Большинство объявлений приходится на Санкт-Петербург и его ближайшие окресные населенные пункты, исключение лишь город Выборг. Самая дорогая стоимость жилья в самом Питере, а самая дешевая из нашей выборки в Выборге (из-за наибольшей отдаленности от северной столицы)."
   ]
  },
  {
   "cell_type": "markdown",
   "metadata": {},
   "source": [
    "**Изучите предложения квартир: для каждой квартиры есть информация о расстоянии до центра. Выделите квартиры в Санкт-Петербурге (locality_name). Ваша задача — выяснить, какая область входит в центр. Создайте столбец с расстоянием до центра в километрах: округлите до целых значений. После этого посчитайте среднюю цену для каждого километра. Постройте график: он должен показывать, как цена зависит от удалённости от центра. Определите границу, где график сильно меняется, — это и будет центральная зона.**"
   ]
  },
  {
   "cell_type": "code",
   "execution_count": null,
   "metadata": {},
   "outputs": [],
   "source": [
    "# создадим столбец с расстоянием в км\n",
    "data['city_centers_nearest_km'] = data['city_centers_nearest']/1000\n",
    "# заменим пропуски выпадающим значеним и приведем тип ц целочисенному\n",
    "data['city_centers_nearest_km'] = data['city_centers_nearest_km'].fillna(1000)\n",
    "data['city_centers_nearest_km'] = data['city_centers_nearest_km'].astype('int')\n",
    "# создадим совдную таблицу отобрав лишь объявления из Санкт_Петербурга и без выпадающих значений\n",
    "pivot_table_km = data.query('locality_name == \"Санкт-Петербург\" and city_centers_nearest_km !=1000').pivot_table(index = 'city_centers_nearest_km', values = 'last_price', aggfunc = 'mean')\n",
    "pivot_table_km.plot()\n",
    "plt.ylabel(\"Стоимость квартиры\")\n",
    "plt.xlabel(\"Удаление от центра, км\")"
   ]
  },
  {
   "cell_type": "markdown",
   "metadata": {},
   "source": [
    "Судя по графику центральная зона в Санкт-Петербурге ограничена радиусом около 5 км, именно в этом месте график сильно меняется. Следующий скачок графика происходит где-то около 27 км от центра, но это расстояние слишком велико, скорее это некая линия пригородной застройки, где цены на новостройки по логике должны быть немного выше."
   ]
  },
  {
   "cell_type": "markdown",
   "metadata": {},
   "source": [
    "**Выделите сегмент квартир в центре. Проанализируйте эту территорию и изучите следующие параметры: площадь, цена, число комнат, высота потолков. Также выделите факторы, которые влияют на стоимость квартиры (число комнат, этаж, удалённость от центра, дата размещения объявления). Сделайте выводы. Отличаются ли они от общих выводов по всему городу?**"
   ]
  },
  {
   "cell_type": "code",
   "execution_count": null,
   "metadata": {},
   "outputs": [],
   "source": [
    "# выделим объявления в центре Санкт-Петербурга, ограничив радиус в 5 км\n",
    "center_spb_data = data.query('city_centers_nearest_km <= 5 and locality_name == \"Санкт-Петербург\"')"
   ]
  },
  {
   "cell_type": "markdown",
   "metadata": {},
   "source": [
    "*Проанализируем площадь, цену, число комнат и высоту потолков, построив гистограммы по каждому из параметров*"
   ]
  },
  {
   "cell_type": "code",
   "execution_count": null,
   "metadata": {},
   "outputs": [],
   "source": [
    "center_spb_data['total_area'].hist(bins = 100, range = (0,500))\n",
    "plt.ylabel(\"Количество объявлений\")\n",
    "plt.xlabel(\"Площадь квартиры, м2\")\n",
    "center_spb_data['total_area'].describe()"
   ]
  },
  {
   "cell_type": "code",
   "execution_count": null,
   "metadata": {},
   "outputs": [],
   "source": [
    "center_spb_data['last_price'] = center_spb_data['last_price']/1000000\n",
    "center_spb_data['last_price'].hist(bins = 100, range = (0,30))\n",
    "plt.ylabel(\"Количество объявлений\")\n",
    "plt.xlabel(\"Стоимость квартиры\")\n",
    "center_spb_data['last_price'].describe()"
   ]
  },
  {
   "cell_type": "code",
   "execution_count": null,
   "metadata": {},
   "outputs": [],
   "source": [
    "center_spb_data['rooms'].hist(bins = 10, range = (0,10))\n",
    "plt.ylabel(\"Количество объявлений\")\n",
    "plt.xlabel(\"Число комнат\")\n",
    "center_spb_data['rooms'].describe()"
   ]
  },
  {
   "cell_type": "code",
   "execution_count": null,
   "metadata": {},
   "outputs": [],
   "source": [
    "center_spb_data['ceiling_height'].hist(bins = 20, range = (2,5))\n",
    "plt.ylabel(\"Количество объявлений\")\n",
    "plt.xlabel(\"Высота потолков\")\n",
    "center_spb_data['ceiling_height'].describe()"
   ]
  },
  {
   "cell_type": "markdown",
   "metadata": {},
   "source": [
    "Согласно полученным гистограммам можно выделить следующее:\n",
    "- большая часть квартир имееют площадь от 60 до 110 кв.м., с увеличинием площади квартир, их количество сокращается\n",
    "- большинство квартир в центре оцениваются в диапазоне от 7 до 15 млн, дорогих (более 15 млн.) квартир относительно немного\n",
    "- в центре преобладают квартиры с 2-мя, 3-мя и 4-мя комнатами, однокомнатных квартир значительно меньше\n",
    "- потолки квартир в центральной части достаточно высокие в большинстве своем, от 3 до 3,3 м."
   ]
  },
  {
   "cell_type": "markdown",
   "metadata": {},
   "source": [
    "*Проанализируем факторы, влияющие на стоимость квартиры (число комнат, этаж, удалённость от центра, дата размещения объявления)*\n",
    "\n",
    "\n",
    "* Зависимость цены от количества комнат"
   ]
  },
  {
   "cell_type": "code",
   "execution_count": null,
   "metadata": {},
   "outputs": [],
   "source": [
    "# создаем сводную таблицу\n",
    "pivot_table_rooms = center_spb_data.pivot_table(index = 'rooms', values = 'price_per_square_meter', aggfunc = ['median', 'count'])\n",
    "pivot_table_rooms.columns = ['median', 'count']\n",
    "# строим диаграмму по срезу (количество объявлений более 20)\n",
    "pivot_table_rooms.query('count > 20').plot(y = 'median')\n",
    "plt.ylabel(\"Стоимость квартиры\")\n",
    "plt.xlabel(\"Количество комнат\")\n",
    "# вычисляем корреляцию\n",
    "center_spb_data['rooms'].corr(data['price_per_square_meter'])"
   ]
  },
  {
   "cell_type": "markdown",
   "metadata": {},
   "source": [
    "Зависимость цены от количества комнат незначительная, обратно пропорциональная. Корреляция совсем незначительная, но согласно графику с увеличением количества комнат, стоимость квадратного метра жилья уменьшается."
   ]
  },
  {
   "cell_type": "markdown",
   "metadata": {},
   "source": [
    "* Зависимость цены от этажа"
   ]
  },
  {
   "cell_type": "code",
   "execution_count": null,
   "metadata": {},
   "outputs": [],
   "source": [
    "pivot_table_floor_category = center_spb_data.pivot_table(index = 'floor_category', values = 'price_per_square_meter', aggfunc = ['mean', 'median'])\n",
    "pivot_table_floor_category.columns = ['mean', 'median']\n",
    "pivot_table_floor_category.plot(kind='bar')\n",
    "plt.ylabel(\"Стоимость квартиры\")\n",
    "plt.xlabel(\"Категория по этажу\")"
   ]
  },
  {
   "cell_type": "markdown",
   "metadata": {},
   "source": [
    "Квартиры первого этажа стоят дешевле всего, квартиры других этажей немного отличаются по стоимости с квартирами последнего этажа, связано это скорее всего с низкоэтажной застройкой в центре города."
   ]
  },
  {
   "cell_type": "markdown",
   "metadata": {},
   "source": [
    "* Зависимость цены от удаленности от центра"
   ]
  },
  {
   "cell_type": "code",
   "execution_count": null,
   "metadata": {},
   "outputs": [],
   "source": [
    "# строим диаграмму\n",
    "center_spb_data.plot(x = 'city_centers_nearest', y = 'price_per_square_meter', kind = 'scatter', alpha = 0.3)\n",
    "plt.ylabel(\"Стоимость квартиры\")\n",
    "plt.xlabel(\"Удаленность от центра\")\n",
    "# вычислям корреляцию\n",
    "center_spb_data['city_centers_nearest'].corr(data['price_per_square_meter'])"
   ]
  },
  {
   "cell_type": "markdown",
   "metadata": {},
   "source": [
    "Зависимости стоимости квартиры в центральной части от удаленности от центра нет никакой, они и так находятся в центре))"
   ]
  },
  {
   "cell_type": "markdown",
   "metadata": {},
   "source": [
    "* Зависимость цены от удаленности от даты размещения: день недели"
   ]
  },
  {
   "cell_type": "code",
   "execution_count": null,
   "metadata": {},
   "outputs": [],
   "source": [
    "pivot_table_weekday_exposition = center_spb_data.pivot_table(index = 'weekday_exposition', values = 'price_per_square_meter', aggfunc = ['mean', 'median'])\n",
    "pivot_table_weekday_exposition.columns = ['mean', 'median']\n",
    "pivot_table_weekday_exposition.plot()\n",
    "plt.ylabel(\"Стоимость квартиры\")\n",
    "plt.xlabel(\"День публикации\")"
   ]
  },
  {
   "cell_type": "markdown",
   "metadata": {},
   "source": [
    "Графики медианных и средних значений ведут себя по разному, установить зависимость стоимости квартиры от дня недели публикации объявления нет возможности, скорее всего такой зависимости нет."
   ]
  },
  {
   "cell_type": "markdown",
   "metadata": {},
   "source": [
    "* Зависимость цены от удаленности от даты размещения: месяц"
   ]
  },
  {
   "cell_type": "code",
   "execution_count": null,
   "metadata": {},
   "outputs": [],
   "source": [
    "pivot_table_month_exposition = center_spb_data.pivot_table(index = 'month_exposition', values = 'price_per_square_meter', aggfunc = ['mean', 'median'])\n",
    "pivot_table_month_exposition.columns = ['mean', 'median']\n",
    "pivot_table_month_exposition.plot()\n",
    "plt.ylabel(\"Стоимость квартиры\")\n",
    "plt.xlabel(\"Месяц публикации\")"
   ]
  },
  {
   "cell_type": "markdown",
   "metadata": {},
   "source": [
    "По аналогии с общим анализом всего датасета, здесь наблюдаются скачки стоимости квартир в зависимости от сезонной активности на рынке недвижимости: весной и осенью рост, летом и зимой спад."
   ]
  },
  {
   "cell_type": "markdown",
   "metadata": {},
   "source": [
    "* Зависимость цены от удаленности от даты размещения: год"
   ]
  },
  {
   "cell_type": "code",
   "execution_count": null,
   "metadata": {},
   "outputs": [],
   "source": [
    "pivot_table_year_exposition = center_spb_data.pivot_table(index = 'year_exposition', values = 'price_per_square_meter', aggfunc = ['mean', 'median'])\n",
    "pivot_table_year_exposition.columns = ['mean', 'median']\n",
    "pivot_table_year_exposition.plot()\n",
    "plt.ylabel(\"Стоимость квартиры\")\n",
    "plt.xlabel(\"Год публикации\")"
   ]
  },
  {
   "cell_type": "markdown",
   "metadata": {},
   "source": [
    "И здесь общая тенденция - спад после 2014 года, плато в 2017 году и рост до 2019 года."
   ]
  },
  {
   "cell_type": "markdown",
   "metadata": {},
   "source": [
    "**ВЫВОД:** показатели квартир в центральной части отличаются от общих показателей этого анализа:\n",
    "- площадь квартир, количество комнат, высота потолков и стоимость квартир в центральной части выше, чем общие показатели по всей выборке\n",
    "- на стоимость квартир в центре города практически не оказывают влияние, ни число комнат, ни этаж, ни удалённость от центра, ни день недели размещения объявления"
   ]
  },
  {
   "cell_type": "markdown",
   "metadata": {},
   "source": [
    "Для анализа объявлений центральной части города, как и для всей базы данных в целом, корреляцию Пирсона можно построить для следующих столбцов: "
   ]
  },
  {
   "cell_type": "code",
   "execution_count": null,
   "metadata": {},
   "outputs": [],
   "source": [
    "ce|nter_spb_data[['last_price', 'price_per_square_meter', 'total_area', 'rooms', 'city_centers_nearest']].corr()"
   ]
  },
  {
   "cell_type": "markdown",
   "metadata": {},
   "source": [
    "Визуализируем полученные значения:"
   ]
  },
  {
   "cell_type": "code",
   "execution_count": null,
   "metadata": {},
   "outputs": [],
   "source": [
    "sns.pairplot(center_spb_data[['last_price', 'price_per_square_meter', 'total_area', 'rooms', 'city_centers_nearest']]) "
   ]
  },
  {
   "cell_type": "markdown",
   "metadata": {},
   "source": [
    "В результате мы видим:\n",
    "- Зависимость стоимости квартиры от общей площади практически такая же, как и для всей базы объявлений\n",
    "- Зависимость стоимости от числа комнат ниже, но тоже присутствует\n",
    "- Зависимости стоимости от удаленности от центра практически нет (что логично)\n",
    "- Зависимости стоимости квадратного метра жилья в центра практически нет ни от одного из вышеуказанных показателей"
   ]
  },
  {
   "cell_type": "markdown",
   "metadata": {},
   "source": [
    "## Общий вывод"
   ]
  },
  {
   "cell_type": "markdown",
   "metadata": {},
   "source": [
    "Полученный для анализа архив нуждался в предобработке, нами было проделано:\n",
    "- изменили тип данных там, где это было возможно и необходимо для комфортной работы\n",
    "- заменили пропущенные значения там, где это было логично и не искажало общую картину \n",
    "- вычислили и добавили в таблицу данные о цене квадратного метра\n",
    "- вывели из даты дни недели, месяцы и годы публикации объявления\n",
    "- провели категоризацию квартир по этажам\n",
    "\n",
    "При проведении анализа обнаружили аномальные значения данных столбца о времени продажи квартир, продолжили аналииз исключив аномалии.\n",
    "\n",
    "По результатам анализа можно составить описание среднестатистической квартиры: площадь около 60 кв.м., 2-ух комнатная, высота потолков около 2,8 м, стоимость около 6,5 млн.\n",
    "\n",
    "На стоимость жилья в некоторой степени оказывают влияние такие факторы, как количество комнат, этаж, удаленность от центра, общая площадь, также имеет значение в какой день недели и месяц продавать квартиру - это связано с недельной или сезонной активностью на рынке недвижимости. \n",
    "\n",
    "Больше всего объявлений в нашем датасете приходится на Санкт_Петербург, здесь же и самое дорогое жилье.\n",
    "\n",
    "Теоретически нам удалось примерно определить границу центральной части города (окружность радиусом 5 км). В центре среднестатистическая квартира имеет большую площадь, количество комнат, высоту потолков и стоимость, в отличии от средней квартиры по всему архиву. На стоимость квартиры в центре города в меньшей степени оказывают влияние факторы, которые упоминались выше для средне\n"
   ]
  }
 ],
 "metadata": {
  "ExecuteTimeLog": [
   {
    "duration": 636,
    "start_time": "2021-12-16T22:29:10.177Z"
   },
   {
    "duration": 73,
    "start_time": "2021-12-16T22:29:22.897Z"
   },
   {
    "duration": 63,
    "start_time": "2021-12-16T22:29:30.419Z"
   },
   {
    "duration": 65,
    "start_time": "2021-12-16T22:31:04.958Z"
   },
   {
    "duration": 91,
    "start_time": "2021-12-16T22:32:49.757Z"
   },
   {
    "duration": 339,
    "start_time": "2021-12-16T22:36:29.933Z"
   },
   {
    "duration": 155,
    "start_time": "2021-12-16T22:37:17.220Z"
   },
   {
    "duration": 88,
    "start_time": "2021-12-16T22:46:15.835Z"
   },
   {
    "duration": 949,
    "start_time": "2022-01-02T11:58:53.376Z"
   },
   {
    "duration": 83,
    "start_time": "2022-01-02T12:02:16.940Z"
   },
   {
    "duration": 127,
    "start_time": "2022-01-02T12:02:28.264Z"
   },
   {
    "duration": 123,
    "start_time": "2022-01-02T12:03:04.043Z"
   },
   {
    "duration": 10,
    "start_time": "2022-01-02T12:36:21.194Z"
   },
   {
    "duration": 39,
    "start_time": "2022-01-02T12:36:34.211Z"
   },
   {
    "duration": 8,
    "start_time": "2022-01-02T12:36:57.112Z"
   },
   {
    "duration": 11,
    "start_time": "2022-01-02T12:37:10.411Z"
   },
   {
    "duration": 7540,
    "start_time": "2022-01-02T12:39:12.567Z"
   },
   {
    "duration": 7755,
    "start_time": "2022-01-02T12:39:39.575Z"
   },
   {
    "duration": 9,
    "start_time": "2022-01-02T12:40:20.716Z"
   },
   {
    "duration": 6,
    "start_time": "2022-01-02T12:41:03.076Z"
   },
   {
    "duration": 8,
    "start_time": "2022-01-02T12:41:13.654Z"
   },
   {
    "duration": 11,
    "start_time": "2022-01-02T12:47:15.138Z"
   },
   {
    "duration": 8,
    "start_time": "2022-01-02T12:49:41.812Z"
   },
   {
    "duration": 8,
    "start_time": "2022-01-02T12:50:46.825Z"
   },
   {
    "duration": 10,
    "start_time": "2022-01-02T12:51:38.464Z"
   },
   {
    "duration": 10,
    "start_time": "2022-01-02T12:52:53.781Z"
   },
   {
    "duration": 10,
    "start_time": "2022-01-02T12:53:07.124Z"
   },
   {
    "duration": 148,
    "start_time": "2022-01-02T12:53:14.470Z"
   },
   {
    "duration": 11,
    "start_time": "2022-01-02T12:53:14.621Z"
   },
   {
    "duration": 33,
    "start_time": "2022-01-02T12:53:14.635Z"
   },
   {
    "duration": 11,
    "start_time": "2022-01-02T12:53:14.671Z"
   },
   {
    "duration": 42,
    "start_time": "2022-01-02T12:53:59.526Z"
   },
   {
    "duration": 12,
    "start_time": "2022-01-02T12:54:22.712Z"
   },
   {
    "duration": 9,
    "start_time": "2022-01-02T12:54:46.974Z"
   },
   {
    "duration": 122,
    "start_time": "2022-01-02T12:55:06.073Z"
   },
   {
    "duration": 10,
    "start_time": "2022-01-02T12:55:06.198Z"
   },
   {
    "duration": 7,
    "start_time": "2022-01-02T12:55:06.211Z"
   },
   {
    "duration": 12,
    "start_time": "2022-01-02T12:55:06.220Z"
   },
   {
    "duration": 123,
    "start_time": "2022-01-02T12:55:56.338Z"
   },
   {
    "duration": 123,
    "start_time": "2022-01-02T12:56:05.699Z"
   },
   {
    "duration": 7,
    "start_time": "2022-01-02T12:56:08.647Z"
   },
   {
    "duration": 9,
    "start_time": "2022-01-02T12:56:10.168Z"
   },
   {
    "duration": 12,
    "start_time": "2022-01-02T12:56:10.796Z"
   },
   {
    "duration": 11,
    "start_time": "2022-01-02T12:56:54.793Z"
   },
   {
    "duration": 11,
    "start_time": "2022-01-02T12:57:03.410Z"
   },
   {
    "duration": 12,
    "start_time": "2022-01-02T12:57:14.238Z"
   },
   {
    "duration": 11,
    "start_time": "2022-01-02T12:57:33.469Z"
   },
   {
    "duration": 133,
    "start_time": "2022-01-02T12:57:39.457Z"
   },
   {
    "duration": 11,
    "start_time": "2022-01-02T12:58:48.177Z"
   },
   {
    "duration": 13,
    "start_time": "2022-01-02T13:00:09.383Z"
   },
   {
    "duration": 11,
    "start_time": "2022-01-02T13:01:04.091Z"
   },
   {
    "duration": 13,
    "start_time": "2022-01-02T13:02:36.336Z"
   },
   {
    "duration": 13,
    "start_time": "2022-01-02T13:04:17.744Z"
   },
   {
    "duration": 15,
    "start_time": "2022-01-02T13:06:28.495Z"
   },
   {
    "duration": 37,
    "start_time": "2022-01-02T13:06:57.344Z"
   },
   {
    "duration": 38,
    "start_time": "2022-01-02T13:07:21.376Z"
   },
   {
    "duration": 38,
    "start_time": "2022-01-02T13:07:26.140Z"
   },
   {
    "duration": 124,
    "start_time": "2022-01-02T13:07:37.409Z"
   },
   {
    "duration": 10,
    "start_time": "2022-01-02T13:07:37.535Z"
   },
   {
    "duration": 23,
    "start_time": "2022-01-02T13:07:37.547Z"
   },
   {
    "duration": 22,
    "start_time": "2022-01-02T13:07:37.572Z"
   },
   {
    "duration": 16,
    "start_time": "2022-01-02T13:07:37.597Z"
   },
   {
    "duration": 2316,
    "start_time": "2022-01-02T13:07:37.615Z"
   },
   {
    "duration": 45,
    "start_time": "2022-01-02T13:08:05.994Z"
   },
   {
    "duration": 41,
    "start_time": "2022-01-02T13:08:16.991Z"
   },
   {
    "duration": 135,
    "start_time": "2022-01-02T13:08:21.993Z"
   },
   {
    "duration": 11,
    "start_time": "2022-01-02T13:08:22.131Z"
   },
   {
    "duration": 27,
    "start_time": "2022-01-02T13:08:22.146Z"
   },
   {
    "duration": 12,
    "start_time": "2022-01-02T13:08:22.176Z"
   },
   {
    "duration": 10,
    "start_time": "2022-01-02T13:08:22.190Z"
   },
   {
    "duration": 2125,
    "start_time": "2022-01-02T13:08:22.202Z"
   },
   {
    "duration": 47,
    "start_time": "2022-01-02T13:08:33.384Z"
   },
   {
    "duration": 11,
    "start_time": "2022-01-02T13:08:57.250Z"
   },
   {
    "duration": 9,
    "start_time": "2022-01-02T13:09:03.527Z"
   },
   {
    "duration": 10,
    "start_time": "2022-01-02T13:09:55.826Z"
   },
   {
    "duration": 9,
    "start_time": "2022-01-02T13:11:04.572Z"
   },
   {
    "duration": 8,
    "start_time": "2022-01-02T13:11:35.281Z"
   },
   {
    "duration": 8,
    "start_time": "2022-01-02T13:11:48.612Z"
   },
   {
    "duration": 10,
    "start_time": "2022-01-02T13:12:22.207Z"
   },
   {
    "duration": 10,
    "start_time": "2022-01-02T13:13:50.500Z"
   },
   {
    "duration": 297,
    "start_time": "2022-01-02T13:14:23.093Z"
   },
   {
    "duration": 11,
    "start_time": "2022-01-02T13:14:26.303Z"
   },
   {
    "duration": 10,
    "start_time": "2022-01-02T13:25:56.487Z"
   },
   {
    "duration": 10,
    "start_time": "2022-01-02T13:26:24.371Z"
   },
   {
    "duration": 9,
    "start_time": "2022-01-02T13:27:47.319Z"
   },
   {
    "duration": 10,
    "start_time": "2022-01-02T13:28:33.216Z"
   },
   {
    "duration": 10,
    "start_time": "2022-01-02T13:29:13.457Z"
   },
   {
    "duration": 8,
    "start_time": "2022-01-02T13:29:56.714Z"
   },
   {
    "duration": 8,
    "start_time": "2022-01-02T13:30:47.415Z"
   },
   {
    "duration": 300,
    "start_time": "2022-01-02T13:33:04.227Z"
   },
   {
    "duration": 444,
    "start_time": "2022-01-02T13:33:07.579Z"
   },
   {
    "duration": 9,
    "start_time": "2022-01-02T13:33:18.548Z"
   },
   {
    "duration": 37,
    "start_time": "2022-01-02T13:42:02.373Z"
   },
   {
    "duration": 95,
    "start_time": "2022-01-02T13:48:23.284Z"
   },
   {
    "duration": 97,
    "start_time": "2022-01-02T13:48:58.043Z"
   },
   {
    "duration": 91,
    "start_time": "2022-01-02T13:49:10.312Z"
   },
   {
    "duration": 351,
    "start_time": "2022-01-02T13:49:14.121Z"
   },
   {
    "duration": 112,
    "start_time": "2022-01-02T13:49:28.176Z"
   },
   {
    "duration": 9,
    "start_time": "2022-01-02T13:49:36.661Z"
   },
   {
    "duration": 2236,
    "start_time": "2022-01-02T13:52:42.252Z"
   },
   {
    "duration": 137,
    "start_time": "2022-01-02T13:53:02.165Z"
   },
   {
    "duration": 12,
    "start_time": "2022-01-02T13:53:02.305Z"
   },
   {
    "duration": 8,
    "start_time": "2022-01-02T13:53:02.320Z"
   },
   {
    "duration": 42,
    "start_time": "2022-01-02T13:53:02.331Z"
   },
   {
    "duration": 9,
    "start_time": "2022-01-02T13:53:02.376Z"
   },
   {
    "duration": 25,
    "start_time": "2022-01-02T13:53:02.388Z"
   },
   {
    "duration": 8,
    "start_time": "2022-01-02T13:53:02.416Z"
   },
   {
    "duration": 45,
    "start_time": "2022-01-02T13:53:02.427Z"
   },
   {
    "duration": 11,
    "start_time": "2022-01-02T13:53:02.476Z"
   },
   {
    "duration": 9,
    "start_time": "2022-01-02T13:53:02.490Z"
   },
   {
    "duration": 2293,
    "start_time": "2022-01-02T13:53:02.503Z"
   },
   {
    "duration": 15,
    "start_time": "2022-01-02T13:53:35.476Z"
   },
   {
    "duration": 18,
    "start_time": "2022-01-02T13:53:46.000Z"
   },
   {
    "duration": 17,
    "start_time": "2022-01-02T13:54:15.884Z"
   },
   {
    "duration": 17,
    "start_time": "2022-01-02T13:54:26.636Z"
   },
   {
    "duration": 9,
    "start_time": "2022-01-02T14:09:22.415Z"
   },
   {
    "duration": 129,
    "start_time": "2022-01-02T14:09:26.437Z"
   },
   {
    "duration": 12,
    "start_time": "2022-01-02T14:09:26.568Z"
   },
   {
    "duration": 8,
    "start_time": "2022-01-02T14:09:26.583Z"
   },
   {
    "duration": 10,
    "start_time": "2022-01-02T14:09:26.594Z"
   },
   {
    "duration": 9,
    "start_time": "2022-01-02T14:09:26.607Z"
   },
   {
    "duration": 59,
    "start_time": "2022-01-02T14:09:26.618Z"
   },
   {
    "duration": 12,
    "start_time": "2022-01-02T14:09:26.680Z"
   },
   {
    "duration": 11,
    "start_time": "2022-01-02T14:09:26.694Z"
   },
   {
    "duration": 9,
    "start_time": "2022-01-02T14:09:26.708Z"
   },
   {
    "duration": 50,
    "start_time": "2022-01-02T14:09:26.719Z"
   },
   {
    "duration": 9,
    "start_time": "2022-01-02T14:09:26.772Z"
   },
   {
    "duration": 15,
    "start_time": "2022-01-02T14:10:46.694Z"
   },
   {
    "duration": 15,
    "start_time": "2022-01-02T14:12:16.826Z"
   },
   {
    "duration": 16,
    "start_time": "2022-01-02T14:12:29.157Z"
   },
   {
    "duration": 16,
    "start_time": "2022-01-02T14:12:51.268Z"
   },
   {
    "duration": 15,
    "start_time": "2022-01-02T14:13:12.191Z"
   },
   {
    "duration": 15,
    "start_time": "2022-01-02T14:13:21.732Z"
   },
   {
    "duration": 18,
    "start_time": "2022-01-02T14:13:58.451Z"
   },
   {
    "duration": 19,
    "start_time": "2022-01-02T14:14:20.217Z"
   },
   {
    "duration": 11,
    "start_time": "2022-01-02T14:14:25.757Z"
   },
   {
    "duration": 17,
    "start_time": "2022-01-02T14:20:01.751Z"
   },
   {
    "duration": 32,
    "start_time": "2022-01-02T14:20:14.495Z"
   },
   {
    "duration": 130,
    "start_time": "2022-01-02T14:20:25.921Z"
   },
   {
    "duration": 18,
    "start_time": "2022-01-02T14:20:26.054Z"
   },
   {
    "duration": 11,
    "start_time": "2022-01-02T14:20:26.076Z"
   },
   {
    "duration": 13,
    "start_time": "2022-01-02T14:20:26.090Z"
   },
   {
    "duration": 12,
    "start_time": "2022-01-02T14:20:26.105Z"
   },
   {
    "duration": 16,
    "start_time": "2022-01-02T14:20:26.167Z"
   },
   {
    "duration": 7,
    "start_time": "2022-01-02T14:20:26.186Z"
   },
   {
    "duration": 9,
    "start_time": "2022-01-02T14:20:26.196Z"
   },
   {
    "duration": 20,
    "start_time": "2022-01-02T14:20:26.208Z"
   },
   {
    "duration": 38,
    "start_time": "2022-01-02T14:20:26.231Z"
   },
   {
    "duration": 27,
    "start_time": "2022-01-02T14:20:26.271Z"
   },
   {
    "duration": 316,
    "start_time": "2022-01-02T14:21:16.286Z"
   },
   {
    "duration": 335,
    "start_time": "2022-01-02T14:21:24.117Z"
   },
   {
    "duration": 28,
    "start_time": "2022-01-02T14:21:37.000Z"
   },
   {
    "duration": 122,
    "start_time": "2022-01-02T14:21:43.027Z"
   },
   {
    "duration": 21,
    "start_time": "2022-01-02T14:21:43.152Z"
   },
   {
    "duration": 8,
    "start_time": "2022-01-02T14:21:43.177Z"
   },
   {
    "duration": 10,
    "start_time": "2022-01-02T14:21:43.188Z"
   },
   {
    "duration": 9,
    "start_time": "2022-01-02T14:21:43.200Z"
   },
   {
    "duration": 60,
    "start_time": "2022-01-02T14:21:43.212Z"
   },
   {
    "duration": 9,
    "start_time": "2022-01-02T14:21:43.274Z"
   },
   {
    "duration": 16,
    "start_time": "2022-01-02T14:21:43.286Z"
   },
   {
    "duration": 9,
    "start_time": "2022-01-02T14:21:43.307Z"
   },
   {
    "duration": 49,
    "start_time": "2022-01-02T14:21:43.319Z"
   },
   {
    "duration": 55,
    "start_time": "2022-01-02T14:21:43.370Z"
   },
   {
    "duration": 145,
    "start_time": "2022-01-02T14:22:01.698Z"
   },
   {
    "duration": 159,
    "start_time": "2022-01-02T14:22:05.110Z"
   },
   {
    "duration": 8,
    "start_time": "2022-01-02T14:22:05.272Z"
   },
   {
    "duration": 8,
    "start_time": "2022-01-02T14:22:05.283Z"
   },
   {
    "duration": 10,
    "start_time": "2022-01-02T14:22:05.294Z"
   },
   {
    "duration": 9,
    "start_time": "2022-01-02T14:22:05.306Z"
   },
   {
    "duration": 56,
    "start_time": "2022-01-02T14:22:05.318Z"
   },
   {
    "duration": 9,
    "start_time": "2022-01-02T14:22:05.376Z"
   },
   {
    "duration": 12,
    "start_time": "2022-01-02T14:22:05.388Z"
   },
   {
    "duration": 8,
    "start_time": "2022-01-02T14:22:05.402Z"
   },
   {
    "duration": 7,
    "start_time": "2022-01-02T14:22:05.413Z"
   },
   {
    "duration": 96,
    "start_time": "2022-01-02T14:22:05.422Z"
   },
   {
    "duration": 427,
    "start_time": "2022-01-02T14:23:11.310Z"
   },
   {
    "duration": 127,
    "start_time": "2022-01-02T14:23:15.971Z"
   },
   {
    "duration": 9,
    "start_time": "2022-01-02T14:23:16.101Z"
   },
   {
    "duration": 8,
    "start_time": "2022-01-02T14:23:16.113Z"
   },
   {
    "duration": 11,
    "start_time": "2022-01-02T14:23:16.124Z"
   },
   {
    "duration": 10,
    "start_time": "2022-01-02T14:23:16.167Z"
   },
   {
    "duration": 15,
    "start_time": "2022-01-02T14:23:16.179Z"
   },
   {
    "duration": 7,
    "start_time": "2022-01-02T14:23:16.197Z"
   },
   {
    "duration": 12,
    "start_time": "2022-01-02T14:23:16.207Z"
   },
   {
    "duration": 46,
    "start_time": "2022-01-02T14:23:16.222Z"
   },
   {
    "duration": 16,
    "start_time": "2022-01-02T14:23:16.271Z"
   },
   {
    "duration": 28,
    "start_time": "2022-01-02T14:23:16.289Z"
   },
   {
    "duration": 12,
    "start_time": "2022-01-02T14:25:35.823Z"
   },
   {
    "duration": 135,
    "start_time": "2022-01-02T14:25:40.006Z"
   },
   {
    "duration": 7,
    "start_time": "2022-01-02T14:25:40.144Z"
   },
   {
    "duration": 9,
    "start_time": "2022-01-02T14:25:40.167Z"
   },
   {
    "duration": 11,
    "start_time": "2022-01-02T14:25:40.179Z"
   },
   {
    "duration": 12,
    "start_time": "2022-01-02T14:25:40.193Z"
   },
   {
    "duration": 62,
    "start_time": "2022-01-02T14:25:40.208Z"
   },
   {
    "duration": 9,
    "start_time": "2022-01-02T14:25:40.273Z"
   },
   {
    "duration": 8,
    "start_time": "2022-01-02T14:25:40.285Z"
   },
   {
    "duration": 8,
    "start_time": "2022-01-02T14:25:40.295Z"
   },
   {
    "duration": 8,
    "start_time": "2022-01-02T14:25:40.305Z"
   },
   {
    "duration": 56,
    "start_time": "2022-01-02T14:25:40.316Z"
   },
   {
    "duration": 12,
    "start_time": "2022-01-02T14:28:34.903Z"
   },
   {
    "duration": 9,
    "start_time": "2022-01-02T14:30:37.191Z"
   },
   {
    "duration": 10,
    "start_time": "2022-01-02T14:31:34.868Z"
   },
   {
    "duration": 8,
    "start_time": "2022-01-02T14:32:52.310Z"
   },
   {
    "duration": 57,
    "start_time": "2022-01-02T14:33:12.852Z"
   },
   {
    "duration": 57,
    "start_time": "2022-01-02T14:34:25.787Z"
   },
   {
    "duration": 346,
    "start_time": "2022-01-02T14:34:44.358Z"
   },
   {
    "duration": 55,
    "start_time": "2022-01-02T14:34:58.680Z"
   },
   {
    "duration": 7,
    "start_time": "2022-01-02T14:35:06.512Z"
   },
   {
    "duration": 9,
    "start_time": "2022-01-02T14:36:46.717Z"
   },
   {
    "duration": 12,
    "start_time": "2022-01-02T14:37:49.978Z"
   },
   {
    "duration": 7,
    "start_time": "2022-01-02T14:38:04.641Z"
   },
   {
    "duration": 5,
    "start_time": "2022-01-02T14:38:12.095Z"
   },
   {
    "duration": 148,
    "start_time": "2022-01-02T14:38:19.669Z"
   },
   {
    "duration": 12,
    "start_time": "2022-01-02T14:38:19.820Z"
   },
   {
    "duration": 37,
    "start_time": "2022-01-02T14:38:19.836Z"
   },
   {
    "duration": 13,
    "start_time": "2022-01-02T14:38:19.876Z"
   },
   {
    "duration": 10,
    "start_time": "2022-01-02T14:38:19.891Z"
   },
   {
    "duration": 16,
    "start_time": "2022-01-02T14:38:19.904Z"
   },
   {
    "duration": 54,
    "start_time": "2022-01-02T14:38:19.922Z"
   },
   {
    "duration": 13,
    "start_time": "2022-01-02T14:38:19.979Z"
   },
   {
    "duration": 7,
    "start_time": "2022-01-02T14:38:19.996Z"
   },
   {
    "duration": 16,
    "start_time": "2022-01-02T14:38:20.006Z"
   },
   {
    "duration": 59,
    "start_time": "2022-01-02T14:38:20.024Z"
   },
   {
    "duration": 7,
    "start_time": "2022-01-02T14:38:20.086Z"
   },
   {
    "duration": 12,
    "start_time": "2022-01-02T14:38:30.994Z"
   },
   {
    "duration": 45,
    "start_time": "2022-01-02T14:39:23.901Z"
   },
   {
    "duration": 44,
    "start_time": "2022-01-02T14:41:52.864Z"
   },
   {
    "duration": 45,
    "start_time": "2022-01-02T14:42:20.908Z"
   },
   {
    "duration": 45,
    "start_time": "2022-01-02T14:45:27.945Z"
   },
   {
    "duration": 14,
    "start_time": "2022-01-02T14:46:32.824Z"
   },
   {
    "duration": 18,
    "start_time": "2022-01-02T14:49:29.360Z"
   },
   {
    "duration": 51,
    "start_time": "2022-01-02T14:51:17.702Z"
   },
   {
    "duration": 59,
    "start_time": "2022-01-02T14:55:29.788Z"
   },
   {
    "duration": 56,
    "start_time": "2022-01-02T14:55:56.633Z"
   },
   {
    "duration": 63,
    "start_time": "2022-01-02T14:56:07.992Z"
   },
   {
    "duration": 19,
    "start_time": "2022-01-02T14:57:00.738Z"
   },
   {
    "duration": 304,
    "start_time": "2022-01-02T14:57:44.694Z"
   },
   {
    "duration": 20,
    "start_time": "2022-01-02T14:57:49.780Z"
   },
   {
    "duration": 139,
    "start_time": "2022-01-02T14:58:24.497Z"
   },
   {
    "duration": 19,
    "start_time": "2022-01-02T14:58:39.867Z"
   },
   {
    "duration": 21,
    "start_time": "2022-01-02T14:59:01.962Z"
   },
   {
    "duration": 298,
    "start_time": "2022-01-02T14:59:12.314Z"
   },
   {
    "duration": 22,
    "start_time": "2022-01-02T14:59:19.919Z"
   },
   {
    "duration": 21,
    "start_time": "2022-01-02T14:59:28.352Z"
   },
   {
    "duration": 135,
    "start_time": "2022-01-02T15:00:09.352Z"
   },
   {
    "duration": 8,
    "start_time": "2022-01-02T15:00:09.490Z"
   },
   {
    "duration": 10,
    "start_time": "2022-01-02T15:00:09.501Z"
   },
   {
    "duration": 55,
    "start_time": "2022-01-02T15:00:09.514Z"
   },
   {
    "duration": 10,
    "start_time": "2022-01-02T15:00:09.571Z"
   },
   {
    "duration": 15,
    "start_time": "2022-01-02T15:00:09.583Z"
   },
   {
    "duration": 13,
    "start_time": "2022-01-02T15:00:09.600Z"
   },
   {
    "duration": 51,
    "start_time": "2022-01-02T15:00:09.616Z"
   },
   {
    "duration": 9,
    "start_time": "2022-01-02T15:00:09.669Z"
   },
   {
    "duration": 14,
    "start_time": "2022-01-02T15:00:09.680Z"
   },
   {
    "duration": 19,
    "start_time": "2022-01-02T15:00:09.696Z"
   },
   {
    "duration": 64,
    "start_time": "2022-01-02T15:00:09.718Z"
   },
   {
    "duration": 17,
    "start_time": "2022-01-02T15:01:08.127Z"
   },
   {
    "duration": 21,
    "start_time": "2022-01-02T15:02:15.031Z"
   },
   {
    "duration": 22,
    "start_time": "2022-01-02T15:02:45.694Z"
   },
   {
    "duration": 19,
    "start_time": "2022-01-02T15:03:58.225Z"
   },
   {
    "duration": 97,
    "start_time": "2022-01-02T15:06:24.055Z"
   },
   {
    "duration": 15,
    "start_time": "2022-01-02T15:06:30.509Z"
   },
   {
    "duration": 124,
    "start_time": "2022-01-02T15:06:35.851Z"
   },
   {
    "duration": 8,
    "start_time": "2022-01-02T15:06:35.977Z"
   },
   {
    "duration": 9,
    "start_time": "2022-01-02T15:06:35.988Z"
   },
   {
    "duration": 9,
    "start_time": "2022-01-02T15:06:36.000Z"
   },
   {
    "duration": 58,
    "start_time": "2022-01-02T15:06:36.012Z"
   },
   {
    "duration": 16,
    "start_time": "2022-01-02T15:06:36.072Z"
   },
   {
    "duration": 9,
    "start_time": "2022-01-02T15:06:36.090Z"
   },
   {
    "duration": 9,
    "start_time": "2022-01-02T15:06:36.101Z"
   },
   {
    "duration": 55,
    "start_time": "2022-01-02T15:06:36.114Z"
   },
   {
    "duration": 9,
    "start_time": "2022-01-02T15:06:36.172Z"
   },
   {
    "duration": 18,
    "start_time": "2022-01-02T15:06:36.184Z"
   },
   {
    "duration": 63,
    "start_time": "2022-01-02T15:06:36.204Z"
   },
   {
    "duration": 19,
    "start_time": "2022-01-02T15:07:13.677Z"
   },
   {
    "duration": 126,
    "start_time": "2022-01-02T15:07:18.843Z"
   },
   {
    "duration": 7,
    "start_time": "2022-01-02T15:07:18.972Z"
   },
   {
    "duration": 8,
    "start_time": "2022-01-02T15:07:18.982Z"
   },
   {
    "duration": 9,
    "start_time": "2022-01-02T15:07:18.992Z"
   },
   {
    "duration": 10,
    "start_time": "2022-01-02T15:07:19.004Z"
   },
   {
    "duration": 65,
    "start_time": "2022-01-02T15:07:19.016Z"
   },
   {
    "duration": 12,
    "start_time": "2022-01-02T15:07:19.084Z"
   },
   {
    "duration": 8,
    "start_time": "2022-01-02T15:07:19.099Z"
   },
   {
    "duration": 16,
    "start_time": "2022-01-02T15:07:19.109Z"
   },
   {
    "duration": 8,
    "start_time": "2022-01-02T15:07:19.168Z"
   },
   {
    "duration": 20,
    "start_time": "2022-01-02T15:07:19.178Z"
   },
   {
    "duration": 71,
    "start_time": "2022-01-02T15:07:19.200Z"
   },
   {
    "duration": 13,
    "start_time": "2022-01-02T15:08:10.239Z"
   },
   {
    "duration": 21,
    "start_time": "2022-01-02T15:08:22.916Z"
   },
   {
    "duration": 133,
    "start_time": "2022-01-02T15:08:28.761Z"
   },
   {
    "duration": 11,
    "start_time": "2022-01-02T15:08:28.898Z"
   },
   {
    "duration": 8,
    "start_time": "2022-01-02T15:08:28.912Z"
   },
   {
    "duration": 49,
    "start_time": "2022-01-02T15:08:28.922Z"
   },
   {
    "duration": 14,
    "start_time": "2022-01-02T15:08:28.973Z"
   },
   {
    "duration": 15,
    "start_time": "2022-01-02T15:08:28.990Z"
   },
   {
    "duration": 8,
    "start_time": "2022-01-02T15:08:29.007Z"
   },
   {
    "duration": 52,
    "start_time": "2022-01-02T15:08:29.018Z"
   },
   {
    "duration": 8,
    "start_time": "2022-01-02T15:08:29.073Z"
   },
   {
    "duration": 15,
    "start_time": "2022-01-02T15:08:29.083Z"
   },
   {
    "duration": 69,
    "start_time": "2022-01-02T15:08:29.101Z"
   },
   {
    "duration": 23,
    "start_time": "2022-01-02T15:08:29.172Z"
   },
   {
    "duration": 44,
    "start_time": "2022-01-02T15:09:11.912Z"
   },
   {
    "duration": 13,
    "start_time": "2022-01-02T15:11:46.789Z"
   },
   {
    "duration": 12,
    "start_time": "2022-01-02T21:31:07.531Z"
   },
   {
    "duration": 11,
    "start_time": "2022-01-02T21:31:20.899Z"
   },
   {
    "duration": 336,
    "start_time": "2022-01-02T21:36:40.586Z"
   },
   {
    "duration": 15,
    "start_time": "2022-01-02T21:37:13.461Z"
   },
   {
    "duration": 19,
    "start_time": "2022-01-02T22:01:07.167Z"
   },
   {
    "duration": 10,
    "start_time": "2022-01-02T22:01:12.687Z"
   },
   {
    "duration": 41,
    "start_time": "2022-01-02T22:01:34.947Z"
   },
   {
    "duration": 43,
    "start_time": "2022-01-02T22:03:03.869Z"
   },
   {
    "duration": 10,
    "start_time": "2022-01-02T22:05:31.223Z"
   },
   {
    "duration": 6,
    "start_time": "2022-01-02T22:18:55.874Z"
   },
   {
    "duration": 7,
    "start_time": "2022-01-02T22:18:59.013Z"
   },
   {
    "duration": 334,
    "start_time": "2022-01-02T22:26:04.395Z"
   },
   {
    "duration": 7,
    "start_time": "2022-01-02T22:39:45.596Z"
   },
   {
    "duration": 14,
    "start_time": "2022-01-02T23:09:39.471Z"
   },
   {
    "duration": 11,
    "start_time": "2022-01-02T23:10:37.099Z"
   },
   {
    "duration": 10,
    "start_time": "2022-01-02T23:10:42.530Z"
   },
   {
    "duration": 18,
    "start_time": "2022-01-02T23:11:13.733Z"
   },
   {
    "duration": 6,
    "start_time": "2022-01-02T23:11:56.682Z"
   },
   {
    "duration": 7,
    "start_time": "2022-01-02T23:12:54.224Z"
   },
   {
    "duration": 9,
    "start_time": "2022-01-02T23:13:07.727Z"
   },
   {
    "duration": 11,
    "start_time": "2022-01-02T23:18:43.431Z"
   },
   {
    "duration": 11,
    "start_time": "2022-01-02T23:18:49.600Z"
   },
   {
    "duration": 130,
    "start_time": "2022-01-02T23:18:53.907Z"
   },
   {
    "duration": 11,
    "start_time": "2022-01-02T23:18:54.039Z"
   },
   {
    "duration": 20,
    "start_time": "2022-01-02T23:18:54.053Z"
   },
   {
    "duration": 13,
    "start_time": "2022-01-02T23:18:54.076Z"
   },
   {
    "duration": 10,
    "start_time": "2022-01-02T23:18:54.091Z"
   },
   {
    "duration": 15,
    "start_time": "2022-01-02T23:18:54.103Z"
   },
   {
    "duration": 9,
    "start_time": "2022-01-02T23:18:54.167Z"
   },
   {
    "duration": 18,
    "start_time": "2022-01-02T23:18:54.179Z"
   },
   {
    "duration": 10,
    "start_time": "2022-01-02T23:18:54.200Z"
   },
   {
    "duration": 8,
    "start_time": "2022-01-02T23:18:54.213Z"
   },
   {
    "duration": 59,
    "start_time": "2022-01-02T23:18:54.224Z"
   },
   {
    "duration": 16,
    "start_time": "2022-01-02T23:18:54.285Z"
   },
   {
    "duration": 9,
    "start_time": "2022-01-02T23:18:54.303Z"
   },
   {
    "duration": 61,
    "start_time": "2022-01-02T23:18:54.314Z"
   },
   {
    "duration": 7,
    "start_time": "2022-01-02T23:19:41.627Z"
   },
   {
    "duration": 9,
    "start_time": "2022-01-02T23:19:51.474Z"
   },
   {
    "duration": 106,
    "start_time": "2022-01-02T23:20:07.284Z"
   },
   {
    "duration": 10,
    "start_time": "2022-01-02T23:20:11.271Z"
   },
   {
    "duration": 130,
    "start_time": "2022-01-02T23:20:14.825Z"
   },
   {
    "duration": 9,
    "start_time": "2022-01-02T23:20:14.958Z"
   },
   {
    "duration": 13,
    "start_time": "2022-01-02T23:20:14.970Z"
   },
   {
    "duration": 11,
    "start_time": "2022-01-02T23:20:14.986Z"
   },
   {
    "duration": 9,
    "start_time": "2022-01-02T23:20:15.000Z"
   },
   {
    "duration": 69,
    "start_time": "2022-01-02T23:20:15.011Z"
   },
   {
    "duration": 8,
    "start_time": "2022-01-02T23:20:15.083Z"
   },
   {
    "duration": 12,
    "start_time": "2022-01-02T23:20:15.094Z"
   },
   {
    "duration": 10,
    "start_time": "2022-01-02T23:20:15.109Z"
   },
   {
    "duration": 53,
    "start_time": "2022-01-02T23:20:15.122Z"
   },
   {
    "duration": 24,
    "start_time": "2022-01-02T23:20:15.178Z"
   },
   {
    "duration": 66,
    "start_time": "2022-01-02T23:20:15.205Z"
   },
   {
    "duration": 7,
    "start_time": "2022-01-02T23:20:15.274Z"
   },
   {
    "duration": 14,
    "start_time": "2022-01-02T23:20:15.283Z"
   },
   {
    "duration": 14,
    "start_time": "2022-01-02T23:20:39.677Z"
   },
   {
    "duration": 132,
    "start_time": "2022-01-02T23:21:34.216Z"
   },
   {
    "duration": 22,
    "start_time": "2022-01-02T23:21:34.351Z"
   },
   {
    "duration": 8,
    "start_time": "2022-01-02T23:21:34.376Z"
   },
   {
    "duration": 11,
    "start_time": "2022-01-02T23:21:34.387Z"
   },
   {
    "duration": 10,
    "start_time": "2022-01-02T23:21:34.401Z"
   },
   {
    "duration": 65,
    "start_time": "2022-01-02T23:21:34.413Z"
   },
   {
    "duration": 8,
    "start_time": "2022-01-02T23:21:34.480Z"
   },
   {
    "duration": 9,
    "start_time": "2022-01-02T23:21:34.492Z"
   },
   {
    "duration": 9,
    "start_time": "2022-01-02T23:21:34.504Z"
   },
   {
    "duration": 57,
    "start_time": "2022-01-02T23:21:34.516Z"
   },
   {
    "duration": 19,
    "start_time": "2022-01-02T23:21:34.576Z"
   },
   {
    "duration": 17,
    "start_time": "2022-01-02T23:21:34.597Z"
   },
   {
    "duration": 8,
    "start_time": "2022-01-02T23:21:34.667Z"
   },
   {
    "duration": 20,
    "start_time": "2022-01-02T23:21:34.678Z"
   },
   {
    "duration": 10,
    "start_time": "2022-01-02T23:22:15.776Z"
   },
   {
    "duration": 130,
    "start_time": "2022-01-02T23:22:20.520Z"
   },
   {
    "duration": 14,
    "start_time": "2022-01-02T23:22:20.653Z"
   },
   {
    "duration": 9,
    "start_time": "2022-01-02T23:22:20.670Z"
   },
   {
    "duration": 9,
    "start_time": "2022-01-02T23:22:20.682Z"
   },
   {
    "duration": 9,
    "start_time": "2022-01-02T23:22:20.693Z"
   },
   {
    "duration": 72,
    "start_time": "2022-01-02T23:22:20.705Z"
   },
   {
    "duration": 16,
    "start_time": "2022-01-02T23:22:20.779Z"
   },
   {
    "duration": 14,
    "start_time": "2022-01-02T23:22:20.798Z"
   },
   {
    "duration": 8,
    "start_time": "2022-01-02T23:22:20.816Z"
   },
   {
    "duration": 8,
    "start_time": "2022-01-02T23:22:20.867Z"
   },
   {
    "duration": 24,
    "start_time": "2022-01-02T23:22:20.877Z"
   },
   {
    "duration": 16,
    "start_time": "2022-01-02T23:22:20.903Z"
   },
   {
    "duration": 49,
    "start_time": "2022-01-02T23:22:20.921Z"
   },
   {
    "duration": 18,
    "start_time": "2022-01-02T23:22:20.972Z"
   },
   {
    "duration": 21,
    "start_time": "2022-01-02T23:22:31.504Z"
   },
   {
    "duration": 10,
    "start_time": "2022-01-02T23:22:45.765Z"
   },
   {
    "duration": 6,
    "start_time": "2022-01-02T23:24:56.771Z"
   },
   {
    "duration": 6,
    "start_time": "2022-01-02T23:25:05.529Z"
   },
   {
    "duration": 7,
    "start_time": "2022-01-02T23:25:49.380Z"
   },
   {
    "duration": 5,
    "start_time": "2022-01-02T23:26:03.016Z"
   },
   {
    "duration": 6,
    "start_time": "2022-01-02T23:26:05.803Z"
   },
   {
    "duration": 10,
    "start_time": "2022-01-02T23:26:17.700Z"
   },
   {
    "duration": 9,
    "start_time": "2022-01-02T23:26:30.759Z"
   },
   {
    "duration": 6,
    "start_time": "2022-01-02T23:26:57.045Z"
   },
   {
    "duration": 10,
    "start_time": "2022-01-02T23:29:20.465Z"
   },
   {
    "duration": 18,
    "start_time": "2022-01-02T23:29:27.862Z"
   },
   {
    "duration": 7,
    "start_time": "2022-01-02T23:29:41.609Z"
   },
   {
    "duration": 10,
    "start_time": "2022-01-02T23:30:43.274Z"
   },
   {
    "duration": 10,
    "start_time": "2022-01-02T23:31:15.685Z"
   },
   {
    "duration": 45,
    "start_time": "2022-01-02T23:38:21.790Z"
   },
   {
    "duration": 127,
    "start_time": "2022-01-02T23:38:28.914Z"
   },
   {
    "duration": 23,
    "start_time": "2022-01-02T23:38:29.044Z"
   },
   {
    "duration": 12,
    "start_time": "2022-01-02T23:38:29.070Z"
   },
   {
    "duration": 9,
    "start_time": "2022-01-02T23:38:29.085Z"
   },
   {
    "duration": 9,
    "start_time": "2022-01-02T23:38:29.096Z"
   },
   {
    "duration": 61,
    "start_time": "2022-01-02T23:38:29.107Z"
   },
   {
    "duration": 8,
    "start_time": "2022-01-02T23:38:29.170Z"
   },
   {
    "duration": 9,
    "start_time": "2022-01-02T23:38:29.182Z"
   },
   {
    "duration": 8,
    "start_time": "2022-01-02T23:38:29.194Z"
   },
   {
    "duration": 63,
    "start_time": "2022-01-02T23:38:29.204Z"
   },
   {
    "duration": 20,
    "start_time": "2022-01-02T23:38:29.270Z"
   },
   {
    "duration": 14,
    "start_time": "2022-01-02T23:38:29.292Z"
   },
   {
    "duration": 8,
    "start_time": "2022-01-02T23:38:29.308Z"
   },
   {
    "duration": 18,
    "start_time": "2022-01-02T23:38:29.368Z"
   },
   {
    "duration": 8,
    "start_time": "2022-01-02T23:38:29.389Z"
   },
   {
    "duration": 13,
    "start_time": "2022-01-02T23:38:29.401Z"
   },
   {
    "duration": 48,
    "start_time": "2022-01-02T23:38:29.468Z"
   },
   {
    "duration": 131,
    "start_time": "2022-01-02T23:39:33.929Z"
   },
   {
    "duration": 9,
    "start_time": "2022-01-02T23:39:34.063Z"
   },
   {
    "duration": 9,
    "start_time": "2022-01-02T23:39:34.075Z"
   },
   {
    "duration": 10,
    "start_time": "2022-01-02T23:39:34.087Z"
   },
   {
    "duration": 10,
    "start_time": "2022-01-02T23:39:34.100Z"
   },
   {
    "duration": 17,
    "start_time": "2022-01-02T23:39:34.167Z"
   },
   {
    "duration": 8,
    "start_time": "2022-01-02T23:39:34.187Z"
   },
   {
    "duration": 11,
    "start_time": "2022-01-02T23:39:34.200Z"
   },
   {
    "duration": 55,
    "start_time": "2022-01-02T23:39:34.214Z"
   },
   {
    "duration": 11,
    "start_time": "2022-01-02T23:39:34.272Z"
   },
   {
    "duration": 23,
    "start_time": "2022-01-02T23:39:34.287Z"
   },
   {
    "duration": 21,
    "start_time": "2022-01-02T23:39:34.369Z"
   },
   {
    "duration": 9,
    "start_time": "2022-01-02T23:39:34.392Z"
   },
   {
    "duration": 65,
    "start_time": "2022-01-02T23:39:34.404Z"
   },
   {
    "duration": 9,
    "start_time": "2022-01-02T23:39:34.472Z"
   },
   {
    "duration": 10,
    "start_time": "2022-01-02T23:39:34.484Z"
   },
   {
    "duration": 96,
    "start_time": "2022-01-02T23:39:34.497Z"
   },
   {
    "duration": 43,
    "start_time": "2022-01-02T23:39:41.445Z"
   },
   {
    "duration": 43,
    "start_time": "2022-01-02T23:40:35.882Z"
   },
   {
    "duration": 53,
    "start_time": "2022-01-02T23:40:51.360Z"
   },
   {
    "duration": 56,
    "start_time": "2022-01-02T23:42:30.577Z"
   },
   {
    "duration": 423,
    "start_time": "2022-01-02T23:44:37.782Z"
   },
   {
    "duration": 71,
    "start_time": "2022-01-02T23:44:51.753Z"
   },
   {
    "duration": 78,
    "start_time": "2022-01-02T23:45:05.096Z"
   },
   {
    "duration": 118,
    "start_time": "2022-01-02T23:45:41.466Z"
   },
   {
    "duration": 66,
    "start_time": "2022-01-02T23:45:53.966Z"
   },
   {
    "duration": 109,
    "start_time": "2022-01-02T23:46:07.133Z"
   },
   {
    "duration": 65,
    "start_time": "2022-01-02T23:47:03.959Z"
   },
   {
    "duration": 66,
    "start_time": "2022-01-02T23:47:19.045Z"
   },
   {
    "duration": 63,
    "start_time": "2022-01-02T23:47:36.931Z"
   },
   {
    "duration": 135,
    "start_time": "2022-01-02T23:47:42.316Z"
   },
   {
    "duration": 19,
    "start_time": "2022-01-02T23:47:42.453Z"
   },
   {
    "duration": 7,
    "start_time": "2022-01-02T23:47:42.475Z"
   },
   {
    "duration": 13,
    "start_time": "2022-01-02T23:47:42.485Z"
   },
   {
    "duration": 10,
    "start_time": "2022-01-02T23:47:42.501Z"
   },
   {
    "duration": 67,
    "start_time": "2022-01-02T23:47:42.513Z"
   },
   {
    "duration": 11,
    "start_time": "2022-01-02T23:47:42.582Z"
   },
   {
    "duration": 18,
    "start_time": "2022-01-02T23:47:42.597Z"
   },
   {
    "duration": 48,
    "start_time": "2022-01-02T23:47:42.619Z"
   },
   {
    "duration": 8,
    "start_time": "2022-01-02T23:47:42.671Z"
   },
   {
    "duration": 25,
    "start_time": "2022-01-02T23:47:42.683Z"
   },
   {
    "duration": 73,
    "start_time": "2022-01-02T23:47:42.711Z"
   },
   {
    "duration": 8,
    "start_time": "2022-01-02T23:47:42.787Z"
   },
   {
    "duration": 16,
    "start_time": "2022-01-02T23:47:42.798Z"
   },
   {
    "duration": 56,
    "start_time": "2022-01-02T23:47:42.816Z"
   },
   {
    "duration": 13,
    "start_time": "2022-01-02T23:47:42.875Z"
   },
   {
    "duration": 113,
    "start_time": "2022-01-02T23:47:42.890Z"
   },
   {
    "duration": 56,
    "start_time": "2022-01-02T23:48:05.683Z"
   },
   {
    "duration": 56,
    "start_time": "2022-01-02T23:48:40.492Z"
   },
   {
    "duration": 144,
    "start_time": "2022-01-02T23:48:59.533Z"
   },
   {
    "duration": 8,
    "start_time": "2022-01-02T23:48:59.680Z"
   },
   {
    "duration": 8,
    "start_time": "2022-01-02T23:48:59.691Z"
   },
   {
    "duration": 10,
    "start_time": "2022-01-02T23:48:59.701Z"
   },
   {
    "duration": 58,
    "start_time": "2022-01-02T23:48:59.714Z"
   },
   {
    "duration": 15,
    "start_time": "2022-01-02T23:48:59.775Z"
   },
   {
    "duration": 8,
    "start_time": "2022-01-02T23:48:59.792Z"
   },
   {
    "duration": 9,
    "start_time": "2022-01-02T23:48:59.803Z"
   },
   {
    "duration": 9,
    "start_time": "2022-01-02T23:48:59.866Z"
   },
   {
    "duration": 10,
    "start_time": "2022-01-02T23:48:59.877Z"
   },
   {
    "duration": 19,
    "start_time": "2022-01-02T23:48:59.889Z"
   },
   {
    "duration": 63,
    "start_time": "2022-01-02T23:48:59.910Z"
   },
   {
    "duration": 6,
    "start_time": "2022-01-02T23:48:59.976Z"
   },
   {
    "duration": 15,
    "start_time": "2022-01-02T23:48:59.984Z"
   },
   {
    "duration": 7,
    "start_time": "2022-01-02T23:49:00.001Z"
   },
   {
    "duration": 57,
    "start_time": "2022-01-02T23:49:00.010Z"
   },
   {
    "duration": 59,
    "start_time": "2022-01-02T23:49:00.069Z"
   },
   {
    "duration": 54,
    "start_time": "2022-01-02T23:49:24.829Z"
   },
   {
    "duration": 64,
    "start_time": "2022-01-02T23:50:59.293Z"
   },
   {
    "duration": 132,
    "start_time": "2022-01-02T23:51:06.899Z"
   },
   {
    "duration": 8,
    "start_time": "2022-01-02T23:51:07.034Z"
   },
   {
    "duration": 30,
    "start_time": "2022-01-02T23:51:07.045Z"
   },
   {
    "duration": 12,
    "start_time": "2022-01-02T23:51:07.078Z"
   },
   {
    "duration": 10,
    "start_time": "2022-01-02T23:51:07.092Z"
   },
   {
    "duration": 67,
    "start_time": "2022-01-02T23:51:07.105Z"
   },
   {
    "duration": 9,
    "start_time": "2022-01-02T23:51:07.174Z"
   },
   {
    "duration": 8,
    "start_time": "2022-01-02T23:51:07.187Z"
   },
   {
    "duration": 8,
    "start_time": "2022-01-02T23:51:07.198Z"
   },
   {
    "duration": 63,
    "start_time": "2022-01-02T23:51:07.209Z"
   },
   {
    "duration": 20,
    "start_time": "2022-01-02T23:51:07.275Z"
   },
   {
    "duration": 16,
    "start_time": "2022-01-02T23:51:07.297Z"
   },
   {
    "duration": 53,
    "start_time": "2022-01-02T23:51:07.315Z"
   },
   {
    "duration": 14,
    "start_time": "2022-01-02T23:51:07.370Z"
   },
   {
    "duration": 7,
    "start_time": "2022-01-02T23:51:07.386Z"
   },
   {
    "duration": 9,
    "start_time": "2022-01-02T23:51:07.395Z"
   },
   {
    "duration": 126,
    "start_time": "2022-01-02T23:51:07.406Z"
   },
   {
    "duration": 47,
    "start_time": "2022-01-02T23:51:29.668Z"
   },
   {
    "duration": 159,
    "start_time": "2022-01-02T23:54:52.180Z"
   },
   {
    "duration": 46,
    "start_time": "2022-01-02T23:54:59.801Z"
   },
   {
    "duration": 131,
    "start_time": "2022-01-02T23:55:03.089Z"
   },
   {
    "duration": 8,
    "start_time": "2022-01-02T23:55:03.222Z"
   },
   {
    "duration": 37,
    "start_time": "2022-01-02T23:55:03.233Z"
   },
   {
    "duration": 10,
    "start_time": "2022-01-02T23:55:03.273Z"
   },
   {
    "duration": 9,
    "start_time": "2022-01-02T23:55:03.285Z"
   },
   {
    "duration": 16,
    "start_time": "2022-01-02T23:55:03.296Z"
   },
   {
    "duration": 54,
    "start_time": "2022-01-02T23:55:03.315Z"
   },
   {
    "duration": 8,
    "start_time": "2022-01-02T23:55:03.371Z"
   },
   {
    "duration": 8,
    "start_time": "2022-01-02T23:55:03.383Z"
   },
   {
    "duration": 8,
    "start_time": "2022-01-02T23:55:03.393Z"
   },
   {
    "duration": 73,
    "start_time": "2022-01-02T23:55:03.404Z"
   },
   {
    "duration": 17,
    "start_time": "2022-01-02T23:55:03.479Z"
   },
   {
    "duration": 7,
    "start_time": "2022-01-02T23:55:03.498Z"
   },
   {
    "duration": 59,
    "start_time": "2022-01-02T23:55:03.508Z"
   },
   {
    "duration": 7,
    "start_time": "2022-01-02T23:55:03.570Z"
   },
   {
    "duration": 9,
    "start_time": "2022-01-02T23:55:03.579Z"
   },
   {
    "duration": 1390,
    "start_time": "2022-01-02T23:55:03.591Z"
   },
   {
    "duration": 50,
    "start_time": "2022-01-02T23:57:21.567Z"
   },
   {
    "duration": 25,
    "start_time": "2022-01-02T23:59:05.128Z"
   },
   {
    "duration": 32,
    "start_time": "2022-01-02T23:59:18.674Z"
   },
   {
    "duration": 56,
    "start_time": "2022-01-02T23:59:55.267Z"
   },
   {
    "duration": 143,
    "start_time": "2022-01-03T00:00:06.756Z"
   },
   {
    "duration": 9,
    "start_time": "2022-01-03T00:00:06.902Z"
   },
   {
    "duration": 9,
    "start_time": "2022-01-03T00:00:06.914Z"
   },
   {
    "duration": 45,
    "start_time": "2022-01-03T00:00:06.926Z"
   },
   {
    "duration": 10,
    "start_time": "2022-01-03T00:00:06.974Z"
   },
   {
    "duration": 16,
    "start_time": "2022-01-03T00:00:06.987Z"
   },
   {
    "duration": 8,
    "start_time": "2022-01-03T00:00:07.006Z"
   },
   {
    "duration": 55,
    "start_time": "2022-01-03T00:00:07.018Z"
   },
   {
    "duration": 17,
    "start_time": "2022-01-03T00:00:07.076Z"
   },
   {
    "duration": 10,
    "start_time": "2022-01-03T00:00:07.096Z"
   },
   {
    "duration": 98,
    "start_time": "2022-01-03T00:00:07.109Z"
   },
   {
    "duration": 15,
    "start_time": "2022-01-03T00:00:07.210Z"
   },
   {
    "duration": 40,
    "start_time": "2022-01-03T00:00:07.227Z"
   },
   {
    "duration": 21,
    "start_time": "2022-01-03T00:00:07.270Z"
   },
   {
    "duration": 11,
    "start_time": "2022-01-03T00:00:07.294Z"
   },
   {
    "duration": 13,
    "start_time": "2022-01-03T00:00:07.307Z"
   },
   {
    "duration": 87,
    "start_time": "2022-01-03T00:00:07.323Z"
   },
   {
    "duration": 21,
    "start_time": "2022-01-03T00:00:37.447Z"
   },
   {
    "duration": 47,
    "start_time": "2022-01-03T00:02:50.010Z"
   },
   {
    "duration": 50,
    "start_time": "2022-01-03T00:03:03.599Z"
   },
   {
    "duration": 140,
    "start_time": "2022-01-03T00:03:09.020Z"
   },
   {
    "duration": 8,
    "start_time": "2022-01-03T00:03:09.168Z"
   },
   {
    "duration": 8,
    "start_time": "2022-01-03T00:03:09.179Z"
   },
   {
    "duration": 8,
    "start_time": "2022-01-03T00:03:09.190Z"
   },
   {
    "duration": 9,
    "start_time": "2022-01-03T00:03:09.201Z"
   },
   {
    "duration": 69,
    "start_time": "2022-01-03T00:03:09.212Z"
   },
   {
    "duration": 7,
    "start_time": "2022-01-03T00:03:09.283Z"
   },
   {
    "duration": 7,
    "start_time": "2022-01-03T00:03:09.294Z"
   },
   {
    "duration": 8,
    "start_time": "2022-01-03T00:03:09.303Z"
   },
   {
    "duration": 62,
    "start_time": "2022-01-03T00:03:09.313Z"
   },
   {
    "duration": 19,
    "start_time": "2022-01-03T00:03:09.377Z"
   },
   {
    "duration": 13,
    "start_time": "2022-01-03T00:03:09.399Z"
   },
   {
    "duration": 56,
    "start_time": "2022-01-03T00:03:09.415Z"
   },
   {
    "duration": 13,
    "start_time": "2022-01-03T00:03:09.474Z"
   },
   {
    "duration": 6,
    "start_time": "2022-01-03T00:03:09.490Z"
   },
   {
    "duration": 15,
    "start_time": "2022-01-03T00:03:09.499Z"
   },
   {
    "duration": 99,
    "start_time": "2022-01-03T00:03:09.516Z"
   },
   {
    "duration": 51,
    "start_time": "2022-01-03T00:03:48.341Z"
   },
   {
    "duration": 11,
    "start_time": "2022-01-03T00:04:59.817Z"
   },
   {
    "duration": 311,
    "start_time": "2022-01-03T00:07:55.102Z"
   },
   {
    "duration": 14,
    "start_time": "2022-01-03T00:08:08.310Z"
   },
   {
    "duration": 312,
    "start_time": "2022-01-03T00:11:10.100Z"
   },
   {
    "duration": 334,
    "start_time": "2022-01-03T00:11:25.246Z"
   },
   {
    "duration": 302,
    "start_time": "2022-01-03T00:11:53.784Z"
   },
   {
    "duration": 17,
    "start_time": "2022-01-03T00:11:57.336Z"
   },
   {
    "duration": 22,
    "start_time": "2022-01-03T00:12:12.699Z"
   },
   {
    "duration": 27,
    "start_time": "2022-01-03T00:22:27.856Z"
   },
   {
    "duration": 501,
    "start_time": "2022-01-03T00:23:03.705Z"
   },
   {
    "duration": 31,
    "start_time": "2022-01-03T00:23:19.078Z"
   },
   {
    "duration": 333,
    "start_time": "2022-01-03T00:24:00.749Z"
   },
   {
    "duration": 39,
    "start_time": "2022-01-03T00:24:26.565Z"
   },
   {
    "duration": 317,
    "start_time": "2022-01-03T00:25:11.231Z"
   },
   {
    "duration": 325,
    "start_time": "2022-01-03T00:26:08.877Z"
   },
   {
    "duration": 129,
    "start_time": "2022-01-03T00:26:14.691Z"
   },
   {
    "duration": 9,
    "start_time": "2022-01-03T00:26:14.822Z"
   },
   {
    "duration": 7,
    "start_time": "2022-01-03T00:26:14.834Z"
   },
   {
    "duration": 10,
    "start_time": "2022-01-03T00:26:14.868Z"
   },
   {
    "duration": 10,
    "start_time": "2022-01-03T00:26:14.880Z"
   },
   {
    "duration": 15,
    "start_time": "2022-01-03T00:26:14.892Z"
   },
   {
    "duration": 7,
    "start_time": "2022-01-03T00:26:14.909Z"
   },
   {
    "duration": 8,
    "start_time": "2022-01-03T00:26:14.969Z"
   },
   {
    "duration": 8,
    "start_time": "2022-01-03T00:26:14.980Z"
   },
   {
    "duration": 13,
    "start_time": "2022-01-03T00:26:14.990Z"
   },
   {
    "duration": 68,
    "start_time": "2022-01-03T00:26:15.005Z"
   },
   {
    "duration": 16,
    "start_time": "2022-01-03T00:26:15.075Z"
   },
   {
    "duration": 7,
    "start_time": "2022-01-03T00:26:15.093Z"
   },
   {
    "duration": 14,
    "start_time": "2022-01-03T00:26:15.102Z"
   },
   {
    "duration": 52,
    "start_time": "2022-01-03T00:26:15.119Z"
   },
   {
    "duration": 10,
    "start_time": "2022-01-03T00:26:15.174Z"
   },
   {
    "duration": 88,
    "start_time": "2022-01-03T00:26:15.186Z"
   },
   {
    "duration": 338,
    "start_time": "2022-01-03T00:26:15.277Z"
   },
   {
    "duration": 344,
    "start_time": "2022-01-03T00:26:31.420Z"
   },
   {
    "duration": 40,
    "start_time": "2022-01-03T00:26:38.036Z"
   },
   {
    "duration": 9,
    "start_time": "2022-01-03T00:31:59.403Z"
   },
   {
    "duration": 9,
    "start_time": "2022-01-03T00:32:11.339Z"
   },
   {
    "duration": 7,
    "start_time": "2022-01-03T00:32:28.804Z"
   },
   {
    "duration": 8,
    "start_time": "2022-01-03T00:33:41.716Z"
   },
   {
    "duration": 13,
    "start_time": "2022-01-03T00:34:15.478Z"
   },
   {
    "duration": 145,
    "start_time": "2022-01-03T00:34:19.960Z"
   },
   {
    "duration": 10,
    "start_time": "2022-01-03T00:34:20.108Z"
   },
   {
    "duration": 8,
    "start_time": "2022-01-03T00:34:20.121Z"
   },
   {
    "duration": 11,
    "start_time": "2022-01-03T00:34:20.168Z"
   },
   {
    "duration": 12,
    "start_time": "2022-01-03T00:34:20.181Z"
   },
   {
    "duration": 25,
    "start_time": "2022-01-03T00:34:20.196Z"
   },
   {
    "duration": 46,
    "start_time": "2022-01-03T00:34:20.223Z"
   },
   {
    "duration": 15,
    "start_time": "2022-01-03T00:34:20.272Z"
   },
   {
    "duration": 21,
    "start_time": "2022-01-03T00:34:20.291Z"
   },
   {
    "duration": 12,
    "start_time": "2022-01-03T00:34:20.314Z"
   },
   {
    "duration": 47,
    "start_time": "2022-01-03T00:34:20.328Z"
   },
   {
    "duration": 17,
    "start_time": "2022-01-03T00:34:20.377Z"
   },
   {
    "duration": 6,
    "start_time": "2022-01-03T00:34:20.396Z"
   },
   {
    "duration": 17,
    "start_time": "2022-01-03T00:34:20.404Z"
   },
   {
    "duration": 47,
    "start_time": "2022-01-03T00:34:20.424Z"
   },
   {
    "duration": 20,
    "start_time": "2022-01-03T00:34:20.473Z"
   },
   {
    "duration": 72,
    "start_time": "2022-01-03T00:34:20.496Z"
   },
   {
    "duration": 37,
    "start_time": "2022-01-03T00:34:20.571Z"
   },
   {
    "duration": 13,
    "start_time": "2022-01-03T00:34:20.610Z"
   },
   {
    "duration": 25,
    "start_time": "2022-01-03T00:34:37.079Z"
   },
   {
    "duration": 119,
    "start_time": "2022-01-03T00:38:25.804Z"
   },
   {
    "duration": 165,
    "start_time": "2022-01-03T00:38:36.533Z"
   },
   {
    "duration": 343,
    "start_time": "2022-01-03T00:40:16.026Z"
   },
   {
    "duration": 139,
    "start_time": "2022-01-03T00:40:21.454Z"
   },
   {
    "duration": 10,
    "start_time": "2022-01-03T00:40:21.596Z"
   },
   {
    "duration": 9,
    "start_time": "2022-01-03T00:40:21.608Z"
   },
   {
    "duration": 51,
    "start_time": "2022-01-03T00:40:21.620Z"
   },
   {
    "duration": 10,
    "start_time": "2022-01-03T00:40:21.674Z"
   },
   {
    "duration": 16,
    "start_time": "2022-01-03T00:40:21.687Z"
   },
   {
    "duration": 8,
    "start_time": "2022-01-03T00:40:21.705Z"
   },
   {
    "duration": 61,
    "start_time": "2022-01-03T00:40:21.715Z"
   },
   {
    "duration": 9,
    "start_time": "2022-01-03T00:40:21.780Z"
   },
   {
    "duration": 13,
    "start_time": "2022-01-03T00:40:21.791Z"
   },
   {
    "duration": 19,
    "start_time": "2022-01-03T00:40:21.806Z"
   },
   {
    "duration": 16,
    "start_time": "2022-01-03T00:40:21.868Z"
   },
   {
    "duration": 6,
    "start_time": "2022-01-03T00:40:21.886Z"
   },
   {
    "duration": 18,
    "start_time": "2022-01-03T00:40:21.895Z"
   },
   {
    "duration": 55,
    "start_time": "2022-01-03T00:40:21.916Z"
   },
   {
    "duration": 8,
    "start_time": "2022-01-03T00:40:21.974Z"
   },
   {
    "duration": 49,
    "start_time": "2022-01-03T00:40:21.985Z"
   },
   {
    "duration": 370,
    "start_time": "2022-01-03T00:40:22.036Z"
   },
   {
    "duration": -1726,
    "start_time": "2022-01-03T00:40:24.134Z"
   },
   {
    "duration": 334,
    "start_time": "2022-01-03T00:41:07.631Z"
   },
   {
    "duration": 45,
    "start_time": "2022-01-03T00:41:18.728Z"
   },
   {
    "duration": 361,
    "start_time": "2022-01-03T00:41:32.127Z"
   },
   {
    "duration": 166,
    "start_time": "2022-01-03T00:41:44.492Z"
   },
   {
    "duration": 11,
    "start_time": "2022-01-03T00:41:44.668Z"
   },
   {
    "duration": 9,
    "start_time": "2022-01-03T00:41:44.682Z"
   },
   {
    "duration": 12,
    "start_time": "2022-01-03T00:41:44.694Z"
   },
   {
    "duration": 9,
    "start_time": "2022-01-03T00:41:44.708Z"
   },
   {
    "duration": 16,
    "start_time": "2022-01-03T00:41:44.768Z"
   },
   {
    "duration": 9,
    "start_time": "2022-01-03T00:41:44.787Z"
   },
   {
    "duration": 7,
    "start_time": "2022-01-03T00:41:44.800Z"
   },
   {
    "duration": 8,
    "start_time": "2022-01-03T00:41:44.810Z"
   },
   {
    "duration": 8,
    "start_time": "2022-01-03T00:41:44.868Z"
   },
   {
    "duration": 22,
    "start_time": "2022-01-03T00:41:44.878Z"
   },
   {
    "duration": 68,
    "start_time": "2022-01-03T00:41:44.902Z"
   },
   {
    "duration": 7,
    "start_time": "2022-01-03T00:41:44.972Z"
   },
   {
    "duration": 17,
    "start_time": "2022-01-03T00:41:44.981Z"
   },
   {
    "duration": 10,
    "start_time": "2022-01-03T00:41:45.001Z"
   },
   {
    "duration": 23,
    "start_time": "2022-01-03T00:41:45.013Z"
   },
   {
    "duration": 57,
    "start_time": "2022-01-03T00:41:45.068Z"
   },
   {
    "duration": 79,
    "start_time": "2022-01-03T00:41:45.127Z"
   },
   {
    "duration": 7684,
    "start_time": "2022-01-03T00:41:45.208Z"
   },
   {
    "duration": 348,
    "start_time": "2022-01-03T00:42:18.922Z"
   },
   {
    "duration": 335,
    "start_time": "2022-01-03T00:42:40.618Z"
   },
   {
    "duration": 131,
    "start_time": "2022-01-03T00:42:44.013Z"
   },
   {
    "duration": 20,
    "start_time": "2022-01-03T00:42:44.147Z"
   },
   {
    "duration": 8,
    "start_time": "2022-01-03T00:42:44.170Z"
   },
   {
    "duration": 9,
    "start_time": "2022-01-03T00:42:44.181Z"
   },
   {
    "duration": 10,
    "start_time": "2022-01-03T00:42:44.192Z"
   },
   {
    "duration": 65,
    "start_time": "2022-01-03T00:42:44.205Z"
   },
   {
    "duration": 8,
    "start_time": "2022-01-03T00:42:44.273Z"
   },
   {
    "duration": 8,
    "start_time": "2022-01-03T00:42:44.283Z"
   },
   {
    "duration": 8,
    "start_time": "2022-01-03T00:42:44.296Z"
   },
   {
    "duration": 63,
    "start_time": "2022-01-03T00:42:44.307Z"
   },
   {
    "duration": 22,
    "start_time": "2022-01-03T00:42:44.372Z"
   },
   {
    "duration": 18,
    "start_time": "2022-01-03T00:42:44.396Z"
   },
   {
    "duration": 52,
    "start_time": "2022-01-03T00:42:44.416Z"
   },
   {
    "duration": 14,
    "start_time": "2022-01-03T00:42:44.470Z"
   },
   {
    "duration": 7,
    "start_time": "2022-01-03T00:42:44.487Z"
   },
   {
    "duration": 12,
    "start_time": "2022-01-03T00:42:44.496Z"
   },
   {
    "duration": 104,
    "start_time": "2022-01-03T00:42:44.510Z"
   },
   {
    "duration": 384,
    "start_time": "2022-01-03T00:42:44.617Z"
   },
   {
    "duration": -1719,
    "start_time": "2022-01-03T00:42:46.722Z"
   },
   {
    "duration": 335,
    "start_time": "2022-01-03T00:43:19.536Z"
   },
   {
    "duration": 315,
    "start_time": "2022-01-03T00:43:33.003Z"
   },
   {
    "duration": 334,
    "start_time": "2022-01-03T00:43:56.998Z"
   },
   {
    "duration": 135,
    "start_time": "2022-01-03T00:44:01.379Z"
   },
   {
    "duration": 11,
    "start_time": "2022-01-03T00:44:01.518Z"
   },
   {
    "duration": 45,
    "start_time": "2022-01-03T00:44:01.532Z"
   },
   {
    "duration": 68,
    "start_time": "2022-01-03T00:44:01.580Z"
   },
   {
    "duration": 25,
    "start_time": "2022-01-03T00:44:01.651Z"
   },
   {
    "duration": 54,
    "start_time": "2022-01-03T00:44:01.679Z"
   },
   {
    "duration": 32,
    "start_time": "2022-01-03T00:44:01.736Z"
   },
   {
    "duration": 11,
    "start_time": "2022-01-03T00:44:01.771Z"
   },
   {
    "duration": 44,
    "start_time": "2022-01-03T00:44:01.785Z"
   },
   {
    "duration": 19,
    "start_time": "2022-01-03T00:44:01.831Z"
   },
   {
    "duration": 50,
    "start_time": "2022-01-03T00:44:01.852Z"
   },
   {
    "duration": 15,
    "start_time": "2022-01-03T00:44:01.904Z"
   },
   {
    "duration": 7,
    "start_time": "2022-01-03T00:44:01.922Z"
   },
   {
    "duration": 39,
    "start_time": "2022-01-03T00:44:01.931Z"
   },
   {
    "duration": 7,
    "start_time": "2022-01-03T00:44:01.973Z"
   },
   {
    "duration": 13,
    "start_time": "2022-01-03T00:44:01.983Z"
   },
   {
    "duration": 87,
    "start_time": "2022-01-03T00:44:01.999Z"
   },
   {
    "duration": 337,
    "start_time": "2022-01-03T00:44:02.089Z"
   },
   {
    "duration": -1725,
    "start_time": "2022-01-03T00:44:04.153Z"
   },
   {
    "duration": 105,
    "start_time": "2022-01-03T00:44:15.186Z"
   },
   {
    "duration": 347,
    "start_time": "2022-01-03T00:44:31.195Z"
   },
   {
    "duration": 39,
    "start_time": "2022-01-03T00:45:03.496Z"
   },
   {
    "duration": 45,
    "start_time": "2022-01-03T00:52:58.419Z"
   },
   {
    "duration": 318,
    "start_time": "2022-01-03T00:53:59.615Z"
   },
   {
    "duration": 41,
    "start_time": "2022-01-03T00:54:13.897Z"
   },
   {
    "duration": 41,
    "start_time": "2022-01-03T00:54:38.265Z"
   },
   {
    "duration": 44,
    "start_time": "2022-01-03T00:56:05.797Z"
   },
   {
    "duration": 47,
    "start_time": "2022-01-03T00:57:59.333Z"
   },
   {
    "duration": 146,
    "start_time": "2022-01-03T00:58:04.021Z"
   },
   {
    "duration": 11,
    "start_time": "2022-01-03T00:58:04.170Z"
   },
   {
    "duration": 11,
    "start_time": "2022-01-03T00:58:04.184Z"
   },
   {
    "duration": 10,
    "start_time": "2022-01-03T00:58:04.198Z"
   },
   {
    "duration": 9,
    "start_time": "2022-01-03T00:58:04.210Z"
   },
   {
    "duration": 17,
    "start_time": "2022-01-03T00:58:04.267Z"
   },
   {
    "duration": 8,
    "start_time": "2022-01-03T00:58:04.287Z"
   },
   {
    "duration": 11,
    "start_time": "2022-01-03T00:58:04.297Z"
   },
   {
    "duration": 8,
    "start_time": "2022-01-03T00:58:04.312Z"
   },
   {
    "duration": 52,
    "start_time": "2022-01-03T00:58:04.323Z"
   },
   {
    "duration": 18,
    "start_time": "2022-01-03T00:58:04.378Z"
   },
   {
    "duration": 15,
    "start_time": "2022-01-03T00:58:04.398Z"
   },
   {
    "duration": 55,
    "start_time": "2022-01-03T00:58:04.416Z"
   },
   {
    "duration": 17,
    "start_time": "2022-01-03T00:58:04.473Z"
   },
   {
    "duration": 11,
    "start_time": "2022-01-03T00:58:04.493Z"
   },
   {
    "duration": 9,
    "start_time": "2022-01-03T00:58:04.507Z"
   },
   {
    "duration": 87,
    "start_time": "2022-01-03T00:58:04.519Z"
   },
   {
    "duration": 72,
    "start_time": "2022-01-03T00:58:04.608Z"
   },
   {
    "duration": 16,
    "start_time": "2022-01-03T00:58:04.682Z"
   },
   {
    "duration": 82,
    "start_time": "2022-01-03T00:58:04.700Z"
   },
   {
    "duration": 16,
    "start_time": "2022-01-03T00:58:32.112Z"
   },
   {
    "duration": 41,
    "start_time": "2022-01-03T01:01:00.748Z"
   },
   {
    "duration": 117,
    "start_time": "2022-01-03T01:08:47.993Z"
   },
   {
    "duration": 577,
    "start_time": "2022-01-03T01:09:08.542Z"
   },
   {
    "duration": 178,
    "start_time": "2022-01-03T01:09:38.983Z"
   },
   {
    "duration": 14,
    "start_time": "2022-01-03T01:09:44.617Z"
   },
   {
    "duration": 104,
    "start_time": "2022-01-03T01:10:15.922Z"
   },
   {
    "duration": 44,
    "start_time": "2022-01-03T01:10:19.075Z"
   },
   {
    "duration": 116,
    "start_time": "2022-01-03T01:10:31.073Z"
   },
   {
    "duration": 47,
    "start_time": "2022-01-03T01:10:38.520Z"
   },
   {
    "duration": 46,
    "start_time": "2022-01-03T01:10:51.657Z"
   },
   {
    "duration": 42,
    "start_time": "2022-01-03T01:10:56.120Z"
   },
   {
    "duration": 101,
    "start_time": "2022-01-03T01:11:07.606Z"
   },
   {
    "duration": 98,
    "start_time": "2022-01-03T01:11:13.231Z"
   },
   {
    "duration": 43,
    "start_time": "2022-01-03T01:11:18.173Z"
   },
   {
    "duration": 46,
    "start_time": "2022-01-03T01:11:34.109Z"
   },
   {
    "duration": 45,
    "start_time": "2022-01-03T01:11:49.824Z"
   },
   {
    "duration": 45,
    "start_time": "2022-01-03T01:11:57.388Z"
   },
   {
    "duration": 42,
    "start_time": "2022-01-03T01:12:43.689Z"
   },
   {
    "duration": 6,
    "start_time": "2022-01-03T01:15:26.185Z"
   },
   {
    "duration": 6,
    "start_time": "2022-01-03T01:18:43.454Z"
   },
   {
    "duration": 18,
    "start_time": "2022-01-03T01:25:26.322Z"
   },
   {
    "duration": 130,
    "start_time": "2022-01-03T01:28:10.385Z"
   },
   {
    "duration": 8,
    "start_time": "2022-01-03T01:28:10.517Z"
   },
   {
    "duration": 8,
    "start_time": "2022-01-03T01:28:10.529Z"
   },
   {
    "duration": 35,
    "start_time": "2022-01-03T01:28:10.540Z"
   },
   {
    "duration": 10,
    "start_time": "2022-01-03T01:28:10.578Z"
   },
   {
    "duration": 18,
    "start_time": "2022-01-03T01:28:10.590Z"
   },
   {
    "duration": 8,
    "start_time": "2022-01-03T01:28:10.610Z"
   },
   {
    "duration": 8,
    "start_time": "2022-01-03T01:28:10.670Z"
   },
   {
    "duration": 9,
    "start_time": "2022-01-03T01:28:10.682Z"
   },
   {
    "duration": 9,
    "start_time": "2022-01-03T01:28:10.693Z"
   },
   {
    "duration": 72,
    "start_time": "2022-01-03T01:28:10.704Z"
   },
   {
    "duration": 18,
    "start_time": "2022-01-03T01:28:10.778Z"
   },
   {
    "duration": 8,
    "start_time": "2022-01-03T01:28:10.798Z"
   },
   {
    "duration": 69,
    "start_time": "2022-01-03T01:28:10.809Z"
   },
   {
    "duration": 9,
    "start_time": "2022-01-03T01:28:10.881Z"
   },
   {
    "duration": 8,
    "start_time": "2022-01-03T01:28:10.893Z"
   },
   {
    "duration": 104,
    "start_time": "2022-01-03T01:28:10.903Z"
   },
   {
    "duration": 73,
    "start_time": "2022-01-03T01:28:11.009Z"
   },
   {
    "duration": 14,
    "start_time": "2022-01-03T01:28:11.084Z"
   },
   {
    "duration": 80,
    "start_time": "2022-01-03T01:28:11.101Z"
   },
   {
    "duration": 46,
    "start_time": "2022-01-03T01:28:11.183Z"
   },
   {
    "duration": 37,
    "start_time": "2022-01-03T01:28:11.232Z"
   },
   {
    "duration": 18,
    "start_time": "2022-01-03T01:28:11.274Z"
   },
   {
    "duration": 765,
    "start_time": "2022-01-03T01:39:05.707Z"
   },
   {
    "duration": 35,
    "start_time": "2022-01-03T01:44:23.072Z"
   },
   {
    "duration": 63,
    "start_time": "2022-01-03T01:45:42.599Z"
   },
   {
    "duration": 60,
    "start_time": "2022-01-03T01:45:58.548Z"
   },
   {
    "duration": 63,
    "start_time": "2022-01-03T01:46:06.264Z"
   },
   {
    "duration": 5,
    "start_time": "2022-01-03T01:48:21.245Z"
   },
   {
    "duration": 131,
    "start_time": "2022-01-03T01:48:24.210Z"
   },
   {
    "duration": 25,
    "start_time": "2022-01-03T01:48:24.343Z"
   },
   {
    "duration": 9,
    "start_time": "2022-01-03T01:48:24.371Z"
   },
   {
    "duration": 13,
    "start_time": "2022-01-03T01:48:24.383Z"
   },
   {
    "duration": 10,
    "start_time": "2022-01-03T01:48:24.399Z"
   },
   {
    "duration": 59,
    "start_time": "2022-01-03T01:48:24.412Z"
   },
   {
    "duration": 10,
    "start_time": "2022-01-03T01:48:24.474Z"
   },
   {
    "duration": 11,
    "start_time": "2022-01-03T01:48:24.487Z"
   },
   {
    "duration": 10,
    "start_time": "2022-01-03T01:48:24.504Z"
   },
   {
    "duration": 58,
    "start_time": "2022-01-03T01:48:24.518Z"
   },
   {
    "duration": 22,
    "start_time": "2022-01-03T01:48:24.578Z"
   },
   {
    "duration": 18,
    "start_time": "2022-01-03T01:48:24.603Z"
   },
   {
    "duration": 49,
    "start_time": "2022-01-03T01:48:24.623Z"
   },
   {
    "duration": 17,
    "start_time": "2022-01-03T01:48:24.675Z"
   },
   {
    "duration": 8,
    "start_time": "2022-01-03T01:48:24.695Z"
   },
   {
    "duration": 61,
    "start_time": "2022-01-03T01:48:24.706Z"
   },
   {
    "duration": 53,
    "start_time": "2022-01-03T01:48:24.770Z"
   },
   {
    "duration": 71,
    "start_time": "2022-01-03T01:48:24.826Z"
   },
   {
    "duration": 18,
    "start_time": "2022-01-03T01:48:24.900Z"
   },
   {
    "duration": 94,
    "start_time": "2022-01-03T01:48:24.920Z"
   },
   {
    "duration": 74,
    "start_time": "2022-01-03T01:48:25.017Z"
   },
   {
    "duration": 7,
    "start_time": "2022-01-03T01:48:25.095Z"
   },
   {
    "duration": 20,
    "start_time": "2022-01-03T01:48:25.105Z"
   },
   {
    "duration": 862,
    "start_time": "2022-01-03T01:48:25.130Z"
   },
   {
    "duration": 7,
    "start_time": "2022-01-03T01:48:25.994Z"
   },
   {
    "duration": 85,
    "start_time": "2022-01-03T01:48:26.003Z"
   },
   {
    "duration": 7,
    "start_time": "2022-01-03T01:48:59.325Z"
   },
   {
    "duration": 129,
    "start_time": "2022-01-03T01:49:01.582Z"
   },
   {
    "duration": 8,
    "start_time": "2022-01-03T01:49:01.713Z"
   },
   {
    "duration": 12,
    "start_time": "2022-01-03T01:49:01.724Z"
   },
   {
    "duration": 33,
    "start_time": "2022-01-03T01:49:01.739Z"
   },
   {
    "duration": 12,
    "start_time": "2022-01-03T01:49:01.775Z"
   },
   {
    "duration": 16,
    "start_time": "2022-01-03T01:49:01.790Z"
   },
   {
    "duration": 11,
    "start_time": "2022-01-03T01:49:01.808Z"
   },
   {
    "duration": 44,
    "start_time": "2022-01-03T01:49:01.823Z"
   },
   {
    "duration": 8,
    "start_time": "2022-01-03T01:49:01.870Z"
   },
   {
    "duration": 16,
    "start_time": "2022-01-03T01:49:01.880Z"
   },
   {
    "duration": 19,
    "start_time": "2022-01-03T01:49:01.899Z"
   },
   {
    "duration": 58,
    "start_time": "2022-01-03T01:49:01.921Z"
   },
   {
    "duration": 8,
    "start_time": "2022-01-03T01:49:01.982Z"
   },
   {
    "duration": 16,
    "start_time": "2022-01-03T01:49:01.993Z"
   },
   {
    "duration": 16,
    "start_time": "2022-01-03T01:49:02.012Z"
   },
   {
    "duration": 43,
    "start_time": "2022-01-03T01:49:02.030Z"
   },
   {
    "duration": 74,
    "start_time": "2022-01-03T01:49:02.076Z"
   },
   {
    "duration": 49,
    "start_time": "2022-01-03T01:49:02.153Z"
   },
   {
    "duration": 17,
    "start_time": "2022-01-03T01:49:02.205Z"
   },
   {
    "duration": 95,
    "start_time": "2022-01-03T01:49:02.224Z"
   },
   {
    "duration": 71,
    "start_time": "2022-01-03T01:49:02.321Z"
   },
   {
    "duration": 8,
    "start_time": "2022-01-03T01:49:02.395Z"
   },
   {
    "duration": 20,
    "start_time": "2022-01-03T01:49:02.409Z"
   },
   {
    "duration": 815,
    "start_time": "2022-01-03T01:49:02.432Z"
   },
   {
    "duration": 6,
    "start_time": "2022-01-03T01:49:03.249Z"
   },
   {
    "duration": 64,
    "start_time": "2022-01-03T01:49:03.266Z"
   },
   {
    "duration": 7,
    "start_time": "2022-01-03T01:51:54.946Z"
   },
   {
    "duration": 142,
    "start_time": "2022-01-03T01:52:00.048Z"
   },
   {
    "duration": 9,
    "start_time": "2022-01-03T01:52:00.192Z"
   },
   {
    "duration": 11,
    "start_time": "2022-01-03T01:52:00.204Z"
   },
   {
    "duration": 11,
    "start_time": "2022-01-03T01:52:00.218Z"
   },
   {
    "duration": 43,
    "start_time": "2022-01-03T01:52:00.232Z"
   },
   {
    "duration": 34,
    "start_time": "2022-01-03T01:52:00.278Z"
   },
   {
    "duration": 17,
    "start_time": "2022-01-03T01:52:00.315Z"
   },
   {
    "duration": 16,
    "start_time": "2022-01-03T01:52:00.335Z"
   },
   {
    "duration": 15,
    "start_time": "2022-01-03T01:52:00.356Z"
   },
   {
    "duration": 11,
    "start_time": "2022-01-03T01:52:00.375Z"
   },
   {
    "duration": 20,
    "start_time": "2022-01-03T01:52:00.389Z"
   },
   {
    "duration": 17,
    "start_time": "2022-01-03T01:52:00.411Z"
   },
   {
    "duration": 41,
    "start_time": "2022-01-03T01:52:00.430Z"
   },
   {
    "duration": 24,
    "start_time": "2022-01-03T01:52:00.473Z"
   },
   {
    "duration": 8,
    "start_time": "2022-01-03T01:52:00.500Z"
   },
   {
    "duration": 14,
    "start_time": "2022-01-03T01:52:00.511Z"
   },
   {
    "duration": 81,
    "start_time": "2022-01-03T01:52:00.528Z"
   },
   {
    "duration": 59,
    "start_time": "2022-01-03T01:52:00.612Z"
   },
   {
    "duration": 15,
    "start_time": "2022-01-03T01:52:00.674Z"
   },
   {
    "duration": 82,
    "start_time": "2022-01-03T01:52:00.692Z"
   },
   {
    "duration": 47,
    "start_time": "2022-01-03T01:52:00.776Z"
   },
   {
    "duration": 7,
    "start_time": "2022-01-03T01:52:00.825Z"
   },
   {
    "duration": 48,
    "start_time": "2022-01-03T01:52:00.834Z"
   },
   {
    "duration": 791,
    "start_time": "2022-01-03T01:52:00.885Z"
   },
   {
    "duration": 7,
    "start_time": "2022-01-03T01:52:01.679Z"
   },
   {
    "duration": 85,
    "start_time": "2022-01-03T01:52:01.689Z"
   },
   {
    "duration": 7,
    "start_time": "2022-01-03T01:52:27.566Z"
   },
   {
    "duration": 8,
    "start_time": "2022-01-03T01:53:33.811Z"
   },
   {
    "duration": 166,
    "start_time": "2022-01-03T01:53:43.054Z"
   },
   {
    "duration": 11,
    "start_time": "2022-01-03T01:53:43.223Z"
   },
   {
    "duration": 34,
    "start_time": "2022-01-03T01:53:43.237Z"
   },
   {
    "duration": 8,
    "start_time": "2022-01-03T01:53:43.274Z"
   },
   {
    "duration": 19,
    "start_time": "2022-01-03T01:53:43.284Z"
   },
   {
    "duration": 19,
    "start_time": "2022-01-03T01:53:43.305Z"
   },
   {
    "duration": 15,
    "start_time": "2022-01-03T01:53:43.326Z"
   },
   {
    "duration": 29,
    "start_time": "2022-01-03T01:53:43.345Z"
   },
   {
    "duration": 9,
    "start_time": "2022-01-03T01:53:43.377Z"
   },
   {
    "duration": 8,
    "start_time": "2022-01-03T01:53:43.389Z"
   },
   {
    "duration": 22,
    "start_time": "2022-01-03T01:53:43.400Z"
   },
   {
    "duration": 15,
    "start_time": "2022-01-03T01:53:43.468Z"
   },
   {
    "duration": 7,
    "start_time": "2022-01-03T01:53:43.485Z"
   },
   {
    "duration": 14,
    "start_time": "2022-01-03T01:53:43.495Z"
   },
   {
    "duration": 6,
    "start_time": "2022-01-03T01:53:43.512Z"
   },
   {
    "duration": 53,
    "start_time": "2022-01-03T01:53:43.521Z"
   },
   {
    "duration": 52,
    "start_time": "2022-01-03T01:53:43.577Z"
   },
   {
    "duration": 72,
    "start_time": "2022-01-03T01:53:43.632Z"
   },
   {
    "duration": 15,
    "start_time": "2022-01-03T01:53:43.707Z"
   },
   {
    "duration": 81,
    "start_time": "2022-01-03T01:53:43.725Z"
   },
   {
    "duration": 62,
    "start_time": "2022-01-03T01:53:43.808Z"
   },
   {
    "duration": 7,
    "start_time": "2022-01-03T01:53:43.872Z"
   },
   {
    "duration": 18,
    "start_time": "2022-01-03T01:53:43.884Z"
   },
   {
    "duration": 851,
    "start_time": "2022-01-03T01:53:43.905Z"
   },
   {
    "duration": 14,
    "start_time": "2022-01-03T01:53:44.758Z"
   },
   {
    "duration": 64,
    "start_time": "2022-01-03T01:53:44.774Z"
   },
   {
    "duration": 20,
    "start_time": "2022-01-03T01:56:09.953Z"
   },
   {
    "duration": 135,
    "start_time": "2022-01-03T01:56:12.694Z"
   },
   {
    "duration": 8,
    "start_time": "2022-01-03T01:56:12.832Z"
   },
   {
    "duration": 26,
    "start_time": "2022-01-03T01:56:12.843Z"
   },
   {
    "duration": 9,
    "start_time": "2022-01-03T01:56:12.872Z"
   },
   {
    "duration": 11,
    "start_time": "2022-01-03T01:56:12.884Z"
   },
   {
    "duration": 19,
    "start_time": "2022-01-03T01:56:12.898Z"
   },
   {
    "duration": 49,
    "start_time": "2022-01-03T01:56:12.920Z"
   },
   {
    "duration": 11,
    "start_time": "2022-01-03T01:56:12.975Z"
   },
   {
    "duration": 10,
    "start_time": "2022-01-03T01:56:12.990Z"
   },
   {
    "duration": 11,
    "start_time": "2022-01-03T01:56:13.002Z"
   },
   {
    "duration": 24,
    "start_time": "2022-01-03T01:56:13.068Z"
   },
   {
    "duration": 16,
    "start_time": "2022-01-03T01:56:13.095Z"
   },
   {
    "duration": 8,
    "start_time": "2022-01-03T01:56:13.114Z"
   },
   {
    "duration": 16,
    "start_time": "2022-01-03T01:56:13.168Z"
   },
   {
    "duration": 8,
    "start_time": "2022-01-03T01:56:13.187Z"
   },
   {
    "duration": 12,
    "start_time": "2022-01-03T01:56:13.197Z"
   },
   {
    "duration": 93,
    "start_time": "2022-01-03T01:56:13.212Z"
   },
   {
    "duration": 70,
    "start_time": "2022-01-03T01:56:13.308Z"
   },
   {
    "duration": 16,
    "start_time": "2022-01-03T01:56:13.381Z"
   },
   {
    "duration": 86,
    "start_time": "2022-01-03T01:56:13.400Z"
   },
   {
    "duration": 43,
    "start_time": "2022-01-03T01:56:13.488Z"
   },
   {
    "duration": 6,
    "start_time": "2022-01-03T01:56:13.533Z"
   },
   {
    "duration": 20,
    "start_time": "2022-01-03T01:56:13.570Z"
   },
   {
    "duration": 856,
    "start_time": "2022-01-03T01:56:13.593Z"
   },
   {
    "duration": 16,
    "start_time": "2022-01-03T01:56:14.452Z"
   },
   {
    "duration": 61,
    "start_time": "2022-01-03T01:56:14.471Z"
   },
   {
    "duration": 19,
    "start_time": "2022-01-03T01:57:01.629Z"
   },
   {
    "duration": 7,
    "start_time": "2022-01-03T01:58:13.095Z"
   },
   {
    "duration": 128,
    "start_time": "2022-01-03T01:58:15.756Z"
   },
   {
    "duration": 12,
    "start_time": "2022-01-03T01:58:15.887Z"
   },
   {
    "duration": 11,
    "start_time": "2022-01-03T01:58:15.902Z"
   },
   {
    "duration": 52,
    "start_time": "2022-01-03T01:58:15.917Z"
   },
   {
    "duration": 15,
    "start_time": "2022-01-03T01:58:15.972Z"
   },
   {
    "duration": 18,
    "start_time": "2022-01-03T01:58:15.989Z"
   },
   {
    "duration": 58,
    "start_time": "2022-01-03T01:58:16.010Z"
   },
   {
    "duration": 9,
    "start_time": "2022-01-03T01:58:16.074Z"
   },
   {
    "duration": 10,
    "start_time": "2022-01-03T01:58:16.087Z"
   },
   {
    "duration": 10,
    "start_time": "2022-01-03T01:58:16.099Z"
   },
   {
    "duration": 72,
    "start_time": "2022-01-03T01:58:16.112Z"
   },
   {
    "duration": 14,
    "start_time": "2022-01-03T01:58:16.187Z"
   },
   {
    "duration": 7,
    "start_time": "2022-01-03T01:58:16.203Z"
   },
   {
    "duration": 13,
    "start_time": "2022-01-03T01:58:16.213Z"
   },
   {
    "duration": 7,
    "start_time": "2022-01-03T01:58:16.267Z"
   },
   {
    "duration": 9,
    "start_time": "2022-01-03T01:58:16.276Z"
   },
   {
    "duration": 80,
    "start_time": "2022-01-03T01:58:16.287Z"
   },
   {
    "duration": 39,
    "start_time": "2022-01-03T01:58:16.369Z"
   },
   {
    "duration": 12,
    "start_time": "2022-01-03T01:58:16.410Z"
   },
   {
    "duration": 82,
    "start_time": "2022-01-03T01:58:16.425Z"
   },
   {
    "duration": 61,
    "start_time": "2022-01-03T01:58:16.509Z"
   },
   {
    "duration": 7,
    "start_time": "2022-01-03T01:58:16.572Z"
   },
   {
    "duration": 21,
    "start_time": "2022-01-03T01:58:16.583Z"
   },
   {
    "duration": 801,
    "start_time": "2022-01-03T01:58:16.606Z"
   },
   {
    "duration": 9,
    "start_time": "2022-01-03T01:58:17.409Z"
   },
   {
    "duration": 77,
    "start_time": "2022-01-03T01:58:17.420Z"
   },
   {
    "duration": 34,
    "start_time": "2022-01-03T01:59:57.811Z"
   },
   {
    "duration": 130,
    "start_time": "2022-01-03T02:00:21.984Z"
   },
   {
    "duration": 8,
    "start_time": "2022-01-03T02:00:22.116Z"
   },
   {
    "duration": 8,
    "start_time": "2022-01-03T02:00:22.127Z"
   },
   {
    "duration": 34,
    "start_time": "2022-01-03T02:00:22.138Z"
   },
   {
    "duration": 8,
    "start_time": "2022-01-03T02:00:22.175Z"
   },
   {
    "duration": 16,
    "start_time": "2022-01-03T02:00:22.186Z"
   },
   {
    "duration": 9,
    "start_time": "2022-01-03T02:00:22.204Z"
   },
   {
    "duration": 50,
    "start_time": "2022-01-03T02:00:22.216Z"
   },
   {
    "duration": 8,
    "start_time": "2022-01-03T02:00:22.269Z"
   },
   {
    "duration": 7,
    "start_time": "2022-01-03T02:00:22.280Z"
   },
   {
    "duration": 20,
    "start_time": "2022-01-03T02:00:22.290Z"
   },
   {
    "duration": 60,
    "start_time": "2022-01-03T02:00:22.312Z"
   },
   {
    "duration": 7,
    "start_time": "2022-01-03T02:00:22.374Z"
   },
   {
    "duration": 14,
    "start_time": "2022-01-03T02:00:22.384Z"
   },
   {
    "duration": 8,
    "start_time": "2022-01-03T02:00:22.401Z"
   },
   {
    "duration": 12,
    "start_time": "2022-01-03T02:00:22.411Z"
   },
   {
    "duration": 92,
    "start_time": "2022-01-03T02:00:22.425Z"
   },
   {
    "duration": 72,
    "start_time": "2022-01-03T02:00:22.520Z"
   },
   {
    "duration": 14,
    "start_time": "2022-01-03T02:00:22.594Z"
   },
   {
    "duration": 76,
    "start_time": "2022-01-03T02:00:22.610Z"
   },
   {
    "duration": 44,
    "start_time": "2022-01-03T02:00:22.688Z"
   },
   {
    "duration": 7,
    "start_time": "2022-01-03T02:00:22.734Z"
   },
   {
    "duration": 17,
    "start_time": "2022-01-03T02:00:22.770Z"
   },
   {
    "duration": 906,
    "start_time": "2022-01-03T02:00:22.789Z"
   },
   {
    "duration": 9,
    "start_time": "2022-01-03T02:00:23.697Z"
   },
   {
    "duration": 37,
    "start_time": "2022-01-03T02:00:23.708Z"
   },
   {
    "duration": 863,
    "start_time": "2022-01-03T02:04:26.422Z"
   },
   {
    "duration": 549,
    "start_time": "2022-01-03T02:08:54.760Z"
   },
   {
    "duration": 133,
    "start_time": "2022-01-03T02:08:58.400Z"
   },
   {
    "duration": 10,
    "start_time": "2022-01-03T02:08:58.535Z"
   },
   {
    "duration": 23,
    "start_time": "2022-01-03T02:08:58.549Z"
   },
   {
    "duration": 12,
    "start_time": "2022-01-03T02:08:58.575Z"
   },
   {
    "duration": 12,
    "start_time": "2022-01-03T02:08:58.589Z"
   },
   {
    "duration": 18,
    "start_time": "2022-01-03T02:08:58.604Z"
   },
   {
    "duration": 11,
    "start_time": "2022-01-03T02:08:58.668Z"
   },
   {
    "duration": 9,
    "start_time": "2022-01-03T02:08:58.685Z"
   },
   {
    "duration": 10,
    "start_time": "2022-01-03T02:08:58.698Z"
   },
   {
    "duration": 59,
    "start_time": "2022-01-03T02:08:58.711Z"
   },
   {
    "duration": 34,
    "start_time": "2022-01-03T02:08:58.773Z"
   },
   {
    "duration": 19,
    "start_time": "2022-01-03T02:08:58.810Z"
   },
   {
    "duration": 37,
    "start_time": "2022-01-03T02:08:58.832Z"
   },
   {
    "duration": 17,
    "start_time": "2022-01-03T02:08:58.872Z"
   },
   {
    "duration": 13,
    "start_time": "2022-01-03T02:08:58.892Z"
   },
   {
    "duration": 16,
    "start_time": "2022-01-03T02:08:58.907Z"
   },
   {
    "duration": 85,
    "start_time": "2022-01-03T02:08:58.926Z"
   },
   {
    "duration": 59,
    "start_time": "2022-01-03T02:08:59.013Z"
   },
   {
    "duration": 13,
    "start_time": "2022-01-03T02:08:59.075Z"
   },
   {
    "duration": 81,
    "start_time": "2022-01-03T02:08:59.091Z"
   },
   {
    "duration": 44,
    "start_time": "2022-01-03T02:08:59.175Z"
   },
   {
    "duration": 8,
    "start_time": "2022-01-03T02:08:59.221Z"
   },
   {
    "duration": 46,
    "start_time": "2022-01-03T02:08:59.233Z"
   },
   {
    "duration": 798,
    "start_time": "2022-01-03T02:08:59.281Z"
   },
   {
    "duration": 10,
    "start_time": "2022-01-03T02:09:00.082Z"
   },
   {
    "duration": 44,
    "start_time": "2022-01-03T02:09:00.094Z"
   },
   {
    "duration": 567,
    "start_time": "2022-01-03T02:09:00.140Z"
   },
   {
    "duration": 549,
    "start_time": "2022-01-03T02:12:30.724Z"
   },
   {
    "duration": 645,
    "start_time": "2022-01-03T02:13:05.996Z"
   },
   {
    "duration": 679,
    "start_time": "2022-01-03T02:13:13.151Z"
   },
   {
    "duration": 556,
    "start_time": "2022-01-03T02:13:24.368Z"
   },
   {
    "duration": 563,
    "start_time": "2022-01-03T02:13:35.726Z"
   },
   {
    "duration": 410,
    "start_time": "2022-01-03T02:13:52.481Z"
   },
   {
    "duration": 323,
    "start_time": "2022-01-03T02:14:00.661Z"
   },
   {
    "duration": 649,
    "start_time": "2022-01-03T02:14:06.342Z"
   },
   {
    "duration": 556,
    "start_time": "2022-01-03T02:14:12.073Z"
   },
   {
    "duration": 537,
    "start_time": "2022-01-03T02:16:44.670Z"
   },
   {
    "duration": 559,
    "start_time": "2022-01-03T02:17:06.737Z"
   },
   {
    "duration": 570,
    "start_time": "2022-01-03T02:17:14.552Z"
   },
   {
    "duration": 541,
    "start_time": "2022-01-03T02:17:23.529Z"
   },
   {
    "duration": 668,
    "start_time": "2022-01-03T02:17:32.009Z"
   },
   {
    "duration": 565,
    "start_time": "2022-01-03T02:18:58.502Z"
   },
   {
    "duration": 310,
    "start_time": "2022-01-03T02:19:12.116Z"
   },
   {
    "duration": 369,
    "start_time": "2022-01-03T02:19:21.600Z"
   },
   {
    "duration": 373,
    "start_time": "2022-01-03T02:19:31.048Z"
   },
   {
    "duration": 298,
    "start_time": "2022-01-03T02:19:46.810Z"
   },
   {
    "duration": 356,
    "start_time": "2022-01-03T02:19:53.544Z"
   },
   {
    "duration": 330,
    "start_time": "2022-01-03T02:20:10.066Z"
   },
   {
    "duration": 286,
    "start_time": "2022-01-03T02:20:29.751Z"
   },
   {
    "duration": 397,
    "start_time": "2022-01-03T02:20:40.404Z"
   },
   {
    "duration": 557,
    "start_time": "2022-01-03T02:21:41.537Z"
   },
   {
    "duration": 530,
    "start_time": "2022-01-03T02:21:51.186Z"
   },
   {
    "duration": 295,
    "start_time": "2022-01-03T02:21:55.524Z"
   },
   {
    "duration": 307,
    "start_time": "2022-01-03T02:22:06.546Z"
   },
   {
    "duration": 404,
    "start_time": "2022-01-03T02:22:11.298Z"
   },
   {
    "duration": 317,
    "start_time": "2022-01-03T02:22:17.030Z"
   },
   {
    "duration": 554,
    "start_time": "2022-01-03T02:28:23.247Z"
   },
   {
    "duration": 58,
    "start_time": "2022-01-03T02:48:48.461Z"
   },
   {
    "duration": 55,
    "start_time": "2022-01-03T02:50:03.400Z"
   },
   {
    "duration": 36,
    "start_time": "2022-01-03T02:50:18.924Z"
   },
   {
    "duration": 119,
    "start_time": "2022-01-03T02:51:03.108Z"
   },
   {
    "duration": 41,
    "start_time": "2022-01-03T02:51:20.576Z"
   },
   {
    "duration": 14,
    "start_time": "2022-01-03T02:51:55.321Z"
   },
   {
    "duration": 19,
    "start_time": "2022-01-03T02:57:39.994Z"
   },
   {
    "duration": 19,
    "start_time": "2022-01-03T02:57:44.180Z"
   },
   {
    "duration": 18,
    "start_time": "2022-01-03T02:57:55.156Z"
   },
   {
    "duration": 20,
    "start_time": "2022-01-03T02:58:00.252Z"
   },
   {
    "duration": 19,
    "start_time": "2022-01-03T02:58:03.571Z"
   },
   {
    "duration": 20,
    "start_time": "2022-01-03T02:58:06.871Z"
   },
   {
    "duration": 321,
    "start_time": "2022-01-03T02:58:29.249Z"
   },
   {
    "duration": 348,
    "start_time": "2022-01-03T02:59:29.685Z"
   },
   {
    "duration": 333,
    "start_time": "2022-01-03T02:59:36.639Z"
   },
   {
    "duration": 545,
    "start_time": "2022-01-03T03:04:37.625Z"
   },
   {
    "duration": 570,
    "start_time": "2022-01-03T03:12:45.623Z"
   },
   {
    "duration": 534,
    "start_time": "2022-01-03T03:12:54.726Z"
   },
   {
    "duration": 557,
    "start_time": "2022-01-03T03:12:59.898Z"
   },
   {
    "duration": 634,
    "start_time": "2022-01-03T03:13:37.188Z"
   },
   {
    "duration": 652,
    "start_time": "2022-01-03T03:15:36.359Z"
   },
   {
    "duration": 543,
    "start_time": "2022-01-03T03:15:43.713Z"
   },
   {
    "duration": 445,
    "start_time": "2022-01-03T03:15:49.802Z"
   },
   {
    "duration": 556,
    "start_time": "2022-01-03T03:15:59.898Z"
   },
   {
    "duration": 576,
    "start_time": "2022-01-03T03:20:33.464Z"
   },
   {
    "duration": 29,
    "start_time": "2022-01-03T03:22:46.541Z"
   },
   {
    "duration": 148,
    "start_time": "2022-01-03T03:22:51.246Z"
   },
   {
    "duration": 15,
    "start_time": "2022-01-03T03:22:51.397Z"
   },
   {
    "duration": 9,
    "start_time": "2022-01-03T03:22:51.414Z"
   },
   {
    "duration": 10,
    "start_time": "2022-01-03T03:22:51.426Z"
   },
   {
    "duration": 36,
    "start_time": "2022-01-03T03:22:51.438Z"
   },
   {
    "duration": 123,
    "start_time": "2022-01-03T03:22:51.476Z"
   },
   {
    "duration": 40,
    "start_time": "2022-01-03T03:22:51.601Z"
   },
   {
    "duration": 9,
    "start_time": "2022-01-03T03:22:51.668Z"
   },
   {
    "duration": 9,
    "start_time": "2022-01-03T03:22:51.680Z"
   },
   {
    "duration": 9,
    "start_time": "2022-01-03T03:22:51.691Z"
   },
   {
    "duration": 19,
    "start_time": "2022-01-03T03:22:51.702Z"
   },
   {
    "duration": 57,
    "start_time": "2022-01-03T03:22:51.723Z"
   },
   {
    "duration": 7,
    "start_time": "2022-01-03T03:22:51.783Z"
   },
   {
    "duration": 17,
    "start_time": "2022-01-03T03:22:51.793Z"
   },
   {
    "duration": 6,
    "start_time": "2022-01-03T03:22:51.813Z"
   },
   {
    "duration": 49,
    "start_time": "2022-01-03T03:22:51.822Z"
   },
   {
    "duration": 51,
    "start_time": "2022-01-03T03:22:51.874Z"
   },
   {
    "duration": 66,
    "start_time": "2022-01-03T03:22:51.927Z"
   },
   {
    "duration": 13,
    "start_time": "2022-01-03T03:22:51.996Z"
   },
   {
    "duration": 394,
    "start_time": "2022-01-03T03:22:52.011Z"
   },
   {
    "duration": -1852,
    "start_time": "2022-01-03T03:22:54.260Z"
   },
   {
    "duration": -1853,
    "start_time": "2022-01-03T03:22:54.262Z"
   },
   {
    "duration": -1879,
    "start_time": "2022-01-03T03:22:54.290Z"
   },
   {
    "duration": -1883,
    "start_time": "2022-01-03T03:22:54.295Z"
   },
   {
    "duration": -1884,
    "start_time": "2022-01-03T03:22:54.298Z"
   },
   {
    "duration": -1885,
    "start_time": "2022-01-03T03:22:54.300Z"
   },
   {
    "duration": -1884,
    "start_time": "2022-01-03T03:22:54.301Z"
   },
   {
    "duration": -1885,
    "start_time": "2022-01-03T03:22:54.303Z"
   },
   {
    "duration": -1886,
    "start_time": "2022-01-03T03:22:54.305Z"
   },
   {
    "duration": -1885,
    "start_time": "2022-01-03T03:22:54.306Z"
   },
   {
    "duration": -1886,
    "start_time": "2022-01-03T03:22:54.308Z"
   },
   {
    "duration": 144,
    "start_time": "2022-01-03T03:24:04.757Z"
   },
   {
    "duration": 8,
    "start_time": "2022-01-03T03:24:04.904Z"
   },
   {
    "duration": 9,
    "start_time": "2022-01-03T03:24:04.915Z"
   },
   {
    "duration": 7,
    "start_time": "2022-01-03T03:24:04.927Z"
   },
   {
    "duration": 10,
    "start_time": "2022-01-03T03:24:04.967Z"
   },
   {
    "duration": 19,
    "start_time": "2022-01-03T03:24:04.979Z"
   },
   {
    "duration": 70,
    "start_time": "2022-01-03T03:24:05.000Z"
   },
   {
    "duration": 8,
    "start_time": "2022-01-03T03:24:05.074Z"
   },
   {
    "duration": 12,
    "start_time": "2022-01-03T03:24:05.085Z"
   },
   {
    "duration": 8,
    "start_time": "2022-01-03T03:24:05.100Z"
   },
   {
    "duration": 61,
    "start_time": "2022-01-03T03:24:05.110Z"
   },
   {
    "duration": 17,
    "start_time": "2022-01-03T03:24:05.173Z"
   },
   {
    "duration": 8,
    "start_time": "2022-01-03T03:24:05.193Z"
   },
   {
    "duration": 14,
    "start_time": "2022-01-03T03:24:05.203Z"
   },
   {
    "duration": 47,
    "start_time": "2022-01-03T03:24:05.220Z"
   },
   {
    "duration": 9,
    "start_time": "2022-01-03T03:24:05.270Z"
   },
   {
    "duration": 49,
    "start_time": "2022-01-03T03:24:05.282Z"
   },
   {
    "duration": 69,
    "start_time": "2022-01-03T03:24:05.334Z"
   },
   {
    "duration": 14,
    "start_time": "2022-01-03T03:24:05.405Z"
   },
   {
    "duration": 84,
    "start_time": "2022-01-03T03:24:05.421Z"
   },
   {
    "duration": 60,
    "start_time": "2022-01-03T03:24:05.507Z"
   },
   {
    "duration": 7,
    "start_time": "2022-01-03T03:24:05.569Z"
   },
   {
    "duration": 21,
    "start_time": "2022-01-03T03:24:05.580Z"
   },
   {
    "duration": 800,
    "start_time": "2022-01-03T03:24:05.603Z"
   },
   {
    "duration": 8,
    "start_time": "2022-01-03T03:24:06.406Z"
   },
   {
    "duration": 51,
    "start_time": "2022-01-03T03:24:06.416Z"
   },
   {
    "duration": 573,
    "start_time": "2022-01-03T03:24:06.469Z"
   },
   {
    "duration": 590,
    "start_time": "2022-01-03T03:24:07.044Z"
   },
   {
    "duration": 323,
    "start_time": "2022-01-03T03:24:07.636Z"
   },
   {
    "duration": 351,
    "start_time": "2022-01-03T03:24:07.961Z"
   },
   {
    "duration": 579,
    "start_time": "2022-01-03T03:24:08.314Z"
   },
   {
    "duration": 666,
    "start_time": "2022-01-03T03:24:18.827Z"
   },
   {
    "duration": 383,
    "start_time": "2022-01-03T03:25:00.351Z"
   },
   {
    "duration": 525,
    "start_time": "2022-01-03T03:25:11.603Z"
   },
   {
    "duration": 557,
    "start_time": "2022-01-03T03:25:16.986Z"
   },
   {
    "duration": 571,
    "start_time": "2022-01-03T03:25:58.339Z"
   },
   {
    "duration": 572,
    "start_time": "2022-01-03T03:26:39.964Z"
   },
   {
    "duration": 860,
    "start_time": "2022-01-03T03:26:59.760Z"
   },
   {
    "duration": 856,
    "start_time": "2022-01-03T03:27:41.906Z"
   },
   {
    "duration": 863,
    "start_time": "2022-01-03T03:27:50.173Z"
   },
   {
    "duration": 596,
    "start_time": "2022-01-03T03:28:05.896Z"
   },
   {
    "duration": 580,
    "start_time": "2022-01-03T03:28:35.217Z"
   },
   {
    "duration": 1062,
    "start_time": "2022-01-03T03:29:04.539Z"
   },
   {
    "duration": 581,
    "start_time": "2022-01-03T03:29:22.844Z"
   },
   {
    "duration": 555,
    "start_time": "2022-01-03T03:29:51.983Z"
   },
   {
    "duration": 545,
    "start_time": "2022-01-03T03:30:27.076Z"
   },
   {
    "duration": 961,
    "start_time": "2022-01-03T03:31:04.872Z"
   },
   {
    "duration": 1038,
    "start_time": "2022-01-03T03:52:43.310Z"
   },
   {
    "duration": 1189,
    "start_time": "2022-01-03T03:54:50.180Z"
   },
   {
    "duration": 902,
    "start_time": "2022-01-03T10:39:52.221Z"
   },
   {
    "duration": 11,
    "start_time": "2022-01-03T10:39:53.126Z"
   },
   {
    "duration": 27,
    "start_time": "2022-01-03T10:39:53.140Z"
   },
   {
    "duration": 8,
    "start_time": "2022-01-03T10:39:53.170Z"
   },
   {
    "duration": 9,
    "start_time": "2022-01-03T10:39:53.181Z"
   },
   {
    "duration": 20,
    "start_time": "2022-01-03T10:39:53.192Z"
   },
   {
    "duration": 83,
    "start_time": "2022-01-03T10:39:53.214Z"
   },
   {
    "duration": 8,
    "start_time": "2022-01-03T10:39:53.300Z"
   },
   {
    "duration": 8,
    "start_time": "2022-01-03T10:39:53.312Z"
   },
   {
    "duration": 40,
    "start_time": "2022-01-03T10:39:53.324Z"
   },
   {
    "duration": 19,
    "start_time": "2022-01-03T10:39:53.367Z"
   },
   {
    "duration": 15,
    "start_time": "2022-01-03T10:39:53.389Z"
   },
   {
    "duration": 13,
    "start_time": "2022-01-03T10:39:53.407Z"
   },
   {
    "duration": 52,
    "start_time": "2022-01-03T10:39:53.422Z"
   },
   {
    "duration": 7,
    "start_time": "2022-01-03T10:39:53.476Z"
   },
   {
    "duration": 8,
    "start_time": "2022-01-03T10:39:53.485Z"
   },
   {
    "duration": 89,
    "start_time": "2022-01-03T10:39:53.495Z"
   },
   {
    "duration": 37,
    "start_time": "2022-01-03T10:39:53.587Z"
   },
   {
    "duration": 41,
    "start_time": "2022-01-03T10:39:53.626Z"
   },
   {
    "duration": 45,
    "start_time": "2022-01-03T10:39:53.669Z"
   },
   {
    "duration": 70,
    "start_time": "2022-01-03T10:39:53.717Z"
   },
   {
    "duration": 6,
    "start_time": "2022-01-03T10:39:53.789Z"
   },
   {
    "duration": 18,
    "start_time": "2022-01-03T10:39:53.798Z"
   },
   {
    "duration": 945,
    "start_time": "2022-01-03T10:39:53.818Z"
   },
   {
    "duration": 9,
    "start_time": "2022-01-03T10:39:54.765Z"
   },
   {
    "duration": 33,
    "start_time": "2022-01-03T10:39:54.776Z"
   },
   {
    "duration": 710,
    "start_time": "2022-01-03T10:39:54.813Z"
   },
   {
    "duration": 580,
    "start_time": "2022-01-03T10:39:55.526Z"
   },
   {
    "duration": 337,
    "start_time": "2022-01-03T10:39:56.109Z"
   },
   {
    "duration": 328,
    "start_time": "2022-01-03T10:39:56.449Z"
   },
   {
    "duration": 841,
    "start_time": "2022-01-03T10:39:56.779Z"
   },
   {
    "duration": 546,
    "start_time": "2022-01-03T10:40:18.036Z"
   },
   {
    "duration": 635,
    "start_time": "2022-01-03T10:49:33.320Z"
   },
   {
    "duration": 570,
    "start_time": "2022-01-03T10:52:57.443Z"
   },
   {
    "duration": 90,
    "start_time": "2022-01-03T11:04:39.157Z"
   },
   {
    "duration": 89,
    "start_time": "2022-01-03T11:04:59.140Z"
   },
   {
    "duration": 80,
    "start_time": "2022-01-03T11:05:27.412Z"
   },
   {
    "duration": 156,
    "start_time": "2022-01-03T11:05:47.121Z"
   },
   {
    "duration": 536,
    "start_time": "2022-01-03T11:06:40.776Z"
   },
   {
    "duration": 570,
    "start_time": "2022-01-03T11:06:53.039Z"
   },
   {
    "duration": 77,
    "start_time": "2022-01-03T11:07:48.995Z"
   },
   {
    "duration": 580,
    "start_time": "2022-01-03T11:08:00.642Z"
   },
   {
    "duration": 656,
    "start_time": "2022-01-03T11:09:06.768Z"
   },
   {
    "duration": 571,
    "start_time": "2022-01-03T11:10:37.006Z"
   },
   {
    "duration": 580,
    "start_time": "2022-01-03T11:11:29.056Z"
   },
   {
    "duration": 665,
    "start_time": "2022-01-03T11:12:07.761Z"
   },
   {
    "duration": 902,
    "start_time": "2022-01-03T11:40:29.177Z"
   },
   {
    "duration": 569,
    "start_time": "2022-01-03T11:40:41.811Z"
   },
   {
    "duration": 691,
    "start_time": "2022-01-03T11:43:05.994Z"
   },
   {
    "duration": 821,
    "start_time": "2022-01-03T11:43:21.860Z"
   },
   {
    "duration": 887,
    "start_time": "2022-01-03T11:43:52.027Z"
   },
   {
    "duration": 825,
    "start_time": "2022-01-03T11:44:10.660Z"
   },
   {
    "duration": 899,
    "start_time": "2022-01-03T11:44:36.133Z"
   },
   {
    "duration": 816,
    "start_time": "2022-01-03T11:44:56.148Z"
   },
   {
    "duration": 1227,
    "start_time": "2022-01-03T11:45:12.340Z"
   },
   {
    "duration": 909,
    "start_time": "2022-01-03T11:46:15.798Z"
   },
   {
    "duration": 865,
    "start_time": "2022-01-03T11:46:41.968Z"
   },
   {
    "duration": 798,
    "start_time": "2022-01-03T11:47:32.879Z"
   },
   {
    "duration": 842,
    "start_time": "2022-01-03T11:51:32.455Z"
   },
   {
    "duration": 918,
    "start_time": "2022-01-03T11:57:45.066Z"
   },
   {
    "duration": 40,
    "start_time": "2022-01-03T12:00:22.381Z"
   },
   {
    "duration": 55,
    "start_time": "2022-01-03T12:00:37.001Z"
   },
   {
    "duration": 394,
    "start_time": "2022-01-03T12:02:27.169Z"
   },
   {
    "duration": 351,
    "start_time": "2022-01-03T12:02:55.993Z"
   },
   {
    "duration": 334,
    "start_time": "2022-01-03T12:10:18.175Z"
   },
   {
    "duration": 360,
    "start_time": "2022-01-03T12:10:23.970Z"
   },
   {
    "duration": 1063,
    "start_time": "2022-01-03T12:10:34.187Z"
   },
   {
    "duration": 338,
    "start_time": "2022-01-03T12:10:41.065Z"
   },
   {
    "duration": 320,
    "start_time": "2022-01-03T12:10:57.726Z"
   },
   {
    "duration": 341,
    "start_time": "2022-01-03T12:11:04.739Z"
   },
   {
    "duration": 6483,
    "start_time": "2022-01-03T12:15:07.924Z"
   },
   {
    "duration": 331,
    "start_time": "2022-01-03T12:15:24.091Z"
   },
   {
    "duration": 345,
    "start_time": "2022-01-03T12:24:07.233Z"
   },
   {
    "duration": 103,
    "start_time": "2022-01-03T12:27:00.384Z"
   },
   {
    "duration": 426,
    "start_time": "2022-01-03T12:27:58.241Z"
   },
   {
    "duration": 348,
    "start_time": "2022-01-03T12:28:44.704Z"
   },
   {
    "duration": 345,
    "start_time": "2022-01-03T12:31:48.741Z"
   },
   {
    "duration": 333,
    "start_time": "2022-01-03T12:32:45.785Z"
   },
   {
    "duration": 6245,
    "start_time": "2022-01-03T12:38:51.171Z"
   },
   {
    "duration": -1821,
    "start_time": "2022-01-03T12:39:15.420Z"
   },
   {
    "duration": 6955,
    "start_time": "2022-01-03T12:39:17.935Z"
   },
   {
    "duration": 136,
    "start_time": "2022-01-03T12:39:44.394Z"
   },
   {
    "duration": 9,
    "start_time": "2022-01-03T12:39:44.533Z"
   },
   {
    "duration": 25,
    "start_time": "2022-01-03T12:39:44.545Z"
   },
   {
    "duration": 9,
    "start_time": "2022-01-03T12:39:44.572Z"
   },
   {
    "duration": 12,
    "start_time": "2022-01-03T12:39:44.583Z"
   },
   {
    "duration": 74,
    "start_time": "2022-01-03T12:39:44.598Z"
   },
   {
    "duration": 44,
    "start_time": "2022-01-03T12:39:44.674Z"
   },
   {
    "duration": 46,
    "start_time": "2022-01-03T12:39:44.721Z"
   },
   {
    "duration": 9,
    "start_time": "2022-01-03T12:39:44.771Z"
   },
   {
    "duration": 7,
    "start_time": "2022-01-03T12:39:44.783Z"
   },
   {
    "duration": 19,
    "start_time": "2022-01-03T12:39:44.792Z"
   },
   {
    "duration": 15,
    "start_time": "2022-01-03T12:39:44.864Z"
   },
   {
    "duration": 8,
    "start_time": "2022-01-03T12:39:44.881Z"
   },
   {
    "duration": 24,
    "start_time": "2022-01-03T12:39:44.891Z"
   },
   {
    "duration": 45,
    "start_time": "2022-01-03T12:39:44.918Z"
   },
   {
    "duration": 9,
    "start_time": "2022-01-03T12:39:44.966Z"
   },
   {
    "duration": 84,
    "start_time": "2022-01-03T12:39:44.978Z"
   },
   {
    "duration": 39,
    "start_time": "2022-01-03T12:39:45.065Z"
   },
   {
    "duration": 13,
    "start_time": "2022-01-03T12:39:45.106Z"
   },
   {
    "duration": 48,
    "start_time": "2022-01-03T12:39:45.163Z"
   },
   {
    "duration": 79,
    "start_time": "2022-01-03T12:39:45.213Z"
   },
   {
    "duration": 9,
    "start_time": "2022-01-03T12:39:45.295Z"
   },
   {
    "duration": 58,
    "start_time": "2022-01-03T12:39:45.307Z"
   },
   {
    "duration": 774,
    "start_time": "2022-01-03T12:39:45.368Z"
   },
   {
    "duration": 21,
    "start_time": "2022-01-03T12:39:46.144Z"
   },
   {
    "duration": 34,
    "start_time": "2022-01-03T12:39:46.168Z"
   },
   {
    "duration": 596,
    "start_time": "2022-01-03T12:39:46.207Z"
   },
   {
    "duration": 606,
    "start_time": "2022-01-03T12:39:46.806Z"
   },
   {
    "duration": 419,
    "start_time": "2022-01-03T12:39:47.415Z"
   },
   {
    "duration": 356,
    "start_time": "2022-01-03T12:39:47.836Z"
   },
   {
    "duration": 788,
    "start_time": "2022-01-03T12:39:48.195Z"
   },
   {
    "duration": 571,
    "start_time": "2022-01-03T12:39:48.987Z"
   },
   {
    "duration": 808,
    "start_time": "2022-01-03T12:39:49.562Z"
   },
   {
    "duration": 373,
    "start_time": "2022-01-03T12:39:50.373Z"
   },
   {
    "duration": 465,
    "start_time": "2022-01-03T12:39:50.749Z"
   },
   {
    "duration": 6496,
    "start_time": "2022-01-03T12:39:51.217Z"
   },
   {
    "duration": 7330,
    "start_time": "2022-01-03T12:40:18.623Z"
   },
   {
    "duration": 701,
    "start_time": "2022-01-03T12:40:27.031Z"
   },
   {
    "duration": 691,
    "start_time": "2022-01-03T12:45:57.636Z"
   },
   {
    "duration": 781,
    "start_time": "2022-01-03T12:46:11.828Z"
   },
   {
    "duration": 321,
    "start_time": "2022-01-03T12:50:48.682Z"
   },
   {
    "duration": 709,
    "start_time": "2022-01-03T12:50:53.906Z"
   },
   {
    "duration": 38,
    "start_time": "2022-01-03T13:03:18.341Z"
   },
   {
    "duration": 48,
    "start_time": "2022-01-03T13:03:30.416Z"
   },
   {
    "duration": 285,
    "start_time": "2022-01-03T13:04:39.311Z"
   },
   {
    "duration": 336,
    "start_time": "2022-01-03T13:04:46.104Z"
   },
   {
    "duration": 272,
    "start_time": "2022-01-03T13:04:58.278Z"
   },
   {
    "duration": 37,
    "start_time": "2022-01-03T13:05:09.575Z"
   },
   {
    "duration": 44,
    "start_time": "2022-01-03T13:05:22.221Z"
   },
   {
    "duration": 305,
    "start_time": "2022-01-03T13:07:51.923Z"
   },
   {
    "duration": 272,
    "start_time": "2022-01-03T13:08:07.802Z"
   },
   {
    "duration": 362,
    "start_time": "2022-01-03T13:08:29.435Z"
   },
   {
    "duration": 316,
    "start_time": "2022-01-03T13:09:35.381Z"
   },
   {
    "duration": 320,
    "start_time": "2022-01-03T13:09:41.120Z"
   },
   {
    "duration": 330,
    "start_time": "2022-01-03T13:16:07.827Z"
   },
   {
    "duration": 431,
    "start_time": "2022-01-03T13:26:58.366Z"
   },
   {
    "duration": 6458,
    "start_time": "2022-01-03T13:27:41.662Z"
   },
   {
    "duration": 325,
    "start_time": "2022-01-03T13:27:52.605Z"
   },
   {
    "duration": 388,
    "start_time": "2022-01-03T13:28:17.761Z"
   },
   {
    "duration": 308,
    "start_time": "2022-01-03T13:28:47.702Z"
   },
   {
    "duration": 349,
    "start_time": "2022-01-03T13:29:15.169Z"
   },
   {
    "duration": 347,
    "start_time": "2022-01-03T13:30:18.779Z"
   },
   {
    "duration": 285,
    "start_time": "2022-01-03T13:31:03.617Z"
   },
   {
    "duration": 329,
    "start_time": "2022-01-03T13:31:26.019Z"
   },
   {
    "duration": 338,
    "start_time": "2022-01-03T13:32:34.527Z"
   },
   {
    "duration": 350,
    "start_time": "2022-01-03T13:33:23.287Z"
   },
   {
    "duration": 326,
    "start_time": "2022-01-03T13:33:45.273Z"
   },
   {
    "duration": 319,
    "start_time": "2022-01-03T13:36:08.473Z"
   },
   {
    "duration": 324,
    "start_time": "2022-01-03T13:37:27.397Z"
   },
   {
    "duration": 355,
    "start_time": "2022-01-03T13:45:40.787Z"
   },
   {
    "duration": 51,
    "start_time": "2022-01-03T13:51:03.053Z"
   },
   {
    "duration": 170,
    "start_time": "2022-01-03T13:51:40.133Z"
   },
   {
    "duration": 37,
    "start_time": "2022-01-03T13:52:57.031Z"
   },
   {
    "duration": 56,
    "start_time": "2022-01-03T13:53:21.713Z"
   },
   {
    "duration": 6381,
    "start_time": "2022-01-03T13:55:02.513Z"
   },
   {
    "duration": 49,
    "start_time": "2022-01-03T13:55:45.604Z"
   },
   {
    "duration": 6651,
    "start_time": "2022-01-03T13:56:09.663Z"
   },
   {
    "duration": 6593,
    "start_time": "2022-01-03T13:56:33.740Z"
   },
   {
    "duration": 58,
    "start_time": "2022-01-03T14:02:18.377Z"
   },
   {
    "duration": 93,
    "start_time": "2022-01-03T14:13:02.899Z"
   },
   {
    "duration": 168,
    "start_time": "2022-01-03T14:13:11.311Z"
   },
   {
    "duration": 538,
    "start_time": "2022-01-03T14:16:05.525Z"
   },
   {
    "duration": 482,
    "start_time": "2022-01-03T14:18:01.911Z"
   },
   {
    "duration": 506,
    "start_time": "2022-01-03T14:18:13.400Z"
   },
   {
    "duration": 345,
    "start_time": "2022-01-03T14:21:57.223Z"
   },
   {
    "duration": 354,
    "start_time": "2022-01-03T14:22:31.340Z"
   },
   {
    "duration": 354,
    "start_time": "2022-01-03T14:29:14.150Z"
   },
   {
    "duration": 13,
    "start_time": "2022-01-03T14:37:26.483Z"
   },
   {
    "duration": 582,
    "start_time": "2022-01-03T14:48:52.881Z"
   },
   {
    "duration": 558,
    "start_time": "2022-01-03T14:49:33.083Z"
   },
   {
    "duration": 606,
    "start_time": "2022-01-03T14:50:07.865Z"
   },
   {
    "duration": 441,
    "start_time": "2022-01-03T14:51:58.499Z"
   },
   {
    "duration": 327,
    "start_time": "2022-01-03T14:53:03.880Z"
   },
   {
    "duration": 296,
    "start_time": "2022-01-03T14:53:06.987Z"
   },
   {
    "duration": 135,
    "start_time": "2022-01-03T14:53:16.289Z"
   },
   {
    "duration": 44,
    "start_time": "2022-01-03T14:53:16.426Z"
   },
   {
    "duration": 8,
    "start_time": "2022-01-03T14:53:16.473Z"
   },
   {
    "duration": 9,
    "start_time": "2022-01-03T14:53:16.484Z"
   },
   {
    "duration": 9,
    "start_time": "2022-01-03T14:53:16.496Z"
   },
   {
    "duration": 21,
    "start_time": "2022-01-03T14:53:16.564Z"
   },
   {
    "duration": 78,
    "start_time": "2022-01-03T14:53:16.588Z"
   },
   {
    "duration": 9,
    "start_time": "2022-01-03T14:53:16.669Z"
   },
   {
    "duration": 7,
    "start_time": "2022-01-03T14:53:16.681Z"
   },
   {
    "duration": 7,
    "start_time": "2022-01-03T14:53:16.691Z"
   },
   {
    "duration": 67,
    "start_time": "2022-01-03T14:53:16.701Z"
   },
   {
    "duration": 18,
    "start_time": "2022-01-03T14:53:16.770Z"
   },
   {
    "duration": 7,
    "start_time": "2022-01-03T14:53:16.790Z"
   },
   {
    "duration": 14,
    "start_time": "2022-01-03T14:53:16.799Z"
   },
   {
    "duration": 52,
    "start_time": "2022-01-03T14:53:16.815Z"
   },
   {
    "duration": 8,
    "start_time": "2022-01-03T14:53:16.869Z"
   },
   {
    "duration": 92,
    "start_time": "2022-01-03T14:53:16.880Z"
   },
   {
    "duration": 39,
    "start_time": "2022-01-03T14:53:16.974Z"
   },
   {
    "duration": 49,
    "start_time": "2022-01-03T14:53:17.016Z"
   },
   {
    "duration": 60,
    "start_time": "2022-01-03T14:53:17.067Z"
   },
   {
    "duration": 71,
    "start_time": "2022-01-03T14:53:17.130Z"
   },
   {
    "duration": 7,
    "start_time": "2022-01-03T14:53:17.204Z"
   },
   {
    "duration": 54,
    "start_time": "2022-01-03T14:53:17.216Z"
   },
   {
    "duration": 790,
    "start_time": "2022-01-03T14:53:17.273Z"
   },
   {
    "duration": 9,
    "start_time": "2022-01-03T14:53:18.065Z"
   },
   {
    "duration": 35,
    "start_time": "2022-01-03T14:53:18.076Z"
   },
   {
    "duration": 589,
    "start_time": "2022-01-03T14:53:18.115Z"
   },
   {
    "duration": 587,
    "start_time": "2022-01-03T14:53:18.707Z"
   },
   {
    "duration": 325,
    "start_time": "2022-01-03T14:53:19.297Z"
   },
   {
    "duration": 465,
    "start_time": "2022-01-03T14:53:19.625Z"
   },
   {
    "duration": 782,
    "start_time": "2022-01-03T14:53:20.092Z"
   },
   {
    "duration": 575,
    "start_time": "2022-01-03T14:53:20.877Z"
   },
   {
    "duration": 797,
    "start_time": "2022-01-03T14:53:21.454Z"
   },
   {
    "duration": 350,
    "start_time": "2022-01-03T14:53:22.254Z"
   },
   {
    "duration": 332,
    "start_time": "2022-01-03T14:53:22.607Z"
   },
   {
    "duration": 871,
    "start_time": "2022-01-03T14:53:22.942Z"
   },
   {
    "duration": 339,
    "start_time": "2022-01-03T14:53:23.816Z"
   },
   {
    "duration": 368,
    "start_time": "2022-01-03T14:53:24.157Z"
   },
   {
    "duration": 378,
    "start_time": "2022-01-03T14:53:24.528Z"
   },
   {
    "duration": 365,
    "start_time": "2022-01-03T14:53:24.908Z"
   },
   {
    "duration": 95,
    "start_time": "2022-01-03T14:53:25.277Z"
   },
   {
    "duration": 358,
    "start_time": "2022-01-03T14:53:25.375Z"
   },
   {
    "duration": 29,
    "start_time": "2022-01-03T14:53:25.736Z"
   },
   {
    "duration": 580,
    "start_time": "2022-01-03T14:53:25.767Z"
   },
   {
    "duration": 676,
    "start_time": "2022-01-03T14:53:26.350Z"
   },
   {
    "duration": 303,
    "start_time": "2022-01-03T14:53:27.029Z"
   },
   {
    "duration": 467,
    "start_time": "2022-01-03T14:53:27.335Z"
   },
   {
    "duration": 555,
    "start_time": "2022-01-03T14:58:38.352Z"
   },
   {
    "duration": 543,
    "start_time": "2022-01-03T14:58:49.478Z"
   },
   {
    "duration": 315,
    "start_time": "2022-01-03T15:06:56.717Z"
   },
   {
    "duration": 532,
    "start_time": "2022-01-03T15:08:44.997Z"
   },
   {
    "duration": 325,
    "start_time": "2022-01-03T15:09:48.494Z"
   },
   {
    "duration": 288,
    "start_time": "2022-01-03T15:10:54.966Z"
   },
   {
    "duration": 295,
    "start_time": "2022-01-03T15:12:05.452Z"
   },
   {
    "duration": 497,
    "start_time": "2022-01-03T15:12:14.003Z"
   },
   {
    "duration": 380,
    "start_time": "2022-01-03T15:20:51.351Z"
   },
   {
    "duration": 538,
    "start_time": "2022-01-03T15:23:24.067Z"
   },
   {
    "duration": 324,
    "start_time": "2022-01-03T15:26:38.676Z"
   },
   {
    "duration": 714,
    "start_time": "2022-01-06T11:42:55.687Z"
   },
   {
    "duration": 937,
    "start_time": "2022-01-17T06:58:21.693Z"
   },
   {
    "duration": 12,
    "start_time": "2022-01-17T06:58:22.633Z"
   },
   {
    "duration": 10,
    "start_time": "2022-01-17T06:58:22.649Z"
   },
   {
    "duration": 8,
    "start_time": "2022-01-17T06:58:22.663Z"
   },
   {
    "duration": 9,
    "start_time": "2022-01-17T06:58:22.674Z"
   },
   {
    "duration": 19,
    "start_time": "2022-01-17T06:58:22.724Z"
   },
   {
    "duration": 44,
    "start_time": "2022-01-17T06:58:22.746Z"
   },
   {
    "duration": 36,
    "start_time": "2022-01-17T06:58:22.793Z"
   },
   {
    "duration": 9,
    "start_time": "2022-01-17T06:58:22.832Z"
   },
   {
    "duration": 8,
    "start_time": "2022-01-17T06:58:22.843Z"
   },
   {
    "duration": 20,
    "start_time": "2022-01-17T06:58:22.853Z"
   },
   {
    "duration": 63,
    "start_time": "2022-01-17T06:58:22.876Z"
   },
   {
    "duration": 15,
    "start_time": "2022-01-17T06:58:22.941Z"
   },
   {
    "duration": 13,
    "start_time": "2022-01-17T06:58:22.958Z"
   },
   {
    "duration": 8,
    "start_time": "2022-01-17T06:58:22.975Z"
   },
   {
    "duration": 47,
    "start_time": "2022-01-17T06:58:22.986Z"
   },
   {
    "duration": 94,
    "start_time": "2022-01-17T06:58:23.037Z"
   },
   {
    "duration": 44,
    "start_time": "2022-01-17T06:58:23.134Z"
   },
   {
    "duration": 47,
    "start_time": "2022-01-17T06:58:23.181Z"
   },
   {
    "duration": 60,
    "start_time": "2022-01-17T06:58:23.231Z"
   },
   {
    "duration": 65,
    "start_time": "2022-01-17T06:58:23.293Z"
   },
   {
    "duration": 7,
    "start_time": "2022-01-17T06:58:23.361Z"
   },
   {
    "duration": 18,
    "start_time": "2022-01-17T06:58:23.374Z"
   },
   {
    "duration": 800,
    "start_time": "2022-01-17T06:58:23.423Z"
   },
   {
    "duration": 8,
    "start_time": "2022-01-17T06:58:24.225Z"
   },
   {
    "duration": 31,
    "start_time": "2022-01-17T06:58:24.235Z"
   },
   {
    "duration": 664,
    "start_time": "2022-01-17T06:58:24.268Z"
   },
   {
    "duration": 552,
    "start_time": "2022-01-17T06:58:24.935Z"
   },
   {
    "duration": 303,
    "start_time": "2022-01-17T06:58:25.490Z"
   },
   {
    "duration": 313,
    "start_time": "2022-01-17T06:58:25.796Z"
   },
   {
    "duration": 680,
    "start_time": "2022-01-17T06:58:26.112Z"
   },
   {
    "duration": 507,
    "start_time": "2022-01-17T06:58:26.794Z"
   },
   {
    "duration": 820,
    "start_time": "2022-01-17T06:58:27.303Z"
   },
   {
    "duration": 341,
    "start_time": "2022-01-17T06:58:28.125Z"
   },
   {
    "duration": 320,
    "start_time": "2022-01-17T06:58:28.468Z"
   },
   {
    "duration": 716,
    "start_time": "2022-01-17T06:58:28.791Z"
   },
   {
    "duration": 297,
    "start_time": "2022-01-17T06:58:29.509Z"
   },
   {
    "duration": 329,
    "start_time": "2022-01-17T06:58:29.808Z"
   },
   {
    "duration": 313,
    "start_time": "2022-01-17T06:58:30.139Z"
   },
   {
    "duration": 318,
    "start_time": "2022-01-17T06:58:30.454Z"
   },
   {
    "duration": 57,
    "start_time": "2022-01-17T06:58:30.775Z"
   },
   {
    "duration": 325,
    "start_time": "2022-01-17T06:58:30.834Z"
   },
   {
    "duration": 13,
    "start_time": "2022-01-17T06:58:31.162Z"
   },
   {
    "duration": 707,
    "start_time": "2022-01-17T06:58:31.177Z"
   },
   {
    "duration": 549,
    "start_time": "2022-01-17T06:58:31.887Z"
   },
   {
    "duration": 287,
    "start_time": "2022-01-17T06:58:32.438Z"
   },
   {
    "duration": 327,
    "start_time": "2022-01-17T06:58:32.728Z"
   },
   {
    "duration": 381,
    "start_time": "2022-01-17T06:58:33.058Z"
   },
   {
    "duration": 288,
    "start_time": "2022-01-17T06:58:33.441Z"
   },
   {
    "duration": 443,
    "start_time": "2022-01-17T06:58:33.732Z"
   },
   {
    "duration": 304,
    "start_time": "2022-01-17T06:58:34.177Z"
   },
   {
    "duration": 322,
    "start_time": "2022-01-17T06:58:34.483Z"
   },
   {
    "duration": 403,
    "start_time": "2022-01-17T06:58:34.808Z"
   },
   {
    "duration": 435,
    "start_time": "2022-01-17T07:02:08.359Z"
   },
   {
    "duration": 346,
    "start_time": "2022-01-17T07:24:28.719Z"
   },
   {
    "duration": 22,
    "start_time": "2022-01-17T07:25:35.638Z"
   },
   {
    "duration": 35,
    "start_time": "2022-01-17T07:25:46.514Z"
   },
   {
    "duration": 36,
    "start_time": "2022-01-17T07:26:08.279Z"
   },
   {
    "duration": 17,
    "start_time": "2022-01-17T07:35:23.093Z"
   },
   {
    "duration": 18,
    "start_time": "2022-01-17T07:40:22.447Z"
   },
   {
    "duration": 24,
    "start_time": "2022-01-17T07:40:48.783Z"
   },
   {
    "duration": 19,
    "start_time": "2022-01-17T07:40:55.785Z"
   },
   {
    "duration": 18,
    "start_time": "2022-01-17T07:41:09.142Z"
   },
   {
    "duration": 20,
    "start_time": "2022-01-17T07:41:14.610Z"
   },
   {
    "duration": 29,
    "start_time": "2022-01-17T07:41:48.233Z"
   },
   {
    "duration": 21,
    "start_time": "2022-01-17T07:41:51.286Z"
   },
   {
    "duration": 147,
    "start_time": "2022-01-17T07:41:53.793Z"
   },
   {
    "duration": 7,
    "start_time": "2022-01-17T07:41:53.943Z"
   },
   {
    "duration": 8,
    "start_time": "2022-01-17T07:41:53.953Z"
   },
   {
    "duration": 8,
    "start_time": "2022-01-17T07:41:53.964Z"
   },
   {
    "duration": 55,
    "start_time": "2022-01-17T07:41:53.975Z"
   },
   {
    "duration": 19,
    "start_time": "2022-01-17T07:41:54.033Z"
   },
   {
    "duration": 72,
    "start_time": "2022-01-17T07:41:54.055Z"
   },
   {
    "duration": 7,
    "start_time": "2022-01-17T07:41:54.131Z"
   },
   {
    "duration": 8,
    "start_time": "2022-01-17T07:41:54.141Z"
   },
   {
    "duration": 8,
    "start_time": "2022-01-17T07:41:54.151Z"
   },
   {
    "duration": 64,
    "start_time": "2022-01-17T07:41:54.161Z"
   },
   {
    "duration": 18,
    "start_time": "2022-01-17T07:41:54.228Z"
   },
   {
    "duration": 9,
    "start_time": "2022-01-17T07:41:54.248Z"
   },
   {
    "duration": 16,
    "start_time": "2022-01-17T07:41:54.260Z"
   },
   {
    "duration": 50,
    "start_time": "2022-01-17T07:41:54.279Z"
   },
   {
    "duration": 10,
    "start_time": "2022-01-17T07:41:54.332Z"
   },
   {
    "duration": 83,
    "start_time": "2022-01-17T07:41:54.344Z"
   },
   {
    "duration": 35,
    "start_time": "2022-01-17T07:41:54.429Z"
   },
   {
    "duration": 13,
    "start_time": "2022-01-17T07:41:54.467Z"
   },
   {
    "duration": 82,
    "start_time": "2022-01-17T07:41:54.482Z"
   },
   {
    "duration": 57,
    "start_time": "2022-01-17T07:41:54.566Z"
   },
   {
    "duration": 6,
    "start_time": "2022-01-17T07:41:54.626Z"
   },
   {
    "duration": 21,
    "start_time": "2022-01-17T07:41:54.638Z"
   },
   {
    "duration": 869,
    "start_time": "2022-01-17T07:41:54.662Z"
   },
   {
    "duration": 8,
    "start_time": "2022-01-17T07:41:55.534Z"
   },
   {
    "duration": 32,
    "start_time": "2022-01-17T07:41:55.545Z"
   },
   {
    "duration": 549,
    "start_time": "2022-01-17T07:41:55.579Z"
   },
   {
    "duration": 583,
    "start_time": "2022-01-17T07:41:56.131Z"
   },
   {
    "duration": 379,
    "start_time": "2022-01-17T07:41:56.716Z"
   },
   {
    "duration": 332,
    "start_time": "2022-01-17T07:41:57.097Z"
   },
   {
    "duration": 728,
    "start_time": "2022-01-17T07:41:57.432Z"
   },
   {
    "duration": 544,
    "start_time": "2022-01-17T07:41:58.162Z"
   },
   {
    "duration": 760,
    "start_time": "2022-01-17T07:41:58.709Z"
   },
   {
    "duration": 337,
    "start_time": "2022-01-17T07:41:59.472Z"
   },
   {
    "duration": 427,
    "start_time": "2022-01-17T07:41:59.812Z"
   },
   {
    "duration": 716,
    "start_time": "2022-01-17T07:42:00.242Z"
   },
   {
    "duration": 302,
    "start_time": "2022-01-17T07:42:00.960Z"
   },
   {
    "duration": 337,
    "start_time": "2022-01-17T07:42:01.264Z"
   },
   {
    "duration": 343,
    "start_time": "2022-01-17T07:42:01.604Z"
   },
   {
    "duration": 328,
    "start_time": "2022-01-17T07:42:01.949Z"
   },
   {
    "duration": 62,
    "start_time": "2022-01-17T07:42:02.279Z"
   },
   {
    "duration": 330,
    "start_time": "2022-01-17T07:42:02.343Z"
   },
   {
    "duration": 11,
    "start_time": "2022-01-17T07:42:02.675Z"
   },
   {
    "duration": 584,
    "start_time": "2022-01-17T07:42:02.689Z"
   },
   {
    "duration": 564,
    "start_time": "2022-01-17T07:42:03.276Z"
   },
   {
    "duration": 368,
    "start_time": "2022-01-17T07:42:03.843Z"
   },
   {
    "duration": 322,
    "start_time": "2022-01-17T07:42:04.222Z"
   },
   {
    "duration": 323,
    "start_time": "2022-01-17T07:42:04.547Z"
   },
   {
    "duration": 310,
    "start_time": "2022-01-17T07:42:04.873Z"
   },
   {
    "duration": 476,
    "start_time": "2022-01-17T07:42:05.185Z"
   },
   {
    "duration": 334,
    "start_time": "2022-01-17T07:42:05.664Z"
   },
   {
    "duration": 360,
    "start_time": "2022-01-17T07:42:06.001Z"
   },
   {
    "duration": 297,
    "start_time": "2022-01-17T07:42:06.363Z"
   },
   {
    "duration": 20,
    "start_time": "2022-01-17T07:42:19.926Z"
   },
   {
    "duration": 22,
    "start_time": "2022-01-17T07:42:46.038Z"
   },
   {
    "duration": 19,
    "start_time": "2022-01-17T07:43:01.160Z"
   },
   {
    "duration": 20,
    "start_time": "2022-01-17T07:43:17.222Z"
   },
   {
    "duration": 19,
    "start_time": "2022-01-17T07:46:46.731Z"
   },
   {
    "duration": 357,
    "start_time": "2022-01-17T07:47:01.268Z"
   },
   {
    "duration": 21,
    "start_time": "2022-01-17T07:47:28.966Z"
   },
   {
    "duration": 19,
    "start_time": "2022-01-17T07:48:40.360Z"
   },
   {
    "duration": 19,
    "start_time": "2022-01-17T07:48:52.903Z"
   },
   {
    "duration": 962,
    "start_time": "2022-01-17T07:52:47.087Z"
   },
   {
    "duration": 8,
    "start_time": "2022-01-17T07:52:48.827Z"
   },
   {
    "duration": 38,
    "start_time": "2022-01-17T07:52:50.688Z"
   },
   {
    "duration": 536,
    "start_time": "2022-01-17T07:58:03.348Z"
   },
   {
    "duration": 827,
    "start_time": "2022-01-17T07:59:09.621Z"
   },
   {
    "duration": 948,
    "start_time": "2022-01-17T07:59:27.125Z"
   },
   {
    "duration": 561,
    "start_time": "2022-01-17T08:00:22.018Z"
   },
   {
    "duration": 687,
    "start_time": "2022-01-17T08:03:41.114Z"
   },
   {
    "duration": 311,
    "start_time": "2022-01-17T08:03:58.401Z"
   },
   {
    "duration": 330,
    "start_time": "2022-01-17T08:04:16.538Z"
   },
   {
    "duration": 744,
    "start_time": "2022-01-17T08:05:07.053Z"
   },
   {
    "duration": 534,
    "start_time": "2022-01-17T08:05:29.400Z"
   },
   {
    "duration": 852,
    "start_time": "2022-01-17T08:05:44.677Z"
   },
   {
    "duration": 321,
    "start_time": "2022-01-17T08:06:28.777Z"
   },
   {
    "duration": 427,
    "start_time": "2022-01-17T08:06:57.561Z"
   },
   {
    "duration": 318,
    "start_time": "2022-01-17T08:07:06.952Z"
   },
   {
    "duration": 700,
    "start_time": "2022-01-17T08:07:22.648Z"
   },
   {
    "duration": 696,
    "start_time": "2022-01-17T08:07:58.666Z"
   },
   {
    "duration": 272,
    "start_time": "2022-01-17T08:09:22.854Z"
   },
   {
    "duration": 276,
    "start_time": "2022-01-17T08:09:33.798Z"
   },
   {
    "duration": 327,
    "start_time": "2022-01-17T08:10:10.149Z"
   },
   {
    "duration": 346,
    "start_time": "2022-01-17T08:10:25.991Z"
   },
   {
    "duration": 343,
    "start_time": "2022-01-17T08:10:39.683Z"
   },
   {
    "duration": 380,
    "start_time": "2022-01-17T08:10:47.952Z"
   },
   {
    "duration": 350,
    "start_time": "2022-01-17T08:11:06.916Z"
   },
   {
    "duration": 417,
    "start_time": "2022-01-17T08:11:49.892Z"
   },
   {
    "duration": 376,
    "start_time": "2022-01-17T08:12:03.117Z"
   },
   {
    "duration": 332,
    "start_time": "2022-01-17T08:12:32.541Z"
   },
   {
    "duration": 324,
    "start_time": "2022-01-17T08:12:43.165Z"
   },
   {
    "duration": 342,
    "start_time": "2022-01-17T08:12:53.245Z"
   },
   {
    "duration": 20,
    "start_time": "2022-01-17T08:13:19.521Z"
   },
   {
    "duration": 336,
    "start_time": "2022-01-17T08:48:37.050Z"
   },
   {
    "duration": 9164,
    "start_time": "2022-01-17T08:49:22.426Z"
   },
   {
    "duration": 16955,
    "start_time": "2022-01-17T08:50:12.453Z"
   },
   {
    "duration": 9193,
    "start_time": "2022-01-17T08:52:40.004Z"
   },
   {
    "duration": 319,
    "start_time": "2022-01-17T08:54:48.233Z"
   },
   {
    "duration": 14333,
    "start_time": "2022-01-17T08:54:55.315Z"
   },
   {
    "duration": -574,
    "start_time": "2022-01-17T08:56:14.845Z"
   },
   {
    "duration": 16911,
    "start_time": "2022-01-17T08:56:51.458Z"
   },
   {
    "duration": 510,
    "start_time": "2022-01-17T09:04:38.901Z"
   },
   {
    "duration": 541,
    "start_time": "2022-01-17T09:04:52.602Z"
   },
   {
    "duration": 130,
    "start_time": "2022-01-17T09:04:57.956Z"
   },
   {
    "duration": 9,
    "start_time": "2022-01-17T09:04:58.089Z"
   },
   {
    "duration": 29,
    "start_time": "2022-01-17T09:04:58.101Z"
   },
   {
    "duration": 8,
    "start_time": "2022-01-17T09:04:58.133Z"
   },
   {
    "duration": 10,
    "start_time": "2022-01-17T09:04:58.143Z"
   },
   {
    "duration": 73,
    "start_time": "2022-01-17T09:04:58.156Z"
   },
   {
    "duration": 42,
    "start_time": "2022-01-17T09:04:58.231Z"
   },
   {
    "duration": 10,
    "start_time": "2022-01-17T09:04:58.275Z"
   },
   {
    "duration": 38,
    "start_time": "2022-01-17T09:04:58.290Z"
   },
   {
    "duration": 13,
    "start_time": "2022-01-17T09:04:58.332Z"
   },
   {
    "duration": 20,
    "start_time": "2022-01-17T09:04:58.348Z"
   },
   {
    "duration": 53,
    "start_time": "2022-01-17T09:04:58.371Z"
   },
   {
    "duration": 8,
    "start_time": "2022-01-17T09:04:58.426Z"
   },
   {
    "duration": 22,
    "start_time": "2022-01-17T09:04:58.436Z"
   },
   {
    "duration": 6,
    "start_time": "2022-01-17T09:04:58.461Z"
   },
   {
    "duration": 12,
    "start_time": "2022-01-17T09:04:58.469Z"
   },
   {
    "duration": 79,
    "start_time": "2022-01-17T09:04:58.484Z"
   },
   {
    "duration": 60,
    "start_time": "2022-01-17T09:04:58.565Z"
   },
   {
    "duration": 13,
    "start_time": "2022-01-17T09:04:58.628Z"
   },
   {
    "duration": 45,
    "start_time": "2022-01-17T09:04:58.643Z"
   },
   {
    "duration": 72,
    "start_time": "2022-01-17T09:04:58.690Z"
   },
   {
    "duration": 8,
    "start_time": "2022-01-17T09:04:58.764Z"
   },
   {
    "duration": 21,
    "start_time": "2022-01-17T09:04:58.775Z"
   },
   {
    "duration": 830,
    "start_time": "2022-01-17T09:04:58.824Z"
   },
   {
    "duration": 8,
    "start_time": "2022-01-17T09:04:59.657Z"
   },
   {
    "duration": 45,
    "start_time": "2022-01-17T09:04:59.667Z"
   },
   {
    "duration": 554,
    "start_time": "2022-01-17T09:04:59.724Z"
   },
   {
    "duration": 577,
    "start_time": "2022-01-17T09:05:00.283Z"
   },
   {
    "duration": 347,
    "start_time": "2022-01-17T09:05:00.863Z"
   },
   {
    "duration": 362,
    "start_time": "2022-01-17T09:05:01.213Z"
   },
   {
    "duration": 776,
    "start_time": "2022-01-17T09:05:01.578Z"
   },
   {
    "duration": 538,
    "start_time": "2022-01-17T09:05:02.357Z"
   },
   {
    "duration": 1083,
    "start_time": "2022-01-17T09:05:02.897Z"
   },
   {
    "duration": 343,
    "start_time": "2022-01-17T09:05:03.983Z"
   },
   {
    "duration": 328,
    "start_time": "2022-01-17T09:05:04.329Z"
   },
   {
    "duration": 698,
    "start_time": "2022-01-17T09:05:04.660Z"
   },
   {
    "duration": 284,
    "start_time": "2022-01-17T09:05:05.361Z"
   },
   {
    "duration": 328,
    "start_time": "2022-01-17T09:05:05.647Z"
   },
   {
    "duration": 377,
    "start_time": "2022-01-17T09:05:05.978Z"
   },
   {
    "duration": 333,
    "start_time": "2022-01-17T09:05:06.358Z"
   },
   {
    "duration": 32,
    "start_time": "2022-01-17T09:05:06.694Z"
   },
   {
    "duration": 17389,
    "start_time": "2022-01-17T09:05:06.728Z"
   },
   {
    "duration": 49,
    "start_time": "2022-01-17T09:05:24.119Z"
   },
   {
    "duration": 343,
    "start_time": "2022-01-17T09:05:24.170Z"
   },
   {
    "duration": 17,
    "start_time": "2022-01-17T09:05:24.515Z"
   },
   {
    "duration": 813,
    "start_time": "2022-01-17T09:05:24.535Z"
   },
   {
    "duration": 545,
    "start_time": "2022-01-17T09:05:25.350Z"
   },
   {
    "duration": 293,
    "start_time": "2022-01-17T09:05:25.898Z"
   },
   {
    "duration": 329,
    "start_time": "2022-01-17T09:05:26.194Z"
   },
   {
    "duration": 317,
    "start_time": "2022-01-17T09:05:26.525Z"
   },
   {
    "duration": 294,
    "start_time": "2022-01-17T09:05:26.844Z"
   },
   {
    "duration": 437,
    "start_time": "2022-01-17T09:05:27.141Z"
   },
   {
    "duration": 313,
    "start_time": "2022-01-17T09:05:27.581Z"
   },
   {
    "duration": 401,
    "start_time": "2022-01-17T09:05:27.896Z"
   },
   {
    "duration": 429,
    "start_time": "2022-01-17T09:05:28.301Z"
   },
   {
    "duration": 335,
    "start_time": "2022-01-17T09:08:45.988Z"
   },
   {
    "duration": 309,
    "start_time": "2022-01-17T09:08:51.957Z"
   },
   {
    "duration": 550,
    "start_time": "2022-01-17T09:09:44.689Z"
   },
   {
    "duration": 545,
    "start_time": "2022-01-17T09:10:09.332Z"
   },
   {
    "duration": 529,
    "start_time": "2022-01-17T09:11:05.448Z"
   },
   {
    "duration": 528,
    "start_time": "2022-01-17T09:11:40.135Z"
   },
   {
    "duration": 579,
    "start_time": "2022-01-17T09:11:49.652Z"
   },
   {
    "duration": 153,
    "start_time": "2022-01-17T09:12:13.794Z"
   },
   {
    "duration": 8,
    "start_time": "2022-01-17T09:12:13.950Z"
   },
   {
    "duration": 9,
    "start_time": "2022-01-17T09:12:13.961Z"
   },
   {
    "duration": 50,
    "start_time": "2022-01-17T09:12:13.973Z"
   },
   {
    "duration": 10,
    "start_time": "2022-01-17T09:12:14.026Z"
   },
   {
    "duration": 22,
    "start_time": "2022-01-17T09:12:14.038Z"
   },
   {
    "duration": 73,
    "start_time": "2022-01-17T09:12:14.063Z"
   },
   {
    "duration": 7,
    "start_time": "2022-01-17T09:12:14.140Z"
   },
   {
    "duration": 9,
    "start_time": "2022-01-17T09:12:14.150Z"
   },
   {
    "duration": 7,
    "start_time": "2022-01-17T09:12:14.162Z"
   },
   {
    "duration": 59,
    "start_time": "2022-01-17T09:12:14.171Z"
   },
   {
    "duration": 15,
    "start_time": "2022-01-17T09:12:14.232Z"
   },
   {
    "duration": 8,
    "start_time": "2022-01-17T09:12:14.249Z"
   },
   {
    "duration": 14,
    "start_time": "2022-01-17T09:12:14.259Z"
   },
   {
    "duration": 50,
    "start_time": "2022-01-17T09:12:14.276Z"
   },
   {
    "duration": 10,
    "start_time": "2022-01-17T09:12:14.329Z"
   },
   {
    "duration": 51,
    "start_time": "2022-01-17T09:12:14.341Z"
   },
   {
    "duration": 60,
    "start_time": "2022-01-17T09:12:14.394Z"
   },
   {
    "duration": 13,
    "start_time": "2022-01-17T09:12:14.456Z"
   },
   {
    "duration": 76,
    "start_time": "2022-01-17T09:12:14.471Z"
   },
   {
    "duration": 39,
    "start_time": "2022-01-17T09:12:14.550Z"
   },
   {
    "duration": 32,
    "start_time": "2022-01-17T09:12:14.592Z"
   },
   {
    "duration": 20,
    "start_time": "2022-01-17T09:12:14.630Z"
   },
   {
    "duration": 1153,
    "start_time": "2022-01-17T09:12:14.653Z"
   },
   {
    "duration": 15,
    "start_time": "2022-01-17T09:12:15.808Z"
   },
   {
    "duration": 34,
    "start_time": "2022-01-17T09:12:15.825Z"
   },
   {
    "duration": 562,
    "start_time": "2022-01-17T09:12:15.861Z"
   },
   {
    "duration": 591,
    "start_time": "2022-01-17T09:12:16.425Z"
   },
   {
    "duration": 331,
    "start_time": "2022-01-17T09:12:17.023Z"
   },
   {
    "duration": 340,
    "start_time": "2022-01-17T09:12:17.356Z"
   },
   {
    "duration": 771,
    "start_time": "2022-01-17T09:12:17.699Z"
   },
   {
    "duration": 526,
    "start_time": "2022-01-17T09:12:18.472Z"
   },
   {
    "duration": 795,
    "start_time": "2022-01-17T09:12:19.001Z"
   },
   {
    "duration": 337,
    "start_time": "2022-01-17T09:12:19.799Z"
   },
   {
    "duration": 343,
    "start_time": "2022-01-17T09:12:20.138Z"
   },
   {
    "duration": 681,
    "start_time": "2022-01-17T09:12:20.483Z"
   },
   {
    "duration": 290,
    "start_time": "2022-01-17T09:12:21.166Z"
   },
   {
    "duration": 326,
    "start_time": "2022-01-17T09:12:21.458Z"
   },
   {
    "duration": 372,
    "start_time": "2022-01-17T09:12:21.786Z"
   },
   {
    "duration": 335,
    "start_time": "2022-01-17T09:12:22.160Z"
   },
   {
    "duration": 31,
    "start_time": "2022-01-17T09:12:22.498Z"
   },
   {
    "duration": 16969,
    "start_time": "2022-01-17T09:12:22.531Z"
   },
   {
    "duration": 62,
    "start_time": "2022-01-17T09:12:39.502Z"
   },
   {
    "duration": 348,
    "start_time": "2022-01-17T09:12:39.567Z"
   },
   {
    "duration": 14,
    "start_time": "2022-01-17T09:12:39.922Z"
   },
   {
    "duration": 567,
    "start_time": "2022-01-17T09:12:39.939Z"
   },
   {
    "duration": 562,
    "start_time": "2022-01-17T09:12:40.508Z"
   },
   {
    "duration": 292,
    "start_time": "2022-01-17T09:12:41.073Z"
   },
   {
    "duration": 330,
    "start_time": "2022-01-17T09:12:41.369Z"
   },
   {
    "duration": 329,
    "start_time": "2022-01-17T09:12:41.701Z"
   },
   {
    "duration": 293,
    "start_time": "2022-01-17T09:12:42.032Z"
   },
   {
    "duration": 457,
    "start_time": "2022-01-17T09:12:42.328Z"
   },
   {
    "duration": 338,
    "start_time": "2022-01-17T09:12:42.787Z"
   },
   {
    "duration": 359,
    "start_time": "2022-01-17T09:12:43.128Z"
   },
   {
    "duration": 322,
    "start_time": "2022-01-17T09:12:43.489Z"
   },
   {
    "duration": 272,
    "start_time": "2022-01-17T09:13:08.683Z"
   },
   {
    "duration": 302,
    "start_time": "2022-01-17T09:13:27.790Z"
   },
   {
    "duration": 326,
    "start_time": "2022-01-17T09:13:54.660Z"
   },
   {
    "duration": 307,
    "start_time": "2022-01-17T09:14:09.404Z"
   },
   {
    "duration": 297,
    "start_time": "2022-01-17T09:14:35.081Z"
   },
   {
    "duration": 521,
    "start_time": "2022-01-17T09:15:02.776Z"
   },
   {
    "duration": 329,
    "start_time": "2022-01-17T09:15:39.172Z"
   },
   {
    "duration": 352,
    "start_time": "2022-01-17T09:15:49.310Z"
   },
   {
    "duration": 305,
    "start_time": "2022-01-17T09:16:08.252Z"
   },
   {
    "duration": 16,
    "start_time": "2022-01-17T09:18:14.526Z"
   },
   {
    "duration": 11380,
    "start_time": "2022-01-17T09:27:54.396Z"
   },
   {
    "duration": 364,
    "start_time": "2022-01-22T23:59:27.130Z"
   },
   {
    "duration": 1031,
    "start_time": "2022-01-22T23:59:30.781Z"
   },
   {
    "duration": 11,
    "start_time": "2022-01-22T23:59:31.815Z"
   },
   {
    "duration": 9,
    "start_time": "2022-01-22T23:59:31.829Z"
   },
   {
    "duration": 35,
    "start_time": "2022-01-22T23:59:31.840Z"
   },
   {
    "duration": 10,
    "start_time": "2022-01-22T23:59:31.877Z"
   },
   {
    "duration": 23,
    "start_time": "2022-01-22T23:59:31.889Z"
   },
   {
    "duration": 78,
    "start_time": "2022-01-22T23:59:31.914Z"
   },
   {
    "duration": 8,
    "start_time": "2022-01-22T23:59:31.996Z"
   },
   {
    "duration": 11,
    "start_time": "2022-01-22T23:59:32.007Z"
   },
   {
    "duration": 15,
    "start_time": "2022-01-22T23:59:32.020Z"
   },
   {
    "duration": 44,
    "start_time": "2022-01-22T23:59:32.038Z"
   },
   {
    "duration": 16,
    "start_time": "2022-01-22T23:59:32.084Z"
   },
   {
    "duration": 13,
    "start_time": "2022-01-22T23:59:32.102Z"
   },
   {
    "duration": 12,
    "start_time": "2022-01-22T23:59:32.118Z"
   },
   {
    "duration": 40,
    "start_time": "2022-01-22T23:59:32.133Z"
   },
   {
    "duration": 9,
    "start_time": "2022-01-22T23:59:32.176Z"
   },
   {
    "duration": 83,
    "start_time": "2022-01-22T23:59:32.188Z"
   },
   {
    "duration": 41,
    "start_time": "2022-01-22T23:59:32.273Z"
   },
   {
    "duration": 15,
    "start_time": "2022-01-22T23:59:32.316Z"
   },
   {
    "duration": 58,
    "start_time": "2022-01-22T23:59:32.369Z"
   },
   {
    "duration": 64,
    "start_time": "2022-01-22T23:59:32.430Z"
   },
   {
    "duration": 6,
    "start_time": "2022-01-22T23:59:32.497Z"
   },
   {
    "duration": 21,
    "start_time": "2022-01-22T23:59:32.508Z"
   },
   {
    "duration": 928,
    "start_time": "2022-01-22T23:59:32.532Z"
   },
   {
    "duration": 13,
    "start_time": "2022-01-22T23:59:33.462Z"
   },
   {
    "duration": 35,
    "start_time": "2022-01-22T23:59:33.477Z"
   },
   {
    "duration": 1060,
    "start_time": "2022-01-22T23:59:33.515Z"
   },
   {
    "duration": -1080,
    "start_time": "2022-01-22T23:59:35.657Z"
   },
   {
    "duration": -1094,
    "start_time": "2022-01-22T23:59:35.672Z"
   },
   {
    "duration": -1096,
    "start_time": "2022-01-22T23:59:35.676Z"
   },
   {
    "duration": -1098,
    "start_time": "2022-01-22T23:59:35.679Z"
   },
   {
    "duration": -1100,
    "start_time": "2022-01-22T23:59:35.683Z"
   },
   {
    "duration": -1104,
    "start_time": "2022-01-22T23:59:35.688Z"
   },
   {
    "duration": -1106,
    "start_time": "2022-01-22T23:59:35.691Z"
   },
   {
    "duration": -1108,
    "start_time": "2022-01-22T23:59:35.695Z"
   },
   {
    "duration": -1111,
    "start_time": "2022-01-22T23:59:35.699Z"
   },
   {
    "duration": -1113,
    "start_time": "2022-01-22T23:59:35.702Z"
   },
   {
    "duration": -1120,
    "start_time": "2022-01-22T23:59:35.711Z"
   },
   {
    "duration": -1123,
    "start_time": "2022-01-22T23:59:35.715Z"
   },
   {
    "duration": -1125,
    "start_time": "2022-01-22T23:59:35.718Z"
   },
   {
    "duration": -1127,
    "start_time": "2022-01-22T23:59:35.722Z"
   },
   {
    "duration": -1129,
    "start_time": "2022-01-22T23:59:35.726Z"
   },
   {
    "duration": -1132,
    "start_time": "2022-01-22T23:59:35.730Z"
   },
   {
    "duration": -1139,
    "start_time": "2022-01-22T23:59:35.738Z"
   },
   {
    "duration": -1148,
    "start_time": "2022-01-22T23:59:35.749Z"
   },
   {
    "duration": -1152,
    "start_time": "2022-01-22T23:59:35.754Z"
   },
   {
    "duration": -1155,
    "start_time": "2022-01-22T23:59:35.758Z"
   },
   {
    "duration": -1157,
    "start_time": "2022-01-22T23:59:35.762Z"
   },
   {
    "duration": -1160,
    "start_time": "2022-01-22T23:59:35.766Z"
   },
   {
    "duration": -1163,
    "start_time": "2022-01-22T23:59:35.770Z"
   },
   {
    "duration": -1165,
    "start_time": "2022-01-22T23:59:35.774Z"
   },
   {
    "duration": -1167,
    "start_time": "2022-01-22T23:59:35.777Z"
   },
   {
    "duration": -1171,
    "start_time": "2022-01-22T23:59:35.782Z"
   },
   {
    "duration": -1177,
    "start_time": "2022-01-22T23:59:35.789Z"
   },
   {
    "duration": -1124,
    "start_time": "2022-01-22T23:59:35.793Z"
   },
   {
    "duration": -1128,
    "start_time": "2022-01-22T23:59:35.798Z"
   },
   {
    "duration": -1130,
    "start_time": "2022-01-22T23:59:35.802Z"
   },
   {
    "duration": 951,
    "start_time": "2022-01-23T18:08:33.858Z"
   },
   {
    "duration": 10,
    "start_time": "2022-01-23T18:08:34.811Z"
   },
   {
    "duration": 8,
    "start_time": "2022-01-23T18:08:34.824Z"
   },
   {
    "duration": 6,
    "start_time": "2022-01-23T18:08:34.841Z"
   },
   {
    "duration": 6,
    "start_time": "2022-01-23T18:08:34.849Z"
   },
   {
    "duration": 14,
    "start_time": "2022-01-23T18:08:34.856Z"
   },
   {
    "duration": 25,
    "start_time": "2022-01-23T18:08:34.872Z"
   },
   {
    "duration": 7,
    "start_time": "2022-01-23T18:08:34.899Z"
   },
   {
    "duration": 8,
    "start_time": "2022-01-23T18:08:34.942Z"
   },
   {
    "duration": 8,
    "start_time": "2022-01-23T18:08:34.952Z"
   },
   {
    "duration": 22,
    "start_time": "2022-01-23T18:08:34.962Z"
   },
   {
    "duration": 13,
    "start_time": "2022-01-23T18:08:34.985Z"
   },
   {
    "duration": 10,
    "start_time": "2022-01-23T18:08:35.000Z"
   },
   {
    "duration": 36,
    "start_time": "2022-01-23T18:08:35.011Z"
   },
   {
    "duration": 9,
    "start_time": "2022-01-23T18:08:35.049Z"
   },
   {
    "duration": 12,
    "start_time": "2022-01-23T18:08:35.059Z"
   },
   {
    "duration": 34,
    "start_time": "2022-01-23T18:08:35.073Z"
   },
   {
    "duration": 54,
    "start_time": "2022-01-23T18:08:35.109Z"
   },
   {
    "duration": 11,
    "start_time": "2022-01-23T18:08:35.165Z"
   },
   {
    "duration": 32,
    "start_time": "2022-01-23T18:08:35.178Z"
   },
   {
    "duration": 30,
    "start_time": "2022-01-23T18:08:35.242Z"
   },
   {
    "duration": 5,
    "start_time": "2022-01-23T18:08:35.275Z"
   },
   {
    "duration": 17,
    "start_time": "2022-01-23T18:08:35.284Z"
   },
   {
    "duration": 562,
    "start_time": "2022-01-23T18:08:35.304Z"
   },
   {
    "duration": 6,
    "start_time": "2022-01-23T18:08:35.868Z"
   },
   {
    "duration": 23,
    "start_time": "2022-01-23T18:08:35.876Z"
   },
   {
    "duration": 687,
    "start_time": "2022-01-23T18:08:35.900Z"
   },
   {
    "duration": -150,
    "start_time": "2022-01-23T18:08:36.740Z"
   },
   {
    "duration": -155,
    "start_time": "2022-01-23T18:08:36.746Z"
   },
   {
    "duration": -158,
    "start_time": "2022-01-23T18:08:36.751Z"
   },
   {
    "duration": -161,
    "start_time": "2022-01-23T18:08:36.755Z"
   },
   {
    "duration": -165,
    "start_time": "2022-01-23T18:08:36.760Z"
   },
   {
    "duration": -169,
    "start_time": "2022-01-23T18:08:36.766Z"
   },
   {
    "duration": -172,
    "start_time": "2022-01-23T18:08:36.770Z"
   },
   {
    "duration": -174,
    "start_time": "2022-01-23T18:08:36.774Z"
   },
   {
    "duration": -178,
    "start_time": "2022-01-23T18:08:36.779Z"
   },
   {
    "duration": -186,
    "start_time": "2022-01-23T18:08:36.789Z"
   },
   {
    "duration": -190,
    "start_time": "2022-01-23T18:08:36.794Z"
   },
   {
    "duration": -193,
    "start_time": "2022-01-23T18:08:36.799Z"
   },
   {
    "duration": -197,
    "start_time": "2022-01-23T18:08:36.804Z"
   },
   {
    "duration": -200,
    "start_time": "2022-01-23T18:08:36.808Z"
   },
   {
    "duration": -173,
    "start_time": "2022-01-23T18:08:36.814Z"
   },
   {
    "duration": -176,
    "start_time": "2022-01-23T18:08:36.819Z"
   },
   {
    "duration": -179,
    "start_time": "2022-01-23T18:08:36.824Z"
   },
   {
    "duration": -182,
    "start_time": "2022-01-23T18:08:36.828Z"
   },
   {
    "duration": -186,
    "start_time": "2022-01-23T18:08:36.832Z"
   },
   {
    "duration": -190,
    "start_time": "2022-01-23T18:08:36.837Z"
   },
   {
    "duration": -193,
    "start_time": "2022-01-23T18:08:36.841Z"
   },
   {
    "duration": -197,
    "start_time": "2022-01-23T18:08:36.846Z"
   },
   {
    "duration": -199,
    "start_time": "2022-01-23T18:08:36.849Z"
   },
   {
    "duration": -202,
    "start_time": "2022-01-23T18:08:36.853Z"
   },
   {
    "duration": -205,
    "start_time": "2022-01-23T18:08:36.857Z"
   },
   {
    "duration": -208,
    "start_time": "2022-01-23T18:08:36.861Z"
   },
   {
    "duration": -211,
    "start_time": "2022-01-23T18:08:36.865Z"
   },
   {
    "duration": -214,
    "start_time": "2022-01-23T18:08:36.869Z"
   },
   {
    "duration": -217,
    "start_time": "2022-01-23T18:08:36.872Z"
   },
   {
    "duration": -226,
    "start_time": "2022-01-23T18:08:36.882Z"
   },
   {
    "duration": 196,
    "start_time": "2022-01-23T18:09:33.842Z"
   },
   {
    "duration": 104,
    "start_time": "2022-01-23T18:09:38.819Z"
   },
   {
    "duration": 7,
    "start_time": "2022-01-23T18:09:38.942Z"
   },
   {
    "duration": 5,
    "start_time": "2022-01-23T18:09:38.952Z"
   },
   {
    "duration": 13,
    "start_time": "2022-01-23T18:09:38.959Z"
   },
   {
    "duration": 6,
    "start_time": "2022-01-23T18:09:38.974Z"
   },
   {
    "duration": 17,
    "start_time": "2022-01-23T18:09:38.982Z"
   },
   {
    "duration": 58,
    "start_time": "2022-01-23T18:09:39.001Z"
   },
   {
    "duration": 6,
    "start_time": "2022-01-23T18:09:39.062Z"
   },
   {
    "duration": 7,
    "start_time": "2022-01-23T18:09:39.070Z"
   },
   {
    "duration": 7,
    "start_time": "2022-01-23T18:09:39.079Z"
   },
   {
    "duration": 13,
    "start_time": "2022-01-23T18:09:39.088Z"
   },
   {
    "duration": 45,
    "start_time": "2022-01-23T18:09:39.102Z"
   },
   {
    "duration": 6,
    "start_time": "2022-01-23T18:09:39.148Z"
   },
   {
    "duration": 13,
    "start_time": "2022-01-23T18:09:39.155Z"
   },
   {
    "duration": 4,
    "start_time": "2022-01-23T18:09:39.170Z"
   },
   {
    "duration": 8,
    "start_time": "2022-01-23T18:09:39.176Z"
   },
   {
    "duration": 56,
    "start_time": "2022-01-23T18:09:39.186Z"
   },
   {
    "duration": 27,
    "start_time": "2022-01-23T18:09:39.243Z"
   },
   {
    "duration": 10,
    "start_time": "2022-01-23T18:09:39.272Z"
   },
   {
    "duration": 59,
    "start_time": "2022-01-23T18:09:39.284Z"
   },
   {
    "duration": 29,
    "start_time": "2022-01-23T18:09:39.345Z"
   },
   {
    "duration": 6,
    "start_time": "2022-01-23T18:09:39.375Z"
   },
   {
    "duration": 22,
    "start_time": "2022-01-23T18:09:39.384Z"
   },
   {
    "duration": 541,
    "start_time": "2022-01-23T18:09:39.408Z"
   },
   {
    "duration": 6,
    "start_time": "2022-01-23T18:09:39.951Z"
   },
   {
    "duration": 35,
    "start_time": "2022-01-23T18:09:39.959Z"
   },
   {
    "duration": 552,
    "start_time": "2022-01-23T18:09:39.995Z"
   },
   {
    "duration": -163,
    "start_time": "2022-01-23T18:09:40.712Z"
   },
   {
    "duration": -167,
    "start_time": "2022-01-23T18:09:40.717Z"
   },
   {
    "duration": -172,
    "start_time": "2022-01-23T18:09:40.722Z"
   },
   {
    "duration": -182,
    "start_time": "2022-01-23T18:09:40.733Z"
   },
   {
    "duration": -186,
    "start_time": "2022-01-23T18:09:40.738Z"
   },
   {
    "duration": -190,
    "start_time": "2022-01-23T18:09:40.743Z"
   },
   {
    "duration": -194,
    "start_time": "2022-01-23T18:09:40.748Z"
   },
   {
    "duration": -199,
    "start_time": "2022-01-23T18:09:40.754Z"
   },
   {
    "duration": -203,
    "start_time": "2022-01-23T18:09:40.759Z"
   },
   {
    "duration": -208,
    "start_time": "2022-01-23T18:09:40.764Z"
   },
   {
    "duration": -212,
    "start_time": "2022-01-23T18:09:40.769Z"
   },
   {
    "duration": -216,
    "start_time": "2022-01-23T18:09:40.774Z"
   },
   {
    "duration": -221,
    "start_time": "2022-01-23T18:09:40.780Z"
   },
   {
    "duration": -224,
    "start_time": "2022-01-23T18:09:40.784Z"
   },
   {
    "duration": -228,
    "start_time": "2022-01-23T18:09:40.789Z"
   },
   {
    "duration": -232,
    "start_time": "2022-01-23T18:09:40.794Z"
   },
   {
    "duration": -236,
    "start_time": "2022-01-23T18:09:40.798Z"
   },
   {
    "duration": -239,
    "start_time": "2022-01-23T18:09:40.803Z"
   },
   {
    "duration": -242,
    "start_time": "2022-01-23T18:09:40.807Z"
   },
   {
    "duration": -245,
    "start_time": "2022-01-23T18:09:40.811Z"
   },
   {
    "duration": -251,
    "start_time": "2022-01-23T18:09:40.817Z"
   },
   {
    "duration": -254,
    "start_time": "2022-01-23T18:09:40.821Z"
   },
   {
    "duration": -256,
    "start_time": "2022-01-23T18:09:40.825Z"
   },
   {
    "duration": -260,
    "start_time": "2022-01-23T18:09:40.830Z"
   },
   {
    "duration": -270,
    "start_time": "2022-01-23T18:09:40.842Z"
   },
   {
    "duration": -273,
    "start_time": "2022-01-23T18:09:40.846Z"
   },
   {
    "duration": -275,
    "start_time": "2022-01-23T18:09:40.850Z"
   },
   {
    "duration": -278,
    "start_time": "2022-01-23T18:09:40.854Z"
   },
   {
    "duration": -287,
    "start_time": "2022-01-23T18:09:40.864Z"
   },
   {
    "duration": -293,
    "start_time": "2022-01-23T18:09:40.871Z"
   },
   {
    "duration": 100,
    "start_time": "2022-01-23T18:09:49.154Z"
   },
   {
    "duration": 7,
    "start_time": "2022-01-23T18:09:51.422Z"
   },
   {
    "duration": 7,
    "start_time": "2022-01-23T18:09:52.656Z"
   },
   {
    "duration": 7,
    "start_time": "2022-01-23T18:09:52.860Z"
   },
   {
    "duration": 8,
    "start_time": "2022-01-23T18:09:53.392Z"
   },
   {
    "duration": 16,
    "start_time": "2022-01-23T18:09:53.778Z"
   },
   {
    "duration": 26,
    "start_time": "2022-01-23T18:09:54.201Z"
   },
   {
    "duration": 7,
    "start_time": "2022-01-23T18:09:54.378Z"
   },
   {
    "duration": 6,
    "start_time": "2022-01-23T18:09:54.592Z"
   },
   {
    "duration": 7,
    "start_time": "2022-01-23T18:09:54.778Z"
   },
   {
    "duration": 13,
    "start_time": "2022-01-23T18:09:55.121Z"
   },
   {
    "duration": 15,
    "start_time": "2022-01-23T18:09:55.494Z"
   },
   {
    "duration": 6,
    "start_time": "2022-01-23T18:09:55.842Z"
   },
   {
    "duration": 10,
    "start_time": "2022-01-23T18:09:56.605Z"
   },
   {
    "duration": 6,
    "start_time": "2022-01-23T18:09:56.873Z"
   },
   {
    "duration": 7,
    "start_time": "2022-01-23T18:09:57.495Z"
   },
   {
    "duration": 31,
    "start_time": "2022-01-23T18:09:58.511Z"
   },
   {
    "duration": 27,
    "start_time": "2022-01-23T18:10:00.268Z"
   },
   {
    "duration": 10,
    "start_time": "2022-01-23T18:10:03.025Z"
   },
   {
    "duration": 33,
    "start_time": "2022-01-23T18:10:05.192Z"
   },
   {
    "duration": 31,
    "start_time": "2022-01-23T18:10:05.959Z"
   },
   {
    "duration": 5,
    "start_time": "2022-01-23T18:10:08.801Z"
   },
   {
    "duration": 15,
    "start_time": "2022-01-23T18:10:10.848Z"
   },
   {
    "duration": 516,
    "start_time": "2022-01-23T18:10:12.910Z"
   },
   {
    "duration": 8,
    "start_time": "2022-01-23T18:10:14.162Z"
   },
   {
    "duration": 23,
    "start_time": "2022-01-23T18:10:15.277Z"
   },
   {
    "duration": 523,
    "start_time": "2022-01-23T18:10:18.095Z"
   },
   {
    "duration": 648,
    "start_time": "2022-01-23T18:11:03.276Z"
   },
   {
    "duration": 8,
    "start_time": "2022-01-23T18:11:06.049Z"
   },
   {
    "duration": 7,
    "start_time": "2022-01-23T18:11:06.487Z"
   },
   {
    "duration": 6,
    "start_time": "2022-01-23T18:11:06.631Z"
   },
   {
    "duration": 7,
    "start_time": "2022-01-23T18:11:06.775Z"
   },
   {
    "duration": 17,
    "start_time": "2022-01-23T18:11:07.184Z"
   },
   {
    "duration": 25,
    "start_time": "2022-01-23T18:11:07.231Z"
   },
   {
    "duration": 7,
    "start_time": "2022-01-23T18:11:07.399Z"
   },
   {
    "duration": 6,
    "start_time": "2022-01-23T18:11:07.575Z"
   },
   {
    "duration": 6,
    "start_time": "2022-01-23T18:11:07.736Z"
   },
   {
    "duration": 14,
    "start_time": "2022-01-23T18:11:08.030Z"
   },
   {
    "duration": 13,
    "start_time": "2022-01-23T18:11:08.331Z"
   },
   {
    "duration": 6,
    "start_time": "2022-01-23T18:11:08.619Z"
   },
   {
    "duration": 11,
    "start_time": "2022-01-23T18:11:09.078Z"
   },
   {
    "duration": 6,
    "start_time": "2022-01-23T18:11:09.537Z"
   },
   {
    "duration": 7,
    "start_time": "2022-01-23T18:11:10.105Z"
   },
   {
    "duration": 31,
    "start_time": "2022-01-23T18:11:10.267Z"
   },
   {
    "duration": 26,
    "start_time": "2022-01-23T18:11:10.910Z"
   },
   {
    "duration": 11,
    "start_time": "2022-01-23T18:11:12.452Z"
   },
   {
    "duration": 31,
    "start_time": "2022-01-23T18:11:13.576Z"
   },
   {
    "duration": 31,
    "start_time": "2022-01-23T18:11:13.837Z"
   },
   {
    "duration": 6,
    "start_time": "2022-01-23T18:11:16.237Z"
   },
   {
    "duration": 15,
    "start_time": "2022-01-23T18:11:17.200Z"
   },
   {
    "duration": 569,
    "start_time": "2022-01-23T18:11:20.390Z"
   },
   {
    "duration": 7,
    "start_time": "2022-01-23T18:11:23.429Z"
   },
   {
    "duration": 23,
    "start_time": "2022-01-23T18:11:24.316Z"
   },
   {
    "duration": 307,
    "start_time": "2022-01-23T18:11:26.726Z"
   },
   {
    "duration": 330,
    "start_time": "2022-01-23T18:11:30.782Z"
   },
   {
    "duration": 195,
    "start_time": "2022-01-23T18:11:32.507Z"
   },
   {
    "duration": 194,
    "start_time": "2022-01-23T18:11:33.508Z"
   },
   {
    "duration": 478,
    "start_time": "2022-01-23T18:11:35.516Z"
   },
   {
    "duration": 312,
    "start_time": "2022-01-23T18:11:39.190Z"
   },
   {
    "duration": 544,
    "start_time": "2022-01-23T18:11:41.123Z"
   },
   {
    "duration": 195,
    "start_time": "2022-01-23T18:11:44.295Z"
   },
   {
    "duration": 195,
    "start_time": "2022-01-23T18:11:46.411Z"
   },
   {
    "duration": 471,
    "start_time": "2022-01-23T18:11:48.048Z"
   },
   {
    "duration": 159,
    "start_time": "2022-01-23T18:11:48.825Z"
   },
   {
    "duration": 181,
    "start_time": "2022-01-23T18:11:55.186Z"
   },
   {
    "duration": 210,
    "start_time": "2022-01-23T18:11:55.368Z"
   },
   {
    "duration": 196,
    "start_time": "2022-01-23T18:11:55.580Z"
   },
   {
    "duration": 13,
    "start_time": "2022-01-23T18:11:59.302Z"
   },
   {
    "duration": 12033,
    "start_time": "2022-01-23T18:12:04.603Z"
   }
  ],
  "kernelspec": {
   "display_name": "Python 3 (ipykernel)",
   "language": "python",
   "name": "python3"
  },
  "language_info": {
   "codemirror_mode": {
    "name": "ipython",
    "version": 3
   },
   "file_extension": ".py",
   "mimetype": "text/x-python",
   "name": "python",
   "nbconvert_exporter": "python",
   "pygments_lexer": "ipython3",
   "version": "3.9.5"
  },
  "toc": {
   "base_numbering": 1,
   "nav_menu": {},
   "number_sections": true,
   "sideBar": true,
   "skip_h1_title": true,
   "title_cell": "Содержание",
   "title_sidebar": "Contents",
   "toc_cell": true,
   "toc_position": {
    "height": "calc(100% - 180px)",
    "left": "10px",
    "top": "150px",
    "width": "165px"
   },
   "toc_section_display": true,
   "toc_window_display": true
  }
 },
 "nbformat": 4,
 "nbformat_minor": 2
}
